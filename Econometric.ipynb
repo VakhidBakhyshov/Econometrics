{
 "cells": [
  {
   "cell_type": "code",
   "execution_count": 2,
   "id": "0358d0f0",
   "metadata": {},
   "outputs": [],
   "source": [
    "import pandas as pd\n",
    "import numpy as np\n",
    "import yfinance as yf\n",
    "import requests\n",
    "import plotly.express as px\n",
    "import datetime\n",
    "import bs4 as bs"
   ]
  },
  {
   "cell_type": "code",
   "execution_count": 3,
   "id": "fd95c2c7",
   "metadata": {},
   "outputs": [],
   "source": [
    "import statsmodels.api as sm\n"
   ]
  },
  {
   "cell_type": "code",
   "execution_count": null,
   "id": "e692dbf2",
   "metadata": {},
   "outputs": [],
   "source": []
  },
  {
   "cell_type": "code",
   "execution_count": null,
   "id": "670dcd1e",
   "metadata": {},
   "outputs": [],
   "source": []
  },
  {
   "cell_type": "code",
   "execution_count": 6,
   "id": "861656e6",
   "metadata": {},
   "outputs": [
    {
     "name": "stderr",
     "output_type": "stream",
     "text": [
      "[*********************100%%**********************]  1 of 1 completed\n"
     ]
    },
    {
     "data": {
      "text/html": [
       "<div>\n",
       "<style scoped>\n",
       "    .dataframe tbody tr th:only-of-type {\n",
       "        vertical-align: middle;\n",
       "    }\n",
       "\n",
       "    .dataframe tbody tr th {\n",
       "        vertical-align: top;\n",
       "    }\n",
       "\n",
       "    .dataframe thead th {\n",
       "        text-align: right;\n",
       "    }\n",
       "</style>\n",
       "<table border=\"1\" class=\"dataframe\">\n",
       "  <thead>\n",
       "    <tr style=\"text-align: right;\">\n",
       "      <th></th>\n",
       "      <th>Open</th>\n",
       "      <th>High</th>\n",
       "      <th>Low</th>\n",
       "      <th>Close</th>\n",
       "      <th>Adj Close</th>\n",
       "      <th>Volume</th>\n",
       "    </tr>\n",
       "    <tr>\n",
       "      <th>Date</th>\n",
       "      <th></th>\n",
       "      <th></th>\n",
       "      <th></th>\n",
       "      <th></th>\n",
       "      <th></th>\n",
       "      <th></th>\n",
       "    </tr>\n",
       "  </thead>\n",
       "  <tbody>\n",
       "    <tr>\n",
       "      <th>2020-01-13</th>\n",
       "      <td>38.793331</td>\n",
       "      <td>38.849998</td>\n",
       "      <td>38.456669</td>\n",
       "      <td>38.626667</td>\n",
       "      <td>36.142704</td>\n",
       "      <td>18337800</td>\n",
       "    </tr>\n",
       "    <tr>\n",
       "      <th>2020-01-14</th>\n",
       "      <td>38.490002</td>\n",
       "      <td>38.736668</td>\n",
       "      <td>38.376667</td>\n",
       "      <td>38.726665</td>\n",
       "      <td>36.236275</td>\n",
       "      <td>19757400</td>\n",
       "    </tr>\n",
       "    <tr>\n",
       "      <th>2020-01-15</th>\n",
       "      <td>38.209999</td>\n",
       "      <td>38.623333</td>\n",
       "      <td>38.173332</td>\n",
       "      <td>38.426666</td>\n",
       "      <td>35.955570</td>\n",
       "      <td>22362600</td>\n",
       "    </tr>\n",
       "    <tr>\n",
       "      <th>2020-01-16</th>\n",
       "      <td>38.500000</td>\n",
       "      <td>38.643333</td>\n",
       "      <td>38.426666</td>\n",
       "      <td>38.633331</td>\n",
       "      <td>36.148949</td>\n",
       "      <td>16108200</td>\n",
       "    </tr>\n",
       "    <tr>\n",
       "      <th>2020-01-17</th>\n",
       "      <td>38.683334</td>\n",
       "      <td>38.766666</td>\n",
       "      <td>38.213333</td>\n",
       "      <td>38.320000</td>\n",
       "      <td>35.855762</td>\n",
       "      <td>30135000</td>\n",
       "    </tr>\n",
       "    <tr>\n",
       "      <th>...</th>\n",
       "      <td>...</td>\n",
       "      <td>...</td>\n",
       "      <td>...</td>\n",
       "      <td>...</td>\n",
       "      <td>...</td>\n",
       "      <td>...</td>\n",
       "    </tr>\n",
       "    <tr>\n",
       "      <th>2023-04-28</th>\n",
       "      <td>50.430000</td>\n",
       "      <td>50.723331</td>\n",
       "      <td>50.060001</td>\n",
       "      <td>50.323334</td>\n",
       "      <td>49.601517</td>\n",
       "      <td>14088600</td>\n",
       "    </tr>\n",
       "    <tr>\n",
       "      <th>2023-05-01</th>\n",
       "      <td>50.346668</td>\n",
       "      <td>50.846668</td>\n",
       "      <td>50.310001</td>\n",
       "      <td>50.529999</td>\n",
       "      <td>49.805222</td>\n",
       "      <td>11409600</td>\n",
       "    </tr>\n",
       "    <tr>\n",
       "      <th>2023-05-02</th>\n",
       "      <td>50.490002</td>\n",
       "      <td>50.496666</td>\n",
       "      <td>49.820000</td>\n",
       "      <td>50.393333</td>\n",
       "      <td>49.670517</td>\n",
       "      <td>11329500</td>\n",
       "    </tr>\n",
       "    <tr>\n",
       "      <th>2023-05-03</th>\n",
       "      <td>50.520000</td>\n",
       "      <td>50.700001</td>\n",
       "      <td>50.090000</td>\n",
       "      <td>50.206669</td>\n",
       "      <td>49.486530</td>\n",
       "      <td>12334500</td>\n",
       "    </tr>\n",
       "    <tr>\n",
       "      <th>2023-05-04</th>\n",
       "      <td>50.183334</td>\n",
       "      <td>50.330002</td>\n",
       "      <td>49.830002</td>\n",
       "      <td>50.156666</td>\n",
       "      <td>49.625038</td>\n",
       "      <td>14011200</td>\n",
       "    </tr>\n",
       "  </tbody>\n",
       "</table>\n",
       "<p>834 rows × 6 columns</p>\n",
       "</div>"
      ],
      "text/plain": [
       "                 Open       High        Low      Close  Adj Close    Volume\n",
       "Date                                                                       \n",
       "2020-01-13  38.793331  38.849998  38.456669  38.626667  36.142704  18337800\n",
       "2020-01-14  38.490002  38.736668  38.376667  38.726665  36.236275  19757400\n",
       "2020-01-15  38.209999  38.623333  38.173332  38.426666  35.955570  22362600\n",
       "2020-01-16  38.500000  38.643333  38.426666  38.633331  36.148949  16108200\n",
       "2020-01-17  38.683334  38.766666  38.213333  38.320000  35.855762  30135000\n",
       "...               ...        ...        ...        ...        ...       ...\n",
       "2023-04-28  50.430000  50.723331  50.060001  50.323334  49.601517  14088600\n",
       "2023-05-01  50.346668  50.846668  50.310001  50.529999  49.805222  11409600\n",
       "2023-05-02  50.490002  50.496666  49.820000  50.393333  49.670517  11329500\n",
       "2023-05-03  50.520000  50.700001  50.090000  50.206669  49.486530  12334500\n",
       "2023-05-04  50.183334  50.330002  49.830002  50.156666  49.625038  14011200\n",
       "\n",
       "[834 rows x 6 columns]"
      ]
     },
     "execution_count": 6,
     "metadata": {},
     "output_type": "execute_result"
    }
   ],
   "source": [
    "sp500_aapl = yf.download('WMT', start='2020-01-13', end ='2023-05-05')\n",
    "wmt_df = pd.DataFrame(sp500_aapl)\n",
    "wmt_df"
   ]
  },
  {
   "cell_type": "code",
   "execution_count": 143,
   "id": "a89a26c8",
   "metadata": {},
   "outputs": [
    {
     "data": {
      "text/html": [
       "<div>\n",
       "<style scoped>\n",
       "    .dataframe tbody tr th:only-of-type {\n",
       "        vertical-align: middle;\n",
       "    }\n",
       "\n",
       "    .dataframe tbody tr th {\n",
       "        vertical-align: top;\n",
       "    }\n",
       "\n",
       "    .dataframe thead th {\n",
       "        text-align: right;\n",
       "    }\n",
       "</style>\n",
       "<table border=\"1\" class=\"dataframe\">\n",
       "  <thead>\n",
       "    <tr style=\"text-align: right;\">\n",
       "      <th></th>\n",
       "      <th>Open</th>\n",
       "      <th>High</th>\n",
       "      <th>Low</th>\n",
       "      <th>Close</th>\n",
       "      <th>Adj Close</th>\n",
       "      <th>Volume</th>\n",
       "      <th>Volt</th>\n",
       "      <th>Return</th>\n",
       "      <th>illq</th>\n",
       "      <th>spread</th>\n",
       "    </tr>\n",
       "    <tr>\n",
       "      <th>Date</th>\n",
       "      <th></th>\n",
       "      <th></th>\n",
       "      <th></th>\n",
       "      <th></th>\n",
       "      <th></th>\n",
       "      <th></th>\n",
       "      <th></th>\n",
       "      <th></th>\n",
       "      <th></th>\n",
       "      <th></th>\n",
       "    </tr>\n",
       "  </thead>\n",
       "  <tbody>\n",
       "    <tr>\n",
       "      <th>2020-01-13</th>\n",
       "      <td>38.793331</td>\n",
       "      <td>38.849998</td>\n",
       "      <td>38.456669</td>\n",
       "      <td>38.626667</td>\n",
       "      <td>36.142704</td>\n",
       "      <td>18337800</td>\n",
       "      <td>0.010176</td>\n",
       "      <td>NaN</td>\n",
       "      <td>NaN</td>\n",
       "      <td>0.393330</td>\n",
       "    </tr>\n",
       "    <tr>\n",
       "      <th>2020-01-14</th>\n",
       "      <td>38.490002</td>\n",
       "      <td>38.736668</td>\n",
       "      <td>38.376667</td>\n",
       "      <td>38.726665</td>\n",
       "      <td>36.236275</td>\n",
       "      <td>19757400</td>\n",
       "      <td>0.009337</td>\n",
       "      <td>0.002589</td>\n",
       "      <td>0.001310</td>\n",
       "      <td>0.360001</td>\n",
       "    </tr>\n",
       "    <tr>\n",
       "      <th>2020-01-15</th>\n",
       "      <td>38.209999</td>\n",
       "      <td>38.623333</td>\n",
       "      <td>38.173332</td>\n",
       "      <td>38.426666</td>\n",
       "      <td>35.955570</td>\n",
       "      <td>22362600</td>\n",
       "      <td>0.011719</td>\n",
       "      <td>0.007747</td>\n",
       "      <td>0.003464</td>\n",
       "      <td>0.450001</td>\n",
       "    </tr>\n",
       "    <tr>\n",
       "      <th>2020-01-16</th>\n",
       "      <td>38.500000</td>\n",
       "      <td>38.643333</td>\n",
       "      <td>38.426666</td>\n",
       "      <td>38.633331</td>\n",
       "      <td>36.148949</td>\n",
       "      <td>16108200</td>\n",
       "      <td>0.005623</td>\n",
       "      <td>0.005378</td>\n",
       "      <td>0.003339</td>\n",
       "      <td>0.216667</td>\n",
       "    </tr>\n",
       "    <tr>\n",
       "      <th>2020-01-17</th>\n",
       "      <td>38.683334</td>\n",
       "      <td>38.766666</td>\n",
       "      <td>38.213333</td>\n",
       "      <td>38.320000</td>\n",
       "      <td>35.855762</td>\n",
       "      <td>30135000</td>\n",
       "      <td>0.014376</td>\n",
       "      <td>0.008110</td>\n",
       "      <td>0.002691</td>\n",
       "      <td>0.553333</td>\n",
       "    </tr>\n",
       "    <tr>\n",
       "      <th>...</th>\n",
       "      <td>...</td>\n",
       "      <td>...</td>\n",
       "      <td>...</td>\n",
       "      <td>...</td>\n",
       "      <td>...</td>\n",
       "      <td>...</td>\n",
       "      <td>...</td>\n",
       "      <td>...</td>\n",
       "      <td>...</td>\n",
       "      <td>...</td>\n",
       "    </tr>\n",
       "    <tr>\n",
       "      <th>2023-04-28</th>\n",
       "      <td>50.430000</td>\n",
       "      <td>50.723331</td>\n",
       "      <td>50.060001</td>\n",
       "      <td>50.323334</td>\n",
       "      <td>49.601517</td>\n",
       "      <td>14088600</td>\n",
       "      <td>0.013164</td>\n",
       "      <td>0.002708</td>\n",
       "      <td>0.001922</td>\n",
       "      <td>0.663330</td>\n",
       "    </tr>\n",
       "    <tr>\n",
       "      <th>2023-05-01</th>\n",
       "      <td>50.346668</td>\n",
       "      <td>50.846668</td>\n",
       "      <td>50.310001</td>\n",
       "      <td>50.529999</td>\n",
       "      <td>49.805222</td>\n",
       "      <td>11409600</td>\n",
       "      <td>0.010611</td>\n",
       "      <td>0.004107</td>\n",
       "      <td>0.003599</td>\n",
       "      <td>0.536667</td>\n",
       "    </tr>\n",
       "    <tr>\n",
       "      <th>2023-05-02</th>\n",
       "      <td>50.490002</td>\n",
       "      <td>50.496666</td>\n",
       "      <td>49.820000</td>\n",
       "      <td>50.393333</td>\n",
       "      <td>49.670517</td>\n",
       "      <td>11329500</td>\n",
       "      <td>0.013491</td>\n",
       "      <td>0.002705</td>\n",
       "      <td>0.002387</td>\n",
       "      <td>0.676666</td>\n",
       "    </tr>\n",
       "    <tr>\n",
       "      <th>2023-05-03</th>\n",
       "      <td>50.520000</td>\n",
       "      <td>50.700001</td>\n",
       "      <td>50.090000</td>\n",
       "      <td>50.206669</td>\n",
       "      <td>49.486530</td>\n",
       "      <td>12334500</td>\n",
       "      <td>0.012105</td>\n",
       "      <td>0.003704</td>\n",
       "      <td>0.003003</td>\n",
       "      <td>0.610001</td>\n",
       "    </tr>\n",
       "    <tr>\n",
       "      <th>2023-05-04</th>\n",
       "      <td>50.183334</td>\n",
       "      <td>50.330002</td>\n",
       "      <td>49.830002</td>\n",
       "      <td>50.156666</td>\n",
       "      <td>49.625038</td>\n",
       "      <td>14011200</td>\n",
       "      <td>0.009984</td>\n",
       "      <td>0.000996</td>\n",
       "      <td>0.000711</td>\n",
       "      <td>0.500000</td>\n",
       "    </tr>\n",
       "  </tbody>\n",
       "</table>\n",
       "<p>834 rows × 10 columns</p>\n",
       "</div>"
      ],
      "text/plain": [
       "                 Open       High        Low      Close  Adj Close    Volume  \\\n",
       "Date                                                                          \n",
       "2020-01-13  38.793331  38.849998  38.456669  38.626667  36.142704  18337800   \n",
       "2020-01-14  38.490002  38.736668  38.376667  38.726665  36.236275  19757400   \n",
       "2020-01-15  38.209999  38.623333  38.173332  38.426666  35.955570  22362600   \n",
       "2020-01-16  38.500000  38.643333  38.426666  38.633331  36.148949  16108200   \n",
       "2020-01-17  38.683334  38.766666  38.213333  38.320000  35.855762  30135000   \n",
       "...               ...        ...        ...        ...        ...       ...   \n",
       "2023-04-28  50.430000  50.723331  50.060001  50.323334  49.601517  14088600   \n",
       "2023-05-01  50.346668  50.846668  50.310001  50.529999  49.805222  11409600   \n",
       "2023-05-02  50.490002  50.496666  49.820000  50.393333  49.670517  11329500   \n",
       "2023-05-03  50.520000  50.700001  50.090000  50.206669  49.486530  12334500   \n",
       "2023-05-04  50.183334  50.330002  49.830002  50.156666  49.625038  14011200   \n",
       "\n",
       "                Volt    Return      illq    spread  \n",
       "Date                                                \n",
       "2020-01-13  0.010176       NaN       NaN  0.393330  \n",
       "2020-01-14  0.009337  0.002589  0.001310  0.360001  \n",
       "2020-01-15  0.011719  0.007747  0.003464  0.450001  \n",
       "2020-01-16  0.005623  0.005378  0.003339  0.216667  \n",
       "2020-01-17  0.014376  0.008110  0.002691  0.553333  \n",
       "...              ...       ...       ...       ...  \n",
       "2023-04-28  0.013164  0.002708  0.001922  0.663330  \n",
       "2023-05-01  0.010611  0.004107  0.003599  0.536667  \n",
       "2023-05-02  0.013491  0.002705  0.002387  0.676666  \n",
       "2023-05-03  0.012105  0.003704  0.003003  0.610001  \n",
       "2023-05-04  0.009984  0.000996  0.000711  0.500000  \n",
       "\n",
       "[834 rows x 10 columns]"
      ]
     },
     "execution_count": 143,
     "metadata": {},
     "output_type": "execute_result"
    }
   ],
   "source": [
    "wmt_df[\"Volt\"] = np.log(wmt_df[\"High\"]/wmt_df[\"Low\"])\n",
    "wmt_df[\"Return\"] = wmt_df[\"Close\"].pct_change().abs() \n",
    "wmt_df[\"illq\"] = wmt_df[\"Return\"]/wmt_df[\"Volume\"]*10**7\n",
    "wmt_df['spread'] = wmt_df[\"High\"] - wmt_df[\"Low\"]\n",
    "wmt_df"
   ]
  },
  {
   "cell_type": "code",
   "execution_count": 8,
   "id": "c461a061",
   "metadata": {},
   "outputs": [
    {
     "name": "stdout",
     "output_type": "stream",
     "text": [
      "Iteration:      1,   Func. Count:      6,   Neg. LLF: 11226318.794105036\n",
      "Iteration:      2,   Func. Count:     17,   Neg. LLF: -2121.9621860437555\n",
      "Optimization terminated successfully    (Exit mode 0)\n",
      "            Current function value: -2121.962188139154\n",
      "            Iterations: 6\n",
      "            Function evaluations: 17\n",
      "            Gradient evaluations: 2\n",
      "                     Constant Mean - GARCH Model Results                      \n",
      "==============================================================================\n",
      "Dep. Variable:                  Close   R-squared:                       0.000\n",
      "Mean Model:             Constant Mean   Adj. R-squared:                  0.000\n",
      "Vol Model:                      GARCH   Log-Likelihood:                2121.96\n",
      "Distribution:                  Normal   AIC:                          -4235.92\n",
      "Method:            Maximum Likelihood   BIC:                          -4217.03\n",
      "                                        No. Observations:                  832\n",
      "Date:                Sun, May 05 2024   Df Residuals:                      831\n",
      "Time:                        12:37:50   Df Model:                            1\n",
      "                                  Mean Model                                 \n",
      "=============================================================================\n",
      "                 coef    std err          t      P>|t|       95.0% Conf. Int.\n",
      "-----------------------------------------------------------------------------\n",
      "mu         9.7562e-05  5.241e-04      0.186      0.852 [-9.296e-04,1.125e-03]\n",
      "                              Volatility Model                              \n",
      "============================================================================\n",
      "                 coef    std err          t      P>|t|      95.0% Conf. Int.\n",
      "----------------------------------------------------------------------------\n",
      "omega      5.3384e-05  1.253e-05      4.260  2.045e-05 [2.882e-05,7.795e-05]\n",
      "alpha[1]       0.2000  6.365e-02      3.142  1.676e-03   [7.525e-02,  0.325]\n",
      "beta[1]        0.7000  6.084e-02     11.505  1.241e-30     [  0.581,  0.819]\n",
      "============================================================================\n",
      "\n",
      "Covariance estimator: robust\n",
      "Date\n",
      "2020-01-15    0.030867\n",
      "2020-01-16    0.027241\n",
      "2020-01-17    0.024633\n",
      "2020-01-21    0.022695\n",
      "2020-01-22    0.021221\n",
      "                ...   \n",
      "2023-04-28    0.014739\n",
      "2023-05-01    0.014576\n",
      "2023-05-02    0.014531\n",
      "2023-05-03    0.014516\n",
      "2023-05-04    0.014182\n",
      "Name: cond_vol, Length: 832, dtype: float64\n"
     ]
    },
    {
     "name": "stderr",
     "output_type": "stream",
     "text": [
      "C:\\Users\\casov\\anaconda3\\Lib\\site-packages\\arch\\univariate\\base.py:311: DataScaleWarning: y is poorly scaled, which may affect convergence of the optimizer when\n",
      "estimating the model parameters. The scale of y is 0.0005338. Parameter\n",
      "estimation work better when this value is between 1 and 1000. The recommended\n",
      "rescaling is 100 * y.\n",
      "\n",
      "This warning can be disabled by either rescaling y before initializing the\n",
      "model or by setting rescale=False.\n",
      "\n",
      "  warnings.warn(\n"
     ]
    }
   ],
   "source": [
    "from arch import arch_model\n",
    "\n",
    "# Загрузите данные\n",
    "# Предположим, что ваш DataFrame называется df и содержит столбцы 'high', 'open', 'low', 'close'\n",
    "\n",
    "# Вычислите ежедневные доходности\n",
    "daily_returns = wmt_df['Close'].pct_change()\n",
    "\n",
    "# Рассчитайте первую разность ежедневных доходностей\n",
    "first_diff_returns = daily_returns.diff().dropna()\n",
    "\n",
    "# Оцените модель GARCH(1,1)\n",
    "garch_model = arch_model(first_diff_returns, vol='GARCH', p=1, q=1)\n",
    "results = garch_model.fit()\n",
    "\n",
    "# Выведите результаты оценки модели\n",
    "print(results.summary())\n",
    "\n",
    "# Получите оцененную условную волатильность\n",
    "conditional_volatility = results.conditional_volatility\n",
    "\n",
    "# Выведите условную волатильность\n",
    "print(conditional_volatility)"
   ]
  },
  {
   "cell_type": "code",
   "execution_count": null,
   "id": "bedb2353",
   "metadata": {},
   "outputs": [],
   "source": []
  },
  {
   "cell_type": "code",
   "execution_count": 9,
   "id": "a43a49cd",
   "metadata": {
    "scrolled": true
   },
   "outputs": [
    {
     "name": "stdout",
     "output_type": "stream",
     "text": [
      "['Price' '45.821622692995504' '3.4839774585742753' '34.68333435058594'\n",
      " '43.7983341217041' '46.6349983215332' '48.22999954223633'\n",
      " '53.290000915527344']\n",
      "['Volume' '24713566.90647482' '13382844.871830858' '8777400' '17102775.0'\n",
      " '20771250.0' '28094100.0' '132940200']\n",
      "['Volt' '0.018357345878141435' '0.01151537934016121'\n",
      " '0.005208675407843273' '0.01161203733850744' '0.015567572492206014'\n",
      " '0.02157847547319062' '0.11208019689050416']\n",
      "['GVolt' '0.020834573084505016' '0.010138350255716523'\n",
      " '0.013816903186414197' '0.015934625791850537' '0.018106498468718514'\n",
      " '0.021257988826778627' '0.11981852232544699']\n",
      "['Illiquidity' '0.003963675710612197' '0.003161313759225236'\n",
      " '2.0210138298736176e-05' '0.0016318605928406728' '0.0033494969759637395'\n",
      " '0.00558522128004357' '0.11981852232544699']\n"
     ]
    }
   ],
   "source": [
    "price = np.array([\"Price\",\n",
    "                  wmt_df[\"Close\"].mean(),\n",
    "                  wmt_df[\"Close\"].std(),\n",
    "                  wmt_df[\"Close\"].min(),\n",
    "                  wmt_df[\"Close\"].quantile(0.25),\n",
    "                  wmt_df[\"Close\"].quantile(0.5),\n",
    "                  wmt_df[\"Close\"].quantile(0.75),\n",
    "                  wmt_df[\"Close\"].max()\n",
    " ])\n",
    "volume = np.array([\"Volume\",\n",
    "                  wmt_df[\"Volume\"].mean(),\n",
    "                  wmt_df[\"Volume\"].std(),\n",
    "                  wmt_df[\"Volume\"].min(),\n",
    "                  wmt_df[\"Volume\"].quantile(0.25),\n",
    "                  wmt_df[\"Volume\"].quantile(0.5),\n",
    "                  wmt_df[\"Volume\"].quantile(0.75),\n",
    "                  wmt_df[\"Volume\"].max()\n",
    " ])\n",
    "Volt = np.array([\"Volt\",\n",
    "                  wmt_df[\"Volt\"].mean(),\n",
    "                  wmt_df[\"Volt\"].std(),\n",
    "                  wmt_df[\"Volt\"].min(),\n",
    "                  wmt_df[\"Volt\"].quantile(0.25),\n",
    "                  wmt_df[\"Volt\"].quantile(0.5),\n",
    "                  wmt_df[\"Volt\"].quantile(0.75),\n",
    "                  wmt_df[\"Volt\"].max()\n",
    " ])\n",
    "vol = np.array([conditional_volatility])\n",
    "Gvolt= np.array([\"GVolt\",\n",
    "                  vol.mean(),\n",
    "                  vol.std(),\n",
    "                  vol.min(),\n",
    "                  np.quantile(vol,0.25),\n",
    "                  np.quantile(vol,0.5),\n",
    "                  np.quantile(vol,0.75),\n",
    "                  vol.max()\n",
    " ])\n",
    "illq= np.array([\"Illiquidity\",\n",
    "                  wmt_df[\"illq\"].mean(),\n",
    "                  wmt_df[\"illq\"].std(),\n",
    "                  wmt_df[\"illq\"].min(),\n",
    "                  wmt_df[\"illq\"].quantile(0.25),\n",
    "                  wmt_df[\"illq\"].quantile(0.5),\n",
    "                  wmt_df[\"illq\"].quantile(0.75),\n",
    "                  vol.max()\n",
    " ])\n",
    "\n",
    "print(price,volume,Volt,Gvolt,illq,sep=\"\\n\")\n",
    "########################################"
   ]
  },
  {
   "cell_type": "code",
   "execution_count": null,
   "id": "c16c301b",
   "metadata": {},
   "outputs": [],
   "source": []
  },
  {
   "cell_type": "code",
   "execution_count": 126,
   "id": "f3409846",
   "metadata": {},
   "outputs": [
    {
     "data": {
      "text/plain": [
       "Date\n",
       "2020-02-18    0.015657\n",
       "2020-02-19    0.015762\n",
       "2020-02-20    0.020529\n",
       "2020-02-21    0.020036\n",
       "2020-02-24    0.018582\n",
       "                ...   \n",
       "2022-08-22    0.025569\n",
       "2022-08-23    0.022652\n",
       "2022-08-24    0.021196\n",
       "2022-08-25    0.019843\n",
       "2022-08-26    0.018141\n",
       "Name: cond_vol, Length: 638, dtype: float64"
      ]
     },
     "execution_count": 126,
     "metadata": {},
     "output_type": "execute_result"
    }
   ],
   "source": [
    "gvolt  = conditional_volatility.loc[\"2020-02-15\":\"2022-08-27\"]\n",
    "gvolt"
   ]
  },
  {
   "cell_type": "code",
   "execution_count": 127,
   "id": "7704bdae",
   "metadata": {},
   "outputs": [
    {
     "name": "stderr",
     "output_type": "stream",
     "text": [
      "C:\\Users\\casov\\AppData\\Local\\Temp\\ipykernel_10472\\2986010439.py:2: SettingWithCopyWarning: \n",
      "A value is trying to be set on a copy of a slice from a DataFrame.\n",
      "Try using .loc[row_indexer,col_indexer] = value instead\n",
      "\n",
      "See the caveats in the documentation: https://pandas.pydata.org/pandas-docs/stable/user_guide/indexing.html#returning-a-view-versus-a-copy\n",
      "  wmt[\"gvolt\"] = gvolt\n"
     ]
    },
    {
     "data": {
      "text/html": [
       "<div>\n",
       "<style scoped>\n",
       "    .dataframe tbody tr th:only-of-type {\n",
       "        vertical-align: middle;\n",
       "    }\n",
       "\n",
       "    .dataframe tbody tr th {\n",
       "        vertical-align: top;\n",
       "    }\n",
       "\n",
       "    .dataframe thead th {\n",
       "        text-align: right;\n",
       "    }\n",
       "</style>\n",
       "<table border=\"1\" class=\"dataframe\">\n",
       "  <thead>\n",
       "    <tr style=\"text-align: right;\">\n",
       "      <th></th>\n",
       "      <th>Open</th>\n",
       "      <th>High</th>\n",
       "      <th>Low</th>\n",
       "      <th>Close</th>\n",
       "      <th>Adj Close</th>\n",
       "      <th>Volume</th>\n",
       "      <th>Volt</th>\n",
       "      <th>Return</th>\n",
       "      <th>illq</th>\n",
       "      <th>gvolt</th>\n",
       "    </tr>\n",
       "    <tr>\n",
       "      <th>Date</th>\n",
       "      <th></th>\n",
       "      <th></th>\n",
       "      <th></th>\n",
       "      <th></th>\n",
       "      <th></th>\n",
       "      <th></th>\n",
       "      <th></th>\n",
       "      <th></th>\n",
       "      <th></th>\n",
       "      <th></th>\n",
       "    </tr>\n",
       "  </thead>\n",
       "  <tbody>\n",
       "    <tr>\n",
       "      <th>2020-02-18</th>\n",
       "      <td>39.490002</td>\n",
       "      <td>39.983334</td>\n",
       "      <td>39.119999</td>\n",
       "      <td>39.876667</td>\n",
       "      <td>37.312325</td>\n",
       "      <td>34539600</td>\n",
       "      <td>0.021829</td>\n",
       "      <td>0.014760</td>\n",
       "      <td>0.004273</td>\n",
       "      <td>0.015657</td>\n",
       "    </tr>\n",
       "    <tr>\n",
       "      <th>2020-02-19</th>\n",
       "      <td>39.833332</td>\n",
       "      <td>39.980000</td>\n",
       "      <td>39.226665</td>\n",
       "      <td>39.226665</td>\n",
       "      <td>36.704117</td>\n",
       "      <td>21563400</td>\n",
       "      <td>0.019023</td>\n",
       "      <td>0.016300</td>\n",
       "      <td>0.007559</td>\n",
       "      <td>0.015762</td>\n",
       "    </tr>\n",
       "    <tr>\n",
       "      <th>2020-02-20</th>\n",
       "      <td>39.070000</td>\n",
       "      <td>39.369999</td>\n",
       "      <td>38.953335</td>\n",
       "      <td>39.230000</td>\n",
       "      <td>36.707241</td>\n",
       "      <td>15068700</td>\n",
       "      <td>0.010640</td>\n",
       "      <td>0.000085</td>\n",
       "      <td>0.000056</td>\n",
       "      <td>0.020529</td>\n",
       "    </tr>\n",
       "    <tr>\n",
       "      <th>2020-02-21</th>\n",
       "      <td>39.146667</td>\n",
       "      <td>39.583332</td>\n",
       "      <td>39.103333</td>\n",
       "      <td>39.526669</td>\n",
       "      <td>36.984833</td>\n",
       "      <td>18726300</td>\n",
       "      <td>0.012200</td>\n",
       "      <td>0.007562</td>\n",
       "      <td>0.004038</td>\n",
       "      <td>0.020036</td>\n",
       "    </tr>\n",
       "    <tr>\n",
       "      <th>2020-02-24</th>\n",
       "      <td>39.153332</td>\n",
       "      <td>39.486668</td>\n",
       "      <td>38.650002</td>\n",
       "      <td>38.773335</td>\n",
       "      <td>36.279938</td>\n",
       "      <td>19848000</td>\n",
       "      <td>0.021416</td>\n",
       "      <td>0.019059</td>\n",
       "      <td>0.009602</td>\n",
       "      <td>0.018582</td>\n",
       "    </tr>\n",
       "    <tr>\n",
       "      <th>...</th>\n",
       "      <td>...</td>\n",
       "      <td>...</td>\n",
       "      <td>...</td>\n",
       "      <td>...</td>\n",
       "      <td>...</td>\n",
       "      <td>...</td>\n",
       "      <td>...</td>\n",
       "      <td>...</td>\n",
       "      <td>...</td>\n",
       "      <td>...</td>\n",
       "    </tr>\n",
       "    <tr>\n",
       "      <th>2022-08-22</th>\n",
       "      <td>45.400002</td>\n",
       "      <td>45.573334</td>\n",
       "      <td>44.813332</td>\n",
       "      <td>44.856667</td>\n",
       "      <td>43.867420</td>\n",
       "      <td>18667200</td>\n",
       "      <td>0.016817</td>\n",
       "      <td>0.017881</td>\n",
       "      <td>0.009579</td>\n",
       "      <td>0.025569</td>\n",
       "    </tr>\n",
       "    <tr>\n",
       "      <th>2022-08-23</th>\n",
       "      <td>44.869999</td>\n",
       "      <td>44.986668</td>\n",
       "      <td>44.403332</td>\n",
       "      <td>44.666668</td>\n",
       "      <td>43.681614</td>\n",
       "      <td>16955100</td>\n",
       "      <td>0.013052</td>\n",
       "      <td>0.004236</td>\n",
       "      <td>0.002498</td>\n",
       "      <td>0.022652</td>\n",
       "    </tr>\n",
       "    <tr>\n",
       "      <th>2022-08-24</th>\n",
       "      <td>44.783333</td>\n",
       "      <td>45.096668</td>\n",
       "      <td>44.533333</td>\n",
       "      <td>44.990002</td>\n",
       "      <td>43.997814</td>\n",
       "      <td>15766500</td>\n",
       "      <td>0.012570</td>\n",
       "      <td>0.007239</td>\n",
       "      <td>0.004591</td>\n",
       "      <td>0.021196</td>\n",
       "    </tr>\n",
       "    <tr>\n",
       "      <th>2022-08-25</th>\n",
       "      <td>45.093334</td>\n",
       "      <td>45.330002</td>\n",
       "      <td>45.009998</td>\n",
       "      <td>45.290001</td>\n",
       "      <td>44.291199</td>\n",
       "      <td>19414500</td>\n",
       "      <td>0.007084</td>\n",
       "      <td>0.006668</td>\n",
       "      <td>0.003435</td>\n",
       "      <td>0.019843</td>\n",
       "    </tr>\n",
       "    <tr>\n",
       "      <th>2022-08-26</th>\n",
       "      <td>45.369999</td>\n",
       "      <td>45.610001</td>\n",
       "      <td>43.836666</td>\n",
       "      <td>43.866669</td>\n",
       "      <td>42.899254</td>\n",
       "      <td>21331800</td>\n",
       "      <td>0.039656</td>\n",
       "      <td>0.031427</td>\n",
       "      <td>0.014732</td>\n",
       "      <td>0.018141</td>\n",
       "    </tr>\n",
       "  </tbody>\n",
       "</table>\n",
       "<p>638 rows × 10 columns</p>\n",
       "</div>"
      ],
      "text/plain": [
       "                 Open       High        Low      Close  Adj Close    Volume  \\\n",
       "Date                                                                          \n",
       "2020-02-18  39.490002  39.983334  39.119999  39.876667  37.312325  34539600   \n",
       "2020-02-19  39.833332  39.980000  39.226665  39.226665  36.704117  21563400   \n",
       "2020-02-20  39.070000  39.369999  38.953335  39.230000  36.707241  15068700   \n",
       "2020-02-21  39.146667  39.583332  39.103333  39.526669  36.984833  18726300   \n",
       "2020-02-24  39.153332  39.486668  38.650002  38.773335  36.279938  19848000   \n",
       "...               ...        ...        ...        ...        ...       ...   \n",
       "2022-08-22  45.400002  45.573334  44.813332  44.856667  43.867420  18667200   \n",
       "2022-08-23  44.869999  44.986668  44.403332  44.666668  43.681614  16955100   \n",
       "2022-08-24  44.783333  45.096668  44.533333  44.990002  43.997814  15766500   \n",
       "2022-08-25  45.093334  45.330002  45.009998  45.290001  44.291199  19414500   \n",
       "2022-08-26  45.369999  45.610001  43.836666  43.866669  42.899254  21331800   \n",
       "\n",
       "                Volt    Return      illq     gvolt  \n",
       "Date                                                \n",
       "2020-02-18  0.021829  0.014760  0.004273  0.015657  \n",
       "2020-02-19  0.019023  0.016300  0.007559  0.015762  \n",
       "2020-02-20  0.010640  0.000085  0.000056  0.020529  \n",
       "2020-02-21  0.012200  0.007562  0.004038  0.020036  \n",
       "2020-02-24  0.021416  0.019059  0.009602  0.018582  \n",
       "...              ...       ...       ...       ...  \n",
       "2022-08-22  0.016817  0.017881  0.009579  0.025569  \n",
       "2022-08-23  0.013052  0.004236  0.002498  0.022652  \n",
       "2022-08-24  0.012570  0.007239  0.004591  0.021196  \n",
       "2022-08-25  0.007084  0.006668  0.003435  0.019843  \n",
       "2022-08-26  0.039656  0.031427  0.014732  0.018141  \n",
       "\n",
       "[638 rows x 10 columns]"
      ]
     },
     "execution_count": 127,
     "metadata": {},
     "output_type": "execute_result"
    }
   ],
   "source": [
    "wmt = wmt_df.loc[\"2020-02-15\":\"2022-08-27\"]\n",
    "wmt[\"gvolt\"] = gvolt\n",
    "wmt"
   ]
  },
  {
   "cell_type": "markdown",
   "id": "bd158c53",
   "metadata": {},
   "source": [
    "# S&P500"
   ]
  },
  {
   "cell_type": "code",
   "execution_count": 369,
   "id": "b6cb2e03",
   "metadata": {},
   "outputs": [
    {
     "name": "stderr",
     "output_type": "stream",
     "text": [
      "[*********************100%%**********************]  1 of 1 completed\n"
     ]
    },
    {
     "data": {
      "text/plain": [
       "array([ 0.00037547,  0.01558047, -0.11984055, -0.00667834,  0.00081998,\n",
       "        0.00821083,  0.09382774])"
      ]
     },
     "execution_count": 369,
     "metadata": {},
     "output_type": "execute_result"
    }
   ],
   "source": [
    "sp500_data = yf.download('^GSPC',start='2020-01-13', end ='2023-05-05')\n",
    "sp500_data['Daily_Return'] = sp500_data['Close'].pct_change()\n",
    "sp500_data['Daily_Return']\n",
    "sp500 = np.array([\n",
    "                  sp500_data['Daily_Return'].mean(),\n",
    "                  sp500_data['Daily_Return'].std(),\n",
    "                  sp500_data['Daily_Return'].min(),\n",
    "                  sp500_data['Daily_Return'].quantile(0.25),\n",
    "                  sp500_data['Daily_Return'].quantile(0.5),\n",
    "                  sp500_data['Daily_Return'].quantile(0.75),\n",
    "                  sp500_data['Daily_Return'].max()\n",
    " ])\n",
    "sp500\n",
    "###########################"
   ]
  },
  {
   "cell_type": "code",
   "execution_count": 338,
   "id": "11f812e4",
   "metadata": {},
   "outputs": [
    {
     "data": {
      "text/plain": [
       "array(['S&P 500', '0.0003754730574126004', '0.015580469071277456',\n",
       "       '-0.11984055240393443', '-0.006678337608227225',\n",
       "       '0.0008199802697488323', '0.008210832780053412',\n",
       "       '0.09382773976227554'], dtype='<U32')"
      ]
     },
     "execution_count": 338,
     "metadata": {},
     "output_type": "execute_result"
    }
   ],
   "source": [
    "sp500"
   ]
  },
  {
   "cell_type": "code",
   "execution_count": 105,
   "id": "b06aa2bf",
   "metadata": {},
   "outputs": [
    {
     "data": {
      "text/plain": [
       "Date\n",
       "2020-02-18    3370.290039\n",
       "2020-02-19    3386.149902\n",
       "2020-02-20    3373.229980\n",
       "2020-02-21    3337.750000\n",
       "2020-02-24    3225.889893\n",
       "                 ...     \n",
       "2022-08-22    4137.990234\n",
       "2022-08-23    4128.729980\n",
       "2022-08-24    4140.770020\n",
       "2022-08-25    4199.120117\n",
       "2022-08-26    4057.659912\n",
       "Name: s&p500, Length: 638, dtype: float64"
      ]
     },
     "execution_count": 105,
     "metadata": {},
     "output_type": "execute_result"
    }
   ],
   "source": [
    "sp = sp500_data.loc[\"2020-02-15\":\"2022-08-27\"]\n",
    "sp = sp.rename(columns={\"Close\":\"s&p500\"})\n",
    "\n",
    "sp = sp['s&p500']\n",
    "sp"
   ]
  },
  {
   "cell_type": "code",
   "execution_count": null,
   "id": "7687cdc2",
   "metadata": {},
   "outputs": [],
   "source": []
  },
  {
   "cell_type": "code",
   "execution_count": null,
   "id": "37e5f3a9",
   "metadata": {},
   "outputs": [],
   "source": []
  },
  {
   "cell_type": "markdown",
   "id": "c2d85f0a",
   "metadata": {},
   "source": [
    "# COVID19\n"
   ]
  },
  {
   "cell_type": "code",
   "execution_count": 28,
   "id": "ce3a6019",
   "metadata": {},
   "outputs": [],
   "source": [
    "covid19 = pd.read_csv('covid19.csv')\n",
    "covid19=covid19[covid19[\"location\"] == \"United States\"]\n",
    "# covid19 = covid19.iloc[365585,366792]\n",
    "# covid19=covid19\n",
    "covid19 = covid19.loc[(covid19[\"date\"]>=\"2020-01-13\")&(covid19[\"date\"]<=\"2023-05-05\")]\n"
   ]
  },
  {
   "cell_type": "code",
   "execution_count": 29,
   "id": "79b08bba",
   "metadata": {},
   "outputs": [],
   "source": [
    "# covid19= covid19.set_index(\"date\")\n",
    "\n",
    "# covid19 = covid19.drop(columns=[\"level_0\"])\n",
    "# covid19[\"weekly_cases\"]"
   ]
  },
  {
   "cell_type": "code",
   "execution_count": 349,
   "id": "64668abc",
   "metadata": {},
   "outputs": [
    {
     "name": "stdout",
     "output_type": "stream",
     "text": [
      "[ 597831.55004136  776321.66671525       0.          222579.\n",
      "  387634.          709637.         5650933.        ]\n",
      "[ 6507.3573201  5505.6123493     0.         2560.         4493.\n",
      "  9065.        23312.       ]\n"
     ]
    }
   ],
   "source": [
    " cases= np.array([\n",
    "                  covid19['weekly_cases'].mean(),\n",
    "                  covid19['weekly_cases'].std(),\n",
    "                  covid19['weekly_cases'].min(),\n",
    "                  covid19['weekly_cases'].quantile(0.25),\n",
    "                  covid19['weekly_cases'].quantile(0.5),\n",
    "                  covid19['weekly_cases'].quantile(0.75),\n",
    "                  covid19['weekly_cases'].max()\n",
    " ])\n",
    "deaths = np.array([\n",
    "                  covid19['weekly_deaths'].mean(),\n",
    "                  covid19['weekly_deaths'].std(),\n",
    "                  covid19['weekly_deaths'].min(),\n",
    "                  covid19['weekly_deaths'].quantile(0.25),\n",
    "                  covid19['weekly_deaths'].quantile(0.5),\n",
    "                  covid19['weekly_deaths'].quantile(0.75),\n",
    "                  covid19['weekly_deaths'].max()\n",
    " ])\n",
    "print(cases,deaths,sep=\"\\n\")\n",
    "##############################"
   ]
  },
  {
   "cell_type": "code",
   "execution_count": null,
   "id": "dd0e7570",
   "metadata": {},
   "outputs": [],
   "source": []
  },
  {
   "cell_type": "code",
   "execution_count": 16,
   "id": "229b5fed",
   "metadata": {},
   "outputs": [],
   "source": [
    "index = wmt.index\n",
    "ind = index\n",
    "# Преобразование DatetimeIndex в массив строк без времени\n",
    "array_without_time = ind.strftime('%Y-%m-%d')\n",
    "\n",
    "# Преобразование массива строк в массив NumPy\n",
    "ind = array_without_time.to_numpy()\n",
    "\n",
    "# Вывод результата"
   ]
  },
  {
   "cell_type": "code",
   "execution_count": 52,
   "id": "58818f0d",
   "metadata": {},
   "outputs": [
    {
     "data": {
      "text/html": [
       "<div>\n",
       "<style scoped>\n",
       "    .dataframe tbody tr th:only-of-type {\n",
       "        vertical-align: middle;\n",
       "    }\n",
       "\n",
       "    .dataframe tbody tr th {\n",
       "        vertical-align: top;\n",
       "    }\n",
       "\n",
       "    .dataframe thead th {\n",
       "        text-align: right;\n",
       "    }\n",
       "</style>\n",
       "<table border=\"1\" class=\"dataframe\">\n",
       "  <thead>\n",
       "    <tr style=\"text-align: right;\">\n",
       "      <th></th>\n",
       "      <th>date</th>\n",
       "      <th>weekly_cases</th>\n",
       "      <th>weekly_deaths</th>\n",
       "    </tr>\n",
       "  </thead>\n",
       "  <tbody>\n",
       "    <tr>\n",
       "      <th>365621</th>\n",
       "      <td>2020-02-18</td>\n",
       "      <td>4.0</td>\n",
       "      <td>0.0</td>\n",
       "    </tr>\n",
       "    <tr>\n",
       "      <th>365622</th>\n",
       "      <td>2020-02-19</td>\n",
       "      <td>4.0</td>\n",
       "      <td>0.0</td>\n",
       "    </tr>\n",
       "    <tr>\n",
       "      <th>365623</th>\n",
       "      <td>2020-02-20</td>\n",
       "      <td>4.0</td>\n",
       "      <td>0.0</td>\n",
       "    </tr>\n",
       "    <tr>\n",
       "      <th>365624</th>\n",
       "      <td>2020-02-21</td>\n",
       "      <td>4.0</td>\n",
       "      <td>0.0</td>\n",
       "    </tr>\n",
       "    <tr>\n",
       "      <th>365627</th>\n",
       "      <td>2020-02-24</td>\n",
       "      <td>16.0</td>\n",
       "      <td>0.0</td>\n",
       "    </tr>\n",
       "    <tr>\n",
       "      <th>...</th>\n",
       "      <td>...</td>\n",
       "      <td>...</td>\n",
       "      <td>...</td>\n",
       "    </tr>\n",
       "    <tr>\n",
       "      <th>366537</th>\n",
       "      <td>2022-08-22</td>\n",
       "      <td>644925.0</td>\n",
       "      <td>3231.0</td>\n",
       "    </tr>\n",
       "    <tr>\n",
       "      <th>366538</th>\n",
       "      <td>2022-08-23</td>\n",
       "      <td>644925.0</td>\n",
       "      <td>3231.0</td>\n",
       "    </tr>\n",
       "    <tr>\n",
       "      <th>366539</th>\n",
       "      <td>2022-08-24</td>\n",
       "      <td>644925.0</td>\n",
       "      <td>3231.0</td>\n",
       "    </tr>\n",
       "    <tr>\n",
       "      <th>366540</th>\n",
       "      <td>2022-08-25</td>\n",
       "      <td>644925.0</td>\n",
       "      <td>3231.0</td>\n",
       "    </tr>\n",
       "    <tr>\n",
       "      <th>366541</th>\n",
       "      <td>2022-08-26</td>\n",
       "      <td>644925.0</td>\n",
       "      <td>3231.0</td>\n",
       "    </tr>\n",
       "  </tbody>\n",
       "</table>\n",
       "<p>638 rows × 3 columns</p>\n",
       "</div>"
      ],
      "text/plain": [
       "              date  weekly_cases  weekly_deaths\n",
       "365621  2020-02-18           4.0            0.0\n",
       "365622  2020-02-19           4.0            0.0\n",
       "365623  2020-02-20           4.0            0.0\n",
       "365624  2020-02-21           4.0            0.0\n",
       "365627  2020-02-24          16.0            0.0\n",
       "...            ...           ...            ...\n",
       "366537  2022-08-22      644925.0         3231.0\n",
       "366538  2022-08-23      644925.0         3231.0\n",
       "366539  2022-08-24      644925.0         3231.0\n",
       "366540  2022-08-25      644925.0         3231.0\n",
       "366541  2022-08-26      644925.0         3231.0\n",
       "\n",
       "[638 rows x 3 columns]"
      ]
     },
     "execution_count": 52,
     "metadata": {},
     "output_type": "execute_result"
    }
   ],
   "source": [
    "cv = covid19.loc[(covid19[\"date\"]>=\"2020-02-15\")&(covid19[\"date\"]<=\"2022-08-27\")]\n",
    "# cv = cv.loc[cv[\"date\"].to_numpy().isin(index)]\n",
    "ind2 = cv[\"date\"].values\n",
    "res = np.in1d(ind2,ind)\n",
    "cv = cv[res]\n",
    "cv = cv[[\"date\",\"weekly_cases\",\"weekly_deaths\"]]\n",
    "cv"
   ]
  },
  {
   "cell_type": "code",
   "execution_count": 51,
   "id": "9e8e3ac6",
   "metadata": {},
   "outputs": [
    {
     "data": {
      "text/html": [
       "<div>\n",
       "<style scoped>\n",
       "    .dataframe tbody tr th:only-of-type {\n",
       "        vertical-align: middle;\n",
       "    }\n",
       "\n",
       "    .dataframe tbody tr th {\n",
       "        vertical-align: top;\n",
       "    }\n",
       "\n",
       "    .dataframe thead th {\n",
       "        text-align: right;\n",
       "    }\n",
       "</style>\n",
       "<table border=\"1\" class=\"dataframe\">\n",
       "  <thead>\n",
       "    <tr style=\"text-align: right;\">\n",
       "      <th></th>\n",
       "      <th>date</th>\n",
       "      <th>weekly_cases</th>\n",
       "      <th>weekly_deaths</th>\n",
       "    </tr>\n",
       "  </thead>\n",
       "  <tbody>\n",
       "    <tr>\n",
       "      <th>365621</th>\n",
       "      <td>2020-02-18</td>\n",
       "      <td>4.0</td>\n",
       "      <td>0.0</td>\n",
       "    </tr>\n",
       "    <tr>\n",
       "      <th>365622</th>\n",
       "      <td>2020-02-19</td>\n",
       "      <td>4.0</td>\n",
       "      <td>0.0</td>\n",
       "    </tr>\n",
       "    <tr>\n",
       "      <th>365623</th>\n",
       "      <td>2020-02-20</td>\n",
       "      <td>4.0</td>\n",
       "      <td>0.0</td>\n",
       "    </tr>\n",
       "    <tr>\n",
       "      <th>365624</th>\n",
       "      <td>2020-02-21</td>\n",
       "      <td>4.0</td>\n",
       "      <td>0.0</td>\n",
       "    </tr>\n",
       "    <tr>\n",
       "      <th>365627</th>\n",
       "      <td>2020-02-24</td>\n",
       "      <td>16.0</td>\n",
       "      <td>0.0</td>\n",
       "    </tr>\n",
       "    <tr>\n",
       "      <th>...</th>\n",
       "      <td>...</td>\n",
       "      <td>...</td>\n",
       "      <td>...</td>\n",
       "    </tr>\n",
       "    <tr>\n",
       "      <th>366537</th>\n",
       "      <td>2022-08-22</td>\n",
       "      <td>644925.0</td>\n",
       "      <td>3231.0</td>\n",
       "    </tr>\n",
       "    <tr>\n",
       "      <th>366538</th>\n",
       "      <td>2022-08-23</td>\n",
       "      <td>644925.0</td>\n",
       "      <td>3231.0</td>\n",
       "    </tr>\n",
       "    <tr>\n",
       "      <th>366539</th>\n",
       "      <td>2022-08-24</td>\n",
       "      <td>644925.0</td>\n",
       "      <td>3231.0</td>\n",
       "    </tr>\n",
       "    <tr>\n",
       "      <th>366540</th>\n",
       "      <td>2022-08-25</td>\n",
       "      <td>644925.0</td>\n",
       "      <td>3231.0</td>\n",
       "    </tr>\n",
       "    <tr>\n",
       "      <th>366541</th>\n",
       "      <td>2022-08-26</td>\n",
       "      <td>644925.0</td>\n",
       "      <td>3231.0</td>\n",
       "    </tr>\n",
       "  </tbody>\n",
       "</table>\n",
       "<p>638 rows × 3 columns</p>\n",
       "</div>"
      ],
      "text/plain": [
       "              date  weekly_cases  weekly_deaths\n",
       "365621  2020-02-18           4.0            0.0\n",
       "365622  2020-02-19           4.0            0.0\n",
       "365623  2020-02-20           4.0            0.0\n",
       "365624  2020-02-21           4.0            0.0\n",
       "365627  2020-02-24          16.0            0.0\n",
       "...            ...           ...            ...\n",
       "366537  2022-08-22      644925.0         3231.0\n",
       "366538  2022-08-23      644925.0         3231.0\n",
       "366539  2022-08-24      644925.0         3231.0\n",
       "366540  2022-08-25      644925.0         3231.0\n",
       "366541  2022-08-26      644925.0         3231.0\n",
       "\n",
       "[638 rows x 3 columns]"
      ]
     },
     "execution_count": 51,
     "metadata": {},
     "output_type": "execute_result"
    }
   ],
   "source": []
  },
  {
   "cell_type": "markdown",
   "id": "cae84bdc",
   "metadata": {},
   "source": [
    "# OXCGRT"
   ]
  },
  {
   "cell_type": "code",
   "execution_count": 30,
   "id": "d6a3dd63",
   "metadata": {},
   "outputs": [],
   "source": [
    "oxcgrt = pd.read_csv(\"Oxcgrt.csv\")\n"
   ]
  },
  {
   "cell_type": "code",
   "execution_count": 31,
   "id": "a6d70648",
   "metadata": {},
   "outputs": [],
   "source": [
    "oxcgrt2 = oxcgrt.drop_duplicates(subset = [\"Date\"])\n"
   ]
  },
  {
   "cell_type": "code",
   "execution_count": 20,
   "id": "0f887e22",
   "metadata": {},
   "outputs": [
    {
     "data": {
      "text/plain": [
       "array(['2020-01-01', '2020-01-02', '2020-01-03', ..., '2022-12-29',\n",
       "       '2022-12-30', '2022-12-31'], dtype='<U10')"
      ]
     },
     "execution_count": 20,
     "metadata": {},
     "output_type": "execute_result"
    }
   ],
   "source": [
    "lol3=[]\n",
    "def format_date(date):\n",
    "    return '-'.join([date[:4], date[4:6], date[6:]])\n",
    "\n",
    "lol2 = oxcgrt2[\"Date\"].values\n",
    "lol2 = lol2.astype(str)\n",
    "for i in lol2:\n",
    "    lol3.append(format_date(i))\n",
    "lol3 = np.array(lol3)\n",
    "lol3"
   ]
  },
  {
   "cell_type": "code",
   "execution_count": 39,
   "id": "0ebdf957",
   "metadata": {},
   "outputs": [
    {
     "name": "stderr",
     "output_type": "stream",
     "text": [
      "C:\\Users\\casov\\AppData\\Local\\Temp\\ipykernel_10472\\617018070.py:4: SettingWithCopyWarning: \n",
      "A value is trying to be set on a copy of a slice from a DataFrame.\n",
      "Try using .loc[row_indexer,col_indexer] = value instead\n",
      "\n",
      "See the caveats in the documentation: https://pandas.pydata.org/pandas-docs/stable/user_guide/indexing.html#returning-a-view-versus-a-copy\n",
      "  oxf[\"Date\"] = lol4\n"
     ]
    },
    {
     "data": {
      "text/html": [
       "<div>\n",
       "<style scoped>\n",
       "    .dataframe tbody tr th:only-of-type {\n",
       "        vertical-align: middle;\n",
       "    }\n",
       "\n",
       "    .dataframe tbody tr th {\n",
       "        vertical-align: top;\n",
       "    }\n",
       "\n",
       "    .dataframe thead th {\n",
       "        text-align: right;\n",
       "    }\n",
       "</style>\n",
       "<table border=\"1\" class=\"dataframe\">\n",
       "  <thead>\n",
       "    <tr style=\"text-align: right;\">\n",
       "      <th></th>\n",
       "      <th>Date</th>\n",
       "      <th>StringencyIndex_Average</th>\n",
       "    </tr>\n",
       "  </thead>\n",
       "  <tbody>\n",
       "    <tr>\n",
       "      <th>48</th>\n",
       "      <td>2020-02-18</td>\n",
       "      <td>8.33</td>\n",
       "    </tr>\n",
       "    <tr>\n",
       "      <th>49</th>\n",
       "      <td>2020-02-19</td>\n",
       "      <td>8.33</td>\n",
       "    </tr>\n",
       "    <tr>\n",
       "      <th>50</th>\n",
       "      <td>2020-02-20</td>\n",
       "      <td>8.33</td>\n",
       "    </tr>\n",
       "    <tr>\n",
       "      <th>51</th>\n",
       "      <td>2020-02-21</td>\n",
       "      <td>8.33</td>\n",
       "    </tr>\n",
       "    <tr>\n",
       "      <th>54</th>\n",
       "      <td>2020-02-24</td>\n",
       "      <td>8.33</td>\n",
       "    </tr>\n",
       "    <tr>\n",
       "      <th>...</th>\n",
       "      <td>...</td>\n",
       "      <td>...</td>\n",
       "    </tr>\n",
       "    <tr>\n",
       "      <th>964</th>\n",
       "      <td>2022-08-22</td>\n",
       "      <td>24.21</td>\n",
       "    </tr>\n",
       "    <tr>\n",
       "      <th>965</th>\n",
       "      <td>2022-08-23</td>\n",
       "      <td>24.21</td>\n",
       "    </tr>\n",
       "    <tr>\n",
       "      <th>966</th>\n",
       "      <td>2022-08-24</td>\n",
       "      <td>24.21</td>\n",
       "    </tr>\n",
       "    <tr>\n",
       "      <th>967</th>\n",
       "      <td>2022-08-25</td>\n",
       "      <td>24.21</td>\n",
       "    </tr>\n",
       "    <tr>\n",
       "      <th>968</th>\n",
       "      <td>2022-08-26</td>\n",
       "      <td>24.21</td>\n",
       "    </tr>\n",
       "  </tbody>\n",
       "</table>\n",
       "<p>638 rows × 2 columns</p>\n",
       "</div>"
      ],
      "text/plain": [
       "           Date  StringencyIndex_Average\n",
       "48   2020-02-18                     8.33\n",
       "49   2020-02-19                     8.33\n",
       "50   2020-02-20                     8.33\n",
       "51   2020-02-21                     8.33\n",
       "54   2020-02-24                     8.33\n",
       "..          ...                      ...\n",
       "964  2022-08-22                    24.21\n",
       "965  2022-08-23                    24.21\n",
       "966  2022-08-24                    24.21\n",
       "967  2022-08-25                    24.21\n",
       "968  2022-08-26                    24.21\n",
       "\n",
       "[638 rows x 2 columns]"
      ]
     },
     "execution_count": 39,
     "metadata": {},
     "output_type": "execute_result"
    }
   ],
   "source": [
    "res2 = np.in1d(lol3,ind)\n",
    "lol4 = lol3[res2]\n",
    "oxf = oxcgrt2[res2]\n",
    "oxf[\"Date\"] = lol4\n",
    "oxf = oxf[[\"Date\",\"StringencyIndex_Average\"]]\n",
    "oxf"
   ]
  },
  {
   "cell_type": "code",
   "execution_count": 350,
   "id": "3fa51a1f",
   "metadata": {},
   "outputs": [
    {
     "data": {
      "text/plain": [
       "array([38.95798841, 19.70473497,  0.        , 22.84      , 31.69      ,\n",
       "       55.09      , 93.52      ])"
      ]
     },
     "execution_count": 350,
     "metadata": {},
     "output_type": "execute_result"
    }
   ],
   "source": [
    "string= np.array([\n",
    "                  oxcgrt['StringencyIndex_Average'].mean(),\n",
    "                  oxcgrt['StringencyIndex_Average'].std(),\n",
    "                  oxcgrt['StringencyIndex_Average'].min(),\n",
    "                  oxcgrt['StringencyIndex_Average'].quantile(0.25),\n",
    "                  oxcgrt['StringencyIndex_Average'].quantile(0.5),\n",
    "                  oxcgrt['StringencyIndex_Average'].quantile(0.75),\n",
    "                  oxcgrt['StringencyIndex_Average'].max()\n",
    " ])\n",
    "string\n",
    "######################"
   ]
  },
  {
   "cell_type": "code",
   "execution_count": null,
   "id": "491f7155",
   "metadata": {},
   "outputs": [],
   "source": []
  },
  {
   "cell_type": "code",
   "execution_count": null,
   "id": "8b5e427c",
   "metadata": {},
   "outputs": [],
   "source": []
  },
  {
   "cell_type": "markdown",
   "id": "9a9672ef",
   "metadata": {},
   "source": [
    "# GTREND"
   ]
  },
  {
   "cell_type": "code",
   "execution_count": 351,
   "id": "3eadbd71",
   "metadata": {},
   "outputs": [
    {
     "data": {
      "text/plain": [
       "array([  4.90076336,  14.65551245,   0.        ,   0.        ,\n",
       "         0.        ,   2.        , 100.        ])"
      ]
     },
     "execution_count": 351,
     "metadata": {},
     "output_type": "execute_result"
    }
   ],
   "source": [
    "gtrend = pd.read_csv(\"gtrend1.csv\")\n",
    "\n",
    "gtrend = gtrend['Категория: Все категории']\n",
    "# gtrend.drop([1])\n",
    "gtrend = np.array([gtrend])\n",
    "gtrend = np.delete(gtrend,0)\n",
    "gtrend[gtrend=='<1'] = 0\n",
    "gtrend =gtrend.astype(float)\n",
    "gtrends= np.array([\n",
    "                  gtrend.mean(),\n",
    "                  gtrend.std(),\n",
    "                  gtrend.min(),\n",
    "                  np.quantile(gtrend,0.25),\n",
    "                  np.quantile(gtrend,0.5),\n",
    "                  np.quantile(gtrend,0.75),\n",
    "                  gtrend.max()\n",
    " ])\n",
    "gtrends\n",
    "#########################"
   ]
  },
  {
   "cell_type": "code",
   "execution_count": 32,
   "id": "86246d7b",
   "metadata": {},
   "outputs": [],
   "source": [
    "# gtrend"
   ]
  },
  {
   "cell_type": "code",
   "execution_count": 25,
   "id": "7ac1d610",
   "metadata": {},
   "outputs": [
    {
     "data": {
      "text/html": [
       "<div>\n",
       "<style scoped>\n",
       "    .dataframe tbody tr th:only-of-type {\n",
       "        vertical-align: middle;\n",
       "    }\n",
       "\n",
       "    .dataframe tbody tr th {\n",
       "        vertical-align: top;\n",
       "    }\n",
       "\n",
       "    .dataframe thead th {\n",
       "        text-align: right;\n",
       "    }\n",
       "</style>\n",
       "<table border=\"1\" class=\"dataframe\">\n",
       "  <thead>\n",
       "    <tr style=\"text-align: right;\">\n",
       "      <th></th>\n",
       "      <th>gtr</th>\n",
       "      <th>date</th>\n",
       "    </tr>\n",
       "  </thead>\n",
       "  <tbody>\n",
       "    <tr>\n",
       "      <th>296</th>\n",
       "      <td>4.0</td>\n",
       "      <td>2020-02-18</td>\n",
       "    </tr>\n",
       "    <tr>\n",
       "      <th>297</th>\n",
       "      <td>4.0</td>\n",
       "      <td>2020-02-19</td>\n",
       "    </tr>\n",
       "    <tr>\n",
       "      <th>298</th>\n",
       "      <td>4.0</td>\n",
       "      <td>2020-02-20</td>\n",
       "    </tr>\n",
       "    <tr>\n",
       "      <th>299</th>\n",
       "      <td>4.0</td>\n",
       "      <td>2020-02-21</td>\n",
       "    </tr>\n",
       "    <tr>\n",
       "      <th>302</th>\n",
       "      <td>16.0</td>\n",
       "      <td>2020-02-24</td>\n",
       "    </tr>\n",
       "    <tr>\n",
       "      <th>...</th>\n",
       "      <td>...</td>\n",
       "      <td>...</td>\n",
       "    </tr>\n",
       "    <tr>\n",
       "      <th>1212</th>\n",
       "      <td>0.0</td>\n",
       "      <td>2022-08-22</td>\n",
       "    </tr>\n",
       "    <tr>\n",
       "      <th>1213</th>\n",
       "      <td>0.0</td>\n",
       "      <td>2022-08-23</td>\n",
       "    </tr>\n",
       "    <tr>\n",
       "      <th>1214</th>\n",
       "      <td>0.0</td>\n",
       "      <td>2022-08-24</td>\n",
       "    </tr>\n",
       "    <tr>\n",
       "      <th>1215</th>\n",
       "      <td>0.0</td>\n",
       "      <td>2022-08-25</td>\n",
       "    </tr>\n",
       "    <tr>\n",
       "      <th>1216</th>\n",
       "      <td>0.0</td>\n",
       "      <td>2022-08-26</td>\n",
       "    </tr>\n",
       "  </tbody>\n",
       "</table>\n",
       "<p>638 rows × 2 columns</p>\n",
       "</div>"
      ],
      "text/plain": [
       "       gtr       date\n",
       "296    4.0 2020-02-18\n",
       "297    4.0 2020-02-19\n",
       "298    4.0 2020-02-20\n",
       "299    4.0 2020-02-21\n",
       "302   16.0 2020-02-24\n",
       "...    ...        ...\n",
       "1212   0.0 2022-08-22\n",
       "1213   0.0 2022-08-23\n",
       "1214   0.0 2022-08-24\n",
       "1215   0.0 2022-08-25\n",
       "1216   0.0 2022-08-26\n",
       "\n",
       "[638 rows x 2 columns]"
      ]
     },
     "execution_count": 25,
     "metadata": {},
     "output_type": "execute_result"
    }
   ],
   "source": [
    "gtr = np.repeat(gtrend,7)\n",
    "gtr = gtr[:-5]\n",
    "data_range = pd.date_range(start = \"2019-04-28\",end = \"2024-04-29\")\n",
    "df = pd.DataFrame({\"gtr\":gtr,\"date\":data_range})\n",
    "array_without_time2 = data_range.strftime('%Y-%m-%d')\n",
    "\n",
    "# Преобразование массива строк в массив NumPy\n",
    "data_range2 = array_without_time2.to_numpy()\n",
    "res4 = np.in1d(data_range2,ind)\n",
    "gtr = df[res4]\n",
    "gtr"
   ]
  },
  {
   "cell_type": "code",
   "execution_count": null,
   "id": "e4258299",
   "metadata": {},
   "outputs": [],
   "source": []
  },
  {
   "cell_type": "code",
   "execution_count": null,
   "id": "f9348e7d",
   "metadata": {},
   "outputs": [],
   "source": []
  },
  {
   "cell_type": "code",
   "execution_count": null,
   "id": "77fc0500",
   "metadata": {},
   "outputs": [],
   "source": []
  },
  {
   "cell_type": "code",
   "execution_count": null,
   "id": "78763ca9",
   "metadata": {
    "scrolled": false
   },
   "outputs": [],
   "source": []
  },
  {
   "cell_type": "markdown",
   "id": "c3a65f7d",
   "metadata": {},
   "source": [
    "# MOBILITY"
   ]
  },
  {
   "cell_type": "code",
   "execution_count": 26,
   "id": "1a7044bc",
   "metadata": {},
   "outputs": [
    {
     "data": {
      "text/html": [
       "<div>\n",
       "<style scoped>\n",
       "    .dataframe tbody tr th:only-of-type {\n",
       "        vertical-align: middle;\n",
       "    }\n",
       "\n",
       "    .dataframe tbody tr th {\n",
       "        vertical-align: top;\n",
       "    }\n",
       "\n",
       "    .dataframe thead th {\n",
       "        text-align: right;\n",
       "    }\n",
       "</style>\n",
       "<table border=\"1\" class=\"dataframe\">\n",
       "  <thead>\n",
       "    <tr style=\"text-align: right;\">\n",
       "      <th></th>\n",
       "      <th>date</th>\n",
       "      <th>sum</th>\n",
       "    </tr>\n",
       "  </thead>\n",
       "  <tbody>\n",
       "    <tr>\n",
       "      <th>3</th>\n",
       "      <td>2020-02-18</td>\n",
       "      <td>7.0</td>\n",
       "    </tr>\n",
       "    <tr>\n",
       "      <th>4</th>\n",
       "      <td>2020-02-19</td>\n",
       "      <td>12.0</td>\n",
       "    </tr>\n",
       "    <tr>\n",
       "      <th>5</th>\n",
       "      <td>2020-02-20</td>\n",
       "      <td>6.0</td>\n",
       "    </tr>\n",
       "    <tr>\n",
       "      <th>6</th>\n",
       "      <td>2020-02-21</td>\n",
       "      <td>5.0</td>\n",
       "    </tr>\n",
       "    <tr>\n",
       "      <th>9</th>\n",
       "      <td>2020-02-24</td>\n",
       "      <td>16.0</td>\n",
       "    </tr>\n",
       "    <tr>\n",
       "      <th>...</th>\n",
       "      <td>...</td>\n",
       "      <td>...</td>\n",
       "    </tr>\n",
       "    <tr>\n",
       "      <th>233</th>\n",
       "      <td>2022-08-22</td>\n",
       "      <td>-28.0</td>\n",
       "    </tr>\n",
       "    <tr>\n",
       "      <th>234</th>\n",
       "      <td>2022-08-23</td>\n",
       "      <td>-11.0</td>\n",
       "    </tr>\n",
       "    <tr>\n",
       "      <th>235</th>\n",
       "      <td>2022-08-24</td>\n",
       "      <td>-9.0</td>\n",
       "    </tr>\n",
       "    <tr>\n",
       "      <th>236</th>\n",
       "      <td>2022-08-25</td>\n",
       "      <td>-6.0</td>\n",
       "    </tr>\n",
       "    <tr>\n",
       "      <th>237</th>\n",
       "      <td>2022-08-26</td>\n",
       "      <td>-18.0</td>\n",
       "    </tr>\n",
       "  </tbody>\n",
       "</table>\n",
       "<p>638 rows × 2 columns</p>\n",
       "</div>"
      ],
      "text/plain": [
       "           date   sum\n",
       "3    2020-02-18   7.0\n",
       "4    2020-02-19  12.0\n",
       "5    2020-02-20   6.0\n",
       "6    2020-02-21   5.0\n",
       "9    2020-02-24  16.0\n",
       "..          ...   ...\n",
       "233  2022-08-22 -28.0\n",
       "234  2022-08-23 -11.0\n",
       "235  2022-08-24  -9.0\n",
       "236  2022-08-25  -6.0\n",
       "237  2022-08-26 -18.0\n",
       "\n",
       "[638 rows x 2 columns]"
      ]
     },
     "execution_count": 26,
     "metadata": {},
     "output_type": "execute_result"
    }
   ],
   "source": [
    "mobility = pd.read_csv(\"mobl.csv\")\n",
    "\n",
    "mobility = mobility[[\"date\",\"retail_and_recreation_percent_change_from_baseline\",\n",
    "                    \"grocery_and_pharmacy_percent_change_from_baseline\",\"parks_percent_change_from_baseline\",\n",
    "                     \"transit_stations_percent_change_from_baseline\",\"workplaces_percent_change_from_baseline\",\n",
    "                     \"residential_percent_change_from_baseline\"\n",
    "                    ]]\n",
    "mobility[\"sum\"] = mobility[\"retail_and_recreation_percent_change_from_baseline\"]+ mobility[\"grocery_and_pharmacy_percent_change_from_baseline\"] +mobility[\"parks_percent_change_from_baseline\"]+mobility[\"transit_stations_percent_change_from_baseline\"] +mobility[\"workplaces_percent_change_from_baseline\"] + mobility[\"residential_percent_change_from_baseline\"]\n",
    "mobility = mobility[[\"date\",\"sum\"]]\n",
    "mob20 = mobility.drop_duplicates(subset = [\"date\"])\n",
    "\n",
    "mobilit2 = pd.read_csv(\"mobl21.csv\")\n",
    "\n",
    "mobilit2 = mobilit2[[\"date\",\"retail_and_recreation_percent_change_from_baseline\",\n",
    "                    \"grocery_and_pharmacy_percent_change_from_baseline\",\"parks_percent_change_from_baseline\",\n",
    "                     \"transit_stations_percent_change_from_baseline\",\"workplaces_percent_change_from_baseline\",\n",
    "                     \"residential_percent_change_from_baseline\"\n",
    "                    ]]\n",
    "mobilit2[\"sum\"] = mobilit2[\"retail_and_recreation_percent_change_from_baseline\"]+ mobilit2[\"grocery_and_pharmacy_percent_change_from_baseline\"] +mobilit2[\"parks_percent_change_from_baseline\"]+mobilit2[\"transit_stations_percent_change_from_baseline\"] +mobilit2[\"workplaces_percent_change_from_baseline\"] + mobilit2[\"residential_percent_change_from_baseline\"]\n",
    "mobilit2 = mobilit2[[\"date\",\"sum\"]]\n",
    "mob21 = mobilit2.drop_duplicates(subset = [\"date\"])\n",
    "\n",
    "mobilit3 = pd.read_csv(\"mobl22.csv\")\n",
    "\n",
    "mobilit3 = mobilit3[[\"date\",\"retail_and_recreation_percent_change_from_baseline\",\n",
    "                    \"grocery_and_pharmacy_percent_change_from_baseline\",\"parks_percent_change_from_baseline\",\n",
    "                     \"transit_stations_percent_change_from_baseline\",\"workplaces_percent_change_from_baseline\",\n",
    "                     \"residential_percent_change_from_baseline\"\n",
    "                    ]]\n",
    "mobilit3[\"sum\"] = mobilit3[\"retail_and_recreation_percent_change_from_baseline\"]+ mobilit3[\"grocery_and_pharmacy_percent_change_from_baseline\"] +mobilit3[\"parks_percent_change_from_baseline\"]+mobilit3[\"transit_stations_percent_change_from_baseline\"] +mobilit3[\"workplaces_percent_change_from_baseline\"] + mobilit3[\"residential_percent_change_from_baseline\"]\n",
    "mobilit3 = mobilit3[[\"date\",\"sum\"]]\n",
    "mob22 = mobilit3.drop_duplicates(subset = [\"date\"])\n",
    "\n",
    "\n",
    "mobil = pd.concat([mob20,mob21,mob22])\n",
    "\n",
    "ind5 = mobil['date'].values\n",
    "res5 = np.in1d(ind5,ind)\n",
    "mobil = mobil[res5]\n",
    "mobil"
   ]
  },
  {
   "cell_type": "code",
   "execution_count": null,
   "id": "c6743a35",
   "metadata": {},
   "outputs": [],
   "source": [
    "\n"
   ]
  },
  {
   "cell_type": "code",
   "execution_count": 434,
   "id": "bdc1d09b",
   "metadata": {},
   "outputs": [],
   "source": []
  },
  {
   "cell_type": "code",
   "execution_count": null,
   "id": "0ad5f0c1",
   "metadata": {},
   "outputs": [],
   "source": []
  },
  {
   "cell_type": "code",
   "execution_count": null,
   "id": "65081e6a",
   "metadata": {},
   "outputs": [],
   "source": []
  },
  {
   "cell_type": "code",
   "execution_count": null,
   "id": "d10158ce",
   "metadata": {},
   "outputs": [],
   "source": []
  },
  {
   "cell_type": "markdown",
   "id": "2ec00d2b",
   "metadata": {},
   "source": [
    "# USDWT"
   ]
  },
  {
   "cell_type": "code",
   "execution_count": 27,
   "id": "12c32ad4",
   "metadata": {},
   "outputs": [
    {
     "data": {
      "text/plain": [
       "array(['usdwt', '-46.69749216300941', '42.8051445724009', '-183.0',\n",
       "       '-73.0', '-39.0', '-15.0', '45.0'], dtype='<U32')"
      ]
     },
     "execution_count": 27,
     "metadata": {},
     "output_type": "execute_result"
    }
   ],
   "source": [
    "usdwt= np.array([\"usdwt\",\n",
    "                  mobil[\"sum\"].mean(),\n",
    "                  mobil[\"sum\"].std(),\n",
    "                  mobil[\"sum\"].min(),\n",
    "                  mobil[\"sum\"].quantile(0.25),\n",
    "                  mobil[\"sum\"].quantile(0.5),\n",
    "                  mobil[\"sum\"].quantile(0.75),\n",
    "                  mobil[\"sum\"].max()\n",
    " ])\n",
    "usdwt"
   ]
  },
  {
   "cell_type": "code",
   "execution_count": 172,
   "id": "da55ca1c",
   "metadata": {},
   "outputs": [],
   "source": [
    "###\n",
    "###\n",
    "###\n",
    "###\n",
    "###\n",
    "###\n",
    "###\n",
    "###\n",
    "###\n",
    "###\n",
    "###\n",
    "###\n",
    "###\n",
    "###\n",
    "###\n",
    "###"
   ]
  },
  {
   "cell_type": "markdown",
   "id": "aa62a9ef",
   "metadata": {},
   "source": [
    "# REGRESSION!!!!!!!!!!!!!!!!!!!!!!!!!!!!!!!!!!!!!!!!!!!!!!!!!!!!!!!!!!!!!!!!!!!!!!!!!!!!!!!!!!!!!!!!!!"
   ]
  },
  {
   "cell_type": "code",
   "execution_count": 128,
   "id": "053c501b",
   "metadata": {},
   "outputs": [],
   "source": [
    "wm = wmt[[\"Close\",\"Volume\",\"Volt\",\"gvolt\",\"illq\"]]\n",
    "wm = wm.rename(columns={\"Close\":\"Walmart\"})\n"
   ]
  },
  {
   "cell_type": "code",
   "execution_count": 193,
   "id": "d38b95d1",
   "metadata": {},
   "outputs": [
    {
     "data": {
      "text/html": [
       "<div>\n",
       "<style scoped>\n",
       "    .dataframe tbody tr th:only-of-type {\n",
       "        vertical-align: middle;\n",
       "    }\n",
       "\n",
       "    .dataframe tbody tr th {\n",
       "        vertical-align: top;\n",
       "    }\n",
       "\n",
       "    .dataframe thead th {\n",
       "        text-align: right;\n",
       "    }\n",
       "</style>\n",
       "<table border=\"1\" class=\"dataframe\">\n",
       "  <thead>\n",
       "    <tr style=\"text-align: right;\">\n",
       "      <th></th>\n",
       "      <th>Walmart</th>\n",
       "      <th>Volume</th>\n",
       "      <th>Volt</th>\n",
       "      <th>gvolt</th>\n",
       "      <th>illq</th>\n",
       "      <th>s&amp;p500</th>\n",
       "      <th>cases</th>\n",
       "      <th>deaths</th>\n",
       "      <th>stringency</th>\n",
       "      <th>mobility</th>\n",
       "      <th>gtr</th>\n",
       "    </tr>\n",
       "    <tr>\n",
       "      <th>date</th>\n",
       "      <th></th>\n",
       "      <th></th>\n",
       "      <th></th>\n",
       "      <th></th>\n",
       "      <th></th>\n",
       "      <th></th>\n",
       "      <th></th>\n",
       "      <th></th>\n",
       "      <th></th>\n",
       "      <th></th>\n",
       "      <th></th>\n",
       "    </tr>\n",
       "  </thead>\n",
       "  <tbody>\n",
       "    <tr>\n",
       "      <th>2020-02-18</th>\n",
       "      <td>39.876667</td>\n",
       "      <td>34539600</td>\n",
       "      <td>0.021829</td>\n",
       "      <td>0.015657</td>\n",
       "      <td>0.004273</td>\n",
       "      <td>3370.290039</td>\n",
       "      <td>4.0</td>\n",
       "      <td>0.0</td>\n",
       "      <td>8.33</td>\n",
       "      <td>7.0</td>\n",
       "      <td>4.0</td>\n",
       "    </tr>\n",
       "    <tr>\n",
       "      <th>2020-02-19</th>\n",
       "      <td>39.226665</td>\n",
       "      <td>21563400</td>\n",
       "      <td>0.019023</td>\n",
       "      <td>0.015762</td>\n",
       "      <td>0.007559</td>\n",
       "      <td>3386.149902</td>\n",
       "      <td>4.0</td>\n",
       "      <td>0.0</td>\n",
       "      <td>8.33</td>\n",
       "      <td>12.0</td>\n",
       "      <td>4.0</td>\n",
       "    </tr>\n",
       "    <tr>\n",
       "      <th>2020-02-20</th>\n",
       "      <td>39.230000</td>\n",
       "      <td>15068700</td>\n",
       "      <td>0.010640</td>\n",
       "      <td>0.020529</td>\n",
       "      <td>0.000056</td>\n",
       "      <td>3373.229980</td>\n",
       "      <td>4.0</td>\n",
       "      <td>0.0</td>\n",
       "      <td>8.33</td>\n",
       "      <td>6.0</td>\n",
       "      <td>4.0</td>\n",
       "    </tr>\n",
       "    <tr>\n",
       "      <th>2020-02-21</th>\n",
       "      <td>39.526669</td>\n",
       "      <td>18726300</td>\n",
       "      <td>0.012200</td>\n",
       "      <td>0.020036</td>\n",
       "      <td>0.004038</td>\n",
       "      <td>3337.750000</td>\n",
       "      <td>4.0</td>\n",
       "      <td>0.0</td>\n",
       "      <td>8.33</td>\n",
       "      <td>5.0</td>\n",
       "      <td>4.0</td>\n",
       "    </tr>\n",
       "    <tr>\n",
       "      <th>2020-02-24</th>\n",
       "      <td>38.773335</td>\n",
       "      <td>19848000</td>\n",
       "      <td>0.021416</td>\n",
       "      <td>0.018582</td>\n",
       "      <td>0.009602</td>\n",
       "      <td>3225.889893</td>\n",
       "      <td>16.0</td>\n",
       "      <td>0.0</td>\n",
       "      <td>8.33</td>\n",
       "      <td>16.0</td>\n",
       "      <td>16.0</td>\n",
       "    </tr>\n",
       "    <tr>\n",
       "      <th>...</th>\n",
       "      <td>...</td>\n",
       "      <td>...</td>\n",
       "      <td>...</td>\n",
       "      <td>...</td>\n",
       "      <td>...</td>\n",
       "      <td>...</td>\n",
       "      <td>...</td>\n",
       "      <td>...</td>\n",
       "      <td>...</td>\n",
       "      <td>...</td>\n",
       "      <td>...</td>\n",
       "    </tr>\n",
       "    <tr>\n",
       "      <th>2022-08-22</th>\n",
       "      <td>44.856667</td>\n",
       "      <td>18667200</td>\n",
       "      <td>0.016817</td>\n",
       "      <td>0.025569</td>\n",
       "      <td>0.009579</td>\n",
       "      <td>4137.990234</td>\n",
       "      <td>644925.0</td>\n",
       "      <td>3231.0</td>\n",
       "      <td>24.21</td>\n",
       "      <td>-28.0</td>\n",
       "      <td>0.0</td>\n",
       "    </tr>\n",
       "    <tr>\n",
       "      <th>2022-08-23</th>\n",
       "      <td>44.666668</td>\n",
       "      <td>16955100</td>\n",
       "      <td>0.013052</td>\n",
       "      <td>0.022652</td>\n",
       "      <td>0.002498</td>\n",
       "      <td>4128.729980</td>\n",
       "      <td>644925.0</td>\n",
       "      <td>3231.0</td>\n",
       "      <td>24.21</td>\n",
       "      <td>-11.0</td>\n",
       "      <td>0.0</td>\n",
       "    </tr>\n",
       "    <tr>\n",
       "      <th>2022-08-24</th>\n",
       "      <td>44.990002</td>\n",
       "      <td>15766500</td>\n",
       "      <td>0.012570</td>\n",
       "      <td>0.021196</td>\n",
       "      <td>0.004591</td>\n",
       "      <td>4140.770020</td>\n",
       "      <td>644925.0</td>\n",
       "      <td>3231.0</td>\n",
       "      <td>24.21</td>\n",
       "      <td>-9.0</td>\n",
       "      <td>0.0</td>\n",
       "    </tr>\n",
       "    <tr>\n",
       "      <th>2022-08-25</th>\n",
       "      <td>45.290001</td>\n",
       "      <td>19414500</td>\n",
       "      <td>0.007084</td>\n",
       "      <td>0.019843</td>\n",
       "      <td>0.003435</td>\n",
       "      <td>4199.120117</td>\n",
       "      <td>644925.0</td>\n",
       "      <td>3231.0</td>\n",
       "      <td>24.21</td>\n",
       "      <td>-6.0</td>\n",
       "      <td>0.0</td>\n",
       "    </tr>\n",
       "    <tr>\n",
       "      <th>2022-08-26</th>\n",
       "      <td>43.866669</td>\n",
       "      <td>21331800</td>\n",
       "      <td>0.039656</td>\n",
       "      <td>0.018141</td>\n",
       "      <td>0.014732</td>\n",
       "      <td>4057.659912</td>\n",
       "      <td>644925.0</td>\n",
       "      <td>3231.0</td>\n",
       "      <td>24.21</td>\n",
       "      <td>-18.0</td>\n",
       "      <td>0.0</td>\n",
       "    </tr>\n",
       "  </tbody>\n",
       "</table>\n",
       "<p>638 rows × 11 columns</p>\n",
       "</div>"
      ],
      "text/plain": [
       "              Walmart    Volume      Volt     gvolt      illq       s&p500  \\\n",
       "date                                                                         \n",
       "2020-02-18  39.876667  34539600  0.021829  0.015657  0.004273  3370.290039   \n",
       "2020-02-19  39.226665  21563400  0.019023  0.015762  0.007559  3386.149902   \n",
       "2020-02-20  39.230000  15068700  0.010640  0.020529  0.000056  3373.229980   \n",
       "2020-02-21  39.526669  18726300  0.012200  0.020036  0.004038  3337.750000   \n",
       "2020-02-24  38.773335  19848000  0.021416  0.018582  0.009602  3225.889893   \n",
       "...               ...       ...       ...       ...       ...          ...   \n",
       "2022-08-22  44.856667  18667200  0.016817  0.025569  0.009579  4137.990234   \n",
       "2022-08-23  44.666668  16955100  0.013052  0.022652  0.002498  4128.729980   \n",
       "2022-08-24  44.990002  15766500  0.012570  0.021196  0.004591  4140.770020   \n",
       "2022-08-25  45.290001  19414500  0.007084  0.019843  0.003435  4199.120117   \n",
       "2022-08-26  43.866669  21331800  0.039656  0.018141  0.014732  4057.659912   \n",
       "\n",
       "               cases  deaths  stringency  mobility   gtr  \n",
       "date                                                      \n",
       "2020-02-18       4.0     0.0        8.33       7.0   4.0  \n",
       "2020-02-19       4.0     0.0        8.33      12.0   4.0  \n",
       "2020-02-20       4.0     0.0        8.33       6.0   4.0  \n",
       "2020-02-21       4.0     0.0        8.33       5.0   4.0  \n",
       "2020-02-24      16.0     0.0        8.33      16.0  16.0  \n",
       "...              ...     ...         ...       ...   ...  \n",
       "2022-08-22  644925.0  3231.0       24.21     -28.0   0.0  \n",
       "2022-08-23  644925.0  3231.0       24.21     -11.0   0.0  \n",
       "2022-08-24  644925.0  3231.0       24.21      -9.0   0.0  \n",
       "2022-08-25  644925.0  3231.0       24.21      -6.0   0.0  \n",
       "2022-08-26  644925.0  3231.0       24.21     -18.0   0.0  \n",
       "\n",
       "[638 rows x 11 columns]"
      ]
     },
     "execution_count": 193,
     "metadata": {},
     "output_type": "execute_result"
    }
   ],
   "source": [
    "cov = cv.set_index(\"date\")\n",
    "ox=oxf.set_index(\"Date\")\n",
    "mb = mobil.set_index(\"date\")\n",
    "gt = gtr.set_index(\"date\")\n",
    "\n",
    "cov.index = pd.to_datetime(cov.index)\n",
    "ox.index = pd.to_datetime(ox.index)\n",
    "mb.index = pd.to_datetime(mb.index)\n",
    "wm.index.name = \"date\"\n",
    "ox.index.name = \"date\"\n",
    "sp.index.name = 'date'\n",
    "data = pd.concat([wm,sp,cov,ox,mb,gt],axis=1)\n",
    "data = data.rename(columns={\"StringencyIndex_Average\":\"stringency\"})\n",
    "data = data.rename(columns={\"sum\":\"mobility\"})\n",
    "data = data.rename(columns={\"weekly_cases\":\"cases\"})\n",
    "data = data.rename(columns={\"weekly_deaths\":\"deaths\"})\n",
    "\n",
    "\n",
    "data\n",
    "\n",
    "\n"
   ]
  },
  {
   "cell_type": "code",
   "execution_count": 194,
   "id": "dd552bc2",
   "metadata": {},
   "outputs": [
    {
     "data": {
      "text/html": [
       "<div>\n",
       "<style scoped>\n",
       "    .dataframe tbody tr th:only-of-type {\n",
       "        vertical-align: middle;\n",
       "    }\n",
       "\n",
       "    .dataframe tbody tr th {\n",
       "        vertical-align: top;\n",
       "    }\n",
       "\n",
       "    .dataframe thead th {\n",
       "        text-align: right;\n",
       "    }\n",
       "</style>\n",
       "<table border=\"1\" class=\"dataframe\">\n",
       "  <thead>\n",
       "    <tr style=\"text-align: right;\">\n",
       "      <th></th>\n",
       "      <th>Walmart</th>\n",
       "      <th>Volume</th>\n",
       "      <th>Volt</th>\n",
       "      <th>gvolt</th>\n",
       "      <th>illq</th>\n",
       "      <th>s&amp;p500</th>\n",
       "      <th>cases</th>\n",
       "      <th>deaths</th>\n",
       "      <th>stringency</th>\n",
       "      <th>mobility</th>\n",
       "      <th>gtr</th>\n",
       "    </tr>\n",
       "    <tr>\n",
       "      <th>date</th>\n",
       "      <th></th>\n",
       "      <th></th>\n",
       "      <th></th>\n",
       "      <th></th>\n",
       "      <th></th>\n",
       "      <th></th>\n",
       "      <th></th>\n",
       "      <th></th>\n",
       "      <th></th>\n",
       "      <th></th>\n",
       "      <th></th>\n",
       "    </tr>\n",
       "  </thead>\n",
       "  <tbody>\n",
       "    <tr>\n",
       "      <th>2020-02-18</th>\n",
       "      <td>39.876667</td>\n",
       "      <td>34539600</td>\n",
       "      <td>-3.824521</td>\n",
       "      <td>-4.156818</td>\n",
       "      <td>-5.455385</td>\n",
       "      <td>3370.290039</td>\n",
       "      <td>1.609438</td>\n",
       "      <td>0.000000</td>\n",
       "      <td>2.233235</td>\n",
       "      <td>7.0</td>\n",
       "      <td>1.609438</td>\n",
       "    </tr>\n",
       "    <tr>\n",
       "      <th>2020-02-19</th>\n",
       "      <td>39.226665</td>\n",
       "      <td>21563400</td>\n",
       "      <td>-3.962130</td>\n",
       "      <td>-4.150138</td>\n",
       "      <td>-4.884984</td>\n",
       "      <td>3386.149902</td>\n",
       "      <td>1.609438</td>\n",
       "      <td>0.000000</td>\n",
       "      <td>2.233235</td>\n",
       "      <td>12.0</td>\n",
       "      <td>1.609438</td>\n",
       "    </tr>\n",
       "    <tr>\n",
       "      <th>2020-02-20</th>\n",
       "      <td>39.230000</td>\n",
       "      <td>15068700</td>\n",
       "      <td>-4.543164</td>\n",
       "      <td>-3.885899</td>\n",
       "      <td>-9.782960</td>\n",
       "      <td>3373.229980</td>\n",
       "      <td>1.609438</td>\n",
       "      <td>0.000000</td>\n",
       "      <td>2.233235</td>\n",
       "      <td>6.0</td>\n",
       "      <td>1.609438</td>\n",
       "    </tr>\n",
       "    <tr>\n",
       "      <th>2020-02-21</th>\n",
       "      <td>39.526669</td>\n",
       "      <td>18726300</td>\n",
       "      <td>-4.406284</td>\n",
       "      <td>-3.910202</td>\n",
       "      <td>-5.511924</td>\n",
       "      <td>3337.750000</td>\n",
       "      <td>1.609438</td>\n",
       "      <td>0.000000</td>\n",
       "      <td>2.233235</td>\n",
       "      <td>5.0</td>\n",
       "      <td>1.609438</td>\n",
       "    </tr>\n",
       "    <tr>\n",
       "      <th>2020-02-24</th>\n",
       "      <td>38.773335</td>\n",
       "      <td>19848000</td>\n",
       "      <td>-3.843604</td>\n",
       "      <td>-3.985552</td>\n",
       "      <td>-4.645740</td>\n",
       "      <td>3225.889893</td>\n",
       "      <td>2.833213</td>\n",
       "      <td>0.000000</td>\n",
       "      <td>2.233235</td>\n",
       "      <td>16.0</td>\n",
       "      <td>2.833213</td>\n",
       "    </tr>\n",
       "    <tr>\n",
       "      <th>...</th>\n",
       "      <td>...</td>\n",
       "      <td>...</td>\n",
       "      <td>...</td>\n",
       "      <td>...</td>\n",
       "      <td>...</td>\n",
       "      <td>...</td>\n",
       "      <td>...</td>\n",
       "      <td>...</td>\n",
       "      <td>...</td>\n",
       "      <td>...</td>\n",
       "      <td>...</td>\n",
       "    </tr>\n",
       "    <tr>\n",
       "      <th>2022-08-22</th>\n",
       "      <td>44.856667</td>\n",
       "      <td>18667200</td>\n",
       "      <td>-4.085360</td>\n",
       "      <td>-3.666391</td>\n",
       "      <td>-4.648223</td>\n",
       "      <td>4137.990234</td>\n",
       "      <td>13.376891</td>\n",
       "      <td>8.080856</td>\n",
       "      <td>3.227241</td>\n",
       "      <td>-28.0</td>\n",
       "      <td>0.000000</td>\n",
       "    </tr>\n",
       "    <tr>\n",
       "      <th>2022-08-23</th>\n",
       "      <td>44.666668</td>\n",
       "      <td>16955100</td>\n",
       "      <td>-4.338840</td>\n",
       "      <td>-3.787514</td>\n",
       "      <td>-5.992194</td>\n",
       "      <td>4128.729980</td>\n",
       "      <td>13.376891</td>\n",
       "      <td>8.080856</td>\n",
       "      <td>3.227241</td>\n",
       "      <td>-11.0</td>\n",
       "      <td>0.000000</td>\n",
       "    </tr>\n",
       "    <tr>\n",
       "      <th>2022-08-24</th>\n",
       "      <td>44.990002</td>\n",
       "      <td>15766500</td>\n",
       "      <td>-4.376410</td>\n",
       "      <td>-3.853950</td>\n",
       "      <td>-5.383600</td>\n",
       "      <td>4140.770020</td>\n",
       "      <td>13.376891</td>\n",
       "      <td>8.080856</td>\n",
       "      <td>3.227241</td>\n",
       "      <td>-9.0</td>\n",
       "      <td>0.000000</td>\n",
       "    </tr>\n",
       "    <tr>\n",
       "      <th>2022-08-25</th>\n",
       "      <td>45.290001</td>\n",
       "      <td>19414500</td>\n",
       "      <td>-4.949852</td>\n",
       "      <td>-3.919891</td>\n",
       "      <td>-5.673851</td>\n",
       "      <td>4199.120117</td>\n",
       "      <td>13.376891</td>\n",
       "      <td>8.080856</td>\n",
       "      <td>3.227241</td>\n",
       "      <td>-6.0</td>\n",
       "      <td>0.000000</td>\n",
       "    </tr>\n",
       "    <tr>\n",
       "      <th>2022-08-26</th>\n",
       "      <td>43.866669</td>\n",
       "      <td>21331800</td>\n",
       "      <td>-3.227503</td>\n",
       "      <td>-4.009573</td>\n",
       "      <td>-4.217699</td>\n",
       "      <td>4057.659912</td>\n",
       "      <td>13.376891</td>\n",
       "      <td>8.080856</td>\n",
       "      <td>3.227241</td>\n",
       "      <td>-18.0</td>\n",
       "      <td>0.000000</td>\n",
       "    </tr>\n",
       "  </tbody>\n",
       "</table>\n",
       "<p>638 rows × 11 columns</p>\n",
       "</div>"
      ],
      "text/plain": [
       "              Walmart    Volume      Volt     gvolt      illq       s&p500  \\\n",
       "date                                                                         \n",
       "2020-02-18  39.876667  34539600 -3.824521 -4.156818 -5.455385  3370.290039   \n",
       "2020-02-19  39.226665  21563400 -3.962130 -4.150138 -4.884984  3386.149902   \n",
       "2020-02-20  39.230000  15068700 -4.543164 -3.885899 -9.782960  3373.229980   \n",
       "2020-02-21  39.526669  18726300 -4.406284 -3.910202 -5.511924  3337.750000   \n",
       "2020-02-24  38.773335  19848000 -3.843604 -3.985552 -4.645740  3225.889893   \n",
       "...               ...       ...       ...       ...       ...          ...   \n",
       "2022-08-22  44.856667  18667200 -4.085360 -3.666391 -4.648223  4137.990234   \n",
       "2022-08-23  44.666668  16955100 -4.338840 -3.787514 -5.992194  4128.729980   \n",
       "2022-08-24  44.990002  15766500 -4.376410 -3.853950 -5.383600  4140.770020   \n",
       "2022-08-25  45.290001  19414500 -4.949852 -3.919891 -5.673851  4199.120117   \n",
       "2022-08-26  43.866669  21331800 -3.227503 -4.009573 -4.217699  4057.659912   \n",
       "\n",
       "                cases    deaths  stringency  mobility       gtr  \n",
       "date                                                             \n",
       "2020-02-18   1.609438  0.000000    2.233235       7.0  1.609438  \n",
       "2020-02-19   1.609438  0.000000    2.233235      12.0  1.609438  \n",
       "2020-02-20   1.609438  0.000000    2.233235       6.0  1.609438  \n",
       "2020-02-21   1.609438  0.000000    2.233235       5.0  1.609438  \n",
       "2020-02-24   2.833213  0.000000    2.233235      16.0  2.833213  \n",
       "...               ...       ...         ...       ...       ...  \n",
       "2022-08-22  13.376891  8.080856    3.227241     -28.0  0.000000  \n",
       "2022-08-23  13.376891  8.080856    3.227241     -11.0  0.000000  \n",
       "2022-08-24  13.376891  8.080856    3.227241      -9.0  0.000000  \n",
       "2022-08-25  13.376891  8.080856    3.227241      -6.0  0.000000  \n",
       "2022-08-26  13.376891  8.080856    3.227241     -18.0  0.000000  \n",
       "\n",
       "[638 rows x 11 columns]"
      ]
     },
     "execution_count": 194,
     "metadata": {},
     "output_type": "execute_result"
    }
   ],
   "source": [
    "# data[\"weekly_cases\"] = np.log(data[\"weekly_cases\"])\n",
    "# data\n",
    "data[\"cases\"] = np.log(data[\"cases\"]+1)\n",
    "data[\"deaths\"] = np.log(data[\"deaths\"] + 1)\n",
    "data[\"stringency\"] = np.log(data[\"stringency\"] + 1)\n",
    "data[\"gtr\"] = np.log(data[\"gtr\"] + 1)\n",
    "data[\"illq\"] = np.log(data['illq'])\n",
    "data['Volt'] = np.log(data[\"Volt\"])\n",
    "data[\"gvolt\"] = np.log(data[\"gvolt\"])\n",
    "data"
   ]
  },
  {
   "cell_type": "code",
   "execution_count": 195,
   "id": "3beb010e",
   "metadata": {},
   "outputs": [
    {
     "name": "stdout",
     "output_type": "stream",
     "text": [
      "6\n"
     ]
    },
    {
     "data": {
      "text/html": [
       "<div>\n",
       "<style scoped>\n",
       "    .dataframe tbody tr th:only-of-type {\n",
       "        vertical-align: middle;\n",
       "    }\n",
       "\n",
       "    .dataframe tbody tr th {\n",
       "        vertical-align: top;\n",
       "    }\n",
       "\n",
       "    .dataframe thead th {\n",
       "        text-align: right;\n",
       "    }\n",
       "</style>\n",
       "<table border=\"1\" class=\"dataframe\">\n",
       "  <thead>\n",
       "    <tr style=\"text-align: right;\">\n",
       "      <th></th>\n",
       "      <th>Walmart</th>\n",
       "      <th>Volume</th>\n",
       "      <th>Volt</th>\n",
       "      <th>gvolt</th>\n",
       "      <th>illq</th>\n",
       "      <th>s&amp;p500</th>\n",
       "      <th>cases</th>\n",
       "      <th>deaths</th>\n",
       "      <th>stringency</th>\n",
       "      <th>mobility</th>\n",
       "      <th>gtr</th>\n",
       "    </tr>\n",
       "  </thead>\n",
       "  <tbody>\n",
       "    <tr>\n",
       "      <th>Walmart</th>\n",
       "      <td>1.000000</td>\n",
       "      <td>-0.237249</td>\n",
       "      <td>-0.393753</td>\n",
       "      <td>-0.454589</td>\n",
       "      <td>-0.066310</td>\n",
       "      <td>0.647000</td>\n",
       "      <td>0.487163</td>\n",
       "      <td>0.464711</td>\n",
       "      <td>0.147935</td>\n",
       "      <td>-0.127355</td>\n",
       "      <td>-0.473410</td>\n",
       "    </tr>\n",
       "    <tr>\n",
       "      <th>Volume</th>\n",
       "      <td>-0.237249</td>\n",
       "      <td>1.000000</td>\n",
       "      <td>0.602284</td>\n",
       "      <td>0.310568</td>\n",
       "      <td>0.089837</td>\n",
       "      <td>-0.173383</td>\n",
       "      <td>-0.129146</td>\n",
       "      <td>-0.128645</td>\n",
       "      <td>-0.015176</td>\n",
       "      <td>-0.020337</td>\n",
       "      <td>0.148794</td>\n",
       "    </tr>\n",
       "    <tr>\n",
       "      <th>Volt</th>\n",
       "      <td>-0.393753</td>\n",
       "      <td>0.602284</td>\n",
       "      <td>1.000000</td>\n",
       "      <td>0.560687</td>\n",
       "      <td>0.344260</td>\n",
       "      <td>-0.406872</td>\n",
       "      <td>-0.286749</td>\n",
       "      <td>-0.310315</td>\n",
       "      <td>-0.171848</td>\n",
       "      <td>-0.081673</td>\n",
       "      <td>0.314603</td>\n",
       "    </tr>\n",
       "    <tr>\n",
       "      <th>gvolt</th>\n",
       "      <td>-0.454589</td>\n",
       "      <td>0.310568</td>\n",
       "      <td>0.560687</td>\n",
       "      <td>1.000000</td>\n",
       "      <td>0.099895</td>\n",
       "      <td>-0.476738</td>\n",
       "      <td>-0.328250</td>\n",
       "      <td>-0.372512</td>\n",
       "      <td>-0.101622</td>\n",
       "      <td>-0.111118</td>\n",
       "      <td>0.380424</td>\n",
       "    </tr>\n",
       "    <tr>\n",
       "      <th>illq</th>\n",
       "      <td>-0.066310</td>\n",
       "      <td>0.089837</td>\n",
       "      <td>0.344260</td>\n",
       "      <td>0.099895</td>\n",
       "      <td>1.000000</td>\n",
       "      <td>-0.065010</td>\n",
       "      <td>-0.104222</td>\n",
       "      <td>-0.111095</td>\n",
       "      <td>-0.114194</td>\n",
       "      <td>0.008958</td>\n",
       "      <td>0.023076</td>\n",
       "    </tr>\n",
       "    <tr>\n",
       "      <th>s&amp;p500</th>\n",
       "      <td>0.647000</td>\n",
       "      <td>-0.173383</td>\n",
       "      <td>-0.406872</td>\n",
       "      <td>-0.476738</td>\n",
       "      <td>-0.065010</td>\n",
       "      <td>1.000000</td>\n",
       "      <td>0.443979</td>\n",
       "      <td>0.282086</td>\n",
       "      <td>-0.264066</td>\n",
       "      <td>0.258796</td>\n",
       "      <td>-0.856876</td>\n",
       "    </tr>\n",
       "    <tr>\n",
       "      <th>cases</th>\n",
       "      <td>0.487163</td>\n",
       "      <td>-0.129146</td>\n",
       "      <td>-0.286749</td>\n",
       "      <td>-0.328250</td>\n",
       "      <td>-0.104222</td>\n",
       "      <td>0.443979</td>\n",
       "      <td>1.000000</td>\n",
       "      <td>0.900142</td>\n",
       "      <td>0.460472</td>\n",
       "      <td>-0.309953</td>\n",
       "      <td>-0.417629</td>\n",
       "    </tr>\n",
       "    <tr>\n",
       "      <th>deaths</th>\n",
       "      <td>0.464711</td>\n",
       "      <td>-0.128645</td>\n",
       "      <td>-0.310315</td>\n",
       "      <td>-0.372512</td>\n",
       "      <td>-0.111095</td>\n",
       "      <td>0.282086</td>\n",
       "      <td>0.900142</td>\n",
       "      <td>1.000000</td>\n",
       "      <td>0.670625</td>\n",
       "      <td>-0.476122</td>\n",
       "      <td>-0.171671</td>\n",
       "    </tr>\n",
       "    <tr>\n",
       "      <th>stringency</th>\n",
       "      <td>0.147935</td>\n",
       "      <td>-0.015176</td>\n",
       "      <td>-0.171848</td>\n",
       "      <td>-0.101622</td>\n",
       "      <td>-0.114194</td>\n",
       "      <td>-0.264066</td>\n",
       "      <td>0.460472</td>\n",
       "      <td>0.670625</td>\n",
       "      <td>1.000000</td>\n",
       "      <td>-0.532052</td>\n",
       "      <td>0.446519</td>\n",
       "    </tr>\n",
       "    <tr>\n",
       "      <th>mobility</th>\n",
       "      <td>-0.127355</td>\n",
       "      <td>-0.020337</td>\n",
       "      <td>-0.081673</td>\n",
       "      <td>-0.111118</td>\n",
       "      <td>0.008958</td>\n",
       "      <td>0.258796</td>\n",
       "      <td>-0.309953</td>\n",
       "      <td>-0.476122</td>\n",
       "      <td>-0.532052</td>\n",
       "      <td>1.000000</td>\n",
       "      <td>-0.367786</td>\n",
       "    </tr>\n",
       "    <tr>\n",
       "      <th>gtr</th>\n",
       "      <td>-0.473410</td>\n",
       "      <td>0.148794</td>\n",
       "      <td>0.314603</td>\n",
       "      <td>0.380424</td>\n",
       "      <td>0.023076</td>\n",
       "      <td>-0.856876</td>\n",
       "      <td>-0.417629</td>\n",
       "      <td>-0.171671</td>\n",
       "      <td>0.446519</td>\n",
       "      <td>-0.367786</td>\n",
       "      <td>1.000000</td>\n",
       "    </tr>\n",
       "  </tbody>\n",
       "</table>\n",
       "</div>"
      ],
      "text/plain": [
       "             Walmart    Volume      Volt     gvolt      illq    s&p500  \\\n",
       "Walmart     1.000000 -0.237249 -0.393753 -0.454589 -0.066310  0.647000   \n",
       "Volume     -0.237249  1.000000  0.602284  0.310568  0.089837 -0.173383   \n",
       "Volt       -0.393753  0.602284  1.000000  0.560687  0.344260 -0.406872   \n",
       "gvolt      -0.454589  0.310568  0.560687  1.000000  0.099895 -0.476738   \n",
       "illq       -0.066310  0.089837  0.344260  0.099895  1.000000 -0.065010   \n",
       "s&p500      0.647000 -0.173383 -0.406872 -0.476738 -0.065010  1.000000   \n",
       "cases       0.487163 -0.129146 -0.286749 -0.328250 -0.104222  0.443979   \n",
       "deaths      0.464711 -0.128645 -0.310315 -0.372512 -0.111095  0.282086   \n",
       "stringency  0.147935 -0.015176 -0.171848 -0.101622 -0.114194 -0.264066   \n",
       "mobility   -0.127355 -0.020337 -0.081673 -0.111118  0.008958  0.258796   \n",
       "gtr        -0.473410  0.148794  0.314603  0.380424  0.023076 -0.856876   \n",
       "\n",
       "               cases    deaths  stringency  mobility       gtr  \n",
       "Walmart     0.487163  0.464711    0.147935 -0.127355 -0.473410  \n",
       "Volume     -0.129146 -0.128645   -0.015176 -0.020337  0.148794  \n",
       "Volt       -0.286749 -0.310315   -0.171848 -0.081673  0.314603  \n",
       "gvolt      -0.328250 -0.372512   -0.101622 -0.111118  0.380424  \n",
       "illq       -0.104222 -0.111095   -0.114194  0.008958  0.023076  \n",
       "s&p500      0.443979  0.282086   -0.264066  0.258796 -0.856876  \n",
       "cases       1.000000  0.900142    0.460472 -0.309953 -0.417629  \n",
       "deaths      0.900142  1.000000    0.670625 -0.476122 -0.171671  \n",
       "stringency  0.460472  0.670625    1.000000 -0.532052  0.446519  \n",
       "mobility   -0.309953 -0.476122   -0.532052  1.000000 -0.367786  \n",
       "gtr        -0.417629 -0.171671    0.446519 -0.367786  1.000000  "
      ]
     },
     "execution_count": 195,
     "metadata": {},
     "output_type": "execute_result"
    }
   ],
   "source": [
    "matr = data.cov()\n",
    "matr\n",
    "rank=np.linalg.matrix_rank(matr)\n",
    "corr = data.corr()\n",
    "print(rank)\n",
    "corr"
   ]
  },
  {
   "cell_type": "code",
   "execution_count": null,
   "id": "37497575",
   "metadata": {},
   "outputs": [],
   "source": []
  },
  {
   "cell_type": "code",
   "execution_count": null,
   "id": "da60021b",
   "metadata": {},
   "outputs": [],
   "source": []
  },
  {
   "cell_type": "code",
   "execution_count": 169,
   "id": "33f4b46a",
   "metadata": {},
   "outputs": [],
   "source": []
  },
  {
   "cell_type": "code",
   "execution_count": 176,
   "id": "efade162",
   "metadata": {},
   "outputs": [],
   "source": []
  },
  {
   "cell_type": "code",
   "execution_count": 179,
   "id": "47b3db78",
   "metadata": {},
   "outputs": [],
   "source": []
  },
  {
   "cell_type": "code",
   "execution_count": null,
   "id": "31498f29",
   "metadata": {},
   "outputs": [],
   "source": []
  },
  {
   "cell_type": "code",
   "execution_count": null,
   "id": "ac937cf1",
   "metadata": {},
   "outputs": [],
   "source": []
  },
  {
   "cell_type": "code",
   "execution_count": null,
   "id": "90aebd50",
   "metadata": {},
   "outputs": [],
   "source": []
  },
  {
   "cell_type": "code",
   "execution_count": null,
   "id": "bbdee7a9",
   "metadata": {},
   "outputs": [],
   "source": []
  },
  {
   "cell_type": "code",
   "execution_count": null,
   "id": "eb78e27e",
   "metadata": {
    "scrolled": true
   },
   "outputs": [],
   "source": []
  },
  {
   "cell_type": "code",
   "execution_count": null,
   "id": "66152245",
   "metadata": {},
   "outputs": [],
   "source": []
  },
  {
   "cell_type": "code",
   "execution_count": null,
   "id": "5db955d2",
   "metadata": {},
   "outputs": [],
   "source": []
  },
  {
   "cell_type": "code",
   "execution_count": null,
   "id": "11bd2eef",
   "metadata": {},
   "outputs": [],
   "source": []
  },
  {
   "cell_type": "code",
   "execution_count": null,
   "id": "c9b3d767",
   "metadata": {},
   "outputs": [],
   "source": []
  },
  {
   "cell_type": "code",
   "execution_count": null,
   "id": "796e75da",
   "metadata": {},
   "outputs": [],
   "source": []
  },
  {
   "cell_type": "code",
   "execution_count": null,
   "id": "a62142b5",
   "metadata": {},
   "outputs": [],
   "source": []
  },
  {
   "cell_type": "code",
   "execution_count": null,
   "id": "a327ce04",
   "metadata": {},
   "outputs": [],
   "source": []
  },
  {
   "cell_type": "code",
   "execution_count": null,
   "id": "1d3b89fc",
   "metadata": {},
   "outputs": [],
   "source": []
  },
  {
   "cell_type": "code",
   "execution_count": null,
   "id": "3f9c4c39",
   "metadata": {},
   "outputs": [],
   "source": []
  },
  {
   "cell_type": "code",
   "execution_count": null,
   "id": "a6398a9d",
   "metadata": {},
   "outputs": [],
   "source": []
  },
  {
   "cell_type": "code",
   "execution_count": null,
   "id": "9f61eda2",
   "metadata": {},
   "outputs": [],
   "source": []
  },
  {
   "cell_type": "code",
   "execution_count": 186,
   "id": "74820149",
   "metadata": {},
   "outputs": [],
   "source": [
    "from linearmodels.iv import IV2SLS\n",
    "from linearmodels.panel import PanelOLS"
   ]
  },
  {
   "cell_type": "markdown",
   "id": "a7c5e280",
   "metadata": {},
   "source": [
    "# WALMART VOL"
   ]
  },
  {
   "cell_type": "code",
   "execution_count": 242,
   "id": "dc0c409f",
   "metadata": {},
   "outputs": [
    {
     "name": "stdout",
     "output_type": "stream",
     "text": [
      "standart error:  [0.17443552 0.17808783 0.17742808 0.16823661 0.17757441]\n",
      "f statistica:  [50.17346732 47.77026011 46.3542972  49.55482348 46.60454329]\n"
     ]
    },
    {
     "data": {
      "text/html": [
       "<div>\n",
       "<style scoped>\n",
       "    .dataframe tbody tr th:only-of-type {\n",
       "        vertical-align: middle;\n",
       "    }\n",
       "\n",
       "    .dataframe tbody tr th {\n",
       "        vertical-align: top;\n",
       "    }\n",
       "\n",
       "    .dataframe thead th {\n",
       "        text-align: right;\n",
       "    }\n",
       "</style>\n",
       "<table border=\"1\" class=\"dataframe\">\n",
       "  <thead>\n",
       "    <tr style=\"text-align: right;\">\n",
       "      <th></th>\n",
       "      <th>vol1</th>\n",
       "      <th>*</th>\n",
       "      <th>vol2</th>\n",
       "      <th>*</th>\n",
       "      <th>vol3</th>\n",
       "      <th>*</th>\n",
       "      <th>vol4</th>\n",
       "      <th>*</th>\n",
       "      <th>vol5</th>\n",
       "      <th>*</th>\n",
       "    </tr>\n",
       "  </thead>\n",
       "  <tbody>\n",
       "    <tr>\n",
       "      <th>b_deaths</th>\n",
       "      <td>-0.04335</td>\n",
       "      <td>**</td>\n",
       "      <td>NaN</td>\n",
       "      <td>NaN</td>\n",
       "      <td>NaN</td>\n",
       "      <td>NaN</td>\n",
       "      <td>NaN</td>\n",
       "      <td>NaN</td>\n",
       "      <td>NaN</td>\n",
       "      <td>NaN</td>\n",
       "    </tr>\n",
       "    <tr>\n",
       "      <th>b_gtr</th>\n",
       "      <td>NaN</td>\n",
       "      <td>NaN</td>\n",
       "      <td>-0.011057</td>\n",
       "      <td></td>\n",
       "      <td>NaN</td>\n",
       "      <td>NaN</td>\n",
       "      <td>NaN</td>\n",
       "      <td>NaN</td>\n",
       "      <td>NaN</td>\n",
       "      <td>NaN</td>\n",
       "    </tr>\n",
       "    <tr>\n",
       "      <th>b_mobility</th>\n",
       "      <td>NaN</td>\n",
       "      <td>NaN</td>\n",
       "      <td>NaN</td>\n",
       "      <td>NaN</td>\n",
       "      <td>-0.000698</td>\n",
       "      <td></td>\n",
       "      <td>NaN</td>\n",
       "      <td>NaN</td>\n",
       "      <td>NaN</td>\n",
       "      <td>NaN</td>\n",
       "    </tr>\n",
       "    <tr>\n",
       "      <th>b_stringency</th>\n",
       "      <td>NaN</td>\n",
       "      <td>NaN</td>\n",
       "      <td>NaN</td>\n",
       "      <td>NaN</td>\n",
       "      <td>NaN</td>\n",
       "      <td>NaN</td>\n",
       "      <td>-0.295814</td>\n",
       "      <td>***</td>\n",
       "      <td>NaN</td>\n",
       "      <td>NaN</td>\n",
       "    </tr>\n",
       "    <tr>\n",
       "      <th>b_cases</th>\n",
       "      <td>NaN</td>\n",
       "      <td>NaN</td>\n",
       "      <td>NaN</td>\n",
       "      <td>NaN</td>\n",
       "      <td>NaN</td>\n",
       "      <td>NaN</td>\n",
       "      <td>NaN</td>\n",
       "      <td>NaN</td>\n",
       "      <td>-0.014535</td>\n",
       "      <td></td>\n",
       "    </tr>\n",
       "    <tr>\n",
       "      <th>b_illq</th>\n",
       "      <td>0.12787</td>\n",
       "      <td>***</td>\n",
       "      <td>0.132268</td>\n",
       "      <td>***</td>\n",
       "      <td>0.132936</td>\n",
       "      <td>***</td>\n",
       "      <td>0.121059</td>\n",
       "      <td>***</td>\n",
       "      <td>0.131027</td>\n",
       "      <td>***</td>\n",
       "    </tr>\n",
       "    <tr>\n",
       "      <th>b_Walmart</th>\n",
       "      <td>-0.020971</td>\n",
       "      <td>**</td>\n",
       "      <td>-0.030018</td>\n",
       "      <td>***</td>\n",
       "      <td>-0.034914</td>\n",
       "      <td>***</td>\n",
       "      <td>-0.012472</td>\n",
       "      <td></td>\n",
       "      <td>-0.027829</td>\n",
       "      <td>***</td>\n",
       "    </tr>\n",
       "    <tr>\n",
       "      <th>b_s&amp;p500</th>\n",
       "      <td>-0.000218</td>\n",
       "      <td>***</td>\n",
       "      <td>-0.000235</td>\n",
       "      <td>***</td>\n",
       "      <td>-0.000184</td>\n",
       "      <td>***</td>\n",
       "      <td>-0.000337</td>\n",
       "      <td>***</td>\n",
       "      <td>-0.000204</td>\n",
       "      <td>***</td>\n",
       "    </tr>\n",
       "    <tr>\n",
       "      <th>constant</th>\n",
       "      <td>-1.151018</td>\n",
       "      <td>***</td>\n",
       "      <td>-1.151018</td>\n",
       "      <td>***</td>\n",
       "      <td>-1.151018</td>\n",
       "      <td>***</td>\n",
       "      <td>-1.151018</td>\n",
       "      <td>***</td>\n",
       "      <td>-1.151018</td>\n",
       "      <td>***</td>\n",
       "    </tr>\n",
       "    <tr>\n",
       "      <th>robust_se</th>\n",
       "      <td>NaN</td>\n",
       "      <td>NaN</td>\n",
       "      <td>NaN</td>\n",
       "      <td>NaN</td>\n",
       "      <td>NaN</td>\n",
       "      <td>NaN</td>\n",
       "      <td>NaN</td>\n",
       "      <td>NaN</td>\n",
       "      <td>NaN</td>\n",
       "      <td>NaN</td>\n",
       "    </tr>\n",
       "    <tr>\n",
       "      <th>observations</th>\n",
       "      <td>638.0</td>\n",
       "      <td>638.0</td>\n",
       "      <td>638.0</td>\n",
       "      <td>638.0</td>\n",
       "      <td>638.0</td>\n",
       "      <td>638.0</td>\n",
       "      <td>638.0</td>\n",
       "      <td>638.0</td>\n",
       "      <td>638.0</td>\n",
       "      <td>638.0</td>\n",
       "    </tr>\n",
       "    <tr>\n",
       "      <th>r-squared</th>\n",
       "      <td>0.307599</td>\n",
       "      <td>0.307599</td>\n",
       "      <td>0.293102</td>\n",
       "      <td>0.293102</td>\n",
       "      <td>0.295721</td>\n",
       "      <td>0.295721</td>\n",
       "      <td>0.332205</td>\n",
       "      <td>0.332205</td>\n",
       "      <td>0.29514</td>\n",
       "      <td>0.29514</td>\n",
       "    </tr>\n",
       "  </tbody>\n",
       "</table>\n",
       "</div>"
      ],
      "text/plain": [
       "                  vol1         *      vol2         *      vol3         *  \\\n",
       "b_deaths      -0.04335        **       NaN       NaN       NaN       NaN   \n",
       "b_gtr              NaN       NaN -0.011057                 NaN       NaN   \n",
       "b_mobility         NaN       NaN       NaN       NaN -0.000698             \n",
       "b_stringency       NaN       NaN       NaN       NaN       NaN       NaN   \n",
       "b_cases            NaN       NaN       NaN       NaN       NaN       NaN   \n",
       "b_illq         0.12787       ***  0.132268       ***  0.132936       ***   \n",
       "b_Walmart    -0.020971        ** -0.030018       *** -0.034914       ***   \n",
       "b_s&p500     -0.000218       *** -0.000235       *** -0.000184       ***   \n",
       "constant     -1.151018       *** -1.151018       *** -1.151018       ***   \n",
       "robust_se          NaN       NaN       NaN       NaN       NaN       NaN   \n",
       "observations     638.0     638.0     638.0     638.0     638.0     638.0   \n",
       "r-squared     0.307599  0.307599  0.293102  0.293102  0.295721  0.295721   \n",
       "\n",
       "                  vol4         *      vol5        *  \n",
       "b_deaths           NaN       NaN       NaN      NaN  \n",
       "b_gtr              NaN       NaN       NaN      NaN  \n",
       "b_mobility         NaN       NaN       NaN      NaN  \n",
       "b_stringency -0.295814       ***       NaN      NaN  \n",
       "b_cases            NaN       NaN -0.014535           \n",
       "b_illq        0.121059       ***  0.131027      ***  \n",
       "b_Walmart    -0.012472           -0.027829      ***  \n",
       "b_s&p500     -0.000337       *** -0.000204      ***  \n",
       "constant     -1.151018       *** -1.151018      ***  \n",
       "robust_se          NaN       NaN       NaN      NaN  \n",
       "observations     638.0     638.0     638.0    638.0  \n",
       "r-squared     0.332205  0.332205   0.29514  0.29514  "
      ]
     },
     "execution_count": 242,
     "metadata": {},
     "output_type": "execute_result"
    }
   ],
   "source": [
    "def significance_stars(p_value):\n",
    "    if p_value < 0.001:\n",
    "        return '***'\n",
    "    elif p_value < 0.01:\n",
    "        return '**'\n",
    "    elif p_value < 0.05:\n",
    "        return '*'\n",
    "    else:\n",
    "        return ''\n",
    "\n",
    "data['constant'] = 1\n",
    "model1 = sm.OLS(data['Volt'], data[['constant', 'deaths', 'Walmart', 's&p500', 'illq']])\n",
    "result1 = model1.fit(cov_type='HC1')  # Для robust standard errors\n",
    "results_summary1 = result1.summary()\n",
    "p_values1 = result1.pvalues\n",
    "table_data1 = {\n",
    "    'b_deaths': [result1.params['deaths'], significance_stars(p_values1['deaths'])],\n",
    "    'b_gtr':[np.nan],\n",
    "    'b_mobility':[np.nan],\n",
    "    'b_stringency':[np.nan],\n",
    "    'b_cases':[np.nan],\n",
    "    'b_illq': [result1.params['illq'], significance_stars(p_values1['illq'])],\n",
    "    'b_Walmart': [result1.params['Walmart'], significance_stars(p_values1['Walmart'])],\n",
    "    'b_s&p500': [result1.params['s&p500'], significance_stars(p_values1['s&p500'])],\n",
    "    'constant': [result1.params['constant'], significance_stars(p_values1['constant'])],\n",
    "    'robust_se': result1.bse,\n",
    "    'observations': result1.nobs,\n",
    "    'r-squared': result1.rsquared\n",
    "}\n",
    "vol1 = pd.DataFrame(table_data1, index=['vol1', '*'])\n",
    "\n",
    "model2 = sm.OLS(data['Volt'], data[['constant', 'gtr', 'Walmart', 's&p500', 'illq']])\n",
    "result2 = model2.fit(cov_type='HC1')  # Для robust standard errors\n",
    "results_summary2 = result2.summary()\n",
    "p_values2 = result2.pvalues\n",
    "table_data2 = {\n",
    "    'b_gtr': [result2.params['gtr'], significance_stars(p_values2['gtr'])],\n",
    "    'b_illq': [result2.params['illq'], significance_stars(p_values2['illq'])],\n",
    "    'b_Walmart': [result2.params['Walmart'], significance_stars(p_values2['Walmart'])],\n",
    "    'b_s&p500': [result2.params['s&p500'], significance_stars(p_values2['s&p500'])],\n",
    "    'constant': [result1.params['constant'], significance_stars(p_values1['constant'])],\n",
    "    'robust_se': result2.bse,\n",
    "    'observations': result2.nobs,\n",
    "    'r-squared': result2.rsquared\n",
    "}\n",
    "vol2 = pd.DataFrame(table_data2, index=['vol2', '*'])\n",
    "\n",
    "model3 = sm.OLS(data['Volt'], data[['constant', 'mobility', 'Walmart', 's&p500', 'illq']])\n",
    "result3 = model3.fit(cov_type='HC1')  # Для robust standard errors\n",
    "results_summary3 = result3.summary()\n",
    "p_values3 = result3.pvalues\n",
    "table_data3 = {\n",
    "    'b_mobility': [result3.params['mobility'], significance_stars(p_values3['mobility'])],\n",
    "    'b_illq': [result3.params['illq'], significance_stars(p_values3['illq'])],\n",
    "    'b_Walmart': [result3.params['Walmart'], significance_stars(p_values3['Walmart'])],\n",
    "    'b_s&p500': [result3.params['s&p500'], significance_stars(p_values3['s&p500'])],\n",
    "    'constant': [result1.params['constant'], significance_stars(p_values1['constant'])],\n",
    "    'robust_se': result3.bse,\n",
    "    'observations': result3.nobs,\n",
    "    'r-squared': result3.rsquared\n",
    "}\n",
    "vol3 = pd.DataFrame(table_data3, index=['vol3', '*'])\n",
    "\n",
    "\n",
    "model4 = sm.OLS(data['Volt'], data[['constant', 'stringency', 'Walmart', 's&p500', 'illq']])\n",
    "result4 = model4.fit(cov_type='HC1')  # Для robust standard errors\n",
    "results_summary4 = result4.summary()\n",
    "p_values4 = result4.pvalues\n",
    "table_data4 = {\n",
    "    'b_stringency': [result4.params['stringency'], significance_stars(p_values4['stringency'])],\n",
    "    'b_illq': [result4.params['illq'], significance_stars(p_values4['illq'])],\n",
    "    'b_Walmart': [result4.params['Walmart'], significance_stars(p_values4['Walmart'])],\n",
    "    'b_s&p500': [result4.params['s&p500'], significance_stars(p_values4['s&p500'])],\n",
    "    'constant': [result1.params['constant'], significance_stars(p_values1['constant'])],\n",
    "    'robust_se': result4.bse,\n",
    "    'observations': result4.nobs,\n",
    "    'r-squared': result4.rsquared\n",
    "}\n",
    "vol4 = pd.DataFrame(table_data4, index=['vol4', '*'])\n",
    "\n",
    "model5 = sm.OLS(data['Volt'], data[['constant', 'cases', 'Walmart', 's&p500', 'illq']])\n",
    "result5 = model5.fit(cov_type='HC1')  # Для robust standard errors\n",
    "results_summary5 = result.summary()\n",
    "p_values5 = result5.pvalues\n",
    "table_data5 = {\n",
    "    'b_cases': [result5.params['cases'], significance_stars(p_values5['cases'])],\n",
    "    'b_illq': [result5.params['illq'], significance_stars(p_values5['illq'])],\n",
    "    'b_Walmart': [result5.params['Walmart'], significance_stars(p_values5['Walmart'])],\n",
    "    'b_s&p500': [result5.params['s&p500'], significance_stars(p_values5['s&p500'])],\n",
    "    'constant': [result1.params['constant'], significance_stars(p_values1['constant'])],\n",
    "    'robust_se': result5.bse,\n",
    "    'observations': result5.nobs,\n",
    "    'r-squared': result5.rsquared\n",
    "}\n",
    "vol5 = pd.DataFrame(table_data5, index=['vol5', '*'])\n",
    "ster = np.array([result1.scale,result2.scale,result3.scale,result4.scale,result5.scale])\n",
    "fstat = np.array([result1.fvalue,result2.fvalue,result3.fvalue,result4.fvalue,result5.fvalue])\n",
    "print(\"standart error: \", ster)\n",
    "print(\"f statistica: \", fstat)\n",
    "datf = pd.concat([vol1,vol2,vol3,vol4,vol5])\n",
    "datf = datf.T\n",
    "datf"
   ]
  },
  {
   "cell_type": "code",
   "execution_count": null,
   "id": "ec37e815",
   "metadata": {},
   "outputs": [],
   "source": []
  },
  {
   "cell_type": "markdown",
   "id": "9c029975",
   "metadata": {},
   "source": [
    "# WALMART GVOLT "
   ]
  },
  {
   "cell_type": "code",
   "execution_count": 244,
   "id": "dcba9399",
   "metadata": {},
   "outputs": [
    {
     "name": "stdout",
     "output_type": "stream",
     "text": [
      "standart error:  [0.08000435 0.08385867 0.0832994  0.08084862 0.08326854]\n",
      "f statistica:  [29.99470644 34.03335086 28.14608481 25.89240902 27.35698407]\n"
     ]
    },
    {
     "data": {
      "text/html": [
       "<div>\n",
       "<style scoped>\n",
       "    .dataframe tbody tr th:only-of-type {\n",
       "        vertical-align: middle;\n",
       "    }\n",
       "\n",
       "    .dataframe tbody tr th {\n",
       "        vertical-align: top;\n",
       "    }\n",
       "\n",
       "    .dataframe thead th {\n",
       "        text-align: right;\n",
       "    }\n",
       "</style>\n",
       "<table border=\"1\" class=\"dataframe\">\n",
       "  <thead>\n",
       "    <tr style=\"text-align: right;\">\n",
       "      <th></th>\n",
       "      <th>gvol1</th>\n",
       "      <th>*</th>\n",
       "      <th>gvol2</th>\n",
       "      <th>*</th>\n",
       "      <th>gvol3</th>\n",
       "      <th>*</th>\n",
       "      <th>gvol4</th>\n",
       "      <th>*</th>\n",
       "      <th>gvol5</th>\n",
       "      <th>*</th>\n",
       "    </tr>\n",
       "  </thead>\n",
       "  <tbody>\n",
       "    <tr>\n",
       "      <th>b_deaths</th>\n",
       "      <td>-0.044355</td>\n",
       "      <td>**</td>\n",
       "      <td>NaN</td>\n",
       "      <td>NaN</td>\n",
       "      <td>NaN</td>\n",
       "      <td>NaN</td>\n",
       "      <td>NaN</td>\n",
       "      <td>NaN</td>\n",
       "      <td>NaN</td>\n",
       "      <td>NaN</td>\n",
       "    </tr>\n",
       "    <tr>\n",
       "      <th>b_gtr</th>\n",
       "      <td>NaN</td>\n",
       "      <td>NaN</td>\n",
       "      <td>-0.00657</td>\n",
       "      <td></td>\n",
       "      <td>NaN</td>\n",
       "      <td>NaN</td>\n",
       "      <td>NaN</td>\n",
       "      <td>NaN</td>\n",
       "      <td>NaN</td>\n",
       "      <td>NaN</td>\n",
       "    </tr>\n",
       "    <tr>\n",
       "      <th>b_mobility</th>\n",
       "      <td>NaN</td>\n",
       "      <td>NaN</td>\n",
       "      <td>NaN</td>\n",
       "      <td>NaN</td>\n",
       "      <td>-0.000631</td>\n",
       "      <td></td>\n",
       "      <td>NaN</td>\n",
       "      <td>NaN</td>\n",
       "      <td>NaN</td>\n",
       "      <td>NaN</td>\n",
       "    </tr>\n",
       "    <tr>\n",
       "      <th>b_stringency</th>\n",
       "      <td>NaN</td>\n",
       "      <td>NaN</td>\n",
       "      <td>NaN</td>\n",
       "      <td>NaN</td>\n",
       "      <td>NaN</td>\n",
       "      <td>NaN</td>\n",
       "      <td>-0.163573</td>\n",
       "      <td>**</td>\n",
       "      <td>NaN</td>\n",
       "      <td>NaN</td>\n",
       "    </tr>\n",
       "    <tr>\n",
       "      <th>b_cases</th>\n",
       "      <td>NaN</td>\n",
       "      <td>NaN</td>\n",
       "      <td>NaN</td>\n",
       "      <td>NaN</td>\n",
       "      <td>NaN</td>\n",
       "      <td>NaN</td>\n",
       "      <td>NaN</td>\n",
       "      <td>NaN</td>\n",
       "      <td>-0.015149</td>\n",
       "      <td></td>\n",
       "    </tr>\n",
       "    <tr>\n",
       "      <th>b_illq</th>\n",
       "      <td>0.013146</td>\n",
       "      <td></td>\n",
       "      <td>0.017786</td>\n",
       "      <td></td>\n",
       "      <td>0.018289</td>\n",
       "      <td></td>\n",
       "      <td>0.011601</td>\n",
       "      <td></td>\n",
       "      <td>0.016347</td>\n",
       "      <td></td>\n",
       "    </tr>\n",
       "    <tr>\n",
       "      <th>b_Walmart</th>\n",
       "      <td>-0.014444</td>\n",
       "      <td>**</td>\n",
       "      <td>-0.023926</td>\n",
       "      <td>***</td>\n",
       "      <td>-0.028188</td>\n",
       "      <td>***</td>\n",
       "      <td>-0.014245</td>\n",
       "      <td>**</td>\n",
       "      <td>-0.021409</td>\n",
       "      <td>***</td>\n",
       "    </tr>\n",
       "    <tr>\n",
       "      <th>b_s&amp;p500</th>\n",
       "      <td>-0.000184</td>\n",
       "      <td>***</td>\n",
       "      <td>-0.000193</td>\n",
       "      <td>***</td>\n",
       "      <td>-0.000153</td>\n",
       "      <td>***</td>\n",
       "      <td>-0.000248</td>\n",
       "      <td>***</td>\n",
       "      <td>-0.000169</td>\n",
       "      <td>***</td>\n",
       "    </tr>\n",
       "    <tr>\n",
       "      <th>constant</th>\n",
       "      <td>-2.089177</td>\n",
       "      <td>***</td>\n",
       "      <td>-2.089177</td>\n",
       "      <td>***</td>\n",
       "      <td>-2.089177</td>\n",
       "      <td>***</td>\n",
       "      <td>-2.089177</td>\n",
       "      <td>***</td>\n",
       "      <td>-2.089177</td>\n",
       "      <td>***</td>\n",
       "    </tr>\n",
       "    <tr>\n",
       "      <th>robust_se</th>\n",
       "      <td>NaN</td>\n",
       "      <td>NaN</td>\n",
       "      <td>NaN</td>\n",
       "      <td>NaN</td>\n",
       "      <td>NaN</td>\n",
       "      <td>NaN</td>\n",
       "      <td>NaN</td>\n",
       "      <td>NaN</td>\n",
       "      <td>NaN</td>\n",
       "      <td>NaN</td>\n",
       "    </tr>\n",
       "    <tr>\n",
       "      <th>observations</th>\n",
       "      <td>638.0</td>\n",
       "      <td>638.0</td>\n",
       "      <td>638.0</td>\n",
       "      <td>638.0</td>\n",
       "      <td>638.0</td>\n",
       "      <td>638.0</td>\n",
       "      <td>638.0</td>\n",
       "      <td>638.0</td>\n",
       "      <td>638.0</td>\n",
       "      <td>638.0</td>\n",
       "    </tr>\n",
       "    <tr>\n",
       "      <th>r-squared</th>\n",
       "      <td>0.301754</td>\n",
       "      <td>0.301754</td>\n",
       "      <td>0.268115</td>\n",
       "      <td>0.268115</td>\n",
       "      <td>0.272996</td>\n",
       "      <td>0.272996</td>\n",
       "      <td>0.294385</td>\n",
       "      <td>0.294385</td>\n",
       "      <td>0.273265</td>\n",
       "      <td>0.273265</td>\n",
       "    </tr>\n",
       "  </tbody>\n",
       "</table>\n",
       "</div>"
      ],
      "text/plain": [
       "                 gvol1         *     gvol2         *     gvol3         *  \\\n",
       "b_deaths     -0.044355        **       NaN       NaN       NaN       NaN   \n",
       "b_gtr              NaN       NaN  -0.00657                 NaN       NaN   \n",
       "b_mobility         NaN       NaN       NaN       NaN -0.000631             \n",
       "b_stringency       NaN       NaN       NaN       NaN       NaN       NaN   \n",
       "b_cases            NaN       NaN       NaN       NaN       NaN       NaN   \n",
       "b_illq        0.013146            0.017786            0.018289             \n",
       "b_Walmart    -0.014444        ** -0.023926       *** -0.028188       ***   \n",
       "b_s&p500     -0.000184       *** -0.000193       *** -0.000153       ***   \n",
       "constant     -2.089177       *** -2.089177       *** -2.089177       ***   \n",
       "robust_se          NaN       NaN       NaN       NaN       NaN       NaN   \n",
       "observations     638.0     638.0     638.0     638.0     638.0     638.0   \n",
       "r-squared     0.301754  0.301754  0.268115  0.268115  0.272996  0.272996   \n",
       "\n",
       "                 gvol4         *     gvol5         *  \n",
       "b_deaths           NaN       NaN       NaN       NaN  \n",
       "b_gtr              NaN       NaN       NaN       NaN  \n",
       "b_mobility         NaN       NaN       NaN       NaN  \n",
       "b_stringency -0.163573        **       NaN       NaN  \n",
       "b_cases            NaN       NaN -0.015149            \n",
       "b_illq        0.011601            0.016347            \n",
       "b_Walmart    -0.014245        ** -0.021409       ***  \n",
       "b_s&p500     -0.000248       *** -0.000169       ***  \n",
       "constant     -2.089177       *** -2.089177       ***  \n",
       "robust_se          NaN       NaN       NaN       NaN  \n",
       "observations     638.0     638.0     638.0     638.0  \n",
       "r-squared     0.294385  0.294385  0.273265  0.273265  "
      ]
     },
     "execution_count": 244,
     "metadata": {},
     "output_type": "execute_result"
    }
   ],
   "source": [
    "model1 = sm.OLS(data['gvolt'], data[['constant', 'deaths', 'Walmart', 's&p500', 'illq']])\n",
    "result1 = model1.fit(cov_type='HC1')  # Для robust standard errors\n",
    "results_summary1 = result1.summary()\n",
    "p_values1 = result1.pvalues\n",
    "table_data1 = {\n",
    "    'b_deaths': [result1.params['deaths'], significance_stars(p_values1['deaths'])],\n",
    "    'b_gtr':[np.nan],\n",
    "    'b_mobility':[np.nan],\n",
    "    'b_stringency':[np.nan],\n",
    "    'b_cases':[np.nan],\n",
    "    'b_illq': [result1.params['illq'], significance_stars(p_values1['illq'])],\n",
    "    'b_Walmart': [result1.params['Walmart'], significance_stars(p_values1['Walmart'])],\n",
    "    'b_s&p500': [result1.params['s&p500'], significance_stars(p_values1['s&p500'])],\n",
    "    'constant': [result1.params['constant'], significance_stars(p_values1['constant'])],\n",
    "    'robust_se': result1.bse,\n",
    "    'observations': result1.nobs,\n",
    "    'r-squared': result1.rsquared\n",
    "}\n",
    "gvol1 = pd.DataFrame(table_data1, index=['gvol1', '*'])\n",
    "\n",
    "model2 = sm.OLS(data['gvolt'], data[['constant', 'gtr', 'Walmart', 's&p500', 'illq']])\n",
    "result2 = model2.fit(cov_type='HC1')  # Для robust standard errors\n",
    "results_summary2 = result2.summary()\n",
    "p_values2 = result2.pvalues\n",
    "table_data2 = {\n",
    "    'b_gtr': [result2.params['gtr'], significance_stars(p_values2['gtr'])],\n",
    "    'b_illq': [result2.params['illq'], significance_stars(p_values2['illq'])],\n",
    "    'b_Walmart': [result2.params['Walmart'], significance_stars(p_values2['Walmart'])],\n",
    "    'b_s&p500': [result2.params['s&p500'], significance_stars(p_values2['s&p500'])],\n",
    "    'constant': [result1.params['constant'], significance_stars(p_values1['constant'])],\n",
    "    'robust_se': result2.bse,\n",
    "    'observations': result2.nobs,\n",
    "    'r-squared': result2.rsquared\n",
    "}\n",
    "gvol2 = pd.DataFrame(table_data2, index=['gvol2', '*'])\n",
    "\n",
    "model3 = sm.OLS(data['gvolt'], data[['constant', 'mobility', 'Walmart', 's&p500', 'illq']])\n",
    "result3 = model3.fit(cov_type='HC1')  # Для robust standard errors\n",
    "results_summary3 = result3.summary()\n",
    "p_values3 = result3.pvalues\n",
    "table_data3 = {\n",
    "    'b_mobility': [result3.params['mobility'], significance_stars(p_values3['mobility'])],\n",
    "    'b_illq': [result3.params['illq'], significance_stars(p_values3['illq'])],\n",
    "    'b_Walmart': [result3.params['Walmart'], significance_stars(p_values3['Walmart'])],\n",
    "    'b_s&p500': [result3.params['s&p500'], significance_stars(p_values3['s&p500'])],\n",
    "    'constant': [result1.params['constant'], significance_stars(p_values1['constant'])],\n",
    "    'robust_se': result3.bse,\n",
    "    'observations': result3.nobs,\n",
    "    'r-squared': result3.rsquared\n",
    "}\n",
    "gvol3 = pd.DataFrame(table_data3, index=['gvol3', '*'])\n",
    "\n",
    "\n",
    "model4 = sm.OLS(data['gvolt'], data[['constant', 'stringency', 'Walmart', 's&p500', 'illq']])\n",
    "result4 = model4.fit(cov_type='HC1')  # Для robust standard errors\n",
    "results_summary4 = result4.summary()\n",
    "p_values4 = result4.pvalues\n",
    "table_data4 = {\n",
    "    'b_stringency': [result4.params['stringency'], significance_stars(p_values4['stringency'])],\n",
    "    'b_illq': [result4.params['illq'], significance_stars(p_values4['illq'])],\n",
    "    'b_Walmart': [result4.params['Walmart'], significance_stars(p_values4['Walmart'])],\n",
    "    'b_s&p500': [result4.params['s&p500'], significance_stars(p_values4['s&p500'])],\n",
    "    'constant': [result1.params['constant'], significance_stars(p_values1['constant'])],\n",
    "    'robust_se': result4.bse,\n",
    "    'observations': result4.nobs,\n",
    "    'r-squared': result4.rsquared\n",
    "}\n",
    "gvol4 = pd.DataFrame(table_data4, index=['gvol4', '*'])\n",
    "\n",
    "model5 = sm.OLS(data['gvolt'], data[['constant', 'cases', 'Walmart', 's&p500', 'illq']])\n",
    "result5 = model5.fit(cov_type='HC1')  # Для robust standard errors\n",
    "results_summary5 = result.summary()\n",
    "p_values5 = result5.pvalues\n",
    "table_data5 = {\n",
    "    'b_cases': [result5.params['cases'], significance_stars(p_values5['cases'])],\n",
    "    'b_illq': [result5.params['illq'], significance_stars(p_values5['illq'])],\n",
    "    'b_Walmart': [result5.params['Walmart'], significance_stars(p_values5['Walmart'])],\n",
    "    'b_s&p500': [result5.params['s&p500'], significance_stars(p_values5['s&p500'])],\n",
    "    'constant': [result1.params['constant'], significance_stars(p_values1['constant'])],\n",
    "    'robust_se': result5.bse,\n",
    "    'observations': result5.nobs,\n",
    "    'r-squared': result5.rsquared\n",
    "}\n",
    "gvol5 = pd.DataFrame(table_data5, index=['gvol5', '*'])\n",
    "ster = np.array([result1.scale,result2.scale,result3.scale,result4.scale,result5.scale])\n",
    "fstat = np.array([result1.fvalue,result2.fvalue,result3.fvalue,result4.fvalue,result5.fvalue])\n",
    "print(\"standart error: \", ster)\n",
    "print(\"f statistica: \", fstat)\n",
    "datf2 = pd.concat([gvol1,gvol2,gvol3,gvol4,gvol5])\n",
    "datf2 = datf2.T\n",
    "datf2"
   ]
  },
  {
   "cell_type": "code",
   "execution_count": null,
   "id": "4aecafd8",
   "metadata": {},
   "outputs": [],
   "source": []
  },
  {
   "cell_type": "code",
   "execution_count": null,
   "id": "21b84316",
   "metadata": {},
   "outputs": [],
   "source": []
  },
  {
   "cell_type": "code",
   "execution_count": 217,
   "id": "a597376d",
   "metadata": {
    "scrolled": true
   },
   "outputs": [
    {
     "name": "stdout",
     "output_type": "stream",
     "text": [
      "Робастные стандартные ошибки:\n",
      "constant    0.259464\n",
      "cases       0.012167\n",
      "Walmart     0.006417\n",
      "s&p500      0.000038\n",
      "illq        0.017716\n",
      "dtype: float64\n",
      "\n",
      "              constant   b_cases    b_illq b_Walmart  b_s&p500  robust_se  \\\n",
      "vol8         -1.056784 -0.014535  0.131027 -0.027829 -0.000204        NaN   \n",
      "significance       ***                 ***       ***       ***        NaN   \n",
      "\n",
      "              observations  r-squared  \n",
      "vol8                 638.0    0.29514  \n",
      "significance         638.0    0.29514  \n",
      "F-stat 46.604543288715476\n",
      "st error 0.1775744072746668\n"
     ]
    }
   ],
   "source": [
    "\n",
    "# Добавляем столбец с константой\n",
    "data['constant'] = 1\n",
    "\n",
    "# Оцениваем модель OLS с робастными стандартными ошибками (HC1)\n",
    "model = sm.OLS(data['Volt'], data[['constant', 'cases', 'Walmart', 's&p500', 'illq']])\n",
    "result = model.fit(cov_type='HC1')\n",
    "\n",
    "# Получаем робастные стандартные ошибки\n",
    "robust_standard_errors = result.HC1_se\n",
    "\n",
    "# Выводим робастные стандартные ошибки\n",
    "print(\"Робастные стандартные ошибки:\")\n",
    "print(robust_standard_errors)\n",
    "print()\n",
    "print(v8)\n",
    "print(\"F-stat\", result.fvalue)\n",
    "print(\"st error\", result.scale)"
   ]
  },
  {
   "cell_type": "code",
   "execution_count": null,
   "id": "46bd7c1c",
   "metadata": {},
   "outputs": [],
   "source": []
  },
  {
   "cell_type": "code",
   "execution_count": null,
   "id": "f3355219",
   "metadata": {},
   "outputs": [],
   "source": []
  },
  {
   "cell_type": "code",
   "execution_count": null,
   "id": "5668daf4",
   "metadata": {},
   "outputs": [],
   "source": []
  },
  {
   "cell_type": "markdown",
   "id": "319a39cf",
   "metadata": {},
   "source": [
    "# Zoom"
   ]
  },
  {
   "cell_type": "code",
   "execution_count": 245,
   "id": "9301183b",
   "metadata": {},
   "outputs": [
    {
     "name": "stderr",
     "output_type": "stream",
     "text": [
      "[*********************100%%**********************]  1 of 1 completed\n"
     ]
    },
    {
     "data": {
      "text/html": [
       "<div>\n",
       "<style scoped>\n",
       "    .dataframe tbody tr th:only-of-type {\n",
       "        vertical-align: middle;\n",
       "    }\n",
       "\n",
       "    .dataframe tbody tr th {\n",
       "        vertical-align: top;\n",
       "    }\n",
       "\n",
       "    .dataframe thead th {\n",
       "        text-align: right;\n",
       "    }\n",
       "</style>\n",
       "<table border=\"1\" class=\"dataframe\">\n",
       "  <thead>\n",
       "    <tr style=\"text-align: right;\">\n",
       "      <th></th>\n",
       "      <th>Open</th>\n",
       "      <th>High</th>\n",
       "      <th>Low</th>\n",
       "      <th>Close</th>\n",
       "      <th>Adj Close</th>\n",
       "      <th>Volume</th>\n",
       "    </tr>\n",
       "    <tr>\n",
       "      <th>Date</th>\n",
       "      <th></th>\n",
       "      <th></th>\n",
       "      <th></th>\n",
       "      <th></th>\n",
       "      <th></th>\n",
       "      <th></th>\n",
       "    </tr>\n",
       "  </thead>\n",
       "  <tbody>\n",
       "    <tr>\n",
       "      <th>2020-02-18</th>\n",
       "      <td>93.019997</td>\n",
       "      <td>98.139999</td>\n",
       "      <td>92.400002</td>\n",
       "      <td>96.389999</td>\n",
       "      <td>96.389999</td>\n",
       "      <td>5608200</td>\n",
       "    </tr>\n",
       "    <tr>\n",
       "      <th>2020-02-19</th>\n",
       "      <td>100.320000</td>\n",
       "      <td>105.080002</td>\n",
       "      <td>99.750000</td>\n",
       "      <td>103.930000</td>\n",
       "      <td>103.930000</td>\n",
       "      <td>7793800</td>\n",
       "    </tr>\n",
       "    <tr>\n",
       "      <th>2020-02-20</th>\n",
       "      <td>104.000000</td>\n",
       "      <td>110.750000</td>\n",
       "      <td>101.430000</td>\n",
       "      <td>105.290001</td>\n",
       "      <td>105.290001</td>\n",
       "      <td>11293200</td>\n",
       "    </tr>\n",
       "    <tr>\n",
       "      <th>2020-02-21</th>\n",
       "      <td>104.029999</td>\n",
       "      <td>104.290001</td>\n",
       "      <td>98.089996</td>\n",
       "      <td>101.760002</td>\n",
       "      <td>101.760002</td>\n",
       "      <td>5519200</td>\n",
       "    </tr>\n",
       "    <tr>\n",
       "      <th>2020-02-24</th>\n",
       "      <td>97.800003</td>\n",
       "      <td>110.000000</td>\n",
       "      <td>97.019997</td>\n",
       "      <td>105.010002</td>\n",
       "      <td>105.010002</td>\n",
       "      <td>12172800</td>\n",
       "    </tr>\n",
       "    <tr>\n",
       "      <th>...</th>\n",
       "      <td>...</td>\n",
       "      <td>...</td>\n",
       "      <td>...</td>\n",
       "      <td>...</td>\n",
       "      <td>...</td>\n",
       "      <td>...</td>\n",
       "    </tr>\n",
       "    <tr>\n",
       "      <th>2022-08-22</th>\n",
       "      <td>98.199997</td>\n",
       "      <td>100.139999</td>\n",
       "      <td>96.480003</td>\n",
       "      <td>97.440002</td>\n",
       "      <td>97.440002</td>\n",
       "      <td>8274100</td>\n",
       "    </tr>\n",
       "    <tr>\n",
       "      <th>2022-08-23</th>\n",
       "      <td>84.559998</td>\n",
       "      <td>87.589996</td>\n",
       "      <td>81.129997</td>\n",
       "      <td>81.320000</td>\n",
       "      <td>81.320000</td>\n",
       "      <td>31475400</td>\n",
       "    </tr>\n",
       "    <tr>\n",
       "      <th>2022-08-24</th>\n",
       "      <td>81.639999</td>\n",
       "      <td>85.070000</td>\n",
       "      <td>80.500000</td>\n",
       "      <td>83.610001</td>\n",
       "      <td>83.610001</td>\n",
       "      <td>11133300</td>\n",
       "    </tr>\n",
       "    <tr>\n",
       "      <th>2022-08-25</th>\n",
       "      <td>83.599998</td>\n",
       "      <td>85.760002</td>\n",
       "      <td>82.430000</td>\n",
       "      <td>85.720001</td>\n",
       "      <td>85.720001</td>\n",
       "      <td>5409700</td>\n",
       "    </tr>\n",
       "    <tr>\n",
       "      <th>2022-08-26</th>\n",
       "      <td>84.150002</td>\n",
       "      <td>85.019997</td>\n",
       "      <td>80.279999</td>\n",
       "      <td>81.410004</td>\n",
       "      <td>81.410004</td>\n",
       "      <td>5927400</td>\n",
       "    </tr>\n",
       "  </tbody>\n",
       "</table>\n",
       "<p>638 rows × 6 columns</p>\n",
       "</div>"
      ],
      "text/plain": [
       "                  Open        High         Low       Close   Adj Close  \\\n",
       "Date                                                                     \n",
       "2020-02-18   93.019997   98.139999   92.400002   96.389999   96.389999   \n",
       "2020-02-19  100.320000  105.080002   99.750000  103.930000  103.930000   \n",
       "2020-02-20  104.000000  110.750000  101.430000  105.290001  105.290001   \n",
       "2020-02-21  104.029999  104.290001   98.089996  101.760002  101.760002   \n",
       "2020-02-24   97.800003  110.000000   97.019997  105.010002  105.010002   \n",
       "...                ...         ...         ...         ...         ...   \n",
       "2022-08-22   98.199997  100.139999   96.480003   97.440002   97.440002   \n",
       "2022-08-23   84.559998   87.589996   81.129997   81.320000   81.320000   \n",
       "2022-08-24   81.639999   85.070000   80.500000   83.610001   83.610001   \n",
       "2022-08-25   83.599998   85.760002   82.430000   85.720001   85.720001   \n",
       "2022-08-26   84.150002   85.019997   80.279999   81.410004   81.410004   \n",
       "\n",
       "              Volume  \n",
       "Date                  \n",
       "2020-02-18   5608200  \n",
       "2020-02-19   7793800  \n",
       "2020-02-20  11293200  \n",
       "2020-02-21   5519200  \n",
       "2020-02-24  12172800  \n",
       "...              ...  \n",
       "2022-08-22   8274100  \n",
       "2022-08-23  31475400  \n",
       "2022-08-24  11133300  \n",
       "2022-08-25   5409700  \n",
       "2022-08-26   5927400  \n",
       "\n",
       "[638 rows x 6 columns]"
      ]
     },
     "execution_count": 245,
     "metadata": {},
     "output_type": "execute_result"
    }
   ],
   "source": [
    "zm_dtf = yf.download('ZM',start = '2020-02-15',end = \"2022-08-27\")\n",
    "zm_dtf = "
   ]
  },
  {
   "cell_type": "code",
   "execution_count": 255,
   "id": "e1a09219",
   "metadata": {},
   "outputs": [
    {
     "name": "stdout",
     "output_type": "stream",
     "text": [
      "Iteration:      1,   Func. Count:      6,   Neg. LLF: 1848628.0141847986\n",
      "Iteration:      2,   Func. Count:     17,   Neg. LLF: 229.31633574094897\n",
      "Iteration:      3,   Func. Count:     25,   Neg. LLF: 51346.51876960988\n",
      "Iteration:      4,   Func. Count:     31,   Neg. LLF: -650.6559184516129\n",
      "Iteration:      5,   Func. Count:     37,   Neg. LLF: -816.3591887588693\n",
      "Iteration:      6,   Func. Count:     43,   Neg. LLF: -922.4044017219067\n",
      "Iteration:      7,   Func. Count:     49,   Neg. LLF: -924.9792572209465\n",
      "Iteration:      8,   Func. Count:     54,   Neg. LLF: -537.8790648344046\n",
      "Iteration:      9,   Func. Count:     60,   Neg. LLF: 927.959864625793\n",
      "Iteration:     10,   Func. Count:     67,   Neg. LLF: -920.3934141330062\n",
      "Iteration:     11,   Func. Count:     73,   Neg. LLF: -917.1519324692733\n",
      "Iteration:     12,   Func. Count:     79,   Neg. LLF: -926.6277860326916\n",
      "Iteration:     13,   Func. Count:     84,   Neg. LLF: -926.6360515947005\n",
      "Iteration:     14,   Func. Count:     89,   Neg. LLF: -926.6454100546935\n",
      "Iteration:     15,   Func. Count:     94,   Neg. LLF: -926.6470477156763\n",
      "Iteration:     16,   Func. Count:     99,   Neg. LLF: -926.6471027470758\n",
      "Iteration:     17,   Func. Count:    103,   Neg. LLF: -926.6471027470516\n",
      "Optimization terminated successfully    (Exit mode 0)\n",
      "            Current function value: -926.6471027470758\n",
      "            Iterations: 18\n",
      "            Function evaluations: 103\n",
      "            Gradient evaluations: 17\n"
     ]
    },
    {
     "name": "stderr",
     "output_type": "stream",
     "text": [
      "C:\\Users\\casov\\anaconda3\\Lib\\site-packages\\arch\\univariate\\base.py:311: DataScaleWarning: y is poorly scaled, which may affect convergence of the optimizer when\n",
      "estimating the model parameters. The scale of y is 0.004052. Parameter\n",
      "estimation work better when this value is between 1 and 1000. The recommended\n",
      "rescaling is 10 * y.\n",
      "\n",
      "This warning can be disabled by either rescaling y before initializing the\n",
      "model or by setting rescale=False.\n",
      "\n",
      "  warnings.warn(\n",
      "C:\\Users\\casov\\AppData\\Local\\Temp\\ipykernel_10472\\1816973727.py:13: SettingWithCopyWarning: \n",
      "A value is trying to be set on a copy of a slice from a DataFrame.\n",
      "Try using .loc[row_indexer,col_indexer] = value instead\n",
      "\n",
      "See the caveats in the documentation: https://pandas.pydata.org/pandas-docs/stable/user_guide/indexing.html#returning-a-view-versus-a-copy\n",
      "  zm_df[\"gvolt\"] = gvolt\n"
     ]
    },
    {
     "data": {
      "text/html": [
       "<div>\n",
       "<style scoped>\n",
       "    .dataframe tbody tr th:only-of-type {\n",
       "        vertical-align: middle;\n",
       "    }\n",
       "\n",
       "    .dataframe tbody tr th {\n",
       "        vertical-align: top;\n",
       "    }\n",
       "\n",
       "    .dataframe thead th {\n",
       "        text-align: right;\n",
       "    }\n",
       "</style>\n",
       "<table border=\"1\" class=\"dataframe\">\n",
       "  <thead>\n",
       "    <tr style=\"text-align: right;\">\n",
       "      <th></th>\n",
       "      <th>Zoom</th>\n",
       "      <th>Volume</th>\n",
       "      <th>Volt</th>\n",
       "      <th>gvolt</th>\n",
       "      <th>illq</th>\n",
       "      <th>s&amp;p500</th>\n",
       "      <th>cases</th>\n",
       "      <th>deaths</th>\n",
       "      <th>stringency</th>\n",
       "      <th>mobility</th>\n",
       "      <th>gtr</th>\n",
       "    </tr>\n",
       "  </thead>\n",
       "  <tbody>\n",
       "    <tr>\n",
       "      <th>2020-02-20</th>\n",
       "      <td>105.290001</td>\n",
       "      <td>11293200</td>\n",
       "      <td>-2.431482</td>\n",
       "      <td>-2.506994</td>\n",
       "      <td>-4.457848</td>\n",
       "      <td>3373.229980</td>\n",
       "      <td>1.609438</td>\n",
       "      <td>0.000000</td>\n",
       "      <td>2.233235</td>\n",
       "      <td>6.0</td>\n",
       "      <td>1.609438</td>\n",
       "    </tr>\n",
       "    <tr>\n",
       "      <th>2020-02-21</th>\n",
       "      <td>101.760002</td>\n",
       "      <td>5519200</td>\n",
       "      <td>-2.792137</td>\n",
       "      <td>-2.707036</td>\n",
       "      <td>-2.801069</td>\n",
       "      <td>3337.750000</td>\n",
       "      <td>1.609438</td>\n",
       "      <td>0.000000</td>\n",
       "      <td>2.233235</td>\n",
       "      <td>5.0</td>\n",
       "      <td>1.609438</td>\n",
       "    </tr>\n",
       "    <tr>\n",
       "      <th>2020-02-24</th>\n",
       "      <td>105.010002</td>\n",
       "      <td>12172800</td>\n",
       "      <td>-2.074946</td>\n",
       "      <td>-2.876796</td>\n",
       "      <td>-3.640581</td>\n",
       "      <td>3225.889893</td>\n",
       "      <td>2.833213</td>\n",
       "      <td>0.000000</td>\n",
       "      <td>2.233235</td>\n",
       "      <td>16.0</td>\n",
       "      <td>2.833213</td>\n",
       "    </tr>\n",
       "    <tr>\n",
       "      <th>2020-02-25</th>\n",
       "      <td>107.080002</td>\n",
       "      <td>13425900</td>\n",
       "      <td>-2.690457</td>\n",
       "      <td>-2.717288</td>\n",
       "      <td>-4.221108</td>\n",
       "      <td>3128.209961</td>\n",
       "      <td>2.833213</td>\n",
       "      <td>0.000000</td>\n",
       "      <td>2.233235</td>\n",
       "      <td>18.0</td>\n",
       "      <td>2.833213</td>\n",
       "    </tr>\n",
       "    <tr>\n",
       "      <th>2020-02-26</th>\n",
       "      <td>106.879997</td>\n",
       "      <td>6867500</td>\n",
       "      <td>-2.945592</td>\n",
       "      <td>-3.095264</td>\n",
       "      <td>-5.907206</td>\n",
       "      <td>3116.389893</td>\n",
       "      <td>2.833213</td>\n",
       "      <td>0.000000</td>\n",
       "      <td>2.233235</td>\n",
       "      <td>18.0</td>\n",
       "      <td>2.833213</td>\n",
       "    </tr>\n",
       "    <tr>\n",
       "      <th>...</th>\n",
       "      <td>...</td>\n",
       "      <td>...</td>\n",
       "      <td>...</td>\n",
       "      <td>...</td>\n",
       "      <td>...</td>\n",
       "      <td>...</td>\n",
       "      <td>...</td>\n",
       "      <td>...</td>\n",
       "      <td>...</td>\n",
       "      <td>...</td>\n",
       "      <td>...</td>\n",
       "    </tr>\n",
       "    <tr>\n",
       "      <th>2022-08-22</th>\n",
       "      <td>97.440002</td>\n",
       "      <td>8274100</td>\n",
       "      <td>-3.290548</td>\n",
       "      <td>-2.899993</td>\n",
       "      <td>-3.687998</td>\n",
       "      <td>4137.990234</td>\n",
       "      <td>13.376891</td>\n",
       "      <td>8.080856</td>\n",
       "      <td>3.227241</td>\n",
       "      <td>-28.0</td>\n",
       "      <td>0.000000</td>\n",
       "    </tr>\n",
       "    <tr>\n",
       "      <th>2022-08-23</th>\n",
       "      <td>81.320000</td>\n",
       "      <td>31475400</td>\n",
       "      <td>-2.568975</td>\n",
       "      <td>-3.099561</td>\n",
       "      <td>-2.945797</td>\n",
       "      <td>4128.729980</td>\n",
       "      <td>13.376891</td>\n",
       "      <td>8.080856</td>\n",
       "      <td>3.227241</td>\n",
       "      <td>-11.0</td>\n",
       "      <td>0.000000</td>\n",
       "    </tr>\n",
       "    <tr>\n",
       "      <th>2022-08-24</th>\n",
       "      <td>83.610001</td>\n",
       "      <td>11133300</td>\n",
       "      <td>-2.896480</td>\n",
       "      <td>-2.150779</td>\n",
       "      <td>-3.677195</td>\n",
       "      <td>4140.770020</td>\n",
       "      <td>13.376891</td>\n",
       "      <td>8.080856</td>\n",
       "      <td>3.227241</td>\n",
       "      <td>-9.0</td>\n",
       "      <td>0.000000</td>\n",
       "    </tr>\n",
       "    <tr>\n",
       "      <th>2022-08-25</th>\n",
       "      <td>85.720001</td>\n",
       "      <td>5409700</td>\n",
       "      <td>-3.228844</td>\n",
       "      <td>-1.869785</td>\n",
       "      <td>-3.065083</td>\n",
       "      <td>4199.120117</td>\n",
       "      <td>13.376891</td>\n",
       "      <td>8.080856</td>\n",
       "      <td>3.227241</td>\n",
       "      <td>-6.0</td>\n",
       "      <td>0.000000</td>\n",
       "    </tr>\n",
       "    <tr>\n",
       "      <th>2022-08-26</th>\n",
       "      <td>81.410004</td>\n",
       "      <td>5927400</td>\n",
       "      <td>-2.858304</td>\n",
       "      <td>-2.887349</td>\n",
       "      <td>-2.467149</td>\n",
       "      <td>4057.659912</td>\n",
       "      <td>13.376891</td>\n",
       "      <td>8.080856</td>\n",
       "      <td>3.227241</td>\n",
       "      <td>-18.0</td>\n",
       "      <td>0.000000</td>\n",
       "    </tr>\n",
       "  </tbody>\n",
       "</table>\n",
       "<p>636 rows × 11 columns</p>\n",
       "</div>"
      ],
      "text/plain": [
       "                  Zoom    Volume      Volt     gvolt      illq       s&p500  \\\n",
       "2020-02-20  105.290001  11293200 -2.431482 -2.506994 -4.457848  3373.229980   \n",
       "2020-02-21  101.760002   5519200 -2.792137 -2.707036 -2.801069  3337.750000   \n",
       "2020-02-24  105.010002  12172800 -2.074946 -2.876796 -3.640581  3225.889893   \n",
       "2020-02-25  107.080002  13425900 -2.690457 -2.717288 -4.221108  3128.209961   \n",
       "2020-02-26  106.879997   6867500 -2.945592 -3.095264 -5.907206  3116.389893   \n",
       "...                ...       ...       ...       ...       ...          ...   \n",
       "2022-08-22   97.440002   8274100 -3.290548 -2.899993 -3.687998  4137.990234   \n",
       "2022-08-23   81.320000  31475400 -2.568975 -3.099561 -2.945797  4128.729980   \n",
       "2022-08-24   83.610001  11133300 -2.896480 -2.150779 -3.677195  4140.770020   \n",
       "2022-08-25   85.720001   5409700 -3.228844 -1.869785 -3.065083  4199.120117   \n",
       "2022-08-26   81.410004   5927400 -2.858304 -2.887349 -2.467149  4057.659912   \n",
       "\n",
       "                cases    deaths  stringency  mobility       gtr  \n",
       "2020-02-20   1.609438  0.000000    2.233235       6.0  1.609438  \n",
       "2020-02-21   1.609438  0.000000    2.233235       5.0  1.609438  \n",
       "2020-02-24   2.833213  0.000000    2.233235      16.0  2.833213  \n",
       "2020-02-25   2.833213  0.000000    2.233235      18.0  2.833213  \n",
       "2020-02-26   2.833213  0.000000    2.233235      18.0  2.833213  \n",
       "...               ...       ...         ...       ...       ...  \n",
       "2022-08-22  13.376891  8.080856    3.227241     -28.0  0.000000  \n",
       "2022-08-23  13.376891  8.080856    3.227241     -11.0  0.000000  \n",
       "2022-08-24  13.376891  8.080856    3.227241      -9.0  0.000000  \n",
       "2022-08-25  13.376891  8.080856    3.227241      -6.0  0.000000  \n",
       "2022-08-26  13.376891  8.080856    3.227241     -18.0  0.000000  \n",
       "\n",
       "[636 rows x 11 columns]"
      ]
     },
     "execution_count": 255,
     "metadata": {},
     "output_type": "execute_result"
    }
   ],
   "source": [
    "zm_df = zm_dtf\n",
    "zm_df[\"Volt\"] = np.log(zm_df[\"High\"]/zm_df[\"Low\"])\n",
    "zm_df[\"Return\"] = zm_df[\"Close\"].pct_change().abs() \n",
    "zm_df[\"illq\"] = zm_df[\"Return\"]/zm_df[\"Volume\"]*10**7\n",
    "zm_df['spread'] = zm_df[\"High\"] - zm_df[\"Low\"]\n",
    "daily_returns = zm_df['Close'].pct_change()\n",
    "first_diff_returns = daily_returns.diff().dropna()\n",
    "garch_model = arch_model(first_diff_returns, vol='GARCH', p=1, q=1)\n",
    "results = garch_model.fit()\n",
    "conditional_volatility = results.conditional_volatility\n",
    "gvolt  = conditional_volatility.loc[\"2020-02-15\":\"2022-08-27\"]\n",
    "zm_df = zm_df.loc[\"2020-02-15\":\"2022-08-27\"]\n",
    "zm_df[\"gvolt\"] = gvolt\n",
    "zm = zm_df[[\"Close\",\"Volume\",\"Volt\",\"gvolt\",\"illq\"]]\n",
    "zm = zm.rename(columns={\"Close\":\"Zoom\"})\n",
    "data2 = pd.concat([zm,sp,cov,ox,mb,gt],axis=1)\n",
    "data2 = data2.rename(columns={\"StringencyIndex_Average\":\"stringency\"})\n",
    "data2 = data2.rename(columns={\"sum\":\"mobility\"})\n",
    "data2 = data2.rename(columns={\"weekly_cases\":\"cases\"})\n",
    "data2 = data2.rename(columns={\"weekly_deaths\":\"deaths\"})\n",
    "data2[\"cases\"] = np.log(data2[\"cases\"]+1)\n",
    "data2[\"deaths\"] = np.log(data2[\"deaths\"] + 1)\n",
    "data2[\"stringency\"] = np.log(data2[\"stringency\"] + 1)\n",
    "data2[\"gtr\"] = np.log(data2[\"gtr\"] + 1)\n",
    "data2[\"illq\"] = np.log(data2['illq'])\n",
    "data2['Volt'] = np.log(data2[\"Volt\"])\n",
    "data2[\"gvolt\"] = np.log(data2[\"gvolt\"])\n",
    "data2 = data2.loc[\"2020-02-20\":]\n",
    "data2\n"
   ]
  },
  {
   "cell_type": "markdown",
   "id": "b0e40925",
   "metadata": {},
   "source": [
    "# VOL\n"
   ]
  },
  {
   "cell_type": "code",
   "execution_count": 259,
   "id": "9f967c8a",
   "metadata": {},
   "outputs": [
    {
     "name": "stdout",
     "output_type": "stream",
     "text": [
      "standart error:  [0.15435502 0.15444322 0.15161975 0.15148901 0.15522439]\n",
      "f statistica:  [64.54202761 65.14219804 65.80590813 68.2300927  61.9306023 ]\n"
     ]
    },
    {
     "data": {
      "text/html": [
       "<div>\n",
       "<style scoped>\n",
       "    .dataframe tbody tr th:only-of-type {\n",
       "        vertical-align: middle;\n",
       "    }\n",
       "\n",
       "    .dataframe tbody tr th {\n",
       "        vertical-align: top;\n",
       "    }\n",
       "\n",
       "    .dataframe thead th {\n",
       "        text-align: right;\n",
       "    }\n",
       "</style>\n",
       "<table border=\"1\" class=\"dataframe\">\n",
       "  <thead>\n",
       "    <tr style=\"text-align: right;\">\n",
       "      <th></th>\n",
       "      <th>vol1</th>\n",
       "      <th>*</th>\n",
       "      <th>vol2</th>\n",
       "      <th>*</th>\n",
       "      <th>vol3</th>\n",
       "      <th>*</th>\n",
       "      <th>vol4</th>\n",
       "      <th>*</th>\n",
       "      <th>vol5</th>\n",
       "      <th>*</th>\n",
       "    </tr>\n",
       "  </thead>\n",
       "  <tbody>\n",
       "    <tr>\n",
       "      <th>b_deaths</th>\n",
       "      <td>-0.025805</td>\n",
       "      <td>*</td>\n",
       "      <td>NaN</td>\n",
       "      <td>NaN</td>\n",
       "      <td>NaN</td>\n",
       "      <td>NaN</td>\n",
       "      <td>NaN</td>\n",
       "      <td>NaN</td>\n",
       "      <td>NaN</td>\n",
       "      <td>NaN</td>\n",
       "    </tr>\n",
       "    <tr>\n",
       "      <th>b_gtr</th>\n",
       "      <td>NaN</td>\n",
       "      <td>NaN</td>\n",
       "      <td>-0.057848</td>\n",
       "      <td>*</td>\n",
       "      <td>NaN</td>\n",
       "      <td>NaN</td>\n",
       "      <td>NaN</td>\n",
       "      <td>NaN</td>\n",
       "      <td>NaN</td>\n",
       "      <td>NaN</td>\n",
       "    </tr>\n",
       "    <tr>\n",
       "      <th>b_mobility</th>\n",
       "      <td>NaN</td>\n",
       "      <td>NaN</td>\n",
       "      <td>NaN</td>\n",
       "      <td>NaN</td>\n",
       "      <td>-0.001562</td>\n",
       "      <td>***</td>\n",
       "      <td>NaN</td>\n",
       "      <td>NaN</td>\n",
       "      <td>NaN</td>\n",
       "      <td>NaN</td>\n",
       "    </tr>\n",
       "    <tr>\n",
       "      <th>b_stringency</th>\n",
       "      <td>NaN</td>\n",
       "      <td>NaN</td>\n",
       "      <td>NaN</td>\n",
       "      <td>NaN</td>\n",
       "      <td>NaN</td>\n",
       "      <td>NaN</td>\n",
       "      <td>-0.231121</td>\n",
       "      <td>***</td>\n",
       "      <td>NaN</td>\n",
       "      <td>NaN</td>\n",
       "    </tr>\n",
       "    <tr>\n",
       "      <th>b_cases</th>\n",
       "      <td>NaN</td>\n",
       "      <td>NaN</td>\n",
       "      <td>NaN</td>\n",
       "      <td>NaN</td>\n",
       "      <td>NaN</td>\n",
       "      <td>NaN</td>\n",
       "      <td>NaN</td>\n",
       "      <td>NaN</td>\n",
       "      <td>-0.013097</td>\n",
       "      <td></td>\n",
       "    </tr>\n",
       "    <tr>\n",
       "      <th>b_illq</th>\n",
       "      <td>0.094579</td>\n",
       "      <td>***</td>\n",
       "      <td>0.089752</td>\n",
       "      <td>***</td>\n",
       "      <td>0.09149</td>\n",
       "      <td>***</td>\n",
       "      <td>0.09362</td>\n",
       "      <td>***</td>\n",
       "      <td>0.094889</td>\n",
       "      <td>***</td>\n",
       "    </tr>\n",
       "    <tr>\n",
       "      <th>b_Zoom</th>\n",
       "      <td>-0.000921</td>\n",
       "      <td>***</td>\n",
       "      <td>-0.000968</td>\n",
       "      <td>***</td>\n",
       "      <td>-0.001117</td>\n",
       "      <td>***</td>\n",
       "      <td>-0.000574</td>\n",
       "      <td>***</td>\n",
       "      <td>-0.000977</td>\n",
       "      <td>***</td>\n",
       "    </tr>\n",
       "    <tr>\n",
       "      <th>b_s&amp;p500</th>\n",
       "      <td>-0.000321</td>\n",
       "      <td>***</td>\n",
       "      <td>-0.00044</td>\n",
       "      <td>***</td>\n",
       "      <td>-0.00031</td>\n",
       "      <td>***</td>\n",
       "      <td>-0.00038</td>\n",
       "      <td>***</td>\n",
       "      <td>-0.000323</td>\n",
       "      <td>***</td>\n",
       "    </tr>\n",
       "    <tr>\n",
       "      <th>constant</th>\n",
       "      <td>-1.009208</td>\n",
       "      <td>***</td>\n",
       "      <td>-1.009208</td>\n",
       "      <td>***</td>\n",
       "      <td>-1.009208</td>\n",
       "      <td>***</td>\n",
       "      <td>-1.009208</td>\n",
       "      <td>***</td>\n",
       "      <td>-1.009208</td>\n",
       "      <td>***</td>\n",
       "    </tr>\n",
       "    <tr>\n",
       "      <th>robust_se</th>\n",
       "      <td>NaN</td>\n",
       "      <td>NaN</td>\n",
       "      <td>NaN</td>\n",
       "      <td>NaN</td>\n",
       "      <td>NaN</td>\n",
       "      <td>NaN</td>\n",
       "      <td>NaN</td>\n",
       "      <td>NaN</td>\n",
       "      <td>NaN</td>\n",
       "      <td>NaN</td>\n",
       "    </tr>\n",
       "    <tr>\n",
       "      <th>observations</th>\n",
       "      <td>636.0</td>\n",
       "      <td>636.0</td>\n",
       "      <td>636.0</td>\n",
       "      <td>636.0</td>\n",
       "      <td>636.0</td>\n",
       "      <td>636.0</td>\n",
       "      <td>636.0</td>\n",
       "      <td>636.0</td>\n",
       "      <td>636.0</td>\n",
       "      <td>636.0</td>\n",
       "    </tr>\n",
       "    <tr>\n",
       "      <th>r-squared</th>\n",
       "      <td>0.281336</td>\n",
       "      <td>0.281336</td>\n",
       "      <td>0.280925</td>\n",
       "      <td>0.280925</td>\n",
       "      <td>0.294071</td>\n",
       "      <td>0.294071</td>\n",
       "      <td>0.29468</td>\n",
       "      <td>0.29468</td>\n",
       "      <td>0.277288</td>\n",
       "      <td>0.277288</td>\n",
       "    </tr>\n",
       "  </tbody>\n",
       "</table>\n",
       "</div>"
      ],
      "text/plain": [
       "                  vol1         *      vol2         *      vol3         *  \\\n",
       "b_deaths     -0.025805         *       NaN       NaN       NaN       NaN   \n",
       "b_gtr              NaN       NaN -0.057848         *       NaN       NaN   \n",
       "b_mobility         NaN       NaN       NaN       NaN -0.001562       ***   \n",
       "b_stringency       NaN       NaN       NaN       NaN       NaN       NaN   \n",
       "b_cases            NaN       NaN       NaN       NaN       NaN       NaN   \n",
       "b_illq        0.094579       ***  0.089752       ***   0.09149       ***   \n",
       "b_Zoom       -0.000921       *** -0.000968       *** -0.001117       ***   \n",
       "b_s&p500     -0.000321       ***  -0.00044       ***  -0.00031       ***   \n",
       "constant     -1.009208       *** -1.009208       *** -1.009208       ***   \n",
       "robust_se          NaN       NaN       NaN       NaN       NaN       NaN   \n",
       "observations     636.0     636.0     636.0     636.0     636.0     636.0   \n",
       "r-squared     0.281336  0.281336  0.280925  0.280925  0.294071  0.294071   \n",
       "\n",
       "                  vol4        *      vol5         *  \n",
       "b_deaths           NaN      NaN       NaN       NaN  \n",
       "b_gtr              NaN      NaN       NaN       NaN  \n",
       "b_mobility         NaN      NaN       NaN       NaN  \n",
       "b_stringency -0.231121      ***       NaN       NaN  \n",
       "b_cases            NaN      NaN -0.013097            \n",
       "b_illq         0.09362      ***  0.094889       ***  \n",
       "b_Zoom       -0.000574      *** -0.000977       ***  \n",
       "b_s&p500      -0.00038      *** -0.000323       ***  \n",
       "constant     -1.009208      *** -1.009208       ***  \n",
       "robust_se          NaN      NaN       NaN       NaN  \n",
       "observations     636.0    636.0     636.0     636.0  \n",
       "r-squared      0.29468  0.29468  0.277288  0.277288  "
      ]
     },
     "execution_count": 259,
     "metadata": {},
     "output_type": "execute_result"
    }
   ],
   "source": [
    "def significance_stars(p_value):\n",
    "    if p_value < 0.001:\n",
    "        return '***'\n",
    "    elif p_value < 0.01:\n",
    "        return '**'\n",
    "    elif p_value < 0.05:\n",
    "        return '*'\n",
    "    else:\n",
    "        return ''\n",
    "\n",
    "data2['constant'] = 1\n",
    "model1 = sm.OLS(data2['Volt'], data2[['constant', 'deaths', 'Zoom', 's&p500', 'illq']])\n",
    "result1 = model1.fit(cov_type='HC1')  # Для robust standard errors\n",
    "results_summary1 = result1.summary()\n",
    "p_values1 = result1.pvalues\n",
    "table_data1 = {\n",
    "    'b_deaths': [result1.params['deaths'], significance_stars(p_values1['deaths'])],\n",
    "    'b_gtr':[np.nan],\n",
    "    'b_mobility':[np.nan],\n",
    "    'b_stringency':[np.nan],\n",
    "    'b_cases':[np.nan],\n",
    "    'b_illq': [result1.params['illq'], significance_stars(p_values1['illq'])],\n",
    "    'b_Zoom': [result1.params['Zoom'], significance_stars(p_values1['Zoom'])],\n",
    "    'b_s&p500': [result1.params['s&p500'], significance_stars(p_values1['s&p500'])],\n",
    "    'constant': [result1.params['constant'], significance_stars(p_values1['constant'])],\n",
    "    'robust_se': result1.bse,\n",
    "    'observations': result1.nobs,\n",
    "    'r-squared': result1.rsquared\n",
    "}\n",
    "vol1 = pd.DataFrame(table_data1, index=['vol1', '*'])\n",
    "\n",
    "model2 = sm.OLS(data2['Volt'], data2[['constant', 'gtr', 'Zoom', 's&p500', 'illq']])\n",
    "result2 = model2.fit(cov_type='HC1')  # Для robust standard errors\n",
    "results_summary2 = result2.summary()\n",
    "p_values2 = result2.pvalues\n",
    "table_data2 = {\n",
    "    'b_gtr': [result2.params['gtr'], significance_stars(p_values2['gtr'])],\n",
    "    'b_illq': [result2.params['illq'], significance_stars(p_values2['illq'])],\n",
    "    'b_Zoom': [result2.params['Zoom'], significance_stars(p_values2['Zoom'])],\n",
    "    'b_s&p500': [result2.params['s&p500'], significance_stars(p_values2['s&p500'])],\n",
    "    'constant': [result1.params['constant'], significance_stars(p_values1['constant'])],\n",
    "    'robust_se': result2.bse,\n",
    "    'observations': result2.nobs,\n",
    "    'r-squared': result2.rsquared\n",
    "}\n",
    "vol2 = pd.DataFrame(table_data2, index=['vol2', '*'])\n",
    "\n",
    "model3 = sm.OLS(data2['Volt'], data2[['constant', 'mobility', 'Zoom', 's&p500', 'illq']])\n",
    "result3 = model3.fit(cov_type='HC1')  # Для robust standard errors\n",
    "results_summary3 = result3.summary()\n",
    "p_values3 = result3.pvalues\n",
    "table_data3 = {\n",
    "    'b_mobility': [result3.params['mobility'], significance_stars(p_values3['mobility'])],\n",
    "    'b_illq': [result3.params['illq'], significance_stars(p_values3['illq'])],\n",
    "    'b_Zoom': [result3.params['Zoom'], significance_stars(p_values3['Zoom'])],\n",
    "    'b_s&p500': [result3.params['s&p500'], significance_stars(p_values3['s&p500'])],\n",
    "    'constant': [result1.params['constant'], significance_stars(p_values1['constant'])],\n",
    "    'robust_se': result3.bse,\n",
    "    'observations': result3.nobs,\n",
    "    'r-squared': result3.rsquared\n",
    "}\n",
    "vol3 = pd.DataFrame(table_data3, index=['vol3', '*'])\n",
    "\n",
    "\n",
    "model4 = sm.OLS(data2['Volt'], data2[['constant', 'stringency', 'Zoom', 's&p500', 'illq']])\n",
    "result4 = model4.fit(cov_type='HC1')  # Для robust standard errors\n",
    "results_summary4 = result4.summary()\n",
    "p_values4 = result4.pvalues\n",
    "table_data4 = {\n",
    "    'b_stringency': [result4.params['stringency'], significance_stars(p_values4['stringency'])],\n",
    "    'b_illq': [result4.params['illq'], significance_stars(p_values4['illq'])],\n",
    "    'b_Zoom': [result4.params['Zoom'], significance_stars(p_values4['Zoom'])],\n",
    "    'b_s&p500': [result4.params['s&p500'], significance_stars(p_values4['s&p500'])],\n",
    "    'constant': [result1.params['constant'], significance_stars(p_values1['constant'])],\n",
    "    'robust_se': result4.bse,\n",
    "    'observations': result4.nobs,\n",
    "    'r-squared': result4.rsquared\n",
    "}\n",
    "vol4 = pd.DataFrame(table_data4, index=['vol4', '*'])\n",
    "\n",
    "model5 = sm.OLS(data2['Volt'], data2[['constant', 'cases', 'Zoom', 's&p500', 'illq']])\n",
    "result5 = model5.fit(cov_type='HC1')  # Для robust standard errors\n",
    "results_summary5 = result.summary()\n",
    "p_values5 = result5.pvalues\n",
    "table_data5 = {\n",
    "    'b_cases': [result5.params['cases'], significance_stars(p_values5['cases'])],\n",
    "    'b_illq': [result5.params['illq'], significance_stars(p_values5['illq'])],\n",
    "    'b_Zoom': [result5.params['Zoom'], significance_stars(p_values5['Zoom'])],\n",
    "    'b_s&p500': [result5.params['s&p500'], significance_stars(p_values5['s&p500'])],\n",
    "    'constant': [result1.params['constant'], significance_stars(p_values1['constant'])],\n",
    "    'robust_se': result5.bse,\n",
    "    'observations': result5.nobs,\n",
    "    'r-squared': result5.rsquared\n",
    "}\n",
    "vol5 = pd.DataFrame(table_data5, index=['vol5', '*'])\n",
    "ster = np.array([result1.scale,result2.scale,result3.scale,result4.scale,result5.scale])\n",
    "fstat = np.array([result1.fvalue,result2.fvalue,result3.fvalue,result4.fvalue,result5.fvalue])\n",
    "print(\"standart error: \", ster)\n",
    "print(\"f statistica: \", fstat)\n",
    "datf = pd.concat([vol1,vol2,vol3,vol4,vol5])\n",
    "datf = datf.T\n",
    "datf"
   ]
  },
  {
   "cell_type": "markdown",
   "id": "167f8b45",
   "metadata": {},
   "source": [
    "# ZOOM GVOLT"
   ]
  },
  {
   "cell_type": "code",
   "execution_count": 260,
   "id": "95d2e945",
   "metadata": {},
   "outputs": [
    {
     "name": "stdout",
     "output_type": "stream",
     "text": [
      "standart error:  [0.0860367  0.08560307 0.08562947 0.08554171 0.08605018]\n",
      "f statistica:  [ 7.37168111 10.29871744  7.40116221  8.61805625  7.35580442]\n"
     ]
    },
    {
     "data": {
      "text/html": [
       "<div>\n",
       "<style scoped>\n",
       "    .dataframe tbody tr th:only-of-type {\n",
       "        vertical-align: middle;\n",
       "    }\n",
       "\n",
       "    .dataframe tbody tr th {\n",
       "        vertical-align: top;\n",
       "    }\n",
       "\n",
       "    .dataframe thead th {\n",
       "        text-align: right;\n",
       "    }\n",
       "</style>\n",
       "<table border=\"1\" class=\"dataframe\">\n",
       "  <thead>\n",
       "    <tr style=\"text-align: right;\">\n",
       "      <th></th>\n",
       "      <th>gvol1</th>\n",
       "      <th>*</th>\n",
       "      <th>gvol2</th>\n",
       "      <th>*</th>\n",
       "      <th>gvol3</th>\n",
       "      <th>*</th>\n",
       "      <th>gvol4</th>\n",
       "      <th>*</th>\n",
       "      <th>gvol5</th>\n",
       "      <th>*</th>\n",
       "    </tr>\n",
       "  </thead>\n",
       "  <tbody>\n",
       "    <tr>\n",
       "      <th>b_deaths</th>\n",
       "      <td>-0.002712</td>\n",
       "      <td></td>\n",
       "      <td>NaN</td>\n",
       "      <td>NaN</td>\n",
       "      <td>NaN</td>\n",
       "      <td>NaN</td>\n",
       "      <td>NaN</td>\n",
       "      <td>NaN</td>\n",
       "      <td>NaN</td>\n",
       "      <td>NaN</td>\n",
       "    </tr>\n",
       "    <tr>\n",
       "      <th>b_gtr</th>\n",
       "      <td>NaN</td>\n",
       "      <td>NaN</td>\n",
       "      <td>-0.03533</td>\n",
       "      <td></td>\n",
       "      <td>NaN</td>\n",
       "      <td>NaN</td>\n",
       "      <td>NaN</td>\n",
       "      <td>NaN</td>\n",
       "      <td>NaN</td>\n",
       "      <td>NaN</td>\n",
       "    </tr>\n",
       "    <tr>\n",
       "      <th>b_mobility</th>\n",
       "      <td>NaN</td>\n",
       "      <td>NaN</td>\n",
       "      <td>NaN</td>\n",
       "      <td>NaN</td>\n",
       "      <td>-0.000505</td>\n",
       "      <td></td>\n",
       "      <td>NaN</td>\n",
       "      <td>NaN</td>\n",
       "      <td>NaN</td>\n",
       "      <td>NaN</td>\n",
       "    </tr>\n",
       "    <tr>\n",
       "      <th>b_stringency</th>\n",
       "      <td>NaN</td>\n",
       "      <td>NaN</td>\n",
       "      <td>NaN</td>\n",
       "      <td>NaN</td>\n",
       "      <td>NaN</td>\n",
       "      <td>NaN</td>\n",
       "      <td>-0.080912</td>\n",
       "      <td></td>\n",
       "      <td>NaN</td>\n",
       "      <td>NaN</td>\n",
       "    </tr>\n",
       "    <tr>\n",
       "      <th>b_cases</th>\n",
       "      <td>NaN</td>\n",
       "      <td>NaN</td>\n",
       "      <td>NaN</td>\n",
       "      <td>NaN</td>\n",
       "      <td>NaN</td>\n",
       "      <td>NaN</td>\n",
       "      <td>NaN</td>\n",
       "      <td>NaN</td>\n",
       "      <td>0.000555</td>\n",
       "      <td></td>\n",
       "    </tr>\n",
       "    <tr>\n",
       "      <th>b_illq</th>\n",
       "      <td>-0.006401</td>\n",
       "      <td></td>\n",
       "      <td>-0.00914</td>\n",
       "      <td></td>\n",
       "      <td>-0.00731</td>\n",
       "      <td></td>\n",
       "      <td>-0.006635</td>\n",
       "      <td></td>\n",
       "      <td>-0.006475</td>\n",
       "      <td></td>\n",
       "    </tr>\n",
       "    <tr>\n",
       "      <th>b_Zoom</th>\n",
       "      <td>-0.00031</td>\n",
       "      <td>**</td>\n",
       "      <td>-0.000291</td>\n",
       "      <td>**</td>\n",
       "      <td>-0.000353</td>\n",
       "      <td>***</td>\n",
       "      <td>-0.000166</td>\n",
       "      <td></td>\n",
       "      <td>-0.000321</td>\n",
       "      <td>**</td>\n",
       "    </tr>\n",
       "    <tr>\n",
       "      <th>b_s&amp;p500</th>\n",
       "      <td>-0.0001</td>\n",
       "      <td>***</td>\n",
       "      <td>-0.000162</td>\n",
       "      <td>***</td>\n",
       "      <td>-0.000092</td>\n",
       "      <td>***</td>\n",
       "      <td>-0.000116</td>\n",
       "      <td>***</td>\n",
       "      <td>-0.000103</td>\n",
       "      <td>***</td>\n",
       "    </tr>\n",
       "    <tr>\n",
       "      <th>constant</th>\n",
       "      <td>-2.406411</td>\n",
       "      <td>***</td>\n",
       "      <td>-2.406411</td>\n",
       "      <td>***</td>\n",
       "      <td>-2.406411</td>\n",
       "      <td>***</td>\n",
       "      <td>-2.406411</td>\n",
       "      <td>***</td>\n",
       "      <td>-2.406411</td>\n",
       "      <td>***</td>\n",
       "    </tr>\n",
       "    <tr>\n",
       "      <th>robust_se</th>\n",
       "      <td>NaN</td>\n",
       "      <td>NaN</td>\n",
       "      <td>NaN</td>\n",
       "      <td>NaN</td>\n",
       "      <td>NaN</td>\n",
       "      <td>NaN</td>\n",
       "      <td>NaN</td>\n",
       "      <td>NaN</td>\n",
       "      <td>NaN</td>\n",
       "      <td>NaN</td>\n",
       "    </tr>\n",
       "    <tr>\n",
       "      <th>observations</th>\n",
       "      <td>636.0</td>\n",
       "      <td>636.0</td>\n",
       "      <td>636.0</td>\n",
       "      <td>636.0</td>\n",
       "      <td>636.0</td>\n",
       "      <td>636.0</td>\n",
       "      <td>636.0</td>\n",
       "      <td>636.0</td>\n",
       "      <td>636.0</td>\n",
       "      <td>636.0</td>\n",
       "    </tr>\n",
       "    <tr>\n",
       "      <th>r-squared</th>\n",
       "      <td>0.056021</td>\n",
       "      <td>0.056021</td>\n",
       "      <td>0.060779</td>\n",
       "      <td>0.060779</td>\n",
       "      <td>0.060489</td>\n",
       "      <td>0.060489</td>\n",
       "      <td>0.061452</td>\n",
       "      <td>0.061452</td>\n",
       "      <td>0.055873</td>\n",
       "      <td>0.055873</td>\n",
       "    </tr>\n",
       "  </tbody>\n",
       "</table>\n",
       "</div>"
      ],
      "text/plain": [
       "                 gvol1         *     gvol2         *     gvol3         *  \\\n",
       "b_deaths     -0.002712                 NaN       NaN       NaN       NaN   \n",
       "b_gtr              NaN       NaN  -0.03533                 NaN       NaN   \n",
       "b_mobility         NaN       NaN       NaN       NaN -0.000505             \n",
       "b_stringency       NaN       NaN       NaN       NaN       NaN       NaN   \n",
       "b_cases            NaN       NaN       NaN       NaN       NaN       NaN   \n",
       "b_illq       -0.006401            -0.00914            -0.00731             \n",
       "b_Zoom        -0.00031        ** -0.000291        ** -0.000353       ***   \n",
       "b_s&p500       -0.0001       *** -0.000162       *** -0.000092       ***   \n",
       "constant     -2.406411       *** -2.406411       *** -2.406411       ***   \n",
       "robust_se          NaN       NaN       NaN       NaN       NaN       NaN   \n",
       "observations     636.0     636.0     636.0     636.0     636.0     636.0   \n",
       "r-squared     0.056021  0.056021  0.060779  0.060779  0.060489  0.060489   \n",
       "\n",
       "                 gvol4         *     gvol5         *  \n",
       "b_deaths           NaN       NaN       NaN       NaN  \n",
       "b_gtr              NaN       NaN       NaN       NaN  \n",
       "b_mobility         NaN       NaN       NaN       NaN  \n",
       "b_stringency -0.080912                 NaN       NaN  \n",
       "b_cases            NaN       NaN  0.000555            \n",
       "b_illq       -0.006635           -0.006475            \n",
       "b_Zoom       -0.000166           -0.000321        **  \n",
       "b_s&p500     -0.000116       *** -0.000103       ***  \n",
       "constant     -2.406411       *** -2.406411       ***  \n",
       "robust_se          NaN       NaN       NaN       NaN  \n",
       "observations     636.0     636.0     636.0     636.0  \n",
       "r-squared     0.061452  0.061452  0.055873  0.055873  "
      ]
     },
     "execution_count": 260,
     "metadata": {},
     "output_type": "execute_result"
    }
   ],
   "source": [
    "model1 = sm.OLS(data2['gvolt'], data2[['constant', 'deaths', 'Zoom', 's&p500', 'illq']])\n",
    "result1 = model1.fit(cov_type='HC1')  # Для robust standard errors\n",
    "results_summary1 = result1.summary()\n",
    "p_values1 = result1.pvalues\n",
    "table_data1 = {\n",
    "    'b_deaths': [result1.params['deaths'], significance_stars(p_values1['deaths'])],\n",
    "    'b_gtr':[np.nan],\n",
    "    'b_mobility':[np.nan],\n",
    "    'b_stringency':[np.nan],\n",
    "    'b_cases':[np.nan],\n",
    "    'b_illq': [result1.params['illq'], significance_stars(p_values1['illq'])],\n",
    "    'b_Zoom': [result1.params['Zoom'], significance_stars(p_values1['Zoom'])],\n",
    "    'b_s&p500': [result1.params['s&p500'], significance_stars(p_values1['s&p500'])],\n",
    "    'constant': [result1.params['constant'], significance_stars(p_values1['constant'])],\n",
    "    'robust_se': result1.bse,\n",
    "    'observations': result1.nobs,\n",
    "    'r-squared': result1.rsquared\n",
    "}\n",
    "gvol1 = pd.DataFrame(table_data1, index=['gvol1', '*'])\n",
    "\n",
    "model2 = sm.OLS(data2['gvolt'], data2[['constant', 'gtr', 'Zoom', 's&p500', 'illq']])\n",
    "result2 = model2.fit(cov_type='HC1')  # Для robust standard errors\n",
    "results_summary2 = result2.summary()\n",
    "p_values2 = result2.pvalues\n",
    "table_data2 = {\n",
    "    'b_gtr': [result2.params['gtr'], significance_stars(p_values2['gtr'])],\n",
    "    'b_illq': [result2.params['illq'], significance_stars(p_values2['illq'])],\n",
    "    'b_Zoom': [result2.params['Zoom'], significance_stars(p_values2['Zoom'])],\n",
    "    'b_s&p500': [result2.params['s&p500'], significance_stars(p_values2['s&p500'])],\n",
    "    'constant': [result1.params['constant'], significance_stars(p_values1['constant'])],\n",
    "    'robust_se': result2.bse,\n",
    "    'observations': result2.nobs,\n",
    "    'r-squared': result2.rsquared\n",
    "}\n",
    "gvol2 = pd.DataFrame(table_data2, index=['gvol2', '*'])\n",
    "\n",
    "model3 = sm.OLS(data2['gvolt'], data2[['constant', 'mobility', 'Zoom', 's&p500', 'illq']])\n",
    "result3 = model3.fit(cov_type='HC1')  # Для robust standard errors\n",
    "results_summary3 = result3.summary()\n",
    "p_values3 = result3.pvalues\n",
    "table_data3 = {\n",
    "    'b_mobility': [result3.params['mobility'], significance_stars(p_values3['mobility'])],\n",
    "    'b_illq': [result3.params['illq'], significance_stars(p_values3['illq'])],\n",
    "    'b_Zoom': [result3.params['Zoom'], significance_stars(p_values3['Zoom'])],\n",
    "    'b_s&p500': [result3.params['s&p500'], significance_stars(p_values3['s&p500'])],\n",
    "    'constant': [result1.params['constant'], significance_stars(p_values1['constant'])],\n",
    "    'robust_se': result3.bse,\n",
    "    'observations': result3.nobs,\n",
    "    'r-squared': result3.rsquared\n",
    "}\n",
    "gvol3 = pd.DataFrame(table_data3, index=['gvol3', '*'])\n",
    "\n",
    "\n",
    "model4 = sm.OLS(data2['gvolt'], data2[['constant', 'stringency', 'Zoom', 's&p500', 'illq']])\n",
    "result4 = model4.fit(cov_type='HC1')  # Для robust standard errors\n",
    "results_summary4 = result4.summary()\n",
    "p_values4 = result4.pvalues\n",
    "table_data4 = {\n",
    "    'b_stringency': [result4.params['stringency'], significance_stars(p_values4['stringency'])],\n",
    "    'b_illq': [result4.params['illq'], significance_stars(p_values4['illq'])],\n",
    "    'b_Zoom': [result4.params['Zoom'], significance_stars(p_values4['Zoom'])],\n",
    "    'b_s&p500': [result4.params['s&p500'], significance_stars(p_values4['s&p500'])],\n",
    "    'constant': [result1.params['constant'], significance_stars(p_values1['constant'])],\n",
    "    'robust_se': result4.bse,\n",
    "    'observations': result4.nobs,\n",
    "    'r-squared': result4.rsquared\n",
    "}\n",
    "gvol4 = pd.DataFrame(table_data4, index=['gvol4', '*'])\n",
    "\n",
    "model5 = sm.OLS(data2['gvolt'], data2[['constant', 'cases', 'Zoom', 's&p500', 'illq']])\n",
    "result5 = model5.fit(cov_type='HC1')  # Для robust standard errors\n",
    "results_summary5 = result.summary()\n",
    "p_values5 = result5.pvalues\n",
    "table_data5 = {\n",
    "    'b_cases': [result5.params['cases'], significance_stars(p_values5['cases'])],\n",
    "    'b_illq': [result5.params['illq'], significance_stars(p_values5['illq'])],\n",
    "    'b_Zoom': [result5.params['Zoom'], significance_stars(p_values5['Zoom'])],\n",
    "    'b_s&p500': [result5.params['s&p500'], significance_stars(p_values5['s&p500'])],\n",
    "    'constant': [result1.params['constant'], significance_stars(p_values1['constant'])],\n",
    "    'robust_se': result5.bse,\n",
    "    'observations': result5.nobs,\n",
    "    'r-squared': result5.rsquared\n",
    "}\n",
    "gvol5 = pd.DataFrame(table_data5, index=['gvol5', '*'])\n",
    "ster = np.array([result1.scale,result2.scale,result3.scale,result4.scale,result5.scale])\n",
    "fstat = np.array([result1.fvalue,result2.fvalue,result3.fvalue,result4.fvalue,result5.fvalue])\n",
    "print(\"standart error: \", ster)\n",
    "print(\"f statistica: \", fstat)\n",
    "datf2 = pd.concat([gvol1,gvol2,gvol3,gvol4,gvol5])\n",
    "datf2 = datf2.T\n",
    "datf2"
   ]
  },
  {
   "cell_type": "code",
   "execution_count": 261,
   "id": "e640d8c2",
   "metadata": {},
   "outputs": [
    {
     "data": {
      "text/plain": [
       "date\n",
       "2020-02-18    3370.290039\n",
       "2020-02-19    3386.149902\n",
       "2020-02-20    3373.229980\n",
       "2020-02-21    3337.750000\n",
       "2020-02-24    3225.889893\n",
       "                 ...     \n",
       "2022-08-22    4137.990234\n",
       "2022-08-23    4128.729980\n",
       "2022-08-24    4140.770020\n",
       "2022-08-25    4199.120117\n",
       "2022-08-26    4057.659912\n",
       "Name: s&p500, Length: 638, dtype: float64"
      ]
     },
     "execution_count": 261,
     "metadata": {},
     "output_type": "execute_result"
    }
   ],
   "source": [
    "sp"
   ]
  },
  {
   "cell_type": "code",
   "execution_count": 316,
   "id": "a71878ff",
   "metadata": {},
   "outputs": [
    {
     "data": {
      "application/vnd.plotly.v1+json": {
       "config": {
        "plotlyServerURL": "https://plot.ly"
       },
       "data": [
        {
         "fillpattern": {
          "shape": ""
         },
         "hovertemplate": "variable=s&p500<br>date=%{x}<br>value=%{y}<extra></extra>",
         "legendgroup": "s&p500",
         "line": {
          "color": "cyan",
          "width": 2
         },
         "marker": {
          "symbol": "circle"
         },
         "mode": "lines",
         "name": "s&p500",
         "orientation": "v",
         "showlegend": true,
         "stackgroup": "1",
         "type": "scatter",
         "x": [
          "2020-02-18T00:00:00",
          "2020-02-19T00:00:00",
          "2020-02-20T00:00:00",
          "2020-02-21T00:00:00",
          "2020-02-24T00:00:00",
          "2020-02-25T00:00:00",
          "2020-02-26T00:00:00",
          "2020-02-27T00:00:00",
          "2020-02-28T00:00:00",
          "2020-03-02T00:00:00",
          "2020-03-03T00:00:00",
          "2020-03-04T00:00:00",
          "2020-03-05T00:00:00",
          "2020-03-06T00:00:00",
          "2020-03-09T00:00:00",
          "2020-03-10T00:00:00",
          "2020-03-11T00:00:00",
          "2020-03-12T00:00:00",
          "2020-03-13T00:00:00",
          "2020-03-16T00:00:00",
          "2020-03-17T00:00:00",
          "2020-03-18T00:00:00",
          "2020-03-19T00:00:00",
          "2020-03-20T00:00:00",
          "2020-03-23T00:00:00",
          "2020-03-24T00:00:00",
          "2020-03-25T00:00:00",
          "2020-03-26T00:00:00",
          "2020-03-27T00:00:00",
          "2020-03-30T00:00:00",
          "2020-03-31T00:00:00",
          "2020-04-01T00:00:00",
          "2020-04-02T00:00:00",
          "2020-04-03T00:00:00",
          "2020-04-06T00:00:00",
          "2020-04-07T00:00:00",
          "2020-04-08T00:00:00",
          "2020-04-09T00:00:00",
          "2020-04-13T00:00:00",
          "2020-04-14T00:00:00",
          "2020-04-15T00:00:00",
          "2020-04-16T00:00:00",
          "2020-04-17T00:00:00",
          "2020-04-20T00:00:00",
          "2020-04-21T00:00:00",
          "2020-04-22T00:00:00",
          "2020-04-23T00:00:00",
          "2020-04-24T00:00:00",
          "2020-04-27T00:00:00",
          "2020-04-28T00:00:00",
          "2020-04-29T00:00:00",
          "2020-04-30T00:00:00",
          "2020-05-01T00:00:00",
          "2020-05-04T00:00:00",
          "2020-05-05T00:00:00",
          "2020-05-06T00:00:00",
          "2020-05-07T00:00:00",
          "2020-05-08T00:00:00",
          "2020-05-11T00:00:00",
          "2020-05-12T00:00:00",
          "2020-05-13T00:00:00",
          "2020-05-14T00:00:00",
          "2020-05-15T00:00:00",
          "2020-05-18T00:00:00",
          "2020-05-19T00:00:00",
          "2020-05-20T00:00:00",
          "2020-05-21T00:00:00",
          "2020-05-22T00:00:00",
          "2020-05-26T00:00:00",
          "2020-05-27T00:00:00",
          "2020-05-28T00:00:00",
          "2020-05-29T00:00:00",
          "2020-06-01T00:00:00",
          "2020-06-02T00:00:00",
          "2020-06-03T00:00:00",
          "2020-06-04T00:00:00",
          "2020-06-05T00:00:00",
          "2020-06-08T00:00:00",
          "2020-06-09T00:00:00",
          "2020-06-10T00:00:00",
          "2020-06-11T00:00:00",
          "2020-06-12T00:00:00",
          "2020-06-15T00:00:00",
          "2020-06-16T00:00:00",
          "2020-06-17T00:00:00",
          "2020-06-18T00:00:00",
          "2020-06-19T00:00:00",
          "2020-06-22T00:00:00",
          "2020-06-23T00:00:00",
          "2020-06-24T00:00:00",
          "2020-06-25T00:00:00",
          "2020-06-26T00:00:00",
          "2020-06-29T00:00:00",
          "2020-06-30T00:00:00",
          "2020-07-01T00:00:00",
          "2020-07-02T00:00:00",
          "2020-07-06T00:00:00",
          "2020-07-07T00:00:00",
          "2020-07-08T00:00:00",
          "2020-07-09T00:00:00",
          "2020-07-10T00:00:00",
          "2020-07-13T00:00:00",
          "2020-07-14T00:00:00",
          "2020-07-15T00:00:00",
          "2020-07-16T00:00:00",
          "2020-07-17T00:00:00",
          "2020-07-20T00:00:00",
          "2020-07-21T00:00:00",
          "2020-07-22T00:00:00",
          "2020-07-23T00:00:00",
          "2020-07-24T00:00:00",
          "2020-07-27T00:00:00",
          "2020-07-28T00:00:00",
          "2020-07-29T00:00:00",
          "2020-07-30T00:00:00",
          "2020-07-31T00:00:00",
          "2020-08-03T00:00:00",
          "2020-08-04T00:00:00",
          "2020-08-05T00:00:00",
          "2020-08-06T00:00:00",
          "2020-08-07T00:00:00",
          "2020-08-10T00:00:00",
          "2020-08-11T00:00:00",
          "2020-08-12T00:00:00",
          "2020-08-13T00:00:00",
          "2020-08-14T00:00:00",
          "2020-08-17T00:00:00",
          "2020-08-18T00:00:00",
          "2020-08-19T00:00:00",
          "2020-08-20T00:00:00",
          "2020-08-21T00:00:00",
          "2020-08-24T00:00:00",
          "2020-08-25T00:00:00",
          "2020-08-26T00:00:00",
          "2020-08-27T00:00:00",
          "2020-08-28T00:00:00",
          "2020-08-31T00:00:00",
          "2020-09-01T00:00:00",
          "2020-09-02T00:00:00",
          "2020-09-03T00:00:00",
          "2020-09-04T00:00:00",
          "2020-09-08T00:00:00",
          "2020-09-09T00:00:00",
          "2020-09-10T00:00:00",
          "2020-09-11T00:00:00",
          "2020-09-14T00:00:00",
          "2020-09-15T00:00:00",
          "2020-09-16T00:00:00",
          "2020-09-17T00:00:00",
          "2020-09-18T00:00:00",
          "2020-09-21T00:00:00",
          "2020-09-22T00:00:00",
          "2020-09-23T00:00:00",
          "2020-09-24T00:00:00",
          "2020-09-25T00:00:00",
          "2020-09-28T00:00:00",
          "2020-09-29T00:00:00",
          "2020-09-30T00:00:00",
          "2020-10-01T00:00:00",
          "2020-10-02T00:00:00",
          "2020-10-05T00:00:00",
          "2020-10-06T00:00:00",
          "2020-10-07T00:00:00",
          "2020-10-08T00:00:00",
          "2020-10-09T00:00:00",
          "2020-10-12T00:00:00",
          "2020-10-13T00:00:00",
          "2020-10-14T00:00:00",
          "2020-10-15T00:00:00",
          "2020-10-16T00:00:00",
          "2020-10-19T00:00:00",
          "2020-10-20T00:00:00",
          "2020-10-21T00:00:00",
          "2020-10-22T00:00:00",
          "2020-10-23T00:00:00",
          "2020-10-26T00:00:00",
          "2020-10-27T00:00:00",
          "2020-10-28T00:00:00",
          "2020-10-29T00:00:00",
          "2020-10-30T00:00:00",
          "2020-11-02T00:00:00",
          "2020-11-03T00:00:00",
          "2020-11-04T00:00:00",
          "2020-11-05T00:00:00",
          "2020-11-06T00:00:00",
          "2020-11-09T00:00:00",
          "2020-11-10T00:00:00",
          "2020-11-11T00:00:00",
          "2020-11-12T00:00:00",
          "2020-11-13T00:00:00",
          "2020-11-16T00:00:00",
          "2020-11-17T00:00:00",
          "2020-11-18T00:00:00",
          "2020-11-19T00:00:00",
          "2020-11-20T00:00:00",
          "2020-11-23T00:00:00",
          "2020-11-24T00:00:00",
          "2020-11-25T00:00:00",
          "2020-11-27T00:00:00",
          "2020-11-30T00:00:00",
          "2020-12-01T00:00:00",
          "2020-12-02T00:00:00",
          "2020-12-03T00:00:00",
          "2020-12-04T00:00:00",
          "2020-12-07T00:00:00",
          "2020-12-08T00:00:00",
          "2020-12-09T00:00:00",
          "2020-12-10T00:00:00",
          "2020-12-11T00:00:00",
          "2020-12-14T00:00:00",
          "2020-12-15T00:00:00",
          "2020-12-16T00:00:00",
          "2020-12-17T00:00:00",
          "2020-12-18T00:00:00",
          "2020-12-21T00:00:00",
          "2020-12-22T00:00:00",
          "2020-12-23T00:00:00",
          "2020-12-24T00:00:00",
          "2020-12-28T00:00:00",
          "2020-12-29T00:00:00",
          "2020-12-30T00:00:00",
          "2020-12-31T00:00:00",
          "2021-01-04T00:00:00",
          "2021-01-05T00:00:00",
          "2021-01-06T00:00:00",
          "2021-01-07T00:00:00",
          "2021-01-08T00:00:00",
          "2021-01-11T00:00:00",
          "2021-01-12T00:00:00",
          "2021-01-13T00:00:00",
          "2021-01-14T00:00:00",
          "2021-01-15T00:00:00",
          "2021-01-19T00:00:00",
          "2021-01-20T00:00:00",
          "2021-01-21T00:00:00",
          "2021-01-22T00:00:00",
          "2021-01-25T00:00:00",
          "2021-01-26T00:00:00",
          "2021-01-27T00:00:00",
          "2021-01-28T00:00:00",
          "2021-01-29T00:00:00",
          "2021-02-01T00:00:00",
          "2021-02-02T00:00:00",
          "2021-02-03T00:00:00",
          "2021-02-04T00:00:00",
          "2021-02-05T00:00:00",
          "2021-02-08T00:00:00",
          "2021-02-09T00:00:00",
          "2021-02-10T00:00:00",
          "2021-02-11T00:00:00",
          "2021-02-12T00:00:00",
          "2021-02-16T00:00:00",
          "2021-02-17T00:00:00",
          "2021-02-18T00:00:00",
          "2021-02-19T00:00:00",
          "2021-02-22T00:00:00",
          "2021-02-23T00:00:00",
          "2021-02-24T00:00:00",
          "2021-02-25T00:00:00",
          "2021-02-26T00:00:00",
          "2021-03-01T00:00:00",
          "2021-03-02T00:00:00",
          "2021-03-03T00:00:00",
          "2021-03-04T00:00:00",
          "2021-03-05T00:00:00",
          "2021-03-08T00:00:00",
          "2021-03-09T00:00:00",
          "2021-03-10T00:00:00",
          "2021-03-11T00:00:00",
          "2021-03-12T00:00:00",
          "2021-03-15T00:00:00",
          "2021-03-16T00:00:00",
          "2021-03-17T00:00:00",
          "2021-03-18T00:00:00",
          "2021-03-19T00:00:00",
          "2021-03-22T00:00:00",
          "2021-03-23T00:00:00",
          "2021-03-24T00:00:00",
          "2021-03-25T00:00:00",
          "2021-03-26T00:00:00",
          "2021-03-29T00:00:00",
          "2021-03-30T00:00:00",
          "2021-03-31T00:00:00",
          "2021-04-01T00:00:00",
          "2021-04-05T00:00:00",
          "2021-04-06T00:00:00",
          "2021-04-07T00:00:00",
          "2021-04-08T00:00:00",
          "2021-04-09T00:00:00",
          "2021-04-12T00:00:00",
          "2021-04-13T00:00:00",
          "2021-04-14T00:00:00",
          "2021-04-15T00:00:00",
          "2021-04-16T00:00:00",
          "2021-04-19T00:00:00",
          "2021-04-20T00:00:00",
          "2021-04-21T00:00:00",
          "2021-04-22T00:00:00",
          "2021-04-23T00:00:00",
          "2021-04-26T00:00:00",
          "2021-04-27T00:00:00",
          "2021-04-28T00:00:00",
          "2021-04-29T00:00:00",
          "2021-04-30T00:00:00",
          "2021-05-03T00:00:00",
          "2021-05-04T00:00:00",
          "2021-05-05T00:00:00",
          "2021-05-06T00:00:00",
          "2021-05-07T00:00:00",
          "2021-05-10T00:00:00",
          "2021-05-11T00:00:00",
          "2021-05-12T00:00:00",
          "2021-05-13T00:00:00",
          "2021-05-14T00:00:00",
          "2021-05-17T00:00:00",
          "2021-05-18T00:00:00",
          "2021-05-19T00:00:00",
          "2021-05-20T00:00:00",
          "2021-05-21T00:00:00",
          "2021-05-24T00:00:00",
          "2021-05-25T00:00:00",
          "2021-05-26T00:00:00",
          "2021-05-27T00:00:00",
          "2021-05-28T00:00:00",
          "2021-06-01T00:00:00",
          "2021-06-02T00:00:00",
          "2021-06-03T00:00:00",
          "2021-06-04T00:00:00",
          "2021-06-07T00:00:00",
          "2021-06-08T00:00:00",
          "2021-06-09T00:00:00",
          "2021-06-10T00:00:00",
          "2021-06-11T00:00:00",
          "2021-06-14T00:00:00",
          "2021-06-15T00:00:00",
          "2021-06-16T00:00:00",
          "2021-06-17T00:00:00",
          "2021-06-18T00:00:00",
          "2021-06-21T00:00:00",
          "2021-06-22T00:00:00",
          "2021-06-23T00:00:00",
          "2021-06-24T00:00:00",
          "2021-06-25T00:00:00",
          "2021-06-28T00:00:00",
          "2021-06-29T00:00:00",
          "2021-06-30T00:00:00",
          "2021-07-01T00:00:00",
          "2021-07-02T00:00:00",
          "2021-07-06T00:00:00",
          "2021-07-07T00:00:00",
          "2021-07-08T00:00:00",
          "2021-07-09T00:00:00",
          "2021-07-12T00:00:00",
          "2021-07-13T00:00:00",
          "2021-07-14T00:00:00",
          "2021-07-15T00:00:00",
          "2021-07-16T00:00:00",
          "2021-07-19T00:00:00",
          "2021-07-20T00:00:00",
          "2021-07-21T00:00:00",
          "2021-07-22T00:00:00",
          "2021-07-23T00:00:00",
          "2021-07-26T00:00:00",
          "2021-07-27T00:00:00",
          "2021-07-28T00:00:00",
          "2021-07-29T00:00:00",
          "2021-07-30T00:00:00",
          "2021-08-02T00:00:00",
          "2021-08-03T00:00:00",
          "2021-08-04T00:00:00",
          "2021-08-05T00:00:00",
          "2021-08-06T00:00:00",
          "2021-08-09T00:00:00",
          "2021-08-10T00:00:00",
          "2021-08-11T00:00:00",
          "2021-08-12T00:00:00",
          "2021-08-13T00:00:00",
          "2021-08-16T00:00:00",
          "2021-08-17T00:00:00",
          "2021-08-18T00:00:00",
          "2021-08-19T00:00:00",
          "2021-08-20T00:00:00",
          "2021-08-23T00:00:00",
          "2021-08-24T00:00:00",
          "2021-08-25T00:00:00",
          "2021-08-26T00:00:00",
          "2021-08-27T00:00:00",
          "2021-08-30T00:00:00",
          "2021-08-31T00:00:00",
          "2021-09-01T00:00:00",
          "2021-09-02T00:00:00",
          "2021-09-03T00:00:00",
          "2021-09-07T00:00:00",
          "2021-09-08T00:00:00",
          "2021-09-09T00:00:00",
          "2021-09-10T00:00:00",
          "2021-09-13T00:00:00",
          "2021-09-14T00:00:00",
          "2021-09-15T00:00:00",
          "2021-09-16T00:00:00",
          "2021-09-17T00:00:00",
          "2021-09-20T00:00:00",
          "2021-09-21T00:00:00",
          "2021-09-22T00:00:00",
          "2021-09-23T00:00:00",
          "2021-09-24T00:00:00",
          "2021-09-27T00:00:00",
          "2021-09-28T00:00:00",
          "2021-09-29T00:00:00",
          "2021-09-30T00:00:00",
          "2021-10-01T00:00:00",
          "2021-10-04T00:00:00",
          "2021-10-05T00:00:00",
          "2021-10-06T00:00:00",
          "2021-10-07T00:00:00",
          "2021-10-08T00:00:00",
          "2021-10-11T00:00:00",
          "2021-10-12T00:00:00",
          "2021-10-13T00:00:00",
          "2021-10-14T00:00:00",
          "2021-10-15T00:00:00",
          "2021-10-18T00:00:00",
          "2021-10-19T00:00:00",
          "2021-10-20T00:00:00",
          "2021-10-21T00:00:00",
          "2021-10-22T00:00:00",
          "2021-10-25T00:00:00",
          "2021-10-26T00:00:00",
          "2021-10-27T00:00:00",
          "2021-10-28T00:00:00",
          "2021-10-29T00:00:00",
          "2021-11-01T00:00:00",
          "2021-11-02T00:00:00",
          "2021-11-03T00:00:00",
          "2021-11-04T00:00:00",
          "2021-11-05T00:00:00",
          "2021-11-08T00:00:00",
          "2021-11-09T00:00:00",
          "2021-11-10T00:00:00",
          "2021-11-11T00:00:00",
          "2021-11-12T00:00:00",
          "2021-11-15T00:00:00",
          "2021-11-16T00:00:00",
          "2021-11-17T00:00:00",
          "2021-11-18T00:00:00",
          "2021-11-19T00:00:00",
          "2021-11-22T00:00:00",
          "2021-11-23T00:00:00",
          "2021-11-24T00:00:00",
          "2021-11-26T00:00:00",
          "2021-11-29T00:00:00",
          "2021-11-30T00:00:00",
          "2021-12-01T00:00:00",
          "2021-12-02T00:00:00",
          "2021-12-03T00:00:00",
          "2021-12-06T00:00:00",
          "2021-12-07T00:00:00",
          "2021-12-08T00:00:00",
          "2021-12-09T00:00:00",
          "2021-12-10T00:00:00",
          "2021-12-13T00:00:00",
          "2021-12-14T00:00:00",
          "2021-12-15T00:00:00",
          "2021-12-16T00:00:00",
          "2021-12-17T00:00:00",
          "2021-12-20T00:00:00",
          "2021-12-21T00:00:00",
          "2021-12-22T00:00:00",
          "2021-12-23T00:00:00",
          "2021-12-27T00:00:00",
          "2021-12-28T00:00:00",
          "2021-12-29T00:00:00",
          "2021-12-30T00:00:00",
          "2021-12-31T00:00:00",
          "2022-01-03T00:00:00",
          "2022-01-04T00:00:00",
          "2022-01-05T00:00:00",
          "2022-01-06T00:00:00",
          "2022-01-07T00:00:00",
          "2022-01-10T00:00:00",
          "2022-01-11T00:00:00",
          "2022-01-12T00:00:00",
          "2022-01-13T00:00:00",
          "2022-01-14T00:00:00",
          "2022-01-18T00:00:00",
          "2022-01-19T00:00:00",
          "2022-01-20T00:00:00",
          "2022-01-21T00:00:00",
          "2022-01-24T00:00:00",
          "2022-01-25T00:00:00",
          "2022-01-26T00:00:00",
          "2022-01-27T00:00:00",
          "2022-01-28T00:00:00",
          "2022-01-31T00:00:00",
          "2022-02-01T00:00:00",
          "2022-02-02T00:00:00",
          "2022-02-03T00:00:00",
          "2022-02-04T00:00:00",
          "2022-02-07T00:00:00",
          "2022-02-08T00:00:00",
          "2022-02-09T00:00:00",
          "2022-02-10T00:00:00",
          "2022-02-11T00:00:00",
          "2022-02-14T00:00:00",
          "2022-02-15T00:00:00",
          "2022-02-16T00:00:00",
          "2022-02-17T00:00:00",
          "2022-02-18T00:00:00",
          "2022-02-22T00:00:00",
          "2022-02-23T00:00:00",
          "2022-02-24T00:00:00",
          "2022-02-25T00:00:00",
          "2022-02-28T00:00:00",
          "2022-03-01T00:00:00",
          "2022-03-02T00:00:00",
          "2022-03-03T00:00:00",
          "2022-03-04T00:00:00",
          "2022-03-07T00:00:00",
          "2022-03-08T00:00:00",
          "2022-03-09T00:00:00",
          "2022-03-10T00:00:00",
          "2022-03-11T00:00:00",
          "2022-03-14T00:00:00",
          "2022-03-15T00:00:00",
          "2022-03-16T00:00:00",
          "2022-03-17T00:00:00",
          "2022-03-18T00:00:00",
          "2022-03-21T00:00:00",
          "2022-03-22T00:00:00",
          "2022-03-23T00:00:00",
          "2022-03-24T00:00:00",
          "2022-03-25T00:00:00",
          "2022-03-28T00:00:00",
          "2022-03-29T00:00:00",
          "2022-03-30T00:00:00",
          "2022-03-31T00:00:00",
          "2022-04-01T00:00:00",
          "2022-04-04T00:00:00",
          "2022-04-05T00:00:00",
          "2022-04-06T00:00:00",
          "2022-04-07T00:00:00",
          "2022-04-08T00:00:00",
          "2022-04-11T00:00:00",
          "2022-04-12T00:00:00",
          "2022-04-13T00:00:00",
          "2022-04-14T00:00:00",
          "2022-04-18T00:00:00",
          "2022-04-19T00:00:00",
          "2022-04-20T00:00:00",
          "2022-04-21T00:00:00",
          "2022-04-22T00:00:00",
          "2022-04-25T00:00:00",
          "2022-04-26T00:00:00",
          "2022-04-27T00:00:00",
          "2022-04-28T00:00:00",
          "2022-04-29T00:00:00",
          "2022-05-02T00:00:00",
          "2022-05-03T00:00:00",
          "2022-05-04T00:00:00",
          "2022-05-05T00:00:00",
          "2022-05-06T00:00:00",
          "2022-05-09T00:00:00",
          "2022-05-10T00:00:00",
          "2022-05-11T00:00:00",
          "2022-05-12T00:00:00",
          "2022-05-13T00:00:00",
          "2022-05-16T00:00:00",
          "2022-05-17T00:00:00",
          "2022-05-18T00:00:00",
          "2022-05-19T00:00:00",
          "2022-05-20T00:00:00",
          "2022-05-23T00:00:00",
          "2022-05-24T00:00:00",
          "2022-05-25T00:00:00",
          "2022-05-26T00:00:00",
          "2022-05-27T00:00:00",
          "2022-05-31T00:00:00",
          "2022-06-01T00:00:00",
          "2022-06-02T00:00:00",
          "2022-06-03T00:00:00",
          "2022-06-06T00:00:00",
          "2022-06-07T00:00:00",
          "2022-06-08T00:00:00",
          "2022-06-09T00:00:00",
          "2022-06-10T00:00:00",
          "2022-06-13T00:00:00",
          "2022-06-14T00:00:00",
          "2022-06-15T00:00:00",
          "2022-06-16T00:00:00",
          "2022-06-17T00:00:00",
          "2022-06-21T00:00:00",
          "2022-06-22T00:00:00",
          "2022-06-23T00:00:00",
          "2022-06-24T00:00:00",
          "2022-06-27T00:00:00",
          "2022-06-28T00:00:00",
          "2022-06-29T00:00:00",
          "2022-06-30T00:00:00",
          "2022-07-01T00:00:00",
          "2022-07-05T00:00:00",
          "2022-07-06T00:00:00",
          "2022-07-07T00:00:00",
          "2022-07-08T00:00:00",
          "2022-07-11T00:00:00",
          "2022-07-12T00:00:00",
          "2022-07-13T00:00:00",
          "2022-07-14T00:00:00",
          "2022-07-15T00:00:00",
          "2022-07-18T00:00:00",
          "2022-07-19T00:00:00",
          "2022-07-20T00:00:00",
          "2022-07-21T00:00:00",
          "2022-07-22T00:00:00",
          "2022-07-25T00:00:00",
          "2022-07-26T00:00:00",
          "2022-07-27T00:00:00",
          "2022-07-28T00:00:00",
          "2022-07-29T00:00:00",
          "2022-08-01T00:00:00",
          "2022-08-02T00:00:00",
          "2022-08-03T00:00:00",
          "2022-08-04T00:00:00",
          "2022-08-05T00:00:00",
          "2022-08-08T00:00:00",
          "2022-08-09T00:00:00",
          "2022-08-10T00:00:00",
          "2022-08-11T00:00:00",
          "2022-08-12T00:00:00",
          "2022-08-15T00:00:00",
          "2022-08-16T00:00:00",
          "2022-08-17T00:00:00",
          "2022-08-18T00:00:00",
          "2022-08-19T00:00:00",
          "2022-08-22T00:00:00",
          "2022-08-23T00:00:00",
          "2022-08-24T00:00:00",
          "2022-08-25T00:00:00",
          "2022-08-26T00:00:00"
         ],
         "xaxis": "x",
         "y": [
          3370.2900390625,
          3386.14990234375,
          3373.22998046875,
          3337.75,
          3225.889892578125,
          3128.2099609375,
          3116.389892578125,
          2978.760009765625,
          2954.219970703125,
          3090.22998046875,
          3003.3701171875,
          3130.1201171875,
          3023.93994140625,
          2972.3701171875,
          2746.56005859375,
          2882.22998046875,
          2741.3798828125,
          2480.639892578125,
          2711.02001953125,
          2386.1298828125,
          2529.18994140625,
          2398.10009765625,
          2409.389892578125,
          2304.919921875,
          2237.39990234375,
          2447.330078125,
          2475.56005859375,
          2630.070068359375,
          2541.469970703125,
          2626.64990234375,
          2584.590087890625,
          2470.5,
          2526.89990234375,
          2488.64990234375,
          2663.679931640625,
          2659.409912109375,
          2749.97998046875,
          2789.820068359375,
          2761.6298828125,
          2846.06005859375,
          2783.360107421875,
          2799.550048828125,
          2874.56005859375,
          2823.159912109375,
          2736.56005859375,
          2799.31005859375,
          2797.800048828125,
          2836.739990234375,
          2878.47998046875,
          2863.389892578125,
          2939.510009765625,
          2912.429931640625,
          2830.7099609375,
          2842.739990234375,
          2868.43994140625,
          2848.419921875,
          2881.18994140625,
          2929.800048828125,
          2930.18994140625,
          2870.1201171875,
          2820,
          2852.5,
          2863.699951171875,
          2953.909912109375,
          2922.93994140625,
          2971.610107421875,
          2948.510009765625,
          2955.449951171875,
          2991.77001953125,
          3036.1298828125,
          3029.72998046875,
          3044.31005859375,
          3055.72998046875,
          3080.820068359375,
          3122.8701171875,
          3112.35009765625,
          3193.929931640625,
          3232.389892578125,
          3207.179931640625,
          3190.139892578125,
          3002.10009765625,
          3041.31005859375,
          3066.590087890625,
          3124.739990234375,
          3113.489990234375,
          3115.340087890625,
          3097.739990234375,
          3117.860107421875,
          3131.2900390625,
          3050.330078125,
          3083.760009765625,
          3009.050048828125,
          3053.239990234375,
          3100.2900390625,
          3115.860107421875,
          3130.010009765625,
          3179.719970703125,
          3145.320068359375,
          3169.93994140625,
          3152.050048828125,
          3185.0400390625,
          3155.219970703125,
          3197.52001953125,
          3226.56005859375,
          3215.570068359375,
          3224.72998046875,
          3251.840087890625,
          3257.300048828125,
          3276.02001953125,
          3235.659912109375,
          3215.6298828125,
          3239.409912109375,
          3218.43994140625,
          3258.43994140625,
          3246.219970703125,
          3271.1201171875,
          3294.610107421875,
          3306.510009765625,
          3327.77001953125,
          3349.159912109375,
          3351.280029296875,
          3360.469970703125,
          3333.68994140625,
          3380.35009765625,
          3373.429931640625,
          3372.85009765625,
          3381.989990234375,
          3389.780029296875,
          3374.85009765625,
          3385.510009765625,
          3397.159912109375,
          3431.280029296875,
          3443.6201171875,
          3478.72998046875,
          3484.550048828125,
          3508.010009765625,
          3500.31005859375,
          3526.64990234375,
          3580.840087890625,
          3455.06005859375,
          3426.9599609375,
          3331.840087890625,
          3398.9599609375,
          3339.18994140625,
          3340.969970703125,
          3383.5400390625,
          3401.199951171875,
          3385.489990234375,
          3357.010009765625,
          3319.469970703125,
          3281.06005859375,
          3315.570068359375,
          3236.919921875,
          3246.590087890625,
          3298.4599609375,
          3351.60009765625,
          3335.469970703125,
          3363,
          3380.800048828125,
          3348.419921875,
          3408.60009765625,
          3360.969970703125,
          3419.43994140625,
          3446.830078125,
          3477.139892578125,
          3534.219970703125,
          3511.929931640625,
          3488.669921875,
          3483.340087890625,
          3483.81005859375,
          3426.919921875,
          3443.1201171875,
          3435.56005859375,
          3453.489990234375,
          3465.389892578125,
          3400.969970703125,
          3390.679931640625,
          3271.030029296875,
          3310.110107421875,
          3269.9599609375,
          3310.239990234375,
          3369.159912109375,
          3443.43994140625,
          3510.449951171875,
          3509.43994140625,
          3550.5,
          3545.530029296875,
          3572.659912109375,
          3537.010009765625,
          3585.14990234375,
          3626.909912109375,
          3609.530029296875,
          3567.7900390625,
          3581.8701171875,
          3557.5400390625,
          3577.590087890625,
          3635.409912109375,
          3629.64990234375,
          3638.35009765625,
          3621.6298828125,
          3662.449951171875,
          3669.010009765625,
          3666.719970703125,
          3699.1201171875,
          3691.9599609375,
          3702.25,
          3672.820068359375,
          3668.10009765625,
          3663.4599609375,
          3647.489990234375,
          3694.6201171875,
          3701.169921875,
          3722.47998046875,
          3709.409912109375,
          3694.919921875,
          3687.260009765625,
          3690.010009765625,
          3703.06005859375,
          3735.360107421875,
          3727.0400390625,
          3732.0400390625,
          3756.070068359375,
          3700.64990234375,
          3726.860107421875,
          3748.139892578125,
          3803.7900390625,
          3824.679931640625,
          3799.610107421875,
          3801.18994140625,
          3809.840087890625,
          3795.5400390625,
          3768.25,
          3798.909912109375,
          3851.85009765625,
          3853.070068359375,
          3841.469970703125,
          3855.360107421875,
          3849.6201171875,
          3750.77001953125,
          3787.3798828125,
          3714.239990234375,
          3773.860107421875,
          3826.31005859375,
          3830.169921875,
          3871.739990234375,
          3886.830078125,
          3915.590087890625,
          3911.22998046875,
          3909.8798828125,
          3916.3798828125,
          3934.830078125,
          3932.590087890625,
          3931.330078125,
          3913.969970703125,
          3906.7099609375,
          3876.5,
          3881.3701171875,
          3925.429931640625,
          3829.340087890625,
          3811.14990234375,
          3901.820068359375,
          3870.2900390625,
          3819.719970703125,
          3768.469970703125,
          3841.93994140625,
          3821.35009765625,
          3875.43994140625,
          3898.81005859375,
          3939.340087890625,
          3943.340087890625,
          3968.93994140625,
          3962.7099609375,
          3974.1201171875,
          3915.4599609375,
          3913.10009765625,
          3940.590087890625,
          3910.52001953125,
          3889.139892578125,
          3909.52001953125,
          3974.5400390625,
          3971.090087890625,
          3958.550048828125,
          3972.889892578125,
          4019.8701171875,
          4077.909912109375,
          4073.93994140625,
          4079.949951171875,
          4097.169921875,
          4128.7998046875,
          4127.990234375,
          4141.58984375,
          4124.66015625,
          4170.419921875,
          4185.47021484375,
          4163.259765625,
          4134.93994140625,
          4173.419921875,
          4134.97998046875,
          4180.169921875,
          4187.6201171875,
          4186.72021484375,
          4183.18017578125,
          4211.47021484375,
          4181.169921875,
          4192.66015625,
          4164.66015625,
          4167.58984375,
          4201.6201171875,
          4232.60009765625,
          4188.43017578125,
          4152.10009765625,
          4063.0400390625,
          4112.5,
          4173.85009765625,
          4163.2900390625,
          4127.830078125,
          4115.68017578125,
          4159.1201171875,
          4155.85986328125,
          4197.0498046875,
          4188.1298828125,
          4195.990234375,
          4200.8798828125,
          4204.10986328125,
          4202.0400390625,
          4208.1201171875,
          4192.85009765625,
          4229.89013671875,
          4226.52001953125,
          4227.259765625,
          4219.5498046875,
          4239.18017578125,
          4247.43994140625,
          4255.14990234375,
          4246.58984375,
          4223.7001953125,
          4221.85986328125,
          4166.4501953125,
          4224.7900390625,
          4246.43994140625,
          4241.83984375,
          4266.490234375,
          4280.7001953125,
          4290.60986328125,
          4291.7998046875,
          4297.5,
          4319.93994140625,
          4352.33984375,
          4343.5400390625,
          4358.1298828125,
          4320.81982421875,
          4369.5498046875,
          4384.6298828125,
          4369.2099609375,
          4374.2998046875,
          4360.02978515625,
          4327.16015625,
          4258.490234375,
          4323.06005859375,
          4358.68994140625,
          4367.47998046875,
          4411.7900390625,
          4422.2998046875,
          4401.4599609375,
          4400.64013671875,
          4419.14990234375,
          4395.259765625,
          4387.16015625,
          4423.14990234375,
          4402.66015625,
          4429.10009765625,
          4436.52001953125,
          4432.35009765625,
          4436.75,
          4442.41015625,
          4460.830078125,
          4468,
          4479.7099609375,
          4448.080078125,
          4400.27001953125,
          4405.7998046875,
          4441.669921875,
          4479.52978515625,
          4486.22998046875,
          4496.18994140625,
          4470,
          4509.3701171875,
          4528.7900390625,
          4522.68017578125,
          4524.08984375,
          4536.9501953125,
          4535.43017578125,
          4520.02978515625,
          4514.06982421875,
          4493.27978515625,
          4458.580078125,
          4468.72998046875,
          4443.0498046875,
          4480.7001953125,
          4473.75,
          4432.990234375,
          4357.72998046875,
          4354.18994140625,
          4395.64013671875,
          4448.97998046875,
          4455.47998046875,
          4443.10986328125,
          4352.6298828125,
          4359.4599609375,
          4307.5400390625,
          4357.0400390625,
          4300.4599609375,
          4345.72021484375,
          4363.5498046875,
          4399.759765625,
          4391.33984375,
          4361.18994140625,
          4350.64990234375,
          4363.7998046875,
          4438.259765625,
          4471.3701171875,
          4486.4599609375,
          4519.6298828125,
          4536.18994140625,
          4549.77978515625,
          4544.89990234375,
          4566.47998046875,
          4574.7900390625,
          4551.68017578125,
          4596.419921875,
          4605.3798828125,
          4613.669921875,
          4630.64990234375,
          4660.56982421875,
          4680.06005859375,
          4697.52978515625,
          4701.7001953125,
          4685.25,
          4646.7099609375,
          4649.27001953125,
          4682.85009765625,
          4682.7998046875,
          4700.89990234375,
          4688.669921875,
          4704.5400390625,
          4697.9599609375,
          4682.93994140625,
          4690.7001953125,
          4701.4599609375,
          4594.6201171875,
          4655.27001953125,
          4567,
          4513.0400390625,
          4577.10009765625,
          4538.43017578125,
          4591.669921875,
          4686.75,
          4701.2099609375,
          4667.4501953125,
          4712.02001953125,
          4668.97021484375,
          4634.08984375,
          4709.85009765625,
          4668.669921875,
          4620.64013671875,
          4568.02001953125,
          4649.22998046875,
          4696.56005859375,
          4725.7900390625,
          4791.18994140625,
          4786.35009765625,
          4793.06005859375,
          4778.72998046875,
          4766.18017578125,
          4796.56005859375,
          4793.5400390625,
          4700.580078125,
          4696.0498046875,
          4677.02978515625,
          4670.2900390625,
          4713.06982421875,
          4726.35009765625,
          4659.02978515625,
          4662.85009765625,
          4577.10986328125,
          4532.759765625,
          4482.72998046875,
          4397.93994140625,
          4410.1298828125,
          4356.4501953125,
          4349.93017578125,
          4326.509765625,
          4431.85009765625,
          4515.5498046875,
          4546.5400390625,
          4589.3798828125,
          4477.43994140625,
          4500.52978515625,
          4483.8701171875,
          4521.5400390625,
          4587.18017578125,
          4504.080078125,
          4418.64013671875,
          4401.669921875,
          4471.06982421875,
          4475.009765625,
          4380.259765625,
          4348.8701171875,
          4304.759765625,
          4225.5,
          4288.7001953125,
          4384.64990234375,
          4373.93994140625,
          4306.259765625,
          4386.5400390625,
          4363.490234375,
          4328.8701171875,
          4201.08984375,
          4170.7001953125,
          4277.8798828125,
          4259.52001953125,
          4204.31005859375,
          4173.10986328125,
          4262.4501953125,
          4357.85986328125,
          4411.669921875,
          4463.1201171875,
          4461.18017578125,
          4511.60986328125,
          4456.240234375,
          4520.16015625,
          4543.06005859375,
          4575.52001953125,
          4631.60009765625,
          4602.4501953125,
          4530.41015625,
          4545.85986328125,
          4582.64013671875,
          4525.1201171875,
          4481.14990234375,
          4500.2099609375,
          4488.27978515625,
          4412.52978515625,
          4397.4501953125,
          4446.58984375,
          4392.58984375,
          4391.68994140625,
          4462.2099609375,
          4459.4501953125,
          4393.66015625,
          4271.77978515625,
          4296.1201171875,
          4175.2001953125,
          4183.9599609375,
          4287.5,
          4131.93017578125,
          4155.3798828125,
          4175.47998046875,
          4300.169921875,
          4146.8701171875,
          4123.33984375,
          3991.239990234375,
          4001.050048828125,
          3935.179931640625,
          3930.080078125,
          4023.889892578125,
          4008.010009765625,
          4088.85009765625,
          3923.679931640625,
          3900.7900390625,
          3901.360107421875,
          3973.75,
          3941.47998046875,
          3978.72998046875,
          4057.840087890625,
          4158.240234375,
          4132.14990234375,
          4101.22998046875,
          4176.81982421875,
          4108.5400390625,
          4121.43017578125,
          4160.68017578125,
          4115.77001953125,
          4017.820068359375,
          3900.860107421875,
          3749.6298828125,
          3735.47998046875,
          3789.989990234375,
          3666.77001953125,
          3674.840087890625,
          3764.7900390625,
          3759.889892578125,
          3795.72998046875,
          3911.739990234375,
          3900.110107421875,
          3821.550048828125,
          3818.830078125,
          3785.3798828125,
          3825.330078125,
          3831.389892578125,
          3845.080078125,
          3902.6201171875,
          3899.3798828125,
          3854.429931640625,
          3818.800048828125,
          3801.780029296875,
          3790.3798828125,
          3863.159912109375,
          3830.85009765625,
          3936.68994140625,
          3959.89990234375,
          3998.949951171875,
          3961.6298828125,
          3966.840087890625,
          3921.050048828125,
          4023.610107421875,
          4072.429931640625,
          4130.2900390625,
          4118.6298828125,
          4091.18994140625,
          4155.169921875,
          4151.93994140625,
          4145.18994140625,
          4140.06005859375,
          4122.47021484375,
          4210.240234375,
          4207.27001953125,
          4280.14990234375,
          4297.14013671875,
          4305.2001953125,
          4274.0400390625,
          4283.740234375,
          4228.47998046875,
          4137.990234375,
          4128.72998046875,
          4140.77001953125,
          4199.1201171875,
          4057.659912109375
         ],
         "yaxis": "y"
        }
       ],
       "layout": {
        "legend": {
         "title": {
          "text": "variable"
         },
         "tracegroupgap": 0
        },
        "plot_bgcolor": "black",
        "template": {
         "data": {
          "bar": [
           {
            "error_x": {
             "color": "#f2f5fa"
            },
            "error_y": {
             "color": "#f2f5fa"
            },
            "marker": {
             "line": {
              "color": "rgb(17,17,17)",
              "width": 0.5
             },
             "pattern": {
              "fillmode": "overlay",
              "size": 10,
              "solidity": 0.2
             }
            },
            "type": "bar"
           }
          ],
          "barpolar": [
           {
            "marker": {
             "line": {
              "color": "rgb(17,17,17)",
              "width": 0.5
             },
             "pattern": {
              "fillmode": "overlay",
              "size": 10,
              "solidity": 0.2
             }
            },
            "type": "barpolar"
           }
          ],
          "carpet": [
           {
            "aaxis": {
             "endlinecolor": "#A2B1C6",
             "gridcolor": "#506784",
             "linecolor": "#506784",
             "minorgridcolor": "#506784",
             "startlinecolor": "#A2B1C6"
            },
            "baxis": {
             "endlinecolor": "#A2B1C6",
             "gridcolor": "#506784",
             "linecolor": "#506784",
             "minorgridcolor": "#506784",
             "startlinecolor": "#A2B1C6"
            },
            "type": "carpet"
           }
          ],
          "choropleth": [
           {
            "colorbar": {
             "outlinewidth": 0,
             "ticks": ""
            },
            "type": "choropleth"
           }
          ],
          "contour": [
           {
            "colorbar": {
             "outlinewidth": 0,
             "ticks": ""
            },
            "colorscale": [
             [
              0,
              "#0d0887"
             ],
             [
              0.1111111111111111,
              "#46039f"
             ],
             [
              0.2222222222222222,
              "#7201a8"
             ],
             [
              0.3333333333333333,
              "#9c179e"
             ],
             [
              0.4444444444444444,
              "#bd3786"
             ],
             [
              0.5555555555555556,
              "#d8576b"
             ],
             [
              0.6666666666666666,
              "#ed7953"
             ],
             [
              0.7777777777777778,
              "#fb9f3a"
             ],
             [
              0.8888888888888888,
              "#fdca26"
             ],
             [
              1,
              "#f0f921"
             ]
            ],
            "type": "contour"
           }
          ],
          "contourcarpet": [
           {
            "colorbar": {
             "outlinewidth": 0,
             "ticks": ""
            },
            "type": "contourcarpet"
           }
          ],
          "heatmap": [
           {
            "colorbar": {
             "outlinewidth": 0,
             "ticks": ""
            },
            "colorscale": [
             [
              0,
              "#0d0887"
             ],
             [
              0.1111111111111111,
              "#46039f"
             ],
             [
              0.2222222222222222,
              "#7201a8"
             ],
             [
              0.3333333333333333,
              "#9c179e"
             ],
             [
              0.4444444444444444,
              "#bd3786"
             ],
             [
              0.5555555555555556,
              "#d8576b"
             ],
             [
              0.6666666666666666,
              "#ed7953"
             ],
             [
              0.7777777777777778,
              "#fb9f3a"
             ],
             [
              0.8888888888888888,
              "#fdca26"
             ],
             [
              1,
              "#f0f921"
             ]
            ],
            "type": "heatmap"
           }
          ],
          "heatmapgl": [
           {
            "colorbar": {
             "outlinewidth": 0,
             "ticks": ""
            },
            "colorscale": [
             [
              0,
              "#0d0887"
             ],
             [
              0.1111111111111111,
              "#46039f"
             ],
             [
              0.2222222222222222,
              "#7201a8"
             ],
             [
              0.3333333333333333,
              "#9c179e"
             ],
             [
              0.4444444444444444,
              "#bd3786"
             ],
             [
              0.5555555555555556,
              "#d8576b"
             ],
             [
              0.6666666666666666,
              "#ed7953"
             ],
             [
              0.7777777777777778,
              "#fb9f3a"
             ],
             [
              0.8888888888888888,
              "#fdca26"
             ],
             [
              1,
              "#f0f921"
             ]
            ],
            "type": "heatmapgl"
           }
          ],
          "histogram": [
           {
            "marker": {
             "pattern": {
              "fillmode": "overlay",
              "size": 10,
              "solidity": 0.2
             }
            },
            "type": "histogram"
           }
          ],
          "histogram2d": [
           {
            "colorbar": {
             "outlinewidth": 0,
             "ticks": ""
            },
            "colorscale": [
             [
              0,
              "#0d0887"
             ],
             [
              0.1111111111111111,
              "#46039f"
             ],
             [
              0.2222222222222222,
              "#7201a8"
             ],
             [
              0.3333333333333333,
              "#9c179e"
             ],
             [
              0.4444444444444444,
              "#bd3786"
             ],
             [
              0.5555555555555556,
              "#d8576b"
             ],
             [
              0.6666666666666666,
              "#ed7953"
             ],
             [
              0.7777777777777778,
              "#fb9f3a"
             ],
             [
              0.8888888888888888,
              "#fdca26"
             ],
             [
              1,
              "#f0f921"
             ]
            ],
            "type": "histogram2d"
           }
          ],
          "histogram2dcontour": [
           {
            "colorbar": {
             "outlinewidth": 0,
             "ticks": ""
            },
            "colorscale": [
             [
              0,
              "#0d0887"
             ],
             [
              0.1111111111111111,
              "#46039f"
             ],
             [
              0.2222222222222222,
              "#7201a8"
             ],
             [
              0.3333333333333333,
              "#9c179e"
             ],
             [
              0.4444444444444444,
              "#bd3786"
             ],
             [
              0.5555555555555556,
              "#d8576b"
             ],
             [
              0.6666666666666666,
              "#ed7953"
             ],
             [
              0.7777777777777778,
              "#fb9f3a"
             ],
             [
              0.8888888888888888,
              "#fdca26"
             ],
             [
              1,
              "#f0f921"
             ]
            ],
            "type": "histogram2dcontour"
           }
          ],
          "mesh3d": [
           {
            "colorbar": {
             "outlinewidth": 0,
             "ticks": ""
            },
            "type": "mesh3d"
           }
          ],
          "parcoords": [
           {
            "line": {
             "colorbar": {
              "outlinewidth": 0,
              "ticks": ""
             }
            },
            "type": "parcoords"
           }
          ],
          "pie": [
           {
            "automargin": true,
            "type": "pie"
           }
          ],
          "scatter": [
           {
            "marker": {
             "line": {
              "color": "#283442"
             }
            },
            "type": "scatter"
           }
          ],
          "scatter3d": [
           {
            "line": {
             "colorbar": {
              "outlinewidth": 0,
              "ticks": ""
             }
            },
            "marker": {
             "colorbar": {
              "outlinewidth": 0,
              "ticks": ""
             }
            },
            "type": "scatter3d"
           }
          ],
          "scattercarpet": [
           {
            "marker": {
             "colorbar": {
              "outlinewidth": 0,
              "ticks": ""
             }
            },
            "type": "scattercarpet"
           }
          ],
          "scattergeo": [
           {
            "marker": {
             "colorbar": {
              "outlinewidth": 0,
              "ticks": ""
             }
            },
            "type": "scattergeo"
           }
          ],
          "scattergl": [
           {
            "marker": {
             "line": {
              "color": "#283442"
             }
            },
            "type": "scattergl"
           }
          ],
          "scattermapbox": [
           {
            "marker": {
             "colorbar": {
              "outlinewidth": 0,
              "ticks": ""
             }
            },
            "type": "scattermapbox"
           }
          ],
          "scatterpolar": [
           {
            "marker": {
             "colorbar": {
              "outlinewidth": 0,
              "ticks": ""
             }
            },
            "type": "scatterpolar"
           }
          ],
          "scatterpolargl": [
           {
            "marker": {
             "colorbar": {
              "outlinewidth": 0,
              "ticks": ""
             }
            },
            "type": "scatterpolargl"
           }
          ],
          "scatterternary": [
           {
            "marker": {
             "colorbar": {
              "outlinewidth": 0,
              "ticks": ""
             }
            },
            "type": "scatterternary"
           }
          ],
          "surface": [
           {
            "colorbar": {
             "outlinewidth": 0,
             "ticks": ""
            },
            "colorscale": [
             [
              0,
              "#0d0887"
             ],
             [
              0.1111111111111111,
              "#46039f"
             ],
             [
              0.2222222222222222,
              "#7201a8"
             ],
             [
              0.3333333333333333,
              "#9c179e"
             ],
             [
              0.4444444444444444,
              "#bd3786"
             ],
             [
              0.5555555555555556,
              "#d8576b"
             ],
             [
              0.6666666666666666,
              "#ed7953"
             ],
             [
              0.7777777777777778,
              "#fb9f3a"
             ],
             [
              0.8888888888888888,
              "#fdca26"
             ],
             [
              1,
              "#f0f921"
             ]
            ],
            "type": "surface"
           }
          ],
          "table": [
           {
            "cells": {
             "fill": {
              "color": "#506784"
             },
             "line": {
              "color": "rgb(17,17,17)"
             }
            },
            "header": {
             "fill": {
              "color": "#2a3f5f"
             },
             "line": {
              "color": "rgb(17,17,17)"
             }
            },
            "type": "table"
           }
          ]
         },
         "layout": {
          "annotationdefaults": {
           "arrowcolor": "#f2f5fa",
           "arrowhead": 0,
           "arrowwidth": 1
          },
          "autotypenumbers": "strict",
          "coloraxis": {
           "colorbar": {
            "outlinewidth": 0,
            "ticks": ""
           }
          },
          "colorscale": {
           "diverging": [
            [
             0,
             "#8e0152"
            ],
            [
             0.1,
             "#c51b7d"
            ],
            [
             0.2,
             "#de77ae"
            ],
            [
             0.3,
             "#f1b6da"
            ],
            [
             0.4,
             "#fde0ef"
            ],
            [
             0.5,
             "#f7f7f7"
            ],
            [
             0.6,
             "#e6f5d0"
            ],
            [
             0.7,
             "#b8e186"
            ],
            [
             0.8,
             "#7fbc41"
            ],
            [
             0.9,
             "#4d9221"
            ],
            [
             1,
             "#276419"
            ]
           ],
           "sequential": [
            [
             0,
             "#0d0887"
            ],
            [
             0.1111111111111111,
             "#46039f"
            ],
            [
             0.2222222222222222,
             "#7201a8"
            ],
            [
             0.3333333333333333,
             "#9c179e"
            ],
            [
             0.4444444444444444,
             "#bd3786"
            ],
            [
             0.5555555555555556,
             "#d8576b"
            ],
            [
             0.6666666666666666,
             "#ed7953"
            ],
            [
             0.7777777777777778,
             "#fb9f3a"
            ],
            [
             0.8888888888888888,
             "#fdca26"
            ],
            [
             1,
             "#f0f921"
            ]
           ],
           "sequentialminus": [
            [
             0,
             "#0d0887"
            ],
            [
             0.1111111111111111,
             "#46039f"
            ],
            [
             0.2222222222222222,
             "#7201a8"
            ],
            [
             0.3333333333333333,
             "#9c179e"
            ],
            [
             0.4444444444444444,
             "#bd3786"
            ],
            [
             0.5555555555555556,
             "#d8576b"
            ],
            [
             0.6666666666666666,
             "#ed7953"
            ],
            [
             0.7777777777777778,
             "#fb9f3a"
            ],
            [
             0.8888888888888888,
             "#fdca26"
            ],
            [
             1,
             "#f0f921"
            ]
           ]
          },
          "colorway": [
           "#636efa",
           "#EF553B",
           "#00cc96",
           "#ab63fa",
           "#FFA15A",
           "#19d3f3",
           "#FF6692",
           "#B6E880",
           "#FF97FF",
           "#FECB52"
          ],
          "font": {
           "color": "#f2f5fa"
          },
          "geo": {
           "bgcolor": "rgb(17,17,17)",
           "lakecolor": "rgb(17,17,17)",
           "landcolor": "rgb(17,17,17)",
           "showlakes": true,
           "showland": true,
           "subunitcolor": "#506784"
          },
          "hoverlabel": {
           "align": "left"
          },
          "hovermode": "closest",
          "mapbox": {
           "style": "dark"
          },
          "paper_bgcolor": "rgb(17,17,17)",
          "plot_bgcolor": "rgb(17,17,17)",
          "polar": {
           "angularaxis": {
            "gridcolor": "#506784",
            "linecolor": "#506784",
            "ticks": ""
           },
           "bgcolor": "rgb(17,17,17)",
           "radialaxis": {
            "gridcolor": "#506784",
            "linecolor": "#506784",
            "ticks": ""
           }
          },
          "scene": {
           "xaxis": {
            "backgroundcolor": "rgb(17,17,17)",
            "gridcolor": "#506784",
            "gridwidth": 2,
            "linecolor": "#506784",
            "showbackground": true,
            "ticks": "",
            "zerolinecolor": "#C8D4E3"
           },
           "yaxis": {
            "backgroundcolor": "rgb(17,17,17)",
            "gridcolor": "#506784",
            "gridwidth": 2,
            "linecolor": "#506784",
            "showbackground": true,
            "ticks": "",
            "zerolinecolor": "#C8D4E3"
           },
           "zaxis": {
            "backgroundcolor": "rgb(17,17,17)",
            "gridcolor": "#506784",
            "gridwidth": 2,
            "linecolor": "#506784",
            "showbackground": true,
            "ticks": "",
            "zerolinecolor": "#C8D4E3"
           }
          },
          "shapedefaults": {
           "line": {
            "color": "#f2f5fa"
           }
          },
          "sliderdefaults": {
           "bgcolor": "#C8D4E3",
           "bordercolor": "rgb(17,17,17)",
           "borderwidth": 1,
           "tickwidth": 0
          },
          "ternary": {
           "aaxis": {
            "gridcolor": "#506784",
            "linecolor": "#506784",
            "ticks": ""
           },
           "baxis": {
            "gridcolor": "#506784",
            "linecolor": "#506784",
            "ticks": ""
           },
           "bgcolor": "rgb(17,17,17)",
           "caxis": {
            "gridcolor": "#506784",
            "linecolor": "#506784",
            "ticks": ""
           }
          },
          "title": {
           "x": 0.05
          },
          "updatemenudefaults": {
           "bgcolor": "#506784",
           "borderwidth": 0
          },
          "xaxis": {
           "automargin": true,
           "gridcolor": "#283442",
           "linecolor": "#506784",
           "ticks": "",
           "title": {
            "standoff": 15
           },
           "zerolinecolor": "#283442",
           "zerolinewidth": 2
          },
          "yaxis": {
           "automargin": true,
           "gridcolor": "#283442",
           "linecolor": "#506784",
           "ticks": "",
           "title": {
            "standoff": 15
           },
           "zerolinecolor": "#283442",
           "zerolinewidth": 2
          }
         }
        },
        "title": {
         "font": {
          "size": 24
         },
         "text": "S&P 500"
        },
        "xaxis": {
         "anchor": "y",
         "domain": [
          0,
          1
         ],
         "gridcolor": "red",
         "gridwidth": 1,
         "showgrid": true,
         "title": {
          "text": "date"
         }
        },
        "yaxis": {
         "anchor": "x",
         "domain": [
          0,
          1
         ],
         "gridcolor": "red",
         "gridwidth": 1,
         "range": [
          0,
          8000
         ],
         "showgrid": true,
         "title": {
          "text": "value"
         }
        }
       }
      },
      "text/html": [
       "<div>                            <div id=\"3416daf2-5288-4749-b7b7-1e1ce5a77e30\" class=\"plotly-graph-div\" style=\"height:525px; width:100%;\"></div>            <script type=\"text/javascript\">                require([\"plotly\"], function(Plotly) {                    window.PLOTLYENV=window.PLOTLYENV || {};                                    if (document.getElementById(\"3416daf2-5288-4749-b7b7-1e1ce5a77e30\")) {                    Plotly.newPlot(                        \"3416daf2-5288-4749-b7b7-1e1ce5a77e30\",                        [{\"fillpattern\":{\"shape\":\"\"},\"hovertemplate\":\"variable=s&p500\\u003cbr\\u003edate=%{x}\\u003cbr\\u003evalue=%{y}\\u003cextra\\u003e\\u003c\\u002fextra\\u003e\",\"legendgroup\":\"s&p500\",\"line\":{\"color\":\"cyan\",\"width\":2},\"marker\":{\"symbol\":\"circle\"},\"mode\":\"lines\",\"name\":\"s&p500\",\"orientation\":\"v\",\"showlegend\":true,\"stackgroup\":\"1\",\"x\":[\"2020-02-18T00:00:00\",\"2020-02-19T00:00:00\",\"2020-02-20T00:00:00\",\"2020-02-21T00:00:00\",\"2020-02-24T00:00:00\",\"2020-02-25T00:00:00\",\"2020-02-26T00:00:00\",\"2020-02-27T00:00:00\",\"2020-02-28T00:00:00\",\"2020-03-02T00:00:00\",\"2020-03-03T00:00:00\",\"2020-03-04T00:00:00\",\"2020-03-05T00:00:00\",\"2020-03-06T00:00:00\",\"2020-03-09T00:00:00\",\"2020-03-10T00:00:00\",\"2020-03-11T00:00:00\",\"2020-03-12T00:00:00\",\"2020-03-13T00:00:00\",\"2020-03-16T00:00:00\",\"2020-03-17T00:00:00\",\"2020-03-18T00:00:00\",\"2020-03-19T00:00:00\",\"2020-03-20T00:00:00\",\"2020-03-23T00:00:00\",\"2020-03-24T00:00:00\",\"2020-03-25T00:00:00\",\"2020-03-26T00:00:00\",\"2020-03-27T00:00:00\",\"2020-03-30T00:00:00\",\"2020-03-31T00:00:00\",\"2020-04-01T00:00:00\",\"2020-04-02T00:00:00\",\"2020-04-03T00:00:00\",\"2020-04-06T00:00:00\",\"2020-04-07T00:00:00\",\"2020-04-08T00:00:00\",\"2020-04-09T00:00:00\",\"2020-04-13T00:00:00\",\"2020-04-14T00:00:00\",\"2020-04-15T00:00:00\",\"2020-04-16T00:00:00\",\"2020-04-17T00:00:00\",\"2020-04-20T00:00:00\",\"2020-04-21T00:00:00\",\"2020-04-22T00:00:00\",\"2020-04-23T00:00:00\",\"2020-04-24T00:00:00\",\"2020-04-27T00:00:00\",\"2020-04-28T00:00:00\",\"2020-04-29T00:00:00\",\"2020-04-30T00:00:00\",\"2020-05-01T00:00:00\",\"2020-05-04T00:00:00\",\"2020-05-05T00:00:00\",\"2020-05-06T00:00:00\",\"2020-05-07T00:00:00\",\"2020-05-08T00:00:00\",\"2020-05-11T00:00:00\",\"2020-05-12T00:00:00\",\"2020-05-13T00:00:00\",\"2020-05-14T00:00:00\",\"2020-05-15T00:00:00\",\"2020-05-18T00:00:00\",\"2020-05-19T00:00:00\",\"2020-05-20T00:00:00\",\"2020-05-21T00:00:00\",\"2020-05-22T00:00:00\",\"2020-05-26T00:00:00\",\"2020-05-27T00:00:00\",\"2020-05-28T00:00:00\",\"2020-05-29T00:00:00\",\"2020-06-01T00:00:00\",\"2020-06-02T00:00:00\",\"2020-06-03T00:00:00\",\"2020-06-04T00:00:00\",\"2020-06-05T00:00:00\",\"2020-06-08T00:00:00\",\"2020-06-09T00:00:00\",\"2020-06-10T00:00:00\",\"2020-06-11T00:00:00\",\"2020-06-12T00:00:00\",\"2020-06-15T00:00:00\",\"2020-06-16T00:00:00\",\"2020-06-17T00:00:00\",\"2020-06-18T00:00:00\",\"2020-06-19T00:00:00\",\"2020-06-22T00:00:00\",\"2020-06-23T00:00:00\",\"2020-06-24T00:00:00\",\"2020-06-25T00:00:00\",\"2020-06-26T00:00:00\",\"2020-06-29T00:00:00\",\"2020-06-30T00:00:00\",\"2020-07-01T00:00:00\",\"2020-07-02T00:00:00\",\"2020-07-06T00:00:00\",\"2020-07-07T00:00:00\",\"2020-07-08T00:00:00\",\"2020-07-09T00:00:00\",\"2020-07-10T00:00:00\",\"2020-07-13T00:00:00\",\"2020-07-14T00:00:00\",\"2020-07-15T00:00:00\",\"2020-07-16T00:00:00\",\"2020-07-17T00:00:00\",\"2020-07-20T00:00:00\",\"2020-07-21T00:00:00\",\"2020-07-22T00:00:00\",\"2020-07-23T00:00:00\",\"2020-07-24T00:00:00\",\"2020-07-27T00:00:00\",\"2020-07-28T00:00:00\",\"2020-07-29T00:00:00\",\"2020-07-30T00:00:00\",\"2020-07-31T00:00:00\",\"2020-08-03T00:00:00\",\"2020-08-04T00:00:00\",\"2020-08-05T00:00:00\",\"2020-08-06T00:00:00\",\"2020-08-07T00:00:00\",\"2020-08-10T00:00:00\",\"2020-08-11T00:00:00\",\"2020-08-12T00:00:00\",\"2020-08-13T00:00:00\",\"2020-08-14T00:00:00\",\"2020-08-17T00:00:00\",\"2020-08-18T00:00:00\",\"2020-08-19T00:00:00\",\"2020-08-20T00:00:00\",\"2020-08-21T00:00:00\",\"2020-08-24T00:00:00\",\"2020-08-25T00:00:00\",\"2020-08-26T00:00:00\",\"2020-08-27T00:00:00\",\"2020-08-28T00:00:00\",\"2020-08-31T00:00:00\",\"2020-09-01T00:00:00\",\"2020-09-02T00:00:00\",\"2020-09-03T00:00:00\",\"2020-09-04T00:00:00\",\"2020-09-08T00:00:00\",\"2020-09-09T00:00:00\",\"2020-09-10T00:00:00\",\"2020-09-11T00:00:00\",\"2020-09-14T00:00:00\",\"2020-09-15T00:00:00\",\"2020-09-16T00:00:00\",\"2020-09-17T00:00:00\",\"2020-09-18T00:00:00\",\"2020-09-21T00:00:00\",\"2020-09-22T00:00:00\",\"2020-09-23T00:00:00\",\"2020-09-24T00:00:00\",\"2020-09-25T00:00:00\",\"2020-09-28T00:00:00\",\"2020-09-29T00:00:00\",\"2020-09-30T00:00:00\",\"2020-10-01T00:00:00\",\"2020-10-02T00:00:00\",\"2020-10-05T00:00:00\",\"2020-10-06T00:00:00\",\"2020-10-07T00:00:00\",\"2020-10-08T00:00:00\",\"2020-10-09T00:00:00\",\"2020-10-12T00:00:00\",\"2020-10-13T00:00:00\",\"2020-10-14T00:00:00\",\"2020-10-15T00:00:00\",\"2020-10-16T00:00:00\",\"2020-10-19T00:00:00\",\"2020-10-20T00:00:00\",\"2020-10-21T00:00:00\",\"2020-10-22T00:00:00\",\"2020-10-23T00:00:00\",\"2020-10-26T00:00:00\",\"2020-10-27T00:00:00\",\"2020-10-28T00:00:00\",\"2020-10-29T00:00:00\",\"2020-10-30T00:00:00\",\"2020-11-02T00:00:00\",\"2020-11-03T00:00:00\",\"2020-11-04T00:00:00\",\"2020-11-05T00:00:00\",\"2020-11-06T00:00:00\",\"2020-11-09T00:00:00\",\"2020-11-10T00:00:00\",\"2020-11-11T00:00:00\",\"2020-11-12T00:00:00\",\"2020-11-13T00:00:00\",\"2020-11-16T00:00:00\",\"2020-11-17T00:00:00\",\"2020-11-18T00:00:00\",\"2020-11-19T00:00:00\",\"2020-11-20T00:00:00\",\"2020-11-23T00:00:00\",\"2020-11-24T00:00:00\",\"2020-11-25T00:00:00\",\"2020-11-27T00:00:00\",\"2020-11-30T00:00:00\",\"2020-12-01T00:00:00\",\"2020-12-02T00:00:00\",\"2020-12-03T00:00:00\",\"2020-12-04T00:00:00\",\"2020-12-07T00:00:00\",\"2020-12-08T00:00:00\",\"2020-12-09T00:00:00\",\"2020-12-10T00:00:00\",\"2020-12-11T00:00:00\",\"2020-12-14T00:00:00\",\"2020-12-15T00:00:00\",\"2020-12-16T00:00:00\",\"2020-12-17T00:00:00\",\"2020-12-18T00:00:00\",\"2020-12-21T00:00:00\",\"2020-12-22T00:00:00\",\"2020-12-23T00:00:00\",\"2020-12-24T00:00:00\",\"2020-12-28T00:00:00\",\"2020-12-29T00:00:00\",\"2020-12-30T00:00:00\",\"2020-12-31T00:00:00\",\"2021-01-04T00:00:00\",\"2021-01-05T00:00:00\",\"2021-01-06T00:00:00\",\"2021-01-07T00:00:00\",\"2021-01-08T00:00:00\",\"2021-01-11T00:00:00\",\"2021-01-12T00:00:00\",\"2021-01-13T00:00:00\",\"2021-01-14T00:00:00\",\"2021-01-15T00:00:00\",\"2021-01-19T00:00:00\",\"2021-01-20T00:00:00\",\"2021-01-21T00:00:00\",\"2021-01-22T00:00:00\",\"2021-01-25T00:00:00\",\"2021-01-26T00:00:00\",\"2021-01-27T00:00:00\",\"2021-01-28T00:00:00\",\"2021-01-29T00:00:00\",\"2021-02-01T00:00:00\",\"2021-02-02T00:00:00\",\"2021-02-03T00:00:00\",\"2021-02-04T00:00:00\",\"2021-02-05T00:00:00\",\"2021-02-08T00:00:00\",\"2021-02-09T00:00:00\",\"2021-02-10T00:00:00\",\"2021-02-11T00:00:00\",\"2021-02-12T00:00:00\",\"2021-02-16T00:00:00\",\"2021-02-17T00:00:00\",\"2021-02-18T00:00:00\",\"2021-02-19T00:00:00\",\"2021-02-22T00:00:00\",\"2021-02-23T00:00:00\",\"2021-02-24T00:00:00\",\"2021-02-25T00:00:00\",\"2021-02-26T00:00:00\",\"2021-03-01T00:00:00\",\"2021-03-02T00:00:00\",\"2021-03-03T00:00:00\",\"2021-03-04T00:00:00\",\"2021-03-05T00:00:00\",\"2021-03-08T00:00:00\",\"2021-03-09T00:00:00\",\"2021-03-10T00:00:00\",\"2021-03-11T00:00:00\",\"2021-03-12T00:00:00\",\"2021-03-15T00:00:00\",\"2021-03-16T00:00:00\",\"2021-03-17T00:00:00\",\"2021-03-18T00:00:00\",\"2021-03-19T00:00:00\",\"2021-03-22T00:00:00\",\"2021-03-23T00:00:00\",\"2021-03-24T00:00:00\",\"2021-03-25T00:00:00\",\"2021-03-26T00:00:00\",\"2021-03-29T00:00:00\",\"2021-03-30T00:00:00\",\"2021-03-31T00:00:00\",\"2021-04-01T00:00:00\",\"2021-04-05T00:00:00\",\"2021-04-06T00:00:00\",\"2021-04-07T00:00:00\",\"2021-04-08T00:00:00\",\"2021-04-09T00:00:00\",\"2021-04-12T00:00:00\",\"2021-04-13T00:00:00\",\"2021-04-14T00:00:00\",\"2021-04-15T00:00:00\",\"2021-04-16T00:00:00\",\"2021-04-19T00:00:00\",\"2021-04-20T00:00:00\",\"2021-04-21T00:00:00\",\"2021-04-22T00:00:00\",\"2021-04-23T00:00:00\",\"2021-04-26T00:00:00\",\"2021-04-27T00:00:00\",\"2021-04-28T00:00:00\",\"2021-04-29T00:00:00\",\"2021-04-30T00:00:00\",\"2021-05-03T00:00:00\",\"2021-05-04T00:00:00\",\"2021-05-05T00:00:00\",\"2021-05-06T00:00:00\",\"2021-05-07T00:00:00\",\"2021-05-10T00:00:00\",\"2021-05-11T00:00:00\",\"2021-05-12T00:00:00\",\"2021-05-13T00:00:00\",\"2021-05-14T00:00:00\",\"2021-05-17T00:00:00\",\"2021-05-18T00:00:00\",\"2021-05-19T00:00:00\",\"2021-05-20T00:00:00\",\"2021-05-21T00:00:00\",\"2021-05-24T00:00:00\",\"2021-05-25T00:00:00\",\"2021-05-26T00:00:00\",\"2021-05-27T00:00:00\",\"2021-05-28T00:00:00\",\"2021-06-01T00:00:00\",\"2021-06-02T00:00:00\",\"2021-06-03T00:00:00\",\"2021-06-04T00:00:00\",\"2021-06-07T00:00:00\",\"2021-06-08T00:00:00\",\"2021-06-09T00:00:00\",\"2021-06-10T00:00:00\",\"2021-06-11T00:00:00\",\"2021-06-14T00:00:00\",\"2021-06-15T00:00:00\",\"2021-06-16T00:00:00\",\"2021-06-17T00:00:00\",\"2021-06-18T00:00:00\",\"2021-06-21T00:00:00\",\"2021-06-22T00:00:00\",\"2021-06-23T00:00:00\",\"2021-06-24T00:00:00\",\"2021-06-25T00:00:00\",\"2021-06-28T00:00:00\",\"2021-06-29T00:00:00\",\"2021-06-30T00:00:00\",\"2021-07-01T00:00:00\",\"2021-07-02T00:00:00\",\"2021-07-06T00:00:00\",\"2021-07-07T00:00:00\",\"2021-07-08T00:00:00\",\"2021-07-09T00:00:00\",\"2021-07-12T00:00:00\",\"2021-07-13T00:00:00\",\"2021-07-14T00:00:00\",\"2021-07-15T00:00:00\",\"2021-07-16T00:00:00\",\"2021-07-19T00:00:00\",\"2021-07-20T00:00:00\",\"2021-07-21T00:00:00\",\"2021-07-22T00:00:00\",\"2021-07-23T00:00:00\",\"2021-07-26T00:00:00\",\"2021-07-27T00:00:00\",\"2021-07-28T00:00:00\",\"2021-07-29T00:00:00\",\"2021-07-30T00:00:00\",\"2021-08-02T00:00:00\",\"2021-08-03T00:00:00\",\"2021-08-04T00:00:00\",\"2021-08-05T00:00:00\",\"2021-08-06T00:00:00\",\"2021-08-09T00:00:00\",\"2021-08-10T00:00:00\",\"2021-08-11T00:00:00\",\"2021-08-12T00:00:00\",\"2021-08-13T00:00:00\",\"2021-08-16T00:00:00\",\"2021-08-17T00:00:00\",\"2021-08-18T00:00:00\",\"2021-08-19T00:00:00\",\"2021-08-20T00:00:00\",\"2021-08-23T00:00:00\",\"2021-08-24T00:00:00\",\"2021-08-25T00:00:00\",\"2021-08-26T00:00:00\",\"2021-08-27T00:00:00\",\"2021-08-30T00:00:00\",\"2021-08-31T00:00:00\",\"2021-09-01T00:00:00\",\"2021-09-02T00:00:00\",\"2021-09-03T00:00:00\",\"2021-09-07T00:00:00\",\"2021-09-08T00:00:00\",\"2021-09-09T00:00:00\",\"2021-09-10T00:00:00\",\"2021-09-13T00:00:00\",\"2021-09-14T00:00:00\",\"2021-09-15T00:00:00\",\"2021-09-16T00:00:00\",\"2021-09-17T00:00:00\",\"2021-09-20T00:00:00\",\"2021-09-21T00:00:00\",\"2021-09-22T00:00:00\",\"2021-09-23T00:00:00\",\"2021-09-24T00:00:00\",\"2021-09-27T00:00:00\",\"2021-09-28T00:00:00\",\"2021-09-29T00:00:00\",\"2021-09-30T00:00:00\",\"2021-10-01T00:00:00\",\"2021-10-04T00:00:00\",\"2021-10-05T00:00:00\",\"2021-10-06T00:00:00\",\"2021-10-07T00:00:00\",\"2021-10-08T00:00:00\",\"2021-10-11T00:00:00\",\"2021-10-12T00:00:00\",\"2021-10-13T00:00:00\",\"2021-10-14T00:00:00\",\"2021-10-15T00:00:00\",\"2021-10-18T00:00:00\",\"2021-10-19T00:00:00\",\"2021-10-20T00:00:00\",\"2021-10-21T00:00:00\",\"2021-10-22T00:00:00\",\"2021-10-25T00:00:00\",\"2021-10-26T00:00:00\",\"2021-10-27T00:00:00\",\"2021-10-28T00:00:00\",\"2021-10-29T00:00:00\",\"2021-11-01T00:00:00\",\"2021-11-02T00:00:00\",\"2021-11-03T00:00:00\",\"2021-11-04T00:00:00\",\"2021-11-05T00:00:00\",\"2021-11-08T00:00:00\",\"2021-11-09T00:00:00\",\"2021-11-10T00:00:00\",\"2021-11-11T00:00:00\",\"2021-11-12T00:00:00\",\"2021-11-15T00:00:00\",\"2021-11-16T00:00:00\",\"2021-11-17T00:00:00\",\"2021-11-18T00:00:00\",\"2021-11-19T00:00:00\",\"2021-11-22T00:00:00\",\"2021-11-23T00:00:00\",\"2021-11-24T00:00:00\",\"2021-11-26T00:00:00\",\"2021-11-29T00:00:00\",\"2021-11-30T00:00:00\",\"2021-12-01T00:00:00\",\"2021-12-02T00:00:00\",\"2021-12-03T00:00:00\",\"2021-12-06T00:00:00\",\"2021-12-07T00:00:00\",\"2021-12-08T00:00:00\",\"2021-12-09T00:00:00\",\"2021-12-10T00:00:00\",\"2021-12-13T00:00:00\",\"2021-12-14T00:00:00\",\"2021-12-15T00:00:00\",\"2021-12-16T00:00:00\",\"2021-12-17T00:00:00\",\"2021-12-20T00:00:00\",\"2021-12-21T00:00:00\",\"2021-12-22T00:00:00\",\"2021-12-23T00:00:00\",\"2021-12-27T00:00:00\",\"2021-12-28T00:00:00\",\"2021-12-29T00:00:00\",\"2021-12-30T00:00:00\",\"2021-12-31T00:00:00\",\"2022-01-03T00:00:00\",\"2022-01-04T00:00:00\",\"2022-01-05T00:00:00\",\"2022-01-06T00:00:00\",\"2022-01-07T00:00:00\",\"2022-01-10T00:00:00\",\"2022-01-11T00:00:00\",\"2022-01-12T00:00:00\",\"2022-01-13T00:00:00\",\"2022-01-14T00:00:00\",\"2022-01-18T00:00:00\",\"2022-01-19T00:00:00\",\"2022-01-20T00:00:00\",\"2022-01-21T00:00:00\",\"2022-01-24T00:00:00\",\"2022-01-25T00:00:00\",\"2022-01-26T00:00:00\",\"2022-01-27T00:00:00\",\"2022-01-28T00:00:00\",\"2022-01-31T00:00:00\",\"2022-02-01T00:00:00\",\"2022-02-02T00:00:00\",\"2022-02-03T00:00:00\",\"2022-02-04T00:00:00\",\"2022-02-07T00:00:00\",\"2022-02-08T00:00:00\",\"2022-02-09T00:00:00\",\"2022-02-10T00:00:00\",\"2022-02-11T00:00:00\",\"2022-02-14T00:00:00\",\"2022-02-15T00:00:00\",\"2022-02-16T00:00:00\",\"2022-02-17T00:00:00\",\"2022-02-18T00:00:00\",\"2022-02-22T00:00:00\",\"2022-02-23T00:00:00\",\"2022-02-24T00:00:00\",\"2022-02-25T00:00:00\",\"2022-02-28T00:00:00\",\"2022-03-01T00:00:00\",\"2022-03-02T00:00:00\",\"2022-03-03T00:00:00\",\"2022-03-04T00:00:00\",\"2022-03-07T00:00:00\",\"2022-03-08T00:00:00\",\"2022-03-09T00:00:00\",\"2022-03-10T00:00:00\",\"2022-03-11T00:00:00\",\"2022-03-14T00:00:00\",\"2022-03-15T00:00:00\",\"2022-03-16T00:00:00\",\"2022-03-17T00:00:00\",\"2022-03-18T00:00:00\",\"2022-03-21T00:00:00\",\"2022-03-22T00:00:00\",\"2022-03-23T00:00:00\",\"2022-03-24T00:00:00\",\"2022-03-25T00:00:00\",\"2022-03-28T00:00:00\",\"2022-03-29T00:00:00\",\"2022-03-30T00:00:00\",\"2022-03-31T00:00:00\",\"2022-04-01T00:00:00\",\"2022-04-04T00:00:00\",\"2022-04-05T00:00:00\",\"2022-04-06T00:00:00\",\"2022-04-07T00:00:00\",\"2022-04-08T00:00:00\",\"2022-04-11T00:00:00\",\"2022-04-12T00:00:00\",\"2022-04-13T00:00:00\",\"2022-04-14T00:00:00\",\"2022-04-18T00:00:00\",\"2022-04-19T00:00:00\",\"2022-04-20T00:00:00\",\"2022-04-21T00:00:00\",\"2022-04-22T00:00:00\",\"2022-04-25T00:00:00\",\"2022-04-26T00:00:00\",\"2022-04-27T00:00:00\",\"2022-04-28T00:00:00\",\"2022-04-29T00:00:00\",\"2022-05-02T00:00:00\",\"2022-05-03T00:00:00\",\"2022-05-04T00:00:00\",\"2022-05-05T00:00:00\",\"2022-05-06T00:00:00\",\"2022-05-09T00:00:00\",\"2022-05-10T00:00:00\",\"2022-05-11T00:00:00\",\"2022-05-12T00:00:00\",\"2022-05-13T00:00:00\",\"2022-05-16T00:00:00\",\"2022-05-17T00:00:00\",\"2022-05-18T00:00:00\",\"2022-05-19T00:00:00\",\"2022-05-20T00:00:00\",\"2022-05-23T00:00:00\",\"2022-05-24T00:00:00\",\"2022-05-25T00:00:00\",\"2022-05-26T00:00:00\",\"2022-05-27T00:00:00\",\"2022-05-31T00:00:00\",\"2022-06-01T00:00:00\",\"2022-06-02T00:00:00\",\"2022-06-03T00:00:00\",\"2022-06-06T00:00:00\",\"2022-06-07T00:00:00\",\"2022-06-08T00:00:00\",\"2022-06-09T00:00:00\",\"2022-06-10T00:00:00\",\"2022-06-13T00:00:00\",\"2022-06-14T00:00:00\",\"2022-06-15T00:00:00\",\"2022-06-16T00:00:00\",\"2022-06-17T00:00:00\",\"2022-06-21T00:00:00\",\"2022-06-22T00:00:00\",\"2022-06-23T00:00:00\",\"2022-06-24T00:00:00\",\"2022-06-27T00:00:00\",\"2022-06-28T00:00:00\",\"2022-06-29T00:00:00\",\"2022-06-30T00:00:00\",\"2022-07-01T00:00:00\",\"2022-07-05T00:00:00\",\"2022-07-06T00:00:00\",\"2022-07-07T00:00:00\",\"2022-07-08T00:00:00\",\"2022-07-11T00:00:00\",\"2022-07-12T00:00:00\",\"2022-07-13T00:00:00\",\"2022-07-14T00:00:00\",\"2022-07-15T00:00:00\",\"2022-07-18T00:00:00\",\"2022-07-19T00:00:00\",\"2022-07-20T00:00:00\",\"2022-07-21T00:00:00\",\"2022-07-22T00:00:00\",\"2022-07-25T00:00:00\",\"2022-07-26T00:00:00\",\"2022-07-27T00:00:00\",\"2022-07-28T00:00:00\",\"2022-07-29T00:00:00\",\"2022-08-01T00:00:00\",\"2022-08-02T00:00:00\",\"2022-08-03T00:00:00\",\"2022-08-04T00:00:00\",\"2022-08-05T00:00:00\",\"2022-08-08T00:00:00\",\"2022-08-09T00:00:00\",\"2022-08-10T00:00:00\",\"2022-08-11T00:00:00\",\"2022-08-12T00:00:00\",\"2022-08-15T00:00:00\",\"2022-08-16T00:00:00\",\"2022-08-17T00:00:00\",\"2022-08-18T00:00:00\",\"2022-08-19T00:00:00\",\"2022-08-22T00:00:00\",\"2022-08-23T00:00:00\",\"2022-08-24T00:00:00\",\"2022-08-25T00:00:00\",\"2022-08-26T00:00:00\"],\"xaxis\":\"x\",\"y\":[3370.2900390625,3386.14990234375,3373.22998046875,3337.75,3225.889892578125,3128.2099609375,3116.389892578125,2978.760009765625,2954.219970703125,3090.22998046875,3003.3701171875,3130.1201171875,3023.93994140625,2972.3701171875,2746.56005859375,2882.22998046875,2741.3798828125,2480.639892578125,2711.02001953125,2386.1298828125,2529.18994140625,2398.10009765625,2409.389892578125,2304.919921875,2237.39990234375,2447.330078125,2475.56005859375,2630.070068359375,2541.469970703125,2626.64990234375,2584.590087890625,2470.5,2526.89990234375,2488.64990234375,2663.679931640625,2659.409912109375,2749.97998046875,2789.820068359375,2761.6298828125,2846.06005859375,2783.360107421875,2799.550048828125,2874.56005859375,2823.159912109375,2736.56005859375,2799.31005859375,2797.800048828125,2836.739990234375,2878.47998046875,2863.389892578125,2939.510009765625,2912.429931640625,2830.7099609375,2842.739990234375,2868.43994140625,2848.419921875,2881.18994140625,2929.800048828125,2930.18994140625,2870.1201171875,2820.0,2852.5,2863.699951171875,2953.909912109375,2922.93994140625,2971.610107421875,2948.510009765625,2955.449951171875,2991.77001953125,3036.1298828125,3029.72998046875,3044.31005859375,3055.72998046875,3080.820068359375,3122.8701171875,3112.35009765625,3193.929931640625,3232.389892578125,3207.179931640625,3190.139892578125,3002.10009765625,3041.31005859375,3066.590087890625,3124.739990234375,3113.489990234375,3115.340087890625,3097.739990234375,3117.860107421875,3131.2900390625,3050.330078125,3083.760009765625,3009.050048828125,3053.239990234375,3100.2900390625,3115.860107421875,3130.010009765625,3179.719970703125,3145.320068359375,3169.93994140625,3152.050048828125,3185.0400390625,3155.219970703125,3197.52001953125,3226.56005859375,3215.570068359375,3224.72998046875,3251.840087890625,3257.300048828125,3276.02001953125,3235.659912109375,3215.6298828125,3239.409912109375,3218.43994140625,3258.43994140625,3246.219970703125,3271.1201171875,3294.610107421875,3306.510009765625,3327.77001953125,3349.159912109375,3351.280029296875,3360.469970703125,3333.68994140625,3380.35009765625,3373.429931640625,3372.85009765625,3381.989990234375,3389.780029296875,3374.85009765625,3385.510009765625,3397.159912109375,3431.280029296875,3443.6201171875,3478.72998046875,3484.550048828125,3508.010009765625,3500.31005859375,3526.64990234375,3580.840087890625,3455.06005859375,3426.9599609375,3331.840087890625,3398.9599609375,3339.18994140625,3340.969970703125,3383.5400390625,3401.199951171875,3385.489990234375,3357.010009765625,3319.469970703125,3281.06005859375,3315.570068359375,3236.919921875,3246.590087890625,3298.4599609375,3351.60009765625,3335.469970703125,3363.0,3380.800048828125,3348.419921875,3408.60009765625,3360.969970703125,3419.43994140625,3446.830078125,3477.139892578125,3534.219970703125,3511.929931640625,3488.669921875,3483.340087890625,3483.81005859375,3426.919921875,3443.1201171875,3435.56005859375,3453.489990234375,3465.389892578125,3400.969970703125,3390.679931640625,3271.030029296875,3310.110107421875,3269.9599609375,3310.239990234375,3369.159912109375,3443.43994140625,3510.449951171875,3509.43994140625,3550.5,3545.530029296875,3572.659912109375,3537.010009765625,3585.14990234375,3626.909912109375,3609.530029296875,3567.7900390625,3581.8701171875,3557.5400390625,3577.590087890625,3635.409912109375,3629.64990234375,3638.35009765625,3621.6298828125,3662.449951171875,3669.010009765625,3666.719970703125,3699.1201171875,3691.9599609375,3702.25,3672.820068359375,3668.10009765625,3663.4599609375,3647.489990234375,3694.6201171875,3701.169921875,3722.47998046875,3709.409912109375,3694.919921875,3687.260009765625,3690.010009765625,3703.06005859375,3735.360107421875,3727.0400390625,3732.0400390625,3756.070068359375,3700.64990234375,3726.860107421875,3748.139892578125,3803.7900390625,3824.679931640625,3799.610107421875,3801.18994140625,3809.840087890625,3795.5400390625,3768.25,3798.909912109375,3851.85009765625,3853.070068359375,3841.469970703125,3855.360107421875,3849.6201171875,3750.77001953125,3787.3798828125,3714.239990234375,3773.860107421875,3826.31005859375,3830.169921875,3871.739990234375,3886.830078125,3915.590087890625,3911.22998046875,3909.8798828125,3916.3798828125,3934.830078125,3932.590087890625,3931.330078125,3913.969970703125,3906.7099609375,3876.5,3881.3701171875,3925.429931640625,3829.340087890625,3811.14990234375,3901.820068359375,3870.2900390625,3819.719970703125,3768.469970703125,3841.93994140625,3821.35009765625,3875.43994140625,3898.81005859375,3939.340087890625,3943.340087890625,3968.93994140625,3962.7099609375,3974.1201171875,3915.4599609375,3913.10009765625,3940.590087890625,3910.52001953125,3889.139892578125,3909.52001953125,3974.5400390625,3971.090087890625,3958.550048828125,3972.889892578125,4019.8701171875,4077.909912109375,4073.93994140625,4079.949951171875,4097.169921875,4128.7998046875,4127.990234375,4141.58984375,4124.66015625,4170.419921875,4185.47021484375,4163.259765625,4134.93994140625,4173.419921875,4134.97998046875,4180.169921875,4187.6201171875,4186.72021484375,4183.18017578125,4211.47021484375,4181.169921875,4192.66015625,4164.66015625,4167.58984375,4201.6201171875,4232.60009765625,4188.43017578125,4152.10009765625,4063.0400390625,4112.5,4173.85009765625,4163.2900390625,4127.830078125,4115.68017578125,4159.1201171875,4155.85986328125,4197.0498046875,4188.1298828125,4195.990234375,4200.8798828125,4204.10986328125,4202.0400390625,4208.1201171875,4192.85009765625,4229.89013671875,4226.52001953125,4227.259765625,4219.5498046875,4239.18017578125,4247.43994140625,4255.14990234375,4246.58984375,4223.7001953125,4221.85986328125,4166.4501953125,4224.7900390625,4246.43994140625,4241.83984375,4266.490234375,4280.7001953125,4290.60986328125,4291.7998046875,4297.5,4319.93994140625,4352.33984375,4343.5400390625,4358.1298828125,4320.81982421875,4369.5498046875,4384.6298828125,4369.2099609375,4374.2998046875,4360.02978515625,4327.16015625,4258.490234375,4323.06005859375,4358.68994140625,4367.47998046875,4411.7900390625,4422.2998046875,4401.4599609375,4400.64013671875,4419.14990234375,4395.259765625,4387.16015625,4423.14990234375,4402.66015625,4429.10009765625,4436.52001953125,4432.35009765625,4436.75,4442.41015625,4460.830078125,4468.0,4479.7099609375,4448.080078125,4400.27001953125,4405.7998046875,4441.669921875,4479.52978515625,4486.22998046875,4496.18994140625,4470.0,4509.3701171875,4528.7900390625,4522.68017578125,4524.08984375,4536.9501953125,4535.43017578125,4520.02978515625,4514.06982421875,4493.27978515625,4458.580078125,4468.72998046875,4443.0498046875,4480.7001953125,4473.75,4432.990234375,4357.72998046875,4354.18994140625,4395.64013671875,4448.97998046875,4455.47998046875,4443.10986328125,4352.6298828125,4359.4599609375,4307.5400390625,4357.0400390625,4300.4599609375,4345.72021484375,4363.5498046875,4399.759765625,4391.33984375,4361.18994140625,4350.64990234375,4363.7998046875,4438.259765625,4471.3701171875,4486.4599609375,4519.6298828125,4536.18994140625,4549.77978515625,4544.89990234375,4566.47998046875,4574.7900390625,4551.68017578125,4596.419921875,4605.3798828125,4613.669921875,4630.64990234375,4660.56982421875,4680.06005859375,4697.52978515625,4701.7001953125,4685.25,4646.7099609375,4649.27001953125,4682.85009765625,4682.7998046875,4700.89990234375,4688.669921875,4704.5400390625,4697.9599609375,4682.93994140625,4690.7001953125,4701.4599609375,4594.6201171875,4655.27001953125,4567.0,4513.0400390625,4577.10009765625,4538.43017578125,4591.669921875,4686.75,4701.2099609375,4667.4501953125,4712.02001953125,4668.97021484375,4634.08984375,4709.85009765625,4668.669921875,4620.64013671875,4568.02001953125,4649.22998046875,4696.56005859375,4725.7900390625,4791.18994140625,4786.35009765625,4793.06005859375,4778.72998046875,4766.18017578125,4796.56005859375,4793.5400390625,4700.580078125,4696.0498046875,4677.02978515625,4670.2900390625,4713.06982421875,4726.35009765625,4659.02978515625,4662.85009765625,4577.10986328125,4532.759765625,4482.72998046875,4397.93994140625,4410.1298828125,4356.4501953125,4349.93017578125,4326.509765625,4431.85009765625,4515.5498046875,4546.5400390625,4589.3798828125,4477.43994140625,4500.52978515625,4483.8701171875,4521.5400390625,4587.18017578125,4504.080078125,4418.64013671875,4401.669921875,4471.06982421875,4475.009765625,4380.259765625,4348.8701171875,4304.759765625,4225.5,4288.7001953125,4384.64990234375,4373.93994140625,4306.259765625,4386.5400390625,4363.490234375,4328.8701171875,4201.08984375,4170.7001953125,4277.8798828125,4259.52001953125,4204.31005859375,4173.10986328125,4262.4501953125,4357.85986328125,4411.669921875,4463.1201171875,4461.18017578125,4511.60986328125,4456.240234375,4520.16015625,4543.06005859375,4575.52001953125,4631.60009765625,4602.4501953125,4530.41015625,4545.85986328125,4582.64013671875,4525.1201171875,4481.14990234375,4500.2099609375,4488.27978515625,4412.52978515625,4397.4501953125,4446.58984375,4392.58984375,4391.68994140625,4462.2099609375,4459.4501953125,4393.66015625,4271.77978515625,4296.1201171875,4175.2001953125,4183.9599609375,4287.5,4131.93017578125,4155.3798828125,4175.47998046875,4300.169921875,4146.8701171875,4123.33984375,3991.239990234375,4001.050048828125,3935.179931640625,3930.080078125,4023.889892578125,4008.010009765625,4088.85009765625,3923.679931640625,3900.7900390625,3901.360107421875,3973.75,3941.47998046875,3978.72998046875,4057.840087890625,4158.240234375,4132.14990234375,4101.22998046875,4176.81982421875,4108.5400390625,4121.43017578125,4160.68017578125,4115.77001953125,4017.820068359375,3900.860107421875,3749.6298828125,3735.47998046875,3789.989990234375,3666.77001953125,3674.840087890625,3764.7900390625,3759.889892578125,3795.72998046875,3911.739990234375,3900.110107421875,3821.550048828125,3818.830078125,3785.3798828125,3825.330078125,3831.389892578125,3845.080078125,3902.6201171875,3899.3798828125,3854.429931640625,3818.800048828125,3801.780029296875,3790.3798828125,3863.159912109375,3830.85009765625,3936.68994140625,3959.89990234375,3998.949951171875,3961.6298828125,3966.840087890625,3921.050048828125,4023.610107421875,4072.429931640625,4130.2900390625,4118.6298828125,4091.18994140625,4155.169921875,4151.93994140625,4145.18994140625,4140.06005859375,4122.47021484375,4210.240234375,4207.27001953125,4280.14990234375,4297.14013671875,4305.2001953125,4274.0400390625,4283.740234375,4228.47998046875,4137.990234375,4128.72998046875,4140.77001953125,4199.1201171875,4057.659912109375],\"yaxis\":\"y\",\"type\":\"scatter\"}],                        {\"template\":{\"data\":{\"barpolar\":[{\"marker\":{\"line\":{\"color\":\"rgb(17,17,17)\",\"width\":0.5},\"pattern\":{\"fillmode\":\"overlay\",\"size\":10,\"solidity\":0.2}},\"type\":\"barpolar\"}],\"bar\":[{\"error_x\":{\"color\":\"#f2f5fa\"},\"error_y\":{\"color\":\"#f2f5fa\"},\"marker\":{\"line\":{\"color\":\"rgb(17,17,17)\",\"width\":0.5},\"pattern\":{\"fillmode\":\"overlay\",\"size\":10,\"solidity\":0.2}},\"type\":\"bar\"}],\"carpet\":[{\"aaxis\":{\"endlinecolor\":\"#A2B1C6\",\"gridcolor\":\"#506784\",\"linecolor\":\"#506784\",\"minorgridcolor\":\"#506784\",\"startlinecolor\":\"#A2B1C6\"},\"baxis\":{\"endlinecolor\":\"#A2B1C6\",\"gridcolor\":\"#506784\",\"linecolor\":\"#506784\",\"minorgridcolor\":\"#506784\",\"startlinecolor\":\"#A2B1C6\"},\"type\":\"carpet\"}],\"choropleth\":[{\"colorbar\":{\"outlinewidth\":0,\"ticks\":\"\"},\"type\":\"choropleth\"}],\"contourcarpet\":[{\"colorbar\":{\"outlinewidth\":0,\"ticks\":\"\"},\"type\":\"contourcarpet\"}],\"contour\":[{\"colorbar\":{\"outlinewidth\":0,\"ticks\":\"\"},\"colorscale\":[[0.0,\"#0d0887\"],[0.1111111111111111,\"#46039f\"],[0.2222222222222222,\"#7201a8\"],[0.3333333333333333,\"#9c179e\"],[0.4444444444444444,\"#bd3786\"],[0.5555555555555556,\"#d8576b\"],[0.6666666666666666,\"#ed7953\"],[0.7777777777777778,\"#fb9f3a\"],[0.8888888888888888,\"#fdca26\"],[1.0,\"#f0f921\"]],\"type\":\"contour\"}],\"heatmapgl\":[{\"colorbar\":{\"outlinewidth\":0,\"ticks\":\"\"},\"colorscale\":[[0.0,\"#0d0887\"],[0.1111111111111111,\"#46039f\"],[0.2222222222222222,\"#7201a8\"],[0.3333333333333333,\"#9c179e\"],[0.4444444444444444,\"#bd3786\"],[0.5555555555555556,\"#d8576b\"],[0.6666666666666666,\"#ed7953\"],[0.7777777777777778,\"#fb9f3a\"],[0.8888888888888888,\"#fdca26\"],[1.0,\"#f0f921\"]],\"type\":\"heatmapgl\"}],\"heatmap\":[{\"colorbar\":{\"outlinewidth\":0,\"ticks\":\"\"},\"colorscale\":[[0.0,\"#0d0887\"],[0.1111111111111111,\"#46039f\"],[0.2222222222222222,\"#7201a8\"],[0.3333333333333333,\"#9c179e\"],[0.4444444444444444,\"#bd3786\"],[0.5555555555555556,\"#d8576b\"],[0.6666666666666666,\"#ed7953\"],[0.7777777777777778,\"#fb9f3a\"],[0.8888888888888888,\"#fdca26\"],[1.0,\"#f0f921\"]],\"type\":\"heatmap\"}],\"histogram2dcontour\":[{\"colorbar\":{\"outlinewidth\":0,\"ticks\":\"\"},\"colorscale\":[[0.0,\"#0d0887\"],[0.1111111111111111,\"#46039f\"],[0.2222222222222222,\"#7201a8\"],[0.3333333333333333,\"#9c179e\"],[0.4444444444444444,\"#bd3786\"],[0.5555555555555556,\"#d8576b\"],[0.6666666666666666,\"#ed7953\"],[0.7777777777777778,\"#fb9f3a\"],[0.8888888888888888,\"#fdca26\"],[1.0,\"#f0f921\"]],\"type\":\"histogram2dcontour\"}],\"histogram2d\":[{\"colorbar\":{\"outlinewidth\":0,\"ticks\":\"\"},\"colorscale\":[[0.0,\"#0d0887\"],[0.1111111111111111,\"#46039f\"],[0.2222222222222222,\"#7201a8\"],[0.3333333333333333,\"#9c179e\"],[0.4444444444444444,\"#bd3786\"],[0.5555555555555556,\"#d8576b\"],[0.6666666666666666,\"#ed7953\"],[0.7777777777777778,\"#fb9f3a\"],[0.8888888888888888,\"#fdca26\"],[1.0,\"#f0f921\"]],\"type\":\"histogram2d\"}],\"histogram\":[{\"marker\":{\"pattern\":{\"fillmode\":\"overlay\",\"size\":10,\"solidity\":0.2}},\"type\":\"histogram\"}],\"mesh3d\":[{\"colorbar\":{\"outlinewidth\":0,\"ticks\":\"\"},\"type\":\"mesh3d\"}],\"parcoords\":[{\"line\":{\"colorbar\":{\"outlinewidth\":0,\"ticks\":\"\"}},\"type\":\"parcoords\"}],\"pie\":[{\"automargin\":true,\"type\":\"pie\"}],\"scatter3d\":[{\"line\":{\"colorbar\":{\"outlinewidth\":0,\"ticks\":\"\"}},\"marker\":{\"colorbar\":{\"outlinewidth\":0,\"ticks\":\"\"}},\"type\":\"scatter3d\"}],\"scattercarpet\":[{\"marker\":{\"colorbar\":{\"outlinewidth\":0,\"ticks\":\"\"}},\"type\":\"scattercarpet\"}],\"scattergeo\":[{\"marker\":{\"colorbar\":{\"outlinewidth\":0,\"ticks\":\"\"}},\"type\":\"scattergeo\"}],\"scattergl\":[{\"marker\":{\"line\":{\"color\":\"#283442\"}},\"type\":\"scattergl\"}],\"scattermapbox\":[{\"marker\":{\"colorbar\":{\"outlinewidth\":0,\"ticks\":\"\"}},\"type\":\"scattermapbox\"}],\"scatterpolargl\":[{\"marker\":{\"colorbar\":{\"outlinewidth\":0,\"ticks\":\"\"}},\"type\":\"scatterpolargl\"}],\"scatterpolar\":[{\"marker\":{\"colorbar\":{\"outlinewidth\":0,\"ticks\":\"\"}},\"type\":\"scatterpolar\"}],\"scatter\":[{\"marker\":{\"line\":{\"color\":\"#283442\"}},\"type\":\"scatter\"}],\"scatterternary\":[{\"marker\":{\"colorbar\":{\"outlinewidth\":0,\"ticks\":\"\"}},\"type\":\"scatterternary\"}],\"surface\":[{\"colorbar\":{\"outlinewidth\":0,\"ticks\":\"\"},\"colorscale\":[[0.0,\"#0d0887\"],[0.1111111111111111,\"#46039f\"],[0.2222222222222222,\"#7201a8\"],[0.3333333333333333,\"#9c179e\"],[0.4444444444444444,\"#bd3786\"],[0.5555555555555556,\"#d8576b\"],[0.6666666666666666,\"#ed7953\"],[0.7777777777777778,\"#fb9f3a\"],[0.8888888888888888,\"#fdca26\"],[1.0,\"#f0f921\"]],\"type\":\"surface\"}],\"table\":[{\"cells\":{\"fill\":{\"color\":\"#506784\"},\"line\":{\"color\":\"rgb(17,17,17)\"}},\"header\":{\"fill\":{\"color\":\"#2a3f5f\"},\"line\":{\"color\":\"rgb(17,17,17)\"}},\"type\":\"table\"}]},\"layout\":{\"annotationdefaults\":{\"arrowcolor\":\"#f2f5fa\",\"arrowhead\":0,\"arrowwidth\":1},\"autotypenumbers\":\"strict\",\"coloraxis\":{\"colorbar\":{\"outlinewidth\":0,\"ticks\":\"\"}},\"colorscale\":{\"diverging\":[[0,\"#8e0152\"],[0.1,\"#c51b7d\"],[0.2,\"#de77ae\"],[0.3,\"#f1b6da\"],[0.4,\"#fde0ef\"],[0.5,\"#f7f7f7\"],[0.6,\"#e6f5d0\"],[0.7,\"#b8e186\"],[0.8,\"#7fbc41\"],[0.9,\"#4d9221\"],[1,\"#276419\"]],\"sequential\":[[0.0,\"#0d0887\"],[0.1111111111111111,\"#46039f\"],[0.2222222222222222,\"#7201a8\"],[0.3333333333333333,\"#9c179e\"],[0.4444444444444444,\"#bd3786\"],[0.5555555555555556,\"#d8576b\"],[0.6666666666666666,\"#ed7953\"],[0.7777777777777778,\"#fb9f3a\"],[0.8888888888888888,\"#fdca26\"],[1.0,\"#f0f921\"]],\"sequentialminus\":[[0.0,\"#0d0887\"],[0.1111111111111111,\"#46039f\"],[0.2222222222222222,\"#7201a8\"],[0.3333333333333333,\"#9c179e\"],[0.4444444444444444,\"#bd3786\"],[0.5555555555555556,\"#d8576b\"],[0.6666666666666666,\"#ed7953\"],[0.7777777777777778,\"#fb9f3a\"],[0.8888888888888888,\"#fdca26\"],[1.0,\"#f0f921\"]]},\"colorway\":[\"#636efa\",\"#EF553B\",\"#00cc96\",\"#ab63fa\",\"#FFA15A\",\"#19d3f3\",\"#FF6692\",\"#B6E880\",\"#FF97FF\",\"#FECB52\"],\"font\":{\"color\":\"#f2f5fa\"},\"geo\":{\"bgcolor\":\"rgb(17,17,17)\",\"lakecolor\":\"rgb(17,17,17)\",\"landcolor\":\"rgb(17,17,17)\",\"showlakes\":true,\"showland\":true,\"subunitcolor\":\"#506784\"},\"hoverlabel\":{\"align\":\"left\"},\"hovermode\":\"closest\",\"mapbox\":{\"style\":\"dark\"},\"paper_bgcolor\":\"rgb(17,17,17)\",\"plot_bgcolor\":\"rgb(17,17,17)\",\"polar\":{\"angularaxis\":{\"gridcolor\":\"#506784\",\"linecolor\":\"#506784\",\"ticks\":\"\"},\"bgcolor\":\"rgb(17,17,17)\",\"radialaxis\":{\"gridcolor\":\"#506784\",\"linecolor\":\"#506784\",\"ticks\":\"\"}},\"scene\":{\"xaxis\":{\"backgroundcolor\":\"rgb(17,17,17)\",\"gridcolor\":\"#506784\",\"gridwidth\":2,\"linecolor\":\"#506784\",\"showbackground\":true,\"ticks\":\"\",\"zerolinecolor\":\"#C8D4E3\"},\"yaxis\":{\"backgroundcolor\":\"rgb(17,17,17)\",\"gridcolor\":\"#506784\",\"gridwidth\":2,\"linecolor\":\"#506784\",\"showbackground\":true,\"ticks\":\"\",\"zerolinecolor\":\"#C8D4E3\"},\"zaxis\":{\"backgroundcolor\":\"rgb(17,17,17)\",\"gridcolor\":\"#506784\",\"gridwidth\":2,\"linecolor\":\"#506784\",\"showbackground\":true,\"ticks\":\"\",\"zerolinecolor\":\"#C8D4E3\"}},\"shapedefaults\":{\"line\":{\"color\":\"#f2f5fa\"}},\"sliderdefaults\":{\"bgcolor\":\"#C8D4E3\",\"bordercolor\":\"rgb(17,17,17)\",\"borderwidth\":1,\"tickwidth\":0},\"ternary\":{\"aaxis\":{\"gridcolor\":\"#506784\",\"linecolor\":\"#506784\",\"ticks\":\"\"},\"baxis\":{\"gridcolor\":\"#506784\",\"linecolor\":\"#506784\",\"ticks\":\"\"},\"bgcolor\":\"rgb(17,17,17)\",\"caxis\":{\"gridcolor\":\"#506784\",\"linecolor\":\"#506784\",\"ticks\":\"\"}},\"title\":{\"x\":0.05},\"updatemenudefaults\":{\"bgcolor\":\"#506784\",\"borderwidth\":0},\"xaxis\":{\"automargin\":true,\"gridcolor\":\"#283442\",\"linecolor\":\"#506784\",\"ticks\":\"\",\"title\":{\"standoff\":15},\"zerolinecolor\":\"#283442\",\"zerolinewidth\":2},\"yaxis\":{\"automargin\":true,\"gridcolor\":\"#283442\",\"linecolor\":\"#506784\",\"ticks\":\"\",\"title\":{\"standoff\":15},\"zerolinecolor\":\"#283442\",\"zerolinewidth\":2}}},\"xaxis\":{\"anchor\":\"y\",\"domain\":[0.0,1.0],\"title\":{\"text\":\"date\"},\"showgrid\":true,\"gridwidth\":1,\"gridcolor\":\"red\"},\"yaxis\":{\"anchor\":\"x\",\"domain\":[0.0,1.0],\"title\":{\"text\":\"value\"},\"showgrid\":true,\"gridwidth\":1,\"gridcolor\":\"red\",\"range\":[0,8000]},\"legend\":{\"title\":{\"text\":\"variable\"},\"tracegroupgap\":0},\"title\":{\"text\":\"S&P 500\",\"font\":{\"size\":24}},\"plot_bgcolor\":\"black\"},                        {\"responsive\": true}                    ).then(function(){\n",
       "                            \n",
       "var gd = document.getElementById('3416daf2-5288-4749-b7b7-1e1ce5a77e30');\n",
       "var x = new MutationObserver(function (mutations, observer) {{\n",
       "        var display = window.getComputedStyle(gd).display;\n",
       "        if (!display || display === 'none') {{\n",
       "            console.log([gd, 'removed!']);\n",
       "            Plotly.purge(gd);\n",
       "            observer.disconnect();\n",
       "        }}\n",
       "}});\n",
       "\n",
       "// Listen for the removal of the full notebook cells\n",
       "var notebookContainer = gd.closest('#notebook-container');\n",
       "if (notebookContainer) {{\n",
       "    x.observe(notebookContainer, {childList: true});\n",
       "}}\n",
       "\n",
       "// Listen for the clearing of the current output cell\n",
       "var outputEl = gd.closest('.output');\n",
       "if (outputEl) {{\n",
       "    x.observe(outputEl, {childList: true});\n",
       "}}\n",
       "\n",
       "                        })                };                });            </script>        </div>"
      ]
     },
     "metadata": {},
     "output_type": "display_data"
    }
   ],
   "source": [
    "# fig = px.line(sp, x='ts', y='prices', labels={'ts': 'Время', 'prices': 'Цена'}, title='График цены токена LIDO DAO')\n",
    "fig = px.area(sp, labels={'ts': 'Время', 'prices': 'Цена'}, title='S&P 500',template = 'plotly_dark')\n",
    "fig.update_traces(line=dict(color='cyan', width=2))  # Изменить цвет и толщину линии\n",
    "fig.update_layout(plot_bgcolor='black', title_font=dict(size=24))  # Изменить цвет фона и размер заголовка\n",
    "fig.update_xaxes(showgrid=True, gridwidth=1, gridcolor='red')  # Добавить сетку на оси x\n",
    "fig.update_yaxes(showgrid=True, gridwidth=1, gridcolor='red',range=[0,8000])  # Добавить сетку на оси y\n",
    "fig.show()\n",
    "\n",
    "\n",
    "\n"
   ]
  },
  {
   "cell_type": "code",
   "execution_count": 268,
   "id": "d4871119",
   "metadata": {},
   "outputs": [
    {
     "data": {
      "text/html": [
       "<div>\n",
       "<style scoped>\n",
       "    .dataframe tbody tr th:only-of-type {\n",
       "        vertical-align: middle;\n",
       "    }\n",
       "\n",
       "    .dataframe tbody tr th {\n",
       "        vertical-align: top;\n",
       "    }\n",
       "\n",
       "    .dataframe thead th {\n",
       "        text-align: right;\n",
       "    }\n",
       "</style>\n",
       "<table border=\"1\" class=\"dataframe\">\n",
       "  <thead>\n",
       "    <tr style=\"text-align: right;\">\n",
       "      <th></th>\n",
       "      <th>Walmart</th>\n",
       "      <th>Volume</th>\n",
       "      <th>Volt</th>\n",
       "      <th>gvolt</th>\n",
       "      <th>illq</th>\n",
       "      <th>s&amp;p500</th>\n",
       "      <th>cases</th>\n",
       "      <th>deaths</th>\n",
       "      <th>stringency</th>\n",
       "      <th>mobility</th>\n",
       "      <th>gtr</th>\n",
       "      <th>constant</th>\n",
       "    </tr>\n",
       "    <tr>\n",
       "      <th>date</th>\n",
       "      <th></th>\n",
       "      <th></th>\n",
       "      <th></th>\n",
       "      <th></th>\n",
       "      <th></th>\n",
       "      <th></th>\n",
       "      <th></th>\n",
       "      <th></th>\n",
       "      <th></th>\n",
       "      <th></th>\n",
       "      <th></th>\n",
       "      <th></th>\n",
       "    </tr>\n",
       "  </thead>\n",
       "  <tbody>\n",
       "    <tr>\n",
       "      <th>2020-02-18</th>\n",
       "      <td>39.876667</td>\n",
       "      <td>34539600</td>\n",
       "      <td>-3.824521</td>\n",
       "      <td>-4.156818</td>\n",
       "      <td>-5.455385</td>\n",
       "      <td>3370.290039</td>\n",
       "      <td>1.609438</td>\n",
       "      <td>0.000000</td>\n",
       "      <td>2.233235</td>\n",
       "      <td>7.0</td>\n",
       "      <td>1.609438</td>\n",
       "      <td>1</td>\n",
       "    </tr>\n",
       "    <tr>\n",
       "      <th>2020-02-19</th>\n",
       "      <td>39.226665</td>\n",
       "      <td>21563400</td>\n",
       "      <td>-3.962130</td>\n",
       "      <td>-4.150138</td>\n",
       "      <td>-4.884984</td>\n",
       "      <td>3386.149902</td>\n",
       "      <td>1.609438</td>\n",
       "      <td>0.000000</td>\n",
       "      <td>2.233235</td>\n",
       "      <td>12.0</td>\n",
       "      <td>1.609438</td>\n",
       "      <td>1</td>\n",
       "    </tr>\n",
       "    <tr>\n",
       "      <th>2020-02-20</th>\n",
       "      <td>39.230000</td>\n",
       "      <td>15068700</td>\n",
       "      <td>-4.543164</td>\n",
       "      <td>-3.885899</td>\n",
       "      <td>-9.782960</td>\n",
       "      <td>3373.229980</td>\n",
       "      <td>1.609438</td>\n",
       "      <td>0.000000</td>\n",
       "      <td>2.233235</td>\n",
       "      <td>6.0</td>\n",
       "      <td>1.609438</td>\n",
       "      <td>1</td>\n",
       "    </tr>\n",
       "    <tr>\n",
       "      <th>2020-02-21</th>\n",
       "      <td>39.526669</td>\n",
       "      <td>18726300</td>\n",
       "      <td>-4.406284</td>\n",
       "      <td>-3.910202</td>\n",
       "      <td>-5.511924</td>\n",
       "      <td>3337.750000</td>\n",
       "      <td>1.609438</td>\n",
       "      <td>0.000000</td>\n",
       "      <td>2.233235</td>\n",
       "      <td>5.0</td>\n",
       "      <td>1.609438</td>\n",
       "      <td>1</td>\n",
       "    </tr>\n",
       "    <tr>\n",
       "      <th>2020-02-24</th>\n",
       "      <td>38.773335</td>\n",
       "      <td>19848000</td>\n",
       "      <td>-3.843604</td>\n",
       "      <td>-3.985552</td>\n",
       "      <td>-4.645740</td>\n",
       "      <td>3225.889893</td>\n",
       "      <td>2.833213</td>\n",
       "      <td>0.000000</td>\n",
       "      <td>2.233235</td>\n",
       "      <td>16.0</td>\n",
       "      <td>2.833213</td>\n",
       "      <td>1</td>\n",
       "    </tr>\n",
       "    <tr>\n",
       "      <th>...</th>\n",
       "      <td>...</td>\n",
       "      <td>...</td>\n",
       "      <td>...</td>\n",
       "      <td>...</td>\n",
       "      <td>...</td>\n",
       "      <td>...</td>\n",
       "      <td>...</td>\n",
       "      <td>...</td>\n",
       "      <td>...</td>\n",
       "      <td>...</td>\n",
       "      <td>...</td>\n",
       "      <td>...</td>\n",
       "    </tr>\n",
       "    <tr>\n",
       "      <th>2022-08-22</th>\n",
       "      <td>44.856667</td>\n",
       "      <td>18667200</td>\n",
       "      <td>-4.085360</td>\n",
       "      <td>-3.666391</td>\n",
       "      <td>-4.648223</td>\n",
       "      <td>4137.990234</td>\n",
       "      <td>13.376891</td>\n",
       "      <td>8.080856</td>\n",
       "      <td>3.227241</td>\n",
       "      <td>-28.0</td>\n",
       "      <td>0.000000</td>\n",
       "      <td>1</td>\n",
       "    </tr>\n",
       "    <tr>\n",
       "      <th>2022-08-23</th>\n",
       "      <td>44.666668</td>\n",
       "      <td>16955100</td>\n",
       "      <td>-4.338840</td>\n",
       "      <td>-3.787514</td>\n",
       "      <td>-5.992194</td>\n",
       "      <td>4128.729980</td>\n",
       "      <td>13.376891</td>\n",
       "      <td>8.080856</td>\n",
       "      <td>3.227241</td>\n",
       "      <td>-11.0</td>\n",
       "      <td>0.000000</td>\n",
       "      <td>1</td>\n",
       "    </tr>\n",
       "    <tr>\n",
       "      <th>2022-08-24</th>\n",
       "      <td>44.990002</td>\n",
       "      <td>15766500</td>\n",
       "      <td>-4.376410</td>\n",
       "      <td>-3.853950</td>\n",
       "      <td>-5.383600</td>\n",
       "      <td>4140.770020</td>\n",
       "      <td>13.376891</td>\n",
       "      <td>8.080856</td>\n",
       "      <td>3.227241</td>\n",
       "      <td>-9.0</td>\n",
       "      <td>0.000000</td>\n",
       "      <td>1</td>\n",
       "    </tr>\n",
       "    <tr>\n",
       "      <th>2022-08-25</th>\n",
       "      <td>45.290001</td>\n",
       "      <td>19414500</td>\n",
       "      <td>-4.949852</td>\n",
       "      <td>-3.919891</td>\n",
       "      <td>-5.673851</td>\n",
       "      <td>4199.120117</td>\n",
       "      <td>13.376891</td>\n",
       "      <td>8.080856</td>\n",
       "      <td>3.227241</td>\n",
       "      <td>-6.0</td>\n",
       "      <td>0.000000</td>\n",
       "      <td>1</td>\n",
       "    </tr>\n",
       "    <tr>\n",
       "      <th>2022-08-26</th>\n",
       "      <td>43.866669</td>\n",
       "      <td>21331800</td>\n",
       "      <td>-3.227503</td>\n",
       "      <td>-4.009573</td>\n",
       "      <td>-4.217699</td>\n",
       "      <td>4057.659912</td>\n",
       "      <td>13.376891</td>\n",
       "      <td>8.080856</td>\n",
       "      <td>3.227241</td>\n",
       "      <td>-18.0</td>\n",
       "      <td>0.000000</td>\n",
       "      <td>1</td>\n",
       "    </tr>\n",
       "  </tbody>\n",
       "</table>\n",
       "<p>638 rows × 12 columns</p>\n",
       "</div>"
      ],
      "text/plain": [
       "              Walmart    Volume      Volt     gvolt      illq       s&p500  \\\n",
       "date                                                                         \n",
       "2020-02-18  39.876667  34539600 -3.824521 -4.156818 -5.455385  3370.290039   \n",
       "2020-02-19  39.226665  21563400 -3.962130 -4.150138 -4.884984  3386.149902   \n",
       "2020-02-20  39.230000  15068700 -4.543164 -3.885899 -9.782960  3373.229980   \n",
       "2020-02-21  39.526669  18726300 -4.406284 -3.910202 -5.511924  3337.750000   \n",
       "2020-02-24  38.773335  19848000 -3.843604 -3.985552 -4.645740  3225.889893   \n",
       "...               ...       ...       ...       ...       ...          ...   \n",
       "2022-08-22  44.856667  18667200 -4.085360 -3.666391 -4.648223  4137.990234   \n",
       "2022-08-23  44.666668  16955100 -4.338840 -3.787514 -5.992194  4128.729980   \n",
       "2022-08-24  44.990002  15766500 -4.376410 -3.853950 -5.383600  4140.770020   \n",
       "2022-08-25  45.290001  19414500 -4.949852 -3.919891 -5.673851  4199.120117   \n",
       "2022-08-26  43.866669  21331800 -3.227503 -4.009573 -4.217699  4057.659912   \n",
       "\n",
       "                cases    deaths  stringency  mobility       gtr  constant  \n",
       "date                                                                       \n",
       "2020-02-18   1.609438  0.000000    2.233235       7.0  1.609438         1  \n",
       "2020-02-19   1.609438  0.000000    2.233235      12.0  1.609438         1  \n",
       "2020-02-20   1.609438  0.000000    2.233235       6.0  1.609438         1  \n",
       "2020-02-21   1.609438  0.000000    2.233235       5.0  1.609438         1  \n",
       "2020-02-24   2.833213  0.000000    2.233235      16.0  2.833213         1  \n",
       "...               ...       ...         ...       ...       ...       ...  \n",
       "2022-08-22  13.376891  8.080856    3.227241     -28.0  0.000000         1  \n",
       "2022-08-23  13.376891  8.080856    3.227241     -11.0  0.000000         1  \n",
       "2022-08-24  13.376891  8.080856    3.227241      -9.0  0.000000         1  \n",
       "2022-08-25  13.376891  8.080856    3.227241      -6.0  0.000000         1  \n",
       "2022-08-26  13.376891  8.080856    3.227241     -18.0  0.000000         1  \n",
       "\n",
       "[638 rows x 12 columns]"
      ]
     },
     "execution_count": 268,
     "metadata": {},
     "output_type": "execute_result"
    }
   ],
   "source": [
    "data"
   ]
  },
  {
   "cell_type": "code",
   "execution_count": 313,
   "id": "de54406f",
   "metadata": {},
   "outputs": [
    {
     "data": {
      "application/vnd.plotly.v1+json": {
       "config": {
        "plotlyServerURL": "https://plot.ly"
       },
       "data": [
        {
         "fillpattern": {
          "shape": ""
         },
         "hovertemplate": "variable=Walmart<br>date=%{x}<br>value=%{y}<extra></extra>",
         "legendgroup": "Walmart",
         "line": {
          "color": "red",
          "width": 2
         },
         "marker": {
          "symbol": "circle"
         },
         "mode": "lines",
         "name": "Walmart",
         "orientation": "v",
         "showlegend": true,
         "stackgroup": "1",
         "type": "scatter",
         "x": [
          "2020-02-18T00:00:00",
          "2020-02-19T00:00:00",
          "2020-02-20T00:00:00",
          "2020-02-21T00:00:00",
          "2020-02-24T00:00:00",
          "2020-02-25T00:00:00",
          "2020-02-26T00:00:00",
          "2020-02-27T00:00:00",
          "2020-02-28T00:00:00",
          "2020-03-02T00:00:00",
          "2020-03-03T00:00:00",
          "2020-03-04T00:00:00",
          "2020-03-05T00:00:00",
          "2020-03-06T00:00:00",
          "2020-03-09T00:00:00",
          "2020-03-10T00:00:00",
          "2020-03-11T00:00:00",
          "2020-03-12T00:00:00",
          "2020-03-13T00:00:00",
          "2020-03-16T00:00:00",
          "2020-03-17T00:00:00",
          "2020-03-18T00:00:00",
          "2020-03-19T00:00:00",
          "2020-03-20T00:00:00",
          "2020-03-23T00:00:00",
          "2020-03-24T00:00:00",
          "2020-03-25T00:00:00",
          "2020-03-26T00:00:00",
          "2020-03-27T00:00:00",
          "2020-03-30T00:00:00",
          "2020-03-31T00:00:00",
          "2020-04-01T00:00:00",
          "2020-04-02T00:00:00",
          "2020-04-03T00:00:00",
          "2020-04-06T00:00:00",
          "2020-04-07T00:00:00",
          "2020-04-08T00:00:00",
          "2020-04-09T00:00:00",
          "2020-04-13T00:00:00",
          "2020-04-14T00:00:00",
          "2020-04-15T00:00:00",
          "2020-04-16T00:00:00",
          "2020-04-17T00:00:00",
          "2020-04-20T00:00:00",
          "2020-04-21T00:00:00",
          "2020-04-22T00:00:00",
          "2020-04-23T00:00:00",
          "2020-04-24T00:00:00",
          "2020-04-27T00:00:00",
          "2020-04-28T00:00:00",
          "2020-04-29T00:00:00",
          "2020-04-30T00:00:00",
          "2020-05-01T00:00:00",
          "2020-05-04T00:00:00",
          "2020-05-05T00:00:00",
          "2020-05-06T00:00:00",
          "2020-05-07T00:00:00",
          "2020-05-08T00:00:00",
          "2020-05-11T00:00:00",
          "2020-05-12T00:00:00",
          "2020-05-13T00:00:00",
          "2020-05-14T00:00:00",
          "2020-05-15T00:00:00",
          "2020-05-18T00:00:00",
          "2020-05-19T00:00:00",
          "2020-05-20T00:00:00",
          "2020-05-21T00:00:00",
          "2020-05-22T00:00:00",
          "2020-05-26T00:00:00",
          "2020-05-27T00:00:00",
          "2020-05-28T00:00:00",
          "2020-05-29T00:00:00",
          "2020-06-01T00:00:00",
          "2020-06-02T00:00:00",
          "2020-06-03T00:00:00",
          "2020-06-04T00:00:00",
          "2020-06-05T00:00:00",
          "2020-06-08T00:00:00",
          "2020-06-09T00:00:00",
          "2020-06-10T00:00:00",
          "2020-06-11T00:00:00",
          "2020-06-12T00:00:00",
          "2020-06-15T00:00:00",
          "2020-06-16T00:00:00",
          "2020-06-17T00:00:00",
          "2020-06-18T00:00:00",
          "2020-06-19T00:00:00",
          "2020-06-22T00:00:00",
          "2020-06-23T00:00:00",
          "2020-06-24T00:00:00",
          "2020-06-25T00:00:00",
          "2020-06-26T00:00:00",
          "2020-06-29T00:00:00",
          "2020-06-30T00:00:00",
          "2020-07-01T00:00:00",
          "2020-07-02T00:00:00",
          "2020-07-06T00:00:00",
          "2020-07-07T00:00:00",
          "2020-07-08T00:00:00",
          "2020-07-09T00:00:00",
          "2020-07-10T00:00:00",
          "2020-07-13T00:00:00",
          "2020-07-14T00:00:00",
          "2020-07-15T00:00:00",
          "2020-07-16T00:00:00",
          "2020-07-17T00:00:00",
          "2020-07-20T00:00:00",
          "2020-07-21T00:00:00",
          "2020-07-22T00:00:00",
          "2020-07-23T00:00:00",
          "2020-07-24T00:00:00",
          "2020-07-27T00:00:00",
          "2020-07-28T00:00:00",
          "2020-07-29T00:00:00",
          "2020-07-30T00:00:00",
          "2020-07-31T00:00:00",
          "2020-08-03T00:00:00",
          "2020-08-04T00:00:00",
          "2020-08-05T00:00:00",
          "2020-08-06T00:00:00",
          "2020-08-07T00:00:00",
          "2020-08-10T00:00:00",
          "2020-08-11T00:00:00",
          "2020-08-12T00:00:00",
          "2020-08-13T00:00:00",
          "2020-08-14T00:00:00",
          "2020-08-17T00:00:00",
          "2020-08-18T00:00:00",
          "2020-08-19T00:00:00",
          "2020-08-20T00:00:00",
          "2020-08-21T00:00:00",
          "2020-08-24T00:00:00",
          "2020-08-25T00:00:00",
          "2020-08-26T00:00:00",
          "2020-08-27T00:00:00",
          "2020-08-28T00:00:00",
          "2020-08-31T00:00:00",
          "2020-09-01T00:00:00",
          "2020-09-02T00:00:00",
          "2020-09-03T00:00:00",
          "2020-09-04T00:00:00",
          "2020-09-08T00:00:00",
          "2020-09-09T00:00:00",
          "2020-09-10T00:00:00",
          "2020-09-11T00:00:00",
          "2020-09-14T00:00:00",
          "2020-09-15T00:00:00",
          "2020-09-16T00:00:00",
          "2020-09-17T00:00:00",
          "2020-09-18T00:00:00",
          "2020-09-21T00:00:00",
          "2020-09-22T00:00:00",
          "2020-09-23T00:00:00",
          "2020-09-24T00:00:00",
          "2020-09-25T00:00:00",
          "2020-09-28T00:00:00",
          "2020-09-29T00:00:00",
          "2020-09-30T00:00:00",
          "2020-10-01T00:00:00",
          "2020-10-02T00:00:00",
          "2020-10-05T00:00:00",
          "2020-10-06T00:00:00",
          "2020-10-07T00:00:00",
          "2020-10-08T00:00:00",
          "2020-10-09T00:00:00",
          "2020-10-12T00:00:00",
          "2020-10-13T00:00:00",
          "2020-10-14T00:00:00",
          "2020-10-15T00:00:00",
          "2020-10-16T00:00:00",
          "2020-10-19T00:00:00",
          "2020-10-20T00:00:00",
          "2020-10-21T00:00:00",
          "2020-10-22T00:00:00",
          "2020-10-23T00:00:00",
          "2020-10-26T00:00:00",
          "2020-10-27T00:00:00",
          "2020-10-28T00:00:00",
          "2020-10-29T00:00:00",
          "2020-10-30T00:00:00",
          "2020-11-02T00:00:00",
          "2020-11-03T00:00:00",
          "2020-11-04T00:00:00",
          "2020-11-05T00:00:00",
          "2020-11-06T00:00:00",
          "2020-11-09T00:00:00",
          "2020-11-10T00:00:00",
          "2020-11-11T00:00:00",
          "2020-11-12T00:00:00",
          "2020-11-13T00:00:00",
          "2020-11-16T00:00:00",
          "2020-11-17T00:00:00",
          "2020-11-18T00:00:00",
          "2020-11-19T00:00:00",
          "2020-11-20T00:00:00",
          "2020-11-23T00:00:00",
          "2020-11-24T00:00:00",
          "2020-11-25T00:00:00",
          "2020-11-27T00:00:00",
          "2020-11-30T00:00:00",
          "2020-12-01T00:00:00",
          "2020-12-02T00:00:00",
          "2020-12-03T00:00:00",
          "2020-12-04T00:00:00",
          "2020-12-07T00:00:00",
          "2020-12-08T00:00:00",
          "2020-12-09T00:00:00",
          "2020-12-10T00:00:00",
          "2020-12-11T00:00:00",
          "2020-12-14T00:00:00",
          "2020-12-15T00:00:00",
          "2020-12-16T00:00:00",
          "2020-12-17T00:00:00",
          "2020-12-18T00:00:00",
          "2020-12-21T00:00:00",
          "2020-12-22T00:00:00",
          "2020-12-23T00:00:00",
          "2020-12-24T00:00:00",
          "2020-12-28T00:00:00",
          "2020-12-29T00:00:00",
          "2020-12-30T00:00:00",
          "2020-12-31T00:00:00",
          "2021-01-04T00:00:00",
          "2021-01-05T00:00:00",
          "2021-01-06T00:00:00",
          "2021-01-07T00:00:00",
          "2021-01-08T00:00:00",
          "2021-01-11T00:00:00",
          "2021-01-12T00:00:00",
          "2021-01-13T00:00:00",
          "2021-01-14T00:00:00",
          "2021-01-15T00:00:00",
          "2021-01-19T00:00:00",
          "2021-01-20T00:00:00",
          "2021-01-21T00:00:00",
          "2021-01-22T00:00:00",
          "2021-01-25T00:00:00",
          "2021-01-26T00:00:00",
          "2021-01-27T00:00:00",
          "2021-01-28T00:00:00",
          "2021-01-29T00:00:00",
          "2021-02-01T00:00:00",
          "2021-02-02T00:00:00",
          "2021-02-03T00:00:00",
          "2021-02-04T00:00:00",
          "2021-02-05T00:00:00",
          "2021-02-08T00:00:00",
          "2021-02-09T00:00:00",
          "2021-02-10T00:00:00",
          "2021-02-11T00:00:00",
          "2021-02-12T00:00:00",
          "2021-02-16T00:00:00",
          "2021-02-17T00:00:00",
          "2021-02-18T00:00:00",
          "2021-02-19T00:00:00",
          "2021-02-22T00:00:00",
          "2021-02-23T00:00:00",
          "2021-02-24T00:00:00",
          "2021-02-25T00:00:00",
          "2021-02-26T00:00:00",
          "2021-03-01T00:00:00",
          "2021-03-02T00:00:00",
          "2021-03-03T00:00:00",
          "2021-03-04T00:00:00",
          "2021-03-05T00:00:00",
          "2021-03-08T00:00:00",
          "2021-03-09T00:00:00",
          "2021-03-10T00:00:00",
          "2021-03-11T00:00:00",
          "2021-03-12T00:00:00",
          "2021-03-15T00:00:00",
          "2021-03-16T00:00:00",
          "2021-03-17T00:00:00",
          "2021-03-18T00:00:00",
          "2021-03-19T00:00:00",
          "2021-03-22T00:00:00",
          "2021-03-23T00:00:00",
          "2021-03-24T00:00:00",
          "2021-03-25T00:00:00",
          "2021-03-26T00:00:00",
          "2021-03-29T00:00:00",
          "2021-03-30T00:00:00",
          "2021-03-31T00:00:00",
          "2021-04-01T00:00:00",
          "2021-04-05T00:00:00",
          "2021-04-06T00:00:00",
          "2021-04-07T00:00:00",
          "2021-04-08T00:00:00",
          "2021-04-09T00:00:00",
          "2021-04-12T00:00:00",
          "2021-04-13T00:00:00",
          "2021-04-14T00:00:00",
          "2021-04-15T00:00:00",
          "2021-04-16T00:00:00",
          "2021-04-19T00:00:00",
          "2021-04-20T00:00:00",
          "2021-04-21T00:00:00",
          "2021-04-22T00:00:00",
          "2021-04-23T00:00:00",
          "2021-04-26T00:00:00",
          "2021-04-27T00:00:00",
          "2021-04-28T00:00:00",
          "2021-04-29T00:00:00",
          "2021-04-30T00:00:00",
          "2021-05-03T00:00:00",
          "2021-05-04T00:00:00",
          "2021-05-05T00:00:00",
          "2021-05-06T00:00:00",
          "2021-05-07T00:00:00",
          "2021-05-10T00:00:00",
          "2021-05-11T00:00:00",
          "2021-05-12T00:00:00",
          "2021-05-13T00:00:00",
          "2021-05-14T00:00:00",
          "2021-05-17T00:00:00",
          "2021-05-18T00:00:00",
          "2021-05-19T00:00:00",
          "2021-05-20T00:00:00",
          "2021-05-21T00:00:00",
          "2021-05-24T00:00:00",
          "2021-05-25T00:00:00",
          "2021-05-26T00:00:00",
          "2021-05-27T00:00:00",
          "2021-05-28T00:00:00",
          "2021-06-01T00:00:00",
          "2021-06-02T00:00:00",
          "2021-06-03T00:00:00",
          "2021-06-04T00:00:00",
          "2021-06-07T00:00:00",
          "2021-06-08T00:00:00",
          "2021-06-09T00:00:00",
          "2021-06-10T00:00:00",
          "2021-06-11T00:00:00",
          "2021-06-14T00:00:00",
          "2021-06-15T00:00:00",
          "2021-06-16T00:00:00",
          "2021-06-17T00:00:00",
          "2021-06-18T00:00:00",
          "2021-06-21T00:00:00",
          "2021-06-22T00:00:00",
          "2021-06-23T00:00:00",
          "2021-06-24T00:00:00",
          "2021-06-25T00:00:00",
          "2021-06-28T00:00:00",
          "2021-06-29T00:00:00",
          "2021-06-30T00:00:00",
          "2021-07-01T00:00:00",
          "2021-07-02T00:00:00",
          "2021-07-06T00:00:00",
          "2021-07-07T00:00:00",
          "2021-07-08T00:00:00",
          "2021-07-09T00:00:00",
          "2021-07-12T00:00:00",
          "2021-07-13T00:00:00",
          "2021-07-14T00:00:00",
          "2021-07-15T00:00:00",
          "2021-07-16T00:00:00",
          "2021-07-19T00:00:00",
          "2021-07-20T00:00:00",
          "2021-07-21T00:00:00",
          "2021-07-22T00:00:00",
          "2021-07-23T00:00:00",
          "2021-07-26T00:00:00",
          "2021-07-27T00:00:00",
          "2021-07-28T00:00:00",
          "2021-07-29T00:00:00",
          "2021-07-30T00:00:00",
          "2021-08-02T00:00:00",
          "2021-08-03T00:00:00",
          "2021-08-04T00:00:00",
          "2021-08-05T00:00:00",
          "2021-08-06T00:00:00",
          "2021-08-09T00:00:00",
          "2021-08-10T00:00:00",
          "2021-08-11T00:00:00",
          "2021-08-12T00:00:00",
          "2021-08-13T00:00:00",
          "2021-08-16T00:00:00",
          "2021-08-17T00:00:00",
          "2021-08-18T00:00:00",
          "2021-08-19T00:00:00",
          "2021-08-20T00:00:00",
          "2021-08-23T00:00:00",
          "2021-08-24T00:00:00",
          "2021-08-25T00:00:00",
          "2021-08-26T00:00:00",
          "2021-08-27T00:00:00",
          "2021-08-30T00:00:00",
          "2021-08-31T00:00:00",
          "2021-09-01T00:00:00",
          "2021-09-02T00:00:00",
          "2021-09-03T00:00:00",
          "2021-09-07T00:00:00",
          "2021-09-08T00:00:00",
          "2021-09-09T00:00:00",
          "2021-09-10T00:00:00",
          "2021-09-13T00:00:00",
          "2021-09-14T00:00:00",
          "2021-09-15T00:00:00",
          "2021-09-16T00:00:00",
          "2021-09-17T00:00:00",
          "2021-09-20T00:00:00",
          "2021-09-21T00:00:00",
          "2021-09-22T00:00:00",
          "2021-09-23T00:00:00",
          "2021-09-24T00:00:00",
          "2021-09-27T00:00:00",
          "2021-09-28T00:00:00",
          "2021-09-29T00:00:00",
          "2021-09-30T00:00:00",
          "2021-10-01T00:00:00",
          "2021-10-04T00:00:00",
          "2021-10-05T00:00:00",
          "2021-10-06T00:00:00",
          "2021-10-07T00:00:00",
          "2021-10-08T00:00:00",
          "2021-10-11T00:00:00",
          "2021-10-12T00:00:00",
          "2021-10-13T00:00:00",
          "2021-10-14T00:00:00",
          "2021-10-15T00:00:00",
          "2021-10-18T00:00:00",
          "2021-10-19T00:00:00",
          "2021-10-20T00:00:00",
          "2021-10-21T00:00:00",
          "2021-10-22T00:00:00",
          "2021-10-25T00:00:00",
          "2021-10-26T00:00:00",
          "2021-10-27T00:00:00",
          "2021-10-28T00:00:00",
          "2021-10-29T00:00:00",
          "2021-11-01T00:00:00",
          "2021-11-02T00:00:00",
          "2021-11-03T00:00:00",
          "2021-11-04T00:00:00",
          "2021-11-05T00:00:00",
          "2021-11-08T00:00:00",
          "2021-11-09T00:00:00",
          "2021-11-10T00:00:00",
          "2021-11-11T00:00:00",
          "2021-11-12T00:00:00",
          "2021-11-15T00:00:00",
          "2021-11-16T00:00:00",
          "2021-11-17T00:00:00",
          "2021-11-18T00:00:00",
          "2021-11-19T00:00:00",
          "2021-11-22T00:00:00",
          "2021-11-23T00:00:00",
          "2021-11-24T00:00:00",
          "2021-11-26T00:00:00",
          "2021-11-29T00:00:00",
          "2021-11-30T00:00:00",
          "2021-12-01T00:00:00",
          "2021-12-02T00:00:00",
          "2021-12-03T00:00:00",
          "2021-12-06T00:00:00",
          "2021-12-07T00:00:00",
          "2021-12-08T00:00:00",
          "2021-12-09T00:00:00",
          "2021-12-10T00:00:00",
          "2021-12-13T00:00:00",
          "2021-12-14T00:00:00",
          "2021-12-15T00:00:00",
          "2021-12-16T00:00:00",
          "2021-12-17T00:00:00",
          "2021-12-20T00:00:00",
          "2021-12-21T00:00:00",
          "2021-12-22T00:00:00",
          "2021-12-23T00:00:00",
          "2021-12-27T00:00:00",
          "2021-12-28T00:00:00",
          "2021-12-29T00:00:00",
          "2021-12-30T00:00:00",
          "2021-12-31T00:00:00",
          "2022-01-03T00:00:00",
          "2022-01-04T00:00:00",
          "2022-01-05T00:00:00",
          "2022-01-06T00:00:00",
          "2022-01-07T00:00:00",
          "2022-01-10T00:00:00",
          "2022-01-11T00:00:00",
          "2022-01-12T00:00:00",
          "2022-01-13T00:00:00",
          "2022-01-14T00:00:00",
          "2022-01-18T00:00:00",
          "2022-01-19T00:00:00",
          "2022-01-20T00:00:00",
          "2022-01-21T00:00:00",
          "2022-01-24T00:00:00",
          "2022-01-25T00:00:00",
          "2022-01-26T00:00:00",
          "2022-01-27T00:00:00",
          "2022-01-28T00:00:00",
          "2022-01-31T00:00:00",
          "2022-02-01T00:00:00",
          "2022-02-02T00:00:00",
          "2022-02-03T00:00:00",
          "2022-02-04T00:00:00",
          "2022-02-07T00:00:00",
          "2022-02-08T00:00:00",
          "2022-02-09T00:00:00",
          "2022-02-10T00:00:00",
          "2022-02-11T00:00:00",
          "2022-02-14T00:00:00",
          "2022-02-15T00:00:00",
          "2022-02-16T00:00:00",
          "2022-02-17T00:00:00",
          "2022-02-18T00:00:00",
          "2022-02-22T00:00:00",
          "2022-02-23T00:00:00",
          "2022-02-24T00:00:00",
          "2022-02-25T00:00:00",
          "2022-02-28T00:00:00",
          "2022-03-01T00:00:00",
          "2022-03-02T00:00:00",
          "2022-03-03T00:00:00",
          "2022-03-04T00:00:00",
          "2022-03-07T00:00:00",
          "2022-03-08T00:00:00",
          "2022-03-09T00:00:00",
          "2022-03-10T00:00:00",
          "2022-03-11T00:00:00",
          "2022-03-14T00:00:00",
          "2022-03-15T00:00:00",
          "2022-03-16T00:00:00",
          "2022-03-17T00:00:00",
          "2022-03-18T00:00:00",
          "2022-03-21T00:00:00",
          "2022-03-22T00:00:00",
          "2022-03-23T00:00:00",
          "2022-03-24T00:00:00",
          "2022-03-25T00:00:00",
          "2022-03-28T00:00:00",
          "2022-03-29T00:00:00",
          "2022-03-30T00:00:00",
          "2022-03-31T00:00:00",
          "2022-04-01T00:00:00",
          "2022-04-04T00:00:00",
          "2022-04-05T00:00:00",
          "2022-04-06T00:00:00",
          "2022-04-07T00:00:00",
          "2022-04-08T00:00:00",
          "2022-04-11T00:00:00",
          "2022-04-12T00:00:00",
          "2022-04-13T00:00:00",
          "2022-04-14T00:00:00",
          "2022-04-18T00:00:00",
          "2022-04-19T00:00:00",
          "2022-04-20T00:00:00",
          "2022-04-21T00:00:00",
          "2022-04-22T00:00:00",
          "2022-04-25T00:00:00",
          "2022-04-26T00:00:00",
          "2022-04-27T00:00:00",
          "2022-04-28T00:00:00",
          "2022-04-29T00:00:00",
          "2022-05-02T00:00:00",
          "2022-05-03T00:00:00",
          "2022-05-04T00:00:00",
          "2022-05-05T00:00:00",
          "2022-05-06T00:00:00",
          "2022-05-09T00:00:00",
          "2022-05-10T00:00:00",
          "2022-05-11T00:00:00",
          "2022-05-12T00:00:00",
          "2022-05-13T00:00:00",
          "2022-05-16T00:00:00",
          "2022-05-17T00:00:00",
          "2022-05-18T00:00:00",
          "2022-05-19T00:00:00",
          "2022-05-20T00:00:00",
          "2022-05-23T00:00:00",
          "2022-05-24T00:00:00",
          "2022-05-25T00:00:00",
          "2022-05-26T00:00:00",
          "2022-05-27T00:00:00",
          "2022-05-31T00:00:00",
          "2022-06-01T00:00:00",
          "2022-06-02T00:00:00",
          "2022-06-03T00:00:00",
          "2022-06-06T00:00:00",
          "2022-06-07T00:00:00",
          "2022-06-08T00:00:00",
          "2022-06-09T00:00:00",
          "2022-06-10T00:00:00",
          "2022-06-13T00:00:00",
          "2022-06-14T00:00:00",
          "2022-06-15T00:00:00",
          "2022-06-16T00:00:00",
          "2022-06-17T00:00:00",
          "2022-06-21T00:00:00",
          "2022-06-22T00:00:00",
          "2022-06-23T00:00:00",
          "2022-06-24T00:00:00",
          "2022-06-27T00:00:00",
          "2022-06-28T00:00:00",
          "2022-06-29T00:00:00",
          "2022-06-30T00:00:00",
          "2022-07-01T00:00:00",
          "2022-07-05T00:00:00",
          "2022-07-06T00:00:00",
          "2022-07-07T00:00:00",
          "2022-07-08T00:00:00",
          "2022-07-11T00:00:00",
          "2022-07-12T00:00:00",
          "2022-07-13T00:00:00",
          "2022-07-14T00:00:00",
          "2022-07-15T00:00:00",
          "2022-07-18T00:00:00",
          "2022-07-19T00:00:00",
          "2022-07-20T00:00:00",
          "2022-07-21T00:00:00",
          "2022-07-22T00:00:00",
          "2022-07-25T00:00:00",
          "2022-07-26T00:00:00",
          "2022-07-27T00:00:00",
          "2022-07-28T00:00:00",
          "2022-07-29T00:00:00",
          "2022-08-01T00:00:00",
          "2022-08-02T00:00:00",
          "2022-08-03T00:00:00",
          "2022-08-04T00:00:00",
          "2022-08-05T00:00:00",
          "2022-08-08T00:00:00",
          "2022-08-09T00:00:00",
          "2022-08-10T00:00:00",
          "2022-08-11T00:00:00",
          "2022-08-12T00:00:00",
          "2022-08-15T00:00:00",
          "2022-08-16T00:00:00",
          "2022-08-17T00:00:00",
          "2022-08-18T00:00:00",
          "2022-08-19T00:00:00",
          "2022-08-22T00:00:00",
          "2022-08-23T00:00:00",
          "2022-08-24T00:00:00",
          "2022-08-25T00:00:00",
          "2022-08-26T00:00:00"
         ],
         "xaxis": "x",
         "y": [
          39.87666702270508,
          39.22666549682617,
          39.22999954223633,
          39.526668548583984,
          38.77333450317383,
          38.130001068115234,
          37.926666259765625,
          36.79999923706055,
          35.893333435058594,
          38.62666702270508,
          37.63666534423828,
          38.92333221435547,
          38.63999938964844,
          39.07666778564453,
          39.0533332824707,
          39.93000030517578,
          38.143333435058594,
          34.68333435058594,
          38.03333282470703,
          35.586666107177734,
          39.753334045410156,
          40.86000061035156,
          39.81666564941406,
          37.9900016784668,
          38.09333419799805,
          38.34333419799805,
          36.46666717529297,
          36.606666564941406,
          36.526668548583984,
          38.39666748046875,
          37.87333297729492,
          38.04666519165039,
          39.54999923706055,
          39.82666778564453,
          42.02333450317383,
          40.663333892822266,
          40.61333465576172,
          40.599998474121094,
          41.766666412353516,
          43,
          42.91999816894531,
          44.11000061035156,
          44.040000915527344,
          43.28333282470703,
          43.06999969482422,
          43.86333465576172,
          42.84333419799805,
          43.14666748046875,
          42.766666412353516,
          42.66666793823242,
          41.20000076293945,
          40.516666412353516,
          40.973331451416016,
          41.233333587646484,
          41.57666778564453,
          41.099998474121094,
          40.630001068115234,
          40.97999954223633,
          41.223331451416016,
          41.2599983215332,
          41.23666763305664,
          41.13999938964844,
          41.97999954223633,
          42.5533332824707,
          41.650001525878906,
          41.81666564941406,
          41.663333892822266,
          41.44333267211914,
          41.28666687011719,
          40.82666778564453,
          41.22999954223633,
          41.35333251953125,
          41.31999969482422,
          41.313331604003906,
          41.15666580200195,
          40.70333480834961,
          40.52000045776367,
          40.413333892822266,
          40.45000076293945,
          40.38666534423828,
          40.029998779296875,
          39.246665954589844,
          39.36000061035156,
          39.883331298828125,
          39.676666259765625,
          39.33000183105469,
          39.95000076293945,
          40.560001373291016,
          40.356666564941406,
          40.099998474121094,
          39.9033317565918,
          39.439998626708984,
          39.686668395996094,
          39.926666259765625,
          39.89666748046875,
          39.73666763305664,
          39.630001068115234,
          42.31666564941406,
          41.47999954223633,
          42.58333206176758,
          43.560001373291016,
          43.17333221435547,
          44.003334045410156,
          44,
          44.06666564941406,
          43.913333892822266,
          43.823333740234375,
          44.11000061035156,
          44.220001220703125,
          43.880001068115234,
          43.746665954589844,
          43.73666763305664,
          43.91999816894531,
          43.563331604003906,
          43.37333297729492,
          43.133331298828125,
          43.099998474121094,
          43.880001068115234,
          43.27000045776367,
          43.116668701171875,
          43.323333740234375,
          43.959999084472656,
          43.400001525878906,
          43.96333312988281,
          43.95000076293945,
          44.20000076293945,
          45.20000076293945,
          44.9033317565918,
          44.13666534423828,
          43.52333450317383,
          43.87666702270508,
          43.776668548583984,
          43.543331146240234,
          43.56666564941406,
          45.543331146240234,
          46.766666412353516,
          46.28333282470703,
          49.1966667175293,
          49.22666549682617,
          48.18000030517578,
          47.61000061035156,
          46.150001525878906,
          46.630001068115234,
          45.60333251953125,
          45.56666564941406,
          45.77333450317383,
          45.78666687011719,
          45.41999816894531,
          45.563331604003906,
          45.0966682434082,
          45.689998626708984,
          46.10333251953125,
          45.33000183105469,
          45.56666564941406,
          45.75666809082031,
          45.75,
          45.71333312988281,
          46.63666534423828,
          47.69333267211914,
          46.83333206176758,
          47.266666412353516,
          46.87666702270508,
          46.96333312988281,
          47.119998931884766,
          47.59333419799805,
          48.08333206176758,
          48.74333190917969,
          47.97999954223633,
          48.176666259765625,
          48.23666763305664,
          47.650001525878906,
          47.96666717529297,
          48.133331298828125,
          47.849998474121094,
          47.95000076293945,
          47.38666534423828,
          47.62333297729492,
          46.68000030517578,
          46.63999938964844,
          46.25,
          46.79999923706055,
          47.59333419799805,
          47.31999969482422,
          47.823333740234375,
          48.59000015258789,
          47.8466682434082,
          48.52000045776367,
          49.32666778564453,
          49.40999984741211,
          50.18000030517578,
          50.813331604003906,
          49.790000915527344,
          49.6966667175293,
          50.706668853759766,
          50.08000183105469,
          50.310001373291016,
          50.45333480834961,
          50.61000061035156,
          50.53333282470703,
          50.93000030517578,
          50.880001068115234,
          50.17333221435547,
          49.766666412353516,
          49.63666534423828,
          49.369998931884766,
          49.81666564941406,
          49.42333221435547,
          49.01333236694336,
          49,
          48.54999923706055,
          48.526668548583984,
          48.47666549682617,
          48.70000076293945,
          48.650001525878906,
          48.65666580200195,
          48.06666564941406,
          47.7400016784668,
          47.83333206176758,
          48.40666580200195,
          48.099998474121094,
          48.060001373291016,
          48.04999923706055,
          48.84333419799805,
          48.58333206176758,
          48.88666534423828,
          48.883331298828125,
          48.87666702270508,
          49.0966682434082,
          49.65666580200195,
          49.150001525878906,
          48.9900016784668,
          48.21333312988281,
          47.79666519165039,
          48.503334045410156,
          48.28333282470703,
          48.776668548583984,
          48.733333587646484,
          49.16999816894531,
          47.9466667175293,
          47.91666793823242,
          46.83000183105469,
          46.42333221435547,
          46.92333221435547,
          47.06666564941406,
          47.5099983215332,
          48.119998931884766,
          48.34333419799805,
          48.61000061035156,
          48.043331146240234,
          48.00666809082031,
          48.15666580200195,
          48.5533332824707,
          49.06666564941406,
          45.88666534423828,
          46.11333465576172,
          45.89666748046875,
          45.15666580200195,
          44.4033317565918,
          43.983333587646484,
          43.30666732788086,
          43.790000915527344,
          43.369998931884766,
          42.529998779296875,
          42.5099983215332,
          43.040000915527344,
          42.62666702270508,
          42.96333312988281,
          44.060001373291016,
          44.043331146240234,
          44.706668853759766,
          44.47666549682617,
          44.46333312988281,
          44.09333419799805,
          43.336666107177734,
          43.913333892822266,
          44.12333297729492,
          44.64666748046875,
          44.369998931884766,
          44.66999816894531,
          45.043331146240234,
          45.55666732788086,
          45.246665954589844,
          45.276668548583984,
          45.206668853759766,
          46.47666549682617,
          46.70000076293945,
          46.599998474121094,
          46.56999969482422,
          46.59333419799805,
          46.599998474121094,
          46.456668853759766,
          46.439998626708984,
          46.720001220703125,
          46.869998931884766,
          46.56999969482422,
          46.93000030517578,
          47.06666564941406,
          46.55666732788086,
          46.633331298828125,
          45.970001220703125,
          46.12666702270508,
          45.96333312988281,
          46.543331146240234,
          46.63666534423828,
          47.37333297729492,
          46.90666580200195,
          46.866668701171875,
          47.016666412353516,
          46.733333587646484,
          46.939998626708984,
          46.516666412353516,
          45.313331604003906,
          46.08000183105469,
          46.50666809082031,
          46.29666519165039,
          47.3033332824707,
          47.30666732788086,
          47.473331451416016,
          47.25,
          47.253334045410156,
          47.4466667175293,
          47.38999938964844,
          47.22999954223633,
          47.34333419799805,
          47.220001220703125,
          47.116668701171875,
          47.20000076293945,
          47.28333282470703,
          46.96666717529297,
          46.61000061035156,
          46.36000061035156,
          46.62666702270508,
          46.91666793823242,
          46.85333251953125,
          46.66666793823242,
          45.71666717529297,
          45.90666580200195,
          45.05666732788086,
          45.46666717529297,
          45.676666259765625,
          45.31999969482422,
          45.63666534423828,
          46.176666259765625,
          46.03333282470703,
          45.766666412353516,
          47.00666809082031,
          46.439998626708984,
          46.70333480834961,
          46.64666748046875,
          46.56999969482422,
          46.529998779296875,
          46.766666412353516,
          46.68333435058594,
          46.86000061035156,
          47.18333435058594,
          47.220001220703125,
          47.186668395996094,
          47.07666778564453,
          47.290000915527344,
          47.05666732788086,
          47.09000015258789,
          47.47666549682617,
          47.543331146240234,
          47.54666519165039,
          47.35333251953125,
          47.413333892822266,
          47.516666412353516,
          47.40666580200195,
          47.939998626708984,
          47.61333465576172,
          48.496665954589844,
          48.40999984741211,
          48.526668548583984,
          49.560001373291016,
          50.003334045410156,
          49.686668395996094,
          49.84333419799805,
          50.25,
          50.233333587646484,
          49.70000076293945,
          50.03666687011719,
          50.483333587646484,
          50.150001525878906,
          49.633331298828125,
          49.6533317565918,
          49.116668701171875,
          48.84000015258789,
          49.233333587646484,
          49.366668701171875,
          49.2599983215332,
          49.52000045776367,
          49.75,
          49.09000015258789,
          49.1533317565918,
          48.80666732788086,
          48.630001068115234,
          48.35333251953125,
          48.099998474121094,
          48.18333435058594,
          48.34333419799805,
          48.24333190917969,
          47.58000183105469,
          47.67333221435547,
          47.563331604003906,
          47.59000015258789,
          47.723331451416016,
          47.41666793823242,
          46.83333206176758,
          46.813331604003906,
          46.459999084472656,
          45.68333435058594,
          45.24333190917969,
          45.540000915527344,
          45.87333297729492,
          46.413333892822266,
          46.5533332824707,
          46.5099983215332,
          46.459999084472656,
          46.12333297729492,
          46.62333297729492,
          46.849998474121094,
          47.22666549682617,
          48.22999954223633,
          48.66666793823242,
          48.936668395996094,
          49.4466667175293,
          50.02000045776367,
          49.58333206176758,
          49.176666259765625,
          49.483333587646484,
          49.80666732788086,
          49.93000030517578,
          49.90666580200195,
          50.060001373291016,
          50.426666259765625,
          50.07666778564453,
          49.75666809082031,
          49.93000030517578,
          49.47999954223633,
          49.5,
          49.253334045410156,
          48.970001220703125,
          47.723331451416016,
          47.313331604003906,
          47.720001220703125,
          47.46333312988281,
          48.2599983215332,
          48.60333251953125,
          48.8466682434082,
          48.29999923706055,
          47.543331146240234,
          46.87666702270508,
          45.71333312988281,
          45.15666580200195,
          45.836666107177734,
          46.33333206176758,
          46.18333435058594,
          45.71666717529297,
          46.16666793823242,
          47.0099983215332,
          47.856666564941406,
          48.313331604003906,
          48.59000015258789,
          47.779998779296875,
          46.25,
          46.400001525878906,
          46.540000915527344,
          46.599998474121094,
          46.496665954589844,
          46.91999816894531,
          47.59333419799805,
          47.56999969482422,
          47.723331451416016,
          48.22999954223633,
          48.21666717529297,
          47.33333206176758,
          47.973331451416016,
          47.84000015258789,
          48.29666519165039,
          48.20333480834961,
          48.06666564941406,
          47.813331604003906,
          48.4900016784668,
          48.35333251953125,
          47.50666809082031,
          47.97999954223633,
          47.073333740234375,
          46.72999954223633,
          46.733333587646484,
          45.71666717529297,
          45.25,
          45.279998779296875,
          45.84000015258789,
          46.60333251953125,
          46.970001220703125,
          46.95000076293945,
          46.996665954589844,
          46.44333267211914,
          45.98666763305664,
          45.996665954589844,
          45.89666748046875,
          45.36000061035156,
          45.11000061035156,
          44.650001525878906,
          44.790000915527344,
          44.5099983215332,
          46.293331146240234,
          45.996665954589844,
          45.483333587646484,
          45.016666412353516,
          44.84333419799805,
          45.459999084472656,
          45.0533332824707,
          45.33000183105469,
          45.38666534423828,
          46.43000030517578,
          47.606666564941406,
          47.223331451416016,
          46.246665954589844,
          46.48666763305664,
          47.543331146240234,
          47.356666564941406,
          48.016666412353516,
          48.59333419799805,
          48.45000076293945,
          48.336666107177734,
          48.47999954223633,
          48.07666778564453,
          47.93333435058594,
          47.31666564941406,
          47.61000061035156,
          47.81666564941406,
          48.66666793823242,
          49.07666778564453,
          49.956668853759766,
          49.63999938964844,
          50.336666107177734,
          50.3466682434082,
          50.4900016784668,
          51.663333892822266,
          52.18000030517578,
          52.470001220703125,
          51.43000030517578,
          51.07666778564453,
          52.40666580200195,
          52.36000061035156,
          51.959999084472656,
          52.54999923706055,
          53.209999084472656,
          53.290000915527344,
          52.28666687011719,
          52.313331604003906,
          51.766666412353516,
          51.413333892822266,
          52.06999969482422,
          50.996665954589844,
          50.65999984741211,
          50.836666107177734,
          51.540000915527344,
          50.913333892822266,
          49.85333251953125,
          50.436668395996094,
          49.72666549682617,
          49.206668853759766,
          49.15999984741211,
          49.349998474121094,
          49.4033317565918,
          43.78333282470703,
          40.810001373291016,
          39.689998626708984,
          39.733333587646484,
          40.866668701171875,
          41.37666702270508,
          41.12333297729492,
          42,
          42.82666778564453,
          42.87666702270508,
          41.81666564941406,
          42.503334045410156,
          41.77333450317383,
          41.62333297729492,
          41.12333297729492,
          40.766666412353516,
          40.34000015258789,
          40.56666564941406,
          39.8033332824707,
          39.81999969482422,
          39.793331146240234,
          40.206668853759766,
          39.43000030517578,
          40.723331451416016,
          40.22999954223633,
          41.206668853759766,
          41.2400016784668,
          41.37333297729492,
          40.790000915527344,
          40.63999938964844,
          40.526668548583984,
          40.87666702270508,
          41.41666793823242,
          41.709999084472656,
          41.77333450317383,
          41.79999923706055,
          41.81666564941406,
          41.689998626708984,
          41.790000915527344,
          42.606666564941406,
          43.02333450317383,
          42.92333221435547,
          43.186668395996094,
          43.54666519165039,
          44.18333435058594,
          44.06999969482422,
          44.00666809082031,
          40.65999984741211,
          42.1966667175293,
          43.25,
          44.016666412353516,
          44.18000030517578,
          44.22666549682617,
          43.5,
          41.856666564941406,
          42.19333267211914,
          42.53666687011719,
          42.956668853759766,
          43.04666519165039,
          43.27333450317383,
          44.073333740234375,
          44.20000076293945,
          46.456668853759766,
          46.50666809082031,
          46.356666564941406,
          45.67333221435547,
          44.856666564941406,
          44.66666793823242,
          44.9900016784668,
          45.290000915527344,
          43.866668701171875
         ],
         "yaxis": "y"
        }
       ],
       "layout": {
        "legend": {
         "title": {
          "text": "variable"
         },
         "tracegroupgap": 0
        },
        "plot_bgcolor": "pink",
        "template": {
         "data": {
          "bar": [
           {
            "error_x": {
             "color": "#2a3f5f"
            },
            "error_y": {
             "color": "#2a3f5f"
            },
            "marker": {
             "line": {
              "color": "#E5ECF6",
              "width": 0.5
             },
             "pattern": {
              "fillmode": "overlay",
              "size": 10,
              "solidity": 0.2
             }
            },
            "type": "bar"
           }
          ],
          "barpolar": [
           {
            "marker": {
             "line": {
              "color": "#E5ECF6",
              "width": 0.5
             },
             "pattern": {
              "fillmode": "overlay",
              "size": 10,
              "solidity": 0.2
             }
            },
            "type": "barpolar"
           }
          ],
          "carpet": [
           {
            "aaxis": {
             "endlinecolor": "#2a3f5f",
             "gridcolor": "white",
             "linecolor": "white",
             "minorgridcolor": "white",
             "startlinecolor": "#2a3f5f"
            },
            "baxis": {
             "endlinecolor": "#2a3f5f",
             "gridcolor": "white",
             "linecolor": "white",
             "minorgridcolor": "white",
             "startlinecolor": "#2a3f5f"
            },
            "type": "carpet"
           }
          ],
          "choropleth": [
           {
            "colorbar": {
             "outlinewidth": 0,
             "ticks": ""
            },
            "type": "choropleth"
           }
          ],
          "contour": [
           {
            "colorbar": {
             "outlinewidth": 0,
             "ticks": ""
            },
            "colorscale": [
             [
              0,
              "#0d0887"
             ],
             [
              0.1111111111111111,
              "#46039f"
             ],
             [
              0.2222222222222222,
              "#7201a8"
             ],
             [
              0.3333333333333333,
              "#9c179e"
             ],
             [
              0.4444444444444444,
              "#bd3786"
             ],
             [
              0.5555555555555556,
              "#d8576b"
             ],
             [
              0.6666666666666666,
              "#ed7953"
             ],
             [
              0.7777777777777778,
              "#fb9f3a"
             ],
             [
              0.8888888888888888,
              "#fdca26"
             ],
             [
              1,
              "#f0f921"
             ]
            ],
            "type": "contour"
           }
          ],
          "contourcarpet": [
           {
            "colorbar": {
             "outlinewidth": 0,
             "ticks": ""
            },
            "type": "contourcarpet"
           }
          ],
          "heatmap": [
           {
            "colorbar": {
             "outlinewidth": 0,
             "ticks": ""
            },
            "colorscale": [
             [
              0,
              "#0d0887"
             ],
             [
              0.1111111111111111,
              "#46039f"
             ],
             [
              0.2222222222222222,
              "#7201a8"
             ],
             [
              0.3333333333333333,
              "#9c179e"
             ],
             [
              0.4444444444444444,
              "#bd3786"
             ],
             [
              0.5555555555555556,
              "#d8576b"
             ],
             [
              0.6666666666666666,
              "#ed7953"
             ],
             [
              0.7777777777777778,
              "#fb9f3a"
             ],
             [
              0.8888888888888888,
              "#fdca26"
             ],
             [
              1,
              "#f0f921"
             ]
            ],
            "type": "heatmap"
           }
          ],
          "heatmapgl": [
           {
            "colorbar": {
             "outlinewidth": 0,
             "ticks": ""
            },
            "colorscale": [
             [
              0,
              "#0d0887"
             ],
             [
              0.1111111111111111,
              "#46039f"
             ],
             [
              0.2222222222222222,
              "#7201a8"
             ],
             [
              0.3333333333333333,
              "#9c179e"
             ],
             [
              0.4444444444444444,
              "#bd3786"
             ],
             [
              0.5555555555555556,
              "#d8576b"
             ],
             [
              0.6666666666666666,
              "#ed7953"
             ],
             [
              0.7777777777777778,
              "#fb9f3a"
             ],
             [
              0.8888888888888888,
              "#fdca26"
             ],
             [
              1,
              "#f0f921"
             ]
            ],
            "type": "heatmapgl"
           }
          ],
          "histogram": [
           {
            "marker": {
             "pattern": {
              "fillmode": "overlay",
              "size": 10,
              "solidity": 0.2
             }
            },
            "type": "histogram"
           }
          ],
          "histogram2d": [
           {
            "colorbar": {
             "outlinewidth": 0,
             "ticks": ""
            },
            "colorscale": [
             [
              0,
              "#0d0887"
             ],
             [
              0.1111111111111111,
              "#46039f"
             ],
             [
              0.2222222222222222,
              "#7201a8"
             ],
             [
              0.3333333333333333,
              "#9c179e"
             ],
             [
              0.4444444444444444,
              "#bd3786"
             ],
             [
              0.5555555555555556,
              "#d8576b"
             ],
             [
              0.6666666666666666,
              "#ed7953"
             ],
             [
              0.7777777777777778,
              "#fb9f3a"
             ],
             [
              0.8888888888888888,
              "#fdca26"
             ],
             [
              1,
              "#f0f921"
             ]
            ],
            "type": "histogram2d"
           }
          ],
          "histogram2dcontour": [
           {
            "colorbar": {
             "outlinewidth": 0,
             "ticks": ""
            },
            "colorscale": [
             [
              0,
              "#0d0887"
             ],
             [
              0.1111111111111111,
              "#46039f"
             ],
             [
              0.2222222222222222,
              "#7201a8"
             ],
             [
              0.3333333333333333,
              "#9c179e"
             ],
             [
              0.4444444444444444,
              "#bd3786"
             ],
             [
              0.5555555555555556,
              "#d8576b"
             ],
             [
              0.6666666666666666,
              "#ed7953"
             ],
             [
              0.7777777777777778,
              "#fb9f3a"
             ],
             [
              0.8888888888888888,
              "#fdca26"
             ],
             [
              1,
              "#f0f921"
             ]
            ],
            "type": "histogram2dcontour"
           }
          ],
          "mesh3d": [
           {
            "colorbar": {
             "outlinewidth": 0,
             "ticks": ""
            },
            "type": "mesh3d"
           }
          ],
          "parcoords": [
           {
            "line": {
             "colorbar": {
              "outlinewidth": 0,
              "ticks": ""
             }
            },
            "type": "parcoords"
           }
          ],
          "pie": [
           {
            "automargin": true,
            "type": "pie"
           }
          ],
          "scatter": [
           {
            "fillpattern": {
             "fillmode": "overlay",
             "size": 10,
             "solidity": 0.2
            },
            "type": "scatter"
           }
          ],
          "scatter3d": [
           {
            "line": {
             "colorbar": {
              "outlinewidth": 0,
              "ticks": ""
             }
            },
            "marker": {
             "colorbar": {
              "outlinewidth": 0,
              "ticks": ""
             }
            },
            "type": "scatter3d"
           }
          ],
          "scattercarpet": [
           {
            "marker": {
             "colorbar": {
              "outlinewidth": 0,
              "ticks": ""
             }
            },
            "type": "scattercarpet"
           }
          ],
          "scattergeo": [
           {
            "marker": {
             "colorbar": {
              "outlinewidth": 0,
              "ticks": ""
             }
            },
            "type": "scattergeo"
           }
          ],
          "scattergl": [
           {
            "marker": {
             "colorbar": {
              "outlinewidth": 0,
              "ticks": ""
             }
            },
            "type": "scattergl"
           }
          ],
          "scattermapbox": [
           {
            "marker": {
             "colorbar": {
              "outlinewidth": 0,
              "ticks": ""
             }
            },
            "type": "scattermapbox"
           }
          ],
          "scatterpolar": [
           {
            "marker": {
             "colorbar": {
              "outlinewidth": 0,
              "ticks": ""
             }
            },
            "type": "scatterpolar"
           }
          ],
          "scatterpolargl": [
           {
            "marker": {
             "colorbar": {
              "outlinewidth": 0,
              "ticks": ""
             }
            },
            "type": "scatterpolargl"
           }
          ],
          "scatterternary": [
           {
            "marker": {
             "colorbar": {
              "outlinewidth": 0,
              "ticks": ""
             }
            },
            "type": "scatterternary"
           }
          ],
          "surface": [
           {
            "colorbar": {
             "outlinewidth": 0,
             "ticks": ""
            },
            "colorscale": [
             [
              0,
              "#0d0887"
             ],
             [
              0.1111111111111111,
              "#46039f"
             ],
             [
              0.2222222222222222,
              "#7201a8"
             ],
             [
              0.3333333333333333,
              "#9c179e"
             ],
             [
              0.4444444444444444,
              "#bd3786"
             ],
             [
              0.5555555555555556,
              "#d8576b"
             ],
             [
              0.6666666666666666,
              "#ed7953"
             ],
             [
              0.7777777777777778,
              "#fb9f3a"
             ],
             [
              0.8888888888888888,
              "#fdca26"
             ],
             [
              1,
              "#f0f921"
             ]
            ],
            "type": "surface"
           }
          ],
          "table": [
           {
            "cells": {
             "fill": {
              "color": "#EBF0F8"
             },
             "line": {
              "color": "white"
             }
            },
            "header": {
             "fill": {
              "color": "#C8D4E3"
             },
             "line": {
              "color": "white"
             }
            },
            "type": "table"
           }
          ]
         },
         "layout": {
          "annotationdefaults": {
           "arrowcolor": "#2a3f5f",
           "arrowhead": 0,
           "arrowwidth": 1
          },
          "autotypenumbers": "strict",
          "coloraxis": {
           "colorbar": {
            "outlinewidth": 0,
            "ticks": ""
           }
          },
          "colorscale": {
           "diverging": [
            [
             0,
             "#8e0152"
            ],
            [
             0.1,
             "#c51b7d"
            ],
            [
             0.2,
             "#de77ae"
            ],
            [
             0.3,
             "#f1b6da"
            ],
            [
             0.4,
             "#fde0ef"
            ],
            [
             0.5,
             "#f7f7f7"
            ],
            [
             0.6,
             "#e6f5d0"
            ],
            [
             0.7,
             "#b8e186"
            ],
            [
             0.8,
             "#7fbc41"
            ],
            [
             0.9,
             "#4d9221"
            ],
            [
             1,
             "#276419"
            ]
           ],
           "sequential": [
            [
             0,
             "#0d0887"
            ],
            [
             0.1111111111111111,
             "#46039f"
            ],
            [
             0.2222222222222222,
             "#7201a8"
            ],
            [
             0.3333333333333333,
             "#9c179e"
            ],
            [
             0.4444444444444444,
             "#bd3786"
            ],
            [
             0.5555555555555556,
             "#d8576b"
            ],
            [
             0.6666666666666666,
             "#ed7953"
            ],
            [
             0.7777777777777778,
             "#fb9f3a"
            ],
            [
             0.8888888888888888,
             "#fdca26"
            ],
            [
             1,
             "#f0f921"
            ]
           ],
           "sequentialminus": [
            [
             0,
             "#0d0887"
            ],
            [
             0.1111111111111111,
             "#46039f"
            ],
            [
             0.2222222222222222,
             "#7201a8"
            ],
            [
             0.3333333333333333,
             "#9c179e"
            ],
            [
             0.4444444444444444,
             "#bd3786"
            ],
            [
             0.5555555555555556,
             "#d8576b"
            ],
            [
             0.6666666666666666,
             "#ed7953"
            ],
            [
             0.7777777777777778,
             "#fb9f3a"
            ],
            [
             0.8888888888888888,
             "#fdca26"
            ],
            [
             1,
             "#f0f921"
            ]
           ]
          },
          "colorway": [
           "#636efa",
           "#EF553B",
           "#00cc96",
           "#ab63fa",
           "#FFA15A",
           "#19d3f3",
           "#FF6692",
           "#B6E880",
           "#FF97FF",
           "#FECB52"
          ],
          "font": {
           "color": "#2a3f5f"
          },
          "geo": {
           "bgcolor": "white",
           "lakecolor": "white",
           "landcolor": "#E5ECF6",
           "showlakes": true,
           "showland": true,
           "subunitcolor": "white"
          },
          "hoverlabel": {
           "align": "left"
          },
          "hovermode": "closest",
          "mapbox": {
           "style": "light"
          },
          "paper_bgcolor": "white",
          "plot_bgcolor": "#E5ECF6",
          "polar": {
           "angularaxis": {
            "gridcolor": "white",
            "linecolor": "white",
            "ticks": ""
           },
           "bgcolor": "#E5ECF6",
           "radialaxis": {
            "gridcolor": "white",
            "linecolor": "white",
            "ticks": ""
           }
          },
          "scene": {
           "xaxis": {
            "backgroundcolor": "#E5ECF6",
            "gridcolor": "white",
            "gridwidth": 2,
            "linecolor": "white",
            "showbackground": true,
            "ticks": "",
            "zerolinecolor": "white"
           },
           "yaxis": {
            "backgroundcolor": "#E5ECF6",
            "gridcolor": "white",
            "gridwidth": 2,
            "linecolor": "white",
            "showbackground": true,
            "ticks": "",
            "zerolinecolor": "white"
           },
           "zaxis": {
            "backgroundcolor": "#E5ECF6",
            "gridcolor": "white",
            "gridwidth": 2,
            "linecolor": "white",
            "showbackground": true,
            "ticks": "",
            "zerolinecolor": "white"
           }
          },
          "shapedefaults": {
           "line": {
            "color": "#2a3f5f"
           }
          },
          "ternary": {
           "aaxis": {
            "gridcolor": "white",
            "linecolor": "white",
            "ticks": ""
           },
           "baxis": {
            "gridcolor": "white",
            "linecolor": "white",
            "ticks": ""
           },
           "bgcolor": "#E5ECF6",
           "caxis": {
            "gridcolor": "white",
            "linecolor": "white",
            "ticks": ""
           }
          },
          "title": {
           "x": 0.05
          },
          "xaxis": {
           "automargin": true,
           "gridcolor": "white",
           "linecolor": "white",
           "ticks": "",
           "title": {
            "standoff": 15
           },
           "zerolinecolor": "white",
           "zerolinewidth": 2
          },
          "yaxis": {
           "automargin": true,
           "gridcolor": "white",
           "linecolor": "white",
           "ticks": "",
           "title": {
            "standoff": 15
           },
           "zerolinecolor": "white",
           "zerolinewidth": 2
          }
         }
        },
        "title": {
         "font": {
          "size": 24
         },
         "text": "Walmart Inc."
        },
        "xaxis": {
         "anchor": "y",
         "domain": [
          0,
          1
         ],
         "gridcolor": "red",
         "gridwidth": 1,
         "showgrid": true,
         "title": {
          "text": "date"
         }
        },
        "yaxis": {
         "anchor": "x",
         "domain": [
          0,
          1
         ],
         "gridcolor": "red",
         "gridwidth": 1,
         "range": [
          0,
          100
         ],
         "showgrid": true,
         "title": {
          "text": "value"
         }
        }
       }
      },
      "text/html": [
       "<div>                            <div id=\"bf13c584-fb21-4926-9004-689b81603160\" class=\"plotly-graph-div\" style=\"height:525px; width:100%;\"></div>            <script type=\"text/javascript\">                require([\"plotly\"], function(Plotly) {                    window.PLOTLYENV=window.PLOTLYENV || {};                                    if (document.getElementById(\"bf13c584-fb21-4926-9004-689b81603160\")) {                    Plotly.newPlot(                        \"bf13c584-fb21-4926-9004-689b81603160\",                        [{\"fillpattern\":{\"shape\":\"\"},\"hovertemplate\":\"variable=Walmart\\u003cbr\\u003edate=%{x}\\u003cbr\\u003evalue=%{y}\\u003cextra\\u003e\\u003c\\u002fextra\\u003e\",\"legendgroup\":\"Walmart\",\"line\":{\"color\":\"red\",\"width\":2},\"marker\":{\"symbol\":\"circle\"},\"mode\":\"lines\",\"name\":\"Walmart\",\"orientation\":\"v\",\"showlegend\":true,\"stackgroup\":\"1\",\"x\":[\"2020-02-18T00:00:00\",\"2020-02-19T00:00:00\",\"2020-02-20T00:00:00\",\"2020-02-21T00:00:00\",\"2020-02-24T00:00:00\",\"2020-02-25T00:00:00\",\"2020-02-26T00:00:00\",\"2020-02-27T00:00:00\",\"2020-02-28T00:00:00\",\"2020-03-02T00:00:00\",\"2020-03-03T00:00:00\",\"2020-03-04T00:00:00\",\"2020-03-05T00:00:00\",\"2020-03-06T00:00:00\",\"2020-03-09T00:00:00\",\"2020-03-10T00:00:00\",\"2020-03-11T00:00:00\",\"2020-03-12T00:00:00\",\"2020-03-13T00:00:00\",\"2020-03-16T00:00:00\",\"2020-03-17T00:00:00\",\"2020-03-18T00:00:00\",\"2020-03-19T00:00:00\",\"2020-03-20T00:00:00\",\"2020-03-23T00:00:00\",\"2020-03-24T00:00:00\",\"2020-03-25T00:00:00\",\"2020-03-26T00:00:00\",\"2020-03-27T00:00:00\",\"2020-03-30T00:00:00\",\"2020-03-31T00:00:00\",\"2020-04-01T00:00:00\",\"2020-04-02T00:00:00\",\"2020-04-03T00:00:00\",\"2020-04-06T00:00:00\",\"2020-04-07T00:00:00\",\"2020-04-08T00:00:00\",\"2020-04-09T00:00:00\",\"2020-04-13T00:00:00\",\"2020-04-14T00:00:00\",\"2020-04-15T00:00:00\",\"2020-04-16T00:00:00\",\"2020-04-17T00:00:00\",\"2020-04-20T00:00:00\",\"2020-04-21T00:00:00\",\"2020-04-22T00:00:00\",\"2020-04-23T00:00:00\",\"2020-04-24T00:00:00\",\"2020-04-27T00:00:00\",\"2020-04-28T00:00:00\",\"2020-04-29T00:00:00\",\"2020-04-30T00:00:00\",\"2020-05-01T00:00:00\",\"2020-05-04T00:00:00\",\"2020-05-05T00:00:00\",\"2020-05-06T00:00:00\",\"2020-05-07T00:00:00\",\"2020-05-08T00:00:00\",\"2020-05-11T00:00:00\",\"2020-05-12T00:00:00\",\"2020-05-13T00:00:00\",\"2020-05-14T00:00:00\",\"2020-05-15T00:00:00\",\"2020-05-18T00:00:00\",\"2020-05-19T00:00:00\",\"2020-05-20T00:00:00\",\"2020-05-21T00:00:00\",\"2020-05-22T00:00:00\",\"2020-05-26T00:00:00\",\"2020-05-27T00:00:00\",\"2020-05-28T00:00:00\",\"2020-05-29T00:00:00\",\"2020-06-01T00:00:00\",\"2020-06-02T00:00:00\",\"2020-06-03T00:00:00\",\"2020-06-04T00:00:00\",\"2020-06-05T00:00:00\",\"2020-06-08T00:00:00\",\"2020-06-09T00:00:00\",\"2020-06-10T00:00:00\",\"2020-06-11T00:00:00\",\"2020-06-12T00:00:00\",\"2020-06-15T00:00:00\",\"2020-06-16T00:00:00\",\"2020-06-17T00:00:00\",\"2020-06-18T00:00:00\",\"2020-06-19T00:00:00\",\"2020-06-22T00:00:00\",\"2020-06-23T00:00:00\",\"2020-06-24T00:00:00\",\"2020-06-25T00:00:00\",\"2020-06-26T00:00:00\",\"2020-06-29T00:00:00\",\"2020-06-30T00:00:00\",\"2020-07-01T00:00:00\",\"2020-07-02T00:00:00\",\"2020-07-06T00:00:00\",\"2020-07-07T00:00:00\",\"2020-07-08T00:00:00\",\"2020-07-09T00:00:00\",\"2020-07-10T00:00:00\",\"2020-07-13T00:00:00\",\"2020-07-14T00:00:00\",\"2020-07-15T00:00:00\",\"2020-07-16T00:00:00\",\"2020-07-17T00:00:00\",\"2020-07-20T00:00:00\",\"2020-07-21T00:00:00\",\"2020-07-22T00:00:00\",\"2020-07-23T00:00:00\",\"2020-07-24T00:00:00\",\"2020-07-27T00:00:00\",\"2020-07-28T00:00:00\",\"2020-07-29T00:00:00\",\"2020-07-30T00:00:00\",\"2020-07-31T00:00:00\",\"2020-08-03T00:00:00\",\"2020-08-04T00:00:00\",\"2020-08-05T00:00:00\",\"2020-08-06T00:00:00\",\"2020-08-07T00:00:00\",\"2020-08-10T00:00:00\",\"2020-08-11T00:00:00\",\"2020-08-12T00:00:00\",\"2020-08-13T00:00:00\",\"2020-08-14T00:00:00\",\"2020-08-17T00:00:00\",\"2020-08-18T00:00:00\",\"2020-08-19T00:00:00\",\"2020-08-20T00:00:00\",\"2020-08-21T00:00:00\",\"2020-08-24T00:00:00\",\"2020-08-25T00:00:00\",\"2020-08-26T00:00:00\",\"2020-08-27T00:00:00\",\"2020-08-28T00:00:00\",\"2020-08-31T00:00:00\",\"2020-09-01T00:00:00\",\"2020-09-02T00:00:00\",\"2020-09-03T00:00:00\",\"2020-09-04T00:00:00\",\"2020-09-08T00:00:00\",\"2020-09-09T00:00:00\",\"2020-09-10T00:00:00\",\"2020-09-11T00:00:00\",\"2020-09-14T00:00:00\",\"2020-09-15T00:00:00\",\"2020-09-16T00:00:00\",\"2020-09-17T00:00:00\",\"2020-09-18T00:00:00\",\"2020-09-21T00:00:00\",\"2020-09-22T00:00:00\",\"2020-09-23T00:00:00\",\"2020-09-24T00:00:00\",\"2020-09-25T00:00:00\",\"2020-09-28T00:00:00\",\"2020-09-29T00:00:00\",\"2020-09-30T00:00:00\",\"2020-10-01T00:00:00\",\"2020-10-02T00:00:00\",\"2020-10-05T00:00:00\",\"2020-10-06T00:00:00\",\"2020-10-07T00:00:00\",\"2020-10-08T00:00:00\",\"2020-10-09T00:00:00\",\"2020-10-12T00:00:00\",\"2020-10-13T00:00:00\",\"2020-10-14T00:00:00\",\"2020-10-15T00:00:00\",\"2020-10-16T00:00:00\",\"2020-10-19T00:00:00\",\"2020-10-20T00:00:00\",\"2020-10-21T00:00:00\",\"2020-10-22T00:00:00\",\"2020-10-23T00:00:00\",\"2020-10-26T00:00:00\",\"2020-10-27T00:00:00\",\"2020-10-28T00:00:00\",\"2020-10-29T00:00:00\",\"2020-10-30T00:00:00\",\"2020-11-02T00:00:00\",\"2020-11-03T00:00:00\",\"2020-11-04T00:00:00\",\"2020-11-05T00:00:00\",\"2020-11-06T00:00:00\",\"2020-11-09T00:00:00\",\"2020-11-10T00:00:00\",\"2020-11-11T00:00:00\",\"2020-11-12T00:00:00\",\"2020-11-13T00:00:00\",\"2020-11-16T00:00:00\",\"2020-11-17T00:00:00\",\"2020-11-18T00:00:00\",\"2020-11-19T00:00:00\",\"2020-11-20T00:00:00\",\"2020-11-23T00:00:00\",\"2020-11-24T00:00:00\",\"2020-11-25T00:00:00\",\"2020-11-27T00:00:00\",\"2020-11-30T00:00:00\",\"2020-12-01T00:00:00\",\"2020-12-02T00:00:00\",\"2020-12-03T00:00:00\",\"2020-12-04T00:00:00\",\"2020-12-07T00:00:00\",\"2020-12-08T00:00:00\",\"2020-12-09T00:00:00\",\"2020-12-10T00:00:00\",\"2020-12-11T00:00:00\",\"2020-12-14T00:00:00\",\"2020-12-15T00:00:00\",\"2020-12-16T00:00:00\",\"2020-12-17T00:00:00\",\"2020-12-18T00:00:00\",\"2020-12-21T00:00:00\",\"2020-12-22T00:00:00\",\"2020-12-23T00:00:00\",\"2020-12-24T00:00:00\",\"2020-12-28T00:00:00\",\"2020-12-29T00:00:00\",\"2020-12-30T00:00:00\",\"2020-12-31T00:00:00\",\"2021-01-04T00:00:00\",\"2021-01-05T00:00:00\",\"2021-01-06T00:00:00\",\"2021-01-07T00:00:00\",\"2021-01-08T00:00:00\",\"2021-01-11T00:00:00\",\"2021-01-12T00:00:00\",\"2021-01-13T00:00:00\",\"2021-01-14T00:00:00\",\"2021-01-15T00:00:00\",\"2021-01-19T00:00:00\",\"2021-01-20T00:00:00\",\"2021-01-21T00:00:00\",\"2021-01-22T00:00:00\",\"2021-01-25T00:00:00\",\"2021-01-26T00:00:00\",\"2021-01-27T00:00:00\",\"2021-01-28T00:00:00\",\"2021-01-29T00:00:00\",\"2021-02-01T00:00:00\",\"2021-02-02T00:00:00\",\"2021-02-03T00:00:00\",\"2021-02-04T00:00:00\",\"2021-02-05T00:00:00\",\"2021-02-08T00:00:00\",\"2021-02-09T00:00:00\",\"2021-02-10T00:00:00\",\"2021-02-11T00:00:00\",\"2021-02-12T00:00:00\",\"2021-02-16T00:00:00\",\"2021-02-17T00:00:00\",\"2021-02-18T00:00:00\",\"2021-02-19T00:00:00\",\"2021-02-22T00:00:00\",\"2021-02-23T00:00:00\",\"2021-02-24T00:00:00\",\"2021-02-25T00:00:00\",\"2021-02-26T00:00:00\",\"2021-03-01T00:00:00\",\"2021-03-02T00:00:00\",\"2021-03-03T00:00:00\",\"2021-03-04T00:00:00\",\"2021-03-05T00:00:00\",\"2021-03-08T00:00:00\",\"2021-03-09T00:00:00\",\"2021-03-10T00:00:00\",\"2021-03-11T00:00:00\",\"2021-03-12T00:00:00\",\"2021-03-15T00:00:00\",\"2021-03-16T00:00:00\",\"2021-03-17T00:00:00\",\"2021-03-18T00:00:00\",\"2021-03-19T00:00:00\",\"2021-03-22T00:00:00\",\"2021-03-23T00:00:00\",\"2021-03-24T00:00:00\",\"2021-03-25T00:00:00\",\"2021-03-26T00:00:00\",\"2021-03-29T00:00:00\",\"2021-03-30T00:00:00\",\"2021-03-31T00:00:00\",\"2021-04-01T00:00:00\",\"2021-04-05T00:00:00\",\"2021-04-06T00:00:00\",\"2021-04-07T00:00:00\",\"2021-04-08T00:00:00\",\"2021-04-09T00:00:00\",\"2021-04-12T00:00:00\",\"2021-04-13T00:00:00\",\"2021-04-14T00:00:00\",\"2021-04-15T00:00:00\",\"2021-04-16T00:00:00\",\"2021-04-19T00:00:00\",\"2021-04-20T00:00:00\",\"2021-04-21T00:00:00\",\"2021-04-22T00:00:00\",\"2021-04-23T00:00:00\",\"2021-04-26T00:00:00\",\"2021-04-27T00:00:00\",\"2021-04-28T00:00:00\",\"2021-04-29T00:00:00\",\"2021-04-30T00:00:00\",\"2021-05-03T00:00:00\",\"2021-05-04T00:00:00\",\"2021-05-05T00:00:00\",\"2021-05-06T00:00:00\",\"2021-05-07T00:00:00\",\"2021-05-10T00:00:00\",\"2021-05-11T00:00:00\",\"2021-05-12T00:00:00\",\"2021-05-13T00:00:00\",\"2021-05-14T00:00:00\",\"2021-05-17T00:00:00\",\"2021-05-18T00:00:00\",\"2021-05-19T00:00:00\",\"2021-05-20T00:00:00\",\"2021-05-21T00:00:00\",\"2021-05-24T00:00:00\",\"2021-05-25T00:00:00\",\"2021-05-26T00:00:00\",\"2021-05-27T00:00:00\",\"2021-05-28T00:00:00\",\"2021-06-01T00:00:00\",\"2021-06-02T00:00:00\",\"2021-06-03T00:00:00\",\"2021-06-04T00:00:00\",\"2021-06-07T00:00:00\",\"2021-06-08T00:00:00\",\"2021-06-09T00:00:00\",\"2021-06-10T00:00:00\",\"2021-06-11T00:00:00\",\"2021-06-14T00:00:00\",\"2021-06-15T00:00:00\",\"2021-06-16T00:00:00\",\"2021-06-17T00:00:00\",\"2021-06-18T00:00:00\",\"2021-06-21T00:00:00\",\"2021-06-22T00:00:00\",\"2021-06-23T00:00:00\",\"2021-06-24T00:00:00\",\"2021-06-25T00:00:00\",\"2021-06-28T00:00:00\",\"2021-06-29T00:00:00\",\"2021-06-30T00:00:00\",\"2021-07-01T00:00:00\",\"2021-07-02T00:00:00\",\"2021-07-06T00:00:00\",\"2021-07-07T00:00:00\",\"2021-07-08T00:00:00\",\"2021-07-09T00:00:00\",\"2021-07-12T00:00:00\",\"2021-07-13T00:00:00\",\"2021-07-14T00:00:00\",\"2021-07-15T00:00:00\",\"2021-07-16T00:00:00\",\"2021-07-19T00:00:00\",\"2021-07-20T00:00:00\",\"2021-07-21T00:00:00\",\"2021-07-22T00:00:00\",\"2021-07-23T00:00:00\",\"2021-07-26T00:00:00\",\"2021-07-27T00:00:00\",\"2021-07-28T00:00:00\",\"2021-07-29T00:00:00\",\"2021-07-30T00:00:00\",\"2021-08-02T00:00:00\",\"2021-08-03T00:00:00\",\"2021-08-04T00:00:00\",\"2021-08-05T00:00:00\",\"2021-08-06T00:00:00\",\"2021-08-09T00:00:00\",\"2021-08-10T00:00:00\",\"2021-08-11T00:00:00\",\"2021-08-12T00:00:00\",\"2021-08-13T00:00:00\",\"2021-08-16T00:00:00\",\"2021-08-17T00:00:00\",\"2021-08-18T00:00:00\",\"2021-08-19T00:00:00\",\"2021-08-20T00:00:00\",\"2021-08-23T00:00:00\",\"2021-08-24T00:00:00\",\"2021-08-25T00:00:00\",\"2021-08-26T00:00:00\",\"2021-08-27T00:00:00\",\"2021-08-30T00:00:00\",\"2021-08-31T00:00:00\",\"2021-09-01T00:00:00\",\"2021-09-02T00:00:00\",\"2021-09-03T00:00:00\",\"2021-09-07T00:00:00\",\"2021-09-08T00:00:00\",\"2021-09-09T00:00:00\",\"2021-09-10T00:00:00\",\"2021-09-13T00:00:00\",\"2021-09-14T00:00:00\",\"2021-09-15T00:00:00\",\"2021-09-16T00:00:00\",\"2021-09-17T00:00:00\",\"2021-09-20T00:00:00\",\"2021-09-21T00:00:00\",\"2021-09-22T00:00:00\",\"2021-09-23T00:00:00\",\"2021-09-24T00:00:00\",\"2021-09-27T00:00:00\",\"2021-09-28T00:00:00\",\"2021-09-29T00:00:00\",\"2021-09-30T00:00:00\",\"2021-10-01T00:00:00\",\"2021-10-04T00:00:00\",\"2021-10-05T00:00:00\",\"2021-10-06T00:00:00\",\"2021-10-07T00:00:00\",\"2021-10-08T00:00:00\",\"2021-10-11T00:00:00\",\"2021-10-12T00:00:00\",\"2021-10-13T00:00:00\",\"2021-10-14T00:00:00\",\"2021-10-15T00:00:00\",\"2021-10-18T00:00:00\",\"2021-10-19T00:00:00\",\"2021-10-20T00:00:00\",\"2021-10-21T00:00:00\",\"2021-10-22T00:00:00\",\"2021-10-25T00:00:00\",\"2021-10-26T00:00:00\",\"2021-10-27T00:00:00\",\"2021-10-28T00:00:00\",\"2021-10-29T00:00:00\",\"2021-11-01T00:00:00\",\"2021-11-02T00:00:00\",\"2021-11-03T00:00:00\",\"2021-11-04T00:00:00\",\"2021-11-05T00:00:00\",\"2021-11-08T00:00:00\",\"2021-11-09T00:00:00\",\"2021-11-10T00:00:00\",\"2021-11-11T00:00:00\",\"2021-11-12T00:00:00\",\"2021-11-15T00:00:00\",\"2021-11-16T00:00:00\",\"2021-11-17T00:00:00\",\"2021-11-18T00:00:00\",\"2021-11-19T00:00:00\",\"2021-11-22T00:00:00\",\"2021-11-23T00:00:00\",\"2021-11-24T00:00:00\",\"2021-11-26T00:00:00\",\"2021-11-29T00:00:00\",\"2021-11-30T00:00:00\",\"2021-12-01T00:00:00\",\"2021-12-02T00:00:00\",\"2021-12-03T00:00:00\",\"2021-12-06T00:00:00\",\"2021-12-07T00:00:00\",\"2021-12-08T00:00:00\",\"2021-12-09T00:00:00\",\"2021-12-10T00:00:00\",\"2021-12-13T00:00:00\",\"2021-12-14T00:00:00\",\"2021-12-15T00:00:00\",\"2021-12-16T00:00:00\",\"2021-12-17T00:00:00\",\"2021-12-20T00:00:00\",\"2021-12-21T00:00:00\",\"2021-12-22T00:00:00\",\"2021-12-23T00:00:00\",\"2021-12-27T00:00:00\",\"2021-12-28T00:00:00\",\"2021-12-29T00:00:00\",\"2021-12-30T00:00:00\",\"2021-12-31T00:00:00\",\"2022-01-03T00:00:00\",\"2022-01-04T00:00:00\",\"2022-01-05T00:00:00\",\"2022-01-06T00:00:00\",\"2022-01-07T00:00:00\",\"2022-01-10T00:00:00\",\"2022-01-11T00:00:00\",\"2022-01-12T00:00:00\",\"2022-01-13T00:00:00\",\"2022-01-14T00:00:00\",\"2022-01-18T00:00:00\",\"2022-01-19T00:00:00\",\"2022-01-20T00:00:00\",\"2022-01-21T00:00:00\",\"2022-01-24T00:00:00\",\"2022-01-25T00:00:00\",\"2022-01-26T00:00:00\",\"2022-01-27T00:00:00\",\"2022-01-28T00:00:00\",\"2022-01-31T00:00:00\",\"2022-02-01T00:00:00\",\"2022-02-02T00:00:00\",\"2022-02-03T00:00:00\",\"2022-02-04T00:00:00\",\"2022-02-07T00:00:00\",\"2022-02-08T00:00:00\",\"2022-02-09T00:00:00\",\"2022-02-10T00:00:00\",\"2022-02-11T00:00:00\",\"2022-02-14T00:00:00\",\"2022-02-15T00:00:00\",\"2022-02-16T00:00:00\",\"2022-02-17T00:00:00\",\"2022-02-18T00:00:00\",\"2022-02-22T00:00:00\",\"2022-02-23T00:00:00\",\"2022-02-24T00:00:00\",\"2022-02-25T00:00:00\",\"2022-02-28T00:00:00\",\"2022-03-01T00:00:00\",\"2022-03-02T00:00:00\",\"2022-03-03T00:00:00\",\"2022-03-04T00:00:00\",\"2022-03-07T00:00:00\",\"2022-03-08T00:00:00\",\"2022-03-09T00:00:00\",\"2022-03-10T00:00:00\",\"2022-03-11T00:00:00\",\"2022-03-14T00:00:00\",\"2022-03-15T00:00:00\",\"2022-03-16T00:00:00\",\"2022-03-17T00:00:00\",\"2022-03-18T00:00:00\",\"2022-03-21T00:00:00\",\"2022-03-22T00:00:00\",\"2022-03-23T00:00:00\",\"2022-03-24T00:00:00\",\"2022-03-25T00:00:00\",\"2022-03-28T00:00:00\",\"2022-03-29T00:00:00\",\"2022-03-30T00:00:00\",\"2022-03-31T00:00:00\",\"2022-04-01T00:00:00\",\"2022-04-04T00:00:00\",\"2022-04-05T00:00:00\",\"2022-04-06T00:00:00\",\"2022-04-07T00:00:00\",\"2022-04-08T00:00:00\",\"2022-04-11T00:00:00\",\"2022-04-12T00:00:00\",\"2022-04-13T00:00:00\",\"2022-04-14T00:00:00\",\"2022-04-18T00:00:00\",\"2022-04-19T00:00:00\",\"2022-04-20T00:00:00\",\"2022-04-21T00:00:00\",\"2022-04-22T00:00:00\",\"2022-04-25T00:00:00\",\"2022-04-26T00:00:00\",\"2022-04-27T00:00:00\",\"2022-04-28T00:00:00\",\"2022-04-29T00:00:00\",\"2022-05-02T00:00:00\",\"2022-05-03T00:00:00\",\"2022-05-04T00:00:00\",\"2022-05-05T00:00:00\",\"2022-05-06T00:00:00\",\"2022-05-09T00:00:00\",\"2022-05-10T00:00:00\",\"2022-05-11T00:00:00\",\"2022-05-12T00:00:00\",\"2022-05-13T00:00:00\",\"2022-05-16T00:00:00\",\"2022-05-17T00:00:00\",\"2022-05-18T00:00:00\",\"2022-05-19T00:00:00\",\"2022-05-20T00:00:00\",\"2022-05-23T00:00:00\",\"2022-05-24T00:00:00\",\"2022-05-25T00:00:00\",\"2022-05-26T00:00:00\",\"2022-05-27T00:00:00\",\"2022-05-31T00:00:00\",\"2022-06-01T00:00:00\",\"2022-06-02T00:00:00\",\"2022-06-03T00:00:00\",\"2022-06-06T00:00:00\",\"2022-06-07T00:00:00\",\"2022-06-08T00:00:00\",\"2022-06-09T00:00:00\",\"2022-06-10T00:00:00\",\"2022-06-13T00:00:00\",\"2022-06-14T00:00:00\",\"2022-06-15T00:00:00\",\"2022-06-16T00:00:00\",\"2022-06-17T00:00:00\",\"2022-06-21T00:00:00\",\"2022-06-22T00:00:00\",\"2022-06-23T00:00:00\",\"2022-06-24T00:00:00\",\"2022-06-27T00:00:00\",\"2022-06-28T00:00:00\",\"2022-06-29T00:00:00\",\"2022-06-30T00:00:00\",\"2022-07-01T00:00:00\",\"2022-07-05T00:00:00\",\"2022-07-06T00:00:00\",\"2022-07-07T00:00:00\",\"2022-07-08T00:00:00\",\"2022-07-11T00:00:00\",\"2022-07-12T00:00:00\",\"2022-07-13T00:00:00\",\"2022-07-14T00:00:00\",\"2022-07-15T00:00:00\",\"2022-07-18T00:00:00\",\"2022-07-19T00:00:00\",\"2022-07-20T00:00:00\",\"2022-07-21T00:00:00\",\"2022-07-22T00:00:00\",\"2022-07-25T00:00:00\",\"2022-07-26T00:00:00\",\"2022-07-27T00:00:00\",\"2022-07-28T00:00:00\",\"2022-07-29T00:00:00\",\"2022-08-01T00:00:00\",\"2022-08-02T00:00:00\",\"2022-08-03T00:00:00\",\"2022-08-04T00:00:00\",\"2022-08-05T00:00:00\",\"2022-08-08T00:00:00\",\"2022-08-09T00:00:00\",\"2022-08-10T00:00:00\",\"2022-08-11T00:00:00\",\"2022-08-12T00:00:00\",\"2022-08-15T00:00:00\",\"2022-08-16T00:00:00\",\"2022-08-17T00:00:00\",\"2022-08-18T00:00:00\",\"2022-08-19T00:00:00\",\"2022-08-22T00:00:00\",\"2022-08-23T00:00:00\",\"2022-08-24T00:00:00\",\"2022-08-25T00:00:00\",\"2022-08-26T00:00:00\"],\"xaxis\":\"x\",\"y\":[39.87666702270508,39.22666549682617,39.22999954223633,39.526668548583984,38.77333450317383,38.130001068115234,37.926666259765625,36.79999923706055,35.893333435058594,38.62666702270508,37.63666534423828,38.92333221435547,38.63999938964844,39.07666778564453,39.0533332824707,39.93000030517578,38.143333435058594,34.68333435058594,38.03333282470703,35.586666107177734,39.753334045410156,40.86000061035156,39.81666564941406,37.9900016784668,38.09333419799805,38.34333419799805,36.46666717529297,36.606666564941406,36.526668548583984,38.39666748046875,37.87333297729492,38.04666519165039,39.54999923706055,39.82666778564453,42.02333450317383,40.663333892822266,40.61333465576172,40.599998474121094,41.766666412353516,43.0,42.91999816894531,44.11000061035156,44.040000915527344,43.28333282470703,43.06999969482422,43.86333465576172,42.84333419799805,43.14666748046875,42.766666412353516,42.66666793823242,41.20000076293945,40.516666412353516,40.973331451416016,41.233333587646484,41.57666778564453,41.099998474121094,40.630001068115234,40.97999954223633,41.223331451416016,41.2599983215332,41.23666763305664,41.13999938964844,41.97999954223633,42.5533332824707,41.650001525878906,41.81666564941406,41.663333892822266,41.44333267211914,41.28666687011719,40.82666778564453,41.22999954223633,41.35333251953125,41.31999969482422,41.313331604003906,41.15666580200195,40.70333480834961,40.52000045776367,40.413333892822266,40.45000076293945,40.38666534423828,40.029998779296875,39.246665954589844,39.36000061035156,39.883331298828125,39.676666259765625,39.33000183105469,39.95000076293945,40.560001373291016,40.356666564941406,40.099998474121094,39.9033317565918,39.439998626708984,39.686668395996094,39.926666259765625,39.89666748046875,39.73666763305664,39.630001068115234,42.31666564941406,41.47999954223633,42.58333206176758,43.560001373291016,43.17333221435547,44.003334045410156,44.0,44.06666564941406,43.913333892822266,43.823333740234375,44.11000061035156,44.220001220703125,43.880001068115234,43.746665954589844,43.73666763305664,43.91999816894531,43.563331604003906,43.37333297729492,43.133331298828125,43.099998474121094,43.880001068115234,43.27000045776367,43.116668701171875,43.323333740234375,43.959999084472656,43.400001525878906,43.96333312988281,43.95000076293945,44.20000076293945,45.20000076293945,44.9033317565918,44.13666534423828,43.52333450317383,43.87666702270508,43.776668548583984,43.543331146240234,43.56666564941406,45.543331146240234,46.766666412353516,46.28333282470703,49.1966667175293,49.22666549682617,48.18000030517578,47.61000061035156,46.150001525878906,46.630001068115234,45.60333251953125,45.56666564941406,45.77333450317383,45.78666687011719,45.41999816894531,45.563331604003906,45.0966682434082,45.689998626708984,46.10333251953125,45.33000183105469,45.56666564941406,45.75666809082031,45.75,45.71333312988281,46.63666534423828,47.69333267211914,46.83333206176758,47.266666412353516,46.87666702270508,46.96333312988281,47.119998931884766,47.59333419799805,48.08333206176758,48.74333190917969,47.97999954223633,48.176666259765625,48.23666763305664,47.650001525878906,47.96666717529297,48.133331298828125,47.849998474121094,47.95000076293945,47.38666534423828,47.62333297729492,46.68000030517578,46.63999938964844,46.25,46.79999923706055,47.59333419799805,47.31999969482422,47.823333740234375,48.59000015258789,47.8466682434082,48.52000045776367,49.32666778564453,49.40999984741211,50.18000030517578,50.813331604003906,49.790000915527344,49.6966667175293,50.706668853759766,50.08000183105469,50.310001373291016,50.45333480834961,50.61000061035156,50.53333282470703,50.93000030517578,50.880001068115234,50.17333221435547,49.766666412353516,49.63666534423828,49.369998931884766,49.81666564941406,49.42333221435547,49.01333236694336,49.0,48.54999923706055,48.526668548583984,48.47666549682617,48.70000076293945,48.650001525878906,48.65666580200195,48.06666564941406,47.7400016784668,47.83333206176758,48.40666580200195,48.099998474121094,48.060001373291016,48.04999923706055,48.84333419799805,48.58333206176758,48.88666534423828,48.883331298828125,48.87666702270508,49.0966682434082,49.65666580200195,49.150001525878906,48.9900016784668,48.21333312988281,47.79666519165039,48.503334045410156,48.28333282470703,48.776668548583984,48.733333587646484,49.16999816894531,47.9466667175293,47.91666793823242,46.83000183105469,46.42333221435547,46.92333221435547,47.06666564941406,47.5099983215332,48.119998931884766,48.34333419799805,48.61000061035156,48.043331146240234,48.00666809082031,48.15666580200195,48.5533332824707,49.06666564941406,45.88666534423828,46.11333465576172,45.89666748046875,45.15666580200195,44.4033317565918,43.983333587646484,43.30666732788086,43.790000915527344,43.369998931884766,42.529998779296875,42.5099983215332,43.040000915527344,42.62666702270508,42.96333312988281,44.060001373291016,44.043331146240234,44.706668853759766,44.47666549682617,44.46333312988281,44.09333419799805,43.336666107177734,43.913333892822266,44.12333297729492,44.64666748046875,44.369998931884766,44.66999816894531,45.043331146240234,45.55666732788086,45.246665954589844,45.276668548583984,45.206668853759766,46.47666549682617,46.70000076293945,46.599998474121094,46.56999969482422,46.59333419799805,46.599998474121094,46.456668853759766,46.439998626708984,46.720001220703125,46.869998931884766,46.56999969482422,46.93000030517578,47.06666564941406,46.55666732788086,46.633331298828125,45.970001220703125,46.12666702270508,45.96333312988281,46.543331146240234,46.63666534423828,47.37333297729492,46.90666580200195,46.866668701171875,47.016666412353516,46.733333587646484,46.939998626708984,46.516666412353516,45.313331604003906,46.08000183105469,46.50666809082031,46.29666519165039,47.3033332824707,47.30666732788086,47.473331451416016,47.25,47.253334045410156,47.4466667175293,47.38999938964844,47.22999954223633,47.34333419799805,47.220001220703125,47.116668701171875,47.20000076293945,47.28333282470703,46.96666717529297,46.61000061035156,46.36000061035156,46.62666702270508,46.91666793823242,46.85333251953125,46.66666793823242,45.71666717529297,45.90666580200195,45.05666732788086,45.46666717529297,45.676666259765625,45.31999969482422,45.63666534423828,46.176666259765625,46.03333282470703,45.766666412353516,47.00666809082031,46.439998626708984,46.70333480834961,46.64666748046875,46.56999969482422,46.529998779296875,46.766666412353516,46.68333435058594,46.86000061035156,47.18333435058594,47.220001220703125,47.186668395996094,47.07666778564453,47.290000915527344,47.05666732788086,47.09000015258789,47.47666549682617,47.543331146240234,47.54666519165039,47.35333251953125,47.413333892822266,47.516666412353516,47.40666580200195,47.939998626708984,47.61333465576172,48.496665954589844,48.40999984741211,48.526668548583984,49.560001373291016,50.003334045410156,49.686668395996094,49.84333419799805,50.25,50.233333587646484,49.70000076293945,50.03666687011719,50.483333587646484,50.150001525878906,49.633331298828125,49.6533317565918,49.116668701171875,48.84000015258789,49.233333587646484,49.366668701171875,49.2599983215332,49.52000045776367,49.75,49.09000015258789,49.1533317565918,48.80666732788086,48.630001068115234,48.35333251953125,48.099998474121094,48.18333435058594,48.34333419799805,48.24333190917969,47.58000183105469,47.67333221435547,47.563331604003906,47.59000015258789,47.723331451416016,47.41666793823242,46.83333206176758,46.813331604003906,46.459999084472656,45.68333435058594,45.24333190917969,45.540000915527344,45.87333297729492,46.413333892822266,46.5533332824707,46.5099983215332,46.459999084472656,46.12333297729492,46.62333297729492,46.849998474121094,47.22666549682617,48.22999954223633,48.66666793823242,48.936668395996094,49.4466667175293,50.02000045776367,49.58333206176758,49.176666259765625,49.483333587646484,49.80666732788086,49.93000030517578,49.90666580200195,50.060001373291016,50.426666259765625,50.07666778564453,49.75666809082031,49.93000030517578,49.47999954223633,49.5,49.253334045410156,48.970001220703125,47.723331451416016,47.313331604003906,47.720001220703125,47.46333312988281,48.2599983215332,48.60333251953125,48.8466682434082,48.29999923706055,47.543331146240234,46.87666702270508,45.71333312988281,45.15666580200195,45.836666107177734,46.33333206176758,46.18333435058594,45.71666717529297,46.16666793823242,47.0099983215332,47.856666564941406,48.313331604003906,48.59000015258789,47.779998779296875,46.25,46.400001525878906,46.540000915527344,46.599998474121094,46.496665954589844,46.91999816894531,47.59333419799805,47.56999969482422,47.723331451416016,48.22999954223633,48.21666717529297,47.33333206176758,47.973331451416016,47.84000015258789,48.29666519165039,48.20333480834961,48.06666564941406,47.813331604003906,48.4900016784668,48.35333251953125,47.50666809082031,47.97999954223633,47.073333740234375,46.72999954223633,46.733333587646484,45.71666717529297,45.25,45.279998779296875,45.84000015258789,46.60333251953125,46.970001220703125,46.95000076293945,46.996665954589844,46.44333267211914,45.98666763305664,45.996665954589844,45.89666748046875,45.36000061035156,45.11000061035156,44.650001525878906,44.790000915527344,44.5099983215332,46.293331146240234,45.996665954589844,45.483333587646484,45.016666412353516,44.84333419799805,45.459999084472656,45.0533332824707,45.33000183105469,45.38666534423828,46.43000030517578,47.606666564941406,47.223331451416016,46.246665954589844,46.48666763305664,47.543331146240234,47.356666564941406,48.016666412353516,48.59333419799805,48.45000076293945,48.336666107177734,48.47999954223633,48.07666778564453,47.93333435058594,47.31666564941406,47.61000061035156,47.81666564941406,48.66666793823242,49.07666778564453,49.956668853759766,49.63999938964844,50.336666107177734,50.3466682434082,50.4900016784668,51.663333892822266,52.18000030517578,52.470001220703125,51.43000030517578,51.07666778564453,52.40666580200195,52.36000061035156,51.959999084472656,52.54999923706055,53.209999084472656,53.290000915527344,52.28666687011719,52.313331604003906,51.766666412353516,51.413333892822266,52.06999969482422,50.996665954589844,50.65999984741211,50.836666107177734,51.540000915527344,50.913333892822266,49.85333251953125,50.436668395996094,49.72666549682617,49.206668853759766,49.15999984741211,49.349998474121094,49.4033317565918,43.78333282470703,40.810001373291016,39.689998626708984,39.733333587646484,40.866668701171875,41.37666702270508,41.12333297729492,42.0,42.82666778564453,42.87666702270508,41.81666564941406,42.503334045410156,41.77333450317383,41.62333297729492,41.12333297729492,40.766666412353516,40.34000015258789,40.56666564941406,39.8033332824707,39.81999969482422,39.793331146240234,40.206668853759766,39.43000030517578,40.723331451416016,40.22999954223633,41.206668853759766,41.2400016784668,41.37333297729492,40.790000915527344,40.63999938964844,40.526668548583984,40.87666702270508,41.41666793823242,41.709999084472656,41.77333450317383,41.79999923706055,41.81666564941406,41.689998626708984,41.790000915527344,42.606666564941406,43.02333450317383,42.92333221435547,43.186668395996094,43.54666519165039,44.18333435058594,44.06999969482422,44.00666809082031,40.65999984741211,42.1966667175293,43.25,44.016666412353516,44.18000030517578,44.22666549682617,43.5,41.856666564941406,42.19333267211914,42.53666687011719,42.956668853759766,43.04666519165039,43.27333450317383,44.073333740234375,44.20000076293945,46.456668853759766,46.50666809082031,46.356666564941406,45.67333221435547,44.856666564941406,44.66666793823242,44.9900016784668,45.290000915527344,43.866668701171875],\"yaxis\":\"y\",\"type\":\"scatter\"}],                        {\"template\":{\"data\":{\"histogram2dcontour\":[{\"type\":\"histogram2dcontour\",\"colorbar\":{\"outlinewidth\":0,\"ticks\":\"\"},\"colorscale\":[[0.0,\"#0d0887\"],[0.1111111111111111,\"#46039f\"],[0.2222222222222222,\"#7201a8\"],[0.3333333333333333,\"#9c179e\"],[0.4444444444444444,\"#bd3786\"],[0.5555555555555556,\"#d8576b\"],[0.6666666666666666,\"#ed7953\"],[0.7777777777777778,\"#fb9f3a\"],[0.8888888888888888,\"#fdca26\"],[1.0,\"#f0f921\"]]}],\"choropleth\":[{\"type\":\"choropleth\",\"colorbar\":{\"outlinewidth\":0,\"ticks\":\"\"}}],\"histogram2d\":[{\"type\":\"histogram2d\",\"colorbar\":{\"outlinewidth\":0,\"ticks\":\"\"},\"colorscale\":[[0.0,\"#0d0887\"],[0.1111111111111111,\"#46039f\"],[0.2222222222222222,\"#7201a8\"],[0.3333333333333333,\"#9c179e\"],[0.4444444444444444,\"#bd3786\"],[0.5555555555555556,\"#d8576b\"],[0.6666666666666666,\"#ed7953\"],[0.7777777777777778,\"#fb9f3a\"],[0.8888888888888888,\"#fdca26\"],[1.0,\"#f0f921\"]]}],\"heatmap\":[{\"type\":\"heatmap\",\"colorbar\":{\"outlinewidth\":0,\"ticks\":\"\"},\"colorscale\":[[0.0,\"#0d0887\"],[0.1111111111111111,\"#46039f\"],[0.2222222222222222,\"#7201a8\"],[0.3333333333333333,\"#9c179e\"],[0.4444444444444444,\"#bd3786\"],[0.5555555555555556,\"#d8576b\"],[0.6666666666666666,\"#ed7953\"],[0.7777777777777778,\"#fb9f3a\"],[0.8888888888888888,\"#fdca26\"],[1.0,\"#f0f921\"]]}],\"heatmapgl\":[{\"type\":\"heatmapgl\",\"colorbar\":{\"outlinewidth\":0,\"ticks\":\"\"},\"colorscale\":[[0.0,\"#0d0887\"],[0.1111111111111111,\"#46039f\"],[0.2222222222222222,\"#7201a8\"],[0.3333333333333333,\"#9c179e\"],[0.4444444444444444,\"#bd3786\"],[0.5555555555555556,\"#d8576b\"],[0.6666666666666666,\"#ed7953\"],[0.7777777777777778,\"#fb9f3a\"],[0.8888888888888888,\"#fdca26\"],[1.0,\"#f0f921\"]]}],\"contourcarpet\":[{\"type\":\"contourcarpet\",\"colorbar\":{\"outlinewidth\":0,\"ticks\":\"\"}}],\"contour\":[{\"type\":\"contour\",\"colorbar\":{\"outlinewidth\":0,\"ticks\":\"\"},\"colorscale\":[[0.0,\"#0d0887\"],[0.1111111111111111,\"#46039f\"],[0.2222222222222222,\"#7201a8\"],[0.3333333333333333,\"#9c179e\"],[0.4444444444444444,\"#bd3786\"],[0.5555555555555556,\"#d8576b\"],[0.6666666666666666,\"#ed7953\"],[0.7777777777777778,\"#fb9f3a\"],[0.8888888888888888,\"#fdca26\"],[1.0,\"#f0f921\"]]}],\"surface\":[{\"type\":\"surface\",\"colorbar\":{\"outlinewidth\":0,\"ticks\":\"\"},\"colorscale\":[[0.0,\"#0d0887\"],[0.1111111111111111,\"#46039f\"],[0.2222222222222222,\"#7201a8\"],[0.3333333333333333,\"#9c179e\"],[0.4444444444444444,\"#bd3786\"],[0.5555555555555556,\"#d8576b\"],[0.6666666666666666,\"#ed7953\"],[0.7777777777777778,\"#fb9f3a\"],[0.8888888888888888,\"#fdca26\"],[1.0,\"#f0f921\"]]}],\"mesh3d\":[{\"type\":\"mesh3d\",\"colorbar\":{\"outlinewidth\":0,\"ticks\":\"\"}}],\"scatter\":[{\"fillpattern\":{\"fillmode\":\"overlay\",\"size\":10,\"solidity\":0.2},\"type\":\"scatter\"}],\"parcoords\":[{\"type\":\"parcoords\",\"line\":{\"colorbar\":{\"outlinewidth\":0,\"ticks\":\"\"}}}],\"scatterpolargl\":[{\"type\":\"scatterpolargl\",\"marker\":{\"colorbar\":{\"outlinewidth\":0,\"ticks\":\"\"}}}],\"bar\":[{\"error_x\":{\"color\":\"#2a3f5f\"},\"error_y\":{\"color\":\"#2a3f5f\"},\"marker\":{\"line\":{\"color\":\"#E5ECF6\",\"width\":0.5},\"pattern\":{\"fillmode\":\"overlay\",\"size\":10,\"solidity\":0.2}},\"type\":\"bar\"}],\"scattergeo\":[{\"type\":\"scattergeo\",\"marker\":{\"colorbar\":{\"outlinewidth\":0,\"ticks\":\"\"}}}],\"scatterpolar\":[{\"type\":\"scatterpolar\",\"marker\":{\"colorbar\":{\"outlinewidth\":0,\"ticks\":\"\"}}}],\"histogram\":[{\"marker\":{\"pattern\":{\"fillmode\":\"overlay\",\"size\":10,\"solidity\":0.2}},\"type\":\"histogram\"}],\"scattergl\":[{\"type\":\"scattergl\",\"marker\":{\"colorbar\":{\"outlinewidth\":0,\"ticks\":\"\"}}}],\"scatter3d\":[{\"type\":\"scatter3d\",\"line\":{\"colorbar\":{\"outlinewidth\":0,\"ticks\":\"\"}},\"marker\":{\"colorbar\":{\"outlinewidth\":0,\"ticks\":\"\"}}}],\"scattermapbox\":[{\"type\":\"scattermapbox\",\"marker\":{\"colorbar\":{\"outlinewidth\":0,\"ticks\":\"\"}}}],\"scatterternary\":[{\"type\":\"scatterternary\",\"marker\":{\"colorbar\":{\"outlinewidth\":0,\"ticks\":\"\"}}}],\"scattercarpet\":[{\"type\":\"scattercarpet\",\"marker\":{\"colorbar\":{\"outlinewidth\":0,\"ticks\":\"\"}}}],\"carpet\":[{\"aaxis\":{\"endlinecolor\":\"#2a3f5f\",\"gridcolor\":\"white\",\"linecolor\":\"white\",\"minorgridcolor\":\"white\",\"startlinecolor\":\"#2a3f5f\"},\"baxis\":{\"endlinecolor\":\"#2a3f5f\",\"gridcolor\":\"white\",\"linecolor\":\"white\",\"minorgridcolor\":\"white\",\"startlinecolor\":\"#2a3f5f\"},\"type\":\"carpet\"}],\"table\":[{\"cells\":{\"fill\":{\"color\":\"#EBF0F8\"},\"line\":{\"color\":\"white\"}},\"header\":{\"fill\":{\"color\":\"#C8D4E3\"},\"line\":{\"color\":\"white\"}},\"type\":\"table\"}],\"barpolar\":[{\"marker\":{\"line\":{\"color\":\"#E5ECF6\",\"width\":0.5},\"pattern\":{\"fillmode\":\"overlay\",\"size\":10,\"solidity\":0.2}},\"type\":\"barpolar\"}],\"pie\":[{\"automargin\":true,\"type\":\"pie\"}]},\"layout\":{\"autotypenumbers\":\"strict\",\"colorway\":[\"#636efa\",\"#EF553B\",\"#00cc96\",\"#ab63fa\",\"#FFA15A\",\"#19d3f3\",\"#FF6692\",\"#B6E880\",\"#FF97FF\",\"#FECB52\"],\"font\":{\"color\":\"#2a3f5f\"},\"hovermode\":\"closest\",\"hoverlabel\":{\"align\":\"left\"},\"paper_bgcolor\":\"white\",\"plot_bgcolor\":\"#E5ECF6\",\"polar\":{\"bgcolor\":\"#E5ECF6\",\"angularaxis\":{\"gridcolor\":\"white\",\"linecolor\":\"white\",\"ticks\":\"\"},\"radialaxis\":{\"gridcolor\":\"white\",\"linecolor\":\"white\",\"ticks\":\"\"}},\"ternary\":{\"bgcolor\":\"#E5ECF6\",\"aaxis\":{\"gridcolor\":\"white\",\"linecolor\":\"white\",\"ticks\":\"\"},\"baxis\":{\"gridcolor\":\"white\",\"linecolor\":\"white\",\"ticks\":\"\"},\"caxis\":{\"gridcolor\":\"white\",\"linecolor\":\"white\",\"ticks\":\"\"}},\"coloraxis\":{\"colorbar\":{\"outlinewidth\":0,\"ticks\":\"\"}},\"colorscale\":{\"sequential\":[[0.0,\"#0d0887\"],[0.1111111111111111,\"#46039f\"],[0.2222222222222222,\"#7201a8\"],[0.3333333333333333,\"#9c179e\"],[0.4444444444444444,\"#bd3786\"],[0.5555555555555556,\"#d8576b\"],[0.6666666666666666,\"#ed7953\"],[0.7777777777777778,\"#fb9f3a\"],[0.8888888888888888,\"#fdca26\"],[1.0,\"#f0f921\"]],\"sequentialminus\":[[0.0,\"#0d0887\"],[0.1111111111111111,\"#46039f\"],[0.2222222222222222,\"#7201a8\"],[0.3333333333333333,\"#9c179e\"],[0.4444444444444444,\"#bd3786\"],[0.5555555555555556,\"#d8576b\"],[0.6666666666666666,\"#ed7953\"],[0.7777777777777778,\"#fb9f3a\"],[0.8888888888888888,\"#fdca26\"],[1.0,\"#f0f921\"]],\"diverging\":[[0,\"#8e0152\"],[0.1,\"#c51b7d\"],[0.2,\"#de77ae\"],[0.3,\"#f1b6da\"],[0.4,\"#fde0ef\"],[0.5,\"#f7f7f7\"],[0.6,\"#e6f5d0\"],[0.7,\"#b8e186\"],[0.8,\"#7fbc41\"],[0.9,\"#4d9221\"],[1,\"#276419\"]]},\"xaxis\":{\"gridcolor\":\"white\",\"linecolor\":\"white\",\"ticks\":\"\",\"title\":{\"standoff\":15},\"zerolinecolor\":\"white\",\"automargin\":true,\"zerolinewidth\":2},\"yaxis\":{\"gridcolor\":\"white\",\"linecolor\":\"white\",\"ticks\":\"\",\"title\":{\"standoff\":15},\"zerolinecolor\":\"white\",\"automargin\":true,\"zerolinewidth\":2},\"scene\":{\"xaxis\":{\"backgroundcolor\":\"#E5ECF6\",\"gridcolor\":\"white\",\"linecolor\":\"white\",\"showbackground\":true,\"ticks\":\"\",\"zerolinecolor\":\"white\",\"gridwidth\":2},\"yaxis\":{\"backgroundcolor\":\"#E5ECF6\",\"gridcolor\":\"white\",\"linecolor\":\"white\",\"showbackground\":true,\"ticks\":\"\",\"zerolinecolor\":\"white\",\"gridwidth\":2},\"zaxis\":{\"backgroundcolor\":\"#E5ECF6\",\"gridcolor\":\"white\",\"linecolor\":\"white\",\"showbackground\":true,\"ticks\":\"\",\"zerolinecolor\":\"white\",\"gridwidth\":2}},\"shapedefaults\":{\"line\":{\"color\":\"#2a3f5f\"}},\"annotationdefaults\":{\"arrowcolor\":\"#2a3f5f\",\"arrowhead\":0,\"arrowwidth\":1},\"geo\":{\"bgcolor\":\"white\",\"landcolor\":\"#E5ECF6\",\"subunitcolor\":\"white\",\"showland\":true,\"showlakes\":true,\"lakecolor\":\"white\"},\"title\":{\"x\":0.05},\"mapbox\":{\"style\":\"light\"}}},\"xaxis\":{\"anchor\":\"y\",\"domain\":[0.0,1.0],\"title\":{\"text\":\"date\"},\"showgrid\":true,\"gridwidth\":1,\"gridcolor\":\"red\"},\"yaxis\":{\"anchor\":\"x\",\"domain\":[0.0,1.0],\"title\":{\"text\":\"value\"},\"showgrid\":true,\"gridwidth\":1,\"gridcolor\":\"red\",\"range\":[0,100]},\"legend\":{\"title\":{\"text\":\"variable\"},\"tracegroupgap\":0},\"title\":{\"text\":\"Walmart Inc.\",\"font\":{\"size\":24}},\"plot_bgcolor\":\"pink\"},                        {\"responsive\": true}                    ).then(function(){\n",
       "                            \n",
       "var gd = document.getElementById('bf13c584-fb21-4926-9004-689b81603160');\n",
       "var x = new MutationObserver(function (mutations, observer) {{\n",
       "        var display = window.getComputedStyle(gd).display;\n",
       "        if (!display || display === 'none') {{\n",
       "            console.log([gd, 'removed!']);\n",
       "            Plotly.purge(gd);\n",
       "            observer.disconnect();\n",
       "        }}\n",
       "}});\n",
       "\n",
       "// Listen for the removal of the full notebook cells\n",
       "var notebookContainer = gd.closest('#notebook-container');\n",
       "if (notebookContainer) {{\n",
       "    x.observe(notebookContainer, {childList: true});\n",
       "}}\n",
       "\n",
       "// Listen for the clearing of the current output cell\n",
       "var outputEl = gd.closest('.output');\n",
       "if (outputEl) {{\n",
       "    x.observe(outputEl, {childList: true});\n",
       "}}\n",
       "\n",
       "                        })                };                });            </script>        </div>"
      ]
     },
     "metadata": {},
     "output_type": "display_data"
    }
   ],
   "source": [
    "# fig = px.line(sp, x='ts', y='prices', labels={'ts': 'Время', 'prices': 'Цена'}, title='График цены токена LIDO DAO')\n",
    "fig = px.area(data['Walmart'], labels={'ts': 'Время', 'prices': 'Цена'}, title='Walmart Inc.')\n",
    "fig.update_traces(line=dict(color='red', width=2))  # Изменить цвет и толщину линии\n",
    "fig.update_layout(plot_bgcolor='pink', title_font=dict(size=24))  # Изменить цвет фона и размер заголовка\n",
    "fig.update_xaxes(showgrid=True, gridwidth=1, gridcolor='red')  # Добавить сетку на оси x\n",
    "fig.update_yaxes(showgrid=True, gridwidth=1, gridcolor='red',range=[0,100])  # Добавить сетку на оси y\n",
    "fig.show()\n",
    "\n",
    "\n",
    "\n"
   ]
  },
  {
   "cell_type": "code",
   "execution_count": 311,
   "id": "226fec36",
   "metadata": {},
   "outputs": [
    {
     "data": {
      "application/vnd.plotly.v1+json": {
       "config": {
        "plotlyServerURL": "https://plot.ly"
       },
       "data": [
        {
         "fillpattern": {
          "shape": ""
         },
         "hovertemplate": "variable=Zoom<br>index=%{x}<br>value=%{y}<extra></extra>",
         "legendgroup": "Zoom",
         "line": {
          "color": "cyan",
          "width": 2
         },
         "marker": {
          "symbol": "circle"
         },
         "mode": "lines",
         "name": "Zoom",
         "orientation": "v",
         "showlegend": true,
         "stackgroup": "1",
         "type": "scatter",
         "x": [
          "2020-02-20T00:00:00",
          "2020-02-21T00:00:00",
          "2020-02-24T00:00:00",
          "2020-02-25T00:00:00",
          "2020-02-26T00:00:00",
          "2020-02-27T00:00:00",
          "2020-02-28T00:00:00",
          "2020-03-02T00:00:00",
          "2020-03-03T00:00:00",
          "2020-03-04T00:00:00",
          "2020-03-05T00:00:00",
          "2020-03-06T00:00:00",
          "2020-03-09T00:00:00",
          "2020-03-10T00:00:00",
          "2020-03-11T00:00:00",
          "2020-03-12T00:00:00",
          "2020-03-13T00:00:00",
          "2020-03-16T00:00:00",
          "2020-03-17T00:00:00",
          "2020-03-18T00:00:00",
          "2020-03-19T00:00:00",
          "2020-03-20T00:00:00",
          "2020-03-23T00:00:00",
          "2020-03-24T00:00:00",
          "2020-03-25T00:00:00",
          "2020-03-26T00:00:00",
          "2020-03-27T00:00:00",
          "2020-03-30T00:00:00",
          "2020-03-31T00:00:00",
          "2020-04-01T00:00:00",
          "2020-04-02T00:00:00",
          "2020-04-03T00:00:00",
          "2020-04-06T00:00:00",
          "2020-04-07T00:00:00",
          "2020-04-08T00:00:00",
          "2020-04-09T00:00:00",
          "2020-04-13T00:00:00",
          "2020-04-14T00:00:00",
          "2020-04-15T00:00:00",
          "2020-04-16T00:00:00",
          "2020-04-17T00:00:00",
          "2020-04-20T00:00:00",
          "2020-04-21T00:00:00",
          "2020-04-22T00:00:00",
          "2020-04-23T00:00:00",
          "2020-04-24T00:00:00",
          "2020-04-27T00:00:00",
          "2020-04-28T00:00:00",
          "2020-04-29T00:00:00",
          "2020-04-30T00:00:00",
          "2020-05-01T00:00:00",
          "2020-05-04T00:00:00",
          "2020-05-05T00:00:00",
          "2020-05-06T00:00:00",
          "2020-05-07T00:00:00",
          "2020-05-08T00:00:00",
          "2020-05-11T00:00:00",
          "2020-05-12T00:00:00",
          "2020-05-13T00:00:00",
          "2020-05-14T00:00:00",
          "2020-05-15T00:00:00",
          "2020-05-18T00:00:00",
          "2020-05-19T00:00:00",
          "2020-05-20T00:00:00",
          "2020-05-21T00:00:00",
          "2020-05-22T00:00:00",
          "2020-05-26T00:00:00",
          "2020-05-27T00:00:00",
          "2020-05-28T00:00:00",
          "2020-05-29T00:00:00",
          "2020-06-01T00:00:00",
          "2020-06-02T00:00:00",
          "2020-06-03T00:00:00",
          "2020-06-04T00:00:00",
          "2020-06-05T00:00:00",
          "2020-06-08T00:00:00",
          "2020-06-09T00:00:00",
          "2020-06-10T00:00:00",
          "2020-06-11T00:00:00",
          "2020-06-12T00:00:00",
          "2020-06-15T00:00:00",
          "2020-06-16T00:00:00",
          "2020-06-17T00:00:00",
          "2020-06-18T00:00:00",
          "2020-06-19T00:00:00",
          "2020-06-22T00:00:00",
          "2020-06-23T00:00:00",
          "2020-06-24T00:00:00",
          "2020-06-25T00:00:00",
          "2020-06-26T00:00:00",
          "2020-06-29T00:00:00",
          "2020-06-30T00:00:00",
          "2020-07-01T00:00:00",
          "2020-07-02T00:00:00",
          "2020-07-06T00:00:00",
          "2020-07-07T00:00:00",
          "2020-07-08T00:00:00",
          "2020-07-09T00:00:00",
          "2020-07-10T00:00:00",
          "2020-07-13T00:00:00",
          "2020-07-14T00:00:00",
          "2020-07-15T00:00:00",
          "2020-07-16T00:00:00",
          "2020-07-17T00:00:00",
          "2020-07-20T00:00:00",
          "2020-07-21T00:00:00",
          "2020-07-22T00:00:00",
          "2020-07-23T00:00:00",
          "2020-07-24T00:00:00",
          "2020-07-27T00:00:00",
          "2020-07-28T00:00:00",
          "2020-07-29T00:00:00",
          "2020-07-30T00:00:00",
          "2020-07-31T00:00:00",
          "2020-08-03T00:00:00",
          "2020-08-04T00:00:00",
          "2020-08-05T00:00:00",
          "2020-08-06T00:00:00",
          "2020-08-07T00:00:00",
          "2020-08-10T00:00:00",
          "2020-08-11T00:00:00",
          "2020-08-12T00:00:00",
          "2020-08-13T00:00:00",
          "2020-08-14T00:00:00",
          "2020-08-17T00:00:00",
          "2020-08-18T00:00:00",
          "2020-08-19T00:00:00",
          "2020-08-20T00:00:00",
          "2020-08-21T00:00:00",
          "2020-08-24T00:00:00",
          "2020-08-25T00:00:00",
          "2020-08-26T00:00:00",
          "2020-08-27T00:00:00",
          "2020-08-28T00:00:00",
          "2020-08-31T00:00:00",
          "2020-09-01T00:00:00",
          "2020-09-02T00:00:00",
          "2020-09-03T00:00:00",
          "2020-09-04T00:00:00",
          "2020-09-08T00:00:00",
          "2020-09-09T00:00:00",
          "2020-09-10T00:00:00",
          "2020-09-11T00:00:00",
          "2020-09-14T00:00:00",
          "2020-09-15T00:00:00",
          "2020-09-16T00:00:00",
          "2020-09-17T00:00:00",
          "2020-09-18T00:00:00",
          "2020-09-21T00:00:00",
          "2020-09-22T00:00:00",
          "2020-09-23T00:00:00",
          "2020-09-24T00:00:00",
          "2020-09-25T00:00:00",
          "2020-09-28T00:00:00",
          "2020-09-29T00:00:00",
          "2020-09-30T00:00:00",
          "2020-10-01T00:00:00",
          "2020-10-02T00:00:00",
          "2020-10-05T00:00:00",
          "2020-10-06T00:00:00",
          "2020-10-07T00:00:00",
          "2020-10-08T00:00:00",
          "2020-10-09T00:00:00",
          "2020-10-12T00:00:00",
          "2020-10-13T00:00:00",
          "2020-10-14T00:00:00",
          "2020-10-15T00:00:00",
          "2020-10-16T00:00:00",
          "2020-10-19T00:00:00",
          "2020-10-20T00:00:00",
          "2020-10-21T00:00:00",
          "2020-10-22T00:00:00",
          "2020-10-23T00:00:00",
          "2020-10-26T00:00:00",
          "2020-10-27T00:00:00",
          "2020-10-28T00:00:00",
          "2020-10-29T00:00:00",
          "2020-10-30T00:00:00",
          "2020-11-02T00:00:00",
          "2020-11-03T00:00:00",
          "2020-11-04T00:00:00",
          "2020-11-05T00:00:00",
          "2020-11-06T00:00:00",
          "2020-11-09T00:00:00",
          "2020-11-10T00:00:00",
          "2020-11-11T00:00:00",
          "2020-11-12T00:00:00",
          "2020-11-13T00:00:00",
          "2020-11-16T00:00:00",
          "2020-11-17T00:00:00",
          "2020-11-18T00:00:00",
          "2020-11-19T00:00:00",
          "2020-11-20T00:00:00",
          "2020-11-23T00:00:00",
          "2020-11-24T00:00:00",
          "2020-11-25T00:00:00",
          "2020-11-27T00:00:00",
          "2020-11-30T00:00:00",
          "2020-12-01T00:00:00",
          "2020-12-02T00:00:00",
          "2020-12-03T00:00:00",
          "2020-12-04T00:00:00",
          "2020-12-07T00:00:00",
          "2020-12-08T00:00:00",
          "2020-12-09T00:00:00",
          "2020-12-10T00:00:00",
          "2020-12-11T00:00:00",
          "2020-12-14T00:00:00",
          "2020-12-15T00:00:00",
          "2020-12-16T00:00:00",
          "2020-12-17T00:00:00",
          "2020-12-18T00:00:00",
          "2020-12-21T00:00:00",
          "2020-12-22T00:00:00",
          "2020-12-23T00:00:00",
          "2020-12-24T00:00:00",
          "2020-12-28T00:00:00",
          "2020-12-29T00:00:00",
          "2020-12-30T00:00:00",
          "2020-12-31T00:00:00",
          "2021-01-04T00:00:00",
          "2021-01-05T00:00:00",
          "2021-01-06T00:00:00",
          "2021-01-07T00:00:00",
          "2021-01-08T00:00:00",
          "2021-01-11T00:00:00",
          "2021-01-12T00:00:00",
          "2021-01-13T00:00:00",
          "2021-01-14T00:00:00",
          "2021-01-15T00:00:00",
          "2021-01-19T00:00:00",
          "2021-01-20T00:00:00",
          "2021-01-21T00:00:00",
          "2021-01-22T00:00:00",
          "2021-01-25T00:00:00",
          "2021-01-26T00:00:00",
          "2021-01-27T00:00:00",
          "2021-01-28T00:00:00",
          "2021-01-29T00:00:00",
          "2021-02-01T00:00:00",
          "2021-02-02T00:00:00",
          "2021-02-03T00:00:00",
          "2021-02-04T00:00:00",
          "2021-02-05T00:00:00",
          "2021-02-08T00:00:00",
          "2021-02-09T00:00:00",
          "2021-02-10T00:00:00",
          "2021-02-11T00:00:00",
          "2021-02-12T00:00:00",
          "2021-02-16T00:00:00",
          "2021-02-17T00:00:00",
          "2021-02-18T00:00:00",
          "2021-02-19T00:00:00",
          "2021-02-22T00:00:00",
          "2021-02-23T00:00:00",
          "2021-02-24T00:00:00",
          "2021-02-25T00:00:00",
          "2021-02-26T00:00:00",
          "2021-03-01T00:00:00",
          "2021-03-02T00:00:00",
          "2021-03-03T00:00:00",
          "2021-03-04T00:00:00",
          "2021-03-05T00:00:00",
          "2021-03-08T00:00:00",
          "2021-03-09T00:00:00",
          "2021-03-10T00:00:00",
          "2021-03-11T00:00:00",
          "2021-03-12T00:00:00",
          "2021-03-15T00:00:00",
          "2021-03-16T00:00:00",
          "2021-03-17T00:00:00",
          "2021-03-18T00:00:00",
          "2021-03-19T00:00:00",
          "2021-03-22T00:00:00",
          "2021-03-23T00:00:00",
          "2021-03-24T00:00:00",
          "2021-03-25T00:00:00",
          "2021-03-26T00:00:00",
          "2021-03-29T00:00:00",
          "2021-03-30T00:00:00",
          "2021-03-31T00:00:00",
          "2021-04-01T00:00:00",
          "2021-04-05T00:00:00",
          "2021-04-06T00:00:00",
          "2021-04-07T00:00:00",
          "2021-04-08T00:00:00",
          "2021-04-09T00:00:00",
          "2021-04-12T00:00:00",
          "2021-04-13T00:00:00",
          "2021-04-14T00:00:00",
          "2021-04-15T00:00:00",
          "2021-04-16T00:00:00",
          "2021-04-19T00:00:00",
          "2021-04-20T00:00:00",
          "2021-04-21T00:00:00",
          "2021-04-22T00:00:00",
          "2021-04-23T00:00:00",
          "2021-04-26T00:00:00",
          "2021-04-27T00:00:00",
          "2021-04-28T00:00:00",
          "2021-04-29T00:00:00",
          "2021-04-30T00:00:00",
          "2021-05-03T00:00:00",
          "2021-05-04T00:00:00",
          "2021-05-05T00:00:00",
          "2021-05-06T00:00:00",
          "2021-05-07T00:00:00",
          "2021-05-10T00:00:00",
          "2021-05-11T00:00:00",
          "2021-05-12T00:00:00",
          "2021-05-13T00:00:00",
          "2021-05-14T00:00:00",
          "2021-05-17T00:00:00",
          "2021-05-18T00:00:00",
          "2021-05-19T00:00:00",
          "2021-05-20T00:00:00",
          "2021-05-21T00:00:00",
          "2021-05-24T00:00:00",
          "2021-05-25T00:00:00",
          "2021-05-26T00:00:00",
          "2021-05-27T00:00:00",
          "2021-05-28T00:00:00",
          "2021-06-01T00:00:00",
          "2021-06-02T00:00:00",
          "2021-06-03T00:00:00",
          "2021-06-04T00:00:00",
          "2021-06-07T00:00:00",
          "2021-06-08T00:00:00",
          "2021-06-09T00:00:00",
          "2021-06-10T00:00:00",
          "2021-06-11T00:00:00",
          "2021-06-14T00:00:00",
          "2021-06-15T00:00:00",
          "2021-06-16T00:00:00",
          "2021-06-17T00:00:00",
          "2021-06-18T00:00:00",
          "2021-06-21T00:00:00",
          "2021-06-22T00:00:00",
          "2021-06-23T00:00:00",
          "2021-06-24T00:00:00",
          "2021-06-25T00:00:00",
          "2021-06-28T00:00:00",
          "2021-06-29T00:00:00",
          "2021-06-30T00:00:00",
          "2021-07-01T00:00:00",
          "2021-07-02T00:00:00",
          "2021-07-06T00:00:00",
          "2021-07-07T00:00:00",
          "2021-07-08T00:00:00",
          "2021-07-09T00:00:00",
          "2021-07-12T00:00:00",
          "2021-07-13T00:00:00",
          "2021-07-14T00:00:00",
          "2021-07-15T00:00:00",
          "2021-07-16T00:00:00",
          "2021-07-19T00:00:00",
          "2021-07-20T00:00:00",
          "2021-07-21T00:00:00",
          "2021-07-22T00:00:00",
          "2021-07-23T00:00:00",
          "2021-07-26T00:00:00",
          "2021-07-27T00:00:00",
          "2021-07-28T00:00:00",
          "2021-07-29T00:00:00",
          "2021-07-30T00:00:00",
          "2021-08-02T00:00:00",
          "2021-08-03T00:00:00",
          "2021-08-04T00:00:00",
          "2021-08-05T00:00:00",
          "2021-08-06T00:00:00",
          "2021-08-09T00:00:00",
          "2021-08-10T00:00:00",
          "2021-08-11T00:00:00",
          "2021-08-12T00:00:00",
          "2021-08-13T00:00:00",
          "2021-08-16T00:00:00",
          "2021-08-17T00:00:00",
          "2021-08-18T00:00:00",
          "2021-08-19T00:00:00",
          "2021-08-20T00:00:00",
          "2021-08-23T00:00:00",
          "2021-08-24T00:00:00",
          "2021-08-25T00:00:00",
          "2021-08-26T00:00:00",
          "2021-08-27T00:00:00",
          "2021-08-30T00:00:00",
          "2021-08-31T00:00:00",
          "2021-09-01T00:00:00",
          "2021-09-02T00:00:00",
          "2021-09-03T00:00:00",
          "2021-09-07T00:00:00",
          "2021-09-08T00:00:00",
          "2021-09-09T00:00:00",
          "2021-09-10T00:00:00",
          "2021-09-13T00:00:00",
          "2021-09-14T00:00:00",
          "2021-09-15T00:00:00",
          "2021-09-16T00:00:00",
          "2021-09-17T00:00:00",
          "2021-09-20T00:00:00",
          "2021-09-21T00:00:00",
          "2021-09-22T00:00:00",
          "2021-09-23T00:00:00",
          "2021-09-24T00:00:00",
          "2021-09-27T00:00:00",
          "2021-09-28T00:00:00",
          "2021-09-29T00:00:00",
          "2021-09-30T00:00:00",
          "2021-10-01T00:00:00",
          "2021-10-04T00:00:00",
          "2021-10-05T00:00:00",
          "2021-10-06T00:00:00",
          "2021-10-07T00:00:00",
          "2021-10-08T00:00:00",
          "2021-10-11T00:00:00",
          "2021-10-12T00:00:00",
          "2021-10-13T00:00:00",
          "2021-10-14T00:00:00",
          "2021-10-15T00:00:00",
          "2021-10-18T00:00:00",
          "2021-10-19T00:00:00",
          "2021-10-20T00:00:00",
          "2021-10-21T00:00:00",
          "2021-10-22T00:00:00",
          "2021-10-25T00:00:00",
          "2021-10-26T00:00:00",
          "2021-10-27T00:00:00",
          "2021-10-28T00:00:00",
          "2021-10-29T00:00:00",
          "2021-11-01T00:00:00",
          "2021-11-02T00:00:00",
          "2021-11-03T00:00:00",
          "2021-11-04T00:00:00",
          "2021-11-05T00:00:00",
          "2021-11-08T00:00:00",
          "2021-11-09T00:00:00",
          "2021-11-10T00:00:00",
          "2021-11-11T00:00:00",
          "2021-11-12T00:00:00",
          "2021-11-15T00:00:00",
          "2021-11-16T00:00:00",
          "2021-11-17T00:00:00",
          "2021-11-18T00:00:00",
          "2021-11-19T00:00:00",
          "2021-11-22T00:00:00",
          "2021-11-23T00:00:00",
          "2021-11-24T00:00:00",
          "2021-11-26T00:00:00",
          "2021-11-29T00:00:00",
          "2021-11-30T00:00:00",
          "2021-12-01T00:00:00",
          "2021-12-02T00:00:00",
          "2021-12-03T00:00:00",
          "2021-12-06T00:00:00",
          "2021-12-07T00:00:00",
          "2021-12-08T00:00:00",
          "2021-12-09T00:00:00",
          "2021-12-10T00:00:00",
          "2021-12-13T00:00:00",
          "2021-12-14T00:00:00",
          "2021-12-15T00:00:00",
          "2021-12-16T00:00:00",
          "2021-12-17T00:00:00",
          "2021-12-20T00:00:00",
          "2021-12-21T00:00:00",
          "2021-12-22T00:00:00",
          "2021-12-23T00:00:00",
          "2021-12-27T00:00:00",
          "2021-12-28T00:00:00",
          "2021-12-29T00:00:00",
          "2021-12-30T00:00:00",
          "2021-12-31T00:00:00",
          "2022-01-03T00:00:00",
          "2022-01-04T00:00:00",
          "2022-01-05T00:00:00",
          "2022-01-06T00:00:00",
          "2022-01-07T00:00:00",
          "2022-01-10T00:00:00",
          "2022-01-11T00:00:00",
          "2022-01-12T00:00:00",
          "2022-01-13T00:00:00",
          "2022-01-14T00:00:00",
          "2022-01-18T00:00:00",
          "2022-01-19T00:00:00",
          "2022-01-20T00:00:00",
          "2022-01-21T00:00:00",
          "2022-01-24T00:00:00",
          "2022-01-25T00:00:00",
          "2022-01-26T00:00:00",
          "2022-01-27T00:00:00",
          "2022-01-28T00:00:00",
          "2022-01-31T00:00:00",
          "2022-02-01T00:00:00",
          "2022-02-02T00:00:00",
          "2022-02-03T00:00:00",
          "2022-02-04T00:00:00",
          "2022-02-07T00:00:00",
          "2022-02-08T00:00:00",
          "2022-02-09T00:00:00",
          "2022-02-10T00:00:00",
          "2022-02-11T00:00:00",
          "2022-02-14T00:00:00",
          "2022-02-15T00:00:00",
          "2022-02-16T00:00:00",
          "2022-02-17T00:00:00",
          "2022-02-18T00:00:00",
          "2022-02-22T00:00:00",
          "2022-02-23T00:00:00",
          "2022-02-24T00:00:00",
          "2022-02-25T00:00:00",
          "2022-02-28T00:00:00",
          "2022-03-01T00:00:00",
          "2022-03-02T00:00:00",
          "2022-03-03T00:00:00",
          "2022-03-04T00:00:00",
          "2022-03-07T00:00:00",
          "2022-03-08T00:00:00",
          "2022-03-09T00:00:00",
          "2022-03-10T00:00:00",
          "2022-03-11T00:00:00",
          "2022-03-14T00:00:00",
          "2022-03-15T00:00:00",
          "2022-03-16T00:00:00",
          "2022-03-17T00:00:00",
          "2022-03-18T00:00:00",
          "2022-03-21T00:00:00",
          "2022-03-22T00:00:00",
          "2022-03-23T00:00:00",
          "2022-03-24T00:00:00",
          "2022-03-25T00:00:00",
          "2022-03-28T00:00:00",
          "2022-03-29T00:00:00",
          "2022-03-30T00:00:00",
          "2022-03-31T00:00:00",
          "2022-04-01T00:00:00",
          "2022-04-04T00:00:00",
          "2022-04-05T00:00:00",
          "2022-04-06T00:00:00",
          "2022-04-07T00:00:00",
          "2022-04-08T00:00:00",
          "2022-04-11T00:00:00",
          "2022-04-12T00:00:00",
          "2022-04-13T00:00:00",
          "2022-04-14T00:00:00",
          "2022-04-18T00:00:00",
          "2022-04-19T00:00:00",
          "2022-04-20T00:00:00",
          "2022-04-21T00:00:00",
          "2022-04-22T00:00:00",
          "2022-04-25T00:00:00",
          "2022-04-26T00:00:00",
          "2022-04-27T00:00:00",
          "2022-04-28T00:00:00",
          "2022-04-29T00:00:00",
          "2022-05-02T00:00:00",
          "2022-05-03T00:00:00",
          "2022-05-04T00:00:00",
          "2022-05-05T00:00:00",
          "2022-05-06T00:00:00",
          "2022-05-09T00:00:00",
          "2022-05-10T00:00:00",
          "2022-05-11T00:00:00",
          "2022-05-12T00:00:00",
          "2022-05-13T00:00:00",
          "2022-05-16T00:00:00",
          "2022-05-17T00:00:00",
          "2022-05-18T00:00:00",
          "2022-05-19T00:00:00",
          "2022-05-20T00:00:00",
          "2022-05-23T00:00:00",
          "2022-05-24T00:00:00",
          "2022-05-25T00:00:00",
          "2022-05-26T00:00:00",
          "2022-05-27T00:00:00",
          "2022-05-31T00:00:00",
          "2022-06-01T00:00:00",
          "2022-06-02T00:00:00",
          "2022-06-03T00:00:00",
          "2022-06-06T00:00:00",
          "2022-06-07T00:00:00",
          "2022-06-08T00:00:00",
          "2022-06-09T00:00:00",
          "2022-06-10T00:00:00",
          "2022-06-13T00:00:00",
          "2022-06-14T00:00:00",
          "2022-06-15T00:00:00",
          "2022-06-16T00:00:00",
          "2022-06-17T00:00:00",
          "2022-06-21T00:00:00",
          "2022-06-22T00:00:00",
          "2022-06-23T00:00:00",
          "2022-06-24T00:00:00",
          "2022-06-27T00:00:00",
          "2022-06-28T00:00:00",
          "2022-06-29T00:00:00",
          "2022-06-30T00:00:00",
          "2022-07-01T00:00:00",
          "2022-07-05T00:00:00",
          "2022-07-06T00:00:00",
          "2022-07-07T00:00:00",
          "2022-07-08T00:00:00",
          "2022-07-11T00:00:00",
          "2022-07-12T00:00:00",
          "2022-07-13T00:00:00",
          "2022-07-14T00:00:00",
          "2022-07-15T00:00:00",
          "2022-07-18T00:00:00",
          "2022-07-19T00:00:00",
          "2022-07-20T00:00:00",
          "2022-07-21T00:00:00",
          "2022-07-22T00:00:00",
          "2022-07-25T00:00:00",
          "2022-07-26T00:00:00",
          "2022-07-27T00:00:00",
          "2022-07-28T00:00:00",
          "2022-07-29T00:00:00",
          "2022-08-01T00:00:00",
          "2022-08-02T00:00:00",
          "2022-08-03T00:00:00",
          "2022-08-04T00:00:00",
          "2022-08-05T00:00:00",
          "2022-08-08T00:00:00",
          "2022-08-09T00:00:00",
          "2022-08-10T00:00:00",
          "2022-08-11T00:00:00",
          "2022-08-12T00:00:00",
          "2022-08-15T00:00:00",
          "2022-08-16T00:00:00",
          "2022-08-17T00:00:00",
          "2022-08-18T00:00:00",
          "2022-08-19T00:00:00",
          "2022-08-22T00:00:00",
          "2022-08-23T00:00:00",
          "2022-08-24T00:00:00",
          "2022-08-25T00:00:00",
          "2022-08-26T00:00:00"
         ],
         "xaxis": "x",
         "y": [
          105.29000091552734,
          101.76000213623047,
          105.01000213623047,
          107.08000183105469,
          106.87999725341797,
          113.55000305175781,
          105,
          113.11000061035156,
          117.47000122070312,
          116.80000305175781,
          125,
          114.31999969482422,
          113.75,
          108.48999786376953,
          110.30000305175781,
          109.47000122070312,
          107.47000122070312,
          107.86000061035156,
          111.0999984741211,
          118.70999908447266,
          123.7699966430664,
          130.5500030517578,
          159.55999755859375,
          135.17999267578125,
          138.11000061035156,
          141.14999389648438,
          151.6999969482422,
          150.8800048828125,
          146.1199951171875,
          137,
          121.93000030517578,
          128.1999969482422,
          122.94000244140625,
          113.75,
          117.80999755859375,
          124.51000213623047,
          135.9199981689453,
          141.88999938964844,
          151.55999755859375,
          150.25999450683594,
          150.05999755859375,
          148.99000549316406,
          143.27000427246094,
          150.25,
          169.08999633789062,
          158.8000030517578,
          164.60000610351562,
          156.72000122070312,
          146.47999572753906,
          135.1699981689453,
          138.55999755859375,
          143.44000244140625,
          144.82000732421875,
          149.58999633789062,
          157.8000030517578,
          155.39999389648438,
          166.47999572753906,
          161.0399932861328,
          167.13999938964844,
          167.91000366210938,
          174.8300018310547,
          164.69000244140625,
          173.67999267578125,
          175.47999572753906,
          172.02999877929688,
          171.05999755859375,
          164,
          161.97000122070312,
          163.5500030517578,
          179.47999572753906,
          204.14999389648438,
          208.0800018310547,
          223.8699951171875,
          210.35000610351562,
          207.60000610351562,
          209.8300018310547,
          205.42999267578125,
          221.02000427246094,
          222.07000732421875,
          219.52000427246094,
          239.02000427246094,
          242.55999755859375,
          236.75999450683594,
          241.57000732421875,
          243.47999572753906,
          251.27000427246094,
          252.80999755859375,
          255.89999389648438,
          259.510009765625,
          256.79998779296875,
          248.55999755859375,
          253.5399932861328,
          259.1300048828125,
          261.739990234375,
          261,
          262.1000061035156,
          266.32000732421875,
          269.5199890136719,
          275.8699951171875,
          260.29998779296875,
          260.010009765625,
          256.2200012207031,
          248.5399932861328,
          246.5399932861328,
          268.5799865722656,
          260.44000244140625,
          261.17999267578125,
          251.5,
          246.55999755859375,
          252.3300018310547,
          252.17999267578125,
          252.38999938964844,
          250,
          253.91000366210938,
          268,
          267.3399963378906,
          272.8999938964844,
          268.25,
          258.7300109863281,
          250,
          231.0399932861328,
          236.72000122070312,
          247.25,
          244.91000366210938,
          266.1499938964844,
          276.79998779296875,
          273.510009765625,
          290.69000244140625,
          289.67999267578125,
          282.2799987792969,
          290.44000244140625,
          295.2699890136719,
          294.67999267578125,
          299.2699890136719,
          325.1000061035156,
          457.69000244140625,
          423.55999755859375,
          381.32000732421875,
          369.8900146484375,
          350.8800048828125,
          389.6499938964844,
          384.4800109863281,
          383,
          403.510009765625,
          410.94000244140625,
          408.1700134277344,
          413.125,
          438.7300109863281,
          468.4700012207031,
          492.6000061035156,
          500.5299987792969,
          464.9800109863281,
          496.5,
          487.6600036621094,
          465.5,
          470.1099853515625,
          482.989990234375,
          482.2300109863281,
          485.3699951171875,
          478.25,
          480.6099853515625,
          478.54998779296875,
          492.4100036621094,
          491.5400085449219,
          518.7899780273438,
          509.25,
          536.4000244140625,
          559,
          568.3400268554688,
          537.02001953125,
          513.1900024414062,
          520.5399780273438,
          511.5199890136719,
          517.7899780273438,
          538.989990234375,
          516.010009765625,
          489.67999267578125,
          460.9100036621094,
          453,
          451.510009765625,
          483.70001220703125,
          496.7300109863281,
          500.1099853515625,
          413.239990234375,
          376.010009765625,
          413.3399963378906,
          428.6400146484375,
          403.5799865722656,
          399.1499938964844,
          401.6300048828125,
          415.0400085449219,
          414.2900085449219,
          439.6000061035156,
          430.2799987792969,
          427.54998779296875,
          443.7200012207031,
          471.6099853515625,
          478.3599853515625,
          406.30999755859375,
          412.8599853515625,
          413.5400085449219,
          410.010009765625,
          407.8500061035156,
          412,
          385.3599853515625,
          397.9599914550781,
          397.010009765625,
          395.989990234375,
          399.42999267578125,
          404,
          401.6199951171875,
          406.010009765625,
          408.9700012207031,
          409,
          383.8800048828125,
          375.1700134277344,
          351.3900146484375,
          353.75,
          353.3999938964844,
          337.32000732421875,
          359.9800109863281,
          360.8299865722656,
          344.4100036621094,
          342.5,
          349.6099853515625,
          337.7099914550781,
          356.80999755859375,
          364.6300048828125,
          383.239990234375,
          384.5299987792969,
          393.8699951171875,
          382.79998779296875,
          382.80999755859375,
          383.3999938964844,
          391.8299865722656,
          374.3900146484375,
          370.739990234375,
          378.5899963378906,
          372.07000732421875,
          381.92999267578125,
          391.8399963378906,
          380.4700012207031,
          389.9800109863281,
          419.5899963378906,
          410.80999755859375,
          430.0299987792969,
          431,
          432.7699890136719,
          433.1099853515625,
          444.510009765625,
          429.4200134277344,
          417.9100036621094,
          417.260009765625,
          394.3399963378906,
          388.1600036621094,
          385.2300109863281,
          364.7300109863281,
          373.6099853515625,
          409.6600036621094,
          372.7900085449219,
          341.57000732421875,
          343.0899963378906,
          337.42999267578125,
          310.92999267578125,
          342.1099853515625,
          336.0299987792969,
          355.1700134277344,
          346.3900146484375,
          350,
          335.0799865722656,
          336.6499938964844,
          316.32000732421875,
          326.260009765625,
          328.5,
          339.760009765625,
          314.9599914550781,
          314.8500061035156,
          319.95001220703125,
          308.3900146484375,
          313.19000244140625,
          321.2900085449219,
          326.2300109863281,
          323.9599914550781,
          329.7900085449219,
          323.0799865722656,
          331.2799987792969,
          322.6499938964844,
          321.510009765625,
          342.75,
          329.20001220703125,
          332.3800048828125,
          329.95001220703125,
          324.3299865722656,
          321.7799987792969,
          322.760009765625,
          328.32000732421875,
          336.8800048828125,
          336.4200134277344,
          333.489990234375,
          331.25,
          321.1000061035156,
          319.57000732421875,
          313.9200134277344,
          304.8500061035156,
          297.5899963378906,
          293.04998779296875,
          295.239990234375,
          288.489990234375,
          300.25,
          289.70001220703125,
          290.1600036621094,
          307.8900146484375,
          308.92999267578125,
          312.8599853515625,
          310.4599914550781,
          324.7099914550781,
          316.3999938964844,
          321.55999755859375,
          321.2799987792969,
          326.04998779296875,
          326.42999267578125,
          331.5299987792969,
          327.7200012207031,
          327.1099853515625,
          319.010009765625,
          336,
          342.6600036621094,
          341.260009765625,
          333.6300048828125,
          346.5,
          366.3999938964844,
          365.9100036621094,
          359,
          361.8299865722656,
          372.95001220703125,
          374.239990234375,
          369.25,
          374.6499938964844,
          376.9200134277344,
          373.3999938964844,
          372.4700012207031,
          388.8599853515625,
          394.7300109863281,
          387.0299987792969,
          386.4800109863281,
          388.8900146484375,
          401.1199951171875,
          393.9100036621094,
          386.010009765625,
          385.0799865722656,
          379.1199951171875,
          378.3900146484375,
          360.6099853515625,
          356.80999755859375,
          361.9700012207031,
          354.20001220703125,
          355.80999755859375,
          352.9700012207031,
          361.3900146484375,
          359.2300109863281,
          373.1400146484375,
          367.5400085449219,
          369.489990234375,
          386.0199890136719,
          378.1000061035156,
          378.9599914550781,
          374.8800048828125,
          400.5799865722656,
          398.67999267578125,
          383.4700012207031,
          383.3399963378906,
          372.54998779296875,
          358.55999755859375,
          362.8599853515625,
          355.239990234375,
          348.4100036621094,
          345.5400085449219,
          340.92999267578125,
          332.3800048828125,
          336.8599853515625,
          341.29998779296875,
          340.25,
          337.739990234375,
          340.6300048828125,
          340.80999755859375,
          347.5,
          289.5,
          290.8599853515625,
          295.0899963378906,
          298.2900085449219,
          299.9599914550781,
          293.6000061035156,
          295.8599853515625,
          301.5,
          290.239990234375,
          281.44000244140625,
          279.1199951171875,
          278.2200012207031,
          287.67999267578125,
          280.6700134277344,
          278.239990234375,
          277.95001220703125,
          276.19000244140625,
          272.3599853515625,
          272.8800048828125,
          261.8900146484375,
          257.4100036621094,
          261.5,
          267.510009765625,
          259.5799865722656,
          257.1199951171875,
          253.64999389648438,
          256.2699890136719,
          255.0500030517578,
          253.97000122070312,
          255.49000549316406,
          266.239990234375,
          267.010009765625,
          266.32000732421875,
          274.2300109863281,
          276.3999938964844,
          275.7099914550781,
          274.7799987792969,
          277.5799865722656,
          279.7900085449219,
          278.70001220703125,
          272.80999755859375,
          276.5799865722656,
          274.6499938964844,
          278.94000244140625,
          280.2900085449219,
          285.6600036621094,
          282.20001220703125,
          264.70001220703125,
          259.8999938964844,
          258.3999938964844,
          251.25999450683594,
          247.60000610351562,
          254.97000122070312,
          263.7099914550781,
          264.489990234375,
          263.7099914550781,
          255.75,
          251.3000030517578,
          242.27999877929688,
          206.63999938964844,
          208.3000030517578,
          220.2100067138672,
          218.97999572753906,
          211.41000366210938,
          197.7100067138672,
          191.75,
          183.9199981689453,
          185.83999633789062,
          189.05999755859375,
          194.86000061035156,
          188.27000427246094,
          185.25,
          184.57000732421875,
          181.94000244140625,
          183.72999572753906,
          182.39999389648438,
          199.74000549316406,
          197.97000122070312,
          199.4199981689453,
          193.1300048828125,
          191.64999389648438,
          187.44000244140625,
          183.77000427246094,
          181.80999755859375,
          190.52000427246094,
          183.91000366210938,
          184.25999450683594,
          179.85000610351562,
          174.8800048828125,
          176.3300018310547,
          171.60000610351562,
          172.55999755859375,
          175.97000122070312,
          170.64999389648438,
          162.10000610351562,
          159.72000122070312,
          157.6999969482422,
          157.22999572753906,
          155.80999755859375,
          147.66000366210938,
          152.9499969482422,
          145.88999938964844,
          140.3300018310547,
          136.80999755859375,
          143.80999755859375,
          154.27999877929688,
          155.67999267578125,
          148.11000061035156,
          137.94000244140625,
          144.10000610351562,
          141.44000244140625,
          142.69000244140625,
          149.60000610351562,
          145.72000122070312,
          141.24000549316406,
          142.08999633789062,
          146.89999389648438,
          138.50999450683594,
          129.3800048828125,
          126.95999908447266,
          126.61000061035156,
          120.0999984741211,
          126.97000122070312,
          125.31999969482422,
          132.60000610351562,
          122.77999877929688,
          121.61000061035156,
          113.11000061035156,
          108.94000244140625,
          107.87999725341797,
          108.48999786376953,
          109.08000183105469,
          103.33000183105469,
          98.12000274658203,
          94.63999938964844,
          98.97000122070312,
          106.83999633789062,
          111.29000091552734,
          116.27999877929688,
          116.87000274658203,
          119.80000305175781,
          116.80999755859375,
          117.75,
          113.93000030517578,
          117.44999694824219,
          126.26000213623047,
          122.38999938964844,
          117.2300033569336,
          118.0199966430664,
          124.27999877929688,
          122.0199966430664,
          116.08999633789062,
          114.31999969482422,
          110.9000015258789,
          109.05000305175781,
          106.58000183105469,
          114.88999938964844,
          110.30999755859375,
          105.73999786376953,
          111.18000030517578,
          103.69999694824219,
          100.94999694824219,
          100.16999816894531,
          102.44000244140625,
          98.36000061035156,
          97.62000274658203,
          102.55999755859375,
          99.56999969482422,
          104.79000091552734,
          103.52999877929688,
          108.9800033569336,
          100.83999633789062,
          96.37999725341797,
          92.33999633789062,
          90.68000030517578,
          84.80000305175781,
          84.97000122070312,
          94.83999633789062,
          88.91999816894531,
          90.94000244140625,
          84.69000244140625,
          90.94000244140625,
          89.73999786376953,
          89.33000183105469,
          94.33999633789062,
          102.33999633789062,
          107,
          110.41999816894531,
          107.44999694824219,
          107.6500015258789,
          112.23999786376953,
          109.41999816894531,
          111.01000213623047,
          115.04000091552734,
          115.45999908447266,
          110.4000015258789,
          109.06999969482422,
          103.31999969482422,
          106.86000061035156,
          112.93000030517578,
          106.08999633789062,
          110,
          113.81999969482422,
          115.16999816894531,
          117.66999816894531,
          122.63999938964844,
          119.81999969482422,
          113.12999725341797,
          111.87000274658203,
          107.97000122070312,
          110.97000122070312,
          120.41999816894531,
          117.05999755859375,
          120.73999786376953,
          119.80000305175781,
          108.37999725341797,
          107.98999786376953,
          101.01000213623047,
          97.3499984741211,
          99.8499984741211,
          98.91999816894531,
          102.08000183105469,
          107.08999633789062,
          110.8499984741211,
          106.55000305175781,
          106.0999984741211,
          100.33000183105469,
          105.91000366210938,
          106.22000122070312,
          103.86000061035156,
          105.38999938964844,
          108.16000366210938,
          112.97000122070312,
          112.86000061035156,
          113.8499984741211,
          114.73999786376953,
          105.29000091552734,
          112.01000213623047,
          108.05999755859375,
          109.5199966430664,
          113.2300033569336,
          109.19000244140625,
          102.37999725341797,
          103.18000030517578,
          99.5,
          97.44000244140625,
          81.31999969482422,
          83.61000061035156,
          85.72000122070312,
          81.41000366210938
         ],
         "yaxis": "y"
        }
       ],
       "layout": {
        "legend": {
         "title": {
          "text": "variable"
         },
         "tracegroupgap": 0
        },
        "plot_bgcolor": "black",
        "template": {
         "data": {
          "bar": [
           {
            "error_x": {
             "color": "#f2f5fa"
            },
            "error_y": {
             "color": "#f2f5fa"
            },
            "marker": {
             "line": {
              "color": "rgb(17,17,17)",
              "width": 0.5
             },
             "pattern": {
              "fillmode": "overlay",
              "size": 10,
              "solidity": 0.2
             }
            },
            "type": "bar"
           }
          ],
          "barpolar": [
           {
            "marker": {
             "line": {
              "color": "rgb(17,17,17)",
              "width": 0.5
             },
             "pattern": {
              "fillmode": "overlay",
              "size": 10,
              "solidity": 0.2
             }
            },
            "type": "barpolar"
           }
          ],
          "carpet": [
           {
            "aaxis": {
             "endlinecolor": "#A2B1C6",
             "gridcolor": "#506784",
             "linecolor": "#506784",
             "minorgridcolor": "#506784",
             "startlinecolor": "#A2B1C6"
            },
            "baxis": {
             "endlinecolor": "#A2B1C6",
             "gridcolor": "#506784",
             "linecolor": "#506784",
             "minorgridcolor": "#506784",
             "startlinecolor": "#A2B1C6"
            },
            "type": "carpet"
           }
          ],
          "choropleth": [
           {
            "colorbar": {
             "outlinewidth": 0,
             "ticks": ""
            },
            "type": "choropleth"
           }
          ],
          "contour": [
           {
            "colorbar": {
             "outlinewidth": 0,
             "ticks": ""
            },
            "colorscale": [
             [
              0,
              "#0d0887"
             ],
             [
              0.1111111111111111,
              "#46039f"
             ],
             [
              0.2222222222222222,
              "#7201a8"
             ],
             [
              0.3333333333333333,
              "#9c179e"
             ],
             [
              0.4444444444444444,
              "#bd3786"
             ],
             [
              0.5555555555555556,
              "#d8576b"
             ],
             [
              0.6666666666666666,
              "#ed7953"
             ],
             [
              0.7777777777777778,
              "#fb9f3a"
             ],
             [
              0.8888888888888888,
              "#fdca26"
             ],
             [
              1,
              "#f0f921"
             ]
            ],
            "type": "contour"
           }
          ],
          "contourcarpet": [
           {
            "colorbar": {
             "outlinewidth": 0,
             "ticks": ""
            },
            "type": "contourcarpet"
           }
          ],
          "heatmap": [
           {
            "colorbar": {
             "outlinewidth": 0,
             "ticks": ""
            },
            "colorscale": [
             [
              0,
              "#0d0887"
             ],
             [
              0.1111111111111111,
              "#46039f"
             ],
             [
              0.2222222222222222,
              "#7201a8"
             ],
             [
              0.3333333333333333,
              "#9c179e"
             ],
             [
              0.4444444444444444,
              "#bd3786"
             ],
             [
              0.5555555555555556,
              "#d8576b"
             ],
             [
              0.6666666666666666,
              "#ed7953"
             ],
             [
              0.7777777777777778,
              "#fb9f3a"
             ],
             [
              0.8888888888888888,
              "#fdca26"
             ],
             [
              1,
              "#f0f921"
             ]
            ],
            "type": "heatmap"
           }
          ],
          "heatmapgl": [
           {
            "colorbar": {
             "outlinewidth": 0,
             "ticks": ""
            },
            "colorscale": [
             [
              0,
              "#0d0887"
             ],
             [
              0.1111111111111111,
              "#46039f"
             ],
             [
              0.2222222222222222,
              "#7201a8"
             ],
             [
              0.3333333333333333,
              "#9c179e"
             ],
             [
              0.4444444444444444,
              "#bd3786"
             ],
             [
              0.5555555555555556,
              "#d8576b"
             ],
             [
              0.6666666666666666,
              "#ed7953"
             ],
             [
              0.7777777777777778,
              "#fb9f3a"
             ],
             [
              0.8888888888888888,
              "#fdca26"
             ],
             [
              1,
              "#f0f921"
             ]
            ],
            "type": "heatmapgl"
           }
          ],
          "histogram": [
           {
            "marker": {
             "pattern": {
              "fillmode": "overlay",
              "size": 10,
              "solidity": 0.2
             }
            },
            "type": "histogram"
           }
          ],
          "histogram2d": [
           {
            "colorbar": {
             "outlinewidth": 0,
             "ticks": ""
            },
            "colorscale": [
             [
              0,
              "#0d0887"
             ],
             [
              0.1111111111111111,
              "#46039f"
             ],
             [
              0.2222222222222222,
              "#7201a8"
             ],
             [
              0.3333333333333333,
              "#9c179e"
             ],
             [
              0.4444444444444444,
              "#bd3786"
             ],
             [
              0.5555555555555556,
              "#d8576b"
             ],
             [
              0.6666666666666666,
              "#ed7953"
             ],
             [
              0.7777777777777778,
              "#fb9f3a"
             ],
             [
              0.8888888888888888,
              "#fdca26"
             ],
             [
              1,
              "#f0f921"
             ]
            ],
            "type": "histogram2d"
           }
          ],
          "histogram2dcontour": [
           {
            "colorbar": {
             "outlinewidth": 0,
             "ticks": ""
            },
            "colorscale": [
             [
              0,
              "#0d0887"
             ],
             [
              0.1111111111111111,
              "#46039f"
             ],
             [
              0.2222222222222222,
              "#7201a8"
             ],
             [
              0.3333333333333333,
              "#9c179e"
             ],
             [
              0.4444444444444444,
              "#bd3786"
             ],
             [
              0.5555555555555556,
              "#d8576b"
             ],
             [
              0.6666666666666666,
              "#ed7953"
             ],
             [
              0.7777777777777778,
              "#fb9f3a"
             ],
             [
              0.8888888888888888,
              "#fdca26"
             ],
             [
              1,
              "#f0f921"
             ]
            ],
            "type": "histogram2dcontour"
           }
          ],
          "mesh3d": [
           {
            "colorbar": {
             "outlinewidth": 0,
             "ticks": ""
            },
            "type": "mesh3d"
           }
          ],
          "parcoords": [
           {
            "line": {
             "colorbar": {
              "outlinewidth": 0,
              "ticks": ""
             }
            },
            "type": "parcoords"
           }
          ],
          "pie": [
           {
            "automargin": true,
            "type": "pie"
           }
          ],
          "scatter": [
           {
            "marker": {
             "line": {
              "color": "#283442"
             }
            },
            "type": "scatter"
           }
          ],
          "scatter3d": [
           {
            "line": {
             "colorbar": {
              "outlinewidth": 0,
              "ticks": ""
             }
            },
            "marker": {
             "colorbar": {
              "outlinewidth": 0,
              "ticks": ""
             }
            },
            "type": "scatter3d"
           }
          ],
          "scattercarpet": [
           {
            "marker": {
             "colorbar": {
              "outlinewidth": 0,
              "ticks": ""
             }
            },
            "type": "scattercarpet"
           }
          ],
          "scattergeo": [
           {
            "marker": {
             "colorbar": {
              "outlinewidth": 0,
              "ticks": ""
             }
            },
            "type": "scattergeo"
           }
          ],
          "scattergl": [
           {
            "marker": {
             "line": {
              "color": "#283442"
             }
            },
            "type": "scattergl"
           }
          ],
          "scattermapbox": [
           {
            "marker": {
             "colorbar": {
              "outlinewidth": 0,
              "ticks": ""
             }
            },
            "type": "scattermapbox"
           }
          ],
          "scatterpolar": [
           {
            "marker": {
             "colorbar": {
              "outlinewidth": 0,
              "ticks": ""
             }
            },
            "type": "scatterpolar"
           }
          ],
          "scatterpolargl": [
           {
            "marker": {
             "colorbar": {
              "outlinewidth": 0,
              "ticks": ""
             }
            },
            "type": "scatterpolargl"
           }
          ],
          "scatterternary": [
           {
            "marker": {
             "colorbar": {
              "outlinewidth": 0,
              "ticks": ""
             }
            },
            "type": "scatterternary"
           }
          ],
          "surface": [
           {
            "colorbar": {
             "outlinewidth": 0,
             "ticks": ""
            },
            "colorscale": [
             [
              0,
              "#0d0887"
             ],
             [
              0.1111111111111111,
              "#46039f"
             ],
             [
              0.2222222222222222,
              "#7201a8"
             ],
             [
              0.3333333333333333,
              "#9c179e"
             ],
             [
              0.4444444444444444,
              "#bd3786"
             ],
             [
              0.5555555555555556,
              "#d8576b"
             ],
             [
              0.6666666666666666,
              "#ed7953"
             ],
             [
              0.7777777777777778,
              "#fb9f3a"
             ],
             [
              0.8888888888888888,
              "#fdca26"
             ],
             [
              1,
              "#f0f921"
             ]
            ],
            "type": "surface"
           }
          ],
          "table": [
           {
            "cells": {
             "fill": {
              "color": "#506784"
             },
             "line": {
              "color": "rgb(17,17,17)"
             }
            },
            "header": {
             "fill": {
              "color": "#2a3f5f"
             },
             "line": {
              "color": "rgb(17,17,17)"
             }
            },
            "type": "table"
           }
          ]
         },
         "layout": {
          "annotationdefaults": {
           "arrowcolor": "#f2f5fa",
           "arrowhead": 0,
           "arrowwidth": 1
          },
          "autotypenumbers": "strict",
          "coloraxis": {
           "colorbar": {
            "outlinewidth": 0,
            "ticks": ""
           }
          },
          "colorscale": {
           "diverging": [
            [
             0,
             "#8e0152"
            ],
            [
             0.1,
             "#c51b7d"
            ],
            [
             0.2,
             "#de77ae"
            ],
            [
             0.3,
             "#f1b6da"
            ],
            [
             0.4,
             "#fde0ef"
            ],
            [
             0.5,
             "#f7f7f7"
            ],
            [
             0.6,
             "#e6f5d0"
            ],
            [
             0.7,
             "#b8e186"
            ],
            [
             0.8,
             "#7fbc41"
            ],
            [
             0.9,
             "#4d9221"
            ],
            [
             1,
             "#276419"
            ]
           ],
           "sequential": [
            [
             0,
             "#0d0887"
            ],
            [
             0.1111111111111111,
             "#46039f"
            ],
            [
             0.2222222222222222,
             "#7201a8"
            ],
            [
             0.3333333333333333,
             "#9c179e"
            ],
            [
             0.4444444444444444,
             "#bd3786"
            ],
            [
             0.5555555555555556,
             "#d8576b"
            ],
            [
             0.6666666666666666,
             "#ed7953"
            ],
            [
             0.7777777777777778,
             "#fb9f3a"
            ],
            [
             0.8888888888888888,
             "#fdca26"
            ],
            [
             1,
             "#f0f921"
            ]
           ],
           "sequentialminus": [
            [
             0,
             "#0d0887"
            ],
            [
             0.1111111111111111,
             "#46039f"
            ],
            [
             0.2222222222222222,
             "#7201a8"
            ],
            [
             0.3333333333333333,
             "#9c179e"
            ],
            [
             0.4444444444444444,
             "#bd3786"
            ],
            [
             0.5555555555555556,
             "#d8576b"
            ],
            [
             0.6666666666666666,
             "#ed7953"
            ],
            [
             0.7777777777777778,
             "#fb9f3a"
            ],
            [
             0.8888888888888888,
             "#fdca26"
            ],
            [
             1,
             "#f0f921"
            ]
           ]
          },
          "colorway": [
           "#636efa",
           "#EF553B",
           "#00cc96",
           "#ab63fa",
           "#FFA15A",
           "#19d3f3",
           "#FF6692",
           "#B6E880",
           "#FF97FF",
           "#FECB52"
          ],
          "font": {
           "color": "#f2f5fa"
          },
          "geo": {
           "bgcolor": "rgb(17,17,17)",
           "lakecolor": "rgb(17,17,17)",
           "landcolor": "rgb(17,17,17)",
           "showlakes": true,
           "showland": true,
           "subunitcolor": "#506784"
          },
          "hoverlabel": {
           "align": "left"
          },
          "hovermode": "closest",
          "mapbox": {
           "style": "dark"
          },
          "paper_bgcolor": "rgb(17,17,17)",
          "plot_bgcolor": "rgb(17,17,17)",
          "polar": {
           "angularaxis": {
            "gridcolor": "#506784",
            "linecolor": "#506784",
            "ticks": ""
           },
           "bgcolor": "rgb(17,17,17)",
           "radialaxis": {
            "gridcolor": "#506784",
            "linecolor": "#506784",
            "ticks": ""
           }
          },
          "scene": {
           "xaxis": {
            "backgroundcolor": "rgb(17,17,17)",
            "gridcolor": "#506784",
            "gridwidth": 2,
            "linecolor": "#506784",
            "showbackground": true,
            "ticks": "",
            "zerolinecolor": "#C8D4E3"
           },
           "yaxis": {
            "backgroundcolor": "rgb(17,17,17)",
            "gridcolor": "#506784",
            "gridwidth": 2,
            "linecolor": "#506784",
            "showbackground": true,
            "ticks": "",
            "zerolinecolor": "#C8D4E3"
           },
           "zaxis": {
            "backgroundcolor": "rgb(17,17,17)",
            "gridcolor": "#506784",
            "gridwidth": 2,
            "linecolor": "#506784",
            "showbackground": true,
            "ticks": "",
            "zerolinecolor": "#C8D4E3"
           }
          },
          "shapedefaults": {
           "line": {
            "color": "#f2f5fa"
           }
          },
          "sliderdefaults": {
           "bgcolor": "#C8D4E3",
           "bordercolor": "rgb(17,17,17)",
           "borderwidth": 1,
           "tickwidth": 0
          },
          "ternary": {
           "aaxis": {
            "gridcolor": "#506784",
            "linecolor": "#506784",
            "ticks": ""
           },
           "baxis": {
            "gridcolor": "#506784",
            "linecolor": "#506784",
            "ticks": ""
           },
           "bgcolor": "rgb(17,17,17)",
           "caxis": {
            "gridcolor": "#506784",
            "linecolor": "#506784",
            "ticks": ""
           }
          },
          "title": {
           "x": 0.05
          },
          "updatemenudefaults": {
           "bgcolor": "#506784",
           "borderwidth": 0
          },
          "xaxis": {
           "automargin": true,
           "gridcolor": "#283442",
           "linecolor": "#506784",
           "ticks": "",
           "title": {
            "standoff": 15
           },
           "zerolinecolor": "#283442",
           "zerolinewidth": 2
          },
          "yaxis": {
           "automargin": true,
           "gridcolor": "#283442",
           "linecolor": "#506784",
           "ticks": "",
           "title": {
            "standoff": 15
           },
           "zerolinecolor": "#283442",
           "zerolinewidth": 2
          }
         }
        },
        "title": {
         "font": {
          "size": 24
         },
         "text": "Zoom Video Communications"
        },
        "xaxis": {
         "anchor": "y",
         "domain": [
          0,
          1
         ],
         "gridcolor": "red",
         "gridwidth": 1,
         "showgrid": true,
         "title": {
          "text": "index"
         }
        },
        "yaxis": {
         "anchor": "x",
         "domain": [
          0,
          1
         ],
         "gridcolor": "red",
         "gridwidth": 1,
         "showgrid": true,
         "title": {
          "text": "value"
         }
        }
       }
      },
      "text/html": [
       "<div>                            <div id=\"55b47e28-650e-4275-8de6-12e04009cb5b\" class=\"plotly-graph-div\" style=\"height:525px; width:100%;\"></div>            <script type=\"text/javascript\">                require([\"plotly\"], function(Plotly) {                    window.PLOTLYENV=window.PLOTLYENV || {};                                    if (document.getElementById(\"55b47e28-650e-4275-8de6-12e04009cb5b\")) {                    Plotly.newPlot(                        \"55b47e28-650e-4275-8de6-12e04009cb5b\",                        [{\"fillpattern\":{\"shape\":\"\"},\"hovertemplate\":\"variable=Zoom\\u003cbr\\u003eindex=%{x}\\u003cbr\\u003evalue=%{y}\\u003cextra\\u003e\\u003c\\u002fextra\\u003e\",\"legendgroup\":\"Zoom\",\"line\":{\"color\":\"cyan\",\"width\":2},\"marker\":{\"symbol\":\"circle\"},\"mode\":\"lines\",\"name\":\"Zoom\",\"orientation\":\"v\",\"showlegend\":true,\"stackgroup\":\"1\",\"x\":[\"2020-02-20T00:00:00\",\"2020-02-21T00:00:00\",\"2020-02-24T00:00:00\",\"2020-02-25T00:00:00\",\"2020-02-26T00:00:00\",\"2020-02-27T00:00:00\",\"2020-02-28T00:00:00\",\"2020-03-02T00:00:00\",\"2020-03-03T00:00:00\",\"2020-03-04T00:00:00\",\"2020-03-05T00:00:00\",\"2020-03-06T00:00:00\",\"2020-03-09T00:00:00\",\"2020-03-10T00:00:00\",\"2020-03-11T00:00:00\",\"2020-03-12T00:00:00\",\"2020-03-13T00:00:00\",\"2020-03-16T00:00:00\",\"2020-03-17T00:00:00\",\"2020-03-18T00:00:00\",\"2020-03-19T00:00:00\",\"2020-03-20T00:00:00\",\"2020-03-23T00:00:00\",\"2020-03-24T00:00:00\",\"2020-03-25T00:00:00\",\"2020-03-26T00:00:00\",\"2020-03-27T00:00:00\",\"2020-03-30T00:00:00\",\"2020-03-31T00:00:00\",\"2020-04-01T00:00:00\",\"2020-04-02T00:00:00\",\"2020-04-03T00:00:00\",\"2020-04-06T00:00:00\",\"2020-04-07T00:00:00\",\"2020-04-08T00:00:00\",\"2020-04-09T00:00:00\",\"2020-04-13T00:00:00\",\"2020-04-14T00:00:00\",\"2020-04-15T00:00:00\",\"2020-04-16T00:00:00\",\"2020-04-17T00:00:00\",\"2020-04-20T00:00:00\",\"2020-04-21T00:00:00\",\"2020-04-22T00:00:00\",\"2020-04-23T00:00:00\",\"2020-04-24T00:00:00\",\"2020-04-27T00:00:00\",\"2020-04-28T00:00:00\",\"2020-04-29T00:00:00\",\"2020-04-30T00:00:00\",\"2020-05-01T00:00:00\",\"2020-05-04T00:00:00\",\"2020-05-05T00:00:00\",\"2020-05-06T00:00:00\",\"2020-05-07T00:00:00\",\"2020-05-08T00:00:00\",\"2020-05-11T00:00:00\",\"2020-05-12T00:00:00\",\"2020-05-13T00:00:00\",\"2020-05-14T00:00:00\",\"2020-05-15T00:00:00\",\"2020-05-18T00:00:00\",\"2020-05-19T00:00:00\",\"2020-05-20T00:00:00\",\"2020-05-21T00:00:00\",\"2020-05-22T00:00:00\",\"2020-05-26T00:00:00\",\"2020-05-27T00:00:00\",\"2020-05-28T00:00:00\",\"2020-05-29T00:00:00\",\"2020-06-01T00:00:00\",\"2020-06-02T00:00:00\",\"2020-06-03T00:00:00\",\"2020-06-04T00:00:00\",\"2020-06-05T00:00:00\",\"2020-06-08T00:00:00\",\"2020-06-09T00:00:00\",\"2020-06-10T00:00:00\",\"2020-06-11T00:00:00\",\"2020-06-12T00:00:00\",\"2020-06-15T00:00:00\",\"2020-06-16T00:00:00\",\"2020-06-17T00:00:00\",\"2020-06-18T00:00:00\",\"2020-06-19T00:00:00\",\"2020-06-22T00:00:00\",\"2020-06-23T00:00:00\",\"2020-06-24T00:00:00\",\"2020-06-25T00:00:00\",\"2020-06-26T00:00:00\",\"2020-06-29T00:00:00\",\"2020-06-30T00:00:00\",\"2020-07-01T00:00:00\",\"2020-07-02T00:00:00\",\"2020-07-06T00:00:00\",\"2020-07-07T00:00:00\",\"2020-07-08T00:00:00\",\"2020-07-09T00:00:00\",\"2020-07-10T00:00:00\",\"2020-07-13T00:00:00\",\"2020-07-14T00:00:00\",\"2020-07-15T00:00:00\",\"2020-07-16T00:00:00\",\"2020-07-17T00:00:00\",\"2020-07-20T00:00:00\",\"2020-07-21T00:00:00\",\"2020-07-22T00:00:00\",\"2020-07-23T00:00:00\",\"2020-07-24T00:00:00\",\"2020-07-27T00:00:00\",\"2020-07-28T00:00:00\",\"2020-07-29T00:00:00\",\"2020-07-30T00:00:00\",\"2020-07-31T00:00:00\",\"2020-08-03T00:00:00\",\"2020-08-04T00:00:00\",\"2020-08-05T00:00:00\",\"2020-08-06T00:00:00\",\"2020-08-07T00:00:00\",\"2020-08-10T00:00:00\",\"2020-08-11T00:00:00\",\"2020-08-12T00:00:00\",\"2020-08-13T00:00:00\",\"2020-08-14T00:00:00\",\"2020-08-17T00:00:00\",\"2020-08-18T00:00:00\",\"2020-08-19T00:00:00\",\"2020-08-20T00:00:00\",\"2020-08-21T00:00:00\",\"2020-08-24T00:00:00\",\"2020-08-25T00:00:00\",\"2020-08-26T00:00:00\",\"2020-08-27T00:00:00\",\"2020-08-28T00:00:00\",\"2020-08-31T00:00:00\",\"2020-09-01T00:00:00\",\"2020-09-02T00:00:00\",\"2020-09-03T00:00:00\",\"2020-09-04T00:00:00\",\"2020-09-08T00:00:00\",\"2020-09-09T00:00:00\",\"2020-09-10T00:00:00\",\"2020-09-11T00:00:00\",\"2020-09-14T00:00:00\",\"2020-09-15T00:00:00\",\"2020-09-16T00:00:00\",\"2020-09-17T00:00:00\",\"2020-09-18T00:00:00\",\"2020-09-21T00:00:00\",\"2020-09-22T00:00:00\",\"2020-09-23T00:00:00\",\"2020-09-24T00:00:00\",\"2020-09-25T00:00:00\",\"2020-09-28T00:00:00\",\"2020-09-29T00:00:00\",\"2020-09-30T00:00:00\",\"2020-10-01T00:00:00\",\"2020-10-02T00:00:00\",\"2020-10-05T00:00:00\",\"2020-10-06T00:00:00\",\"2020-10-07T00:00:00\",\"2020-10-08T00:00:00\",\"2020-10-09T00:00:00\",\"2020-10-12T00:00:00\",\"2020-10-13T00:00:00\",\"2020-10-14T00:00:00\",\"2020-10-15T00:00:00\",\"2020-10-16T00:00:00\",\"2020-10-19T00:00:00\",\"2020-10-20T00:00:00\",\"2020-10-21T00:00:00\",\"2020-10-22T00:00:00\",\"2020-10-23T00:00:00\",\"2020-10-26T00:00:00\",\"2020-10-27T00:00:00\",\"2020-10-28T00:00:00\",\"2020-10-29T00:00:00\",\"2020-10-30T00:00:00\",\"2020-11-02T00:00:00\",\"2020-11-03T00:00:00\",\"2020-11-04T00:00:00\",\"2020-11-05T00:00:00\",\"2020-11-06T00:00:00\",\"2020-11-09T00:00:00\",\"2020-11-10T00:00:00\",\"2020-11-11T00:00:00\",\"2020-11-12T00:00:00\",\"2020-11-13T00:00:00\",\"2020-11-16T00:00:00\",\"2020-11-17T00:00:00\",\"2020-11-18T00:00:00\",\"2020-11-19T00:00:00\",\"2020-11-20T00:00:00\",\"2020-11-23T00:00:00\",\"2020-11-24T00:00:00\",\"2020-11-25T00:00:00\",\"2020-11-27T00:00:00\",\"2020-11-30T00:00:00\",\"2020-12-01T00:00:00\",\"2020-12-02T00:00:00\",\"2020-12-03T00:00:00\",\"2020-12-04T00:00:00\",\"2020-12-07T00:00:00\",\"2020-12-08T00:00:00\",\"2020-12-09T00:00:00\",\"2020-12-10T00:00:00\",\"2020-12-11T00:00:00\",\"2020-12-14T00:00:00\",\"2020-12-15T00:00:00\",\"2020-12-16T00:00:00\",\"2020-12-17T00:00:00\",\"2020-12-18T00:00:00\",\"2020-12-21T00:00:00\",\"2020-12-22T00:00:00\",\"2020-12-23T00:00:00\",\"2020-12-24T00:00:00\",\"2020-12-28T00:00:00\",\"2020-12-29T00:00:00\",\"2020-12-30T00:00:00\",\"2020-12-31T00:00:00\",\"2021-01-04T00:00:00\",\"2021-01-05T00:00:00\",\"2021-01-06T00:00:00\",\"2021-01-07T00:00:00\",\"2021-01-08T00:00:00\",\"2021-01-11T00:00:00\",\"2021-01-12T00:00:00\",\"2021-01-13T00:00:00\",\"2021-01-14T00:00:00\",\"2021-01-15T00:00:00\",\"2021-01-19T00:00:00\",\"2021-01-20T00:00:00\",\"2021-01-21T00:00:00\",\"2021-01-22T00:00:00\",\"2021-01-25T00:00:00\",\"2021-01-26T00:00:00\",\"2021-01-27T00:00:00\",\"2021-01-28T00:00:00\",\"2021-01-29T00:00:00\",\"2021-02-01T00:00:00\",\"2021-02-02T00:00:00\",\"2021-02-03T00:00:00\",\"2021-02-04T00:00:00\",\"2021-02-05T00:00:00\",\"2021-02-08T00:00:00\",\"2021-02-09T00:00:00\",\"2021-02-10T00:00:00\",\"2021-02-11T00:00:00\",\"2021-02-12T00:00:00\",\"2021-02-16T00:00:00\",\"2021-02-17T00:00:00\",\"2021-02-18T00:00:00\",\"2021-02-19T00:00:00\",\"2021-02-22T00:00:00\",\"2021-02-23T00:00:00\",\"2021-02-24T00:00:00\",\"2021-02-25T00:00:00\",\"2021-02-26T00:00:00\",\"2021-03-01T00:00:00\",\"2021-03-02T00:00:00\",\"2021-03-03T00:00:00\",\"2021-03-04T00:00:00\",\"2021-03-05T00:00:00\",\"2021-03-08T00:00:00\",\"2021-03-09T00:00:00\",\"2021-03-10T00:00:00\",\"2021-03-11T00:00:00\",\"2021-03-12T00:00:00\",\"2021-03-15T00:00:00\",\"2021-03-16T00:00:00\",\"2021-03-17T00:00:00\",\"2021-03-18T00:00:00\",\"2021-03-19T00:00:00\",\"2021-03-22T00:00:00\",\"2021-03-23T00:00:00\",\"2021-03-24T00:00:00\",\"2021-03-25T00:00:00\",\"2021-03-26T00:00:00\",\"2021-03-29T00:00:00\",\"2021-03-30T00:00:00\",\"2021-03-31T00:00:00\",\"2021-04-01T00:00:00\",\"2021-04-05T00:00:00\",\"2021-04-06T00:00:00\",\"2021-04-07T00:00:00\",\"2021-04-08T00:00:00\",\"2021-04-09T00:00:00\",\"2021-04-12T00:00:00\",\"2021-04-13T00:00:00\",\"2021-04-14T00:00:00\",\"2021-04-15T00:00:00\",\"2021-04-16T00:00:00\",\"2021-04-19T00:00:00\",\"2021-04-20T00:00:00\",\"2021-04-21T00:00:00\",\"2021-04-22T00:00:00\",\"2021-04-23T00:00:00\",\"2021-04-26T00:00:00\",\"2021-04-27T00:00:00\",\"2021-04-28T00:00:00\",\"2021-04-29T00:00:00\",\"2021-04-30T00:00:00\",\"2021-05-03T00:00:00\",\"2021-05-04T00:00:00\",\"2021-05-05T00:00:00\",\"2021-05-06T00:00:00\",\"2021-05-07T00:00:00\",\"2021-05-10T00:00:00\",\"2021-05-11T00:00:00\",\"2021-05-12T00:00:00\",\"2021-05-13T00:00:00\",\"2021-05-14T00:00:00\",\"2021-05-17T00:00:00\",\"2021-05-18T00:00:00\",\"2021-05-19T00:00:00\",\"2021-05-20T00:00:00\",\"2021-05-21T00:00:00\",\"2021-05-24T00:00:00\",\"2021-05-25T00:00:00\",\"2021-05-26T00:00:00\",\"2021-05-27T00:00:00\",\"2021-05-28T00:00:00\",\"2021-06-01T00:00:00\",\"2021-06-02T00:00:00\",\"2021-06-03T00:00:00\",\"2021-06-04T00:00:00\",\"2021-06-07T00:00:00\",\"2021-06-08T00:00:00\",\"2021-06-09T00:00:00\",\"2021-06-10T00:00:00\",\"2021-06-11T00:00:00\",\"2021-06-14T00:00:00\",\"2021-06-15T00:00:00\",\"2021-06-16T00:00:00\",\"2021-06-17T00:00:00\",\"2021-06-18T00:00:00\",\"2021-06-21T00:00:00\",\"2021-06-22T00:00:00\",\"2021-06-23T00:00:00\",\"2021-06-24T00:00:00\",\"2021-06-25T00:00:00\",\"2021-06-28T00:00:00\",\"2021-06-29T00:00:00\",\"2021-06-30T00:00:00\",\"2021-07-01T00:00:00\",\"2021-07-02T00:00:00\",\"2021-07-06T00:00:00\",\"2021-07-07T00:00:00\",\"2021-07-08T00:00:00\",\"2021-07-09T00:00:00\",\"2021-07-12T00:00:00\",\"2021-07-13T00:00:00\",\"2021-07-14T00:00:00\",\"2021-07-15T00:00:00\",\"2021-07-16T00:00:00\",\"2021-07-19T00:00:00\",\"2021-07-20T00:00:00\",\"2021-07-21T00:00:00\",\"2021-07-22T00:00:00\",\"2021-07-23T00:00:00\",\"2021-07-26T00:00:00\",\"2021-07-27T00:00:00\",\"2021-07-28T00:00:00\",\"2021-07-29T00:00:00\",\"2021-07-30T00:00:00\",\"2021-08-02T00:00:00\",\"2021-08-03T00:00:00\",\"2021-08-04T00:00:00\",\"2021-08-05T00:00:00\",\"2021-08-06T00:00:00\",\"2021-08-09T00:00:00\",\"2021-08-10T00:00:00\",\"2021-08-11T00:00:00\",\"2021-08-12T00:00:00\",\"2021-08-13T00:00:00\",\"2021-08-16T00:00:00\",\"2021-08-17T00:00:00\",\"2021-08-18T00:00:00\",\"2021-08-19T00:00:00\",\"2021-08-20T00:00:00\",\"2021-08-23T00:00:00\",\"2021-08-24T00:00:00\",\"2021-08-25T00:00:00\",\"2021-08-26T00:00:00\",\"2021-08-27T00:00:00\",\"2021-08-30T00:00:00\",\"2021-08-31T00:00:00\",\"2021-09-01T00:00:00\",\"2021-09-02T00:00:00\",\"2021-09-03T00:00:00\",\"2021-09-07T00:00:00\",\"2021-09-08T00:00:00\",\"2021-09-09T00:00:00\",\"2021-09-10T00:00:00\",\"2021-09-13T00:00:00\",\"2021-09-14T00:00:00\",\"2021-09-15T00:00:00\",\"2021-09-16T00:00:00\",\"2021-09-17T00:00:00\",\"2021-09-20T00:00:00\",\"2021-09-21T00:00:00\",\"2021-09-22T00:00:00\",\"2021-09-23T00:00:00\",\"2021-09-24T00:00:00\",\"2021-09-27T00:00:00\",\"2021-09-28T00:00:00\",\"2021-09-29T00:00:00\",\"2021-09-30T00:00:00\",\"2021-10-01T00:00:00\",\"2021-10-04T00:00:00\",\"2021-10-05T00:00:00\",\"2021-10-06T00:00:00\",\"2021-10-07T00:00:00\",\"2021-10-08T00:00:00\",\"2021-10-11T00:00:00\",\"2021-10-12T00:00:00\",\"2021-10-13T00:00:00\",\"2021-10-14T00:00:00\",\"2021-10-15T00:00:00\",\"2021-10-18T00:00:00\",\"2021-10-19T00:00:00\",\"2021-10-20T00:00:00\",\"2021-10-21T00:00:00\",\"2021-10-22T00:00:00\",\"2021-10-25T00:00:00\",\"2021-10-26T00:00:00\",\"2021-10-27T00:00:00\",\"2021-10-28T00:00:00\",\"2021-10-29T00:00:00\",\"2021-11-01T00:00:00\",\"2021-11-02T00:00:00\",\"2021-11-03T00:00:00\",\"2021-11-04T00:00:00\",\"2021-11-05T00:00:00\",\"2021-11-08T00:00:00\",\"2021-11-09T00:00:00\",\"2021-11-10T00:00:00\",\"2021-11-11T00:00:00\",\"2021-11-12T00:00:00\",\"2021-11-15T00:00:00\",\"2021-11-16T00:00:00\",\"2021-11-17T00:00:00\",\"2021-11-18T00:00:00\",\"2021-11-19T00:00:00\",\"2021-11-22T00:00:00\",\"2021-11-23T00:00:00\",\"2021-11-24T00:00:00\",\"2021-11-26T00:00:00\",\"2021-11-29T00:00:00\",\"2021-11-30T00:00:00\",\"2021-12-01T00:00:00\",\"2021-12-02T00:00:00\",\"2021-12-03T00:00:00\",\"2021-12-06T00:00:00\",\"2021-12-07T00:00:00\",\"2021-12-08T00:00:00\",\"2021-12-09T00:00:00\",\"2021-12-10T00:00:00\",\"2021-12-13T00:00:00\",\"2021-12-14T00:00:00\",\"2021-12-15T00:00:00\",\"2021-12-16T00:00:00\",\"2021-12-17T00:00:00\",\"2021-12-20T00:00:00\",\"2021-12-21T00:00:00\",\"2021-12-22T00:00:00\",\"2021-12-23T00:00:00\",\"2021-12-27T00:00:00\",\"2021-12-28T00:00:00\",\"2021-12-29T00:00:00\",\"2021-12-30T00:00:00\",\"2021-12-31T00:00:00\",\"2022-01-03T00:00:00\",\"2022-01-04T00:00:00\",\"2022-01-05T00:00:00\",\"2022-01-06T00:00:00\",\"2022-01-07T00:00:00\",\"2022-01-10T00:00:00\",\"2022-01-11T00:00:00\",\"2022-01-12T00:00:00\",\"2022-01-13T00:00:00\",\"2022-01-14T00:00:00\",\"2022-01-18T00:00:00\",\"2022-01-19T00:00:00\",\"2022-01-20T00:00:00\",\"2022-01-21T00:00:00\",\"2022-01-24T00:00:00\",\"2022-01-25T00:00:00\",\"2022-01-26T00:00:00\",\"2022-01-27T00:00:00\",\"2022-01-28T00:00:00\",\"2022-01-31T00:00:00\",\"2022-02-01T00:00:00\",\"2022-02-02T00:00:00\",\"2022-02-03T00:00:00\",\"2022-02-04T00:00:00\",\"2022-02-07T00:00:00\",\"2022-02-08T00:00:00\",\"2022-02-09T00:00:00\",\"2022-02-10T00:00:00\",\"2022-02-11T00:00:00\",\"2022-02-14T00:00:00\",\"2022-02-15T00:00:00\",\"2022-02-16T00:00:00\",\"2022-02-17T00:00:00\",\"2022-02-18T00:00:00\",\"2022-02-22T00:00:00\",\"2022-02-23T00:00:00\",\"2022-02-24T00:00:00\",\"2022-02-25T00:00:00\",\"2022-02-28T00:00:00\",\"2022-03-01T00:00:00\",\"2022-03-02T00:00:00\",\"2022-03-03T00:00:00\",\"2022-03-04T00:00:00\",\"2022-03-07T00:00:00\",\"2022-03-08T00:00:00\",\"2022-03-09T00:00:00\",\"2022-03-10T00:00:00\",\"2022-03-11T00:00:00\",\"2022-03-14T00:00:00\",\"2022-03-15T00:00:00\",\"2022-03-16T00:00:00\",\"2022-03-17T00:00:00\",\"2022-03-18T00:00:00\",\"2022-03-21T00:00:00\",\"2022-03-22T00:00:00\",\"2022-03-23T00:00:00\",\"2022-03-24T00:00:00\",\"2022-03-25T00:00:00\",\"2022-03-28T00:00:00\",\"2022-03-29T00:00:00\",\"2022-03-30T00:00:00\",\"2022-03-31T00:00:00\",\"2022-04-01T00:00:00\",\"2022-04-04T00:00:00\",\"2022-04-05T00:00:00\",\"2022-04-06T00:00:00\",\"2022-04-07T00:00:00\",\"2022-04-08T00:00:00\",\"2022-04-11T00:00:00\",\"2022-04-12T00:00:00\",\"2022-04-13T00:00:00\",\"2022-04-14T00:00:00\",\"2022-04-18T00:00:00\",\"2022-04-19T00:00:00\",\"2022-04-20T00:00:00\",\"2022-04-21T00:00:00\",\"2022-04-22T00:00:00\",\"2022-04-25T00:00:00\",\"2022-04-26T00:00:00\",\"2022-04-27T00:00:00\",\"2022-04-28T00:00:00\",\"2022-04-29T00:00:00\",\"2022-05-02T00:00:00\",\"2022-05-03T00:00:00\",\"2022-05-04T00:00:00\",\"2022-05-05T00:00:00\",\"2022-05-06T00:00:00\",\"2022-05-09T00:00:00\",\"2022-05-10T00:00:00\",\"2022-05-11T00:00:00\",\"2022-05-12T00:00:00\",\"2022-05-13T00:00:00\",\"2022-05-16T00:00:00\",\"2022-05-17T00:00:00\",\"2022-05-18T00:00:00\",\"2022-05-19T00:00:00\",\"2022-05-20T00:00:00\",\"2022-05-23T00:00:00\",\"2022-05-24T00:00:00\",\"2022-05-25T00:00:00\",\"2022-05-26T00:00:00\",\"2022-05-27T00:00:00\",\"2022-05-31T00:00:00\",\"2022-06-01T00:00:00\",\"2022-06-02T00:00:00\",\"2022-06-03T00:00:00\",\"2022-06-06T00:00:00\",\"2022-06-07T00:00:00\",\"2022-06-08T00:00:00\",\"2022-06-09T00:00:00\",\"2022-06-10T00:00:00\",\"2022-06-13T00:00:00\",\"2022-06-14T00:00:00\",\"2022-06-15T00:00:00\",\"2022-06-16T00:00:00\",\"2022-06-17T00:00:00\",\"2022-06-21T00:00:00\",\"2022-06-22T00:00:00\",\"2022-06-23T00:00:00\",\"2022-06-24T00:00:00\",\"2022-06-27T00:00:00\",\"2022-06-28T00:00:00\",\"2022-06-29T00:00:00\",\"2022-06-30T00:00:00\",\"2022-07-01T00:00:00\",\"2022-07-05T00:00:00\",\"2022-07-06T00:00:00\",\"2022-07-07T00:00:00\",\"2022-07-08T00:00:00\",\"2022-07-11T00:00:00\",\"2022-07-12T00:00:00\",\"2022-07-13T00:00:00\",\"2022-07-14T00:00:00\",\"2022-07-15T00:00:00\",\"2022-07-18T00:00:00\",\"2022-07-19T00:00:00\",\"2022-07-20T00:00:00\",\"2022-07-21T00:00:00\",\"2022-07-22T00:00:00\",\"2022-07-25T00:00:00\",\"2022-07-26T00:00:00\",\"2022-07-27T00:00:00\",\"2022-07-28T00:00:00\",\"2022-07-29T00:00:00\",\"2022-08-01T00:00:00\",\"2022-08-02T00:00:00\",\"2022-08-03T00:00:00\",\"2022-08-04T00:00:00\",\"2022-08-05T00:00:00\",\"2022-08-08T00:00:00\",\"2022-08-09T00:00:00\",\"2022-08-10T00:00:00\",\"2022-08-11T00:00:00\",\"2022-08-12T00:00:00\",\"2022-08-15T00:00:00\",\"2022-08-16T00:00:00\",\"2022-08-17T00:00:00\",\"2022-08-18T00:00:00\",\"2022-08-19T00:00:00\",\"2022-08-22T00:00:00\",\"2022-08-23T00:00:00\",\"2022-08-24T00:00:00\",\"2022-08-25T00:00:00\",\"2022-08-26T00:00:00\"],\"xaxis\":\"x\",\"y\":[105.29000091552734,101.76000213623047,105.01000213623047,107.08000183105469,106.87999725341797,113.55000305175781,105.0,113.11000061035156,117.47000122070312,116.80000305175781,125.0,114.31999969482422,113.75,108.48999786376953,110.30000305175781,109.47000122070312,107.47000122070312,107.86000061035156,111.0999984741211,118.70999908447266,123.7699966430664,130.5500030517578,159.55999755859375,135.17999267578125,138.11000061035156,141.14999389648438,151.6999969482422,150.8800048828125,146.1199951171875,137.0,121.93000030517578,128.1999969482422,122.94000244140625,113.75,117.80999755859375,124.51000213623047,135.9199981689453,141.88999938964844,151.55999755859375,150.25999450683594,150.05999755859375,148.99000549316406,143.27000427246094,150.25,169.08999633789062,158.8000030517578,164.60000610351562,156.72000122070312,146.47999572753906,135.1699981689453,138.55999755859375,143.44000244140625,144.82000732421875,149.58999633789062,157.8000030517578,155.39999389648438,166.47999572753906,161.0399932861328,167.13999938964844,167.91000366210938,174.8300018310547,164.69000244140625,173.67999267578125,175.47999572753906,172.02999877929688,171.05999755859375,164.0,161.97000122070312,163.5500030517578,179.47999572753906,204.14999389648438,208.0800018310547,223.8699951171875,210.35000610351562,207.60000610351562,209.8300018310547,205.42999267578125,221.02000427246094,222.07000732421875,219.52000427246094,239.02000427246094,242.55999755859375,236.75999450683594,241.57000732421875,243.47999572753906,251.27000427246094,252.80999755859375,255.89999389648438,259.510009765625,256.79998779296875,248.55999755859375,253.5399932861328,259.1300048828125,261.739990234375,261.0,262.1000061035156,266.32000732421875,269.5199890136719,275.8699951171875,260.29998779296875,260.010009765625,256.2200012207031,248.5399932861328,246.5399932861328,268.5799865722656,260.44000244140625,261.17999267578125,251.5,246.55999755859375,252.3300018310547,252.17999267578125,252.38999938964844,250.0,253.91000366210938,268.0,267.3399963378906,272.8999938964844,268.25,258.7300109863281,250.0,231.0399932861328,236.72000122070312,247.25,244.91000366210938,266.1499938964844,276.79998779296875,273.510009765625,290.69000244140625,289.67999267578125,282.2799987792969,290.44000244140625,295.2699890136719,294.67999267578125,299.2699890136719,325.1000061035156,457.69000244140625,423.55999755859375,381.32000732421875,369.8900146484375,350.8800048828125,389.6499938964844,384.4800109863281,383.0,403.510009765625,410.94000244140625,408.1700134277344,413.125,438.7300109863281,468.4700012207031,492.6000061035156,500.5299987792969,464.9800109863281,496.5,487.6600036621094,465.5,470.1099853515625,482.989990234375,482.2300109863281,485.3699951171875,478.25,480.6099853515625,478.54998779296875,492.4100036621094,491.5400085449219,518.7899780273438,509.25,536.4000244140625,559.0,568.3400268554688,537.02001953125,513.1900024414062,520.5399780273438,511.5199890136719,517.7899780273438,538.989990234375,516.010009765625,489.67999267578125,460.9100036621094,453.0,451.510009765625,483.70001220703125,496.7300109863281,500.1099853515625,413.239990234375,376.010009765625,413.3399963378906,428.6400146484375,403.5799865722656,399.1499938964844,401.6300048828125,415.0400085449219,414.2900085449219,439.6000061035156,430.2799987792969,427.54998779296875,443.7200012207031,471.6099853515625,478.3599853515625,406.30999755859375,412.8599853515625,413.5400085449219,410.010009765625,407.8500061035156,412.0,385.3599853515625,397.9599914550781,397.010009765625,395.989990234375,399.42999267578125,404.0,401.6199951171875,406.010009765625,408.9700012207031,409.0,383.8800048828125,375.1700134277344,351.3900146484375,353.75,353.3999938964844,337.32000732421875,359.9800109863281,360.8299865722656,344.4100036621094,342.5,349.6099853515625,337.7099914550781,356.80999755859375,364.6300048828125,383.239990234375,384.5299987792969,393.8699951171875,382.79998779296875,382.80999755859375,383.3999938964844,391.8299865722656,374.3900146484375,370.739990234375,378.5899963378906,372.07000732421875,381.92999267578125,391.8399963378906,380.4700012207031,389.9800109863281,419.5899963378906,410.80999755859375,430.0299987792969,431.0,432.7699890136719,433.1099853515625,444.510009765625,429.4200134277344,417.9100036621094,417.260009765625,394.3399963378906,388.1600036621094,385.2300109863281,364.7300109863281,373.6099853515625,409.6600036621094,372.7900085449219,341.57000732421875,343.0899963378906,337.42999267578125,310.92999267578125,342.1099853515625,336.0299987792969,355.1700134277344,346.3900146484375,350.0,335.0799865722656,336.6499938964844,316.32000732421875,326.260009765625,328.5,339.760009765625,314.9599914550781,314.8500061035156,319.95001220703125,308.3900146484375,313.19000244140625,321.2900085449219,326.2300109863281,323.9599914550781,329.7900085449219,323.0799865722656,331.2799987792969,322.6499938964844,321.510009765625,342.75,329.20001220703125,332.3800048828125,329.95001220703125,324.3299865722656,321.7799987792969,322.760009765625,328.32000732421875,336.8800048828125,336.4200134277344,333.489990234375,331.25,321.1000061035156,319.57000732421875,313.9200134277344,304.8500061035156,297.5899963378906,293.04998779296875,295.239990234375,288.489990234375,300.25,289.70001220703125,290.1600036621094,307.8900146484375,308.92999267578125,312.8599853515625,310.4599914550781,324.7099914550781,316.3999938964844,321.55999755859375,321.2799987792969,326.04998779296875,326.42999267578125,331.5299987792969,327.7200012207031,327.1099853515625,319.010009765625,336.0,342.6600036621094,341.260009765625,333.6300048828125,346.5,366.3999938964844,365.9100036621094,359.0,361.8299865722656,372.95001220703125,374.239990234375,369.25,374.6499938964844,376.9200134277344,373.3999938964844,372.4700012207031,388.8599853515625,394.7300109863281,387.0299987792969,386.4800109863281,388.8900146484375,401.1199951171875,393.9100036621094,386.010009765625,385.0799865722656,379.1199951171875,378.3900146484375,360.6099853515625,356.80999755859375,361.9700012207031,354.20001220703125,355.80999755859375,352.9700012207031,361.3900146484375,359.2300109863281,373.1400146484375,367.5400085449219,369.489990234375,386.0199890136719,378.1000061035156,378.9599914550781,374.8800048828125,400.5799865722656,398.67999267578125,383.4700012207031,383.3399963378906,372.54998779296875,358.55999755859375,362.8599853515625,355.239990234375,348.4100036621094,345.5400085449219,340.92999267578125,332.3800048828125,336.8599853515625,341.29998779296875,340.25,337.739990234375,340.6300048828125,340.80999755859375,347.5,289.5,290.8599853515625,295.0899963378906,298.2900085449219,299.9599914550781,293.6000061035156,295.8599853515625,301.5,290.239990234375,281.44000244140625,279.1199951171875,278.2200012207031,287.67999267578125,280.6700134277344,278.239990234375,277.95001220703125,276.19000244140625,272.3599853515625,272.8800048828125,261.8900146484375,257.4100036621094,261.5,267.510009765625,259.5799865722656,257.1199951171875,253.64999389648438,256.2699890136719,255.0500030517578,253.97000122070312,255.49000549316406,266.239990234375,267.010009765625,266.32000732421875,274.2300109863281,276.3999938964844,275.7099914550781,274.7799987792969,277.5799865722656,279.7900085449219,278.70001220703125,272.80999755859375,276.5799865722656,274.6499938964844,278.94000244140625,280.2900085449219,285.6600036621094,282.20001220703125,264.70001220703125,259.8999938964844,258.3999938964844,251.25999450683594,247.60000610351562,254.97000122070312,263.7099914550781,264.489990234375,263.7099914550781,255.75,251.3000030517578,242.27999877929688,206.63999938964844,208.3000030517578,220.2100067138672,218.97999572753906,211.41000366210938,197.7100067138672,191.75,183.9199981689453,185.83999633789062,189.05999755859375,194.86000061035156,188.27000427246094,185.25,184.57000732421875,181.94000244140625,183.72999572753906,182.39999389648438,199.74000549316406,197.97000122070312,199.4199981689453,193.1300048828125,191.64999389648438,187.44000244140625,183.77000427246094,181.80999755859375,190.52000427246094,183.91000366210938,184.25999450683594,179.85000610351562,174.8800048828125,176.3300018310547,171.60000610351562,172.55999755859375,175.97000122070312,170.64999389648438,162.10000610351562,159.72000122070312,157.6999969482422,157.22999572753906,155.80999755859375,147.66000366210938,152.9499969482422,145.88999938964844,140.3300018310547,136.80999755859375,143.80999755859375,154.27999877929688,155.67999267578125,148.11000061035156,137.94000244140625,144.10000610351562,141.44000244140625,142.69000244140625,149.60000610351562,145.72000122070312,141.24000549316406,142.08999633789062,146.89999389648438,138.50999450683594,129.3800048828125,126.95999908447266,126.61000061035156,120.0999984741211,126.97000122070312,125.31999969482422,132.60000610351562,122.77999877929688,121.61000061035156,113.11000061035156,108.94000244140625,107.87999725341797,108.48999786376953,109.08000183105469,103.33000183105469,98.12000274658203,94.63999938964844,98.97000122070312,106.83999633789062,111.29000091552734,116.27999877929688,116.87000274658203,119.80000305175781,116.80999755859375,117.75,113.93000030517578,117.44999694824219,126.26000213623047,122.38999938964844,117.2300033569336,118.0199966430664,124.27999877929688,122.0199966430664,116.08999633789062,114.31999969482422,110.9000015258789,109.05000305175781,106.58000183105469,114.88999938964844,110.30999755859375,105.73999786376953,111.18000030517578,103.69999694824219,100.94999694824219,100.16999816894531,102.44000244140625,98.36000061035156,97.62000274658203,102.55999755859375,99.56999969482422,104.79000091552734,103.52999877929688,108.9800033569336,100.83999633789062,96.37999725341797,92.33999633789062,90.68000030517578,84.80000305175781,84.97000122070312,94.83999633789062,88.91999816894531,90.94000244140625,84.69000244140625,90.94000244140625,89.73999786376953,89.33000183105469,94.33999633789062,102.33999633789062,107.0,110.41999816894531,107.44999694824219,107.6500015258789,112.23999786376953,109.41999816894531,111.01000213623047,115.04000091552734,115.45999908447266,110.4000015258789,109.06999969482422,103.31999969482422,106.86000061035156,112.93000030517578,106.08999633789062,110.0,113.81999969482422,115.16999816894531,117.66999816894531,122.63999938964844,119.81999969482422,113.12999725341797,111.87000274658203,107.97000122070312,110.97000122070312,120.41999816894531,117.05999755859375,120.73999786376953,119.80000305175781,108.37999725341797,107.98999786376953,101.01000213623047,97.3499984741211,99.8499984741211,98.91999816894531,102.08000183105469,107.08999633789062,110.8499984741211,106.55000305175781,106.0999984741211,100.33000183105469,105.91000366210938,106.22000122070312,103.86000061035156,105.38999938964844,108.16000366210938,112.97000122070312,112.86000061035156,113.8499984741211,114.73999786376953,105.29000091552734,112.01000213623047,108.05999755859375,109.5199966430664,113.2300033569336,109.19000244140625,102.37999725341797,103.18000030517578,99.5,97.44000244140625,81.31999969482422,83.61000061035156,85.72000122070312,81.41000366210938],\"yaxis\":\"y\",\"type\":\"scatter\"}],                        {\"template\":{\"data\":{\"barpolar\":[{\"marker\":{\"line\":{\"color\":\"rgb(17,17,17)\",\"width\":0.5},\"pattern\":{\"fillmode\":\"overlay\",\"size\":10,\"solidity\":0.2}},\"type\":\"barpolar\"}],\"bar\":[{\"error_x\":{\"color\":\"#f2f5fa\"},\"error_y\":{\"color\":\"#f2f5fa\"},\"marker\":{\"line\":{\"color\":\"rgb(17,17,17)\",\"width\":0.5},\"pattern\":{\"fillmode\":\"overlay\",\"size\":10,\"solidity\":0.2}},\"type\":\"bar\"}],\"carpet\":[{\"aaxis\":{\"endlinecolor\":\"#A2B1C6\",\"gridcolor\":\"#506784\",\"linecolor\":\"#506784\",\"minorgridcolor\":\"#506784\",\"startlinecolor\":\"#A2B1C6\"},\"baxis\":{\"endlinecolor\":\"#A2B1C6\",\"gridcolor\":\"#506784\",\"linecolor\":\"#506784\",\"minorgridcolor\":\"#506784\",\"startlinecolor\":\"#A2B1C6\"},\"type\":\"carpet\"}],\"choropleth\":[{\"colorbar\":{\"outlinewidth\":0,\"ticks\":\"\"},\"type\":\"choropleth\"}],\"contourcarpet\":[{\"colorbar\":{\"outlinewidth\":0,\"ticks\":\"\"},\"type\":\"contourcarpet\"}],\"contour\":[{\"colorbar\":{\"outlinewidth\":0,\"ticks\":\"\"},\"colorscale\":[[0.0,\"#0d0887\"],[0.1111111111111111,\"#46039f\"],[0.2222222222222222,\"#7201a8\"],[0.3333333333333333,\"#9c179e\"],[0.4444444444444444,\"#bd3786\"],[0.5555555555555556,\"#d8576b\"],[0.6666666666666666,\"#ed7953\"],[0.7777777777777778,\"#fb9f3a\"],[0.8888888888888888,\"#fdca26\"],[1.0,\"#f0f921\"]],\"type\":\"contour\"}],\"heatmapgl\":[{\"colorbar\":{\"outlinewidth\":0,\"ticks\":\"\"},\"colorscale\":[[0.0,\"#0d0887\"],[0.1111111111111111,\"#46039f\"],[0.2222222222222222,\"#7201a8\"],[0.3333333333333333,\"#9c179e\"],[0.4444444444444444,\"#bd3786\"],[0.5555555555555556,\"#d8576b\"],[0.6666666666666666,\"#ed7953\"],[0.7777777777777778,\"#fb9f3a\"],[0.8888888888888888,\"#fdca26\"],[1.0,\"#f0f921\"]],\"type\":\"heatmapgl\"}],\"heatmap\":[{\"colorbar\":{\"outlinewidth\":0,\"ticks\":\"\"},\"colorscale\":[[0.0,\"#0d0887\"],[0.1111111111111111,\"#46039f\"],[0.2222222222222222,\"#7201a8\"],[0.3333333333333333,\"#9c179e\"],[0.4444444444444444,\"#bd3786\"],[0.5555555555555556,\"#d8576b\"],[0.6666666666666666,\"#ed7953\"],[0.7777777777777778,\"#fb9f3a\"],[0.8888888888888888,\"#fdca26\"],[1.0,\"#f0f921\"]],\"type\":\"heatmap\"}],\"histogram2dcontour\":[{\"colorbar\":{\"outlinewidth\":0,\"ticks\":\"\"},\"colorscale\":[[0.0,\"#0d0887\"],[0.1111111111111111,\"#46039f\"],[0.2222222222222222,\"#7201a8\"],[0.3333333333333333,\"#9c179e\"],[0.4444444444444444,\"#bd3786\"],[0.5555555555555556,\"#d8576b\"],[0.6666666666666666,\"#ed7953\"],[0.7777777777777778,\"#fb9f3a\"],[0.8888888888888888,\"#fdca26\"],[1.0,\"#f0f921\"]],\"type\":\"histogram2dcontour\"}],\"histogram2d\":[{\"colorbar\":{\"outlinewidth\":0,\"ticks\":\"\"},\"colorscale\":[[0.0,\"#0d0887\"],[0.1111111111111111,\"#46039f\"],[0.2222222222222222,\"#7201a8\"],[0.3333333333333333,\"#9c179e\"],[0.4444444444444444,\"#bd3786\"],[0.5555555555555556,\"#d8576b\"],[0.6666666666666666,\"#ed7953\"],[0.7777777777777778,\"#fb9f3a\"],[0.8888888888888888,\"#fdca26\"],[1.0,\"#f0f921\"]],\"type\":\"histogram2d\"}],\"histogram\":[{\"marker\":{\"pattern\":{\"fillmode\":\"overlay\",\"size\":10,\"solidity\":0.2}},\"type\":\"histogram\"}],\"mesh3d\":[{\"colorbar\":{\"outlinewidth\":0,\"ticks\":\"\"},\"type\":\"mesh3d\"}],\"parcoords\":[{\"line\":{\"colorbar\":{\"outlinewidth\":0,\"ticks\":\"\"}},\"type\":\"parcoords\"}],\"pie\":[{\"automargin\":true,\"type\":\"pie\"}],\"scatter3d\":[{\"line\":{\"colorbar\":{\"outlinewidth\":0,\"ticks\":\"\"}},\"marker\":{\"colorbar\":{\"outlinewidth\":0,\"ticks\":\"\"}},\"type\":\"scatter3d\"}],\"scattercarpet\":[{\"marker\":{\"colorbar\":{\"outlinewidth\":0,\"ticks\":\"\"}},\"type\":\"scattercarpet\"}],\"scattergeo\":[{\"marker\":{\"colorbar\":{\"outlinewidth\":0,\"ticks\":\"\"}},\"type\":\"scattergeo\"}],\"scattergl\":[{\"marker\":{\"line\":{\"color\":\"#283442\"}},\"type\":\"scattergl\"}],\"scattermapbox\":[{\"marker\":{\"colorbar\":{\"outlinewidth\":0,\"ticks\":\"\"}},\"type\":\"scattermapbox\"}],\"scatterpolargl\":[{\"marker\":{\"colorbar\":{\"outlinewidth\":0,\"ticks\":\"\"}},\"type\":\"scatterpolargl\"}],\"scatterpolar\":[{\"marker\":{\"colorbar\":{\"outlinewidth\":0,\"ticks\":\"\"}},\"type\":\"scatterpolar\"}],\"scatter\":[{\"marker\":{\"line\":{\"color\":\"#283442\"}},\"type\":\"scatter\"}],\"scatterternary\":[{\"marker\":{\"colorbar\":{\"outlinewidth\":0,\"ticks\":\"\"}},\"type\":\"scatterternary\"}],\"surface\":[{\"colorbar\":{\"outlinewidth\":0,\"ticks\":\"\"},\"colorscale\":[[0.0,\"#0d0887\"],[0.1111111111111111,\"#46039f\"],[0.2222222222222222,\"#7201a8\"],[0.3333333333333333,\"#9c179e\"],[0.4444444444444444,\"#bd3786\"],[0.5555555555555556,\"#d8576b\"],[0.6666666666666666,\"#ed7953\"],[0.7777777777777778,\"#fb9f3a\"],[0.8888888888888888,\"#fdca26\"],[1.0,\"#f0f921\"]],\"type\":\"surface\"}],\"table\":[{\"cells\":{\"fill\":{\"color\":\"#506784\"},\"line\":{\"color\":\"rgb(17,17,17)\"}},\"header\":{\"fill\":{\"color\":\"#2a3f5f\"},\"line\":{\"color\":\"rgb(17,17,17)\"}},\"type\":\"table\"}]},\"layout\":{\"annotationdefaults\":{\"arrowcolor\":\"#f2f5fa\",\"arrowhead\":0,\"arrowwidth\":1},\"autotypenumbers\":\"strict\",\"coloraxis\":{\"colorbar\":{\"outlinewidth\":0,\"ticks\":\"\"}},\"colorscale\":{\"diverging\":[[0,\"#8e0152\"],[0.1,\"#c51b7d\"],[0.2,\"#de77ae\"],[0.3,\"#f1b6da\"],[0.4,\"#fde0ef\"],[0.5,\"#f7f7f7\"],[0.6,\"#e6f5d0\"],[0.7,\"#b8e186\"],[0.8,\"#7fbc41\"],[0.9,\"#4d9221\"],[1,\"#276419\"]],\"sequential\":[[0.0,\"#0d0887\"],[0.1111111111111111,\"#46039f\"],[0.2222222222222222,\"#7201a8\"],[0.3333333333333333,\"#9c179e\"],[0.4444444444444444,\"#bd3786\"],[0.5555555555555556,\"#d8576b\"],[0.6666666666666666,\"#ed7953\"],[0.7777777777777778,\"#fb9f3a\"],[0.8888888888888888,\"#fdca26\"],[1.0,\"#f0f921\"]],\"sequentialminus\":[[0.0,\"#0d0887\"],[0.1111111111111111,\"#46039f\"],[0.2222222222222222,\"#7201a8\"],[0.3333333333333333,\"#9c179e\"],[0.4444444444444444,\"#bd3786\"],[0.5555555555555556,\"#d8576b\"],[0.6666666666666666,\"#ed7953\"],[0.7777777777777778,\"#fb9f3a\"],[0.8888888888888888,\"#fdca26\"],[1.0,\"#f0f921\"]]},\"colorway\":[\"#636efa\",\"#EF553B\",\"#00cc96\",\"#ab63fa\",\"#FFA15A\",\"#19d3f3\",\"#FF6692\",\"#B6E880\",\"#FF97FF\",\"#FECB52\"],\"font\":{\"color\":\"#f2f5fa\"},\"geo\":{\"bgcolor\":\"rgb(17,17,17)\",\"lakecolor\":\"rgb(17,17,17)\",\"landcolor\":\"rgb(17,17,17)\",\"showlakes\":true,\"showland\":true,\"subunitcolor\":\"#506784\"},\"hoverlabel\":{\"align\":\"left\"},\"hovermode\":\"closest\",\"mapbox\":{\"style\":\"dark\"},\"paper_bgcolor\":\"rgb(17,17,17)\",\"plot_bgcolor\":\"rgb(17,17,17)\",\"polar\":{\"angularaxis\":{\"gridcolor\":\"#506784\",\"linecolor\":\"#506784\",\"ticks\":\"\"},\"bgcolor\":\"rgb(17,17,17)\",\"radialaxis\":{\"gridcolor\":\"#506784\",\"linecolor\":\"#506784\",\"ticks\":\"\"}},\"scene\":{\"xaxis\":{\"backgroundcolor\":\"rgb(17,17,17)\",\"gridcolor\":\"#506784\",\"gridwidth\":2,\"linecolor\":\"#506784\",\"showbackground\":true,\"ticks\":\"\",\"zerolinecolor\":\"#C8D4E3\"},\"yaxis\":{\"backgroundcolor\":\"rgb(17,17,17)\",\"gridcolor\":\"#506784\",\"gridwidth\":2,\"linecolor\":\"#506784\",\"showbackground\":true,\"ticks\":\"\",\"zerolinecolor\":\"#C8D4E3\"},\"zaxis\":{\"backgroundcolor\":\"rgb(17,17,17)\",\"gridcolor\":\"#506784\",\"gridwidth\":2,\"linecolor\":\"#506784\",\"showbackground\":true,\"ticks\":\"\",\"zerolinecolor\":\"#C8D4E3\"}},\"shapedefaults\":{\"line\":{\"color\":\"#f2f5fa\"}},\"sliderdefaults\":{\"bgcolor\":\"#C8D4E3\",\"bordercolor\":\"rgb(17,17,17)\",\"borderwidth\":1,\"tickwidth\":0},\"ternary\":{\"aaxis\":{\"gridcolor\":\"#506784\",\"linecolor\":\"#506784\",\"ticks\":\"\"},\"baxis\":{\"gridcolor\":\"#506784\",\"linecolor\":\"#506784\",\"ticks\":\"\"},\"bgcolor\":\"rgb(17,17,17)\",\"caxis\":{\"gridcolor\":\"#506784\",\"linecolor\":\"#506784\",\"ticks\":\"\"}},\"title\":{\"x\":0.05},\"updatemenudefaults\":{\"bgcolor\":\"#506784\",\"borderwidth\":0},\"xaxis\":{\"automargin\":true,\"gridcolor\":\"#283442\",\"linecolor\":\"#506784\",\"ticks\":\"\",\"title\":{\"standoff\":15},\"zerolinecolor\":\"#283442\",\"zerolinewidth\":2},\"yaxis\":{\"automargin\":true,\"gridcolor\":\"#283442\",\"linecolor\":\"#506784\",\"ticks\":\"\",\"title\":{\"standoff\":15},\"zerolinecolor\":\"#283442\",\"zerolinewidth\":2}}},\"xaxis\":{\"anchor\":\"y\",\"domain\":[0.0,1.0],\"title\":{\"text\":\"index\"},\"showgrid\":true,\"gridwidth\":1,\"gridcolor\":\"red\"},\"yaxis\":{\"anchor\":\"x\",\"domain\":[0.0,1.0],\"title\":{\"text\":\"value\"},\"showgrid\":true,\"gridwidth\":1,\"gridcolor\":\"red\"},\"legend\":{\"title\":{\"text\":\"variable\"},\"tracegroupgap\":0},\"title\":{\"text\":\"Zoom Video Communications\",\"font\":{\"size\":24}},\"plot_bgcolor\":\"black\"},                        {\"responsive\": true}                    ).then(function(){\n",
       "                            \n",
       "var gd = document.getElementById('55b47e28-650e-4275-8de6-12e04009cb5b');\n",
       "var x = new MutationObserver(function (mutations, observer) {{\n",
       "        var display = window.getComputedStyle(gd).display;\n",
       "        if (!display || display === 'none') {{\n",
       "            console.log([gd, 'removed!']);\n",
       "            Plotly.purge(gd);\n",
       "            observer.disconnect();\n",
       "        }}\n",
       "}});\n",
       "\n",
       "// Listen for the removal of the full notebook cells\n",
       "var notebookContainer = gd.closest('#notebook-container');\n",
       "if (notebookContainer) {{\n",
       "    x.observe(notebookContainer, {childList: true});\n",
       "}}\n",
       "\n",
       "// Listen for the clearing of the current output cell\n",
       "var outputEl = gd.closest('.output');\n",
       "if (outputEl) {{\n",
       "    x.observe(outputEl, {childList: true});\n",
       "}}\n",
       "\n",
       "                        })                };                });            </script>        </div>"
      ]
     },
     "metadata": {},
     "output_type": "display_data"
    }
   ],
   "source": [
    "# fig = px.line(sp, x='ts', y='prices', labels={'ts': 'Время', 'prices': 'Цена'}, title='График цены токена LIDO DAO')\n",
    "fig = px.area(data2['Zoom'], labels={'ts': 'Время', 'prices': 'Цена'}, title='Zoom Video Communications',template = \"plotly_dark\")\n",
    "fig.update_traces(line=dict(color='cyan', width=2))  # Изменить цвет и толщину линии\n",
    "fig.update_layout(plot_bgcolor='black', title_font=dict(size=24))  # Изменить цвет фона и размер заголовка\n",
    "fig.update_xaxes(showgrid=True, gridwidth=1, gridcolor='red')  # Добавить сетку на оси x\n",
    "fig.update_yaxes(showgrid=True, gridwidth=1, gridcolor='red')  # Добавить сетку на оси y\n",
    "fig.show()\n",
    "\n",
    "\n",
    "\n"
   ]
  },
  {
   "cell_type": "code",
   "execution_count": 293,
   "id": "d04b4c7e",
   "metadata": {},
   "outputs": [
    {
     "data": {
      "text/html": [
       "<div>\n",
       "<style scoped>\n",
       "    .dataframe tbody tr th:only-of-type {\n",
       "        vertical-align: middle;\n",
       "    }\n",
       "\n",
       "    .dataframe tbody tr th {\n",
       "        vertical-align: top;\n",
       "    }\n",
       "\n",
       "    .dataframe thead th {\n",
       "        text-align: right;\n",
       "    }\n",
       "</style>\n",
       "<table border=\"1\" class=\"dataframe\">\n",
       "  <thead>\n",
       "    <tr style=\"text-align: right;\">\n",
       "      <th></th>\n",
       "      <th>Walmart</th>\n",
       "      <th>Volume</th>\n",
       "      <th>Volt</th>\n",
       "      <th>gvolt</th>\n",
       "      <th>illq</th>\n",
       "      <th>s&amp;p500</th>\n",
       "      <th>cases</th>\n",
       "      <th>deaths</th>\n",
       "      <th>stringency</th>\n",
       "      <th>mobility</th>\n",
       "      <th>gtr</th>\n",
       "      <th>constant</th>\n",
       "    </tr>\n",
       "    <tr>\n",
       "      <th>date</th>\n",
       "      <th></th>\n",
       "      <th></th>\n",
       "      <th></th>\n",
       "      <th></th>\n",
       "      <th></th>\n",
       "      <th></th>\n",
       "      <th></th>\n",
       "      <th></th>\n",
       "      <th></th>\n",
       "      <th></th>\n",
       "      <th></th>\n",
       "      <th></th>\n",
       "    </tr>\n",
       "  </thead>\n",
       "  <tbody>\n",
       "    <tr>\n",
       "      <th>2020-02-18</th>\n",
       "      <td>39.876667</td>\n",
       "      <td>34539600</td>\n",
       "      <td>-3.824521</td>\n",
       "      <td>-4.156818</td>\n",
       "      <td>-5.455385</td>\n",
       "      <td>3370.290039</td>\n",
       "      <td>1.609438</td>\n",
       "      <td>0.000000</td>\n",
       "      <td>2.233235</td>\n",
       "      <td>7.0</td>\n",
       "      <td>1.609438</td>\n",
       "      <td>1</td>\n",
       "    </tr>\n",
       "    <tr>\n",
       "      <th>2020-02-19</th>\n",
       "      <td>39.226665</td>\n",
       "      <td>21563400</td>\n",
       "      <td>-3.962130</td>\n",
       "      <td>-4.150138</td>\n",
       "      <td>-4.884984</td>\n",
       "      <td>3386.149902</td>\n",
       "      <td>1.609438</td>\n",
       "      <td>0.000000</td>\n",
       "      <td>2.233235</td>\n",
       "      <td>12.0</td>\n",
       "      <td>1.609438</td>\n",
       "      <td>1</td>\n",
       "    </tr>\n",
       "    <tr>\n",
       "      <th>2020-02-20</th>\n",
       "      <td>39.230000</td>\n",
       "      <td>15068700</td>\n",
       "      <td>-4.543164</td>\n",
       "      <td>-3.885899</td>\n",
       "      <td>-9.782960</td>\n",
       "      <td>3373.229980</td>\n",
       "      <td>1.609438</td>\n",
       "      <td>0.000000</td>\n",
       "      <td>2.233235</td>\n",
       "      <td>6.0</td>\n",
       "      <td>1.609438</td>\n",
       "      <td>1</td>\n",
       "    </tr>\n",
       "    <tr>\n",
       "      <th>2020-02-21</th>\n",
       "      <td>39.526669</td>\n",
       "      <td>18726300</td>\n",
       "      <td>-4.406284</td>\n",
       "      <td>-3.910202</td>\n",
       "      <td>-5.511924</td>\n",
       "      <td>3337.750000</td>\n",
       "      <td>1.609438</td>\n",
       "      <td>0.000000</td>\n",
       "      <td>2.233235</td>\n",
       "      <td>5.0</td>\n",
       "      <td>1.609438</td>\n",
       "      <td>1</td>\n",
       "    </tr>\n",
       "    <tr>\n",
       "      <th>2020-02-24</th>\n",
       "      <td>38.773335</td>\n",
       "      <td>19848000</td>\n",
       "      <td>-3.843604</td>\n",
       "      <td>-3.985552</td>\n",
       "      <td>-4.645740</td>\n",
       "      <td>3225.889893</td>\n",
       "      <td>2.833213</td>\n",
       "      <td>0.000000</td>\n",
       "      <td>2.233235</td>\n",
       "      <td>16.0</td>\n",
       "      <td>2.833213</td>\n",
       "      <td>1</td>\n",
       "    </tr>\n",
       "    <tr>\n",
       "      <th>...</th>\n",
       "      <td>...</td>\n",
       "      <td>...</td>\n",
       "      <td>...</td>\n",
       "      <td>...</td>\n",
       "      <td>...</td>\n",
       "      <td>...</td>\n",
       "      <td>...</td>\n",
       "      <td>...</td>\n",
       "      <td>...</td>\n",
       "      <td>...</td>\n",
       "      <td>...</td>\n",
       "      <td>...</td>\n",
       "    </tr>\n",
       "    <tr>\n",
       "      <th>2022-08-22</th>\n",
       "      <td>44.856667</td>\n",
       "      <td>18667200</td>\n",
       "      <td>-4.085360</td>\n",
       "      <td>-3.666391</td>\n",
       "      <td>-4.648223</td>\n",
       "      <td>4137.990234</td>\n",
       "      <td>13.376891</td>\n",
       "      <td>8.080856</td>\n",
       "      <td>3.227241</td>\n",
       "      <td>-28.0</td>\n",
       "      <td>0.000000</td>\n",
       "      <td>1</td>\n",
       "    </tr>\n",
       "    <tr>\n",
       "      <th>2022-08-23</th>\n",
       "      <td>44.666668</td>\n",
       "      <td>16955100</td>\n",
       "      <td>-4.338840</td>\n",
       "      <td>-3.787514</td>\n",
       "      <td>-5.992194</td>\n",
       "      <td>4128.729980</td>\n",
       "      <td>13.376891</td>\n",
       "      <td>8.080856</td>\n",
       "      <td>3.227241</td>\n",
       "      <td>-11.0</td>\n",
       "      <td>0.000000</td>\n",
       "      <td>1</td>\n",
       "    </tr>\n",
       "    <tr>\n",
       "      <th>2022-08-24</th>\n",
       "      <td>44.990002</td>\n",
       "      <td>15766500</td>\n",
       "      <td>-4.376410</td>\n",
       "      <td>-3.853950</td>\n",
       "      <td>-5.383600</td>\n",
       "      <td>4140.770020</td>\n",
       "      <td>13.376891</td>\n",
       "      <td>8.080856</td>\n",
       "      <td>3.227241</td>\n",
       "      <td>-9.0</td>\n",
       "      <td>0.000000</td>\n",
       "      <td>1</td>\n",
       "    </tr>\n",
       "    <tr>\n",
       "      <th>2022-08-25</th>\n",
       "      <td>45.290001</td>\n",
       "      <td>19414500</td>\n",
       "      <td>-4.949852</td>\n",
       "      <td>-3.919891</td>\n",
       "      <td>-5.673851</td>\n",
       "      <td>4199.120117</td>\n",
       "      <td>13.376891</td>\n",
       "      <td>8.080856</td>\n",
       "      <td>3.227241</td>\n",
       "      <td>-6.0</td>\n",
       "      <td>0.000000</td>\n",
       "      <td>1</td>\n",
       "    </tr>\n",
       "    <tr>\n",
       "      <th>2022-08-26</th>\n",
       "      <td>43.866669</td>\n",
       "      <td>21331800</td>\n",
       "      <td>-3.227503</td>\n",
       "      <td>-4.009573</td>\n",
       "      <td>-4.217699</td>\n",
       "      <td>4057.659912</td>\n",
       "      <td>13.376891</td>\n",
       "      <td>8.080856</td>\n",
       "      <td>3.227241</td>\n",
       "      <td>-18.0</td>\n",
       "      <td>0.000000</td>\n",
       "      <td>1</td>\n",
       "    </tr>\n",
       "  </tbody>\n",
       "</table>\n",
       "<p>638 rows × 12 columns</p>\n",
       "</div>"
      ],
      "text/plain": [
       "              Walmart    Volume      Volt     gvolt      illq       s&p500  \\\n",
       "date                                                                         \n",
       "2020-02-18  39.876667  34539600 -3.824521 -4.156818 -5.455385  3370.290039   \n",
       "2020-02-19  39.226665  21563400 -3.962130 -4.150138 -4.884984  3386.149902   \n",
       "2020-02-20  39.230000  15068700 -4.543164 -3.885899 -9.782960  3373.229980   \n",
       "2020-02-21  39.526669  18726300 -4.406284 -3.910202 -5.511924  3337.750000   \n",
       "2020-02-24  38.773335  19848000 -3.843604 -3.985552 -4.645740  3225.889893   \n",
       "...               ...       ...       ...       ...       ...          ...   \n",
       "2022-08-22  44.856667  18667200 -4.085360 -3.666391 -4.648223  4137.990234   \n",
       "2022-08-23  44.666668  16955100 -4.338840 -3.787514 -5.992194  4128.729980   \n",
       "2022-08-24  44.990002  15766500 -4.376410 -3.853950 -5.383600  4140.770020   \n",
       "2022-08-25  45.290001  19414500 -4.949852 -3.919891 -5.673851  4199.120117   \n",
       "2022-08-26  43.866669  21331800 -3.227503 -4.009573 -4.217699  4057.659912   \n",
       "\n",
       "                cases    deaths  stringency  mobility       gtr  constant  \n",
       "date                                                                       \n",
       "2020-02-18   1.609438  0.000000    2.233235       7.0  1.609438         1  \n",
       "2020-02-19   1.609438  0.000000    2.233235      12.0  1.609438         1  \n",
       "2020-02-20   1.609438  0.000000    2.233235       6.0  1.609438         1  \n",
       "2020-02-21   1.609438  0.000000    2.233235       5.0  1.609438         1  \n",
       "2020-02-24   2.833213  0.000000    2.233235      16.0  2.833213         1  \n",
       "...               ...       ...         ...       ...       ...       ...  \n",
       "2022-08-22  13.376891  8.080856    3.227241     -28.0  0.000000         1  \n",
       "2022-08-23  13.376891  8.080856    3.227241     -11.0  0.000000         1  \n",
       "2022-08-24  13.376891  8.080856    3.227241      -9.0  0.000000         1  \n",
       "2022-08-25  13.376891  8.080856    3.227241      -6.0  0.000000         1  \n",
       "2022-08-26  13.376891  8.080856    3.227241     -18.0  0.000000         1  \n",
       "\n",
       "[638 rows x 12 columns]"
      ]
     },
     "execution_count": 293,
     "metadata": {},
     "output_type": "execute_result"
    }
   ],
   "source": [
    "data"
   ]
  },
  {
   "cell_type": "code",
   "execution_count": 301,
   "id": "55c22a5b",
   "metadata": {},
   "outputs": [
    {
     "data": {
      "application/vnd.plotly.v1+json": {
       "config": {
        "plotlyServerURL": "https://plot.ly"
       },
       "data": [
        {
         "coloraxis": "coloraxis",
         "hovertemplate": "x: %{x}<br>y: %{y}<br>color: %{z}<extra></extra>",
         "name": "0",
         "type": "heatmap",
         "x": [
          "Walmart",
          "Volume",
          "Volatility",
          "GVolatility",
          "Illiquidity",
          "S&P 500",
          "Cases",
          "Deaths",
          "Stringency",
          "Mobility",
          "Google Trends"
         ],
         "xaxis": "x",
         "y": [
          "Walmart",
          "Volume",
          "Volatility",
          "GVolatility",
          "Illiquidity",
          "S&P 500",
          "Cases",
          "Deaths",
          "Stringency",
          "Mobility",
          "Google Trends"
         ],
         "yaxis": "y",
         "z": [
          [
           1,
           -0.23724931815064013,
           -0.3937530891602093,
           -0.45458907798762827,
           -0.06631046297989161,
           0.6470004426313163,
           0.48716309709209726,
           0.46471128415552737,
           0.1479352929445982,
           -0.12735545730037165,
           -0.47341041021295066
          ],
          [
           -0.23724931815064013,
           1,
           0.6022842370944882,
           0.3105680554106594,
           0.08983735632878109,
           -0.17338264677858906,
           -0.12914606143000013,
           -0.1286449280287446,
           -0.015175757573657241,
           -0.020337198891894462,
           0.14879419916639364
          ],
          [
           -0.3937530891602093,
           0.6022842370944882,
           1,
           0.5606867151604202,
           0.34426013921434306,
           -0.4068717727883476,
           -0.2867485986248371,
           -0.3103147037377148,
           -0.17184812869449503,
           -0.0816729829097668,
           0.3146032462618526
          ],
          [
           -0.45458907798762827,
           0.3105680554106594,
           0.5606867151604202,
           1,
           0.0998953559551006,
           -0.4767379411061035,
           -0.3282496930953229,
           -0.37251206249088076,
           -0.1016217786031884,
           -0.11111842093870826,
           0.38042382612858544
          ],
          [
           -0.06631046297989161,
           0.08983735632878109,
           0.34426013921434306,
           0.0998953559551006,
           1,
           -0.06501029197982032,
           -0.10422205610679967,
           -0.1110951080101751,
           -0.11419432358907008,
           0.00895818484464013,
           0.02307577288783763
          ],
          [
           0.6470004426313163,
           -0.17338264677858906,
           -0.4068717727883476,
           -0.4767379411061035,
           -0.06501029197982032,
           1,
           0.44397937561707235,
           0.2820856175850552,
           -0.26406620595808045,
           0.2587957860390318,
           -0.8568762566601126
          ],
          [
           0.48716309709209726,
           -0.12914606143000013,
           -0.2867485986248371,
           -0.3282496930953229,
           -0.10422205610679967,
           0.44397937561707235,
           1,
           0.900141780429599,
           0.4604715777719166,
           -0.30995255260684834,
           -0.4176290907681658
          ],
          [
           0.46471128415552737,
           -0.1286449280287446,
           -0.3103147037377148,
           -0.37251206249088076,
           -0.1110951080101751,
           0.2820856175850552,
           0.900141780429599,
           1,
           0.670625182388729,
           -0.47612192025117306,
           -0.17167100252657178
          ],
          [
           0.1479352929445982,
           -0.015175757573657241,
           -0.17184812869449503,
           -0.1016217786031884,
           -0.11419432358907008,
           -0.26406620595808045,
           0.4604715777719166,
           0.670625182388729,
           1,
           -0.5320522925455463,
           0.4465194975197636
          ],
          [
           -0.12735545730037165,
           -0.020337198891894462,
           -0.0816729829097668,
           -0.11111842093870826,
           0.00895818484464013,
           0.2587957860390318,
           -0.30995255260684834,
           -0.47612192025117306,
           -0.5320522925455463,
           1,
           -0.36778614683055416
          ],
          [
           -0.47341041021295066,
           0.14879419916639364,
           0.3146032462618526,
           0.38042382612858544,
           0.02307577288783763,
           -0.8568762566601126,
           -0.4176290907681658,
           -0.17167100252657178,
           0.4465194975197636,
           -0.36778614683055416,
           1
          ]
         ]
        }
       ],
       "layout": {
        "annotations": [
         {
          "font": {
           "color": "black"
          },
          "showarrow": false,
          "text": "1.0",
          "x": "Walmart",
          "y": "Walmart"
         },
         {
          "font": {
           "color": "black"
          },
          "showarrow": false,
          "text": "-0.24",
          "x": "Volume",
          "y": "Walmart"
         },
         {
          "font": {
           "color": "black"
          },
          "showarrow": false,
          "text": "-0.39",
          "x": "Volatility",
          "y": "Walmart"
         },
         {
          "font": {
           "color": "black"
          },
          "showarrow": false,
          "text": "-0.45",
          "x": "GVolatility",
          "y": "Walmart"
         },
         {
          "font": {
           "color": "black"
          },
          "showarrow": false,
          "text": "-0.07",
          "x": "Illiquidity",
          "y": "Walmart"
         },
         {
          "font": {
           "color": "black"
          },
          "showarrow": false,
          "text": "0.65",
          "x": "S&P 500",
          "y": "Walmart"
         },
         {
          "font": {
           "color": "black"
          },
          "showarrow": false,
          "text": "0.49",
          "x": "Cases",
          "y": "Walmart"
         },
         {
          "font": {
           "color": "black"
          },
          "showarrow": false,
          "text": "0.46",
          "x": "Deaths",
          "y": "Walmart"
         },
         {
          "font": {
           "color": "black"
          },
          "showarrow": false,
          "text": "0.15",
          "x": "Stringency",
          "y": "Walmart"
         },
         {
          "font": {
           "color": "black"
          },
          "showarrow": false,
          "text": "-0.13",
          "x": "Mobility",
          "y": "Walmart"
         },
         {
          "font": {
           "color": "black"
          },
          "showarrow": false,
          "text": "-0.47",
          "x": "Google Trends",
          "y": "Walmart"
         },
         {
          "font": {
           "color": "black"
          },
          "showarrow": false,
          "text": "-0.24",
          "x": "Walmart",
          "y": "Volume"
         },
         {
          "font": {
           "color": "black"
          },
          "showarrow": false,
          "text": "1.0",
          "x": "Volume",
          "y": "Volume"
         },
         {
          "font": {
           "color": "black"
          },
          "showarrow": false,
          "text": "0.6",
          "x": "Volatility",
          "y": "Volume"
         },
         {
          "font": {
           "color": "black"
          },
          "showarrow": false,
          "text": "0.31",
          "x": "GVolatility",
          "y": "Volume"
         },
         {
          "font": {
           "color": "black"
          },
          "showarrow": false,
          "text": "0.09",
          "x": "Illiquidity",
          "y": "Volume"
         },
         {
          "font": {
           "color": "black"
          },
          "showarrow": false,
          "text": "-0.17",
          "x": "S&P 500",
          "y": "Volume"
         },
         {
          "font": {
           "color": "black"
          },
          "showarrow": false,
          "text": "-0.13",
          "x": "Cases",
          "y": "Volume"
         },
         {
          "font": {
           "color": "black"
          },
          "showarrow": false,
          "text": "-0.13",
          "x": "Deaths",
          "y": "Volume"
         },
         {
          "font": {
           "color": "black"
          },
          "showarrow": false,
          "text": "-0.02",
          "x": "Stringency",
          "y": "Volume"
         },
         {
          "font": {
           "color": "black"
          },
          "showarrow": false,
          "text": "-0.02",
          "x": "Mobility",
          "y": "Volume"
         },
         {
          "font": {
           "color": "black"
          },
          "showarrow": false,
          "text": "0.15",
          "x": "Google Trends",
          "y": "Volume"
         },
         {
          "font": {
           "color": "black"
          },
          "showarrow": false,
          "text": "-0.39",
          "x": "Walmart",
          "y": "Volatility"
         },
         {
          "font": {
           "color": "black"
          },
          "showarrow": false,
          "text": "0.6",
          "x": "Volume",
          "y": "Volatility"
         },
         {
          "font": {
           "color": "black"
          },
          "showarrow": false,
          "text": "1.0",
          "x": "Volatility",
          "y": "Volatility"
         },
         {
          "font": {
           "color": "black"
          },
          "showarrow": false,
          "text": "0.56",
          "x": "GVolatility",
          "y": "Volatility"
         },
         {
          "font": {
           "color": "black"
          },
          "showarrow": false,
          "text": "0.34",
          "x": "Illiquidity",
          "y": "Volatility"
         },
         {
          "font": {
           "color": "black"
          },
          "showarrow": false,
          "text": "-0.41",
          "x": "S&P 500",
          "y": "Volatility"
         },
         {
          "font": {
           "color": "black"
          },
          "showarrow": false,
          "text": "-0.29",
          "x": "Cases",
          "y": "Volatility"
         },
         {
          "font": {
           "color": "black"
          },
          "showarrow": false,
          "text": "-0.31",
          "x": "Deaths",
          "y": "Volatility"
         },
         {
          "font": {
           "color": "black"
          },
          "showarrow": false,
          "text": "-0.17",
          "x": "Stringency",
          "y": "Volatility"
         },
         {
          "font": {
           "color": "black"
          },
          "showarrow": false,
          "text": "-0.08",
          "x": "Mobility",
          "y": "Volatility"
         },
         {
          "font": {
           "color": "black"
          },
          "showarrow": false,
          "text": "0.31",
          "x": "Google Trends",
          "y": "Volatility"
         },
         {
          "font": {
           "color": "black"
          },
          "showarrow": false,
          "text": "-0.45",
          "x": "Walmart",
          "y": "GVolatility"
         },
         {
          "font": {
           "color": "black"
          },
          "showarrow": false,
          "text": "0.31",
          "x": "Volume",
          "y": "GVolatility"
         },
         {
          "font": {
           "color": "black"
          },
          "showarrow": false,
          "text": "0.56",
          "x": "Volatility",
          "y": "GVolatility"
         },
         {
          "font": {
           "color": "black"
          },
          "showarrow": false,
          "text": "1.0",
          "x": "GVolatility",
          "y": "GVolatility"
         },
         {
          "font": {
           "color": "black"
          },
          "showarrow": false,
          "text": "0.1",
          "x": "Illiquidity",
          "y": "GVolatility"
         },
         {
          "font": {
           "color": "black"
          },
          "showarrow": false,
          "text": "-0.48",
          "x": "S&P 500",
          "y": "GVolatility"
         },
         {
          "font": {
           "color": "black"
          },
          "showarrow": false,
          "text": "-0.33",
          "x": "Cases",
          "y": "GVolatility"
         },
         {
          "font": {
           "color": "black"
          },
          "showarrow": false,
          "text": "-0.37",
          "x": "Deaths",
          "y": "GVolatility"
         },
         {
          "font": {
           "color": "black"
          },
          "showarrow": false,
          "text": "-0.1",
          "x": "Stringency",
          "y": "GVolatility"
         },
         {
          "font": {
           "color": "black"
          },
          "showarrow": false,
          "text": "-0.11",
          "x": "Mobility",
          "y": "GVolatility"
         },
         {
          "font": {
           "color": "black"
          },
          "showarrow": false,
          "text": "0.38",
          "x": "Google Trends",
          "y": "GVolatility"
         },
         {
          "font": {
           "color": "black"
          },
          "showarrow": false,
          "text": "-0.07",
          "x": "Walmart",
          "y": "Illiquidity"
         },
         {
          "font": {
           "color": "black"
          },
          "showarrow": false,
          "text": "0.09",
          "x": "Volume",
          "y": "Illiquidity"
         },
         {
          "font": {
           "color": "black"
          },
          "showarrow": false,
          "text": "0.34",
          "x": "Volatility",
          "y": "Illiquidity"
         },
         {
          "font": {
           "color": "black"
          },
          "showarrow": false,
          "text": "0.1",
          "x": "GVolatility",
          "y": "Illiquidity"
         },
         {
          "font": {
           "color": "black"
          },
          "showarrow": false,
          "text": "1.0",
          "x": "Illiquidity",
          "y": "Illiquidity"
         },
         {
          "font": {
           "color": "black"
          },
          "showarrow": false,
          "text": "-0.07",
          "x": "S&P 500",
          "y": "Illiquidity"
         },
         {
          "font": {
           "color": "black"
          },
          "showarrow": false,
          "text": "-0.1",
          "x": "Cases",
          "y": "Illiquidity"
         },
         {
          "font": {
           "color": "black"
          },
          "showarrow": false,
          "text": "-0.11",
          "x": "Deaths",
          "y": "Illiquidity"
         },
         {
          "font": {
           "color": "black"
          },
          "showarrow": false,
          "text": "-0.11",
          "x": "Stringency",
          "y": "Illiquidity"
         },
         {
          "font": {
           "color": "black"
          },
          "showarrow": false,
          "text": "0.01",
          "x": "Mobility",
          "y": "Illiquidity"
         },
         {
          "font": {
           "color": "black"
          },
          "showarrow": false,
          "text": "0.02",
          "x": "Google Trends",
          "y": "Illiquidity"
         },
         {
          "font": {
           "color": "black"
          },
          "showarrow": false,
          "text": "0.65",
          "x": "Walmart",
          "y": "S&P 500"
         },
         {
          "font": {
           "color": "black"
          },
          "showarrow": false,
          "text": "-0.17",
          "x": "Volume",
          "y": "S&P 500"
         },
         {
          "font": {
           "color": "black"
          },
          "showarrow": false,
          "text": "-0.41",
          "x": "Volatility",
          "y": "S&P 500"
         },
         {
          "font": {
           "color": "black"
          },
          "showarrow": false,
          "text": "-0.48",
          "x": "GVolatility",
          "y": "S&P 500"
         },
         {
          "font": {
           "color": "black"
          },
          "showarrow": false,
          "text": "-0.07",
          "x": "Illiquidity",
          "y": "S&P 500"
         },
         {
          "font": {
           "color": "black"
          },
          "showarrow": false,
          "text": "1.0",
          "x": "S&P 500",
          "y": "S&P 500"
         },
         {
          "font": {
           "color": "black"
          },
          "showarrow": false,
          "text": "0.44",
          "x": "Cases",
          "y": "S&P 500"
         },
         {
          "font": {
           "color": "black"
          },
          "showarrow": false,
          "text": "0.28",
          "x": "Deaths",
          "y": "S&P 500"
         },
         {
          "font": {
           "color": "black"
          },
          "showarrow": false,
          "text": "-0.26",
          "x": "Stringency",
          "y": "S&P 500"
         },
         {
          "font": {
           "color": "black"
          },
          "showarrow": false,
          "text": "0.26",
          "x": "Mobility",
          "y": "S&P 500"
         },
         {
          "font": {
           "color": "black"
          },
          "showarrow": false,
          "text": "-0.86",
          "x": "Google Trends",
          "y": "S&P 500"
         },
         {
          "font": {
           "color": "black"
          },
          "showarrow": false,
          "text": "0.49",
          "x": "Walmart",
          "y": "Cases"
         },
         {
          "font": {
           "color": "black"
          },
          "showarrow": false,
          "text": "-0.13",
          "x": "Volume",
          "y": "Cases"
         },
         {
          "font": {
           "color": "black"
          },
          "showarrow": false,
          "text": "-0.29",
          "x": "Volatility",
          "y": "Cases"
         },
         {
          "font": {
           "color": "black"
          },
          "showarrow": false,
          "text": "-0.33",
          "x": "GVolatility",
          "y": "Cases"
         },
         {
          "font": {
           "color": "black"
          },
          "showarrow": false,
          "text": "-0.1",
          "x": "Illiquidity",
          "y": "Cases"
         },
         {
          "font": {
           "color": "black"
          },
          "showarrow": false,
          "text": "0.44",
          "x": "S&P 500",
          "y": "Cases"
         },
         {
          "font": {
           "color": "black"
          },
          "showarrow": false,
          "text": "1.0",
          "x": "Cases",
          "y": "Cases"
         },
         {
          "font": {
           "color": "black"
          },
          "showarrow": false,
          "text": "0.9",
          "x": "Deaths",
          "y": "Cases"
         },
         {
          "font": {
           "color": "black"
          },
          "showarrow": false,
          "text": "0.46",
          "x": "Stringency",
          "y": "Cases"
         },
         {
          "font": {
           "color": "black"
          },
          "showarrow": false,
          "text": "-0.31",
          "x": "Mobility",
          "y": "Cases"
         },
         {
          "font": {
           "color": "black"
          },
          "showarrow": false,
          "text": "-0.42",
          "x": "Google Trends",
          "y": "Cases"
         },
         {
          "font": {
           "color": "black"
          },
          "showarrow": false,
          "text": "0.46",
          "x": "Walmart",
          "y": "Deaths"
         },
         {
          "font": {
           "color": "black"
          },
          "showarrow": false,
          "text": "-0.13",
          "x": "Volume",
          "y": "Deaths"
         },
         {
          "font": {
           "color": "black"
          },
          "showarrow": false,
          "text": "-0.31",
          "x": "Volatility",
          "y": "Deaths"
         },
         {
          "font": {
           "color": "black"
          },
          "showarrow": false,
          "text": "-0.37",
          "x": "GVolatility",
          "y": "Deaths"
         },
         {
          "font": {
           "color": "black"
          },
          "showarrow": false,
          "text": "-0.11",
          "x": "Illiquidity",
          "y": "Deaths"
         },
         {
          "font": {
           "color": "black"
          },
          "showarrow": false,
          "text": "0.28",
          "x": "S&P 500",
          "y": "Deaths"
         },
         {
          "font": {
           "color": "black"
          },
          "showarrow": false,
          "text": "0.9",
          "x": "Cases",
          "y": "Deaths"
         },
         {
          "font": {
           "color": "black"
          },
          "showarrow": false,
          "text": "1.0",
          "x": "Deaths",
          "y": "Deaths"
         },
         {
          "font": {
           "color": "black"
          },
          "showarrow": false,
          "text": "0.67",
          "x": "Stringency",
          "y": "Deaths"
         },
         {
          "font": {
           "color": "black"
          },
          "showarrow": false,
          "text": "-0.48",
          "x": "Mobility",
          "y": "Deaths"
         },
         {
          "font": {
           "color": "black"
          },
          "showarrow": false,
          "text": "-0.17",
          "x": "Google Trends",
          "y": "Deaths"
         },
         {
          "font": {
           "color": "black"
          },
          "showarrow": false,
          "text": "0.15",
          "x": "Walmart",
          "y": "Stringency"
         },
         {
          "font": {
           "color": "black"
          },
          "showarrow": false,
          "text": "-0.02",
          "x": "Volume",
          "y": "Stringency"
         },
         {
          "font": {
           "color": "black"
          },
          "showarrow": false,
          "text": "-0.17",
          "x": "Volatility",
          "y": "Stringency"
         },
         {
          "font": {
           "color": "black"
          },
          "showarrow": false,
          "text": "-0.1",
          "x": "GVolatility",
          "y": "Stringency"
         },
         {
          "font": {
           "color": "black"
          },
          "showarrow": false,
          "text": "-0.11",
          "x": "Illiquidity",
          "y": "Stringency"
         },
         {
          "font": {
           "color": "black"
          },
          "showarrow": false,
          "text": "-0.26",
          "x": "S&P 500",
          "y": "Stringency"
         },
         {
          "font": {
           "color": "black"
          },
          "showarrow": false,
          "text": "0.46",
          "x": "Cases",
          "y": "Stringency"
         },
         {
          "font": {
           "color": "black"
          },
          "showarrow": false,
          "text": "0.67",
          "x": "Deaths",
          "y": "Stringency"
         },
         {
          "font": {
           "color": "black"
          },
          "showarrow": false,
          "text": "1.0",
          "x": "Stringency",
          "y": "Stringency"
         },
         {
          "font": {
           "color": "black"
          },
          "showarrow": false,
          "text": "-0.53",
          "x": "Mobility",
          "y": "Stringency"
         },
         {
          "font": {
           "color": "black"
          },
          "showarrow": false,
          "text": "0.45",
          "x": "Google Trends",
          "y": "Stringency"
         },
         {
          "font": {
           "color": "black"
          },
          "showarrow": false,
          "text": "-0.13",
          "x": "Walmart",
          "y": "Mobility"
         },
         {
          "font": {
           "color": "black"
          },
          "showarrow": false,
          "text": "-0.02",
          "x": "Volume",
          "y": "Mobility"
         },
         {
          "font": {
           "color": "black"
          },
          "showarrow": false,
          "text": "-0.08",
          "x": "Volatility",
          "y": "Mobility"
         },
         {
          "font": {
           "color": "black"
          },
          "showarrow": false,
          "text": "-0.11",
          "x": "GVolatility",
          "y": "Mobility"
         },
         {
          "font": {
           "color": "black"
          },
          "showarrow": false,
          "text": "0.01",
          "x": "Illiquidity",
          "y": "Mobility"
         },
         {
          "font": {
           "color": "black"
          },
          "showarrow": false,
          "text": "0.26",
          "x": "S&P 500",
          "y": "Mobility"
         },
         {
          "font": {
           "color": "black"
          },
          "showarrow": false,
          "text": "-0.31",
          "x": "Cases",
          "y": "Mobility"
         },
         {
          "font": {
           "color": "black"
          },
          "showarrow": false,
          "text": "-0.48",
          "x": "Deaths",
          "y": "Mobility"
         },
         {
          "font": {
           "color": "black"
          },
          "showarrow": false,
          "text": "-0.53",
          "x": "Stringency",
          "y": "Mobility"
         },
         {
          "font": {
           "color": "black"
          },
          "showarrow": false,
          "text": "1.0",
          "x": "Mobility",
          "y": "Mobility"
         },
         {
          "font": {
           "color": "black"
          },
          "showarrow": false,
          "text": "-0.37",
          "x": "Google Trends",
          "y": "Mobility"
         },
         {
          "font": {
           "color": "black"
          },
          "showarrow": false,
          "text": "-0.47",
          "x": "Walmart",
          "y": "Google Trends"
         },
         {
          "font": {
           "color": "black"
          },
          "showarrow": false,
          "text": "0.15",
          "x": "Volume",
          "y": "Google Trends"
         },
         {
          "font": {
           "color": "black"
          },
          "showarrow": false,
          "text": "0.31",
          "x": "Volatility",
          "y": "Google Trends"
         },
         {
          "font": {
           "color": "black"
          },
          "showarrow": false,
          "text": "0.38",
          "x": "GVolatility",
          "y": "Google Trends"
         },
         {
          "font": {
           "color": "black"
          },
          "showarrow": false,
          "text": "0.02",
          "x": "Illiquidity",
          "y": "Google Trends"
         },
         {
          "font": {
           "color": "black"
          },
          "showarrow": false,
          "text": "-0.86",
          "x": "S&P 500",
          "y": "Google Trends"
         },
         {
          "font": {
           "color": "black"
          },
          "showarrow": false,
          "text": "-0.42",
          "x": "Cases",
          "y": "Google Trends"
         },
         {
          "font": {
           "color": "black"
          },
          "showarrow": false,
          "text": "-0.17",
          "x": "Deaths",
          "y": "Google Trends"
         },
         {
          "font": {
           "color": "black"
          },
          "showarrow": false,
          "text": "0.45",
          "x": "Stringency",
          "y": "Google Trends"
         },
         {
          "font": {
           "color": "black"
          },
          "showarrow": false,
          "text": "-0.37",
          "x": "Mobility",
          "y": "Google Trends"
         },
         {
          "font": {
           "color": "black"
          },
          "showarrow": false,
          "text": "1.0",
          "x": "Google Trends",
          "y": "Google Trends"
         }
        ],
        "coloraxis": {
         "colorscale": [
          [
           0,
           "#440154"
          ],
          [
           0.1111111111111111,
           "#482878"
          ],
          [
           0.2222222222222222,
           "#3e4989"
          ],
          [
           0.3333333333333333,
           "#31688e"
          ],
          [
           0.4444444444444444,
           "#26828e"
          ],
          [
           0.5555555555555556,
           "#1f9e89"
          ],
          [
           0.6666666666666666,
           "#35b779"
          ],
          [
           0.7777777777777778,
           "#6ece58"
          ],
          [
           0.8888888888888888,
           "#b5de2b"
          ],
          [
           1,
           "#fde725"
          ]
         ]
        },
        "height": 650,
        "template": {
         "data": {
          "bar": [
           {
            "error_x": {
             "color": "#2a3f5f"
            },
            "error_y": {
             "color": "#2a3f5f"
            },
            "marker": {
             "line": {
              "color": "#E5ECF6",
              "width": 0.5
             },
             "pattern": {
              "fillmode": "overlay",
              "size": 10,
              "solidity": 0.2
             }
            },
            "type": "bar"
           }
          ],
          "barpolar": [
           {
            "marker": {
             "line": {
              "color": "#E5ECF6",
              "width": 0.5
             },
             "pattern": {
              "fillmode": "overlay",
              "size": 10,
              "solidity": 0.2
             }
            },
            "type": "barpolar"
           }
          ],
          "carpet": [
           {
            "aaxis": {
             "endlinecolor": "#2a3f5f",
             "gridcolor": "white",
             "linecolor": "white",
             "minorgridcolor": "white",
             "startlinecolor": "#2a3f5f"
            },
            "baxis": {
             "endlinecolor": "#2a3f5f",
             "gridcolor": "white",
             "linecolor": "white",
             "minorgridcolor": "white",
             "startlinecolor": "#2a3f5f"
            },
            "type": "carpet"
           }
          ],
          "choropleth": [
           {
            "colorbar": {
             "outlinewidth": 0,
             "ticks": ""
            },
            "type": "choropleth"
           }
          ],
          "contour": [
           {
            "colorbar": {
             "outlinewidth": 0,
             "ticks": ""
            },
            "colorscale": [
             [
              0,
              "#0d0887"
             ],
             [
              0.1111111111111111,
              "#46039f"
             ],
             [
              0.2222222222222222,
              "#7201a8"
             ],
             [
              0.3333333333333333,
              "#9c179e"
             ],
             [
              0.4444444444444444,
              "#bd3786"
             ],
             [
              0.5555555555555556,
              "#d8576b"
             ],
             [
              0.6666666666666666,
              "#ed7953"
             ],
             [
              0.7777777777777778,
              "#fb9f3a"
             ],
             [
              0.8888888888888888,
              "#fdca26"
             ],
             [
              1,
              "#f0f921"
             ]
            ],
            "type": "contour"
           }
          ],
          "contourcarpet": [
           {
            "colorbar": {
             "outlinewidth": 0,
             "ticks": ""
            },
            "type": "contourcarpet"
           }
          ],
          "heatmap": [
           {
            "colorbar": {
             "outlinewidth": 0,
             "ticks": ""
            },
            "colorscale": [
             [
              0,
              "#0d0887"
             ],
             [
              0.1111111111111111,
              "#46039f"
             ],
             [
              0.2222222222222222,
              "#7201a8"
             ],
             [
              0.3333333333333333,
              "#9c179e"
             ],
             [
              0.4444444444444444,
              "#bd3786"
             ],
             [
              0.5555555555555556,
              "#d8576b"
             ],
             [
              0.6666666666666666,
              "#ed7953"
             ],
             [
              0.7777777777777778,
              "#fb9f3a"
             ],
             [
              0.8888888888888888,
              "#fdca26"
             ],
             [
              1,
              "#f0f921"
             ]
            ],
            "type": "heatmap"
           }
          ],
          "heatmapgl": [
           {
            "colorbar": {
             "outlinewidth": 0,
             "ticks": ""
            },
            "colorscale": [
             [
              0,
              "#0d0887"
             ],
             [
              0.1111111111111111,
              "#46039f"
             ],
             [
              0.2222222222222222,
              "#7201a8"
             ],
             [
              0.3333333333333333,
              "#9c179e"
             ],
             [
              0.4444444444444444,
              "#bd3786"
             ],
             [
              0.5555555555555556,
              "#d8576b"
             ],
             [
              0.6666666666666666,
              "#ed7953"
             ],
             [
              0.7777777777777778,
              "#fb9f3a"
             ],
             [
              0.8888888888888888,
              "#fdca26"
             ],
             [
              1,
              "#f0f921"
             ]
            ],
            "type": "heatmapgl"
           }
          ],
          "histogram": [
           {
            "marker": {
             "pattern": {
              "fillmode": "overlay",
              "size": 10,
              "solidity": 0.2
             }
            },
            "type": "histogram"
           }
          ],
          "histogram2d": [
           {
            "colorbar": {
             "outlinewidth": 0,
             "ticks": ""
            },
            "colorscale": [
             [
              0,
              "#0d0887"
             ],
             [
              0.1111111111111111,
              "#46039f"
             ],
             [
              0.2222222222222222,
              "#7201a8"
             ],
             [
              0.3333333333333333,
              "#9c179e"
             ],
             [
              0.4444444444444444,
              "#bd3786"
             ],
             [
              0.5555555555555556,
              "#d8576b"
             ],
             [
              0.6666666666666666,
              "#ed7953"
             ],
             [
              0.7777777777777778,
              "#fb9f3a"
             ],
             [
              0.8888888888888888,
              "#fdca26"
             ],
             [
              1,
              "#f0f921"
             ]
            ],
            "type": "histogram2d"
           }
          ],
          "histogram2dcontour": [
           {
            "colorbar": {
             "outlinewidth": 0,
             "ticks": ""
            },
            "colorscale": [
             [
              0,
              "#0d0887"
             ],
             [
              0.1111111111111111,
              "#46039f"
             ],
             [
              0.2222222222222222,
              "#7201a8"
             ],
             [
              0.3333333333333333,
              "#9c179e"
             ],
             [
              0.4444444444444444,
              "#bd3786"
             ],
             [
              0.5555555555555556,
              "#d8576b"
             ],
             [
              0.6666666666666666,
              "#ed7953"
             ],
             [
              0.7777777777777778,
              "#fb9f3a"
             ],
             [
              0.8888888888888888,
              "#fdca26"
             ],
             [
              1,
              "#f0f921"
             ]
            ],
            "type": "histogram2dcontour"
           }
          ],
          "mesh3d": [
           {
            "colorbar": {
             "outlinewidth": 0,
             "ticks": ""
            },
            "type": "mesh3d"
           }
          ],
          "parcoords": [
           {
            "line": {
             "colorbar": {
              "outlinewidth": 0,
              "ticks": ""
             }
            },
            "type": "parcoords"
           }
          ],
          "pie": [
           {
            "automargin": true,
            "type": "pie"
           }
          ],
          "scatter": [
           {
            "fillpattern": {
             "fillmode": "overlay",
             "size": 10,
             "solidity": 0.2
            },
            "type": "scatter"
           }
          ],
          "scatter3d": [
           {
            "line": {
             "colorbar": {
              "outlinewidth": 0,
              "ticks": ""
             }
            },
            "marker": {
             "colorbar": {
              "outlinewidth": 0,
              "ticks": ""
             }
            },
            "type": "scatter3d"
           }
          ],
          "scattercarpet": [
           {
            "marker": {
             "colorbar": {
              "outlinewidth": 0,
              "ticks": ""
             }
            },
            "type": "scattercarpet"
           }
          ],
          "scattergeo": [
           {
            "marker": {
             "colorbar": {
              "outlinewidth": 0,
              "ticks": ""
             }
            },
            "type": "scattergeo"
           }
          ],
          "scattergl": [
           {
            "marker": {
             "colorbar": {
              "outlinewidth": 0,
              "ticks": ""
             }
            },
            "type": "scattergl"
           }
          ],
          "scattermapbox": [
           {
            "marker": {
             "colorbar": {
              "outlinewidth": 0,
              "ticks": ""
             }
            },
            "type": "scattermapbox"
           }
          ],
          "scatterpolar": [
           {
            "marker": {
             "colorbar": {
              "outlinewidth": 0,
              "ticks": ""
             }
            },
            "type": "scatterpolar"
           }
          ],
          "scatterpolargl": [
           {
            "marker": {
             "colorbar": {
              "outlinewidth": 0,
              "ticks": ""
             }
            },
            "type": "scatterpolargl"
           }
          ],
          "scatterternary": [
           {
            "marker": {
             "colorbar": {
              "outlinewidth": 0,
              "ticks": ""
             }
            },
            "type": "scatterternary"
           }
          ],
          "surface": [
           {
            "colorbar": {
             "outlinewidth": 0,
             "ticks": ""
            },
            "colorscale": [
             [
              0,
              "#0d0887"
             ],
             [
              0.1111111111111111,
              "#46039f"
             ],
             [
              0.2222222222222222,
              "#7201a8"
             ],
             [
              0.3333333333333333,
              "#9c179e"
             ],
             [
              0.4444444444444444,
              "#bd3786"
             ],
             [
              0.5555555555555556,
              "#d8576b"
             ],
             [
              0.6666666666666666,
              "#ed7953"
             ],
             [
              0.7777777777777778,
              "#fb9f3a"
             ],
             [
              0.8888888888888888,
              "#fdca26"
             ],
             [
              1,
              "#f0f921"
             ]
            ],
            "type": "surface"
           }
          ],
          "table": [
           {
            "cells": {
             "fill": {
              "color": "#EBF0F8"
             },
             "line": {
              "color": "white"
             }
            },
            "header": {
             "fill": {
              "color": "#C8D4E3"
             },
             "line": {
              "color": "white"
             }
            },
            "type": "table"
           }
          ]
         },
         "layout": {
          "annotationdefaults": {
           "arrowcolor": "#2a3f5f",
           "arrowhead": 0,
           "arrowwidth": 1
          },
          "autotypenumbers": "strict",
          "coloraxis": {
           "colorbar": {
            "outlinewidth": 0,
            "ticks": ""
           }
          },
          "colorscale": {
           "diverging": [
            [
             0,
             "#8e0152"
            ],
            [
             0.1,
             "#c51b7d"
            ],
            [
             0.2,
             "#de77ae"
            ],
            [
             0.3,
             "#f1b6da"
            ],
            [
             0.4,
             "#fde0ef"
            ],
            [
             0.5,
             "#f7f7f7"
            ],
            [
             0.6,
             "#e6f5d0"
            ],
            [
             0.7,
             "#b8e186"
            ],
            [
             0.8,
             "#7fbc41"
            ],
            [
             0.9,
             "#4d9221"
            ],
            [
             1,
             "#276419"
            ]
           ],
           "sequential": [
            [
             0,
             "#0d0887"
            ],
            [
             0.1111111111111111,
             "#46039f"
            ],
            [
             0.2222222222222222,
             "#7201a8"
            ],
            [
             0.3333333333333333,
             "#9c179e"
            ],
            [
             0.4444444444444444,
             "#bd3786"
            ],
            [
             0.5555555555555556,
             "#d8576b"
            ],
            [
             0.6666666666666666,
             "#ed7953"
            ],
            [
             0.7777777777777778,
             "#fb9f3a"
            ],
            [
             0.8888888888888888,
             "#fdca26"
            ],
            [
             1,
             "#f0f921"
            ]
           ],
           "sequentialminus": [
            [
             0,
             "#0d0887"
            ],
            [
             0.1111111111111111,
             "#46039f"
            ],
            [
             0.2222222222222222,
             "#7201a8"
            ],
            [
             0.3333333333333333,
             "#9c179e"
            ],
            [
             0.4444444444444444,
             "#bd3786"
            ],
            [
             0.5555555555555556,
             "#d8576b"
            ],
            [
             0.6666666666666666,
             "#ed7953"
            ],
            [
             0.7777777777777778,
             "#fb9f3a"
            ],
            [
             0.8888888888888888,
             "#fdca26"
            ],
            [
             1,
             "#f0f921"
            ]
           ]
          },
          "colorway": [
           "#636efa",
           "#EF553B",
           "#00cc96",
           "#ab63fa",
           "#FFA15A",
           "#19d3f3",
           "#FF6692",
           "#B6E880",
           "#FF97FF",
           "#FECB52"
          ],
          "font": {
           "color": "#2a3f5f"
          },
          "geo": {
           "bgcolor": "white",
           "lakecolor": "white",
           "landcolor": "#E5ECF6",
           "showlakes": true,
           "showland": true,
           "subunitcolor": "white"
          },
          "hoverlabel": {
           "align": "left"
          },
          "hovermode": "closest",
          "mapbox": {
           "style": "light"
          },
          "paper_bgcolor": "white",
          "plot_bgcolor": "#E5ECF6",
          "polar": {
           "angularaxis": {
            "gridcolor": "white",
            "linecolor": "white",
            "ticks": ""
           },
           "bgcolor": "#E5ECF6",
           "radialaxis": {
            "gridcolor": "white",
            "linecolor": "white",
            "ticks": ""
           }
          },
          "scene": {
           "xaxis": {
            "backgroundcolor": "#E5ECF6",
            "gridcolor": "white",
            "gridwidth": 2,
            "linecolor": "white",
            "showbackground": true,
            "ticks": "",
            "zerolinecolor": "white"
           },
           "yaxis": {
            "backgroundcolor": "#E5ECF6",
            "gridcolor": "white",
            "gridwidth": 2,
            "linecolor": "white",
            "showbackground": true,
            "ticks": "",
            "zerolinecolor": "white"
           },
           "zaxis": {
            "backgroundcolor": "#E5ECF6",
            "gridcolor": "white",
            "gridwidth": 2,
            "linecolor": "white",
            "showbackground": true,
            "ticks": "",
            "zerolinecolor": "white"
           }
          },
          "shapedefaults": {
           "line": {
            "color": "#2a3f5f"
           }
          },
          "ternary": {
           "aaxis": {
            "gridcolor": "white",
            "linecolor": "white",
            "ticks": ""
           },
           "baxis": {
            "gridcolor": "white",
            "linecolor": "white",
            "ticks": ""
           },
           "bgcolor": "#E5ECF6",
           "caxis": {
            "gridcolor": "white",
            "linecolor": "white",
            "ticks": ""
           }
          },
          "title": {
           "x": 0.05
          },
          "xaxis": {
           "automargin": true,
           "gridcolor": "white",
           "linecolor": "white",
           "ticks": "",
           "title": {
            "standoff": 15
           },
           "zerolinecolor": "white",
           "zerolinewidth": 2
          },
          "yaxis": {
           "automargin": true,
           "gridcolor": "white",
           "linecolor": "white",
           "ticks": "",
           "title": {
            "standoff": 15
           },
           "zerolinecolor": "white",
           "zerolinewidth": 2
          }
         }
        },
        "title": {
         "text": "Матрица корреляции для компании Walmart Inc."
        },
        "width": 650,
        "xaxis": {
         "anchor": "y",
         "constrain": "domain",
         "domain": [
          0,
          1
         ],
         "scaleanchor": "y"
        },
        "yaxis": {
         "anchor": "x",
         "autorange": "reversed",
         "constrain": "domain",
         "domain": [
          0,
          1
         ]
        }
       }
      },
      "text/html": [
       "<div>                            <div id=\"4d982475-f875-4e14-a1bd-aa1607600d91\" class=\"plotly-graph-div\" style=\"height:650px; width:650px;\"></div>            <script type=\"text/javascript\">                require([\"plotly\"], function(Plotly) {                    window.PLOTLYENV=window.PLOTLYENV || {};                                    if (document.getElementById(\"4d982475-f875-4e14-a1bd-aa1607600d91\")) {                    Plotly.newPlot(                        \"4d982475-f875-4e14-a1bd-aa1607600d91\",                        [{\"coloraxis\":\"coloraxis\",\"name\":\"0\",\"x\":[\"Walmart\",\"Volume\",\"Volatility\",\"GVolatility\",\"Illiquidity\",\"S&P 500\",\"Cases\",\"Deaths\",\"Stringency\",\"Mobility\",\"Google Trends\"],\"y\":[\"Walmart\",\"Volume\",\"Volatility\",\"GVolatility\",\"Illiquidity\",\"S&P 500\",\"Cases\",\"Deaths\",\"Stringency\",\"Mobility\",\"Google Trends\"],\"z\":[[1.0,-0.23724931815064013,-0.3937530891602093,-0.45458907798762827,-0.06631046297989161,0.6470004426313163,0.48716309709209726,0.46471128415552737,0.1479352929445982,-0.12735545730037165,-0.47341041021295066],[-0.23724931815064013,1.0,0.6022842370944882,0.3105680554106594,0.08983735632878109,-0.17338264677858906,-0.12914606143000013,-0.1286449280287446,-0.015175757573657241,-0.020337198891894462,0.14879419916639364],[-0.3937530891602093,0.6022842370944882,1.0,0.5606867151604202,0.34426013921434306,-0.4068717727883476,-0.2867485986248371,-0.3103147037377148,-0.17184812869449503,-0.0816729829097668,0.3146032462618526],[-0.45458907798762827,0.3105680554106594,0.5606867151604202,1.0,0.0998953559551006,-0.4767379411061035,-0.3282496930953229,-0.37251206249088076,-0.1016217786031884,-0.11111842093870826,0.38042382612858544],[-0.06631046297989161,0.08983735632878109,0.34426013921434306,0.0998953559551006,1.0,-0.06501029197982032,-0.10422205610679967,-0.1110951080101751,-0.11419432358907008,0.00895818484464013,0.02307577288783763],[0.6470004426313163,-0.17338264677858906,-0.4068717727883476,-0.4767379411061035,-0.06501029197982032,1.0,0.44397937561707235,0.2820856175850552,-0.26406620595808045,0.2587957860390318,-0.8568762566601126],[0.48716309709209726,-0.12914606143000013,-0.2867485986248371,-0.3282496930953229,-0.10422205610679967,0.44397937561707235,1.0,0.900141780429599,0.4604715777719166,-0.30995255260684834,-0.4176290907681658],[0.46471128415552737,-0.1286449280287446,-0.3103147037377148,-0.37251206249088076,-0.1110951080101751,0.2820856175850552,0.900141780429599,1.0,0.670625182388729,-0.47612192025117306,-0.17167100252657178],[0.1479352929445982,-0.015175757573657241,-0.17184812869449503,-0.1016217786031884,-0.11419432358907008,-0.26406620595808045,0.4604715777719166,0.670625182388729,1.0,-0.5320522925455463,0.4465194975197636],[-0.12735545730037165,-0.020337198891894462,-0.0816729829097668,-0.11111842093870826,0.00895818484464013,0.2587957860390318,-0.30995255260684834,-0.47612192025117306,-0.5320522925455463,1.0,-0.36778614683055416],[-0.47341041021295066,0.14879419916639364,0.3146032462618526,0.38042382612858544,0.02307577288783763,-0.8568762566601126,-0.4176290907681658,-0.17167100252657178,0.4465194975197636,-0.36778614683055416,1.0]],\"type\":\"heatmap\",\"xaxis\":\"x\",\"yaxis\":\"y\",\"hovertemplate\":\"x: %{x}\\u003cbr\\u003ey: %{y}\\u003cbr\\u003ecolor: %{z}\\u003cextra\\u003e\\u003c\\u002fextra\\u003e\"}],                        {\"template\":{\"data\":{\"histogram2dcontour\":[{\"type\":\"histogram2dcontour\",\"colorbar\":{\"outlinewidth\":0,\"ticks\":\"\"},\"colorscale\":[[0.0,\"#0d0887\"],[0.1111111111111111,\"#46039f\"],[0.2222222222222222,\"#7201a8\"],[0.3333333333333333,\"#9c179e\"],[0.4444444444444444,\"#bd3786\"],[0.5555555555555556,\"#d8576b\"],[0.6666666666666666,\"#ed7953\"],[0.7777777777777778,\"#fb9f3a\"],[0.8888888888888888,\"#fdca26\"],[1.0,\"#f0f921\"]]}],\"choropleth\":[{\"type\":\"choropleth\",\"colorbar\":{\"outlinewidth\":0,\"ticks\":\"\"}}],\"histogram2d\":[{\"type\":\"histogram2d\",\"colorbar\":{\"outlinewidth\":0,\"ticks\":\"\"},\"colorscale\":[[0.0,\"#0d0887\"],[0.1111111111111111,\"#46039f\"],[0.2222222222222222,\"#7201a8\"],[0.3333333333333333,\"#9c179e\"],[0.4444444444444444,\"#bd3786\"],[0.5555555555555556,\"#d8576b\"],[0.6666666666666666,\"#ed7953\"],[0.7777777777777778,\"#fb9f3a\"],[0.8888888888888888,\"#fdca26\"],[1.0,\"#f0f921\"]]}],\"heatmap\":[{\"type\":\"heatmap\",\"colorbar\":{\"outlinewidth\":0,\"ticks\":\"\"},\"colorscale\":[[0.0,\"#0d0887\"],[0.1111111111111111,\"#46039f\"],[0.2222222222222222,\"#7201a8\"],[0.3333333333333333,\"#9c179e\"],[0.4444444444444444,\"#bd3786\"],[0.5555555555555556,\"#d8576b\"],[0.6666666666666666,\"#ed7953\"],[0.7777777777777778,\"#fb9f3a\"],[0.8888888888888888,\"#fdca26\"],[1.0,\"#f0f921\"]]}],\"heatmapgl\":[{\"type\":\"heatmapgl\",\"colorbar\":{\"outlinewidth\":0,\"ticks\":\"\"},\"colorscale\":[[0.0,\"#0d0887\"],[0.1111111111111111,\"#46039f\"],[0.2222222222222222,\"#7201a8\"],[0.3333333333333333,\"#9c179e\"],[0.4444444444444444,\"#bd3786\"],[0.5555555555555556,\"#d8576b\"],[0.6666666666666666,\"#ed7953\"],[0.7777777777777778,\"#fb9f3a\"],[0.8888888888888888,\"#fdca26\"],[1.0,\"#f0f921\"]]}],\"contourcarpet\":[{\"type\":\"contourcarpet\",\"colorbar\":{\"outlinewidth\":0,\"ticks\":\"\"}}],\"contour\":[{\"type\":\"contour\",\"colorbar\":{\"outlinewidth\":0,\"ticks\":\"\"},\"colorscale\":[[0.0,\"#0d0887\"],[0.1111111111111111,\"#46039f\"],[0.2222222222222222,\"#7201a8\"],[0.3333333333333333,\"#9c179e\"],[0.4444444444444444,\"#bd3786\"],[0.5555555555555556,\"#d8576b\"],[0.6666666666666666,\"#ed7953\"],[0.7777777777777778,\"#fb9f3a\"],[0.8888888888888888,\"#fdca26\"],[1.0,\"#f0f921\"]]}],\"surface\":[{\"type\":\"surface\",\"colorbar\":{\"outlinewidth\":0,\"ticks\":\"\"},\"colorscale\":[[0.0,\"#0d0887\"],[0.1111111111111111,\"#46039f\"],[0.2222222222222222,\"#7201a8\"],[0.3333333333333333,\"#9c179e\"],[0.4444444444444444,\"#bd3786\"],[0.5555555555555556,\"#d8576b\"],[0.6666666666666666,\"#ed7953\"],[0.7777777777777778,\"#fb9f3a\"],[0.8888888888888888,\"#fdca26\"],[1.0,\"#f0f921\"]]}],\"mesh3d\":[{\"type\":\"mesh3d\",\"colorbar\":{\"outlinewidth\":0,\"ticks\":\"\"}}],\"scatter\":[{\"fillpattern\":{\"fillmode\":\"overlay\",\"size\":10,\"solidity\":0.2},\"type\":\"scatter\"}],\"parcoords\":[{\"type\":\"parcoords\",\"line\":{\"colorbar\":{\"outlinewidth\":0,\"ticks\":\"\"}}}],\"scatterpolargl\":[{\"type\":\"scatterpolargl\",\"marker\":{\"colorbar\":{\"outlinewidth\":0,\"ticks\":\"\"}}}],\"bar\":[{\"error_x\":{\"color\":\"#2a3f5f\"},\"error_y\":{\"color\":\"#2a3f5f\"},\"marker\":{\"line\":{\"color\":\"#E5ECF6\",\"width\":0.5},\"pattern\":{\"fillmode\":\"overlay\",\"size\":10,\"solidity\":0.2}},\"type\":\"bar\"}],\"scattergeo\":[{\"type\":\"scattergeo\",\"marker\":{\"colorbar\":{\"outlinewidth\":0,\"ticks\":\"\"}}}],\"scatterpolar\":[{\"type\":\"scatterpolar\",\"marker\":{\"colorbar\":{\"outlinewidth\":0,\"ticks\":\"\"}}}],\"histogram\":[{\"marker\":{\"pattern\":{\"fillmode\":\"overlay\",\"size\":10,\"solidity\":0.2}},\"type\":\"histogram\"}],\"scattergl\":[{\"type\":\"scattergl\",\"marker\":{\"colorbar\":{\"outlinewidth\":0,\"ticks\":\"\"}}}],\"scatter3d\":[{\"type\":\"scatter3d\",\"line\":{\"colorbar\":{\"outlinewidth\":0,\"ticks\":\"\"}},\"marker\":{\"colorbar\":{\"outlinewidth\":0,\"ticks\":\"\"}}}],\"scattermapbox\":[{\"type\":\"scattermapbox\",\"marker\":{\"colorbar\":{\"outlinewidth\":0,\"ticks\":\"\"}}}],\"scatterternary\":[{\"type\":\"scatterternary\",\"marker\":{\"colorbar\":{\"outlinewidth\":0,\"ticks\":\"\"}}}],\"scattercarpet\":[{\"type\":\"scattercarpet\",\"marker\":{\"colorbar\":{\"outlinewidth\":0,\"ticks\":\"\"}}}],\"carpet\":[{\"aaxis\":{\"endlinecolor\":\"#2a3f5f\",\"gridcolor\":\"white\",\"linecolor\":\"white\",\"minorgridcolor\":\"white\",\"startlinecolor\":\"#2a3f5f\"},\"baxis\":{\"endlinecolor\":\"#2a3f5f\",\"gridcolor\":\"white\",\"linecolor\":\"white\",\"minorgridcolor\":\"white\",\"startlinecolor\":\"#2a3f5f\"},\"type\":\"carpet\"}],\"table\":[{\"cells\":{\"fill\":{\"color\":\"#EBF0F8\"},\"line\":{\"color\":\"white\"}},\"header\":{\"fill\":{\"color\":\"#C8D4E3\"},\"line\":{\"color\":\"white\"}},\"type\":\"table\"}],\"barpolar\":[{\"marker\":{\"line\":{\"color\":\"#E5ECF6\",\"width\":0.5},\"pattern\":{\"fillmode\":\"overlay\",\"size\":10,\"solidity\":0.2}},\"type\":\"barpolar\"}],\"pie\":[{\"automargin\":true,\"type\":\"pie\"}]},\"layout\":{\"autotypenumbers\":\"strict\",\"colorway\":[\"#636efa\",\"#EF553B\",\"#00cc96\",\"#ab63fa\",\"#FFA15A\",\"#19d3f3\",\"#FF6692\",\"#B6E880\",\"#FF97FF\",\"#FECB52\"],\"font\":{\"color\":\"#2a3f5f\"},\"hovermode\":\"closest\",\"hoverlabel\":{\"align\":\"left\"},\"paper_bgcolor\":\"white\",\"plot_bgcolor\":\"#E5ECF6\",\"polar\":{\"bgcolor\":\"#E5ECF6\",\"angularaxis\":{\"gridcolor\":\"white\",\"linecolor\":\"white\",\"ticks\":\"\"},\"radialaxis\":{\"gridcolor\":\"white\",\"linecolor\":\"white\",\"ticks\":\"\"}},\"ternary\":{\"bgcolor\":\"#E5ECF6\",\"aaxis\":{\"gridcolor\":\"white\",\"linecolor\":\"white\",\"ticks\":\"\"},\"baxis\":{\"gridcolor\":\"white\",\"linecolor\":\"white\",\"ticks\":\"\"},\"caxis\":{\"gridcolor\":\"white\",\"linecolor\":\"white\",\"ticks\":\"\"}},\"coloraxis\":{\"colorbar\":{\"outlinewidth\":0,\"ticks\":\"\"}},\"colorscale\":{\"sequential\":[[0.0,\"#0d0887\"],[0.1111111111111111,\"#46039f\"],[0.2222222222222222,\"#7201a8\"],[0.3333333333333333,\"#9c179e\"],[0.4444444444444444,\"#bd3786\"],[0.5555555555555556,\"#d8576b\"],[0.6666666666666666,\"#ed7953\"],[0.7777777777777778,\"#fb9f3a\"],[0.8888888888888888,\"#fdca26\"],[1.0,\"#f0f921\"]],\"sequentialminus\":[[0.0,\"#0d0887\"],[0.1111111111111111,\"#46039f\"],[0.2222222222222222,\"#7201a8\"],[0.3333333333333333,\"#9c179e\"],[0.4444444444444444,\"#bd3786\"],[0.5555555555555556,\"#d8576b\"],[0.6666666666666666,\"#ed7953\"],[0.7777777777777778,\"#fb9f3a\"],[0.8888888888888888,\"#fdca26\"],[1.0,\"#f0f921\"]],\"diverging\":[[0,\"#8e0152\"],[0.1,\"#c51b7d\"],[0.2,\"#de77ae\"],[0.3,\"#f1b6da\"],[0.4,\"#fde0ef\"],[0.5,\"#f7f7f7\"],[0.6,\"#e6f5d0\"],[0.7,\"#b8e186\"],[0.8,\"#7fbc41\"],[0.9,\"#4d9221\"],[1,\"#276419\"]]},\"xaxis\":{\"gridcolor\":\"white\",\"linecolor\":\"white\",\"ticks\":\"\",\"title\":{\"standoff\":15},\"zerolinecolor\":\"white\",\"automargin\":true,\"zerolinewidth\":2},\"yaxis\":{\"gridcolor\":\"white\",\"linecolor\":\"white\",\"ticks\":\"\",\"title\":{\"standoff\":15},\"zerolinecolor\":\"white\",\"automargin\":true,\"zerolinewidth\":2},\"scene\":{\"xaxis\":{\"backgroundcolor\":\"#E5ECF6\",\"gridcolor\":\"white\",\"linecolor\":\"white\",\"showbackground\":true,\"ticks\":\"\",\"zerolinecolor\":\"white\",\"gridwidth\":2},\"yaxis\":{\"backgroundcolor\":\"#E5ECF6\",\"gridcolor\":\"white\",\"linecolor\":\"white\",\"showbackground\":true,\"ticks\":\"\",\"zerolinecolor\":\"white\",\"gridwidth\":2},\"zaxis\":{\"backgroundcolor\":\"#E5ECF6\",\"gridcolor\":\"white\",\"linecolor\":\"white\",\"showbackground\":true,\"ticks\":\"\",\"zerolinecolor\":\"white\",\"gridwidth\":2}},\"shapedefaults\":{\"line\":{\"color\":\"#2a3f5f\"}},\"annotationdefaults\":{\"arrowcolor\":\"#2a3f5f\",\"arrowhead\":0,\"arrowwidth\":1},\"geo\":{\"bgcolor\":\"white\",\"landcolor\":\"#E5ECF6\",\"subunitcolor\":\"white\",\"showland\":true,\"showlakes\":true,\"lakecolor\":\"white\"},\"title\":{\"x\":0.05},\"mapbox\":{\"style\":\"light\"}}},\"xaxis\":{\"anchor\":\"y\",\"domain\":[0.0,1.0],\"scaleanchor\":\"y\",\"constrain\":\"domain\"},\"yaxis\":{\"anchor\":\"x\",\"domain\":[0.0,1.0],\"autorange\":\"reversed\",\"constrain\":\"domain\"},\"coloraxis\":{\"colorscale\":[[0.0,\"#440154\"],[0.1111111111111111,\"#482878\"],[0.2222222222222222,\"#3e4989\"],[0.3333333333333333,\"#31688e\"],[0.4444444444444444,\"#26828e\"],[0.5555555555555556,\"#1f9e89\"],[0.6666666666666666,\"#35b779\"],[0.7777777777777778,\"#6ece58\"],[0.8888888888888888,\"#b5de2b\"],[1.0,\"#fde725\"]]},\"title\":{\"text\":\"\\u041c\\u0430\\u0442\\u0440\\u0438\\u0446\\u0430 \\u043a\\u043e\\u0440\\u0440\\u0435\\u043b\\u044f\\u0446\\u0438\\u0438 \\u0434\\u043b\\u044f \\u043a\\u043e\\u043c\\u043f\\u0430\\u043d\\u0438\\u0438 Walmart Inc.\"},\"width\":650,\"height\":650,\"annotations\":[{\"font\":{\"color\":\"black\"},\"showarrow\":false,\"text\":\"1.0\",\"x\":\"Walmart\",\"y\":\"Walmart\"},{\"font\":{\"color\":\"black\"},\"showarrow\":false,\"text\":\"-0.24\",\"x\":\"Volume\",\"y\":\"Walmart\"},{\"font\":{\"color\":\"black\"},\"showarrow\":false,\"text\":\"-0.39\",\"x\":\"Volatility\",\"y\":\"Walmart\"},{\"font\":{\"color\":\"black\"},\"showarrow\":false,\"text\":\"-0.45\",\"x\":\"GVolatility\",\"y\":\"Walmart\"},{\"font\":{\"color\":\"black\"},\"showarrow\":false,\"text\":\"-0.07\",\"x\":\"Illiquidity\",\"y\":\"Walmart\"},{\"font\":{\"color\":\"black\"},\"showarrow\":false,\"text\":\"0.65\",\"x\":\"S&P 500\",\"y\":\"Walmart\"},{\"font\":{\"color\":\"black\"},\"showarrow\":false,\"text\":\"0.49\",\"x\":\"Cases\",\"y\":\"Walmart\"},{\"font\":{\"color\":\"black\"},\"showarrow\":false,\"text\":\"0.46\",\"x\":\"Deaths\",\"y\":\"Walmart\"},{\"font\":{\"color\":\"black\"},\"showarrow\":false,\"text\":\"0.15\",\"x\":\"Stringency\",\"y\":\"Walmart\"},{\"font\":{\"color\":\"black\"},\"showarrow\":false,\"text\":\"-0.13\",\"x\":\"Mobility\",\"y\":\"Walmart\"},{\"font\":{\"color\":\"black\"},\"showarrow\":false,\"text\":\"-0.47\",\"x\":\"Google Trends\",\"y\":\"Walmart\"},{\"font\":{\"color\":\"black\"},\"showarrow\":false,\"text\":\"-0.24\",\"x\":\"Walmart\",\"y\":\"Volume\"},{\"font\":{\"color\":\"black\"},\"showarrow\":false,\"text\":\"1.0\",\"x\":\"Volume\",\"y\":\"Volume\"},{\"font\":{\"color\":\"black\"},\"showarrow\":false,\"text\":\"0.6\",\"x\":\"Volatility\",\"y\":\"Volume\"},{\"font\":{\"color\":\"black\"},\"showarrow\":false,\"text\":\"0.31\",\"x\":\"GVolatility\",\"y\":\"Volume\"},{\"font\":{\"color\":\"black\"},\"showarrow\":false,\"text\":\"0.09\",\"x\":\"Illiquidity\",\"y\":\"Volume\"},{\"font\":{\"color\":\"black\"},\"showarrow\":false,\"text\":\"-0.17\",\"x\":\"S&P 500\",\"y\":\"Volume\"},{\"font\":{\"color\":\"black\"},\"showarrow\":false,\"text\":\"-0.13\",\"x\":\"Cases\",\"y\":\"Volume\"},{\"font\":{\"color\":\"black\"},\"showarrow\":false,\"text\":\"-0.13\",\"x\":\"Deaths\",\"y\":\"Volume\"},{\"font\":{\"color\":\"black\"},\"showarrow\":false,\"text\":\"-0.02\",\"x\":\"Stringency\",\"y\":\"Volume\"},{\"font\":{\"color\":\"black\"},\"showarrow\":false,\"text\":\"-0.02\",\"x\":\"Mobility\",\"y\":\"Volume\"},{\"font\":{\"color\":\"black\"},\"showarrow\":false,\"text\":\"0.15\",\"x\":\"Google Trends\",\"y\":\"Volume\"},{\"font\":{\"color\":\"black\"},\"showarrow\":false,\"text\":\"-0.39\",\"x\":\"Walmart\",\"y\":\"Volatility\"},{\"font\":{\"color\":\"black\"},\"showarrow\":false,\"text\":\"0.6\",\"x\":\"Volume\",\"y\":\"Volatility\"},{\"font\":{\"color\":\"black\"},\"showarrow\":false,\"text\":\"1.0\",\"x\":\"Volatility\",\"y\":\"Volatility\"},{\"font\":{\"color\":\"black\"},\"showarrow\":false,\"text\":\"0.56\",\"x\":\"GVolatility\",\"y\":\"Volatility\"},{\"font\":{\"color\":\"black\"},\"showarrow\":false,\"text\":\"0.34\",\"x\":\"Illiquidity\",\"y\":\"Volatility\"},{\"font\":{\"color\":\"black\"},\"showarrow\":false,\"text\":\"-0.41\",\"x\":\"S&P 500\",\"y\":\"Volatility\"},{\"font\":{\"color\":\"black\"},\"showarrow\":false,\"text\":\"-0.29\",\"x\":\"Cases\",\"y\":\"Volatility\"},{\"font\":{\"color\":\"black\"},\"showarrow\":false,\"text\":\"-0.31\",\"x\":\"Deaths\",\"y\":\"Volatility\"},{\"font\":{\"color\":\"black\"},\"showarrow\":false,\"text\":\"-0.17\",\"x\":\"Stringency\",\"y\":\"Volatility\"},{\"font\":{\"color\":\"black\"},\"showarrow\":false,\"text\":\"-0.08\",\"x\":\"Mobility\",\"y\":\"Volatility\"},{\"font\":{\"color\":\"black\"},\"showarrow\":false,\"text\":\"0.31\",\"x\":\"Google Trends\",\"y\":\"Volatility\"},{\"font\":{\"color\":\"black\"},\"showarrow\":false,\"text\":\"-0.45\",\"x\":\"Walmart\",\"y\":\"GVolatility\"},{\"font\":{\"color\":\"black\"},\"showarrow\":false,\"text\":\"0.31\",\"x\":\"Volume\",\"y\":\"GVolatility\"},{\"font\":{\"color\":\"black\"},\"showarrow\":false,\"text\":\"0.56\",\"x\":\"Volatility\",\"y\":\"GVolatility\"},{\"font\":{\"color\":\"black\"},\"showarrow\":false,\"text\":\"1.0\",\"x\":\"GVolatility\",\"y\":\"GVolatility\"},{\"font\":{\"color\":\"black\"},\"showarrow\":false,\"text\":\"0.1\",\"x\":\"Illiquidity\",\"y\":\"GVolatility\"},{\"font\":{\"color\":\"black\"},\"showarrow\":false,\"text\":\"-0.48\",\"x\":\"S&P 500\",\"y\":\"GVolatility\"},{\"font\":{\"color\":\"black\"},\"showarrow\":false,\"text\":\"-0.33\",\"x\":\"Cases\",\"y\":\"GVolatility\"},{\"font\":{\"color\":\"black\"},\"showarrow\":false,\"text\":\"-0.37\",\"x\":\"Deaths\",\"y\":\"GVolatility\"},{\"font\":{\"color\":\"black\"},\"showarrow\":false,\"text\":\"-0.1\",\"x\":\"Stringency\",\"y\":\"GVolatility\"},{\"font\":{\"color\":\"black\"},\"showarrow\":false,\"text\":\"-0.11\",\"x\":\"Mobility\",\"y\":\"GVolatility\"},{\"font\":{\"color\":\"black\"},\"showarrow\":false,\"text\":\"0.38\",\"x\":\"Google Trends\",\"y\":\"GVolatility\"},{\"font\":{\"color\":\"black\"},\"showarrow\":false,\"text\":\"-0.07\",\"x\":\"Walmart\",\"y\":\"Illiquidity\"},{\"font\":{\"color\":\"black\"},\"showarrow\":false,\"text\":\"0.09\",\"x\":\"Volume\",\"y\":\"Illiquidity\"},{\"font\":{\"color\":\"black\"},\"showarrow\":false,\"text\":\"0.34\",\"x\":\"Volatility\",\"y\":\"Illiquidity\"},{\"font\":{\"color\":\"black\"},\"showarrow\":false,\"text\":\"0.1\",\"x\":\"GVolatility\",\"y\":\"Illiquidity\"},{\"font\":{\"color\":\"black\"},\"showarrow\":false,\"text\":\"1.0\",\"x\":\"Illiquidity\",\"y\":\"Illiquidity\"},{\"font\":{\"color\":\"black\"},\"showarrow\":false,\"text\":\"-0.07\",\"x\":\"S&P 500\",\"y\":\"Illiquidity\"},{\"font\":{\"color\":\"black\"},\"showarrow\":false,\"text\":\"-0.1\",\"x\":\"Cases\",\"y\":\"Illiquidity\"},{\"font\":{\"color\":\"black\"},\"showarrow\":false,\"text\":\"-0.11\",\"x\":\"Deaths\",\"y\":\"Illiquidity\"},{\"font\":{\"color\":\"black\"},\"showarrow\":false,\"text\":\"-0.11\",\"x\":\"Stringency\",\"y\":\"Illiquidity\"},{\"font\":{\"color\":\"black\"},\"showarrow\":false,\"text\":\"0.01\",\"x\":\"Mobility\",\"y\":\"Illiquidity\"},{\"font\":{\"color\":\"black\"},\"showarrow\":false,\"text\":\"0.02\",\"x\":\"Google Trends\",\"y\":\"Illiquidity\"},{\"font\":{\"color\":\"black\"},\"showarrow\":false,\"text\":\"0.65\",\"x\":\"Walmart\",\"y\":\"S&P 500\"},{\"font\":{\"color\":\"black\"},\"showarrow\":false,\"text\":\"-0.17\",\"x\":\"Volume\",\"y\":\"S&P 500\"},{\"font\":{\"color\":\"black\"},\"showarrow\":false,\"text\":\"-0.41\",\"x\":\"Volatility\",\"y\":\"S&P 500\"},{\"font\":{\"color\":\"black\"},\"showarrow\":false,\"text\":\"-0.48\",\"x\":\"GVolatility\",\"y\":\"S&P 500\"},{\"font\":{\"color\":\"black\"},\"showarrow\":false,\"text\":\"-0.07\",\"x\":\"Illiquidity\",\"y\":\"S&P 500\"},{\"font\":{\"color\":\"black\"},\"showarrow\":false,\"text\":\"1.0\",\"x\":\"S&P 500\",\"y\":\"S&P 500\"},{\"font\":{\"color\":\"black\"},\"showarrow\":false,\"text\":\"0.44\",\"x\":\"Cases\",\"y\":\"S&P 500\"},{\"font\":{\"color\":\"black\"},\"showarrow\":false,\"text\":\"0.28\",\"x\":\"Deaths\",\"y\":\"S&P 500\"},{\"font\":{\"color\":\"black\"},\"showarrow\":false,\"text\":\"-0.26\",\"x\":\"Stringency\",\"y\":\"S&P 500\"},{\"font\":{\"color\":\"black\"},\"showarrow\":false,\"text\":\"0.26\",\"x\":\"Mobility\",\"y\":\"S&P 500\"},{\"font\":{\"color\":\"black\"},\"showarrow\":false,\"text\":\"-0.86\",\"x\":\"Google Trends\",\"y\":\"S&P 500\"},{\"font\":{\"color\":\"black\"},\"showarrow\":false,\"text\":\"0.49\",\"x\":\"Walmart\",\"y\":\"Cases\"},{\"font\":{\"color\":\"black\"},\"showarrow\":false,\"text\":\"-0.13\",\"x\":\"Volume\",\"y\":\"Cases\"},{\"font\":{\"color\":\"black\"},\"showarrow\":false,\"text\":\"-0.29\",\"x\":\"Volatility\",\"y\":\"Cases\"},{\"font\":{\"color\":\"black\"},\"showarrow\":false,\"text\":\"-0.33\",\"x\":\"GVolatility\",\"y\":\"Cases\"},{\"font\":{\"color\":\"black\"},\"showarrow\":false,\"text\":\"-0.1\",\"x\":\"Illiquidity\",\"y\":\"Cases\"},{\"font\":{\"color\":\"black\"},\"showarrow\":false,\"text\":\"0.44\",\"x\":\"S&P 500\",\"y\":\"Cases\"},{\"font\":{\"color\":\"black\"},\"showarrow\":false,\"text\":\"1.0\",\"x\":\"Cases\",\"y\":\"Cases\"},{\"font\":{\"color\":\"black\"},\"showarrow\":false,\"text\":\"0.9\",\"x\":\"Deaths\",\"y\":\"Cases\"},{\"font\":{\"color\":\"black\"},\"showarrow\":false,\"text\":\"0.46\",\"x\":\"Stringency\",\"y\":\"Cases\"},{\"font\":{\"color\":\"black\"},\"showarrow\":false,\"text\":\"-0.31\",\"x\":\"Mobility\",\"y\":\"Cases\"},{\"font\":{\"color\":\"black\"},\"showarrow\":false,\"text\":\"-0.42\",\"x\":\"Google Trends\",\"y\":\"Cases\"},{\"font\":{\"color\":\"black\"},\"showarrow\":false,\"text\":\"0.46\",\"x\":\"Walmart\",\"y\":\"Deaths\"},{\"font\":{\"color\":\"black\"},\"showarrow\":false,\"text\":\"-0.13\",\"x\":\"Volume\",\"y\":\"Deaths\"},{\"font\":{\"color\":\"black\"},\"showarrow\":false,\"text\":\"-0.31\",\"x\":\"Volatility\",\"y\":\"Deaths\"},{\"font\":{\"color\":\"black\"},\"showarrow\":false,\"text\":\"-0.37\",\"x\":\"GVolatility\",\"y\":\"Deaths\"},{\"font\":{\"color\":\"black\"},\"showarrow\":false,\"text\":\"-0.11\",\"x\":\"Illiquidity\",\"y\":\"Deaths\"},{\"font\":{\"color\":\"black\"},\"showarrow\":false,\"text\":\"0.28\",\"x\":\"S&P 500\",\"y\":\"Deaths\"},{\"font\":{\"color\":\"black\"},\"showarrow\":false,\"text\":\"0.9\",\"x\":\"Cases\",\"y\":\"Deaths\"},{\"font\":{\"color\":\"black\"},\"showarrow\":false,\"text\":\"1.0\",\"x\":\"Deaths\",\"y\":\"Deaths\"},{\"font\":{\"color\":\"black\"},\"showarrow\":false,\"text\":\"0.67\",\"x\":\"Stringency\",\"y\":\"Deaths\"},{\"font\":{\"color\":\"black\"},\"showarrow\":false,\"text\":\"-0.48\",\"x\":\"Mobility\",\"y\":\"Deaths\"},{\"font\":{\"color\":\"black\"},\"showarrow\":false,\"text\":\"-0.17\",\"x\":\"Google Trends\",\"y\":\"Deaths\"},{\"font\":{\"color\":\"black\"},\"showarrow\":false,\"text\":\"0.15\",\"x\":\"Walmart\",\"y\":\"Stringency\"},{\"font\":{\"color\":\"black\"},\"showarrow\":false,\"text\":\"-0.02\",\"x\":\"Volume\",\"y\":\"Stringency\"},{\"font\":{\"color\":\"black\"},\"showarrow\":false,\"text\":\"-0.17\",\"x\":\"Volatility\",\"y\":\"Stringency\"},{\"font\":{\"color\":\"black\"},\"showarrow\":false,\"text\":\"-0.1\",\"x\":\"GVolatility\",\"y\":\"Stringency\"},{\"font\":{\"color\":\"black\"},\"showarrow\":false,\"text\":\"-0.11\",\"x\":\"Illiquidity\",\"y\":\"Stringency\"},{\"font\":{\"color\":\"black\"},\"showarrow\":false,\"text\":\"-0.26\",\"x\":\"S&P 500\",\"y\":\"Stringency\"},{\"font\":{\"color\":\"black\"},\"showarrow\":false,\"text\":\"0.46\",\"x\":\"Cases\",\"y\":\"Stringency\"},{\"font\":{\"color\":\"black\"},\"showarrow\":false,\"text\":\"0.67\",\"x\":\"Deaths\",\"y\":\"Stringency\"},{\"font\":{\"color\":\"black\"},\"showarrow\":false,\"text\":\"1.0\",\"x\":\"Stringency\",\"y\":\"Stringency\"},{\"font\":{\"color\":\"black\"},\"showarrow\":false,\"text\":\"-0.53\",\"x\":\"Mobility\",\"y\":\"Stringency\"},{\"font\":{\"color\":\"black\"},\"showarrow\":false,\"text\":\"0.45\",\"x\":\"Google Trends\",\"y\":\"Stringency\"},{\"font\":{\"color\":\"black\"},\"showarrow\":false,\"text\":\"-0.13\",\"x\":\"Walmart\",\"y\":\"Mobility\"},{\"font\":{\"color\":\"black\"},\"showarrow\":false,\"text\":\"-0.02\",\"x\":\"Volume\",\"y\":\"Mobility\"},{\"font\":{\"color\":\"black\"},\"showarrow\":false,\"text\":\"-0.08\",\"x\":\"Volatility\",\"y\":\"Mobility\"},{\"font\":{\"color\":\"black\"},\"showarrow\":false,\"text\":\"-0.11\",\"x\":\"GVolatility\",\"y\":\"Mobility\"},{\"font\":{\"color\":\"black\"},\"showarrow\":false,\"text\":\"0.01\",\"x\":\"Illiquidity\",\"y\":\"Mobility\"},{\"font\":{\"color\":\"black\"},\"showarrow\":false,\"text\":\"0.26\",\"x\":\"S&P 500\",\"y\":\"Mobility\"},{\"font\":{\"color\":\"black\"},\"showarrow\":false,\"text\":\"-0.31\",\"x\":\"Cases\",\"y\":\"Mobility\"},{\"font\":{\"color\":\"black\"},\"showarrow\":false,\"text\":\"-0.48\",\"x\":\"Deaths\",\"y\":\"Mobility\"},{\"font\":{\"color\":\"black\"},\"showarrow\":false,\"text\":\"-0.53\",\"x\":\"Stringency\",\"y\":\"Mobility\"},{\"font\":{\"color\":\"black\"},\"showarrow\":false,\"text\":\"1.0\",\"x\":\"Mobility\",\"y\":\"Mobility\"},{\"font\":{\"color\":\"black\"},\"showarrow\":false,\"text\":\"-0.37\",\"x\":\"Google Trends\",\"y\":\"Mobility\"},{\"font\":{\"color\":\"black\"},\"showarrow\":false,\"text\":\"-0.47\",\"x\":\"Walmart\",\"y\":\"Google Trends\"},{\"font\":{\"color\":\"black\"},\"showarrow\":false,\"text\":\"0.15\",\"x\":\"Volume\",\"y\":\"Google Trends\"},{\"font\":{\"color\":\"black\"},\"showarrow\":false,\"text\":\"0.31\",\"x\":\"Volatility\",\"y\":\"Google Trends\"},{\"font\":{\"color\":\"black\"},\"showarrow\":false,\"text\":\"0.38\",\"x\":\"GVolatility\",\"y\":\"Google Trends\"},{\"font\":{\"color\":\"black\"},\"showarrow\":false,\"text\":\"0.02\",\"x\":\"Illiquidity\",\"y\":\"Google Trends\"},{\"font\":{\"color\":\"black\"},\"showarrow\":false,\"text\":\"-0.86\",\"x\":\"S&P 500\",\"y\":\"Google Trends\"},{\"font\":{\"color\":\"black\"},\"showarrow\":false,\"text\":\"-0.42\",\"x\":\"Cases\",\"y\":\"Google Trends\"},{\"font\":{\"color\":\"black\"},\"showarrow\":false,\"text\":\"-0.17\",\"x\":\"Deaths\",\"y\":\"Google Trends\"},{\"font\":{\"color\":\"black\"},\"showarrow\":false,\"text\":\"0.45\",\"x\":\"Stringency\",\"y\":\"Google Trends\"},{\"font\":{\"color\":\"black\"},\"showarrow\":false,\"text\":\"-0.37\",\"x\":\"Mobility\",\"y\":\"Google Trends\"},{\"font\":{\"color\":\"black\"},\"showarrow\":false,\"text\":\"1.0\",\"x\":\"Google Trends\",\"y\":\"Google Trends\"}]},                        {\"responsive\": true}                    ).then(function(){\n",
       "                            \n",
       "var gd = document.getElementById('4d982475-f875-4e14-a1bd-aa1607600d91');\n",
       "var x = new MutationObserver(function (mutations, observer) {{\n",
       "        var display = window.getComputedStyle(gd).display;\n",
       "        if (!display || display === 'none') {{\n",
       "            console.log([gd, 'removed!']);\n",
       "            Plotly.purge(gd);\n",
       "            observer.disconnect();\n",
       "        }}\n",
       "}});\n",
       "\n",
       "// Listen for the removal of the full notebook cells\n",
       "var notebookContainer = gd.closest('#notebook-container');\n",
       "if (notebookContainer) {{\n",
       "    x.observe(notebookContainer, {childList: true});\n",
       "}}\n",
       "\n",
       "// Listen for the clearing of the current output cell\n",
       "var outputEl = gd.closest('.output');\n",
       "if (outputEl) {{\n",
       "    x.observe(outputEl, {childList: true});\n",
       "}}\n",
       "\n",
       "                        })                };                });            </script>        </div>"
      ]
     },
     "metadata": {},
     "output_type": "display_data"
    }
   ],
   "source": [
    "# Вычисление матрицы ковариации\n",
    "pic1 = data.drop(\"constant\",axis=1)\n",
    "pic1.columns = x=['Walmart',\"Volume\",\"Volatility\",\"GVolatility\",\"Illiquidity\",\"S&P 500\",\"Cases\",\"Deaths\",\"Stringency\",\"Mobility\",\"Google Trends\"]\n",
    "cov_matrix = pic1.corr()\n",
    "\n",
    "# Построение тепловой карты с настроенной цветовой палитрой\n",
    "fig = px.imshow(cov_matrix, color_continuous_scale='Viridis',title=\"Матрица корреляции для компании Walmart Inc.\")\n",
    "fig.update_layout(width=650,height=650)\n",
    "for i in range(len(cov_matrix)):\n",
    "    for j in range(len(cov_matrix.columns)):\n",
    "        fig.add_annotation(text=str(cov_matrix.iloc[i, j].round(2)),\n",
    "                           x=cov_matrix.columns[j], y=cov_matrix.index[i],\n",
    "                           showarrow=False, font=dict(color='black'))\n",
    "fig.show()"
   ]
  },
  {
   "cell_type": "code",
   "execution_count": 304,
   "id": "ee7cdce6",
   "metadata": {},
   "outputs": [
    {
     "data": {
      "application/vnd.plotly.v1+json": {
       "config": {
        "plotlyServerURL": "https://plot.ly"
       },
       "data": [
        {
         "coloraxis": "coloraxis",
         "hovertemplate": "x: %{x}<br>y: %{y}<br>color: %{z}<extra></extra>",
         "name": "0",
         "type": "heatmap",
         "x": [
          "Zoom",
          "Volume",
          "Volatility",
          "GVolatility",
          "Illiquidity",
          "S&P 500",
          "Cases",
          "Deaths",
          "Stringency",
          "Mobility",
          "Google Trends"
         ],
         "xaxis": "x",
         "y": [
          "Zoom",
          "Volume",
          "Volatility",
          "GVolatility",
          "Illiquidity",
          "S&P 500",
          "Cases",
          "Deaths",
          "Stringency",
          "Mobility",
          "Google Trends"
         ],
         "yaxis": "y",
         "z": [
          [
           1,
           -0.011025742059999996,
           -0.2939389715476043,
           -0.11867612123177311,
           -0.18061955874639057,
           -0.03202846697775426,
           0.1772546090225121,
           0.28057180392097764,
           0.6231539590794047,
           -0.18723501337076195,
           0.12259263640113512
          ],
          [
           -0.011025742059999996,
           1,
           0.5650051685594356,
           0.255365213714668,
           -0.15022164638112556,
           -0.5550247933449598,
           -0.29719934526916364,
           -0.18291773143702278,
           0.1312455260438875,
           -0.2194712624074562,
           0.527579754100239
          ],
          [
           -0.2939389715476043,
           0.5650051685594356,
           1,
           0.295548827004593,
           0.16920335010253407,
           -0.3686193209938313,
           -0.2574350803737202,
           -0.26054211368928054,
           -0.18648704523402262,
           -0.1810359144750342,
           0.23515291389466253
          ],
          [
           -0.11867612123177311,
           0.255365213714668,
           0.295548827004593,
           1,
           -0.04760341019388428,
           -0.19925550276927403,
           -0.11263937722801508,
           -0.10383679668346123,
           -0.07486171952970011,
           -0.09356177946593382,
           0.1253708710253243
          ],
          [
           -0.18061955874639057,
           -0.15022164638112556,
           0.16920335010253407,
           -0.04760341019388428,
           1,
           0.23967337327520735,
           0.10648342824446937,
           0.027742020184569914,
           -0.1809381159552626,
           0.05387349495279322,
           -0.28626379884940995
          ],
          [
           -0.03202846697775426,
           -0.5550247933449598,
           -0.3686193209938313,
           -0.19925550276927403,
           0.23967337327520735,
           1,
           0.4536981257020058,
           0.2805648518537491,
           -0.2852813453062543,
           0.26345357989826174,
           -0.8575985884201672
          ],
          [
           0.1772546090225121,
           -0.29719934526916364,
           -0.2574350803737202,
           -0.11263937722801508,
           0.10648342824446937,
           0.4536981257020058,
           1,
           0.8896806383212998,
           0.4144950360722437,
           -0.30342105769335914,
           -0.44005945767066584
          ],
          [
           0.28057180392097764,
           -0.18291773143702278,
           -0.26054211368928054,
           -0.10383679668346123,
           0.027742020184569914,
           0.2805648518537491,
           0.8896806383212998,
           1,
           0.6454767442274261,
           -0.4772199572607414,
           -0.17780168585893594
          ],
          [
           0.6231539590794047,
           0.1312455260438875,
           -0.18648704523402262,
           -0.07486171952970011,
           -0.1809381159552626,
           -0.2852813453062543,
           0.4144950360722437,
           0.6454767442274261,
           1,
           -0.5316749249007786,
           0.46243428180523594
          ],
          [
           -0.18723501337076195,
           -0.2194712624074562,
           -0.1810359144750342,
           -0.09356177946593382,
           0.05387349495279322,
           0.26345357989826174,
           -0.30342105769335914,
           -0.4772199572607414,
           -0.5316749249007786,
           1,
           -0.36930417101956514
          ],
          [
           0.12259263640113512,
           0.527579754100239,
           0.23515291389466253,
           0.1253708710253243,
           -0.28626379884940995,
           -0.8575985884201672,
           -0.44005945767066584,
           -0.17780168585893594,
           0.46243428180523594,
           -0.36930417101956514,
           1
          ]
         ]
        }
       ],
       "layout": {
        "annotations": [
         {
          "font": {
           "color": "black"
          },
          "showarrow": false,
          "text": "1.0",
          "x": "Zoom",
          "y": "Zoom"
         },
         {
          "font": {
           "color": "black"
          },
          "showarrow": false,
          "text": "-0.01",
          "x": "Volume",
          "y": "Zoom"
         },
         {
          "font": {
           "color": "black"
          },
          "showarrow": false,
          "text": "-0.29",
          "x": "Volatility",
          "y": "Zoom"
         },
         {
          "font": {
           "color": "black"
          },
          "showarrow": false,
          "text": "-0.12",
          "x": "GVolatility",
          "y": "Zoom"
         },
         {
          "font": {
           "color": "black"
          },
          "showarrow": false,
          "text": "-0.18",
          "x": "Illiquidity",
          "y": "Zoom"
         },
         {
          "font": {
           "color": "black"
          },
          "showarrow": false,
          "text": "-0.03",
          "x": "S&P 500",
          "y": "Zoom"
         },
         {
          "font": {
           "color": "black"
          },
          "showarrow": false,
          "text": "0.18",
          "x": "Cases",
          "y": "Zoom"
         },
         {
          "font": {
           "color": "black"
          },
          "showarrow": false,
          "text": "0.28",
          "x": "Deaths",
          "y": "Zoom"
         },
         {
          "font": {
           "color": "black"
          },
          "showarrow": false,
          "text": "0.62",
          "x": "Stringency",
          "y": "Zoom"
         },
         {
          "font": {
           "color": "black"
          },
          "showarrow": false,
          "text": "-0.19",
          "x": "Mobility",
          "y": "Zoom"
         },
         {
          "font": {
           "color": "black"
          },
          "showarrow": false,
          "text": "0.12",
          "x": "Google Trends",
          "y": "Zoom"
         },
         {
          "font": {
           "color": "black"
          },
          "showarrow": false,
          "text": "-0.01",
          "x": "Zoom",
          "y": "Volume"
         },
         {
          "font": {
           "color": "black"
          },
          "showarrow": false,
          "text": "1.0",
          "x": "Volume",
          "y": "Volume"
         },
         {
          "font": {
           "color": "black"
          },
          "showarrow": false,
          "text": "0.57",
          "x": "Volatility",
          "y": "Volume"
         },
         {
          "font": {
           "color": "black"
          },
          "showarrow": false,
          "text": "0.26",
          "x": "GVolatility",
          "y": "Volume"
         },
         {
          "font": {
           "color": "black"
          },
          "showarrow": false,
          "text": "-0.15",
          "x": "Illiquidity",
          "y": "Volume"
         },
         {
          "font": {
           "color": "black"
          },
          "showarrow": false,
          "text": "-0.56",
          "x": "S&P 500",
          "y": "Volume"
         },
         {
          "font": {
           "color": "black"
          },
          "showarrow": false,
          "text": "-0.3",
          "x": "Cases",
          "y": "Volume"
         },
         {
          "font": {
           "color": "black"
          },
          "showarrow": false,
          "text": "-0.18",
          "x": "Deaths",
          "y": "Volume"
         },
         {
          "font": {
           "color": "black"
          },
          "showarrow": false,
          "text": "0.13",
          "x": "Stringency",
          "y": "Volume"
         },
         {
          "font": {
           "color": "black"
          },
          "showarrow": false,
          "text": "-0.22",
          "x": "Mobility",
          "y": "Volume"
         },
         {
          "font": {
           "color": "black"
          },
          "showarrow": false,
          "text": "0.53",
          "x": "Google Trends",
          "y": "Volume"
         },
         {
          "font": {
           "color": "black"
          },
          "showarrow": false,
          "text": "-0.29",
          "x": "Zoom",
          "y": "Volatility"
         },
         {
          "font": {
           "color": "black"
          },
          "showarrow": false,
          "text": "0.57",
          "x": "Volume",
          "y": "Volatility"
         },
         {
          "font": {
           "color": "black"
          },
          "showarrow": false,
          "text": "1.0",
          "x": "Volatility",
          "y": "Volatility"
         },
         {
          "font": {
           "color": "black"
          },
          "showarrow": false,
          "text": "0.3",
          "x": "GVolatility",
          "y": "Volatility"
         },
         {
          "font": {
           "color": "black"
          },
          "showarrow": false,
          "text": "0.17",
          "x": "Illiquidity",
          "y": "Volatility"
         },
         {
          "font": {
           "color": "black"
          },
          "showarrow": false,
          "text": "-0.37",
          "x": "S&P 500",
          "y": "Volatility"
         },
         {
          "font": {
           "color": "black"
          },
          "showarrow": false,
          "text": "-0.26",
          "x": "Cases",
          "y": "Volatility"
         },
         {
          "font": {
           "color": "black"
          },
          "showarrow": false,
          "text": "-0.26",
          "x": "Deaths",
          "y": "Volatility"
         },
         {
          "font": {
           "color": "black"
          },
          "showarrow": false,
          "text": "-0.19",
          "x": "Stringency",
          "y": "Volatility"
         },
         {
          "font": {
           "color": "black"
          },
          "showarrow": false,
          "text": "-0.18",
          "x": "Mobility",
          "y": "Volatility"
         },
         {
          "font": {
           "color": "black"
          },
          "showarrow": false,
          "text": "0.24",
          "x": "Google Trends",
          "y": "Volatility"
         },
         {
          "font": {
           "color": "black"
          },
          "showarrow": false,
          "text": "-0.12",
          "x": "Zoom",
          "y": "GVolatility"
         },
         {
          "font": {
           "color": "black"
          },
          "showarrow": false,
          "text": "0.26",
          "x": "Volume",
          "y": "GVolatility"
         },
         {
          "font": {
           "color": "black"
          },
          "showarrow": false,
          "text": "0.3",
          "x": "Volatility",
          "y": "GVolatility"
         },
         {
          "font": {
           "color": "black"
          },
          "showarrow": false,
          "text": "1.0",
          "x": "GVolatility",
          "y": "GVolatility"
         },
         {
          "font": {
           "color": "black"
          },
          "showarrow": false,
          "text": "-0.05",
          "x": "Illiquidity",
          "y": "GVolatility"
         },
         {
          "font": {
           "color": "black"
          },
          "showarrow": false,
          "text": "-0.2",
          "x": "S&P 500",
          "y": "GVolatility"
         },
         {
          "font": {
           "color": "black"
          },
          "showarrow": false,
          "text": "-0.11",
          "x": "Cases",
          "y": "GVolatility"
         },
         {
          "font": {
           "color": "black"
          },
          "showarrow": false,
          "text": "-0.1",
          "x": "Deaths",
          "y": "GVolatility"
         },
         {
          "font": {
           "color": "black"
          },
          "showarrow": false,
          "text": "-0.07",
          "x": "Stringency",
          "y": "GVolatility"
         },
         {
          "font": {
           "color": "black"
          },
          "showarrow": false,
          "text": "-0.09",
          "x": "Mobility",
          "y": "GVolatility"
         },
         {
          "font": {
           "color": "black"
          },
          "showarrow": false,
          "text": "0.13",
          "x": "Google Trends",
          "y": "GVolatility"
         },
         {
          "font": {
           "color": "black"
          },
          "showarrow": false,
          "text": "-0.18",
          "x": "Zoom",
          "y": "Illiquidity"
         },
         {
          "font": {
           "color": "black"
          },
          "showarrow": false,
          "text": "-0.15",
          "x": "Volume",
          "y": "Illiquidity"
         },
         {
          "font": {
           "color": "black"
          },
          "showarrow": false,
          "text": "0.17",
          "x": "Volatility",
          "y": "Illiquidity"
         },
         {
          "font": {
           "color": "black"
          },
          "showarrow": false,
          "text": "-0.05",
          "x": "GVolatility",
          "y": "Illiquidity"
         },
         {
          "font": {
           "color": "black"
          },
          "showarrow": false,
          "text": "1.0",
          "x": "Illiquidity",
          "y": "Illiquidity"
         },
         {
          "font": {
           "color": "black"
          },
          "showarrow": false,
          "text": "0.24",
          "x": "S&P 500",
          "y": "Illiquidity"
         },
         {
          "font": {
           "color": "black"
          },
          "showarrow": false,
          "text": "0.11",
          "x": "Cases",
          "y": "Illiquidity"
         },
         {
          "font": {
           "color": "black"
          },
          "showarrow": false,
          "text": "0.03",
          "x": "Deaths",
          "y": "Illiquidity"
         },
         {
          "font": {
           "color": "black"
          },
          "showarrow": false,
          "text": "-0.18",
          "x": "Stringency",
          "y": "Illiquidity"
         },
         {
          "font": {
           "color": "black"
          },
          "showarrow": false,
          "text": "0.05",
          "x": "Mobility",
          "y": "Illiquidity"
         },
         {
          "font": {
           "color": "black"
          },
          "showarrow": false,
          "text": "-0.29",
          "x": "Google Trends",
          "y": "Illiquidity"
         },
         {
          "font": {
           "color": "black"
          },
          "showarrow": false,
          "text": "-0.03",
          "x": "Zoom",
          "y": "S&P 500"
         },
         {
          "font": {
           "color": "black"
          },
          "showarrow": false,
          "text": "-0.56",
          "x": "Volume",
          "y": "S&P 500"
         },
         {
          "font": {
           "color": "black"
          },
          "showarrow": false,
          "text": "-0.37",
          "x": "Volatility",
          "y": "S&P 500"
         },
         {
          "font": {
           "color": "black"
          },
          "showarrow": false,
          "text": "-0.2",
          "x": "GVolatility",
          "y": "S&P 500"
         },
         {
          "font": {
           "color": "black"
          },
          "showarrow": false,
          "text": "0.24",
          "x": "Illiquidity",
          "y": "S&P 500"
         },
         {
          "font": {
           "color": "black"
          },
          "showarrow": false,
          "text": "1.0",
          "x": "S&P 500",
          "y": "S&P 500"
         },
         {
          "font": {
           "color": "black"
          },
          "showarrow": false,
          "text": "0.45",
          "x": "Cases",
          "y": "S&P 500"
         },
         {
          "font": {
           "color": "black"
          },
          "showarrow": false,
          "text": "0.28",
          "x": "Deaths",
          "y": "S&P 500"
         },
         {
          "font": {
           "color": "black"
          },
          "showarrow": false,
          "text": "-0.29",
          "x": "Stringency",
          "y": "S&P 500"
         },
         {
          "font": {
           "color": "black"
          },
          "showarrow": false,
          "text": "0.26",
          "x": "Mobility",
          "y": "S&P 500"
         },
         {
          "font": {
           "color": "black"
          },
          "showarrow": false,
          "text": "-0.86",
          "x": "Google Trends",
          "y": "S&P 500"
         },
         {
          "font": {
           "color": "black"
          },
          "showarrow": false,
          "text": "0.18",
          "x": "Zoom",
          "y": "Cases"
         },
         {
          "font": {
           "color": "black"
          },
          "showarrow": false,
          "text": "-0.3",
          "x": "Volume",
          "y": "Cases"
         },
         {
          "font": {
           "color": "black"
          },
          "showarrow": false,
          "text": "-0.26",
          "x": "Volatility",
          "y": "Cases"
         },
         {
          "font": {
           "color": "black"
          },
          "showarrow": false,
          "text": "-0.11",
          "x": "GVolatility",
          "y": "Cases"
         },
         {
          "font": {
           "color": "black"
          },
          "showarrow": false,
          "text": "0.11",
          "x": "Illiquidity",
          "y": "Cases"
         },
         {
          "font": {
           "color": "black"
          },
          "showarrow": false,
          "text": "0.45",
          "x": "S&P 500",
          "y": "Cases"
         },
         {
          "font": {
           "color": "black"
          },
          "showarrow": false,
          "text": "1.0",
          "x": "Cases",
          "y": "Cases"
         },
         {
          "font": {
           "color": "black"
          },
          "showarrow": false,
          "text": "0.89",
          "x": "Deaths",
          "y": "Cases"
         },
         {
          "font": {
           "color": "black"
          },
          "showarrow": false,
          "text": "0.41",
          "x": "Stringency",
          "y": "Cases"
         },
         {
          "font": {
           "color": "black"
          },
          "showarrow": false,
          "text": "-0.3",
          "x": "Mobility",
          "y": "Cases"
         },
         {
          "font": {
           "color": "black"
          },
          "showarrow": false,
          "text": "-0.44",
          "x": "Google Trends",
          "y": "Cases"
         },
         {
          "font": {
           "color": "black"
          },
          "showarrow": false,
          "text": "0.28",
          "x": "Zoom",
          "y": "Deaths"
         },
         {
          "font": {
           "color": "black"
          },
          "showarrow": false,
          "text": "-0.18",
          "x": "Volume",
          "y": "Deaths"
         },
         {
          "font": {
           "color": "black"
          },
          "showarrow": false,
          "text": "-0.26",
          "x": "Volatility",
          "y": "Deaths"
         },
         {
          "font": {
           "color": "black"
          },
          "showarrow": false,
          "text": "-0.1",
          "x": "GVolatility",
          "y": "Deaths"
         },
         {
          "font": {
           "color": "black"
          },
          "showarrow": false,
          "text": "0.03",
          "x": "Illiquidity",
          "y": "Deaths"
         },
         {
          "font": {
           "color": "black"
          },
          "showarrow": false,
          "text": "0.28",
          "x": "S&P 500",
          "y": "Deaths"
         },
         {
          "font": {
           "color": "black"
          },
          "showarrow": false,
          "text": "0.89",
          "x": "Cases",
          "y": "Deaths"
         },
         {
          "font": {
           "color": "black"
          },
          "showarrow": false,
          "text": "1.0",
          "x": "Deaths",
          "y": "Deaths"
         },
         {
          "font": {
           "color": "black"
          },
          "showarrow": false,
          "text": "0.65",
          "x": "Stringency",
          "y": "Deaths"
         },
         {
          "font": {
           "color": "black"
          },
          "showarrow": false,
          "text": "-0.48",
          "x": "Mobility",
          "y": "Deaths"
         },
         {
          "font": {
           "color": "black"
          },
          "showarrow": false,
          "text": "-0.18",
          "x": "Google Trends",
          "y": "Deaths"
         },
         {
          "font": {
           "color": "black"
          },
          "showarrow": false,
          "text": "0.62",
          "x": "Zoom",
          "y": "Stringency"
         },
         {
          "font": {
           "color": "black"
          },
          "showarrow": false,
          "text": "0.13",
          "x": "Volume",
          "y": "Stringency"
         },
         {
          "font": {
           "color": "black"
          },
          "showarrow": false,
          "text": "-0.19",
          "x": "Volatility",
          "y": "Stringency"
         },
         {
          "font": {
           "color": "black"
          },
          "showarrow": false,
          "text": "-0.07",
          "x": "GVolatility",
          "y": "Stringency"
         },
         {
          "font": {
           "color": "black"
          },
          "showarrow": false,
          "text": "-0.18",
          "x": "Illiquidity",
          "y": "Stringency"
         },
         {
          "font": {
           "color": "black"
          },
          "showarrow": false,
          "text": "-0.29",
          "x": "S&P 500",
          "y": "Stringency"
         },
         {
          "font": {
           "color": "black"
          },
          "showarrow": false,
          "text": "0.41",
          "x": "Cases",
          "y": "Stringency"
         },
         {
          "font": {
           "color": "black"
          },
          "showarrow": false,
          "text": "0.65",
          "x": "Deaths",
          "y": "Stringency"
         },
         {
          "font": {
           "color": "black"
          },
          "showarrow": false,
          "text": "1.0",
          "x": "Stringency",
          "y": "Stringency"
         },
         {
          "font": {
           "color": "black"
          },
          "showarrow": false,
          "text": "-0.53",
          "x": "Mobility",
          "y": "Stringency"
         },
         {
          "font": {
           "color": "black"
          },
          "showarrow": false,
          "text": "0.46",
          "x": "Google Trends",
          "y": "Stringency"
         },
         {
          "font": {
           "color": "black"
          },
          "showarrow": false,
          "text": "-0.19",
          "x": "Zoom",
          "y": "Mobility"
         },
         {
          "font": {
           "color": "black"
          },
          "showarrow": false,
          "text": "-0.22",
          "x": "Volume",
          "y": "Mobility"
         },
         {
          "font": {
           "color": "black"
          },
          "showarrow": false,
          "text": "-0.18",
          "x": "Volatility",
          "y": "Mobility"
         },
         {
          "font": {
           "color": "black"
          },
          "showarrow": false,
          "text": "-0.09",
          "x": "GVolatility",
          "y": "Mobility"
         },
         {
          "font": {
           "color": "black"
          },
          "showarrow": false,
          "text": "0.05",
          "x": "Illiquidity",
          "y": "Mobility"
         },
         {
          "font": {
           "color": "black"
          },
          "showarrow": false,
          "text": "0.26",
          "x": "S&P 500",
          "y": "Mobility"
         },
         {
          "font": {
           "color": "black"
          },
          "showarrow": false,
          "text": "-0.3",
          "x": "Cases",
          "y": "Mobility"
         },
         {
          "font": {
           "color": "black"
          },
          "showarrow": false,
          "text": "-0.48",
          "x": "Deaths",
          "y": "Mobility"
         },
         {
          "font": {
           "color": "black"
          },
          "showarrow": false,
          "text": "-0.53",
          "x": "Stringency",
          "y": "Mobility"
         },
         {
          "font": {
           "color": "black"
          },
          "showarrow": false,
          "text": "1.0",
          "x": "Mobility",
          "y": "Mobility"
         },
         {
          "font": {
           "color": "black"
          },
          "showarrow": false,
          "text": "-0.37",
          "x": "Google Trends",
          "y": "Mobility"
         },
         {
          "font": {
           "color": "black"
          },
          "showarrow": false,
          "text": "0.12",
          "x": "Zoom",
          "y": "Google Trends"
         },
         {
          "font": {
           "color": "black"
          },
          "showarrow": false,
          "text": "0.53",
          "x": "Volume",
          "y": "Google Trends"
         },
         {
          "font": {
           "color": "black"
          },
          "showarrow": false,
          "text": "0.24",
          "x": "Volatility",
          "y": "Google Trends"
         },
         {
          "font": {
           "color": "black"
          },
          "showarrow": false,
          "text": "0.13",
          "x": "GVolatility",
          "y": "Google Trends"
         },
         {
          "font": {
           "color": "black"
          },
          "showarrow": false,
          "text": "-0.29",
          "x": "Illiquidity",
          "y": "Google Trends"
         },
         {
          "font": {
           "color": "black"
          },
          "showarrow": false,
          "text": "-0.86",
          "x": "S&P 500",
          "y": "Google Trends"
         },
         {
          "font": {
           "color": "black"
          },
          "showarrow": false,
          "text": "-0.44",
          "x": "Cases",
          "y": "Google Trends"
         },
         {
          "font": {
           "color": "black"
          },
          "showarrow": false,
          "text": "-0.18",
          "x": "Deaths",
          "y": "Google Trends"
         },
         {
          "font": {
           "color": "black"
          },
          "showarrow": false,
          "text": "0.46",
          "x": "Stringency",
          "y": "Google Trends"
         },
         {
          "font": {
           "color": "black"
          },
          "showarrow": false,
          "text": "-0.37",
          "x": "Mobility",
          "y": "Google Trends"
         },
         {
          "font": {
           "color": "black"
          },
          "showarrow": false,
          "text": "1.0",
          "x": "Google Trends",
          "y": "Google Trends"
         }
        ],
        "coloraxis": {
         "colorscale": [
          [
           0,
           "rgb(247,251,255)"
          ],
          [
           0.125,
           "rgb(222,235,247)"
          ],
          [
           0.25,
           "rgb(198,219,239)"
          ],
          [
           0.375,
           "rgb(158,202,225)"
          ],
          [
           0.5,
           "rgb(107,174,214)"
          ],
          [
           0.625,
           "rgb(66,146,198)"
          ],
          [
           0.75,
           "rgb(33,113,181)"
          ],
          [
           0.875,
           "rgb(8,81,156)"
          ],
          [
           1,
           "rgb(8,48,107)"
          ]
         ]
        },
        "height": 650,
        "template": {
         "data": {
          "bar": [
           {
            "error_x": {
             "color": "#2a3f5f"
            },
            "error_y": {
             "color": "#2a3f5f"
            },
            "marker": {
             "line": {
              "color": "#E5ECF6",
              "width": 0.5
             },
             "pattern": {
              "fillmode": "overlay",
              "size": 10,
              "solidity": 0.2
             }
            },
            "type": "bar"
           }
          ],
          "barpolar": [
           {
            "marker": {
             "line": {
              "color": "#E5ECF6",
              "width": 0.5
             },
             "pattern": {
              "fillmode": "overlay",
              "size": 10,
              "solidity": 0.2
             }
            },
            "type": "barpolar"
           }
          ],
          "carpet": [
           {
            "aaxis": {
             "endlinecolor": "#2a3f5f",
             "gridcolor": "white",
             "linecolor": "white",
             "minorgridcolor": "white",
             "startlinecolor": "#2a3f5f"
            },
            "baxis": {
             "endlinecolor": "#2a3f5f",
             "gridcolor": "white",
             "linecolor": "white",
             "minorgridcolor": "white",
             "startlinecolor": "#2a3f5f"
            },
            "type": "carpet"
           }
          ],
          "choropleth": [
           {
            "colorbar": {
             "outlinewidth": 0,
             "ticks": ""
            },
            "type": "choropleth"
           }
          ],
          "contour": [
           {
            "colorbar": {
             "outlinewidth": 0,
             "ticks": ""
            },
            "colorscale": [
             [
              0,
              "#0d0887"
             ],
             [
              0.1111111111111111,
              "#46039f"
             ],
             [
              0.2222222222222222,
              "#7201a8"
             ],
             [
              0.3333333333333333,
              "#9c179e"
             ],
             [
              0.4444444444444444,
              "#bd3786"
             ],
             [
              0.5555555555555556,
              "#d8576b"
             ],
             [
              0.6666666666666666,
              "#ed7953"
             ],
             [
              0.7777777777777778,
              "#fb9f3a"
             ],
             [
              0.8888888888888888,
              "#fdca26"
             ],
             [
              1,
              "#f0f921"
             ]
            ],
            "type": "contour"
           }
          ],
          "contourcarpet": [
           {
            "colorbar": {
             "outlinewidth": 0,
             "ticks": ""
            },
            "type": "contourcarpet"
           }
          ],
          "heatmap": [
           {
            "colorbar": {
             "outlinewidth": 0,
             "ticks": ""
            },
            "colorscale": [
             [
              0,
              "#0d0887"
             ],
             [
              0.1111111111111111,
              "#46039f"
             ],
             [
              0.2222222222222222,
              "#7201a8"
             ],
             [
              0.3333333333333333,
              "#9c179e"
             ],
             [
              0.4444444444444444,
              "#bd3786"
             ],
             [
              0.5555555555555556,
              "#d8576b"
             ],
             [
              0.6666666666666666,
              "#ed7953"
             ],
             [
              0.7777777777777778,
              "#fb9f3a"
             ],
             [
              0.8888888888888888,
              "#fdca26"
             ],
             [
              1,
              "#f0f921"
             ]
            ],
            "type": "heatmap"
           }
          ],
          "heatmapgl": [
           {
            "colorbar": {
             "outlinewidth": 0,
             "ticks": ""
            },
            "colorscale": [
             [
              0,
              "#0d0887"
             ],
             [
              0.1111111111111111,
              "#46039f"
             ],
             [
              0.2222222222222222,
              "#7201a8"
             ],
             [
              0.3333333333333333,
              "#9c179e"
             ],
             [
              0.4444444444444444,
              "#bd3786"
             ],
             [
              0.5555555555555556,
              "#d8576b"
             ],
             [
              0.6666666666666666,
              "#ed7953"
             ],
             [
              0.7777777777777778,
              "#fb9f3a"
             ],
             [
              0.8888888888888888,
              "#fdca26"
             ],
             [
              1,
              "#f0f921"
             ]
            ],
            "type": "heatmapgl"
           }
          ],
          "histogram": [
           {
            "marker": {
             "pattern": {
              "fillmode": "overlay",
              "size": 10,
              "solidity": 0.2
             }
            },
            "type": "histogram"
           }
          ],
          "histogram2d": [
           {
            "colorbar": {
             "outlinewidth": 0,
             "ticks": ""
            },
            "colorscale": [
             [
              0,
              "#0d0887"
             ],
             [
              0.1111111111111111,
              "#46039f"
             ],
             [
              0.2222222222222222,
              "#7201a8"
             ],
             [
              0.3333333333333333,
              "#9c179e"
             ],
             [
              0.4444444444444444,
              "#bd3786"
             ],
             [
              0.5555555555555556,
              "#d8576b"
             ],
             [
              0.6666666666666666,
              "#ed7953"
             ],
             [
              0.7777777777777778,
              "#fb9f3a"
             ],
             [
              0.8888888888888888,
              "#fdca26"
             ],
             [
              1,
              "#f0f921"
             ]
            ],
            "type": "histogram2d"
           }
          ],
          "histogram2dcontour": [
           {
            "colorbar": {
             "outlinewidth": 0,
             "ticks": ""
            },
            "colorscale": [
             [
              0,
              "#0d0887"
             ],
             [
              0.1111111111111111,
              "#46039f"
             ],
             [
              0.2222222222222222,
              "#7201a8"
             ],
             [
              0.3333333333333333,
              "#9c179e"
             ],
             [
              0.4444444444444444,
              "#bd3786"
             ],
             [
              0.5555555555555556,
              "#d8576b"
             ],
             [
              0.6666666666666666,
              "#ed7953"
             ],
             [
              0.7777777777777778,
              "#fb9f3a"
             ],
             [
              0.8888888888888888,
              "#fdca26"
             ],
             [
              1,
              "#f0f921"
             ]
            ],
            "type": "histogram2dcontour"
           }
          ],
          "mesh3d": [
           {
            "colorbar": {
             "outlinewidth": 0,
             "ticks": ""
            },
            "type": "mesh3d"
           }
          ],
          "parcoords": [
           {
            "line": {
             "colorbar": {
              "outlinewidth": 0,
              "ticks": ""
             }
            },
            "type": "parcoords"
           }
          ],
          "pie": [
           {
            "automargin": true,
            "type": "pie"
           }
          ],
          "scatter": [
           {
            "fillpattern": {
             "fillmode": "overlay",
             "size": 10,
             "solidity": 0.2
            },
            "type": "scatter"
           }
          ],
          "scatter3d": [
           {
            "line": {
             "colorbar": {
              "outlinewidth": 0,
              "ticks": ""
             }
            },
            "marker": {
             "colorbar": {
              "outlinewidth": 0,
              "ticks": ""
             }
            },
            "type": "scatter3d"
           }
          ],
          "scattercarpet": [
           {
            "marker": {
             "colorbar": {
              "outlinewidth": 0,
              "ticks": ""
             }
            },
            "type": "scattercarpet"
           }
          ],
          "scattergeo": [
           {
            "marker": {
             "colorbar": {
              "outlinewidth": 0,
              "ticks": ""
             }
            },
            "type": "scattergeo"
           }
          ],
          "scattergl": [
           {
            "marker": {
             "colorbar": {
              "outlinewidth": 0,
              "ticks": ""
             }
            },
            "type": "scattergl"
           }
          ],
          "scattermapbox": [
           {
            "marker": {
             "colorbar": {
              "outlinewidth": 0,
              "ticks": ""
             }
            },
            "type": "scattermapbox"
           }
          ],
          "scatterpolar": [
           {
            "marker": {
             "colorbar": {
              "outlinewidth": 0,
              "ticks": ""
             }
            },
            "type": "scatterpolar"
           }
          ],
          "scatterpolargl": [
           {
            "marker": {
             "colorbar": {
              "outlinewidth": 0,
              "ticks": ""
             }
            },
            "type": "scatterpolargl"
           }
          ],
          "scatterternary": [
           {
            "marker": {
             "colorbar": {
              "outlinewidth": 0,
              "ticks": ""
             }
            },
            "type": "scatterternary"
           }
          ],
          "surface": [
           {
            "colorbar": {
             "outlinewidth": 0,
             "ticks": ""
            },
            "colorscale": [
             [
              0,
              "#0d0887"
             ],
             [
              0.1111111111111111,
              "#46039f"
             ],
             [
              0.2222222222222222,
              "#7201a8"
             ],
             [
              0.3333333333333333,
              "#9c179e"
             ],
             [
              0.4444444444444444,
              "#bd3786"
             ],
             [
              0.5555555555555556,
              "#d8576b"
             ],
             [
              0.6666666666666666,
              "#ed7953"
             ],
             [
              0.7777777777777778,
              "#fb9f3a"
             ],
             [
              0.8888888888888888,
              "#fdca26"
             ],
             [
              1,
              "#f0f921"
             ]
            ],
            "type": "surface"
           }
          ],
          "table": [
           {
            "cells": {
             "fill": {
              "color": "#EBF0F8"
             },
             "line": {
              "color": "white"
             }
            },
            "header": {
             "fill": {
              "color": "#C8D4E3"
             },
             "line": {
              "color": "white"
             }
            },
            "type": "table"
           }
          ]
         },
         "layout": {
          "annotationdefaults": {
           "arrowcolor": "#2a3f5f",
           "arrowhead": 0,
           "arrowwidth": 1
          },
          "autotypenumbers": "strict",
          "coloraxis": {
           "colorbar": {
            "outlinewidth": 0,
            "ticks": ""
           }
          },
          "colorscale": {
           "diverging": [
            [
             0,
             "#8e0152"
            ],
            [
             0.1,
             "#c51b7d"
            ],
            [
             0.2,
             "#de77ae"
            ],
            [
             0.3,
             "#f1b6da"
            ],
            [
             0.4,
             "#fde0ef"
            ],
            [
             0.5,
             "#f7f7f7"
            ],
            [
             0.6,
             "#e6f5d0"
            ],
            [
             0.7,
             "#b8e186"
            ],
            [
             0.8,
             "#7fbc41"
            ],
            [
             0.9,
             "#4d9221"
            ],
            [
             1,
             "#276419"
            ]
           ],
           "sequential": [
            [
             0,
             "#0d0887"
            ],
            [
             0.1111111111111111,
             "#46039f"
            ],
            [
             0.2222222222222222,
             "#7201a8"
            ],
            [
             0.3333333333333333,
             "#9c179e"
            ],
            [
             0.4444444444444444,
             "#bd3786"
            ],
            [
             0.5555555555555556,
             "#d8576b"
            ],
            [
             0.6666666666666666,
             "#ed7953"
            ],
            [
             0.7777777777777778,
             "#fb9f3a"
            ],
            [
             0.8888888888888888,
             "#fdca26"
            ],
            [
             1,
             "#f0f921"
            ]
           ],
           "sequentialminus": [
            [
             0,
             "#0d0887"
            ],
            [
             0.1111111111111111,
             "#46039f"
            ],
            [
             0.2222222222222222,
             "#7201a8"
            ],
            [
             0.3333333333333333,
             "#9c179e"
            ],
            [
             0.4444444444444444,
             "#bd3786"
            ],
            [
             0.5555555555555556,
             "#d8576b"
            ],
            [
             0.6666666666666666,
             "#ed7953"
            ],
            [
             0.7777777777777778,
             "#fb9f3a"
            ],
            [
             0.8888888888888888,
             "#fdca26"
            ],
            [
             1,
             "#f0f921"
            ]
           ]
          },
          "colorway": [
           "#636efa",
           "#EF553B",
           "#00cc96",
           "#ab63fa",
           "#FFA15A",
           "#19d3f3",
           "#FF6692",
           "#B6E880",
           "#FF97FF",
           "#FECB52"
          ],
          "font": {
           "color": "#2a3f5f"
          },
          "geo": {
           "bgcolor": "white",
           "lakecolor": "white",
           "landcolor": "#E5ECF6",
           "showlakes": true,
           "showland": true,
           "subunitcolor": "white"
          },
          "hoverlabel": {
           "align": "left"
          },
          "hovermode": "closest",
          "mapbox": {
           "style": "light"
          },
          "paper_bgcolor": "white",
          "plot_bgcolor": "#E5ECF6",
          "polar": {
           "angularaxis": {
            "gridcolor": "white",
            "linecolor": "white",
            "ticks": ""
           },
           "bgcolor": "#E5ECF6",
           "radialaxis": {
            "gridcolor": "white",
            "linecolor": "white",
            "ticks": ""
           }
          },
          "scene": {
           "xaxis": {
            "backgroundcolor": "#E5ECF6",
            "gridcolor": "white",
            "gridwidth": 2,
            "linecolor": "white",
            "showbackground": true,
            "ticks": "",
            "zerolinecolor": "white"
           },
           "yaxis": {
            "backgroundcolor": "#E5ECF6",
            "gridcolor": "white",
            "gridwidth": 2,
            "linecolor": "white",
            "showbackground": true,
            "ticks": "",
            "zerolinecolor": "white"
           },
           "zaxis": {
            "backgroundcolor": "#E5ECF6",
            "gridcolor": "white",
            "gridwidth": 2,
            "linecolor": "white",
            "showbackground": true,
            "ticks": "",
            "zerolinecolor": "white"
           }
          },
          "shapedefaults": {
           "line": {
            "color": "#2a3f5f"
           }
          },
          "ternary": {
           "aaxis": {
            "gridcolor": "white",
            "linecolor": "white",
            "ticks": ""
           },
           "baxis": {
            "gridcolor": "white",
            "linecolor": "white",
            "ticks": ""
           },
           "bgcolor": "#E5ECF6",
           "caxis": {
            "gridcolor": "white",
            "linecolor": "white",
            "ticks": ""
           }
          },
          "title": {
           "x": 0.05
          },
          "xaxis": {
           "automargin": true,
           "gridcolor": "white",
           "linecolor": "white",
           "ticks": "",
           "title": {
            "standoff": 15
           },
           "zerolinecolor": "white",
           "zerolinewidth": 2
          },
          "yaxis": {
           "automargin": true,
           "gridcolor": "white",
           "linecolor": "white",
           "ticks": "",
           "title": {
            "standoff": 15
           },
           "zerolinecolor": "white",
           "zerolinewidth": 2
          }
         }
        },
        "title": {
         "text": "Матрица корреляции для компании Zoom Video Communications"
        },
        "width": 650,
        "xaxis": {
         "anchor": "y",
         "constrain": "domain",
         "domain": [
          0,
          1
         ],
         "scaleanchor": "y"
        },
        "yaxis": {
         "anchor": "x",
         "autorange": "reversed",
         "constrain": "domain",
         "domain": [
          0,
          1
         ]
        }
       }
      },
      "text/html": [
       "<div>                            <div id=\"bfeb401d-46e5-4053-b11b-a4cfc1d1366c\" class=\"plotly-graph-div\" style=\"height:650px; width:650px;\"></div>            <script type=\"text/javascript\">                require([\"plotly\"], function(Plotly) {                    window.PLOTLYENV=window.PLOTLYENV || {};                                    if (document.getElementById(\"bfeb401d-46e5-4053-b11b-a4cfc1d1366c\")) {                    Plotly.newPlot(                        \"bfeb401d-46e5-4053-b11b-a4cfc1d1366c\",                        [{\"coloraxis\":\"coloraxis\",\"name\":\"0\",\"x\":[\"Zoom\",\"Volume\",\"Volatility\",\"GVolatility\",\"Illiquidity\",\"S&P 500\",\"Cases\",\"Deaths\",\"Stringency\",\"Mobility\",\"Google Trends\"],\"y\":[\"Zoom\",\"Volume\",\"Volatility\",\"GVolatility\",\"Illiquidity\",\"S&P 500\",\"Cases\",\"Deaths\",\"Stringency\",\"Mobility\",\"Google Trends\"],\"z\":[[1.0,-0.011025742059999996,-0.2939389715476043,-0.11867612123177311,-0.18061955874639057,-0.03202846697775426,0.1772546090225121,0.28057180392097764,0.6231539590794047,-0.18723501337076195,0.12259263640113512],[-0.011025742059999996,1.0,0.5650051685594356,0.255365213714668,-0.15022164638112556,-0.5550247933449598,-0.29719934526916364,-0.18291773143702278,0.1312455260438875,-0.2194712624074562,0.527579754100239],[-0.2939389715476043,0.5650051685594356,1.0,0.295548827004593,0.16920335010253407,-0.3686193209938313,-0.2574350803737202,-0.26054211368928054,-0.18648704523402262,-0.1810359144750342,0.23515291389466253],[-0.11867612123177311,0.255365213714668,0.295548827004593,1.0,-0.04760341019388428,-0.19925550276927403,-0.11263937722801508,-0.10383679668346123,-0.07486171952970011,-0.09356177946593382,0.1253708710253243],[-0.18061955874639057,-0.15022164638112556,0.16920335010253407,-0.04760341019388428,1.0,0.23967337327520735,0.10648342824446937,0.027742020184569914,-0.1809381159552626,0.05387349495279322,-0.28626379884940995],[-0.03202846697775426,-0.5550247933449598,-0.3686193209938313,-0.19925550276927403,0.23967337327520735,1.0,0.4536981257020058,0.2805648518537491,-0.2852813453062543,0.26345357989826174,-0.8575985884201672],[0.1772546090225121,-0.29719934526916364,-0.2574350803737202,-0.11263937722801508,0.10648342824446937,0.4536981257020058,1.0,0.8896806383212998,0.4144950360722437,-0.30342105769335914,-0.44005945767066584],[0.28057180392097764,-0.18291773143702278,-0.26054211368928054,-0.10383679668346123,0.027742020184569914,0.2805648518537491,0.8896806383212998,1.0,0.6454767442274261,-0.4772199572607414,-0.17780168585893594],[0.6231539590794047,0.1312455260438875,-0.18648704523402262,-0.07486171952970011,-0.1809381159552626,-0.2852813453062543,0.4144950360722437,0.6454767442274261,1.0,-0.5316749249007786,0.46243428180523594],[-0.18723501337076195,-0.2194712624074562,-0.1810359144750342,-0.09356177946593382,0.05387349495279322,0.26345357989826174,-0.30342105769335914,-0.4772199572607414,-0.5316749249007786,1.0,-0.36930417101956514],[0.12259263640113512,0.527579754100239,0.23515291389466253,0.1253708710253243,-0.28626379884940995,-0.8575985884201672,-0.44005945767066584,-0.17780168585893594,0.46243428180523594,-0.36930417101956514,1.0]],\"type\":\"heatmap\",\"xaxis\":\"x\",\"yaxis\":\"y\",\"hovertemplate\":\"x: %{x}\\u003cbr\\u003ey: %{y}\\u003cbr\\u003ecolor: %{z}\\u003cextra\\u003e\\u003c\\u002fextra\\u003e\"}],                        {\"template\":{\"data\":{\"histogram2dcontour\":[{\"type\":\"histogram2dcontour\",\"colorbar\":{\"outlinewidth\":0,\"ticks\":\"\"},\"colorscale\":[[0.0,\"#0d0887\"],[0.1111111111111111,\"#46039f\"],[0.2222222222222222,\"#7201a8\"],[0.3333333333333333,\"#9c179e\"],[0.4444444444444444,\"#bd3786\"],[0.5555555555555556,\"#d8576b\"],[0.6666666666666666,\"#ed7953\"],[0.7777777777777778,\"#fb9f3a\"],[0.8888888888888888,\"#fdca26\"],[1.0,\"#f0f921\"]]}],\"choropleth\":[{\"type\":\"choropleth\",\"colorbar\":{\"outlinewidth\":0,\"ticks\":\"\"}}],\"histogram2d\":[{\"type\":\"histogram2d\",\"colorbar\":{\"outlinewidth\":0,\"ticks\":\"\"},\"colorscale\":[[0.0,\"#0d0887\"],[0.1111111111111111,\"#46039f\"],[0.2222222222222222,\"#7201a8\"],[0.3333333333333333,\"#9c179e\"],[0.4444444444444444,\"#bd3786\"],[0.5555555555555556,\"#d8576b\"],[0.6666666666666666,\"#ed7953\"],[0.7777777777777778,\"#fb9f3a\"],[0.8888888888888888,\"#fdca26\"],[1.0,\"#f0f921\"]]}],\"heatmap\":[{\"type\":\"heatmap\",\"colorbar\":{\"outlinewidth\":0,\"ticks\":\"\"},\"colorscale\":[[0.0,\"#0d0887\"],[0.1111111111111111,\"#46039f\"],[0.2222222222222222,\"#7201a8\"],[0.3333333333333333,\"#9c179e\"],[0.4444444444444444,\"#bd3786\"],[0.5555555555555556,\"#d8576b\"],[0.6666666666666666,\"#ed7953\"],[0.7777777777777778,\"#fb9f3a\"],[0.8888888888888888,\"#fdca26\"],[1.0,\"#f0f921\"]]}],\"heatmapgl\":[{\"type\":\"heatmapgl\",\"colorbar\":{\"outlinewidth\":0,\"ticks\":\"\"},\"colorscale\":[[0.0,\"#0d0887\"],[0.1111111111111111,\"#46039f\"],[0.2222222222222222,\"#7201a8\"],[0.3333333333333333,\"#9c179e\"],[0.4444444444444444,\"#bd3786\"],[0.5555555555555556,\"#d8576b\"],[0.6666666666666666,\"#ed7953\"],[0.7777777777777778,\"#fb9f3a\"],[0.8888888888888888,\"#fdca26\"],[1.0,\"#f0f921\"]]}],\"contourcarpet\":[{\"type\":\"contourcarpet\",\"colorbar\":{\"outlinewidth\":0,\"ticks\":\"\"}}],\"contour\":[{\"type\":\"contour\",\"colorbar\":{\"outlinewidth\":0,\"ticks\":\"\"},\"colorscale\":[[0.0,\"#0d0887\"],[0.1111111111111111,\"#46039f\"],[0.2222222222222222,\"#7201a8\"],[0.3333333333333333,\"#9c179e\"],[0.4444444444444444,\"#bd3786\"],[0.5555555555555556,\"#d8576b\"],[0.6666666666666666,\"#ed7953\"],[0.7777777777777778,\"#fb9f3a\"],[0.8888888888888888,\"#fdca26\"],[1.0,\"#f0f921\"]]}],\"surface\":[{\"type\":\"surface\",\"colorbar\":{\"outlinewidth\":0,\"ticks\":\"\"},\"colorscale\":[[0.0,\"#0d0887\"],[0.1111111111111111,\"#46039f\"],[0.2222222222222222,\"#7201a8\"],[0.3333333333333333,\"#9c179e\"],[0.4444444444444444,\"#bd3786\"],[0.5555555555555556,\"#d8576b\"],[0.6666666666666666,\"#ed7953\"],[0.7777777777777778,\"#fb9f3a\"],[0.8888888888888888,\"#fdca26\"],[1.0,\"#f0f921\"]]}],\"mesh3d\":[{\"type\":\"mesh3d\",\"colorbar\":{\"outlinewidth\":0,\"ticks\":\"\"}}],\"scatter\":[{\"fillpattern\":{\"fillmode\":\"overlay\",\"size\":10,\"solidity\":0.2},\"type\":\"scatter\"}],\"parcoords\":[{\"type\":\"parcoords\",\"line\":{\"colorbar\":{\"outlinewidth\":0,\"ticks\":\"\"}}}],\"scatterpolargl\":[{\"type\":\"scatterpolargl\",\"marker\":{\"colorbar\":{\"outlinewidth\":0,\"ticks\":\"\"}}}],\"bar\":[{\"error_x\":{\"color\":\"#2a3f5f\"},\"error_y\":{\"color\":\"#2a3f5f\"},\"marker\":{\"line\":{\"color\":\"#E5ECF6\",\"width\":0.5},\"pattern\":{\"fillmode\":\"overlay\",\"size\":10,\"solidity\":0.2}},\"type\":\"bar\"}],\"scattergeo\":[{\"type\":\"scattergeo\",\"marker\":{\"colorbar\":{\"outlinewidth\":0,\"ticks\":\"\"}}}],\"scatterpolar\":[{\"type\":\"scatterpolar\",\"marker\":{\"colorbar\":{\"outlinewidth\":0,\"ticks\":\"\"}}}],\"histogram\":[{\"marker\":{\"pattern\":{\"fillmode\":\"overlay\",\"size\":10,\"solidity\":0.2}},\"type\":\"histogram\"}],\"scattergl\":[{\"type\":\"scattergl\",\"marker\":{\"colorbar\":{\"outlinewidth\":0,\"ticks\":\"\"}}}],\"scatter3d\":[{\"type\":\"scatter3d\",\"line\":{\"colorbar\":{\"outlinewidth\":0,\"ticks\":\"\"}},\"marker\":{\"colorbar\":{\"outlinewidth\":0,\"ticks\":\"\"}}}],\"scattermapbox\":[{\"type\":\"scattermapbox\",\"marker\":{\"colorbar\":{\"outlinewidth\":0,\"ticks\":\"\"}}}],\"scatterternary\":[{\"type\":\"scatterternary\",\"marker\":{\"colorbar\":{\"outlinewidth\":0,\"ticks\":\"\"}}}],\"scattercarpet\":[{\"type\":\"scattercarpet\",\"marker\":{\"colorbar\":{\"outlinewidth\":0,\"ticks\":\"\"}}}],\"carpet\":[{\"aaxis\":{\"endlinecolor\":\"#2a3f5f\",\"gridcolor\":\"white\",\"linecolor\":\"white\",\"minorgridcolor\":\"white\",\"startlinecolor\":\"#2a3f5f\"},\"baxis\":{\"endlinecolor\":\"#2a3f5f\",\"gridcolor\":\"white\",\"linecolor\":\"white\",\"minorgridcolor\":\"white\",\"startlinecolor\":\"#2a3f5f\"},\"type\":\"carpet\"}],\"table\":[{\"cells\":{\"fill\":{\"color\":\"#EBF0F8\"},\"line\":{\"color\":\"white\"}},\"header\":{\"fill\":{\"color\":\"#C8D4E3\"},\"line\":{\"color\":\"white\"}},\"type\":\"table\"}],\"barpolar\":[{\"marker\":{\"line\":{\"color\":\"#E5ECF6\",\"width\":0.5},\"pattern\":{\"fillmode\":\"overlay\",\"size\":10,\"solidity\":0.2}},\"type\":\"barpolar\"}],\"pie\":[{\"automargin\":true,\"type\":\"pie\"}]},\"layout\":{\"autotypenumbers\":\"strict\",\"colorway\":[\"#636efa\",\"#EF553B\",\"#00cc96\",\"#ab63fa\",\"#FFA15A\",\"#19d3f3\",\"#FF6692\",\"#B6E880\",\"#FF97FF\",\"#FECB52\"],\"font\":{\"color\":\"#2a3f5f\"},\"hovermode\":\"closest\",\"hoverlabel\":{\"align\":\"left\"},\"paper_bgcolor\":\"white\",\"plot_bgcolor\":\"#E5ECF6\",\"polar\":{\"bgcolor\":\"#E5ECF6\",\"angularaxis\":{\"gridcolor\":\"white\",\"linecolor\":\"white\",\"ticks\":\"\"},\"radialaxis\":{\"gridcolor\":\"white\",\"linecolor\":\"white\",\"ticks\":\"\"}},\"ternary\":{\"bgcolor\":\"#E5ECF6\",\"aaxis\":{\"gridcolor\":\"white\",\"linecolor\":\"white\",\"ticks\":\"\"},\"baxis\":{\"gridcolor\":\"white\",\"linecolor\":\"white\",\"ticks\":\"\"},\"caxis\":{\"gridcolor\":\"white\",\"linecolor\":\"white\",\"ticks\":\"\"}},\"coloraxis\":{\"colorbar\":{\"outlinewidth\":0,\"ticks\":\"\"}},\"colorscale\":{\"sequential\":[[0.0,\"#0d0887\"],[0.1111111111111111,\"#46039f\"],[0.2222222222222222,\"#7201a8\"],[0.3333333333333333,\"#9c179e\"],[0.4444444444444444,\"#bd3786\"],[0.5555555555555556,\"#d8576b\"],[0.6666666666666666,\"#ed7953\"],[0.7777777777777778,\"#fb9f3a\"],[0.8888888888888888,\"#fdca26\"],[1.0,\"#f0f921\"]],\"sequentialminus\":[[0.0,\"#0d0887\"],[0.1111111111111111,\"#46039f\"],[0.2222222222222222,\"#7201a8\"],[0.3333333333333333,\"#9c179e\"],[0.4444444444444444,\"#bd3786\"],[0.5555555555555556,\"#d8576b\"],[0.6666666666666666,\"#ed7953\"],[0.7777777777777778,\"#fb9f3a\"],[0.8888888888888888,\"#fdca26\"],[1.0,\"#f0f921\"]],\"diverging\":[[0,\"#8e0152\"],[0.1,\"#c51b7d\"],[0.2,\"#de77ae\"],[0.3,\"#f1b6da\"],[0.4,\"#fde0ef\"],[0.5,\"#f7f7f7\"],[0.6,\"#e6f5d0\"],[0.7,\"#b8e186\"],[0.8,\"#7fbc41\"],[0.9,\"#4d9221\"],[1,\"#276419\"]]},\"xaxis\":{\"gridcolor\":\"white\",\"linecolor\":\"white\",\"ticks\":\"\",\"title\":{\"standoff\":15},\"zerolinecolor\":\"white\",\"automargin\":true,\"zerolinewidth\":2},\"yaxis\":{\"gridcolor\":\"white\",\"linecolor\":\"white\",\"ticks\":\"\",\"title\":{\"standoff\":15},\"zerolinecolor\":\"white\",\"automargin\":true,\"zerolinewidth\":2},\"scene\":{\"xaxis\":{\"backgroundcolor\":\"#E5ECF6\",\"gridcolor\":\"white\",\"linecolor\":\"white\",\"showbackground\":true,\"ticks\":\"\",\"zerolinecolor\":\"white\",\"gridwidth\":2},\"yaxis\":{\"backgroundcolor\":\"#E5ECF6\",\"gridcolor\":\"white\",\"linecolor\":\"white\",\"showbackground\":true,\"ticks\":\"\",\"zerolinecolor\":\"white\",\"gridwidth\":2},\"zaxis\":{\"backgroundcolor\":\"#E5ECF6\",\"gridcolor\":\"white\",\"linecolor\":\"white\",\"showbackground\":true,\"ticks\":\"\",\"zerolinecolor\":\"white\",\"gridwidth\":2}},\"shapedefaults\":{\"line\":{\"color\":\"#2a3f5f\"}},\"annotationdefaults\":{\"arrowcolor\":\"#2a3f5f\",\"arrowhead\":0,\"arrowwidth\":1},\"geo\":{\"bgcolor\":\"white\",\"landcolor\":\"#E5ECF6\",\"subunitcolor\":\"white\",\"showland\":true,\"showlakes\":true,\"lakecolor\":\"white\"},\"title\":{\"x\":0.05},\"mapbox\":{\"style\":\"light\"}}},\"xaxis\":{\"anchor\":\"y\",\"domain\":[0.0,1.0],\"scaleanchor\":\"y\",\"constrain\":\"domain\"},\"yaxis\":{\"anchor\":\"x\",\"domain\":[0.0,1.0],\"autorange\":\"reversed\",\"constrain\":\"domain\"},\"coloraxis\":{\"colorscale\":[[0.0,\"rgb(247,251,255)\"],[0.125,\"rgb(222,235,247)\"],[0.25,\"rgb(198,219,239)\"],[0.375,\"rgb(158,202,225)\"],[0.5,\"rgb(107,174,214)\"],[0.625,\"rgb(66,146,198)\"],[0.75,\"rgb(33,113,181)\"],[0.875,\"rgb(8,81,156)\"],[1.0,\"rgb(8,48,107)\"]]},\"title\":{\"text\":\"\\u041c\\u0430\\u0442\\u0440\\u0438\\u0446\\u0430 \\u043a\\u043e\\u0440\\u0440\\u0435\\u043b\\u044f\\u0446\\u0438\\u0438 \\u0434\\u043b\\u044f \\u043a\\u043e\\u043c\\u043f\\u0430\\u043d\\u0438\\u0438 Zoom Video Communications\"},\"width\":650,\"height\":650,\"annotations\":[{\"font\":{\"color\":\"black\"},\"showarrow\":false,\"text\":\"1.0\",\"x\":\"Zoom\",\"y\":\"Zoom\"},{\"font\":{\"color\":\"black\"},\"showarrow\":false,\"text\":\"-0.01\",\"x\":\"Volume\",\"y\":\"Zoom\"},{\"font\":{\"color\":\"black\"},\"showarrow\":false,\"text\":\"-0.29\",\"x\":\"Volatility\",\"y\":\"Zoom\"},{\"font\":{\"color\":\"black\"},\"showarrow\":false,\"text\":\"-0.12\",\"x\":\"GVolatility\",\"y\":\"Zoom\"},{\"font\":{\"color\":\"black\"},\"showarrow\":false,\"text\":\"-0.18\",\"x\":\"Illiquidity\",\"y\":\"Zoom\"},{\"font\":{\"color\":\"black\"},\"showarrow\":false,\"text\":\"-0.03\",\"x\":\"S&P 500\",\"y\":\"Zoom\"},{\"font\":{\"color\":\"black\"},\"showarrow\":false,\"text\":\"0.18\",\"x\":\"Cases\",\"y\":\"Zoom\"},{\"font\":{\"color\":\"black\"},\"showarrow\":false,\"text\":\"0.28\",\"x\":\"Deaths\",\"y\":\"Zoom\"},{\"font\":{\"color\":\"black\"},\"showarrow\":false,\"text\":\"0.62\",\"x\":\"Stringency\",\"y\":\"Zoom\"},{\"font\":{\"color\":\"black\"},\"showarrow\":false,\"text\":\"-0.19\",\"x\":\"Mobility\",\"y\":\"Zoom\"},{\"font\":{\"color\":\"black\"},\"showarrow\":false,\"text\":\"0.12\",\"x\":\"Google Trends\",\"y\":\"Zoom\"},{\"font\":{\"color\":\"black\"},\"showarrow\":false,\"text\":\"-0.01\",\"x\":\"Zoom\",\"y\":\"Volume\"},{\"font\":{\"color\":\"black\"},\"showarrow\":false,\"text\":\"1.0\",\"x\":\"Volume\",\"y\":\"Volume\"},{\"font\":{\"color\":\"black\"},\"showarrow\":false,\"text\":\"0.57\",\"x\":\"Volatility\",\"y\":\"Volume\"},{\"font\":{\"color\":\"black\"},\"showarrow\":false,\"text\":\"0.26\",\"x\":\"GVolatility\",\"y\":\"Volume\"},{\"font\":{\"color\":\"black\"},\"showarrow\":false,\"text\":\"-0.15\",\"x\":\"Illiquidity\",\"y\":\"Volume\"},{\"font\":{\"color\":\"black\"},\"showarrow\":false,\"text\":\"-0.56\",\"x\":\"S&P 500\",\"y\":\"Volume\"},{\"font\":{\"color\":\"black\"},\"showarrow\":false,\"text\":\"-0.3\",\"x\":\"Cases\",\"y\":\"Volume\"},{\"font\":{\"color\":\"black\"},\"showarrow\":false,\"text\":\"-0.18\",\"x\":\"Deaths\",\"y\":\"Volume\"},{\"font\":{\"color\":\"black\"},\"showarrow\":false,\"text\":\"0.13\",\"x\":\"Stringency\",\"y\":\"Volume\"},{\"font\":{\"color\":\"black\"},\"showarrow\":false,\"text\":\"-0.22\",\"x\":\"Mobility\",\"y\":\"Volume\"},{\"font\":{\"color\":\"black\"},\"showarrow\":false,\"text\":\"0.53\",\"x\":\"Google Trends\",\"y\":\"Volume\"},{\"font\":{\"color\":\"black\"},\"showarrow\":false,\"text\":\"-0.29\",\"x\":\"Zoom\",\"y\":\"Volatility\"},{\"font\":{\"color\":\"black\"},\"showarrow\":false,\"text\":\"0.57\",\"x\":\"Volume\",\"y\":\"Volatility\"},{\"font\":{\"color\":\"black\"},\"showarrow\":false,\"text\":\"1.0\",\"x\":\"Volatility\",\"y\":\"Volatility\"},{\"font\":{\"color\":\"black\"},\"showarrow\":false,\"text\":\"0.3\",\"x\":\"GVolatility\",\"y\":\"Volatility\"},{\"font\":{\"color\":\"black\"},\"showarrow\":false,\"text\":\"0.17\",\"x\":\"Illiquidity\",\"y\":\"Volatility\"},{\"font\":{\"color\":\"black\"},\"showarrow\":false,\"text\":\"-0.37\",\"x\":\"S&P 500\",\"y\":\"Volatility\"},{\"font\":{\"color\":\"black\"},\"showarrow\":false,\"text\":\"-0.26\",\"x\":\"Cases\",\"y\":\"Volatility\"},{\"font\":{\"color\":\"black\"},\"showarrow\":false,\"text\":\"-0.26\",\"x\":\"Deaths\",\"y\":\"Volatility\"},{\"font\":{\"color\":\"black\"},\"showarrow\":false,\"text\":\"-0.19\",\"x\":\"Stringency\",\"y\":\"Volatility\"},{\"font\":{\"color\":\"black\"},\"showarrow\":false,\"text\":\"-0.18\",\"x\":\"Mobility\",\"y\":\"Volatility\"},{\"font\":{\"color\":\"black\"},\"showarrow\":false,\"text\":\"0.24\",\"x\":\"Google Trends\",\"y\":\"Volatility\"},{\"font\":{\"color\":\"black\"},\"showarrow\":false,\"text\":\"-0.12\",\"x\":\"Zoom\",\"y\":\"GVolatility\"},{\"font\":{\"color\":\"black\"},\"showarrow\":false,\"text\":\"0.26\",\"x\":\"Volume\",\"y\":\"GVolatility\"},{\"font\":{\"color\":\"black\"},\"showarrow\":false,\"text\":\"0.3\",\"x\":\"Volatility\",\"y\":\"GVolatility\"},{\"font\":{\"color\":\"black\"},\"showarrow\":false,\"text\":\"1.0\",\"x\":\"GVolatility\",\"y\":\"GVolatility\"},{\"font\":{\"color\":\"black\"},\"showarrow\":false,\"text\":\"-0.05\",\"x\":\"Illiquidity\",\"y\":\"GVolatility\"},{\"font\":{\"color\":\"black\"},\"showarrow\":false,\"text\":\"-0.2\",\"x\":\"S&P 500\",\"y\":\"GVolatility\"},{\"font\":{\"color\":\"black\"},\"showarrow\":false,\"text\":\"-0.11\",\"x\":\"Cases\",\"y\":\"GVolatility\"},{\"font\":{\"color\":\"black\"},\"showarrow\":false,\"text\":\"-0.1\",\"x\":\"Deaths\",\"y\":\"GVolatility\"},{\"font\":{\"color\":\"black\"},\"showarrow\":false,\"text\":\"-0.07\",\"x\":\"Stringency\",\"y\":\"GVolatility\"},{\"font\":{\"color\":\"black\"},\"showarrow\":false,\"text\":\"-0.09\",\"x\":\"Mobility\",\"y\":\"GVolatility\"},{\"font\":{\"color\":\"black\"},\"showarrow\":false,\"text\":\"0.13\",\"x\":\"Google Trends\",\"y\":\"GVolatility\"},{\"font\":{\"color\":\"black\"},\"showarrow\":false,\"text\":\"-0.18\",\"x\":\"Zoom\",\"y\":\"Illiquidity\"},{\"font\":{\"color\":\"black\"},\"showarrow\":false,\"text\":\"-0.15\",\"x\":\"Volume\",\"y\":\"Illiquidity\"},{\"font\":{\"color\":\"black\"},\"showarrow\":false,\"text\":\"0.17\",\"x\":\"Volatility\",\"y\":\"Illiquidity\"},{\"font\":{\"color\":\"black\"},\"showarrow\":false,\"text\":\"-0.05\",\"x\":\"GVolatility\",\"y\":\"Illiquidity\"},{\"font\":{\"color\":\"black\"},\"showarrow\":false,\"text\":\"1.0\",\"x\":\"Illiquidity\",\"y\":\"Illiquidity\"},{\"font\":{\"color\":\"black\"},\"showarrow\":false,\"text\":\"0.24\",\"x\":\"S&P 500\",\"y\":\"Illiquidity\"},{\"font\":{\"color\":\"black\"},\"showarrow\":false,\"text\":\"0.11\",\"x\":\"Cases\",\"y\":\"Illiquidity\"},{\"font\":{\"color\":\"black\"},\"showarrow\":false,\"text\":\"0.03\",\"x\":\"Deaths\",\"y\":\"Illiquidity\"},{\"font\":{\"color\":\"black\"},\"showarrow\":false,\"text\":\"-0.18\",\"x\":\"Stringency\",\"y\":\"Illiquidity\"},{\"font\":{\"color\":\"black\"},\"showarrow\":false,\"text\":\"0.05\",\"x\":\"Mobility\",\"y\":\"Illiquidity\"},{\"font\":{\"color\":\"black\"},\"showarrow\":false,\"text\":\"-0.29\",\"x\":\"Google Trends\",\"y\":\"Illiquidity\"},{\"font\":{\"color\":\"black\"},\"showarrow\":false,\"text\":\"-0.03\",\"x\":\"Zoom\",\"y\":\"S&P 500\"},{\"font\":{\"color\":\"black\"},\"showarrow\":false,\"text\":\"-0.56\",\"x\":\"Volume\",\"y\":\"S&P 500\"},{\"font\":{\"color\":\"black\"},\"showarrow\":false,\"text\":\"-0.37\",\"x\":\"Volatility\",\"y\":\"S&P 500\"},{\"font\":{\"color\":\"black\"},\"showarrow\":false,\"text\":\"-0.2\",\"x\":\"GVolatility\",\"y\":\"S&P 500\"},{\"font\":{\"color\":\"black\"},\"showarrow\":false,\"text\":\"0.24\",\"x\":\"Illiquidity\",\"y\":\"S&P 500\"},{\"font\":{\"color\":\"black\"},\"showarrow\":false,\"text\":\"1.0\",\"x\":\"S&P 500\",\"y\":\"S&P 500\"},{\"font\":{\"color\":\"black\"},\"showarrow\":false,\"text\":\"0.45\",\"x\":\"Cases\",\"y\":\"S&P 500\"},{\"font\":{\"color\":\"black\"},\"showarrow\":false,\"text\":\"0.28\",\"x\":\"Deaths\",\"y\":\"S&P 500\"},{\"font\":{\"color\":\"black\"},\"showarrow\":false,\"text\":\"-0.29\",\"x\":\"Stringency\",\"y\":\"S&P 500\"},{\"font\":{\"color\":\"black\"},\"showarrow\":false,\"text\":\"0.26\",\"x\":\"Mobility\",\"y\":\"S&P 500\"},{\"font\":{\"color\":\"black\"},\"showarrow\":false,\"text\":\"-0.86\",\"x\":\"Google Trends\",\"y\":\"S&P 500\"},{\"font\":{\"color\":\"black\"},\"showarrow\":false,\"text\":\"0.18\",\"x\":\"Zoom\",\"y\":\"Cases\"},{\"font\":{\"color\":\"black\"},\"showarrow\":false,\"text\":\"-0.3\",\"x\":\"Volume\",\"y\":\"Cases\"},{\"font\":{\"color\":\"black\"},\"showarrow\":false,\"text\":\"-0.26\",\"x\":\"Volatility\",\"y\":\"Cases\"},{\"font\":{\"color\":\"black\"},\"showarrow\":false,\"text\":\"-0.11\",\"x\":\"GVolatility\",\"y\":\"Cases\"},{\"font\":{\"color\":\"black\"},\"showarrow\":false,\"text\":\"0.11\",\"x\":\"Illiquidity\",\"y\":\"Cases\"},{\"font\":{\"color\":\"black\"},\"showarrow\":false,\"text\":\"0.45\",\"x\":\"S&P 500\",\"y\":\"Cases\"},{\"font\":{\"color\":\"black\"},\"showarrow\":false,\"text\":\"1.0\",\"x\":\"Cases\",\"y\":\"Cases\"},{\"font\":{\"color\":\"black\"},\"showarrow\":false,\"text\":\"0.89\",\"x\":\"Deaths\",\"y\":\"Cases\"},{\"font\":{\"color\":\"black\"},\"showarrow\":false,\"text\":\"0.41\",\"x\":\"Stringency\",\"y\":\"Cases\"},{\"font\":{\"color\":\"black\"},\"showarrow\":false,\"text\":\"-0.3\",\"x\":\"Mobility\",\"y\":\"Cases\"},{\"font\":{\"color\":\"black\"},\"showarrow\":false,\"text\":\"-0.44\",\"x\":\"Google Trends\",\"y\":\"Cases\"},{\"font\":{\"color\":\"black\"},\"showarrow\":false,\"text\":\"0.28\",\"x\":\"Zoom\",\"y\":\"Deaths\"},{\"font\":{\"color\":\"black\"},\"showarrow\":false,\"text\":\"-0.18\",\"x\":\"Volume\",\"y\":\"Deaths\"},{\"font\":{\"color\":\"black\"},\"showarrow\":false,\"text\":\"-0.26\",\"x\":\"Volatility\",\"y\":\"Deaths\"},{\"font\":{\"color\":\"black\"},\"showarrow\":false,\"text\":\"-0.1\",\"x\":\"GVolatility\",\"y\":\"Deaths\"},{\"font\":{\"color\":\"black\"},\"showarrow\":false,\"text\":\"0.03\",\"x\":\"Illiquidity\",\"y\":\"Deaths\"},{\"font\":{\"color\":\"black\"},\"showarrow\":false,\"text\":\"0.28\",\"x\":\"S&P 500\",\"y\":\"Deaths\"},{\"font\":{\"color\":\"black\"},\"showarrow\":false,\"text\":\"0.89\",\"x\":\"Cases\",\"y\":\"Deaths\"},{\"font\":{\"color\":\"black\"},\"showarrow\":false,\"text\":\"1.0\",\"x\":\"Deaths\",\"y\":\"Deaths\"},{\"font\":{\"color\":\"black\"},\"showarrow\":false,\"text\":\"0.65\",\"x\":\"Stringency\",\"y\":\"Deaths\"},{\"font\":{\"color\":\"black\"},\"showarrow\":false,\"text\":\"-0.48\",\"x\":\"Mobility\",\"y\":\"Deaths\"},{\"font\":{\"color\":\"black\"},\"showarrow\":false,\"text\":\"-0.18\",\"x\":\"Google Trends\",\"y\":\"Deaths\"},{\"font\":{\"color\":\"black\"},\"showarrow\":false,\"text\":\"0.62\",\"x\":\"Zoom\",\"y\":\"Stringency\"},{\"font\":{\"color\":\"black\"},\"showarrow\":false,\"text\":\"0.13\",\"x\":\"Volume\",\"y\":\"Stringency\"},{\"font\":{\"color\":\"black\"},\"showarrow\":false,\"text\":\"-0.19\",\"x\":\"Volatility\",\"y\":\"Stringency\"},{\"font\":{\"color\":\"black\"},\"showarrow\":false,\"text\":\"-0.07\",\"x\":\"GVolatility\",\"y\":\"Stringency\"},{\"font\":{\"color\":\"black\"},\"showarrow\":false,\"text\":\"-0.18\",\"x\":\"Illiquidity\",\"y\":\"Stringency\"},{\"font\":{\"color\":\"black\"},\"showarrow\":false,\"text\":\"-0.29\",\"x\":\"S&P 500\",\"y\":\"Stringency\"},{\"font\":{\"color\":\"black\"},\"showarrow\":false,\"text\":\"0.41\",\"x\":\"Cases\",\"y\":\"Stringency\"},{\"font\":{\"color\":\"black\"},\"showarrow\":false,\"text\":\"0.65\",\"x\":\"Deaths\",\"y\":\"Stringency\"},{\"font\":{\"color\":\"black\"},\"showarrow\":false,\"text\":\"1.0\",\"x\":\"Stringency\",\"y\":\"Stringency\"},{\"font\":{\"color\":\"black\"},\"showarrow\":false,\"text\":\"-0.53\",\"x\":\"Mobility\",\"y\":\"Stringency\"},{\"font\":{\"color\":\"black\"},\"showarrow\":false,\"text\":\"0.46\",\"x\":\"Google Trends\",\"y\":\"Stringency\"},{\"font\":{\"color\":\"black\"},\"showarrow\":false,\"text\":\"-0.19\",\"x\":\"Zoom\",\"y\":\"Mobility\"},{\"font\":{\"color\":\"black\"},\"showarrow\":false,\"text\":\"-0.22\",\"x\":\"Volume\",\"y\":\"Mobility\"},{\"font\":{\"color\":\"black\"},\"showarrow\":false,\"text\":\"-0.18\",\"x\":\"Volatility\",\"y\":\"Mobility\"},{\"font\":{\"color\":\"black\"},\"showarrow\":false,\"text\":\"-0.09\",\"x\":\"GVolatility\",\"y\":\"Mobility\"},{\"font\":{\"color\":\"black\"},\"showarrow\":false,\"text\":\"0.05\",\"x\":\"Illiquidity\",\"y\":\"Mobility\"},{\"font\":{\"color\":\"black\"},\"showarrow\":false,\"text\":\"0.26\",\"x\":\"S&P 500\",\"y\":\"Mobility\"},{\"font\":{\"color\":\"black\"},\"showarrow\":false,\"text\":\"-0.3\",\"x\":\"Cases\",\"y\":\"Mobility\"},{\"font\":{\"color\":\"black\"},\"showarrow\":false,\"text\":\"-0.48\",\"x\":\"Deaths\",\"y\":\"Mobility\"},{\"font\":{\"color\":\"black\"},\"showarrow\":false,\"text\":\"-0.53\",\"x\":\"Stringency\",\"y\":\"Mobility\"},{\"font\":{\"color\":\"black\"},\"showarrow\":false,\"text\":\"1.0\",\"x\":\"Mobility\",\"y\":\"Mobility\"},{\"font\":{\"color\":\"black\"},\"showarrow\":false,\"text\":\"-0.37\",\"x\":\"Google Trends\",\"y\":\"Mobility\"},{\"font\":{\"color\":\"black\"},\"showarrow\":false,\"text\":\"0.12\",\"x\":\"Zoom\",\"y\":\"Google Trends\"},{\"font\":{\"color\":\"black\"},\"showarrow\":false,\"text\":\"0.53\",\"x\":\"Volume\",\"y\":\"Google Trends\"},{\"font\":{\"color\":\"black\"},\"showarrow\":false,\"text\":\"0.24\",\"x\":\"Volatility\",\"y\":\"Google Trends\"},{\"font\":{\"color\":\"black\"},\"showarrow\":false,\"text\":\"0.13\",\"x\":\"GVolatility\",\"y\":\"Google Trends\"},{\"font\":{\"color\":\"black\"},\"showarrow\":false,\"text\":\"-0.29\",\"x\":\"Illiquidity\",\"y\":\"Google Trends\"},{\"font\":{\"color\":\"black\"},\"showarrow\":false,\"text\":\"-0.86\",\"x\":\"S&P 500\",\"y\":\"Google Trends\"},{\"font\":{\"color\":\"black\"},\"showarrow\":false,\"text\":\"-0.44\",\"x\":\"Cases\",\"y\":\"Google Trends\"},{\"font\":{\"color\":\"black\"},\"showarrow\":false,\"text\":\"-0.18\",\"x\":\"Deaths\",\"y\":\"Google Trends\"},{\"font\":{\"color\":\"black\"},\"showarrow\":false,\"text\":\"0.46\",\"x\":\"Stringency\",\"y\":\"Google Trends\"},{\"font\":{\"color\":\"black\"},\"showarrow\":false,\"text\":\"-0.37\",\"x\":\"Mobility\",\"y\":\"Google Trends\"},{\"font\":{\"color\":\"black\"},\"showarrow\":false,\"text\":\"1.0\",\"x\":\"Google Trends\",\"y\":\"Google Trends\"}]},                        {\"responsive\": true}                    ).then(function(){\n",
       "                            \n",
       "var gd = document.getElementById('bfeb401d-46e5-4053-b11b-a4cfc1d1366c');\n",
       "var x = new MutationObserver(function (mutations, observer) {{\n",
       "        var display = window.getComputedStyle(gd).display;\n",
       "        if (!display || display === 'none') {{\n",
       "            console.log([gd, 'removed!']);\n",
       "            Plotly.purge(gd);\n",
       "            observer.disconnect();\n",
       "        }}\n",
       "}});\n",
       "\n",
       "// Listen for the removal of the full notebook cells\n",
       "var notebookContainer = gd.closest('#notebook-container');\n",
       "if (notebookContainer) {{\n",
       "    x.observe(notebookContainer, {childList: true});\n",
       "}}\n",
       "\n",
       "// Listen for the clearing of the current output cell\n",
       "var outputEl = gd.closest('.output');\n",
       "if (outputEl) {{\n",
       "    x.observe(outputEl, {childList: true});\n",
       "}}\n",
       "\n",
       "                        })                };                });            </script>        </div>"
      ]
     },
     "metadata": {},
     "output_type": "display_data"
    }
   ],
   "source": [
    "# Вычисление матрицы ковариации\n",
    "pic2 = data2.drop(\"constant\",axis=1)\n",
    "pic2.columns = x=['Zoom',\"Volume\",\"Volatility\",\"GVolatility\",\"Illiquidity\",\"S&P 500\",\"Cases\",\"Deaths\",\"Stringency\",\"Mobility\",\"Google Trends\"]\n",
    "cov_matrix = pic2.corr()\n",
    "\n",
    "# Построение тепловой карты с настроенной цветовой палитрой\n",
    "fig = px.imshow(cov_matrix, color_continuous_scale='Blues',title=\"Матрица корреляции для компании Zoom Video Communications\")\n",
    "fig.update_layout(width=650,height=650)\n",
    "for i in range(len(cov_matrix)):\n",
    "    for j in range(len(cov_matrix.columns)):\n",
    "        fig.add_annotation(text=str(cov_matrix.iloc[i, j].round(2)),\n",
    "                           x=cov_matrix.columns[j], y=cov_matrix.index[i],\n",
    "                           showarrow=False, font=dict(color='black'))\n",
    "fig.show()"
   ]
  },
  {
   "cell_type": "code",
   "execution_count": 305,
   "id": "365d8216",
   "metadata": {},
   "outputs": [
    {
     "data": {
      "text/html": [
       "<div>\n",
       "<style scoped>\n",
       "    .dataframe tbody tr th:only-of-type {\n",
       "        vertical-align: middle;\n",
       "    }\n",
       "\n",
       "    .dataframe tbody tr th {\n",
       "        vertical-align: top;\n",
       "    }\n",
       "\n",
       "    .dataframe thead th {\n",
       "        text-align: right;\n",
       "    }\n",
       "</style>\n",
       "<table border=\"1\" class=\"dataframe\">\n",
       "  <thead>\n",
       "    <tr style=\"text-align: right;\">\n",
       "      <th></th>\n",
       "      <th>date</th>\n",
       "      <th>sum</th>\n",
       "    </tr>\n",
       "  </thead>\n",
       "  <tbody>\n",
       "    <tr>\n",
       "      <th>3</th>\n",
       "      <td>2020-02-18</td>\n",
       "      <td>7.0</td>\n",
       "    </tr>\n",
       "    <tr>\n",
       "      <th>4</th>\n",
       "      <td>2020-02-19</td>\n",
       "      <td>12.0</td>\n",
       "    </tr>\n",
       "    <tr>\n",
       "      <th>5</th>\n",
       "      <td>2020-02-20</td>\n",
       "      <td>6.0</td>\n",
       "    </tr>\n",
       "    <tr>\n",
       "      <th>6</th>\n",
       "      <td>2020-02-21</td>\n",
       "      <td>5.0</td>\n",
       "    </tr>\n",
       "    <tr>\n",
       "      <th>9</th>\n",
       "      <td>2020-02-24</td>\n",
       "      <td>16.0</td>\n",
       "    </tr>\n",
       "    <tr>\n",
       "      <th>...</th>\n",
       "      <td>...</td>\n",
       "      <td>...</td>\n",
       "    </tr>\n",
       "    <tr>\n",
       "      <th>233</th>\n",
       "      <td>2022-08-22</td>\n",
       "      <td>-28.0</td>\n",
       "    </tr>\n",
       "    <tr>\n",
       "      <th>234</th>\n",
       "      <td>2022-08-23</td>\n",
       "      <td>-11.0</td>\n",
       "    </tr>\n",
       "    <tr>\n",
       "      <th>235</th>\n",
       "      <td>2022-08-24</td>\n",
       "      <td>-9.0</td>\n",
       "    </tr>\n",
       "    <tr>\n",
       "      <th>236</th>\n",
       "      <td>2022-08-25</td>\n",
       "      <td>-6.0</td>\n",
       "    </tr>\n",
       "    <tr>\n",
       "      <th>237</th>\n",
       "      <td>2022-08-26</td>\n",
       "      <td>-18.0</td>\n",
       "    </tr>\n",
       "  </tbody>\n",
       "</table>\n",
       "<p>638 rows × 2 columns</p>\n",
       "</div>"
      ],
      "text/plain": [
       "           date   sum\n",
       "3    2020-02-18   7.0\n",
       "4    2020-02-19  12.0\n",
       "5    2020-02-20   6.0\n",
       "6    2020-02-21   5.0\n",
       "9    2020-02-24  16.0\n",
       "..          ...   ...\n",
       "233  2022-08-22 -28.0\n",
       "234  2022-08-23 -11.0\n",
       "235  2022-08-24  -9.0\n",
       "236  2022-08-25  -6.0\n",
       "237  2022-08-26 -18.0\n",
       "\n",
       "[638 rows x 2 columns]"
      ]
     },
     "execution_count": 305,
     "metadata": {},
     "output_type": "execute_result"
    }
   ],
   "source": [
    "mobil"
   ]
  },
  {
   "cell_type": "code",
   "execution_count": 323,
   "id": "4a694ba2",
   "metadata": {},
   "outputs": [
    {
     "data": {
      "application/vnd.plotly.v1+json": {
       "config": {
        "plotlyServerURL": "https://plot.ly"
       },
       "data": [
        {
         "fillpattern": {
          "shape": ""
         },
         "hovertemplate": "date=%{x}<br>sum=%{y}<extra></extra>",
         "legendgroup": "",
         "line": {
          "color": "cyan",
          "width": 2
         },
         "marker": {
          "symbol": "circle"
         },
         "mode": "lines",
         "name": "",
         "orientation": "v",
         "showlegend": false,
         "stackgroup": "1",
         "type": "scatter",
         "x": [
          "2020-02-18",
          "2020-02-19",
          "2020-02-20",
          "2020-02-21",
          "2020-02-24",
          "2020-02-25",
          "2020-02-26",
          "2020-02-27",
          "2020-02-28",
          "2020-03-02",
          "2020-03-03",
          "2020-03-04",
          "2020-03-05",
          "2020-03-06",
          "2020-03-09",
          "2020-03-10",
          "2020-03-11",
          "2020-03-12",
          "2020-03-13",
          "2020-03-16",
          "2020-03-17",
          "2020-03-18",
          "2020-03-19",
          "2020-03-20",
          "2020-03-23",
          "2020-03-24",
          "2020-03-25",
          "2020-03-26",
          "2020-03-27",
          "2020-03-30",
          "2020-03-31",
          "2020-04-01",
          "2020-04-02",
          "2020-04-03",
          "2020-04-06",
          "2020-04-07",
          "2020-04-08",
          "2020-04-09",
          "2020-04-13",
          "2020-04-14",
          "2020-04-15",
          "2020-04-16",
          "2020-04-17",
          "2020-04-20",
          "2020-04-21",
          "2020-04-22",
          "2020-04-23",
          "2020-04-24",
          "2020-04-27",
          "2020-04-28",
          "2020-04-29",
          "2020-04-30",
          "2020-05-01",
          "2020-05-04",
          "2020-05-05",
          "2020-05-06",
          "2020-05-07",
          "2020-05-08",
          "2020-05-11",
          "2020-05-12",
          "2020-05-13",
          "2020-05-14",
          "2020-05-15",
          "2020-05-18",
          "2020-05-19",
          "2020-05-20",
          "2020-05-21",
          "2020-05-22",
          "2020-05-26",
          "2020-05-27",
          "2020-05-28",
          "2020-05-29",
          "2020-06-01",
          "2020-06-02",
          "2020-06-03",
          "2020-06-04",
          "2020-06-05",
          "2020-06-08",
          "2020-06-09",
          "2020-06-10",
          "2020-06-11",
          "2020-06-12",
          "2020-06-15",
          "2020-06-16",
          "2020-06-17",
          "2020-06-18",
          "2020-06-19",
          "2020-06-22",
          "2020-06-23",
          "2020-06-24",
          "2020-06-25",
          "2020-06-26",
          "2020-06-29",
          "2020-06-30",
          "2020-07-01",
          "2020-07-02",
          "2020-07-06",
          "2020-07-07",
          "2020-07-08",
          "2020-07-09",
          "2020-07-10",
          "2020-07-13",
          "2020-07-14",
          "2020-07-15",
          "2020-07-16",
          "2020-07-17",
          "2020-07-20",
          "2020-07-21",
          "2020-07-22",
          "2020-07-23",
          "2020-07-24",
          "2020-07-27",
          "2020-07-28",
          "2020-07-29",
          "2020-07-30",
          "2020-07-31",
          "2020-08-03",
          "2020-08-04",
          "2020-08-05",
          "2020-08-06",
          "2020-08-07",
          "2020-08-10",
          "2020-08-11",
          "2020-08-12",
          "2020-08-13",
          "2020-08-14",
          "2020-08-17",
          "2020-08-18",
          "2020-08-19",
          "2020-08-20",
          "2020-08-21",
          "2020-08-24",
          "2020-08-25",
          "2020-08-26",
          "2020-08-27",
          "2020-08-28",
          "2020-08-31",
          "2020-09-01",
          "2020-09-02",
          "2020-09-03",
          "2020-09-04",
          "2020-09-08",
          "2020-09-09",
          "2020-09-10",
          "2020-09-11",
          "2020-09-14",
          "2020-09-15",
          "2020-09-16",
          "2020-09-17",
          "2020-09-18",
          "2020-09-21",
          "2020-09-22",
          "2020-09-23",
          "2020-09-24",
          "2020-09-25",
          "2020-09-28",
          "2020-09-29",
          "2020-09-30",
          "2020-10-01",
          "2020-10-02",
          "2020-10-05",
          "2020-10-06",
          "2020-10-07",
          "2020-10-08",
          "2020-10-09",
          "2020-10-12",
          "2020-10-13",
          "2020-10-14",
          "2020-10-15",
          "2020-10-16",
          "2020-10-19",
          "2020-10-20",
          "2020-10-21",
          "2020-10-22",
          "2020-10-23",
          "2020-10-26",
          "2020-10-27",
          "2020-10-28",
          "2020-10-29",
          "2020-10-30",
          "2020-11-02",
          "2020-11-03",
          "2020-11-04",
          "2020-11-05",
          "2020-11-06",
          "2020-11-09",
          "2020-11-10",
          "2020-11-11",
          "2020-11-12",
          "2020-11-13",
          "2020-11-16",
          "2020-11-17",
          "2020-11-18",
          "2020-11-19",
          "2020-11-20",
          "2020-11-23",
          "2020-11-24",
          "2020-11-25",
          "2020-11-27",
          "2020-11-30",
          "2020-12-01",
          "2020-12-02",
          "2020-12-03",
          "2020-12-04",
          "2020-12-07",
          "2020-12-08",
          "2020-12-09",
          "2020-12-10",
          "2020-12-11",
          "2020-12-14",
          "2020-12-15",
          "2020-12-16",
          "2020-12-17",
          "2020-12-18",
          "2020-12-21",
          "2020-12-22",
          "2020-12-23",
          "2020-12-24",
          "2020-12-28",
          "2020-12-29",
          "2020-12-30",
          "2020-12-31",
          "2021-01-04",
          "2021-01-05",
          "2021-01-06",
          "2021-01-07",
          "2021-01-08",
          "2021-01-11",
          "2021-01-12",
          "2021-01-13",
          "2021-01-14",
          "2021-01-15",
          "2021-01-19",
          "2021-01-20",
          "2021-01-21",
          "2021-01-22",
          "2021-01-25",
          "2021-01-26",
          "2021-01-27",
          "2021-01-28",
          "2021-01-29",
          "2021-02-01",
          "2021-02-02",
          "2021-02-03",
          "2021-02-04",
          "2021-02-05",
          "2021-02-08",
          "2021-02-09",
          "2021-02-10",
          "2021-02-11",
          "2021-02-12",
          "2021-02-16",
          "2021-02-17",
          "2021-02-18",
          "2021-02-19",
          "2021-02-22",
          "2021-02-23",
          "2021-02-24",
          "2021-02-25",
          "2021-02-26",
          "2021-03-01",
          "2021-03-02",
          "2021-03-03",
          "2021-03-04",
          "2021-03-05",
          "2021-03-08",
          "2021-03-09",
          "2021-03-10",
          "2021-03-11",
          "2021-03-12",
          "2021-03-15",
          "2021-03-16",
          "2021-03-17",
          "2021-03-18",
          "2021-03-19",
          "2021-03-22",
          "2021-03-23",
          "2021-03-24",
          "2021-03-25",
          "2021-03-26",
          "2021-03-29",
          "2021-03-30",
          "2021-03-31",
          "2021-04-01",
          "2021-04-05",
          "2021-04-06",
          "2021-04-07",
          "2021-04-08",
          "2021-04-09",
          "2021-04-12",
          "2021-04-13",
          "2021-04-14",
          "2021-04-15",
          "2021-04-16",
          "2021-04-19",
          "2021-04-20",
          "2021-04-21",
          "2021-04-22",
          "2021-04-23",
          "2021-04-26",
          "2021-04-27",
          "2021-04-28",
          "2021-04-29",
          "2021-04-30",
          "2021-05-03",
          "2021-05-04",
          "2021-05-05",
          "2021-05-06",
          "2021-05-07",
          "2021-05-10",
          "2021-05-11",
          "2021-05-12",
          "2021-05-13",
          "2021-05-14",
          "2021-05-17",
          "2021-05-18",
          "2021-05-19",
          "2021-05-20",
          "2021-05-21",
          "2021-05-24",
          "2021-05-25",
          "2021-05-26",
          "2021-05-27",
          "2021-05-28",
          "2021-06-01",
          "2021-06-02",
          "2021-06-03",
          "2021-06-04",
          "2021-06-07",
          "2021-06-08",
          "2021-06-09",
          "2021-06-10",
          "2021-06-11",
          "2021-06-14",
          "2021-06-15",
          "2021-06-16",
          "2021-06-17",
          "2021-06-18",
          "2021-06-21",
          "2021-06-22",
          "2021-06-23",
          "2021-06-24",
          "2021-06-25",
          "2021-06-28",
          "2021-06-29",
          "2021-06-30",
          "2021-07-01",
          "2021-07-02",
          "2021-07-06",
          "2021-07-07",
          "2021-07-08",
          "2021-07-09",
          "2021-07-12",
          "2021-07-13",
          "2021-07-14",
          "2021-07-15",
          "2021-07-16",
          "2021-07-19",
          "2021-07-20",
          "2021-07-21",
          "2021-07-22",
          "2021-07-23",
          "2021-07-26",
          "2021-07-27",
          "2021-07-28",
          "2021-07-29",
          "2021-07-30",
          "2021-08-02",
          "2021-08-03",
          "2021-08-04",
          "2021-08-05",
          "2021-08-06",
          "2021-08-09",
          "2021-08-10",
          "2021-08-11",
          "2021-08-12",
          "2021-08-13",
          "2021-08-16",
          "2021-08-17",
          "2021-08-18",
          "2021-08-19",
          "2021-08-20",
          "2021-08-23",
          "2021-08-24",
          "2021-08-25",
          "2021-08-26",
          "2021-08-27",
          "2021-08-30",
          "2021-08-31",
          "2021-09-01",
          "2021-09-02",
          "2021-09-03",
          "2021-09-07",
          "2021-09-08",
          "2021-09-09",
          "2021-09-10",
          "2021-09-13",
          "2021-09-14",
          "2021-09-15",
          "2021-09-16",
          "2021-09-17",
          "2021-09-20",
          "2021-09-21",
          "2021-09-22",
          "2021-09-23",
          "2021-09-24",
          "2021-09-27",
          "2021-09-28",
          "2021-09-29",
          "2021-09-30",
          "2021-10-01",
          "2021-10-04",
          "2021-10-05",
          "2021-10-06",
          "2021-10-07",
          "2021-10-08",
          "2021-10-11",
          "2021-10-12",
          "2021-10-13",
          "2021-10-14",
          "2021-10-15",
          "2021-10-18",
          "2021-10-19",
          "2021-10-20",
          "2021-10-21",
          "2021-10-22",
          "2021-10-25",
          "2021-10-26",
          "2021-10-27",
          "2021-10-28",
          "2021-10-29",
          "2021-11-01",
          "2021-11-02",
          "2021-11-03",
          "2021-11-04",
          "2021-11-05",
          "2021-11-08",
          "2021-11-09",
          "2021-11-10",
          "2021-11-11",
          "2021-11-12",
          "2021-11-15",
          "2021-11-16",
          "2021-11-17",
          "2021-11-18",
          "2021-11-19",
          "2021-11-22",
          "2021-11-23",
          "2021-11-24",
          "2021-11-26",
          "2021-11-29",
          "2021-11-30",
          "2021-12-01",
          "2021-12-02",
          "2021-12-03",
          "2021-12-06",
          "2021-12-07",
          "2021-12-08",
          "2021-12-09",
          "2021-12-10",
          "2021-12-13",
          "2021-12-14",
          "2021-12-15",
          "2021-12-16",
          "2021-12-17",
          "2021-12-20",
          "2021-12-21",
          "2021-12-22",
          "2021-12-23",
          "2021-12-27",
          "2021-12-28",
          "2021-12-29",
          "2021-12-30",
          "2021-12-31",
          "2022-01-03",
          "2022-01-04",
          "2022-01-05",
          "2022-01-06",
          "2022-01-07",
          "2022-01-10",
          "2022-01-11",
          "2022-01-12",
          "2022-01-13",
          "2022-01-14",
          "2022-01-18",
          "2022-01-19",
          "2022-01-20",
          "2022-01-21",
          "2022-01-24",
          "2022-01-25",
          "2022-01-26",
          "2022-01-27",
          "2022-01-28",
          "2022-01-31",
          "2022-02-01",
          "2022-02-02",
          "2022-02-03",
          "2022-02-04",
          "2022-02-07",
          "2022-02-08",
          "2022-02-09",
          "2022-02-10",
          "2022-02-11",
          "2022-02-14",
          "2022-02-15",
          "2022-02-16",
          "2022-02-17",
          "2022-02-18",
          "2022-02-22",
          "2022-02-23",
          "2022-02-24",
          "2022-02-25",
          "2022-02-28",
          "2022-03-01",
          "2022-03-02",
          "2022-03-03",
          "2022-03-04",
          "2022-03-07",
          "2022-03-08",
          "2022-03-09",
          "2022-03-10",
          "2022-03-11",
          "2022-03-14",
          "2022-03-15",
          "2022-03-16",
          "2022-03-17",
          "2022-03-18",
          "2022-03-21",
          "2022-03-22",
          "2022-03-23",
          "2022-03-24",
          "2022-03-25",
          "2022-03-28",
          "2022-03-29",
          "2022-03-30",
          "2022-03-31",
          "2022-04-01",
          "2022-04-04",
          "2022-04-05",
          "2022-04-06",
          "2022-04-07",
          "2022-04-08",
          "2022-04-11",
          "2022-04-12",
          "2022-04-13",
          "2022-04-14",
          "2022-04-18",
          "2022-04-19",
          "2022-04-20",
          "2022-04-21",
          "2022-04-22",
          "2022-04-25",
          "2022-04-26",
          "2022-04-27",
          "2022-04-28",
          "2022-04-29",
          "2022-05-02",
          "2022-05-03",
          "2022-05-04",
          "2022-05-05",
          "2022-05-06",
          "2022-05-09",
          "2022-05-10",
          "2022-05-11",
          "2022-05-12",
          "2022-05-13",
          "2022-05-16",
          "2022-05-17",
          "2022-05-18",
          "2022-05-19",
          "2022-05-20",
          "2022-05-23",
          "2022-05-24",
          "2022-05-25",
          "2022-05-26",
          "2022-05-27",
          "2022-05-31",
          "2022-06-01",
          "2022-06-02",
          "2022-06-03",
          "2022-06-06",
          "2022-06-07",
          "2022-06-08",
          "2022-06-09",
          "2022-06-10",
          "2022-06-13",
          "2022-06-14",
          "2022-06-15",
          "2022-06-16",
          "2022-06-17",
          "2022-06-21",
          "2022-06-22",
          "2022-06-23",
          "2022-06-24",
          "2022-06-27",
          "2022-06-28",
          "2022-06-29",
          "2022-06-30",
          "2022-07-01",
          "2022-07-05",
          "2022-07-06",
          "2022-07-07",
          "2022-07-08",
          "2022-07-11",
          "2022-07-12",
          "2022-07-13",
          "2022-07-14",
          "2022-07-15",
          "2022-07-18",
          "2022-07-19",
          "2022-07-20",
          "2022-07-21",
          "2022-07-22",
          "2022-07-25",
          "2022-07-26",
          "2022-07-27",
          "2022-07-28",
          "2022-07-29",
          "2022-08-01",
          "2022-08-02",
          "2022-08-03",
          "2022-08-04",
          "2022-08-05",
          "2022-08-08",
          "2022-08-09",
          "2022-08-10",
          "2022-08-11",
          "2022-08-12",
          "2022-08-15",
          "2022-08-16",
          "2022-08-17",
          "2022-08-18",
          "2022-08-19",
          "2022-08-22",
          "2022-08-23",
          "2022-08-24",
          "2022-08-25",
          "2022-08-26"
         ],
         "xaxis": "x",
         "y": [
          7,
          12,
          6,
          5,
          16,
          18,
          18,
          29,
          27,
          27,
          45,
          35,
          40,
          23,
          42,
          27,
          41,
          40,
          18,
          -22,
          -38,
          -58,
          -73,
          -86,
          -142,
          -133,
          -136,
          -126,
          -139,
          -152,
          -150,
          -132,
          -140,
          -154,
          -150,
          -139,
          -144,
          -161,
          -183,
          -151,
          -143,
          -144,
          -158,
          -140,
          -138,
          -138,
          -146,
          -147,
          -128,
          -119,
          -126,
          -125,
          -102,
          -103,
          -97,
          -99,
          -80,
          -107,
          -115,
          -92,
          -79,
          -84,
          -81,
          -100,
          -79,
          -66,
          -55,
          -57,
          -59,
          -54,
          -58,
          -58,
          -53,
          -43,
          -41,
          -36,
          -45,
          -38,
          -39,
          -32,
          -23,
          -15,
          -27,
          -11,
          -10,
          -9,
          -10,
          -37,
          -16,
          -11,
          -2,
          -16,
          -27,
          -15,
          -3,
          31,
          -27,
          -19,
          -17,
          -10,
          -36,
          -21,
          -11,
          -14,
          -8,
          -21,
          -27,
          -20,
          -27,
          -18,
          -22,
          -30,
          -23,
          -19,
          -17,
          -15,
          -25,
          -29,
          -9,
          -10,
          -19,
          -33,
          -18,
          -25,
          -22,
          -24,
          -40,
          -26,
          -33,
          -22,
          -30,
          -50,
          -42,
          -34,
          -39,
          -44,
          -50,
          -36,
          -41,
          -22,
          -13,
          -56,
          -57,
          -53,
          -45,
          -50,
          -39,
          -43,
          -45,
          -41,
          -56,
          -51,
          -51,
          -54,
          -53,
          -71,
          -70,
          -59,
          -47,
          -52,
          -61,
          -50,
          -53,
          -44,
          -45,
          -80,
          -61,
          -47,
          -49,
          -69,
          -78,
          -68,
          -63,
          -54,
          -66,
          -92,
          -77,
          -79,
          -86,
          -71,
          -87,
          -57,
          -80,
          -73,
          -75,
          -88,
          -83,
          -98,
          -99,
          -93,
          -96,
          -97,
          -97,
          -87,
          -85,
          -91,
          -73,
          -47,
          -132,
          -121,
          -99,
          -102,
          -94,
          -102,
          -114,
          -107,
          -99,
          -93,
          -103,
          -119,
          -100,
          -115,
          -121,
          -104,
          -76,
          -62,
          -42,
          -98,
          -108,
          -101,
          -91,
          -81,
          -111,
          -107,
          -116,
          -117,
          -130,
          -128,
          -117,
          -115,
          -117,
          -129,
          -125,
          -128,
          -120,
          -125,
          -140,
          -138,
          -130,
          -129,
          -130,
          -153,
          -134,
          -109,
          -116,
          -119,
          -130,
          -123,
          -115,
          -131,
          -125,
          -154,
          -133,
          -155,
          -136,
          -116,
          -91,
          -82,
          -91,
          -98,
          -101,
          -91,
          -72,
          -80,
          -87,
          -81,
          -66,
          -72,
          -65,
          -70,
          -89,
          -71,
          -59,
          -77,
          -67,
          -55,
          -57,
          -65,
          -61,
          -56,
          -50,
          -37,
          -56,
          -42,
          -34,
          -24,
          -28,
          -29,
          -48,
          -54,
          -40,
          -48,
          -54,
          -57,
          -48,
          -37,
          -56,
          -43,
          -46,
          -38,
          -24,
          -31,
          -38,
          -33,
          -48,
          -35,
          -32,
          -18,
          -27,
          -42,
          -27,
          -22,
          -5,
          -10,
          -25,
          -14,
          -11,
          -4,
          -13,
          -27,
          -9,
          -9,
          1,
          -17,
          3,
          -3,
          -5,
          -1,
          -15,
          -7,
          1,
          10,
          -9,
          -8,
          8,
          16,
          21,
          6,
          -15,
          -8,
          11,
          10,
          -5,
          -18,
          -25,
          -4,
          7,
          11,
          -4,
          -4,
          -7,
          -9,
          -17,
          -2,
          4,
          20,
          0,
          -4,
          6,
          8,
          21,
          5,
          -6,
          2,
          3,
          -2,
          5,
          -1,
          8,
          4,
          9,
          0,
          -15,
          -8,
          -11,
          -3,
          -9,
          -20,
          -16,
          -15,
          -11,
          -16,
          -31,
          -21,
          -16,
          -14,
          -26,
          -37,
          -24,
          -32,
          -8,
          -3,
          -20,
          -20,
          -21,
          -15,
          -28,
          -19,
          -16,
          -14,
          -21,
          -32,
          -25,
          -29,
          -17,
          -14,
          -25,
          -27,
          -18,
          -11,
          -7,
          -32,
          -23,
          -21,
          -12,
          -17,
          -33,
          -24,
          -24,
          -12,
          -19,
          -30,
          -21,
          -21,
          -19,
          -25,
          -51,
          -43,
          -33,
          -32,
          -41,
          -42,
          -41,
          -40,
          -38,
          -45,
          -40,
          -37,
          -32,
          -42,
          -53,
          -51,
          -41,
          -38,
          -41,
          -49,
          -42,
          -19,
          10,
          -107,
          -56,
          -49,
          -41,
          -39,
          -44,
          -67,
          -57,
          -53,
          -52,
          -57,
          -55,
          -48,
          -40,
          -34,
          -44,
          -43,
          -36,
          -23,
          -10,
          -77,
          -69,
          -71,
          -55,
          -94,
          -96,
          -81,
          -85,
          -92,
          -119,
          -94,
          -93,
          -80,
          -75,
          -83,
          -86,
          -80,
          -94,
          -100,
          -91,
          -87,
          -85,
          -74,
          -80,
          -78,
          -59,
          -84,
          -112,
          -113,
          -73,
          -63,
          -53,
          -48,
          -49,
          -50,
          -64,
          -54,
          -65,
          -66,
          -76,
          -66,
          -76,
          -82,
          -57,
          -40,
          -40,
          -44,
          -56,
          -67,
          -61,
          -68,
          -58,
          -68,
          -49,
          -38,
          -27,
          -37,
          -48,
          -45,
          -48,
          -56,
          -50,
          -48,
          -66,
          -53,
          -52,
          -49,
          -41,
          -46,
          -43,
          -44,
          -43,
          -40,
          -37,
          -28,
          -35,
          -21,
          -62,
          -43,
          -30,
          -23,
          -27,
          -37,
          -33,
          -25,
          -20,
          -21,
          -31,
          -21,
          -22,
          -11,
          -35,
          -20,
          -6,
          -9,
          -5,
          -14,
          -22,
          -5,
          -14,
          -9,
          -21,
          -22,
          -18,
          -16,
          -7,
          -14,
          -9,
          -10,
          -8,
          -8,
          -17,
          -11,
          -11,
          -1,
          -10,
          -19,
          -7,
          -2,
          -3,
          -4,
          -4,
          -11,
          1,
          -3,
          -20,
          -2,
          -1,
          10,
          7,
          -24,
          -13,
          -5,
          -21,
          -17,
          -12,
          -6,
          0,
          -13,
          -22,
          -8,
          -9,
          -6,
          -9,
          -25,
          -8,
          -6,
          -1,
          -3,
          -15,
          -3,
          -6,
          -4,
          -15,
          -23,
          -16,
          -10,
          -2,
          -11,
          -17,
          -7,
          -6,
          2,
          -9,
          -28,
          -11,
          -9,
          -6,
          -18
         ],
         "yaxis": "y"
        }
       ],
       "layout": {
        "legend": {
         "tracegroupgap": 0
        },
        "plot_bgcolor": "black",
        "template": {
         "data": {
          "bar": [
           {
            "error_x": {
             "color": "#f2f5fa"
            },
            "error_y": {
             "color": "#f2f5fa"
            },
            "marker": {
             "line": {
              "color": "rgb(17,17,17)",
              "width": 0.5
             },
             "pattern": {
              "fillmode": "overlay",
              "size": 10,
              "solidity": 0.2
             }
            },
            "type": "bar"
           }
          ],
          "barpolar": [
           {
            "marker": {
             "line": {
              "color": "rgb(17,17,17)",
              "width": 0.5
             },
             "pattern": {
              "fillmode": "overlay",
              "size": 10,
              "solidity": 0.2
             }
            },
            "type": "barpolar"
           }
          ],
          "carpet": [
           {
            "aaxis": {
             "endlinecolor": "#A2B1C6",
             "gridcolor": "#506784",
             "linecolor": "#506784",
             "minorgridcolor": "#506784",
             "startlinecolor": "#A2B1C6"
            },
            "baxis": {
             "endlinecolor": "#A2B1C6",
             "gridcolor": "#506784",
             "linecolor": "#506784",
             "minorgridcolor": "#506784",
             "startlinecolor": "#A2B1C6"
            },
            "type": "carpet"
           }
          ],
          "choropleth": [
           {
            "colorbar": {
             "outlinewidth": 0,
             "ticks": ""
            },
            "type": "choropleth"
           }
          ],
          "contour": [
           {
            "colorbar": {
             "outlinewidth": 0,
             "ticks": ""
            },
            "colorscale": [
             [
              0,
              "#0d0887"
             ],
             [
              0.1111111111111111,
              "#46039f"
             ],
             [
              0.2222222222222222,
              "#7201a8"
             ],
             [
              0.3333333333333333,
              "#9c179e"
             ],
             [
              0.4444444444444444,
              "#bd3786"
             ],
             [
              0.5555555555555556,
              "#d8576b"
             ],
             [
              0.6666666666666666,
              "#ed7953"
             ],
             [
              0.7777777777777778,
              "#fb9f3a"
             ],
             [
              0.8888888888888888,
              "#fdca26"
             ],
             [
              1,
              "#f0f921"
             ]
            ],
            "type": "contour"
           }
          ],
          "contourcarpet": [
           {
            "colorbar": {
             "outlinewidth": 0,
             "ticks": ""
            },
            "type": "contourcarpet"
           }
          ],
          "heatmap": [
           {
            "colorbar": {
             "outlinewidth": 0,
             "ticks": ""
            },
            "colorscale": [
             [
              0,
              "#0d0887"
             ],
             [
              0.1111111111111111,
              "#46039f"
             ],
             [
              0.2222222222222222,
              "#7201a8"
             ],
             [
              0.3333333333333333,
              "#9c179e"
             ],
             [
              0.4444444444444444,
              "#bd3786"
             ],
             [
              0.5555555555555556,
              "#d8576b"
             ],
             [
              0.6666666666666666,
              "#ed7953"
             ],
             [
              0.7777777777777778,
              "#fb9f3a"
             ],
             [
              0.8888888888888888,
              "#fdca26"
             ],
             [
              1,
              "#f0f921"
             ]
            ],
            "type": "heatmap"
           }
          ],
          "heatmapgl": [
           {
            "colorbar": {
             "outlinewidth": 0,
             "ticks": ""
            },
            "colorscale": [
             [
              0,
              "#0d0887"
             ],
             [
              0.1111111111111111,
              "#46039f"
             ],
             [
              0.2222222222222222,
              "#7201a8"
             ],
             [
              0.3333333333333333,
              "#9c179e"
             ],
             [
              0.4444444444444444,
              "#bd3786"
             ],
             [
              0.5555555555555556,
              "#d8576b"
             ],
             [
              0.6666666666666666,
              "#ed7953"
             ],
             [
              0.7777777777777778,
              "#fb9f3a"
             ],
             [
              0.8888888888888888,
              "#fdca26"
             ],
             [
              1,
              "#f0f921"
             ]
            ],
            "type": "heatmapgl"
           }
          ],
          "histogram": [
           {
            "marker": {
             "pattern": {
              "fillmode": "overlay",
              "size": 10,
              "solidity": 0.2
             }
            },
            "type": "histogram"
           }
          ],
          "histogram2d": [
           {
            "colorbar": {
             "outlinewidth": 0,
             "ticks": ""
            },
            "colorscale": [
             [
              0,
              "#0d0887"
             ],
             [
              0.1111111111111111,
              "#46039f"
             ],
             [
              0.2222222222222222,
              "#7201a8"
             ],
             [
              0.3333333333333333,
              "#9c179e"
             ],
             [
              0.4444444444444444,
              "#bd3786"
             ],
             [
              0.5555555555555556,
              "#d8576b"
             ],
             [
              0.6666666666666666,
              "#ed7953"
             ],
             [
              0.7777777777777778,
              "#fb9f3a"
             ],
             [
              0.8888888888888888,
              "#fdca26"
             ],
             [
              1,
              "#f0f921"
             ]
            ],
            "type": "histogram2d"
           }
          ],
          "histogram2dcontour": [
           {
            "colorbar": {
             "outlinewidth": 0,
             "ticks": ""
            },
            "colorscale": [
             [
              0,
              "#0d0887"
             ],
             [
              0.1111111111111111,
              "#46039f"
             ],
             [
              0.2222222222222222,
              "#7201a8"
             ],
             [
              0.3333333333333333,
              "#9c179e"
             ],
             [
              0.4444444444444444,
              "#bd3786"
             ],
             [
              0.5555555555555556,
              "#d8576b"
             ],
             [
              0.6666666666666666,
              "#ed7953"
             ],
             [
              0.7777777777777778,
              "#fb9f3a"
             ],
             [
              0.8888888888888888,
              "#fdca26"
             ],
             [
              1,
              "#f0f921"
             ]
            ],
            "type": "histogram2dcontour"
           }
          ],
          "mesh3d": [
           {
            "colorbar": {
             "outlinewidth": 0,
             "ticks": ""
            },
            "type": "mesh3d"
           }
          ],
          "parcoords": [
           {
            "line": {
             "colorbar": {
              "outlinewidth": 0,
              "ticks": ""
             }
            },
            "type": "parcoords"
           }
          ],
          "pie": [
           {
            "automargin": true,
            "type": "pie"
           }
          ],
          "scatter": [
           {
            "marker": {
             "line": {
              "color": "#283442"
             }
            },
            "type": "scatter"
           }
          ],
          "scatter3d": [
           {
            "line": {
             "colorbar": {
              "outlinewidth": 0,
              "ticks": ""
             }
            },
            "marker": {
             "colorbar": {
              "outlinewidth": 0,
              "ticks": ""
             }
            },
            "type": "scatter3d"
           }
          ],
          "scattercarpet": [
           {
            "marker": {
             "colorbar": {
              "outlinewidth": 0,
              "ticks": ""
             }
            },
            "type": "scattercarpet"
           }
          ],
          "scattergeo": [
           {
            "marker": {
             "colorbar": {
              "outlinewidth": 0,
              "ticks": ""
             }
            },
            "type": "scattergeo"
           }
          ],
          "scattergl": [
           {
            "marker": {
             "line": {
              "color": "#283442"
             }
            },
            "type": "scattergl"
           }
          ],
          "scattermapbox": [
           {
            "marker": {
             "colorbar": {
              "outlinewidth": 0,
              "ticks": ""
             }
            },
            "type": "scattermapbox"
           }
          ],
          "scatterpolar": [
           {
            "marker": {
             "colorbar": {
              "outlinewidth": 0,
              "ticks": ""
             }
            },
            "type": "scatterpolar"
           }
          ],
          "scatterpolargl": [
           {
            "marker": {
             "colorbar": {
              "outlinewidth": 0,
              "ticks": ""
             }
            },
            "type": "scatterpolargl"
           }
          ],
          "scatterternary": [
           {
            "marker": {
             "colorbar": {
              "outlinewidth": 0,
              "ticks": ""
             }
            },
            "type": "scatterternary"
           }
          ],
          "surface": [
           {
            "colorbar": {
             "outlinewidth": 0,
             "ticks": ""
            },
            "colorscale": [
             [
              0,
              "#0d0887"
             ],
             [
              0.1111111111111111,
              "#46039f"
             ],
             [
              0.2222222222222222,
              "#7201a8"
             ],
             [
              0.3333333333333333,
              "#9c179e"
             ],
             [
              0.4444444444444444,
              "#bd3786"
             ],
             [
              0.5555555555555556,
              "#d8576b"
             ],
             [
              0.6666666666666666,
              "#ed7953"
             ],
             [
              0.7777777777777778,
              "#fb9f3a"
             ],
             [
              0.8888888888888888,
              "#fdca26"
             ],
             [
              1,
              "#f0f921"
             ]
            ],
            "type": "surface"
           }
          ],
          "table": [
           {
            "cells": {
             "fill": {
              "color": "#506784"
             },
             "line": {
              "color": "rgb(17,17,17)"
             }
            },
            "header": {
             "fill": {
              "color": "#2a3f5f"
             },
             "line": {
              "color": "rgb(17,17,17)"
             }
            },
            "type": "table"
           }
          ]
         },
         "layout": {
          "annotationdefaults": {
           "arrowcolor": "#f2f5fa",
           "arrowhead": 0,
           "arrowwidth": 1
          },
          "autotypenumbers": "strict",
          "coloraxis": {
           "colorbar": {
            "outlinewidth": 0,
            "ticks": ""
           }
          },
          "colorscale": {
           "diverging": [
            [
             0,
             "#8e0152"
            ],
            [
             0.1,
             "#c51b7d"
            ],
            [
             0.2,
             "#de77ae"
            ],
            [
             0.3,
             "#f1b6da"
            ],
            [
             0.4,
             "#fde0ef"
            ],
            [
             0.5,
             "#f7f7f7"
            ],
            [
             0.6,
             "#e6f5d0"
            ],
            [
             0.7,
             "#b8e186"
            ],
            [
             0.8,
             "#7fbc41"
            ],
            [
             0.9,
             "#4d9221"
            ],
            [
             1,
             "#276419"
            ]
           ],
           "sequential": [
            [
             0,
             "#0d0887"
            ],
            [
             0.1111111111111111,
             "#46039f"
            ],
            [
             0.2222222222222222,
             "#7201a8"
            ],
            [
             0.3333333333333333,
             "#9c179e"
            ],
            [
             0.4444444444444444,
             "#bd3786"
            ],
            [
             0.5555555555555556,
             "#d8576b"
            ],
            [
             0.6666666666666666,
             "#ed7953"
            ],
            [
             0.7777777777777778,
             "#fb9f3a"
            ],
            [
             0.8888888888888888,
             "#fdca26"
            ],
            [
             1,
             "#f0f921"
            ]
           ],
           "sequentialminus": [
            [
             0,
             "#0d0887"
            ],
            [
             0.1111111111111111,
             "#46039f"
            ],
            [
             0.2222222222222222,
             "#7201a8"
            ],
            [
             0.3333333333333333,
             "#9c179e"
            ],
            [
             0.4444444444444444,
             "#bd3786"
            ],
            [
             0.5555555555555556,
             "#d8576b"
            ],
            [
             0.6666666666666666,
             "#ed7953"
            ],
            [
             0.7777777777777778,
             "#fb9f3a"
            ],
            [
             0.8888888888888888,
             "#fdca26"
            ],
            [
             1,
             "#f0f921"
            ]
           ]
          },
          "colorway": [
           "#636efa",
           "#EF553B",
           "#00cc96",
           "#ab63fa",
           "#FFA15A",
           "#19d3f3",
           "#FF6692",
           "#B6E880",
           "#FF97FF",
           "#FECB52"
          ],
          "font": {
           "color": "#f2f5fa"
          },
          "geo": {
           "bgcolor": "rgb(17,17,17)",
           "lakecolor": "rgb(17,17,17)",
           "landcolor": "rgb(17,17,17)",
           "showlakes": true,
           "showland": true,
           "subunitcolor": "#506784"
          },
          "hoverlabel": {
           "align": "left"
          },
          "hovermode": "closest",
          "mapbox": {
           "style": "dark"
          },
          "paper_bgcolor": "rgb(17,17,17)",
          "plot_bgcolor": "rgb(17,17,17)",
          "polar": {
           "angularaxis": {
            "gridcolor": "#506784",
            "linecolor": "#506784",
            "ticks": ""
           },
           "bgcolor": "rgb(17,17,17)",
           "radialaxis": {
            "gridcolor": "#506784",
            "linecolor": "#506784",
            "ticks": ""
           }
          },
          "scene": {
           "xaxis": {
            "backgroundcolor": "rgb(17,17,17)",
            "gridcolor": "#506784",
            "gridwidth": 2,
            "linecolor": "#506784",
            "showbackground": true,
            "ticks": "",
            "zerolinecolor": "#C8D4E3"
           },
           "yaxis": {
            "backgroundcolor": "rgb(17,17,17)",
            "gridcolor": "#506784",
            "gridwidth": 2,
            "linecolor": "#506784",
            "showbackground": true,
            "ticks": "",
            "zerolinecolor": "#C8D4E3"
           },
           "zaxis": {
            "backgroundcolor": "rgb(17,17,17)",
            "gridcolor": "#506784",
            "gridwidth": 2,
            "linecolor": "#506784",
            "showbackground": true,
            "ticks": "",
            "zerolinecolor": "#C8D4E3"
           }
          },
          "shapedefaults": {
           "line": {
            "color": "#f2f5fa"
           }
          },
          "sliderdefaults": {
           "bgcolor": "#C8D4E3",
           "bordercolor": "rgb(17,17,17)",
           "borderwidth": 1,
           "tickwidth": 0
          },
          "ternary": {
           "aaxis": {
            "gridcolor": "#506784",
            "linecolor": "#506784",
            "ticks": ""
           },
           "baxis": {
            "gridcolor": "#506784",
            "linecolor": "#506784",
            "ticks": ""
           },
           "bgcolor": "rgb(17,17,17)",
           "caxis": {
            "gridcolor": "#506784",
            "linecolor": "#506784",
            "ticks": ""
           }
          },
          "title": {
           "x": 0.05
          },
          "updatemenudefaults": {
           "bgcolor": "#506784",
           "borderwidth": 0
          },
          "xaxis": {
           "automargin": true,
           "gridcolor": "#283442",
           "linecolor": "#506784",
           "ticks": "",
           "title": {
            "standoff": 15
           },
           "zerolinecolor": "#283442",
           "zerolinewidth": 2
          },
          "yaxis": {
           "automargin": true,
           "gridcolor": "#283442",
           "linecolor": "#506784",
           "ticks": "",
           "title": {
            "standoff": 15
           },
           "zerolinecolor": "#283442",
           "zerolinewidth": 2
          }
         }
        },
        "title": {
         "font": {
          "size": 24
         },
         "text": "Mobility"
        },
        "xaxis": {
         "anchor": "y",
         "domain": [
          0,
          1
         ],
         "gridcolor": "red",
         "gridwidth": 1,
         "showgrid": true,
         "title": {
          "text": "date"
         }
        },
        "yaxis": {
         "anchor": "x",
         "domain": [
          0,
          1
         ],
         "gridcolor": "red",
         "gridwidth": 1,
         "showgrid": true,
         "title": {
          "text": "sum"
         }
        }
       }
      },
      "text/html": [
       "<div>                            <div id=\"93c10306-61db-48f9-a705-66b855d883a3\" class=\"plotly-graph-div\" style=\"height:525px; width:100%;\"></div>            <script type=\"text/javascript\">                require([\"plotly\"], function(Plotly) {                    window.PLOTLYENV=window.PLOTLYENV || {};                                    if (document.getElementById(\"93c10306-61db-48f9-a705-66b855d883a3\")) {                    Plotly.newPlot(                        \"93c10306-61db-48f9-a705-66b855d883a3\",                        [{\"fillpattern\":{\"shape\":\"\"},\"hovertemplate\":\"date=%{x}\\u003cbr\\u003esum=%{y}\\u003cextra\\u003e\\u003c\\u002fextra\\u003e\",\"legendgroup\":\"\",\"line\":{\"color\":\"cyan\",\"width\":2},\"marker\":{\"symbol\":\"circle\"},\"mode\":\"lines\",\"name\":\"\",\"orientation\":\"v\",\"showlegend\":false,\"stackgroup\":\"1\",\"x\":[\"2020-02-18\",\"2020-02-19\",\"2020-02-20\",\"2020-02-21\",\"2020-02-24\",\"2020-02-25\",\"2020-02-26\",\"2020-02-27\",\"2020-02-28\",\"2020-03-02\",\"2020-03-03\",\"2020-03-04\",\"2020-03-05\",\"2020-03-06\",\"2020-03-09\",\"2020-03-10\",\"2020-03-11\",\"2020-03-12\",\"2020-03-13\",\"2020-03-16\",\"2020-03-17\",\"2020-03-18\",\"2020-03-19\",\"2020-03-20\",\"2020-03-23\",\"2020-03-24\",\"2020-03-25\",\"2020-03-26\",\"2020-03-27\",\"2020-03-30\",\"2020-03-31\",\"2020-04-01\",\"2020-04-02\",\"2020-04-03\",\"2020-04-06\",\"2020-04-07\",\"2020-04-08\",\"2020-04-09\",\"2020-04-13\",\"2020-04-14\",\"2020-04-15\",\"2020-04-16\",\"2020-04-17\",\"2020-04-20\",\"2020-04-21\",\"2020-04-22\",\"2020-04-23\",\"2020-04-24\",\"2020-04-27\",\"2020-04-28\",\"2020-04-29\",\"2020-04-30\",\"2020-05-01\",\"2020-05-04\",\"2020-05-05\",\"2020-05-06\",\"2020-05-07\",\"2020-05-08\",\"2020-05-11\",\"2020-05-12\",\"2020-05-13\",\"2020-05-14\",\"2020-05-15\",\"2020-05-18\",\"2020-05-19\",\"2020-05-20\",\"2020-05-21\",\"2020-05-22\",\"2020-05-26\",\"2020-05-27\",\"2020-05-28\",\"2020-05-29\",\"2020-06-01\",\"2020-06-02\",\"2020-06-03\",\"2020-06-04\",\"2020-06-05\",\"2020-06-08\",\"2020-06-09\",\"2020-06-10\",\"2020-06-11\",\"2020-06-12\",\"2020-06-15\",\"2020-06-16\",\"2020-06-17\",\"2020-06-18\",\"2020-06-19\",\"2020-06-22\",\"2020-06-23\",\"2020-06-24\",\"2020-06-25\",\"2020-06-26\",\"2020-06-29\",\"2020-06-30\",\"2020-07-01\",\"2020-07-02\",\"2020-07-06\",\"2020-07-07\",\"2020-07-08\",\"2020-07-09\",\"2020-07-10\",\"2020-07-13\",\"2020-07-14\",\"2020-07-15\",\"2020-07-16\",\"2020-07-17\",\"2020-07-20\",\"2020-07-21\",\"2020-07-22\",\"2020-07-23\",\"2020-07-24\",\"2020-07-27\",\"2020-07-28\",\"2020-07-29\",\"2020-07-30\",\"2020-07-31\",\"2020-08-03\",\"2020-08-04\",\"2020-08-05\",\"2020-08-06\",\"2020-08-07\",\"2020-08-10\",\"2020-08-11\",\"2020-08-12\",\"2020-08-13\",\"2020-08-14\",\"2020-08-17\",\"2020-08-18\",\"2020-08-19\",\"2020-08-20\",\"2020-08-21\",\"2020-08-24\",\"2020-08-25\",\"2020-08-26\",\"2020-08-27\",\"2020-08-28\",\"2020-08-31\",\"2020-09-01\",\"2020-09-02\",\"2020-09-03\",\"2020-09-04\",\"2020-09-08\",\"2020-09-09\",\"2020-09-10\",\"2020-09-11\",\"2020-09-14\",\"2020-09-15\",\"2020-09-16\",\"2020-09-17\",\"2020-09-18\",\"2020-09-21\",\"2020-09-22\",\"2020-09-23\",\"2020-09-24\",\"2020-09-25\",\"2020-09-28\",\"2020-09-29\",\"2020-09-30\",\"2020-10-01\",\"2020-10-02\",\"2020-10-05\",\"2020-10-06\",\"2020-10-07\",\"2020-10-08\",\"2020-10-09\",\"2020-10-12\",\"2020-10-13\",\"2020-10-14\",\"2020-10-15\",\"2020-10-16\",\"2020-10-19\",\"2020-10-20\",\"2020-10-21\",\"2020-10-22\",\"2020-10-23\",\"2020-10-26\",\"2020-10-27\",\"2020-10-28\",\"2020-10-29\",\"2020-10-30\",\"2020-11-02\",\"2020-11-03\",\"2020-11-04\",\"2020-11-05\",\"2020-11-06\",\"2020-11-09\",\"2020-11-10\",\"2020-11-11\",\"2020-11-12\",\"2020-11-13\",\"2020-11-16\",\"2020-11-17\",\"2020-11-18\",\"2020-11-19\",\"2020-11-20\",\"2020-11-23\",\"2020-11-24\",\"2020-11-25\",\"2020-11-27\",\"2020-11-30\",\"2020-12-01\",\"2020-12-02\",\"2020-12-03\",\"2020-12-04\",\"2020-12-07\",\"2020-12-08\",\"2020-12-09\",\"2020-12-10\",\"2020-12-11\",\"2020-12-14\",\"2020-12-15\",\"2020-12-16\",\"2020-12-17\",\"2020-12-18\",\"2020-12-21\",\"2020-12-22\",\"2020-12-23\",\"2020-12-24\",\"2020-12-28\",\"2020-12-29\",\"2020-12-30\",\"2020-12-31\",\"2021-01-04\",\"2021-01-05\",\"2021-01-06\",\"2021-01-07\",\"2021-01-08\",\"2021-01-11\",\"2021-01-12\",\"2021-01-13\",\"2021-01-14\",\"2021-01-15\",\"2021-01-19\",\"2021-01-20\",\"2021-01-21\",\"2021-01-22\",\"2021-01-25\",\"2021-01-26\",\"2021-01-27\",\"2021-01-28\",\"2021-01-29\",\"2021-02-01\",\"2021-02-02\",\"2021-02-03\",\"2021-02-04\",\"2021-02-05\",\"2021-02-08\",\"2021-02-09\",\"2021-02-10\",\"2021-02-11\",\"2021-02-12\",\"2021-02-16\",\"2021-02-17\",\"2021-02-18\",\"2021-02-19\",\"2021-02-22\",\"2021-02-23\",\"2021-02-24\",\"2021-02-25\",\"2021-02-26\",\"2021-03-01\",\"2021-03-02\",\"2021-03-03\",\"2021-03-04\",\"2021-03-05\",\"2021-03-08\",\"2021-03-09\",\"2021-03-10\",\"2021-03-11\",\"2021-03-12\",\"2021-03-15\",\"2021-03-16\",\"2021-03-17\",\"2021-03-18\",\"2021-03-19\",\"2021-03-22\",\"2021-03-23\",\"2021-03-24\",\"2021-03-25\",\"2021-03-26\",\"2021-03-29\",\"2021-03-30\",\"2021-03-31\",\"2021-04-01\",\"2021-04-05\",\"2021-04-06\",\"2021-04-07\",\"2021-04-08\",\"2021-04-09\",\"2021-04-12\",\"2021-04-13\",\"2021-04-14\",\"2021-04-15\",\"2021-04-16\",\"2021-04-19\",\"2021-04-20\",\"2021-04-21\",\"2021-04-22\",\"2021-04-23\",\"2021-04-26\",\"2021-04-27\",\"2021-04-28\",\"2021-04-29\",\"2021-04-30\",\"2021-05-03\",\"2021-05-04\",\"2021-05-05\",\"2021-05-06\",\"2021-05-07\",\"2021-05-10\",\"2021-05-11\",\"2021-05-12\",\"2021-05-13\",\"2021-05-14\",\"2021-05-17\",\"2021-05-18\",\"2021-05-19\",\"2021-05-20\",\"2021-05-21\",\"2021-05-24\",\"2021-05-25\",\"2021-05-26\",\"2021-05-27\",\"2021-05-28\",\"2021-06-01\",\"2021-06-02\",\"2021-06-03\",\"2021-06-04\",\"2021-06-07\",\"2021-06-08\",\"2021-06-09\",\"2021-06-10\",\"2021-06-11\",\"2021-06-14\",\"2021-06-15\",\"2021-06-16\",\"2021-06-17\",\"2021-06-18\",\"2021-06-21\",\"2021-06-22\",\"2021-06-23\",\"2021-06-24\",\"2021-06-25\",\"2021-06-28\",\"2021-06-29\",\"2021-06-30\",\"2021-07-01\",\"2021-07-02\",\"2021-07-06\",\"2021-07-07\",\"2021-07-08\",\"2021-07-09\",\"2021-07-12\",\"2021-07-13\",\"2021-07-14\",\"2021-07-15\",\"2021-07-16\",\"2021-07-19\",\"2021-07-20\",\"2021-07-21\",\"2021-07-22\",\"2021-07-23\",\"2021-07-26\",\"2021-07-27\",\"2021-07-28\",\"2021-07-29\",\"2021-07-30\",\"2021-08-02\",\"2021-08-03\",\"2021-08-04\",\"2021-08-05\",\"2021-08-06\",\"2021-08-09\",\"2021-08-10\",\"2021-08-11\",\"2021-08-12\",\"2021-08-13\",\"2021-08-16\",\"2021-08-17\",\"2021-08-18\",\"2021-08-19\",\"2021-08-20\",\"2021-08-23\",\"2021-08-24\",\"2021-08-25\",\"2021-08-26\",\"2021-08-27\",\"2021-08-30\",\"2021-08-31\",\"2021-09-01\",\"2021-09-02\",\"2021-09-03\",\"2021-09-07\",\"2021-09-08\",\"2021-09-09\",\"2021-09-10\",\"2021-09-13\",\"2021-09-14\",\"2021-09-15\",\"2021-09-16\",\"2021-09-17\",\"2021-09-20\",\"2021-09-21\",\"2021-09-22\",\"2021-09-23\",\"2021-09-24\",\"2021-09-27\",\"2021-09-28\",\"2021-09-29\",\"2021-09-30\",\"2021-10-01\",\"2021-10-04\",\"2021-10-05\",\"2021-10-06\",\"2021-10-07\",\"2021-10-08\",\"2021-10-11\",\"2021-10-12\",\"2021-10-13\",\"2021-10-14\",\"2021-10-15\",\"2021-10-18\",\"2021-10-19\",\"2021-10-20\",\"2021-10-21\",\"2021-10-22\",\"2021-10-25\",\"2021-10-26\",\"2021-10-27\",\"2021-10-28\",\"2021-10-29\",\"2021-11-01\",\"2021-11-02\",\"2021-11-03\",\"2021-11-04\",\"2021-11-05\",\"2021-11-08\",\"2021-11-09\",\"2021-11-10\",\"2021-11-11\",\"2021-11-12\",\"2021-11-15\",\"2021-11-16\",\"2021-11-17\",\"2021-11-18\",\"2021-11-19\",\"2021-11-22\",\"2021-11-23\",\"2021-11-24\",\"2021-11-26\",\"2021-11-29\",\"2021-11-30\",\"2021-12-01\",\"2021-12-02\",\"2021-12-03\",\"2021-12-06\",\"2021-12-07\",\"2021-12-08\",\"2021-12-09\",\"2021-12-10\",\"2021-12-13\",\"2021-12-14\",\"2021-12-15\",\"2021-12-16\",\"2021-12-17\",\"2021-12-20\",\"2021-12-21\",\"2021-12-22\",\"2021-12-23\",\"2021-12-27\",\"2021-12-28\",\"2021-12-29\",\"2021-12-30\",\"2021-12-31\",\"2022-01-03\",\"2022-01-04\",\"2022-01-05\",\"2022-01-06\",\"2022-01-07\",\"2022-01-10\",\"2022-01-11\",\"2022-01-12\",\"2022-01-13\",\"2022-01-14\",\"2022-01-18\",\"2022-01-19\",\"2022-01-20\",\"2022-01-21\",\"2022-01-24\",\"2022-01-25\",\"2022-01-26\",\"2022-01-27\",\"2022-01-28\",\"2022-01-31\",\"2022-02-01\",\"2022-02-02\",\"2022-02-03\",\"2022-02-04\",\"2022-02-07\",\"2022-02-08\",\"2022-02-09\",\"2022-02-10\",\"2022-02-11\",\"2022-02-14\",\"2022-02-15\",\"2022-02-16\",\"2022-02-17\",\"2022-02-18\",\"2022-02-22\",\"2022-02-23\",\"2022-02-24\",\"2022-02-25\",\"2022-02-28\",\"2022-03-01\",\"2022-03-02\",\"2022-03-03\",\"2022-03-04\",\"2022-03-07\",\"2022-03-08\",\"2022-03-09\",\"2022-03-10\",\"2022-03-11\",\"2022-03-14\",\"2022-03-15\",\"2022-03-16\",\"2022-03-17\",\"2022-03-18\",\"2022-03-21\",\"2022-03-22\",\"2022-03-23\",\"2022-03-24\",\"2022-03-25\",\"2022-03-28\",\"2022-03-29\",\"2022-03-30\",\"2022-03-31\",\"2022-04-01\",\"2022-04-04\",\"2022-04-05\",\"2022-04-06\",\"2022-04-07\",\"2022-04-08\",\"2022-04-11\",\"2022-04-12\",\"2022-04-13\",\"2022-04-14\",\"2022-04-18\",\"2022-04-19\",\"2022-04-20\",\"2022-04-21\",\"2022-04-22\",\"2022-04-25\",\"2022-04-26\",\"2022-04-27\",\"2022-04-28\",\"2022-04-29\",\"2022-05-02\",\"2022-05-03\",\"2022-05-04\",\"2022-05-05\",\"2022-05-06\",\"2022-05-09\",\"2022-05-10\",\"2022-05-11\",\"2022-05-12\",\"2022-05-13\",\"2022-05-16\",\"2022-05-17\",\"2022-05-18\",\"2022-05-19\",\"2022-05-20\",\"2022-05-23\",\"2022-05-24\",\"2022-05-25\",\"2022-05-26\",\"2022-05-27\",\"2022-05-31\",\"2022-06-01\",\"2022-06-02\",\"2022-06-03\",\"2022-06-06\",\"2022-06-07\",\"2022-06-08\",\"2022-06-09\",\"2022-06-10\",\"2022-06-13\",\"2022-06-14\",\"2022-06-15\",\"2022-06-16\",\"2022-06-17\",\"2022-06-21\",\"2022-06-22\",\"2022-06-23\",\"2022-06-24\",\"2022-06-27\",\"2022-06-28\",\"2022-06-29\",\"2022-06-30\",\"2022-07-01\",\"2022-07-05\",\"2022-07-06\",\"2022-07-07\",\"2022-07-08\",\"2022-07-11\",\"2022-07-12\",\"2022-07-13\",\"2022-07-14\",\"2022-07-15\",\"2022-07-18\",\"2022-07-19\",\"2022-07-20\",\"2022-07-21\",\"2022-07-22\",\"2022-07-25\",\"2022-07-26\",\"2022-07-27\",\"2022-07-28\",\"2022-07-29\",\"2022-08-01\",\"2022-08-02\",\"2022-08-03\",\"2022-08-04\",\"2022-08-05\",\"2022-08-08\",\"2022-08-09\",\"2022-08-10\",\"2022-08-11\",\"2022-08-12\",\"2022-08-15\",\"2022-08-16\",\"2022-08-17\",\"2022-08-18\",\"2022-08-19\",\"2022-08-22\",\"2022-08-23\",\"2022-08-24\",\"2022-08-25\",\"2022-08-26\"],\"xaxis\":\"x\",\"y\":[7.0,12.0,6.0,5.0,16.0,18.0,18.0,29.0,27.0,27.0,45.0,35.0,40.0,23.0,42.0,27.0,41.0,40.0,18.0,-22.0,-38.0,-58.0,-73.0,-86.0,-142.0,-133.0,-136.0,-126.0,-139.0,-152.0,-150.0,-132.0,-140.0,-154.0,-150.0,-139.0,-144.0,-161.0,-183.0,-151.0,-143.0,-144.0,-158.0,-140.0,-138.0,-138.0,-146.0,-147.0,-128.0,-119.0,-126.0,-125.0,-102.0,-103.0,-97.0,-99.0,-80.0,-107.0,-115.0,-92.0,-79.0,-84.0,-81.0,-100.0,-79.0,-66.0,-55.0,-57.0,-59.0,-54.0,-58.0,-58.0,-53.0,-43.0,-41.0,-36.0,-45.0,-38.0,-39.0,-32.0,-23.0,-15.0,-27.0,-11.0,-10.0,-9.0,-10.0,-37.0,-16.0,-11.0,-2.0,-16.0,-27.0,-15.0,-3.0,31.0,-27.0,-19.0,-17.0,-10.0,-36.0,-21.0,-11.0,-14.0,-8.0,-21.0,-27.0,-20.0,-27.0,-18.0,-22.0,-30.0,-23.0,-19.0,-17.0,-15.0,-25.0,-29.0,-9.0,-10.0,-19.0,-33.0,-18.0,-25.0,-22.0,-24.0,-40.0,-26.0,-33.0,-22.0,-30.0,-50.0,-42.0,-34.0,-39.0,-44.0,-50.0,-36.0,-41.0,-22.0,-13.0,-56.0,-57.0,-53.0,-45.0,-50.0,-39.0,-43.0,-45.0,-41.0,-56.0,-51.0,-51.0,-54.0,-53.0,-71.0,-70.0,-59.0,-47.0,-52.0,-61.0,-50.0,-53.0,-44.0,-45.0,-80.0,-61.0,-47.0,-49.0,-69.0,-78.0,-68.0,-63.0,-54.0,-66.0,-92.0,-77.0,-79.0,-86.0,-71.0,-87.0,-57.0,-80.0,-73.0,-75.0,-88.0,-83.0,-98.0,-99.0,-93.0,-96.0,-97.0,-97.0,-87.0,-85.0,-91.0,-73.0,-47.0,-132.0,-121.0,-99.0,-102.0,-94.0,-102.0,-114.0,-107.0,-99.0,-93.0,-103.0,-119.0,-100.0,-115.0,-121.0,-104.0,-76.0,-62.0,-42.0,-98.0,-108.0,-101.0,-91.0,-81.0,-111.0,-107.0,-116.0,-117.0,-130.0,-128.0,-117.0,-115.0,-117.0,-129.0,-125.0,-128.0,-120.0,-125.0,-140.0,-138.0,-130.0,-129.0,-130.0,-153.0,-134.0,-109.0,-116.0,-119.0,-130.0,-123.0,-115.0,-131.0,-125.0,-154.0,-133.0,-155.0,-136.0,-116.0,-91.0,-82.0,-91.0,-98.0,-101.0,-91.0,-72.0,-80.0,-87.0,-81.0,-66.0,-72.0,-65.0,-70.0,-89.0,-71.0,-59.0,-77.0,-67.0,-55.0,-57.0,-65.0,-61.0,-56.0,-50.0,-37.0,-56.0,-42.0,-34.0,-24.0,-28.0,-29.0,-48.0,-54.0,-40.0,-48.0,-54.0,-57.0,-48.0,-37.0,-56.0,-43.0,-46.0,-38.0,-24.0,-31.0,-38.0,-33.0,-48.0,-35.0,-32.0,-18.0,-27.0,-42.0,-27.0,-22.0,-5.0,-10.0,-25.0,-14.0,-11.0,-4.0,-13.0,-27.0,-9.0,-9.0,1.0,-17.0,3.0,-3.0,-5.0,-1.0,-15.0,-7.0,1.0,10.0,-9.0,-8.0,8.0,16.0,21.0,6.0,-15.0,-8.0,11.0,10.0,-5.0,-18.0,-25.0,-4.0,7.0,11.0,-4.0,-4.0,-7.0,-9.0,-17.0,-2.0,4.0,20.0,0.0,-4.0,6.0,8.0,21.0,5.0,-6.0,2.0,3.0,-2.0,5.0,-1.0,8.0,4.0,9.0,0.0,-15.0,-8.0,-11.0,-3.0,-9.0,-20.0,-16.0,-15.0,-11.0,-16.0,-31.0,-21.0,-16.0,-14.0,-26.0,-37.0,-24.0,-32.0,-8.0,-3.0,-20.0,-20.0,-21.0,-15.0,-28.0,-19.0,-16.0,-14.0,-21.0,-32.0,-25.0,-29.0,-17.0,-14.0,-25.0,-27.0,-18.0,-11.0,-7.0,-32.0,-23.0,-21.0,-12.0,-17.0,-33.0,-24.0,-24.0,-12.0,-19.0,-30.0,-21.0,-21.0,-19.0,-25.0,-51.0,-43.0,-33.0,-32.0,-41.0,-42.0,-41.0,-40.0,-38.0,-45.0,-40.0,-37.0,-32.0,-42.0,-53.0,-51.0,-41.0,-38.0,-41.0,-49.0,-42.0,-19.0,10.0,-107.0,-56.0,-49.0,-41.0,-39.0,-44.0,-67.0,-57.0,-53.0,-52.0,-57.0,-55.0,-48.0,-40.0,-34.0,-44.0,-43.0,-36.0,-23.0,-10.0,-77.0,-69.0,-71.0,-55.0,-94.0,-96.0,-81.0,-85.0,-92.0,-119.0,-94.0,-93.0,-80.0,-75.0,-83.0,-86.0,-80.0,-94.0,-100.0,-91.0,-87.0,-85.0,-74.0,-80.0,-78.0,-59.0,-84.0,-112.0,-113.0,-73.0,-63.0,-53.0,-48.0,-49.0,-50.0,-64.0,-54.0,-65.0,-66.0,-76.0,-66.0,-76.0,-82.0,-57.0,-40.0,-40.0,-44.0,-56.0,-67.0,-61.0,-68.0,-58.0,-68.0,-49.0,-38.0,-27.0,-37.0,-48.0,-45.0,-48.0,-56.0,-50.0,-48.0,-66.0,-53.0,-52.0,-49.0,-41.0,-46.0,-43.0,-44.0,-43.0,-40.0,-37.0,-28.0,-35.0,-21.0,-62.0,-43.0,-30.0,-23.0,-27.0,-37.0,-33.0,-25.0,-20.0,-21.0,-31.0,-21.0,-22.0,-11.0,-35.0,-20.0,-6.0,-9.0,-5.0,-14.0,-22.0,-5.0,-14.0,-9.0,-21.0,-22.0,-18.0,-16.0,-7.0,-14.0,-9.0,-10.0,-8.0,-8.0,-17.0,-11.0,-11.0,-1.0,-10.0,-19.0,-7.0,-2.0,-3.0,-4.0,-4.0,-11.0,1.0,-3.0,-20.0,-2.0,-1.0,10.0,7.0,-24.0,-13.0,-5.0,-21.0,-17.0,-12.0,-6.0,0.0,-13.0,-22.0,-8.0,-9.0,-6.0,-9.0,-25.0,-8.0,-6.0,-1.0,-3.0,-15.0,-3.0,-6.0,-4.0,-15.0,-23.0,-16.0,-10.0,-2.0,-11.0,-17.0,-7.0,-6.0,2.0,-9.0,-28.0,-11.0,-9.0,-6.0,-18.0],\"yaxis\":\"y\",\"type\":\"scatter\"}],                        {\"template\":{\"data\":{\"barpolar\":[{\"marker\":{\"line\":{\"color\":\"rgb(17,17,17)\",\"width\":0.5},\"pattern\":{\"fillmode\":\"overlay\",\"size\":10,\"solidity\":0.2}},\"type\":\"barpolar\"}],\"bar\":[{\"error_x\":{\"color\":\"#f2f5fa\"},\"error_y\":{\"color\":\"#f2f5fa\"},\"marker\":{\"line\":{\"color\":\"rgb(17,17,17)\",\"width\":0.5},\"pattern\":{\"fillmode\":\"overlay\",\"size\":10,\"solidity\":0.2}},\"type\":\"bar\"}],\"carpet\":[{\"aaxis\":{\"endlinecolor\":\"#A2B1C6\",\"gridcolor\":\"#506784\",\"linecolor\":\"#506784\",\"minorgridcolor\":\"#506784\",\"startlinecolor\":\"#A2B1C6\"},\"baxis\":{\"endlinecolor\":\"#A2B1C6\",\"gridcolor\":\"#506784\",\"linecolor\":\"#506784\",\"minorgridcolor\":\"#506784\",\"startlinecolor\":\"#A2B1C6\"},\"type\":\"carpet\"}],\"choropleth\":[{\"colorbar\":{\"outlinewidth\":0,\"ticks\":\"\"},\"type\":\"choropleth\"}],\"contourcarpet\":[{\"colorbar\":{\"outlinewidth\":0,\"ticks\":\"\"},\"type\":\"contourcarpet\"}],\"contour\":[{\"colorbar\":{\"outlinewidth\":0,\"ticks\":\"\"},\"colorscale\":[[0.0,\"#0d0887\"],[0.1111111111111111,\"#46039f\"],[0.2222222222222222,\"#7201a8\"],[0.3333333333333333,\"#9c179e\"],[0.4444444444444444,\"#bd3786\"],[0.5555555555555556,\"#d8576b\"],[0.6666666666666666,\"#ed7953\"],[0.7777777777777778,\"#fb9f3a\"],[0.8888888888888888,\"#fdca26\"],[1.0,\"#f0f921\"]],\"type\":\"contour\"}],\"heatmapgl\":[{\"colorbar\":{\"outlinewidth\":0,\"ticks\":\"\"},\"colorscale\":[[0.0,\"#0d0887\"],[0.1111111111111111,\"#46039f\"],[0.2222222222222222,\"#7201a8\"],[0.3333333333333333,\"#9c179e\"],[0.4444444444444444,\"#bd3786\"],[0.5555555555555556,\"#d8576b\"],[0.6666666666666666,\"#ed7953\"],[0.7777777777777778,\"#fb9f3a\"],[0.8888888888888888,\"#fdca26\"],[1.0,\"#f0f921\"]],\"type\":\"heatmapgl\"}],\"heatmap\":[{\"colorbar\":{\"outlinewidth\":0,\"ticks\":\"\"},\"colorscale\":[[0.0,\"#0d0887\"],[0.1111111111111111,\"#46039f\"],[0.2222222222222222,\"#7201a8\"],[0.3333333333333333,\"#9c179e\"],[0.4444444444444444,\"#bd3786\"],[0.5555555555555556,\"#d8576b\"],[0.6666666666666666,\"#ed7953\"],[0.7777777777777778,\"#fb9f3a\"],[0.8888888888888888,\"#fdca26\"],[1.0,\"#f0f921\"]],\"type\":\"heatmap\"}],\"histogram2dcontour\":[{\"colorbar\":{\"outlinewidth\":0,\"ticks\":\"\"},\"colorscale\":[[0.0,\"#0d0887\"],[0.1111111111111111,\"#46039f\"],[0.2222222222222222,\"#7201a8\"],[0.3333333333333333,\"#9c179e\"],[0.4444444444444444,\"#bd3786\"],[0.5555555555555556,\"#d8576b\"],[0.6666666666666666,\"#ed7953\"],[0.7777777777777778,\"#fb9f3a\"],[0.8888888888888888,\"#fdca26\"],[1.0,\"#f0f921\"]],\"type\":\"histogram2dcontour\"}],\"histogram2d\":[{\"colorbar\":{\"outlinewidth\":0,\"ticks\":\"\"},\"colorscale\":[[0.0,\"#0d0887\"],[0.1111111111111111,\"#46039f\"],[0.2222222222222222,\"#7201a8\"],[0.3333333333333333,\"#9c179e\"],[0.4444444444444444,\"#bd3786\"],[0.5555555555555556,\"#d8576b\"],[0.6666666666666666,\"#ed7953\"],[0.7777777777777778,\"#fb9f3a\"],[0.8888888888888888,\"#fdca26\"],[1.0,\"#f0f921\"]],\"type\":\"histogram2d\"}],\"histogram\":[{\"marker\":{\"pattern\":{\"fillmode\":\"overlay\",\"size\":10,\"solidity\":0.2}},\"type\":\"histogram\"}],\"mesh3d\":[{\"colorbar\":{\"outlinewidth\":0,\"ticks\":\"\"},\"type\":\"mesh3d\"}],\"parcoords\":[{\"line\":{\"colorbar\":{\"outlinewidth\":0,\"ticks\":\"\"}},\"type\":\"parcoords\"}],\"pie\":[{\"automargin\":true,\"type\":\"pie\"}],\"scatter3d\":[{\"line\":{\"colorbar\":{\"outlinewidth\":0,\"ticks\":\"\"}},\"marker\":{\"colorbar\":{\"outlinewidth\":0,\"ticks\":\"\"}},\"type\":\"scatter3d\"}],\"scattercarpet\":[{\"marker\":{\"colorbar\":{\"outlinewidth\":0,\"ticks\":\"\"}},\"type\":\"scattercarpet\"}],\"scattergeo\":[{\"marker\":{\"colorbar\":{\"outlinewidth\":0,\"ticks\":\"\"}},\"type\":\"scattergeo\"}],\"scattergl\":[{\"marker\":{\"line\":{\"color\":\"#283442\"}},\"type\":\"scattergl\"}],\"scattermapbox\":[{\"marker\":{\"colorbar\":{\"outlinewidth\":0,\"ticks\":\"\"}},\"type\":\"scattermapbox\"}],\"scatterpolargl\":[{\"marker\":{\"colorbar\":{\"outlinewidth\":0,\"ticks\":\"\"}},\"type\":\"scatterpolargl\"}],\"scatterpolar\":[{\"marker\":{\"colorbar\":{\"outlinewidth\":0,\"ticks\":\"\"}},\"type\":\"scatterpolar\"}],\"scatter\":[{\"marker\":{\"line\":{\"color\":\"#283442\"}},\"type\":\"scatter\"}],\"scatterternary\":[{\"marker\":{\"colorbar\":{\"outlinewidth\":0,\"ticks\":\"\"}},\"type\":\"scatterternary\"}],\"surface\":[{\"colorbar\":{\"outlinewidth\":0,\"ticks\":\"\"},\"colorscale\":[[0.0,\"#0d0887\"],[0.1111111111111111,\"#46039f\"],[0.2222222222222222,\"#7201a8\"],[0.3333333333333333,\"#9c179e\"],[0.4444444444444444,\"#bd3786\"],[0.5555555555555556,\"#d8576b\"],[0.6666666666666666,\"#ed7953\"],[0.7777777777777778,\"#fb9f3a\"],[0.8888888888888888,\"#fdca26\"],[1.0,\"#f0f921\"]],\"type\":\"surface\"}],\"table\":[{\"cells\":{\"fill\":{\"color\":\"#506784\"},\"line\":{\"color\":\"rgb(17,17,17)\"}},\"header\":{\"fill\":{\"color\":\"#2a3f5f\"},\"line\":{\"color\":\"rgb(17,17,17)\"}},\"type\":\"table\"}]},\"layout\":{\"annotationdefaults\":{\"arrowcolor\":\"#f2f5fa\",\"arrowhead\":0,\"arrowwidth\":1},\"autotypenumbers\":\"strict\",\"coloraxis\":{\"colorbar\":{\"outlinewidth\":0,\"ticks\":\"\"}},\"colorscale\":{\"diverging\":[[0,\"#8e0152\"],[0.1,\"#c51b7d\"],[0.2,\"#de77ae\"],[0.3,\"#f1b6da\"],[0.4,\"#fde0ef\"],[0.5,\"#f7f7f7\"],[0.6,\"#e6f5d0\"],[0.7,\"#b8e186\"],[0.8,\"#7fbc41\"],[0.9,\"#4d9221\"],[1,\"#276419\"]],\"sequential\":[[0.0,\"#0d0887\"],[0.1111111111111111,\"#46039f\"],[0.2222222222222222,\"#7201a8\"],[0.3333333333333333,\"#9c179e\"],[0.4444444444444444,\"#bd3786\"],[0.5555555555555556,\"#d8576b\"],[0.6666666666666666,\"#ed7953\"],[0.7777777777777778,\"#fb9f3a\"],[0.8888888888888888,\"#fdca26\"],[1.0,\"#f0f921\"]],\"sequentialminus\":[[0.0,\"#0d0887\"],[0.1111111111111111,\"#46039f\"],[0.2222222222222222,\"#7201a8\"],[0.3333333333333333,\"#9c179e\"],[0.4444444444444444,\"#bd3786\"],[0.5555555555555556,\"#d8576b\"],[0.6666666666666666,\"#ed7953\"],[0.7777777777777778,\"#fb9f3a\"],[0.8888888888888888,\"#fdca26\"],[1.0,\"#f0f921\"]]},\"colorway\":[\"#636efa\",\"#EF553B\",\"#00cc96\",\"#ab63fa\",\"#FFA15A\",\"#19d3f3\",\"#FF6692\",\"#B6E880\",\"#FF97FF\",\"#FECB52\"],\"font\":{\"color\":\"#f2f5fa\"},\"geo\":{\"bgcolor\":\"rgb(17,17,17)\",\"lakecolor\":\"rgb(17,17,17)\",\"landcolor\":\"rgb(17,17,17)\",\"showlakes\":true,\"showland\":true,\"subunitcolor\":\"#506784\"},\"hoverlabel\":{\"align\":\"left\"},\"hovermode\":\"closest\",\"mapbox\":{\"style\":\"dark\"},\"paper_bgcolor\":\"rgb(17,17,17)\",\"plot_bgcolor\":\"rgb(17,17,17)\",\"polar\":{\"angularaxis\":{\"gridcolor\":\"#506784\",\"linecolor\":\"#506784\",\"ticks\":\"\"},\"bgcolor\":\"rgb(17,17,17)\",\"radialaxis\":{\"gridcolor\":\"#506784\",\"linecolor\":\"#506784\",\"ticks\":\"\"}},\"scene\":{\"xaxis\":{\"backgroundcolor\":\"rgb(17,17,17)\",\"gridcolor\":\"#506784\",\"gridwidth\":2,\"linecolor\":\"#506784\",\"showbackground\":true,\"ticks\":\"\",\"zerolinecolor\":\"#C8D4E3\"},\"yaxis\":{\"backgroundcolor\":\"rgb(17,17,17)\",\"gridcolor\":\"#506784\",\"gridwidth\":2,\"linecolor\":\"#506784\",\"showbackground\":true,\"ticks\":\"\",\"zerolinecolor\":\"#C8D4E3\"},\"zaxis\":{\"backgroundcolor\":\"rgb(17,17,17)\",\"gridcolor\":\"#506784\",\"gridwidth\":2,\"linecolor\":\"#506784\",\"showbackground\":true,\"ticks\":\"\",\"zerolinecolor\":\"#C8D4E3\"}},\"shapedefaults\":{\"line\":{\"color\":\"#f2f5fa\"}},\"sliderdefaults\":{\"bgcolor\":\"#C8D4E3\",\"bordercolor\":\"rgb(17,17,17)\",\"borderwidth\":1,\"tickwidth\":0},\"ternary\":{\"aaxis\":{\"gridcolor\":\"#506784\",\"linecolor\":\"#506784\",\"ticks\":\"\"},\"baxis\":{\"gridcolor\":\"#506784\",\"linecolor\":\"#506784\",\"ticks\":\"\"},\"bgcolor\":\"rgb(17,17,17)\",\"caxis\":{\"gridcolor\":\"#506784\",\"linecolor\":\"#506784\",\"ticks\":\"\"}},\"title\":{\"x\":0.05},\"updatemenudefaults\":{\"bgcolor\":\"#506784\",\"borderwidth\":0},\"xaxis\":{\"automargin\":true,\"gridcolor\":\"#283442\",\"linecolor\":\"#506784\",\"ticks\":\"\",\"title\":{\"standoff\":15},\"zerolinecolor\":\"#283442\",\"zerolinewidth\":2},\"yaxis\":{\"automargin\":true,\"gridcolor\":\"#283442\",\"linecolor\":\"#506784\",\"ticks\":\"\",\"title\":{\"standoff\":15},\"zerolinecolor\":\"#283442\",\"zerolinewidth\":2}}},\"xaxis\":{\"anchor\":\"y\",\"domain\":[0.0,1.0],\"title\":{\"text\":\"date\"},\"showgrid\":true,\"gridwidth\":1,\"gridcolor\":\"red\"},\"yaxis\":{\"anchor\":\"x\",\"domain\":[0.0,1.0],\"title\":{\"text\":\"sum\"},\"showgrid\":true,\"gridwidth\":1,\"gridcolor\":\"red\"},\"legend\":{\"tracegroupgap\":0},\"title\":{\"text\":\"Mobility\",\"font\":{\"size\":24}},\"plot_bgcolor\":\"black\"},                        {\"responsive\": true}                    ).then(function(){\n",
       "                            \n",
       "var gd = document.getElementById('93c10306-61db-48f9-a705-66b855d883a3');\n",
       "var x = new MutationObserver(function (mutations, observer) {{\n",
       "        var display = window.getComputedStyle(gd).display;\n",
       "        if (!display || display === 'none') {{\n",
       "            console.log([gd, 'removed!']);\n",
       "            Plotly.purge(gd);\n",
       "            observer.disconnect();\n",
       "        }}\n",
       "}});\n",
       "\n",
       "// Listen for the removal of the full notebook cells\n",
       "var notebookContainer = gd.closest('#notebook-container');\n",
       "if (notebookContainer) {{\n",
       "    x.observe(notebookContainer, {childList: true});\n",
       "}}\n",
       "\n",
       "// Listen for the clearing of the current output cell\n",
       "var outputEl = gd.closest('.output');\n",
       "if (outputEl) {{\n",
       "    x.observe(outputEl, {childList: true});\n",
       "}}\n",
       "\n",
       "                        })                };                });            </script>        </div>"
      ]
     },
     "metadata": {},
     "output_type": "display_data"
    }
   ],
   "source": [
    "# fig = px.line(sp, x='ts', y='prices', labels={'ts': 'Время', 'prices': 'Цена'}, title='График цены токена LIDO DAO')\n",
    "fig = px.area(mobil,x='date', y='sum',labels={'ts': 'Время', 'prices': 'Цена'}, title='Mobility',template = 'plotly_dark')\n",
    "fig.update_traces(line=dict(color='cyan', width=2))  # Изменить цвет и толщину линии\n",
    "fig.update_layout(plot_bgcolor='black', title_font=dict(size=24))  # Изменить цвет фона и размер заголовка\n",
    "fig.update_xaxes(showgrid=True, gridwidth=1, gridcolor='red')  # Добавить сетку на оси x\n",
    "fig.update_yaxes(showgrid=True, gridwidth=1, gridcolor='red')  # Добавить сетку на оси y\n",
    "fig.show()\n",
    "\n",
    "\n",
    "\n"
   ]
  },
  {
   "cell_type": "code",
   "execution_count": 324,
   "id": "df4d6313",
   "metadata": {},
   "outputs": [
    {
     "data": {
      "text/html": [
       "<div>\n",
       "<style scoped>\n",
       "    .dataframe tbody tr th:only-of-type {\n",
       "        vertical-align: middle;\n",
       "    }\n",
       "\n",
       "    .dataframe tbody tr th {\n",
       "        vertical-align: top;\n",
       "    }\n",
       "\n",
       "    .dataframe thead th {\n",
       "        text-align: right;\n",
       "    }\n",
       "</style>\n",
       "<table border=\"1\" class=\"dataframe\">\n",
       "  <thead>\n",
       "    <tr style=\"text-align: right;\">\n",
       "      <th></th>\n",
       "      <th>date</th>\n",
       "      <th>weekly_cases</th>\n",
       "      <th>weekly_deaths</th>\n",
       "    </tr>\n",
       "  </thead>\n",
       "  <tbody>\n",
       "    <tr>\n",
       "      <th>365621</th>\n",
       "      <td>2020-02-18</td>\n",
       "      <td>4.0</td>\n",
       "      <td>0.0</td>\n",
       "    </tr>\n",
       "    <tr>\n",
       "      <th>365622</th>\n",
       "      <td>2020-02-19</td>\n",
       "      <td>4.0</td>\n",
       "      <td>0.0</td>\n",
       "    </tr>\n",
       "    <tr>\n",
       "      <th>365623</th>\n",
       "      <td>2020-02-20</td>\n",
       "      <td>4.0</td>\n",
       "      <td>0.0</td>\n",
       "    </tr>\n",
       "    <tr>\n",
       "      <th>365624</th>\n",
       "      <td>2020-02-21</td>\n",
       "      <td>4.0</td>\n",
       "      <td>0.0</td>\n",
       "    </tr>\n",
       "    <tr>\n",
       "      <th>365627</th>\n",
       "      <td>2020-02-24</td>\n",
       "      <td>16.0</td>\n",
       "      <td>0.0</td>\n",
       "    </tr>\n",
       "    <tr>\n",
       "      <th>...</th>\n",
       "      <td>...</td>\n",
       "      <td>...</td>\n",
       "      <td>...</td>\n",
       "    </tr>\n",
       "    <tr>\n",
       "      <th>366537</th>\n",
       "      <td>2022-08-22</td>\n",
       "      <td>644925.0</td>\n",
       "      <td>3231.0</td>\n",
       "    </tr>\n",
       "    <tr>\n",
       "      <th>366538</th>\n",
       "      <td>2022-08-23</td>\n",
       "      <td>644925.0</td>\n",
       "      <td>3231.0</td>\n",
       "    </tr>\n",
       "    <tr>\n",
       "      <th>366539</th>\n",
       "      <td>2022-08-24</td>\n",
       "      <td>644925.0</td>\n",
       "      <td>3231.0</td>\n",
       "    </tr>\n",
       "    <tr>\n",
       "      <th>366540</th>\n",
       "      <td>2022-08-25</td>\n",
       "      <td>644925.0</td>\n",
       "      <td>3231.0</td>\n",
       "    </tr>\n",
       "    <tr>\n",
       "      <th>366541</th>\n",
       "      <td>2022-08-26</td>\n",
       "      <td>644925.0</td>\n",
       "      <td>3231.0</td>\n",
       "    </tr>\n",
       "  </tbody>\n",
       "</table>\n",
       "<p>638 rows × 3 columns</p>\n",
       "</div>"
      ],
      "text/plain": [
       "              date  weekly_cases  weekly_deaths\n",
       "365621  2020-02-18           4.0            0.0\n",
       "365622  2020-02-19           4.0            0.0\n",
       "365623  2020-02-20           4.0            0.0\n",
       "365624  2020-02-21           4.0            0.0\n",
       "365627  2020-02-24          16.0            0.0\n",
       "...            ...           ...            ...\n",
       "366537  2022-08-22      644925.0         3231.0\n",
       "366538  2022-08-23      644925.0         3231.0\n",
       "366539  2022-08-24      644925.0         3231.0\n",
       "366540  2022-08-25      644925.0         3231.0\n",
       "366541  2022-08-26      644925.0         3231.0\n",
       "\n",
       "[638 rows x 3 columns]"
      ]
     },
     "execution_count": 324,
     "metadata": {},
     "output_type": "execute_result"
    }
   ],
   "source": [
    "cv"
   ]
  },
  {
   "cell_type": "code",
   "execution_count": 332,
   "id": "fc553eb5",
   "metadata": {},
   "outputs": [
    {
     "data": {
      "application/vnd.plotly.v1+json": {
       "config": {
        "plotlyServerURL": "https://plot.ly"
       },
       "data": [
        {
         "fillpattern": {
          "shape": ""
         },
         "hovertemplate": "date=%{x}<br>weekly_cases=%{y}<extra></extra>",
         "legendgroup": "",
         "line": {
          "color": "cyan",
          "width": 2
         },
         "marker": {
          "symbol": "circle"
         },
         "mode": "lines",
         "name": "",
         "orientation": "v",
         "showlegend": false,
         "stackgroup": "1",
         "type": "scatter",
         "x": [
          "2020-02-18",
          "2020-02-19",
          "2020-02-20",
          "2020-02-21",
          "2020-02-24",
          "2020-02-25",
          "2020-02-26",
          "2020-02-27",
          "2020-02-28",
          "2020-03-02",
          "2020-03-03",
          "2020-03-04",
          "2020-03-05",
          "2020-03-06",
          "2020-03-09",
          "2020-03-10",
          "2020-03-11",
          "2020-03-12",
          "2020-03-13",
          "2020-03-16",
          "2020-03-17",
          "2020-03-18",
          "2020-03-19",
          "2020-03-20",
          "2020-03-23",
          "2020-03-24",
          "2020-03-25",
          "2020-03-26",
          "2020-03-27",
          "2020-03-30",
          "2020-03-31",
          "2020-04-01",
          "2020-04-02",
          "2020-04-03",
          "2020-04-06",
          "2020-04-07",
          "2020-04-08",
          "2020-04-09",
          "2020-04-13",
          "2020-04-14",
          "2020-04-15",
          "2020-04-16",
          "2020-04-17",
          "2020-04-20",
          "2020-04-21",
          "2020-04-22",
          "2020-04-23",
          "2020-04-24",
          "2020-04-27",
          "2020-04-28",
          "2020-04-29",
          "2020-04-30",
          "2020-05-01",
          "2020-05-04",
          "2020-05-05",
          "2020-05-06",
          "2020-05-07",
          "2020-05-08",
          "2020-05-11",
          "2020-05-12",
          "2020-05-13",
          "2020-05-14",
          "2020-05-15",
          "2020-05-18",
          "2020-05-19",
          "2020-05-20",
          "2020-05-21",
          "2020-05-22",
          "2020-05-26",
          "2020-05-27",
          "2020-05-28",
          "2020-05-29",
          "2020-06-01",
          "2020-06-02",
          "2020-06-03",
          "2020-06-04",
          "2020-06-05",
          "2020-06-08",
          "2020-06-09",
          "2020-06-10",
          "2020-06-11",
          "2020-06-12",
          "2020-06-15",
          "2020-06-16",
          "2020-06-17",
          "2020-06-18",
          "2020-06-19",
          "2020-06-22",
          "2020-06-23",
          "2020-06-24",
          "2020-06-25",
          "2020-06-26",
          "2020-06-29",
          "2020-06-30",
          "2020-07-01",
          "2020-07-02",
          "2020-07-06",
          "2020-07-07",
          "2020-07-08",
          "2020-07-09",
          "2020-07-10",
          "2020-07-13",
          "2020-07-14",
          "2020-07-15",
          "2020-07-16",
          "2020-07-17",
          "2020-07-20",
          "2020-07-21",
          "2020-07-22",
          "2020-07-23",
          "2020-07-24",
          "2020-07-27",
          "2020-07-28",
          "2020-07-29",
          "2020-07-30",
          "2020-07-31",
          "2020-08-03",
          "2020-08-04",
          "2020-08-05",
          "2020-08-06",
          "2020-08-07",
          "2020-08-10",
          "2020-08-11",
          "2020-08-12",
          "2020-08-13",
          "2020-08-14",
          "2020-08-17",
          "2020-08-18",
          "2020-08-19",
          "2020-08-20",
          "2020-08-21",
          "2020-08-24",
          "2020-08-25",
          "2020-08-26",
          "2020-08-27",
          "2020-08-28",
          "2020-08-31",
          "2020-09-01",
          "2020-09-02",
          "2020-09-03",
          "2020-09-04",
          "2020-09-08",
          "2020-09-09",
          "2020-09-10",
          "2020-09-11",
          "2020-09-14",
          "2020-09-15",
          "2020-09-16",
          "2020-09-17",
          "2020-09-18",
          "2020-09-21",
          "2020-09-22",
          "2020-09-23",
          "2020-09-24",
          "2020-09-25",
          "2020-09-28",
          "2020-09-29",
          "2020-09-30",
          "2020-10-01",
          "2020-10-02",
          "2020-10-05",
          "2020-10-06",
          "2020-10-07",
          "2020-10-08",
          "2020-10-09",
          "2020-10-12",
          "2020-10-13",
          "2020-10-14",
          "2020-10-15",
          "2020-10-16",
          "2020-10-19",
          "2020-10-20",
          "2020-10-21",
          "2020-10-22",
          "2020-10-23",
          "2020-10-26",
          "2020-10-27",
          "2020-10-28",
          "2020-10-29",
          "2020-10-30",
          "2020-11-02",
          "2020-11-03",
          "2020-11-04",
          "2020-11-05",
          "2020-11-06",
          "2020-11-09",
          "2020-11-10",
          "2020-11-11",
          "2020-11-12",
          "2020-11-13",
          "2020-11-16",
          "2020-11-17",
          "2020-11-18",
          "2020-11-19",
          "2020-11-20",
          "2020-11-23",
          "2020-11-24",
          "2020-11-25",
          "2020-11-27",
          "2020-11-30",
          "2020-12-01",
          "2020-12-02",
          "2020-12-03",
          "2020-12-04",
          "2020-12-07",
          "2020-12-08",
          "2020-12-09",
          "2020-12-10",
          "2020-12-11",
          "2020-12-14",
          "2020-12-15",
          "2020-12-16",
          "2020-12-17",
          "2020-12-18",
          "2020-12-21",
          "2020-12-22",
          "2020-12-23",
          "2020-12-24",
          "2020-12-28",
          "2020-12-29",
          "2020-12-30",
          "2020-12-31",
          "2021-01-04",
          "2021-01-05",
          "2021-01-06",
          "2021-01-07",
          "2021-01-08",
          "2021-01-11",
          "2021-01-12",
          "2021-01-13",
          "2021-01-14",
          "2021-01-15",
          "2021-01-19",
          "2021-01-20",
          "2021-01-21",
          "2021-01-22",
          "2021-01-25",
          "2021-01-26",
          "2021-01-27",
          "2021-01-28",
          "2021-01-29",
          "2021-02-01",
          "2021-02-02",
          "2021-02-03",
          "2021-02-04",
          "2021-02-05",
          "2021-02-08",
          "2021-02-09",
          "2021-02-10",
          "2021-02-11",
          "2021-02-12",
          "2021-02-16",
          "2021-02-17",
          "2021-02-18",
          "2021-02-19",
          "2021-02-22",
          "2021-02-23",
          "2021-02-24",
          "2021-02-25",
          "2021-02-26",
          "2021-03-01",
          "2021-03-02",
          "2021-03-03",
          "2021-03-04",
          "2021-03-05",
          "2021-03-08",
          "2021-03-09",
          "2021-03-10",
          "2021-03-11",
          "2021-03-12",
          "2021-03-15",
          "2021-03-16",
          "2021-03-17",
          "2021-03-18",
          "2021-03-19",
          "2021-03-22",
          "2021-03-23",
          "2021-03-24",
          "2021-03-25",
          "2021-03-26",
          "2021-03-29",
          "2021-03-30",
          "2021-03-31",
          "2021-04-01",
          "2021-04-05",
          "2021-04-06",
          "2021-04-07",
          "2021-04-08",
          "2021-04-09",
          "2021-04-12",
          "2021-04-13",
          "2021-04-14",
          "2021-04-15",
          "2021-04-16",
          "2021-04-19",
          "2021-04-20",
          "2021-04-21",
          "2021-04-22",
          "2021-04-23",
          "2021-04-26",
          "2021-04-27",
          "2021-04-28",
          "2021-04-29",
          "2021-04-30",
          "2021-05-03",
          "2021-05-04",
          "2021-05-05",
          "2021-05-06",
          "2021-05-07",
          "2021-05-10",
          "2021-05-11",
          "2021-05-12",
          "2021-05-13",
          "2021-05-14",
          "2021-05-17",
          "2021-05-18",
          "2021-05-19",
          "2021-05-20",
          "2021-05-21",
          "2021-05-24",
          "2021-05-25",
          "2021-05-26",
          "2021-05-27",
          "2021-05-28",
          "2021-06-01",
          "2021-06-02",
          "2021-06-03",
          "2021-06-04",
          "2021-06-07",
          "2021-06-08",
          "2021-06-09",
          "2021-06-10",
          "2021-06-11",
          "2021-06-14",
          "2021-06-15",
          "2021-06-16",
          "2021-06-17",
          "2021-06-18",
          "2021-06-21",
          "2021-06-22",
          "2021-06-23",
          "2021-06-24",
          "2021-06-25",
          "2021-06-28",
          "2021-06-29",
          "2021-06-30",
          "2021-07-01",
          "2021-07-02",
          "2021-07-06",
          "2021-07-07",
          "2021-07-08",
          "2021-07-09",
          "2021-07-12",
          "2021-07-13",
          "2021-07-14",
          "2021-07-15",
          "2021-07-16",
          "2021-07-19",
          "2021-07-20",
          "2021-07-21",
          "2021-07-22",
          "2021-07-23",
          "2021-07-26",
          "2021-07-27",
          "2021-07-28",
          "2021-07-29",
          "2021-07-30",
          "2021-08-02",
          "2021-08-03",
          "2021-08-04",
          "2021-08-05",
          "2021-08-06",
          "2021-08-09",
          "2021-08-10",
          "2021-08-11",
          "2021-08-12",
          "2021-08-13",
          "2021-08-16",
          "2021-08-17",
          "2021-08-18",
          "2021-08-19",
          "2021-08-20",
          "2021-08-23",
          "2021-08-24",
          "2021-08-25",
          "2021-08-26",
          "2021-08-27",
          "2021-08-30",
          "2021-08-31",
          "2021-09-01",
          "2021-09-02",
          "2021-09-03",
          "2021-09-07",
          "2021-09-08",
          "2021-09-09",
          "2021-09-10",
          "2021-09-13",
          "2021-09-14",
          "2021-09-15",
          "2021-09-16",
          "2021-09-17",
          "2021-09-20",
          "2021-09-21",
          "2021-09-22",
          "2021-09-23",
          "2021-09-24",
          "2021-09-27",
          "2021-09-28",
          "2021-09-29",
          "2021-09-30",
          "2021-10-01",
          "2021-10-04",
          "2021-10-05",
          "2021-10-06",
          "2021-10-07",
          "2021-10-08",
          "2021-10-11",
          "2021-10-12",
          "2021-10-13",
          "2021-10-14",
          "2021-10-15",
          "2021-10-18",
          "2021-10-19",
          "2021-10-20",
          "2021-10-21",
          "2021-10-22",
          "2021-10-25",
          "2021-10-26",
          "2021-10-27",
          "2021-10-28",
          "2021-10-29",
          "2021-11-01",
          "2021-11-02",
          "2021-11-03",
          "2021-11-04",
          "2021-11-05",
          "2021-11-08",
          "2021-11-09",
          "2021-11-10",
          "2021-11-11",
          "2021-11-12",
          "2021-11-15",
          "2021-11-16",
          "2021-11-17",
          "2021-11-18",
          "2021-11-19",
          "2021-11-22",
          "2021-11-23",
          "2021-11-24",
          "2021-11-26",
          "2021-11-29",
          "2021-11-30",
          "2021-12-01",
          "2021-12-02",
          "2021-12-03",
          "2021-12-06",
          "2021-12-07",
          "2021-12-08",
          "2021-12-09",
          "2021-12-10",
          "2021-12-13",
          "2021-12-14",
          "2021-12-15",
          "2021-12-16",
          "2021-12-17",
          "2021-12-20",
          "2021-12-21",
          "2021-12-22",
          "2021-12-23",
          "2021-12-27",
          "2021-12-28",
          "2021-12-29",
          "2021-12-30",
          "2021-12-31",
          "2022-01-03",
          "2022-01-04",
          "2022-01-05",
          "2022-01-06",
          "2022-01-07",
          "2022-01-10",
          "2022-01-11",
          "2022-01-12",
          "2022-01-13",
          "2022-01-14",
          "2022-01-18",
          "2022-01-19",
          "2022-01-20",
          "2022-01-21",
          "2022-01-24",
          "2022-01-25",
          "2022-01-26",
          "2022-01-27",
          "2022-01-28",
          "2022-01-31",
          "2022-02-01",
          "2022-02-02",
          "2022-02-03",
          "2022-02-04",
          "2022-02-07",
          "2022-02-08",
          "2022-02-09",
          "2022-02-10",
          "2022-02-11",
          "2022-02-14",
          "2022-02-15",
          "2022-02-16",
          "2022-02-17",
          "2022-02-18",
          "2022-02-22",
          "2022-02-23",
          "2022-02-24",
          "2022-02-25",
          "2022-02-28",
          "2022-03-01",
          "2022-03-02",
          "2022-03-03",
          "2022-03-04",
          "2022-03-07",
          "2022-03-08",
          "2022-03-09",
          "2022-03-10",
          "2022-03-11",
          "2022-03-14",
          "2022-03-15",
          "2022-03-16",
          "2022-03-17",
          "2022-03-18",
          "2022-03-21",
          "2022-03-22",
          "2022-03-23",
          "2022-03-24",
          "2022-03-25",
          "2022-03-28",
          "2022-03-29",
          "2022-03-30",
          "2022-03-31",
          "2022-04-01",
          "2022-04-04",
          "2022-04-05",
          "2022-04-06",
          "2022-04-07",
          "2022-04-08",
          "2022-04-11",
          "2022-04-12",
          "2022-04-13",
          "2022-04-14",
          "2022-04-18",
          "2022-04-19",
          "2022-04-20",
          "2022-04-21",
          "2022-04-22",
          "2022-04-25",
          "2022-04-26",
          "2022-04-27",
          "2022-04-28",
          "2022-04-29",
          "2022-05-02",
          "2022-05-03",
          "2022-05-04",
          "2022-05-05",
          "2022-05-06",
          "2022-05-09",
          "2022-05-10",
          "2022-05-11",
          "2022-05-12",
          "2022-05-13",
          "2022-05-16",
          "2022-05-17",
          "2022-05-18",
          "2022-05-19",
          "2022-05-20",
          "2022-05-23",
          "2022-05-24",
          "2022-05-25",
          "2022-05-26",
          "2022-05-27",
          "2022-05-31",
          "2022-06-01",
          "2022-06-02",
          "2022-06-03",
          "2022-06-06",
          "2022-06-07",
          "2022-06-08",
          "2022-06-09",
          "2022-06-10",
          "2022-06-13",
          "2022-06-14",
          "2022-06-15",
          "2022-06-16",
          "2022-06-17",
          "2022-06-21",
          "2022-06-22",
          "2022-06-23",
          "2022-06-24",
          "2022-06-27",
          "2022-06-28",
          "2022-06-29",
          "2022-06-30",
          "2022-07-01",
          "2022-07-05",
          "2022-07-06",
          "2022-07-07",
          "2022-07-08",
          "2022-07-11",
          "2022-07-12",
          "2022-07-13",
          "2022-07-14",
          "2022-07-15",
          "2022-07-18",
          "2022-07-19",
          "2022-07-20",
          "2022-07-21",
          "2022-07-22",
          "2022-07-25",
          "2022-07-26",
          "2022-07-27",
          "2022-07-28",
          "2022-07-29",
          "2022-08-01",
          "2022-08-02",
          "2022-08-03",
          "2022-08-04",
          "2022-08-05",
          "2022-08-08",
          "2022-08-09",
          "2022-08-10",
          "2022-08-11",
          "2022-08-12",
          "2022-08-15",
          "2022-08-16",
          "2022-08-17",
          "2022-08-18",
          "2022-08-19",
          "2022-08-22",
          "2022-08-23",
          "2022-08-24",
          "2022-08-25",
          "2022-08-26"
         ],
         "xaxis": "x",
         "y": [
          4,
          4,
          4,
          4,
          16,
          16,
          16,
          16,
          16,
          33,
          33,
          33,
          33,
          33,
          391,
          391,
          391,
          391,
          391,
          3465,
          3465,
          3465,
          3465,
          3465,
          27486,
          27486,
          27486,
          27486,
          27486,
          94894,
          94894,
          94894,
          94894,
          94894,
          176151,
          176151,
          176151,
          176151,
          219172,
          219172,
          219172,
          219172,
          219172,
          196150,
          196150,
          196150,
          196150,
          196150,
          205165,
          205165,
          205165,
          205165,
          205165,
          198436,
          198436,
          198436,
          198436,
          198436,
          182246,
          182246,
          182246,
          182246,
          182246,
          169032,
          169032,
          169032,
          169032,
          169032,
          166325,
          166325,
          166325,
          166325,
          146436,
          146436,
          146436,
          146436,
          146436,
          149780,
          149780,
          149780,
          149780,
          149780,
          151876,
          151876,
          151876,
          151876,
          151876,
          180021,
          180021,
          180021,
          180021,
          180021,
          258278,
          258278,
          258278,
          258278,
          342166,
          342166,
          342166,
          342166,
          342166,
          392205,
          392205,
          392205,
          392205,
          392205,
          466267,
          466267,
          466267,
          466267,
          466267,
          467901,
          467901,
          467901,
          467901,
          467901,
          431250,
          431250,
          431250,
          431250,
          431250,
          375909,
          375909,
          375909,
          375909,
          375909,
          362662,
          362662,
          362662,
          362662,
          362662,
          315788,
          315788,
          315788,
          315788,
          315788,
          294946,
          294946,
          294946,
          294946,
          294946,
          295253,
          295253,
          295253,
          295253,
          245621,
          245621,
          245621,
          245621,
          245621,
          280977,
          280977,
          280977,
          280977,
          280977,
          304774,
          304774,
          304774,
          304774,
          304774,
          298348,
          298348,
          298348,
          298348,
          298348,
          334249,
          334249,
          334249,
          334249,
          334249,
          387634,
          387634,
          387634,
          387634,
          387634,
          449438,
          449438,
          449438,
          449438,
          449438,
          559394,
          559394,
          559394,
          559394,
          559394,
          790094,
          790094,
          790094,
          790094,
          790094,
          1004845,
          1004845,
          1004845,
          1004845,
          1004845,
          1175483,
          1175483,
          1175483,
          1175483,
          1162401,
          1162401,
          1162401,
          1162401,
          1162401,
          1280932,
          1280932,
          1280932,
          1280932,
          1280932,
          1468482,
          1468482,
          1468482,
          1468482,
          1468482,
          1517928,
          1517928,
          1517928,
          1517928,
          1360122,
          1360122,
          1360122,
          1360122,
          1380995,
          1380995,
          1380995,
          1380995,
          1380995,
          1667151,
          1667151,
          1667151,
          1667151,
          1667151,
          1589955,
          1589955,
          1589955,
          1589955,
          1265861,
          1265861,
          1265861,
          1265861,
          1265861,
          1068625,
          1068625,
          1068625,
          1068625,
          1068625,
          857250,
          857250,
          857250,
          857250,
          857250,
          670572,
          670572,
          670572,
          670572,
          473485,
          473485,
          473485,
          473485,
          473485,
          465751,
          465751,
          465751,
          465751,
          465751,
          420739,
          420739,
          420739,
          420739,
          420739,
          384000,
          384000,
          384000,
          384000,
          384000,
          379551,
          379551,
          379551,
          379551,
          379551,
          417818,
          417818,
          417818,
          417818,
          449960,
          449960,
          449960,
          449960,
          449960,
          455950,
          455950,
          455950,
          455950,
          455950,
          467217,
          467217,
          467217,
          467217,
          467217,
          406095,
          406095,
          406095,
          406095,
          406095,
          338407,
          338407,
          338407,
          338407,
          338407,
          292324,
          292324,
          292324,
          292324,
          292324,
          233350,
          233350,
          233350,
          233350,
          233350,
          181609,
          181609,
          181609,
          181609,
          181609,
          147811,
          147811,
          147811,
          147811,
          99112,
          99112,
          99112,
          99112,
          99112,
          99565,
          99565,
          99565,
          99565,
          99565,
          80627,
          80627,
          80627,
          80627,
          80627,
          87637,
          87637,
          87637,
          87637,
          87637,
          97037,
          97037,
          97037,
          97037,
          286510,
          286510,
          286510,
          286510,
          286510,
          222579,
          222579,
          222579,
          222579,
          222579,
          359027,
          359027,
          359027,
          359027,
          359027,
          547086,
          547086,
          547086,
          547086,
          547086,
          743056,
          743056,
          743056,
          743056,
          743056,
          886464,
          886464,
          886464,
          886464,
          886464,
          1019966,
          1019966,
          1019966,
          1019966,
          1019966,
          1094890,
          1094890,
          1094890,
          1094890,
          1094890,
          1144251,
          1144251,
          1144251,
          1144251,
          1022570,
          1022570,
          1022570,
          1022570,
          1022570,
          1037454,
          1037454,
          1037454,
          1037454,
          1037454,
          852294,
          852294,
          852294,
          852294,
          852294,
          755688,
          755688,
          755688,
          755688,
          755688,
          681984,
          681984,
          681984,
          681984,
          681984,
          582237,
          582237,
          582237,
          582237,
          582237,
          508543,
          508543,
          508543,
          508543,
          508543,
          526186,
          526186,
          526186,
          526186,
          526186,
          510211,
          510211,
          510211,
          510211,
          510211,
          557180,
          557180,
          557180,
          557180,
          557180,
          676876,
          676876,
          676876,
          676876,
          592394,
          592394,
          592394,
          592394,
          592394,
          751017,
          751017,
          751017,
          751017,
          751017,
          834969,
          834969,
          834969,
          834969,
          834969,
          899109,
          899109,
          899109,
          899109,
          1417419,
          1417419,
          1417419,
          1417419,
          1417419,
          2712038,
          2712038,
          2712038,
          2712038,
          2712038,
          4682897,
          4682897,
          4682897,
          4682897,
          4682897,
          5650933,
          5650933,
          5650933,
          5650933,
          5042888,
          5042888,
          5042888,
          5042888,
          5042888,
          3789262,
          3789262,
          3789262,
          3789262,
          3789262,
          2188710,
          2188710,
          2188710,
          2188710,
          2188710,
          1222112,
          1222112,
          1222112,
          1222112,
          1222112,
          708156,
          708156,
          708156,
          708156,
          458272,
          458272,
          458272,
          458272,
          458272,
          332509,
          332509,
          332509,
          332509,
          332509,
          234332,
          234332,
          234332,
          234332,
          234332,
          208740,
          208740,
          208740,
          208740,
          208740,
          193469,
          193469,
          193469,
          193469,
          193469,
          194464,
          194464,
          194464,
          194464,
          194464,
          201192,
          201192,
          201192,
          201192,
          247939,
          247939,
          247939,
          247939,
          247939,
          300721,
          300721,
          300721,
          300721,
          300721,
          378549,
          378549,
          378549,
          378549,
          378549,
          465658,
          465658,
          465658,
          465658,
          465658,
          604955,
          604955,
          604955,
          604955,
          604955,
          734495,
          734495,
          734495,
          734495,
          734495,
          740720,
          740720,
          740720,
          740720,
          675627,
          675627,
          675627,
          675627,
          675627,
          741044,
          741044,
          741044,
          741044,
          741044,
          672256,
          672256,
          672256,
          672256,
          709637,
          709637,
          709637,
          709637,
          709637,
          773772,
          773772,
          773772,
          773772,
          743769,
          743769,
          743769,
          743769,
          743769,
          888229,
          888229,
          888229,
          888229,
          888229,
          908695,
          908695,
          908695,
          908695,
          908695,
          947983,
          947983,
          947983,
          947983,
          947983,
          788051,
          788051,
          788051,
          788051,
          788051,
          701618,
          701618,
          701618,
          701618,
          701618,
          644925,
          644925,
          644925,
          644925,
          644925
         ],
         "yaxis": "y"
        }
       ],
       "layout": {
        "legend": {
         "tracegroupgap": 0
        },
        "plot_bgcolor": "black",
        "template": {
         "data": {
          "bar": [
           {
            "error_x": {
             "color": "#f2f5fa"
            },
            "error_y": {
             "color": "#f2f5fa"
            },
            "marker": {
             "line": {
              "color": "rgb(17,17,17)",
              "width": 0.5
             },
             "pattern": {
              "fillmode": "overlay",
              "size": 10,
              "solidity": 0.2
             }
            },
            "type": "bar"
           }
          ],
          "barpolar": [
           {
            "marker": {
             "line": {
              "color": "rgb(17,17,17)",
              "width": 0.5
             },
             "pattern": {
              "fillmode": "overlay",
              "size": 10,
              "solidity": 0.2
             }
            },
            "type": "barpolar"
           }
          ],
          "carpet": [
           {
            "aaxis": {
             "endlinecolor": "#A2B1C6",
             "gridcolor": "#506784",
             "linecolor": "#506784",
             "minorgridcolor": "#506784",
             "startlinecolor": "#A2B1C6"
            },
            "baxis": {
             "endlinecolor": "#A2B1C6",
             "gridcolor": "#506784",
             "linecolor": "#506784",
             "minorgridcolor": "#506784",
             "startlinecolor": "#A2B1C6"
            },
            "type": "carpet"
           }
          ],
          "choropleth": [
           {
            "colorbar": {
             "outlinewidth": 0,
             "ticks": ""
            },
            "type": "choropleth"
           }
          ],
          "contour": [
           {
            "colorbar": {
             "outlinewidth": 0,
             "ticks": ""
            },
            "colorscale": [
             [
              0,
              "#0d0887"
             ],
             [
              0.1111111111111111,
              "#46039f"
             ],
             [
              0.2222222222222222,
              "#7201a8"
             ],
             [
              0.3333333333333333,
              "#9c179e"
             ],
             [
              0.4444444444444444,
              "#bd3786"
             ],
             [
              0.5555555555555556,
              "#d8576b"
             ],
             [
              0.6666666666666666,
              "#ed7953"
             ],
             [
              0.7777777777777778,
              "#fb9f3a"
             ],
             [
              0.8888888888888888,
              "#fdca26"
             ],
             [
              1,
              "#f0f921"
             ]
            ],
            "type": "contour"
           }
          ],
          "contourcarpet": [
           {
            "colorbar": {
             "outlinewidth": 0,
             "ticks": ""
            },
            "type": "contourcarpet"
           }
          ],
          "heatmap": [
           {
            "colorbar": {
             "outlinewidth": 0,
             "ticks": ""
            },
            "colorscale": [
             [
              0,
              "#0d0887"
             ],
             [
              0.1111111111111111,
              "#46039f"
             ],
             [
              0.2222222222222222,
              "#7201a8"
             ],
             [
              0.3333333333333333,
              "#9c179e"
             ],
             [
              0.4444444444444444,
              "#bd3786"
             ],
             [
              0.5555555555555556,
              "#d8576b"
             ],
             [
              0.6666666666666666,
              "#ed7953"
             ],
             [
              0.7777777777777778,
              "#fb9f3a"
             ],
             [
              0.8888888888888888,
              "#fdca26"
             ],
             [
              1,
              "#f0f921"
             ]
            ],
            "type": "heatmap"
           }
          ],
          "heatmapgl": [
           {
            "colorbar": {
             "outlinewidth": 0,
             "ticks": ""
            },
            "colorscale": [
             [
              0,
              "#0d0887"
             ],
             [
              0.1111111111111111,
              "#46039f"
             ],
             [
              0.2222222222222222,
              "#7201a8"
             ],
             [
              0.3333333333333333,
              "#9c179e"
             ],
             [
              0.4444444444444444,
              "#bd3786"
             ],
             [
              0.5555555555555556,
              "#d8576b"
             ],
             [
              0.6666666666666666,
              "#ed7953"
             ],
             [
              0.7777777777777778,
              "#fb9f3a"
             ],
             [
              0.8888888888888888,
              "#fdca26"
             ],
             [
              1,
              "#f0f921"
             ]
            ],
            "type": "heatmapgl"
           }
          ],
          "histogram": [
           {
            "marker": {
             "pattern": {
              "fillmode": "overlay",
              "size": 10,
              "solidity": 0.2
             }
            },
            "type": "histogram"
           }
          ],
          "histogram2d": [
           {
            "colorbar": {
             "outlinewidth": 0,
             "ticks": ""
            },
            "colorscale": [
             [
              0,
              "#0d0887"
             ],
             [
              0.1111111111111111,
              "#46039f"
             ],
             [
              0.2222222222222222,
              "#7201a8"
             ],
             [
              0.3333333333333333,
              "#9c179e"
             ],
             [
              0.4444444444444444,
              "#bd3786"
             ],
             [
              0.5555555555555556,
              "#d8576b"
             ],
             [
              0.6666666666666666,
              "#ed7953"
             ],
             [
              0.7777777777777778,
              "#fb9f3a"
             ],
             [
              0.8888888888888888,
              "#fdca26"
             ],
             [
              1,
              "#f0f921"
             ]
            ],
            "type": "histogram2d"
           }
          ],
          "histogram2dcontour": [
           {
            "colorbar": {
             "outlinewidth": 0,
             "ticks": ""
            },
            "colorscale": [
             [
              0,
              "#0d0887"
             ],
             [
              0.1111111111111111,
              "#46039f"
             ],
             [
              0.2222222222222222,
              "#7201a8"
             ],
             [
              0.3333333333333333,
              "#9c179e"
             ],
             [
              0.4444444444444444,
              "#bd3786"
             ],
             [
              0.5555555555555556,
              "#d8576b"
             ],
             [
              0.6666666666666666,
              "#ed7953"
             ],
             [
              0.7777777777777778,
              "#fb9f3a"
             ],
             [
              0.8888888888888888,
              "#fdca26"
             ],
             [
              1,
              "#f0f921"
             ]
            ],
            "type": "histogram2dcontour"
           }
          ],
          "mesh3d": [
           {
            "colorbar": {
             "outlinewidth": 0,
             "ticks": ""
            },
            "type": "mesh3d"
           }
          ],
          "parcoords": [
           {
            "line": {
             "colorbar": {
              "outlinewidth": 0,
              "ticks": ""
             }
            },
            "type": "parcoords"
           }
          ],
          "pie": [
           {
            "automargin": true,
            "type": "pie"
           }
          ],
          "scatter": [
           {
            "marker": {
             "line": {
              "color": "#283442"
             }
            },
            "type": "scatter"
           }
          ],
          "scatter3d": [
           {
            "line": {
             "colorbar": {
              "outlinewidth": 0,
              "ticks": ""
             }
            },
            "marker": {
             "colorbar": {
              "outlinewidth": 0,
              "ticks": ""
             }
            },
            "type": "scatter3d"
           }
          ],
          "scattercarpet": [
           {
            "marker": {
             "colorbar": {
              "outlinewidth": 0,
              "ticks": ""
             }
            },
            "type": "scattercarpet"
           }
          ],
          "scattergeo": [
           {
            "marker": {
             "colorbar": {
              "outlinewidth": 0,
              "ticks": ""
             }
            },
            "type": "scattergeo"
           }
          ],
          "scattergl": [
           {
            "marker": {
             "line": {
              "color": "#283442"
             }
            },
            "type": "scattergl"
           }
          ],
          "scattermapbox": [
           {
            "marker": {
             "colorbar": {
              "outlinewidth": 0,
              "ticks": ""
             }
            },
            "type": "scattermapbox"
           }
          ],
          "scatterpolar": [
           {
            "marker": {
             "colorbar": {
              "outlinewidth": 0,
              "ticks": ""
             }
            },
            "type": "scatterpolar"
           }
          ],
          "scatterpolargl": [
           {
            "marker": {
             "colorbar": {
              "outlinewidth": 0,
              "ticks": ""
             }
            },
            "type": "scatterpolargl"
           }
          ],
          "scatterternary": [
           {
            "marker": {
             "colorbar": {
              "outlinewidth": 0,
              "ticks": ""
             }
            },
            "type": "scatterternary"
           }
          ],
          "surface": [
           {
            "colorbar": {
             "outlinewidth": 0,
             "ticks": ""
            },
            "colorscale": [
             [
              0,
              "#0d0887"
             ],
             [
              0.1111111111111111,
              "#46039f"
             ],
             [
              0.2222222222222222,
              "#7201a8"
             ],
             [
              0.3333333333333333,
              "#9c179e"
             ],
             [
              0.4444444444444444,
              "#bd3786"
             ],
             [
              0.5555555555555556,
              "#d8576b"
             ],
             [
              0.6666666666666666,
              "#ed7953"
             ],
             [
              0.7777777777777778,
              "#fb9f3a"
             ],
             [
              0.8888888888888888,
              "#fdca26"
             ],
             [
              1,
              "#f0f921"
             ]
            ],
            "type": "surface"
           }
          ],
          "table": [
           {
            "cells": {
             "fill": {
              "color": "#506784"
             },
             "line": {
              "color": "rgb(17,17,17)"
             }
            },
            "header": {
             "fill": {
              "color": "#2a3f5f"
             },
             "line": {
              "color": "rgb(17,17,17)"
             }
            },
            "type": "table"
           }
          ]
         },
         "layout": {
          "annotationdefaults": {
           "arrowcolor": "#f2f5fa",
           "arrowhead": 0,
           "arrowwidth": 1
          },
          "autotypenumbers": "strict",
          "coloraxis": {
           "colorbar": {
            "outlinewidth": 0,
            "ticks": ""
           }
          },
          "colorscale": {
           "diverging": [
            [
             0,
             "#8e0152"
            ],
            [
             0.1,
             "#c51b7d"
            ],
            [
             0.2,
             "#de77ae"
            ],
            [
             0.3,
             "#f1b6da"
            ],
            [
             0.4,
             "#fde0ef"
            ],
            [
             0.5,
             "#f7f7f7"
            ],
            [
             0.6,
             "#e6f5d0"
            ],
            [
             0.7,
             "#b8e186"
            ],
            [
             0.8,
             "#7fbc41"
            ],
            [
             0.9,
             "#4d9221"
            ],
            [
             1,
             "#276419"
            ]
           ],
           "sequential": [
            [
             0,
             "#0d0887"
            ],
            [
             0.1111111111111111,
             "#46039f"
            ],
            [
             0.2222222222222222,
             "#7201a8"
            ],
            [
             0.3333333333333333,
             "#9c179e"
            ],
            [
             0.4444444444444444,
             "#bd3786"
            ],
            [
             0.5555555555555556,
             "#d8576b"
            ],
            [
             0.6666666666666666,
             "#ed7953"
            ],
            [
             0.7777777777777778,
             "#fb9f3a"
            ],
            [
             0.8888888888888888,
             "#fdca26"
            ],
            [
             1,
             "#f0f921"
            ]
           ],
           "sequentialminus": [
            [
             0,
             "#0d0887"
            ],
            [
             0.1111111111111111,
             "#46039f"
            ],
            [
             0.2222222222222222,
             "#7201a8"
            ],
            [
             0.3333333333333333,
             "#9c179e"
            ],
            [
             0.4444444444444444,
             "#bd3786"
            ],
            [
             0.5555555555555556,
             "#d8576b"
            ],
            [
             0.6666666666666666,
             "#ed7953"
            ],
            [
             0.7777777777777778,
             "#fb9f3a"
            ],
            [
             0.8888888888888888,
             "#fdca26"
            ],
            [
             1,
             "#f0f921"
            ]
           ]
          },
          "colorway": [
           "#636efa",
           "#EF553B",
           "#00cc96",
           "#ab63fa",
           "#FFA15A",
           "#19d3f3",
           "#FF6692",
           "#B6E880",
           "#FF97FF",
           "#FECB52"
          ],
          "font": {
           "color": "#f2f5fa"
          },
          "geo": {
           "bgcolor": "rgb(17,17,17)",
           "lakecolor": "rgb(17,17,17)",
           "landcolor": "rgb(17,17,17)",
           "showlakes": true,
           "showland": true,
           "subunitcolor": "#506784"
          },
          "hoverlabel": {
           "align": "left"
          },
          "hovermode": "closest",
          "mapbox": {
           "style": "dark"
          },
          "paper_bgcolor": "rgb(17,17,17)",
          "plot_bgcolor": "rgb(17,17,17)",
          "polar": {
           "angularaxis": {
            "gridcolor": "#506784",
            "linecolor": "#506784",
            "ticks": ""
           },
           "bgcolor": "rgb(17,17,17)",
           "radialaxis": {
            "gridcolor": "#506784",
            "linecolor": "#506784",
            "ticks": ""
           }
          },
          "scene": {
           "xaxis": {
            "backgroundcolor": "rgb(17,17,17)",
            "gridcolor": "#506784",
            "gridwidth": 2,
            "linecolor": "#506784",
            "showbackground": true,
            "ticks": "",
            "zerolinecolor": "#C8D4E3"
           },
           "yaxis": {
            "backgroundcolor": "rgb(17,17,17)",
            "gridcolor": "#506784",
            "gridwidth": 2,
            "linecolor": "#506784",
            "showbackground": true,
            "ticks": "",
            "zerolinecolor": "#C8D4E3"
           },
           "zaxis": {
            "backgroundcolor": "rgb(17,17,17)",
            "gridcolor": "#506784",
            "gridwidth": 2,
            "linecolor": "#506784",
            "showbackground": true,
            "ticks": "",
            "zerolinecolor": "#C8D4E3"
           }
          },
          "shapedefaults": {
           "line": {
            "color": "#f2f5fa"
           }
          },
          "sliderdefaults": {
           "bgcolor": "#C8D4E3",
           "bordercolor": "rgb(17,17,17)",
           "borderwidth": 1,
           "tickwidth": 0
          },
          "ternary": {
           "aaxis": {
            "gridcolor": "#506784",
            "linecolor": "#506784",
            "ticks": ""
           },
           "baxis": {
            "gridcolor": "#506784",
            "linecolor": "#506784",
            "ticks": ""
           },
           "bgcolor": "rgb(17,17,17)",
           "caxis": {
            "gridcolor": "#506784",
            "linecolor": "#506784",
            "ticks": ""
           }
          },
          "title": {
           "x": 0.05
          },
          "updatemenudefaults": {
           "bgcolor": "#506784",
           "borderwidth": 0
          },
          "xaxis": {
           "automargin": true,
           "gridcolor": "#283442",
           "linecolor": "#506784",
           "ticks": "",
           "title": {
            "standoff": 15
           },
           "zerolinecolor": "#283442",
           "zerolinewidth": 2
          },
          "yaxis": {
           "automargin": true,
           "gridcolor": "#283442",
           "linecolor": "#506784",
           "ticks": "",
           "title": {
            "standoff": 15
           },
           "zerolinecolor": "#283442",
           "zerolinewidth": 2
          }
         }
        },
        "title": {
         "font": {
          "size": 24
         },
         "text": "USA Weekly Cases"
        },
        "xaxis": {
         "anchor": "y",
         "domain": [
          0,
          1
         ],
         "gridcolor": "red",
         "gridwidth": 1,
         "showgrid": true,
         "title": {
          "text": "date"
         }
        },
        "yaxis": {
         "anchor": "x",
         "domain": [
          0,
          1
         ],
         "gridcolor": "red",
         "gridwidth": 1,
         "showgrid": true,
         "title": {
          "text": "Cases in week"
         }
        }
       }
      },
      "text/html": [
       "<div>                            <div id=\"6223b096-29b2-4278-8a4f-5a1f385ac9ca\" class=\"plotly-graph-div\" style=\"height:525px; width:100%;\"></div>            <script type=\"text/javascript\">                require([\"plotly\"], function(Plotly) {                    window.PLOTLYENV=window.PLOTLYENV || {};                                    if (document.getElementById(\"6223b096-29b2-4278-8a4f-5a1f385ac9ca\")) {                    Plotly.newPlot(                        \"6223b096-29b2-4278-8a4f-5a1f385ac9ca\",                        [{\"fillpattern\":{\"shape\":\"\"},\"hovertemplate\":\"date=%{x}\\u003cbr\\u003eweekly_cases=%{y}\\u003cextra\\u003e\\u003c\\u002fextra\\u003e\",\"legendgroup\":\"\",\"line\":{\"color\":\"cyan\",\"width\":2},\"marker\":{\"symbol\":\"circle\"},\"mode\":\"lines\",\"name\":\"\",\"orientation\":\"v\",\"showlegend\":false,\"stackgroup\":\"1\",\"x\":[\"2020-02-18\",\"2020-02-19\",\"2020-02-20\",\"2020-02-21\",\"2020-02-24\",\"2020-02-25\",\"2020-02-26\",\"2020-02-27\",\"2020-02-28\",\"2020-03-02\",\"2020-03-03\",\"2020-03-04\",\"2020-03-05\",\"2020-03-06\",\"2020-03-09\",\"2020-03-10\",\"2020-03-11\",\"2020-03-12\",\"2020-03-13\",\"2020-03-16\",\"2020-03-17\",\"2020-03-18\",\"2020-03-19\",\"2020-03-20\",\"2020-03-23\",\"2020-03-24\",\"2020-03-25\",\"2020-03-26\",\"2020-03-27\",\"2020-03-30\",\"2020-03-31\",\"2020-04-01\",\"2020-04-02\",\"2020-04-03\",\"2020-04-06\",\"2020-04-07\",\"2020-04-08\",\"2020-04-09\",\"2020-04-13\",\"2020-04-14\",\"2020-04-15\",\"2020-04-16\",\"2020-04-17\",\"2020-04-20\",\"2020-04-21\",\"2020-04-22\",\"2020-04-23\",\"2020-04-24\",\"2020-04-27\",\"2020-04-28\",\"2020-04-29\",\"2020-04-30\",\"2020-05-01\",\"2020-05-04\",\"2020-05-05\",\"2020-05-06\",\"2020-05-07\",\"2020-05-08\",\"2020-05-11\",\"2020-05-12\",\"2020-05-13\",\"2020-05-14\",\"2020-05-15\",\"2020-05-18\",\"2020-05-19\",\"2020-05-20\",\"2020-05-21\",\"2020-05-22\",\"2020-05-26\",\"2020-05-27\",\"2020-05-28\",\"2020-05-29\",\"2020-06-01\",\"2020-06-02\",\"2020-06-03\",\"2020-06-04\",\"2020-06-05\",\"2020-06-08\",\"2020-06-09\",\"2020-06-10\",\"2020-06-11\",\"2020-06-12\",\"2020-06-15\",\"2020-06-16\",\"2020-06-17\",\"2020-06-18\",\"2020-06-19\",\"2020-06-22\",\"2020-06-23\",\"2020-06-24\",\"2020-06-25\",\"2020-06-26\",\"2020-06-29\",\"2020-06-30\",\"2020-07-01\",\"2020-07-02\",\"2020-07-06\",\"2020-07-07\",\"2020-07-08\",\"2020-07-09\",\"2020-07-10\",\"2020-07-13\",\"2020-07-14\",\"2020-07-15\",\"2020-07-16\",\"2020-07-17\",\"2020-07-20\",\"2020-07-21\",\"2020-07-22\",\"2020-07-23\",\"2020-07-24\",\"2020-07-27\",\"2020-07-28\",\"2020-07-29\",\"2020-07-30\",\"2020-07-31\",\"2020-08-03\",\"2020-08-04\",\"2020-08-05\",\"2020-08-06\",\"2020-08-07\",\"2020-08-10\",\"2020-08-11\",\"2020-08-12\",\"2020-08-13\",\"2020-08-14\",\"2020-08-17\",\"2020-08-18\",\"2020-08-19\",\"2020-08-20\",\"2020-08-21\",\"2020-08-24\",\"2020-08-25\",\"2020-08-26\",\"2020-08-27\",\"2020-08-28\",\"2020-08-31\",\"2020-09-01\",\"2020-09-02\",\"2020-09-03\",\"2020-09-04\",\"2020-09-08\",\"2020-09-09\",\"2020-09-10\",\"2020-09-11\",\"2020-09-14\",\"2020-09-15\",\"2020-09-16\",\"2020-09-17\",\"2020-09-18\",\"2020-09-21\",\"2020-09-22\",\"2020-09-23\",\"2020-09-24\",\"2020-09-25\",\"2020-09-28\",\"2020-09-29\",\"2020-09-30\",\"2020-10-01\",\"2020-10-02\",\"2020-10-05\",\"2020-10-06\",\"2020-10-07\",\"2020-10-08\",\"2020-10-09\",\"2020-10-12\",\"2020-10-13\",\"2020-10-14\",\"2020-10-15\",\"2020-10-16\",\"2020-10-19\",\"2020-10-20\",\"2020-10-21\",\"2020-10-22\",\"2020-10-23\",\"2020-10-26\",\"2020-10-27\",\"2020-10-28\",\"2020-10-29\",\"2020-10-30\",\"2020-11-02\",\"2020-11-03\",\"2020-11-04\",\"2020-11-05\",\"2020-11-06\",\"2020-11-09\",\"2020-11-10\",\"2020-11-11\",\"2020-11-12\",\"2020-11-13\",\"2020-11-16\",\"2020-11-17\",\"2020-11-18\",\"2020-11-19\",\"2020-11-20\",\"2020-11-23\",\"2020-11-24\",\"2020-11-25\",\"2020-11-27\",\"2020-11-30\",\"2020-12-01\",\"2020-12-02\",\"2020-12-03\",\"2020-12-04\",\"2020-12-07\",\"2020-12-08\",\"2020-12-09\",\"2020-12-10\",\"2020-12-11\",\"2020-12-14\",\"2020-12-15\",\"2020-12-16\",\"2020-12-17\",\"2020-12-18\",\"2020-12-21\",\"2020-12-22\",\"2020-12-23\",\"2020-12-24\",\"2020-12-28\",\"2020-12-29\",\"2020-12-30\",\"2020-12-31\",\"2021-01-04\",\"2021-01-05\",\"2021-01-06\",\"2021-01-07\",\"2021-01-08\",\"2021-01-11\",\"2021-01-12\",\"2021-01-13\",\"2021-01-14\",\"2021-01-15\",\"2021-01-19\",\"2021-01-20\",\"2021-01-21\",\"2021-01-22\",\"2021-01-25\",\"2021-01-26\",\"2021-01-27\",\"2021-01-28\",\"2021-01-29\",\"2021-02-01\",\"2021-02-02\",\"2021-02-03\",\"2021-02-04\",\"2021-02-05\",\"2021-02-08\",\"2021-02-09\",\"2021-02-10\",\"2021-02-11\",\"2021-02-12\",\"2021-02-16\",\"2021-02-17\",\"2021-02-18\",\"2021-02-19\",\"2021-02-22\",\"2021-02-23\",\"2021-02-24\",\"2021-02-25\",\"2021-02-26\",\"2021-03-01\",\"2021-03-02\",\"2021-03-03\",\"2021-03-04\",\"2021-03-05\",\"2021-03-08\",\"2021-03-09\",\"2021-03-10\",\"2021-03-11\",\"2021-03-12\",\"2021-03-15\",\"2021-03-16\",\"2021-03-17\",\"2021-03-18\",\"2021-03-19\",\"2021-03-22\",\"2021-03-23\",\"2021-03-24\",\"2021-03-25\",\"2021-03-26\",\"2021-03-29\",\"2021-03-30\",\"2021-03-31\",\"2021-04-01\",\"2021-04-05\",\"2021-04-06\",\"2021-04-07\",\"2021-04-08\",\"2021-04-09\",\"2021-04-12\",\"2021-04-13\",\"2021-04-14\",\"2021-04-15\",\"2021-04-16\",\"2021-04-19\",\"2021-04-20\",\"2021-04-21\",\"2021-04-22\",\"2021-04-23\",\"2021-04-26\",\"2021-04-27\",\"2021-04-28\",\"2021-04-29\",\"2021-04-30\",\"2021-05-03\",\"2021-05-04\",\"2021-05-05\",\"2021-05-06\",\"2021-05-07\",\"2021-05-10\",\"2021-05-11\",\"2021-05-12\",\"2021-05-13\",\"2021-05-14\",\"2021-05-17\",\"2021-05-18\",\"2021-05-19\",\"2021-05-20\",\"2021-05-21\",\"2021-05-24\",\"2021-05-25\",\"2021-05-26\",\"2021-05-27\",\"2021-05-28\",\"2021-06-01\",\"2021-06-02\",\"2021-06-03\",\"2021-06-04\",\"2021-06-07\",\"2021-06-08\",\"2021-06-09\",\"2021-06-10\",\"2021-06-11\",\"2021-06-14\",\"2021-06-15\",\"2021-06-16\",\"2021-06-17\",\"2021-06-18\",\"2021-06-21\",\"2021-06-22\",\"2021-06-23\",\"2021-06-24\",\"2021-06-25\",\"2021-06-28\",\"2021-06-29\",\"2021-06-30\",\"2021-07-01\",\"2021-07-02\",\"2021-07-06\",\"2021-07-07\",\"2021-07-08\",\"2021-07-09\",\"2021-07-12\",\"2021-07-13\",\"2021-07-14\",\"2021-07-15\",\"2021-07-16\",\"2021-07-19\",\"2021-07-20\",\"2021-07-21\",\"2021-07-22\",\"2021-07-23\",\"2021-07-26\",\"2021-07-27\",\"2021-07-28\",\"2021-07-29\",\"2021-07-30\",\"2021-08-02\",\"2021-08-03\",\"2021-08-04\",\"2021-08-05\",\"2021-08-06\",\"2021-08-09\",\"2021-08-10\",\"2021-08-11\",\"2021-08-12\",\"2021-08-13\",\"2021-08-16\",\"2021-08-17\",\"2021-08-18\",\"2021-08-19\",\"2021-08-20\",\"2021-08-23\",\"2021-08-24\",\"2021-08-25\",\"2021-08-26\",\"2021-08-27\",\"2021-08-30\",\"2021-08-31\",\"2021-09-01\",\"2021-09-02\",\"2021-09-03\",\"2021-09-07\",\"2021-09-08\",\"2021-09-09\",\"2021-09-10\",\"2021-09-13\",\"2021-09-14\",\"2021-09-15\",\"2021-09-16\",\"2021-09-17\",\"2021-09-20\",\"2021-09-21\",\"2021-09-22\",\"2021-09-23\",\"2021-09-24\",\"2021-09-27\",\"2021-09-28\",\"2021-09-29\",\"2021-09-30\",\"2021-10-01\",\"2021-10-04\",\"2021-10-05\",\"2021-10-06\",\"2021-10-07\",\"2021-10-08\",\"2021-10-11\",\"2021-10-12\",\"2021-10-13\",\"2021-10-14\",\"2021-10-15\",\"2021-10-18\",\"2021-10-19\",\"2021-10-20\",\"2021-10-21\",\"2021-10-22\",\"2021-10-25\",\"2021-10-26\",\"2021-10-27\",\"2021-10-28\",\"2021-10-29\",\"2021-11-01\",\"2021-11-02\",\"2021-11-03\",\"2021-11-04\",\"2021-11-05\",\"2021-11-08\",\"2021-11-09\",\"2021-11-10\",\"2021-11-11\",\"2021-11-12\",\"2021-11-15\",\"2021-11-16\",\"2021-11-17\",\"2021-11-18\",\"2021-11-19\",\"2021-11-22\",\"2021-11-23\",\"2021-11-24\",\"2021-11-26\",\"2021-11-29\",\"2021-11-30\",\"2021-12-01\",\"2021-12-02\",\"2021-12-03\",\"2021-12-06\",\"2021-12-07\",\"2021-12-08\",\"2021-12-09\",\"2021-12-10\",\"2021-12-13\",\"2021-12-14\",\"2021-12-15\",\"2021-12-16\",\"2021-12-17\",\"2021-12-20\",\"2021-12-21\",\"2021-12-22\",\"2021-12-23\",\"2021-12-27\",\"2021-12-28\",\"2021-12-29\",\"2021-12-30\",\"2021-12-31\",\"2022-01-03\",\"2022-01-04\",\"2022-01-05\",\"2022-01-06\",\"2022-01-07\",\"2022-01-10\",\"2022-01-11\",\"2022-01-12\",\"2022-01-13\",\"2022-01-14\",\"2022-01-18\",\"2022-01-19\",\"2022-01-20\",\"2022-01-21\",\"2022-01-24\",\"2022-01-25\",\"2022-01-26\",\"2022-01-27\",\"2022-01-28\",\"2022-01-31\",\"2022-02-01\",\"2022-02-02\",\"2022-02-03\",\"2022-02-04\",\"2022-02-07\",\"2022-02-08\",\"2022-02-09\",\"2022-02-10\",\"2022-02-11\",\"2022-02-14\",\"2022-02-15\",\"2022-02-16\",\"2022-02-17\",\"2022-02-18\",\"2022-02-22\",\"2022-02-23\",\"2022-02-24\",\"2022-02-25\",\"2022-02-28\",\"2022-03-01\",\"2022-03-02\",\"2022-03-03\",\"2022-03-04\",\"2022-03-07\",\"2022-03-08\",\"2022-03-09\",\"2022-03-10\",\"2022-03-11\",\"2022-03-14\",\"2022-03-15\",\"2022-03-16\",\"2022-03-17\",\"2022-03-18\",\"2022-03-21\",\"2022-03-22\",\"2022-03-23\",\"2022-03-24\",\"2022-03-25\",\"2022-03-28\",\"2022-03-29\",\"2022-03-30\",\"2022-03-31\",\"2022-04-01\",\"2022-04-04\",\"2022-04-05\",\"2022-04-06\",\"2022-04-07\",\"2022-04-08\",\"2022-04-11\",\"2022-04-12\",\"2022-04-13\",\"2022-04-14\",\"2022-04-18\",\"2022-04-19\",\"2022-04-20\",\"2022-04-21\",\"2022-04-22\",\"2022-04-25\",\"2022-04-26\",\"2022-04-27\",\"2022-04-28\",\"2022-04-29\",\"2022-05-02\",\"2022-05-03\",\"2022-05-04\",\"2022-05-05\",\"2022-05-06\",\"2022-05-09\",\"2022-05-10\",\"2022-05-11\",\"2022-05-12\",\"2022-05-13\",\"2022-05-16\",\"2022-05-17\",\"2022-05-18\",\"2022-05-19\",\"2022-05-20\",\"2022-05-23\",\"2022-05-24\",\"2022-05-25\",\"2022-05-26\",\"2022-05-27\",\"2022-05-31\",\"2022-06-01\",\"2022-06-02\",\"2022-06-03\",\"2022-06-06\",\"2022-06-07\",\"2022-06-08\",\"2022-06-09\",\"2022-06-10\",\"2022-06-13\",\"2022-06-14\",\"2022-06-15\",\"2022-06-16\",\"2022-06-17\",\"2022-06-21\",\"2022-06-22\",\"2022-06-23\",\"2022-06-24\",\"2022-06-27\",\"2022-06-28\",\"2022-06-29\",\"2022-06-30\",\"2022-07-01\",\"2022-07-05\",\"2022-07-06\",\"2022-07-07\",\"2022-07-08\",\"2022-07-11\",\"2022-07-12\",\"2022-07-13\",\"2022-07-14\",\"2022-07-15\",\"2022-07-18\",\"2022-07-19\",\"2022-07-20\",\"2022-07-21\",\"2022-07-22\",\"2022-07-25\",\"2022-07-26\",\"2022-07-27\",\"2022-07-28\",\"2022-07-29\",\"2022-08-01\",\"2022-08-02\",\"2022-08-03\",\"2022-08-04\",\"2022-08-05\",\"2022-08-08\",\"2022-08-09\",\"2022-08-10\",\"2022-08-11\",\"2022-08-12\",\"2022-08-15\",\"2022-08-16\",\"2022-08-17\",\"2022-08-18\",\"2022-08-19\",\"2022-08-22\",\"2022-08-23\",\"2022-08-24\",\"2022-08-25\",\"2022-08-26\"],\"xaxis\":\"x\",\"y\":[4.0,4.0,4.0,4.0,16.0,16.0,16.0,16.0,16.0,33.0,33.0,33.0,33.0,33.0,391.0,391.0,391.0,391.0,391.0,3465.0,3465.0,3465.0,3465.0,3465.0,27486.0,27486.0,27486.0,27486.0,27486.0,94894.0,94894.0,94894.0,94894.0,94894.0,176151.0,176151.0,176151.0,176151.0,219172.0,219172.0,219172.0,219172.0,219172.0,196150.0,196150.0,196150.0,196150.0,196150.0,205165.0,205165.0,205165.0,205165.0,205165.0,198436.0,198436.0,198436.0,198436.0,198436.0,182246.0,182246.0,182246.0,182246.0,182246.0,169032.0,169032.0,169032.0,169032.0,169032.0,166325.0,166325.0,166325.0,166325.0,146436.0,146436.0,146436.0,146436.0,146436.0,149780.0,149780.0,149780.0,149780.0,149780.0,151876.0,151876.0,151876.0,151876.0,151876.0,180021.0,180021.0,180021.0,180021.0,180021.0,258278.0,258278.0,258278.0,258278.0,342166.0,342166.0,342166.0,342166.0,342166.0,392205.0,392205.0,392205.0,392205.0,392205.0,466267.0,466267.0,466267.0,466267.0,466267.0,467901.0,467901.0,467901.0,467901.0,467901.0,431250.0,431250.0,431250.0,431250.0,431250.0,375909.0,375909.0,375909.0,375909.0,375909.0,362662.0,362662.0,362662.0,362662.0,362662.0,315788.0,315788.0,315788.0,315788.0,315788.0,294946.0,294946.0,294946.0,294946.0,294946.0,295253.0,295253.0,295253.0,295253.0,245621.0,245621.0,245621.0,245621.0,245621.0,280977.0,280977.0,280977.0,280977.0,280977.0,304774.0,304774.0,304774.0,304774.0,304774.0,298348.0,298348.0,298348.0,298348.0,298348.0,334249.0,334249.0,334249.0,334249.0,334249.0,387634.0,387634.0,387634.0,387634.0,387634.0,449438.0,449438.0,449438.0,449438.0,449438.0,559394.0,559394.0,559394.0,559394.0,559394.0,790094.0,790094.0,790094.0,790094.0,790094.0,1004845.0,1004845.0,1004845.0,1004845.0,1004845.0,1175483.0,1175483.0,1175483.0,1175483.0,1162401.0,1162401.0,1162401.0,1162401.0,1162401.0,1280932.0,1280932.0,1280932.0,1280932.0,1280932.0,1468482.0,1468482.0,1468482.0,1468482.0,1468482.0,1517928.0,1517928.0,1517928.0,1517928.0,1360122.0,1360122.0,1360122.0,1360122.0,1380995.0,1380995.0,1380995.0,1380995.0,1380995.0,1667151.0,1667151.0,1667151.0,1667151.0,1667151.0,1589955.0,1589955.0,1589955.0,1589955.0,1265861.0,1265861.0,1265861.0,1265861.0,1265861.0,1068625.0,1068625.0,1068625.0,1068625.0,1068625.0,857250.0,857250.0,857250.0,857250.0,857250.0,670572.0,670572.0,670572.0,670572.0,473485.0,473485.0,473485.0,473485.0,473485.0,465751.0,465751.0,465751.0,465751.0,465751.0,420739.0,420739.0,420739.0,420739.0,420739.0,384000.0,384000.0,384000.0,384000.0,384000.0,379551.0,379551.0,379551.0,379551.0,379551.0,417818.0,417818.0,417818.0,417818.0,449960.0,449960.0,449960.0,449960.0,449960.0,455950.0,455950.0,455950.0,455950.0,455950.0,467217.0,467217.0,467217.0,467217.0,467217.0,406095.0,406095.0,406095.0,406095.0,406095.0,338407.0,338407.0,338407.0,338407.0,338407.0,292324.0,292324.0,292324.0,292324.0,292324.0,233350.0,233350.0,233350.0,233350.0,233350.0,181609.0,181609.0,181609.0,181609.0,181609.0,147811.0,147811.0,147811.0,147811.0,99112.0,99112.0,99112.0,99112.0,99112.0,99565.0,99565.0,99565.0,99565.0,99565.0,80627.0,80627.0,80627.0,80627.0,80627.0,87637.0,87637.0,87637.0,87637.0,87637.0,97037.0,97037.0,97037.0,97037.0,286510.0,286510.0,286510.0,286510.0,286510.0,222579.0,222579.0,222579.0,222579.0,222579.0,359027.0,359027.0,359027.0,359027.0,359027.0,547086.0,547086.0,547086.0,547086.0,547086.0,743056.0,743056.0,743056.0,743056.0,743056.0,886464.0,886464.0,886464.0,886464.0,886464.0,1019966.0,1019966.0,1019966.0,1019966.0,1019966.0,1094890.0,1094890.0,1094890.0,1094890.0,1094890.0,1144251.0,1144251.0,1144251.0,1144251.0,1022570.0,1022570.0,1022570.0,1022570.0,1022570.0,1037454.0,1037454.0,1037454.0,1037454.0,1037454.0,852294.0,852294.0,852294.0,852294.0,852294.0,755688.0,755688.0,755688.0,755688.0,755688.0,681984.0,681984.0,681984.0,681984.0,681984.0,582237.0,582237.0,582237.0,582237.0,582237.0,508543.0,508543.0,508543.0,508543.0,508543.0,526186.0,526186.0,526186.0,526186.0,526186.0,510211.0,510211.0,510211.0,510211.0,510211.0,557180.0,557180.0,557180.0,557180.0,557180.0,676876.0,676876.0,676876.0,676876.0,592394.0,592394.0,592394.0,592394.0,592394.0,751017.0,751017.0,751017.0,751017.0,751017.0,834969.0,834969.0,834969.0,834969.0,834969.0,899109.0,899109.0,899109.0,899109.0,1417419.0,1417419.0,1417419.0,1417419.0,1417419.0,2712038.0,2712038.0,2712038.0,2712038.0,2712038.0,4682897.0,4682897.0,4682897.0,4682897.0,4682897.0,5650933.0,5650933.0,5650933.0,5650933.0,5042888.0,5042888.0,5042888.0,5042888.0,5042888.0,3789262.0,3789262.0,3789262.0,3789262.0,3789262.0,2188710.0,2188710.0,2188710.0,2188710.0,2188710.0,1222112.0,1222112.0,1222112.0,1222112.0,1222112.0,708156.0,708156.0,708156.0,708156.0,458272.0,458272.0,458272.0,458272.0,458272.0,332509.0,332509.0,332509.0,332509.0,332509.0,234332.0,234332.0,234332.0,234332.0,234332.0,208740.0,208740.0,208740.0,208740.0,208740.0,193469.0,193469.0,193469.0,193469.0,193469.0,194464.0,194464.0,194464.0,194464.0,194464.0,201192.0,201192.0,201192.0,201192.0,247939.0,247939.0,247939.0,247939.0,247939.0,300721.0,300721.0,300721.0,300721.0,300721.0,378549.0,378549.0,378549.0,378549.0,378549.0,465658.0,465658.0,465658.0,465658.0,465658.0,604955.0,604955.0,604955.0,604955.0,604955.0,734495.0,734495.0,734495.0,734495.0,734495.0,740720.0,740720.0,740720.0,740720.0,675627.0,675627.0,675627.0,675627.0,675627.0,741044.0,741044.0,741044.0,741044.0,741044.0,672256.0,672256.0,672256.0,672256.0,709637.0,709637.0,709637.0,709637.0,709637.0,773772.0,773772.0,773772.0,773772.0,743769.0,743769.0,743769.0,743769.0,743769.0,888229.0,888229.0,888229.0,888229.0,888229.0,908695.0,908695.0,908695.0,908695.0,908695.0,947983.0,947983.0,947983.0,947983.0,947983.0,788051.0,788051.0,788051.0,788051.0,788051.0,701618.0,701618.0,701618.0,701618.0,701618.0,644925.0,644925.0,644925.0,644925.0,644925.0],\"yaxis\":\"y\",\"type\":\"scatter\"}],                        {\"template\":{\"data\":{\"barpolar\":[{\"marker\":{\"line\":{\"color\":\"rgb(17,17,17)\",\"width\":0.5},\"pattern\":{\"fillmode\":\"overlay\",\"size\":10,\"solidity\":0.2}},\"type\":\"barpolar\"}],\"bar\":[{\"error_x\":{\"color\":\"#f2f5fa\"},\"error_y\":{\"color\":\"#f2f5fa\"},\"marker\":{\"line\":{\"color\":\"rgb(17,17,17)\",\"width\":0.5},\"pattern\":{\"fillmode\":\"overlay\",\"size\":10,\"solidity\":0.2}},\"type\":\"bar\"}],\"carpet\":[{\"aaxis\":{\"endlinecolor\":\"#A2B1C6\",\"gridcolor\":\"#506784\",\"linecolor\":\"#506784\",\"minorgridcolor\":\"#506784\",\"startlinecolor\":\"#A2B1C6\"},\"baxis\":{\"endlinecolor\":\"#A2B1C6\",\"gridcolor\":\"#506784\",\"linecolor\":\"#506784\",\"minorgridcolor\":\"#506784\",\"startlinecolor\":\"#A2B1C6\"},\"type\":\"carpet\"}],\"choropleth\":[{\"colorbar\":{\"outlinewidth\":0,\"ticks\":\"\"},\"type\":\"choropleth\"}],\"contourcarpet\":[{\"colorbar\":{\"outlinewidth\":0,\"ticks\":\"\"},\"type\":\"contourcarpet\"}],\"contour\":[{\"colorbar\":{\"outlinewidth\":0,\"ticks\":\"\"},\"colorscale\":[[0.0,\"#0d0887\"],[0.1111111111111111,\"#46039f\"],[0.2222222222222222,\"#7201a8\"],[0.3333333333333333,\"#9c179e\"],[0.4444444444444444,\"#bd3786\"],[0.5555555555555556,\"#d8576b\"],[0.6666666666666666,\"#ed7953\"],[0.7777777777777778,\"#fb9f3a\"],[0.8888888888888888,\"#fdca26\"],[1.0,\"#f0f921\"]],\"type\":\"contour\"}],\"heatmapgl\":[{\"colorbar\":{\"outlinewidth\":0,\"ticks\":\"\"},\"colorscale\":[[0.0,\"#0d0887\"],[0.1111111111111111,\"#46039f\"],[0.2222222222222222,\"#7201a8\"],[0.3333333333333333,\"#9c179e\"],[0.4444444444444444,\"#bd3786\"],[0.5555555555555556,\"#d8576b\"],[0.6666666666666666,\"#ed7953\"],[0.7777777777777778,\"#fb9f3a\"],[0.8888888888888888,\"#fdca26\"],[1.0,\"#f0f921\"]],\"type\":\"heatmapgl\"}],\"heatmap\":[{\"colorbar\":{\"outlinewidth\":0,\"ticks\":\"\"},\"colorscale\":[[0.0,\"#0d0887\"],[0.1111111111111111,\"#46039f\"],[0.2222222222222222,\"#7201a8\"],[0.3333333333333333,\"#9c179e\"],[0.4444444444444444,\"#bd3786\"],[0.5555555555555556,\"#d8576b\"],[0.6666666666666666,\"#ed7953\"],[0.7777777777777778,\"#fb9f3a\"],[0.8888888888888888,\"#fdca26\"],[1.0,\"#f0f921\"]],\"type\":\"heatmap\"}],\"histogram2dcontour\":[{\"colorbar\":{\"outlinewidth\":0,\"ticks\":\"\"},\"colorscale\":[[0.0,\"#0d0887\"],[0.1111111111111111,\"#46039f\"],[0.2222222222222222,\"#7201a8\"],[0.3333333333333333,\"#9c179e\"],[0.4444444444444444,\"#bd3786\"],[0.5555555555555556,\"#d8576b\"],[0.6666666666666666,\"#ed7953\"],[0.7777777777777778,\"#fb9f3a\"],[0.8888888888888888,\"#fdca26\"],[1.0,\"#f0f921\"]],\"type\":\"histogram2dcontour\"}],\"histogram2d\":[{\"colorbar\":{\"outlinewidth\":0,\"ticks\":\"\"},\"colorscale\":[[0.0,\"#0d0887\"],[0.1111111111111111,\"#46039f\"],[0.2222222222222222,\"#7201a8\"],[0.3333333333333333,\"#9c179e\"],[0.4444444444444444,\"#bd3786\"],[0.5555555555555556,\"#d8576b\"],[0.6666666666666666,\"#ed7953\"],[0.7777777777777778,\"#fb9f3a\"],[0.8888888888888888,\"#fdca26\"],[1.0,\"#f0f921\"]],\"type\":\"histogram2d\"}],\"histogram\":[{\"marker\":{\"pattern\":{\"fillmode\":\"overlay\",\"size\":10,\"solidity\":0.2}},\"type\":\"histogram\"}],\"mesh3d\":[{\"colorbar\":{\"outlinewidth\":0,\"ticks\":\"\"},\"type\":\"mesh3d\"}],\"parcoords\":[{\"line\":{\"colorbar\":{\"outlinewidth\":0,\"ticks\":\"\"}},\"type\":\"parcoords\"}],\"pie\":[{\"automargin\":true,\"type\":\"pie\"}],\"scatter3d\":[{\"line\":{\"colorbar\":{\"outlinewidth\":0,\"ticks\":\"\"}},\"marker\":{\"colorbar\":{\"outlinewidth\":0,\"ticks\":\"\"}},\"type\":\"scatter3d\"}],\"scattercarpet\":[{\"marker\":{\"colorbar\":{\"outlinewidth\":0,\"ticks\":\"\"}},\"type\":\"scattercarpet\"}],\"scattergeo\":[{\"marker\":{\"colorbar\":{\"outlinewidth\":0,\"ticks\":\"\"}},\"type\":\"scattergeo\"}],\"scattergl\":[{\"marker\":{\"line\":{\"color\":\"#283442\"}},\"type\":\"scattergl\"}],\"scattermapbox\":[{\"marker\":{\"colorbar\":{\"outlinewidth\":0,\"ticks\":\"\"}},\"type\":\"scattermapbox\"}],\"scatterpolargl\":[{\"marker\":{\"colorbar\":{\"outlinewidth\":0,\"ticks\":\"\"}},\"type\":\"scatterpolargl\"}],\"scatterpolar\":[{\"marker\":{\"colorbar\":{\"outlinewidth\":0,\"ticks\":\"\"}},\"type\":\"scatterpolar\"}],\"scatter\":[{\"marker\":{\"line\":{\"color\":\"#283442\"}},\"type\":\"scatter\"}],\"scatterternary\":[{\"marker\":{\"colorbar\":{\"outlinewidth\":0,\"ticks\":\"\"}},\"type\":\"scatterternary\"}],\"surface\":[{\"colorbar\":{\"outlinewidth\":0,\"ticks\":\"\"},\"colorscale\":[[0.0,\"#0d0887\"],[0.1111111111111111,\"#46039f\"],[0.2222222222222222,\"#7201a8\"],[0.3333333333333333,\"#9c179e\"],[0.4444444444444444,\"#bd3786\"],[0.5555555555555556,\"#d8576b\"],[0.6666666666666666,\"#ed7953\"],[0.7777777777777778,\"#fb9f3a\"],[0.8888888888888888,\"#fdca26\"],[1.0,\"#f0f921\"]],\"type\":\"surface\"}],\"table\":[{\"cells\":{\"fill\":{\"color\":\"#506784\"},\"line\":{\"color\":\"rgb(17,17,17)\"}},\"header\":{\"fill\":{\"color\":\"#2a3f5f\"},\"line\":{\"color\":\"rgb(17,17,17)\"}},\"type\":\"table\"}]},\"layout\":{\"annotationdefaults\":{\"arrowcolor\":\"#f2f5fa\",\"arrowhead\":0,\"arrowwidth\":1},\"autotypenumbers\":\"strict\",\"coloraxis\":{\"colorbar\":{\"outlinewidth\":0,\"ticks\":\"\"}},\"colorscale\":{\"diverging\":[[0,\"#8e0152\"],[0.1,\"#c51b7d\"],[0.2,\"#de77ae\"],[0.3,\"#f1b6da\"],[0.4,\"#fde0ef\"],[0.5,\"#f7f7f7\"],[0.6,\"#e6f5d0\"],[0.7,\"#b8e186\"],[0.8,\"#7fbc41\"],[0.9,\"#4d9221\"],[1,\"#276419\"]],\"sequential\":[[0.0,\"#0d0887\"],[0.1111111111111111,\"#46039f\"],[0.2222222222222222,\"#7201a8\"],[0.3333333333333333,\"#9c179e\"],[0.4444444444444444,\"#bd3786\"],[0.5555555555555556,\"#d8576b\"],[0.6666666666666666,\"#ed7953\"],[0.7777777777777778,\"#fb9f3a\"],[0.8888888888888888,\"#fdca26\"],[1.0,\"#f0f921\"]],\"sequentialminus\":[[0.0,\"#0d0887\"],[0.1111111111111111,\"#46039f\"],[0.2222222222222222,\"#7201a8\"],[0.3333333333333333,\"#9c179e\"],[0.4444444444444444,\"#bd3786\"],[0.5555555555555556,\"#d8576b\"],[0.6666666666666666,\"#ed7953\"],[0.7777777777777778,\"#fb9f3a\"],[0.8888888888888888,\"#fdca26\"],[1.0,\"#f0f921\"]]},\"colorway\":[\"#636efa\",\"#EF553B\",\"#00cc96\",\"#ab63fa\",\"#FFA15A\",\"#19d3f3\",\"#FF6692\",\"#B6E880\",\"#FF97FF\",\"#FECB52\"],\"font\":{\"color\":\"#f2f5fa\"},\"geo\":{\"bgcolor\":\"rgb(17,17,17)\",\"lakecolor\":\"rgb(17,17,17)\",\"landcolor\":\"rgb(17,17,17)\",\"showlakes\":true,\"showland\":true,\"subunitcolor\":\"#506784\"},\"hoverlabel\":{\"align\":\"left\"},\"hovermode\":\"closest\",\"mapbox\":{\"style\":\"dark\"},\"paper_bgcolor\":\"rgb(17,17,17)\",\"plot_bgcolor\":\"rgb(17,17,17)\",\"polar\":{\"angularaxis\":{\"gridcolor\":\"#506784\",\"linecolor\":\"#506784\",\"ticks\":\"\"},\"bgcolor\":\"rgb(17,17,17)\",\"radialaxis\":{\"gridcolor\":\"#506784\",\"linecolor\":\"#506784\",\"ticks\":\"\"}},\"scene\":{\"xaxis\":{\"backgroundcolor\":\"rgb(17,17,17)\",\"gridcolor\":\"#506784\",\"gridwidth\":2,\"linecolor\":\"#506784\",\"showbackground\":true,\"ticks\":\"\",\"zerolinecolor\":\"#C8D4E3\"},\"yaxis\":{\"backgroundcolor\":\"rgb(17,17,17)\",\"gridcolor\":\"#506784\",\"gridwidth\":2,\"linecolor\":\"#506784\",\"showbackground\":true,\"ticks\":\"\",\"zerolinecolor\":\"#C8D4E3\"},\"zaxis\":{\"backgroundcolor\":\"rgb(17,17,17)\",\"gridcolor\":\"#506784\",\"gridwidth\":2,\"linecolor\":\"#506784\",\"showbackground\":true,\"ticks\":\"\",\"zerolinecolor\":\"#C8D4E3\"}},\"shapedefaults\":{\"line\":{\"color\":\"#f2f5fa\"}},\"sliderdefaults\":{\"bgcolor\":\"#C8D4E3\",\"bordercolor\":\"rgb(17,17,17)\",\"borderwidth\":1,\"tickwidth\":0},\"ternary\":{\"aaxis\":{\"gridcolor\":\"#506784\",\"linecolor\":\"#506784\",\"ticks\":\"\"},\"baxis\":{\"gridcolor\":\"#506784\",\"linecolor\":\"#506784\",\"ticks\":\"\"},\"bgcolor\":\"rgb(17,17,17)\",\"caxis\":{\"gridcolor\":\"#506784\",\"linecolor\":\"#506784\",\"ticks\":\"\"}},\"title\":{\"x\":0.05},\"updatemenudefaults\":{\"bgcolor\":\"#506784\",\"borderwidth\":0},\"xaxis\":{\"automargin\":true,\"gridcolor\":\"#283442\",\"linecolor\":\"#506784\",\"ticks\":\"\",\"title\":{\"standoff\":15},\"zerolinecolor\":\"#283442\",\"zerolinewidth\":2},\"yaxis\":{\"automargin\":true,\"gridcolor\":\"#283442\",\"linecolor\":\"#506784\",\"ticks\":\"\",\"title\":{\"standoff\":15},\"zerolinecolor\":\"#283442\",\"zerolinewidth\":2}}},\"xaxis\":{\"anchor\":\"y\",\"domain\":[0.0,1.0],\"title\":{\"text\":\"date\"},\"showgrid\":true,\"gridwidth\":1,\"gridcolor\":\"red\"},\"yaxis\":{\"anchor\":\"x\",\"domain\":[0.0,1.0],\"title\":{\"text\":\"Cases in week\"},\"showgrid\":true,\"gridwidth\":1,\"gridcolor\":\"red\"},\"legend\":{\"tracegroupgap\":0},\"title\":{\"text\":\"USA Weekly Cases\",\"font\":{\"size\":24}},\"plot_bgcolor\":\"black\"},                        {\"responsive\": true}                    ).then(function(){\n",
       "                            \n",
       "var gd = document.getElementById('6223b096-29b2-4278-8a4f-5a1f385ac9ca');\n",
       "var x = new MutationObserver(function (mutations, observer) {{\n",
       "        var display = window.getComputedStyle(gd).display;\n",
       "        if (!display || display === 'none') {{\n",
       "            console.log([gd, 'removed!']);\n",
       "            Plotly.purge(gd);\n",
       "            observer.disconnect();\n",
       "        }}\n",
       "}});\n",
       "\n",
       "// Listen for the removal of the full notebook cells\n",
       "var notebookContainer = gd.closest('#notebook-container');\n",
       "if (notebookContainer) {{\n",
       "    x.observe(notebookContainer, {childList: true});\n",
       "}}\n",
       "\n",
       "// Listen for the clearing of the current output cell\n",
       "var outputEl = gd.closest('.output');\n",
       "if (outputEl) {{\n",
       "    x.observe(outputEl, {childList: true});\n",
       "}}\n",
       "\n",
       "                        })                };                });            </script>        </div>"
      ]
     },
     "metadata": {},
     "output_type": "display_data"
    }
   ],
   "source": [
    "# fig = px.line(sp, x='ts', y='prices', labels={'ts': 'Время', 'prices': 'Цена'}, title='График цены токена LIDO DAO')\n",
    "fig = px.area(cv,x='date', y='weekly_cases',labels={'ts': 'Время', 'prices': 'Цена'}, title='USA Weekly Cases',template = 'plotly_dark')\n",
    "fig.update_traces(line=dict(color='cyan', width=2))  # Изменить цвет и толщину линии\n",
    "fig.update_layout(plot_bgcolor='black', title_font=dict(size=24))  # Изменить цвет фона и размер заголовка\n",
    "fig.update_xaxes(showgrid=True, gridwidth=1, gridcolor='red')  # Добавить сетку на оси x\n",
    "fig.update_yaxes(showgrid=True, gridwidth=1, gridcolor='red',title = \"Cases in week\")  # Добавить сетку на оси y\n",
    "fig.show()\n",
    "\n",
    "\n",
    "\n"
   ]
  },
  {
   "cell_type": "code",
   "execution_count": 333,
   "id": "377b733f",
   "metadata": {},
   "outputs": [
    {
     "data": {
      "application/vnd.plotly.v1+json": {
       "config": {
        "plotlyServerURL": "https://plot.ly"
       },
       "data": [
        {
         "fillpattern": {
          "shape": ""
         },
         "hovertemplate": "date=%{x}<br>weekly_deaths=%{y}<extra></extra>",
         "legendgroup": "",
         "line": {
          "color": "cyan",
          "width": 2
         },
         "marker": {
          "symbol": "circle"
         },
         "mode": "lines",
         "name": "",
         "orientation": "v",
         "showlegend": false,
         "stackgroup": "1",
         "type": "scatter",
         "x": [
          "2020-02-18",
          "2020-02-19",
          "2020-02-20",
          "2020-02-21",
          "2020-02-24",
          "2020-02-25",
          "2020-02-26",
          "2020-02-27",
          "2020-02-28",
          "2020-03-02",
          "2020-03-03",
          "2020-03-04",
          "2020-03-05",
          "2020-03-06",
          "2020-03-09",
          "2020-03-10",
          "2020-03-11",
          "2020-03-12",
          "2020-03-13",
          "2020-03-16",
          "2020-03-17",
          "2020-03-18",
          "2020-03-19",
          "2020-03-20",
          "2020-03-23",
          "2020-03-24",
          "2020-03-25",
          "2020-03-26",
          "2020-03-27",
          "2020-03-30",
          "2020-03-31",
          "2020-04-01",
          "2020-04-02",
          "2020-04-03",
          "2020-04-06",
          "2020-04-07",
          "2020-04-08",
          "2020-04-09",
          "2020-04-13",
          "2020-04-14",
          "2020-04-15",
          "2020-04-16",
          "2020-04-17",
          "2020-04-20",
          "2020-04-21",
          "2020-04-22",
          "2020-04-23",
          "2020-04-24",
          "2020-04-27",
          "2020-04-28",
          "2020-04-29",
          "2020-04-30",
          "2020-05-01",
          "2020-05-04",
          "2020-05-05",
          "2020-05-06",
          "2020-05-07",
          "2020-05-08",
          "2020-05-11",
          "2020-05-12",
          "2020-05-13",
          "2020-05-14",
          "2020-05-15",
          "2020-05-18",
          "2020-05-19",
          "2020-05-20",
          "2020-05-21",
          "2020-05-22",
          "2020-05-26",
          "2020-05-27",
          "2020-05-28",
          "2020-05-29",
          "2020-06-01",
          "2020-06-02",
          "2020-06-03",
          "2020-06-04",
          "2020-06-05",
          "2020-06-08",
          "2020-06-09",
          "2020-06-10",
          "2020-06-11",
          "2020-06-12",
          "2020-06-15",
          "2020-06-16",
          "2020-06-17",
          "2020-06-18",
          "2020-06-19",
          "2020-06-22",
          "2020-06-23",
          "2020-06-24",
          "2020-06-25",
          "2020-06-26",
          "2020-06-29",
          "2020-06-30",
          "2020-07-01",
          "2020-07-02",
          "2020-07-06",
          "2020-07-07",
          "2020-07-08",
          "2020-07-09",
          "2020-07-10",
          "2020-07-13",
          "2020-07-14",
          "2020-07-15",
          "2020-07-16",
          "2020-07-17",
          "2020-07-20",
          "2020-07-21",
          "2020-07-22",
          "2020-07-23",
          "2020-07-24",
          "2020-07-27",
          "2020-07-28",
          "2020-07-29",
          "2020-07-30",
          "2020-07-31",
          "2020-08-03",
          "2020-08-04",
          "2020-08-05",
          "2020-08-06",
          "2020-08-07",
          "2020-08-10",
          "2020-08-11",
          "2020-08-12",
          "2020-08-13",
          "2020-08-14",
          "2020-08-17",
          "2020-08-18",
          "2020-08-19",
          "2020-08-20",
          "2020-08-21",
          "2020-08-24",
          "2020-08-25",
          "2020-08-26",
          "2020-08-27",
          "2020-08-28",
          "2020-08-31",
          "2020-09-01",
          "2020-09-02",
          "2020-09-03",
          "2020-09-04",
          "2020-09-08",
          "2020-09-09",
          "2020-09-10",
          "2020-09-11",
          "2020-09-14",
          "2020-09-15",
          "2020-09-16",
          "2020-09-17",
          "2020-09-18",
          "2020-09-21",
          "2020-09-22",
          "2020-09-23",
          "2020-09-24",
          "2020-09-25",
          "2020-09-28",
          "2020-09-29",
          "2020-09-30",
          "2020-10-01",
          "2020-10-02",
          "2020-10-05",
          "2020-10-06",
          "2020-10-07",
          "2020-10-08",
          "2020-10-09",
          "2020-10-12",
          "2020-10-13",
          "2020-10-14",
          "2020-10-15",
          "2020-10-16",
          "2020-10-19",
          "2020-10-20",
          "2020-10-21",
          "2020-10-22",
          "2020-10-23",
          "2020-10-26",
          "2020-10-27",
          "2020-10-28",
          "2020-10-29",
          "2020-10-30",
          "2020-11-02",
          "2020-11-03",
          "2020-11-04",
          "2020-11-05",
          "2020-11-06",
          "2020-11-09",
          "2020-11-10",
          "2020-11-11",
          "2020-11-12",
          "2020-11-13",
          "2020-11-16",
          "2020-11-17",
          "2020-11-18",
          "2020-11-19",
          "2020-11-20",
          "2020-11-23",
          "2020-11-24",
          "2020-11-25",
          "2020-11-27",
          "2020-11-30",
          "2020-12-01",
          "2020-12-02",
          "2020-12-03",
          "2020-12-04",
          "2020-12-07",
          "2020-12-08",
          "2020-12-09",
          "2020-12-10",
          "2020-12-11",
          "2020-12-14",
          "2020-12-15",
          "2020-12-16",
          "2020-12-17",
          "2020-12-18",
          "2020-12-21",
          "2020-12-22",
          "2020-12-23",
          "2020-12-24",
          "2020-12-28",
          "2020-12-29",
          "2020-12-30",
          "2020-12-31",
          "2021-01-04",
          "2021-01-05",
          "2021-01-06",
          "2021-01-07",
          "2021-01-08",
          "2021-01-11",
          "2021-01-12",
          "2021-01-13",
          "2021-01-14",
          "2021-01-15",
          "2021-01-19",
          "2021-01-20",
          "2021-01-21",
          "2021-01-22",
          "2021-01-25",
          "2021-01-26",
          "2021-01-27",
          "2021-01-28",
          "2021-01-29",
          "2021-02-01",
          "2021-02-02",
          "2021-02-03",
          "2021-02-04",
          "2021-02-05",
          "2021-02-08",
          "2021-02-09",
          "2021-02-10",
          "2021-02-11",
          "2021-02-12",
          "2021-02-16",
          "2021-02-17",
          "2021-02-18",
          "2021-02-19",
          "2021-02-22",
          "2021-02-23",
          "2021-02-24",
          "2021-02-25",
          "2021-02-26",
          "2021-03-01",
          "2021-03-02",
          "2021-03-03",
          "2021-03-04",
          "2021-03-05",
          "2021-03-08",
          "2021-03-09",
          "2021-03-10",
          "2021-03-11",
          "2021-03-12",
          "2021-03-15",
          "2021-03-16",
          "2021-03-17",
          "2021-03-18",
          "2021-03-19",
          "2021-03-22",
          "2021-03-23",
          "2021-03-24",
          "2021-03-25",
          "2021-03-26",
          "2021-03-29",
          "2021-03-30",
          "2021-03-31",
          "2021-04-01",
          "2021-04-05",
          "2021-04-06",
          "2021-04-07",
          "2021-04-08",
          "2021-04-09",
          "2021-04-12",
          "2021-04-13",
          "2021-04-14",
          "2021-04-15",
          "2021-04-16",
          "2021-04-19",
          "2021-04-20",
          "2021-04-21",
          "2021-04-22",
          "2021-04-23",
          "2021-04-26",
          "2021-04-27",
          "2021-04-28",
          "2021-04-29",
          "2021-04-30",
          "2021-05-03",
          "2021-05-04",
          "2021-05-05",
          "2021-05-06",
          "2021-05-07",
          "2021-05-10",
          "2021-05-11",
          "2021-05-12",
          "2021-05-13",
          "2021-05-14",
          "2021-05-17",
          "2021-05-18",
          "2021-05-19",
          "2021-05-20",
          "2021-05-21",
          "2021-05-24",
          "2021-05-25",
          "2021-05-26",
          "2021-05-27",
          "2021-05-28",
          "2021-06-01",
          "2021-06-02",
          "2021-06-03",
          "2021-06-04",
          "2021-06-07",
          "2021-06-08",
          "2021-06-09",
          "2021-06-10",
          "2021-06-11",
          "2021-06-14",
          "2021-06-15",
          "2021-06-16",
          "2021-06-17",
          "2021-06-18",
          "2021-06-21",
          "2021-06-22",
          "2021-06-23",
          "2021-06-24",
          "2021-06-25",
          "2021-06-28",
          "2021-06-29",
          "2021-06-30",
          "2021-07-01",
          "2021-07-02",
          "2021-07-06",
          "2021-07-07",
          "2021-07-08",
          "2021-07-09",
          "2021-07-12",
          "2021-07-13",
          "2021-07-14",
          "2021-07-15",
          "2021-07-16",
          "2021-07-19",
          "2021-07-20",
          "2021-07-21",
          "2021-07-22",
          "2021-07-23",
          "2021-07-26",
          "2021-07-27",
          "2021-07-28",
          "2021-07-29",
          "2021-07-30",
          "2021-08-02",
          "2021-08-03",
          "2021-08-04",
          "2021-08-05",
          "2021-08-06",
          "2021-08-09",
          "2021-08-10",
          "2021-08-11",
          "2021-08-12",
          "2021-08-13",
          "2021-08-16",
          "2021-08-17",
          "2021-08-18",
          "2021-08-19",
          "2021-08-20",
          "2021-08-23",
          "2021-08-24",
          "2021-08-25",
          "2021-08-26",
          "2021-08-27",
          "2021-08-30",
          "2021-08-31",
          "2021-09-01",
          "2021-09-02",
          "2021-09-03",
          "2021-09-07",
          "2021-09-08",
          "2021-09-09",
          "2021-09-10",
          "2021-09-13",
          "2021-09-14",
          "2021-09-15",
          "2021-09-16",
          "2021-09-17",
          "2021-09-20",
          "2021-09-21",
          "2021-09-22",
          "2021-09-23",
          "2021-09-24",
          "2021-09-27",
          "2021-09-28",
          "2021-09-29",
          "2021-09-30",
          "2021-10-01",
          "2021-10-04",
          "2021-10-05",
          "2021-10-06",
          "2021-10-07",
          "2021-10-08",
          "2021-10-11",
          "2021-10-12",
          "2021-10-13",
          "2021-10-14",
          "2021-10-15",
          "2021-10-18",
          "2021-10-19",
          "2021-10-20",
          "2021-10-21",
          "2021-10-22",
          "2021-10-25",
          "2021-10-26",
          "2021-10-27",
          "2021-10-28",
          "2021-10-29",
          "2021-11-01",
          "2021-11-02",
          "2021-11-03",
          "2021-11-04",
          "2021-11-05",
          "2021-11-08",
          "2021-11-09",
          "2021-11-10",
          "2021-11-11",
          "2021-11-12",
          "2021-11-15",
          "2021-11-16",
          "2021-11-17",
          "2021-11-18",
          "2021-11-19",
          "2021-11-22",
          "2021-11-23",
          "2021-11-24",
          "2021-11-26",
          "2021-11-29",
          "2021-11-30",
          "2021-12-01",
          "2021-12-02",
          "2021-12-03",
          "2021-12-06",
          "2021-12-07",
          "2021-12-08",
          "2021-12-09",
          "2021-12-10",
          "2021-12-13",
          "2021-12-14",
          "2021-12-15",
          "2021-12-16",
          "2021-12-17",
          "2021-12-20",
          "2021-12-21",
          "2021-12-22",
          "2021-12-23",
          "2021-12-27",
          "2021-12-28",
          "2021-12-29",
          "2021-12-30",
          "2021-12-31",
          "2022-01-03",
          "2022-01-04",
          "2022-01-05",
          "2022-01-06",
          "2022-01-07",
          "2022-01-10",
          "2022-01-11",
          "2022-01-12",
          "2022-01-13",
          "2022-01-14",
          "2022-01-18",
          "2022-01-19",
          "2022-01-20",
          "2022-01-21",
          "2022-01-24",
          "2022-01-25",
          "2022-01-26",
          "2022-01-27",
          "2022-01-28",
          "2022-01-31",
          "2022-02-01",
          "2022-02-02",
          "2022-02-03",
          "2022-02-04",
          "2022-02-07",
          "2022-02-08",
          "2022-02-09",
          "2022-02-10",
          "2022-02-11",
          "2022-02-14",
          "2022-02-15",
          "2022-02-16",
          "2022-02-17",
          "2022-02-18",
          "2022-02-22",
          "2022-02-23",
          "2022-02-24",
          "2022-02-25",
          "2022-02-28",
          "2022-03-01",
          "2022-03-02",
          "2022-03-03",
          "2022-03-04",
          "2022-03-07",
          "2022-03-08",
          "2022-03-09",
          "2022-03-10",
          "2022-03-11",
          "2022-03-14",
          "2022-03-15",
          "2022-03-16",
          "2022-03-17",
          "2022-03-18",
          "2022-03-21",
          "2022-03-22",
          "2022-03-23",
          "2022-03-24",
          "2022-03-25",
          "2022-03-28",
          "2022-03-29",
          "2022-03-30",
          "2022-03-31",
          "2022-04-01",
          "2022-04-04",
          "2022-04-05",
          "2022-04-06",
          "2022-04-07",
          "2022-04-08",
          "2022-04-11",
          "2022-04-12",
          "2022-04-13",
          "2022-04-14",
          "2022-04-18",
          "2022-04-19",
          "2022-04-20",
          "2022-04-21",
          "2022-04-22",
          "2022-04-25",
          "2022-04-26",
          "2022-04-27",
          "2022-04-28",
          "2022-04-29",
          "2022-05-02",
          "2022-05-03",
          "2022-05-04",
          "2022-05-05",
          "2022-05-06",
          "2022-05-09",
          "2022-05-10",
          "2022-05-11",
          "2022-05-12",
          "2022-05-13",
          "2022-05-16",
          "2022-05-17",
          "2022-05-18",
          "2022-05-19",
          "2022-05-20",
          "2022-05-23",
          "2022-05-24",
          "2022-05-25",
          "2022-05-26",
          "2022-05-27",
          "2022-05-31",
          "2022-06-01",
          "2022-06-02",
          "2022-06-03",
          "2022-06-06",
          "2022-06-07",
          "2022-06-08",
          "2022-06-09",
          "2022-06-10",
          "2022-06-13",
          "2022-06-14",
          "2022-06-15",
          "2022-06-16",
          "2022-06-17",
          "2022-06-21",
          "2022-06-22",
          "2022-06-23",
          "2022-06-24",
          "2022-06-27",
          "2022-06-28",
          "2022-06-29",
          "2022-06-30",
          "2022-07-01",
          "2022-07-05",
          "2022-07-06",
          "2022-07-07",
          "2022-07-08",
          "2022-07-11",
          "2022-07-12",
          "2022-07-13",
          "2022-07-14",
          "2022-07-15",
          "2022-07-18",
          "2022-07-19",
          "2022-07-20",
          "2022-07-21",
          "2022-07-22",
          "2022-07-25",
          "2022-07-26",
          "2022-07-27",
          "2022-07-28",
          "2022-07-29",
          "2022-08-01",
          "2022-08-02",
          "2022-08-03",
          "2022-08-04",
          "2022-08-05",
          "2022-08-08",
          "2022-08-09",
          "2022-08-10",
          "2022-08-11",
          "2022-08-12",
          "2022-08-15",
          "2022-08-16",
          "2022-08-17",
          "2022-08-18",
          "2022-08-19",
          "2022-08-22",
          "2022-08-23",
          "2022-08-24",
          "2022-08-25",
          "2022-08-26"
         ],
         "xaxis": "x",
         "y": [
          0,
          0,
          0,
          0,
          0,
          0,
          0,
          0,
          0,
          1,
          1,
          1,
          1,
          1,
          18,
          18,
          18,
          18,
          18,
          50,
          50,
          50,
          50,
          50,
          305,
          305,
          305,
          305,
          305,
          1732,
          1732,
          1732,
          1732,
          1732,
          6642,
          6642,
          6642,
          6642,
          13889,
          13889,
          13889,
          13889,
          13889,
          15898,
          15898,
          15898,
          15898,
          15898,
          14899,
          14899,
          14899,
          14899,
          14899,
          13635,
          13635,
          13635,
          13635,
          13635,
          12758,
          12758,
          12758,
          12758,
          12758,
          10130,
          10130,
          10130,
          10130,
          10130,
          8558,
          8558,
          8558,
          8558,
          6810,
          6810,
          6810,
          6810,
          6810,
          5987,
          5987,
          5987,
          5987,
          5987,
          5370,
          5370,
          5370,
          5370,
          5370,
          4455,
          4455,
          4455,
          4455,
          4455,
          6081,
          6081,
          6081,
          6081,
          4451,
          4451,
          4451,
          4451,
          4451,
          5529,
          5529,
          5529,
          5529,
          5529,
          6666,
          6666,
          6666,
          6666,
          6666,
          7726,
          7726,
          7726,
          7726,
          7726,
          8146,
          8146,
          8146,
          8146,
          8146,
          7799,
          7799,
          7799,
          7799,
          7799,
          7404,
          7404,
          7404,
          7404,
          7404,
          6677,
          6677,
          6677,
          6677,
          6677,
          6343,
          6343,
          6343,
          6343,
          6343,
          5705,
          5705,
          5705,
          5705,
          4977,
          4977,
          4977,
          4977,
          4977,
          5176,
          5176,
          5176,
          5176,
          5176,
          4776,
          4776,
          4776,
          4776,
          4776,
          4687,
          4687,
          4687,
          4687,
          4687,
          4615,
          4615,
          4615,
          4615,
          4615,
          4801,
          4801,
          4801,
          4801,
          4801,
          5723,
          5723,
          5723,
          5723,
          5723,
          6096,
          6096,
          6096,
          6096,
          6096,
          7204,
          7204,
          7204,
          7204,
          7204,
          8717,
          8717,
          8717,
          8717,
          8717,
          10820,
          10820,
          10820,
          10820,
          11950,
          11950,
          11950,
          11950,
          11950,
          14801,
          14801,
          14801,
          14801,
          14801,
          17714,
          17714,
          17714,
          17714,
          17714,
          18866,
          18866,
          18866,
          18866,
          18333,
          18333,
          18333,
          18333,
          19650,
          19650,
          19650,
          19650,
          19650,
          21497,
          21497,
          21497,
          21497,
          21497,
          23312,
          23312,
          23312,
          23312,
          22495,
          22495,
          22495,
          22495,
          22495,
          22249,
          22249,
          22249,
          22249,
          22249,
          20100,
          20100,
          20100,
          20100,
          20100,
          19838,
          19838,
          19838,
          19838,
          14432,
          14432,
          14432,
          14432,
          14432,
          13360,
          13360,
          13360,
          13360,
          13360,
          10446,
          10446,
          10446,
          10446,
          10446,
          8559,
          8559,
          8559,
          8559,
          8559,
          6264,
          6264,
          6264,
          6264,
          6264,
          6111,
          6111,
          6111,
          6111,
          5352,
          5352,
          5352,
          5352,
          5352,
          4903,
          4903,
          4903,
          4903,
          4903,
          4875,
          4875,
          4875,
          4875,
          4875,
          4721,
          4721,
          4721,
          4721,
          4721,
          4493,
          4493,
          4493,
          4493,
          4493,
          4451,
          4451,
          4451,
          4451,
          4451,
          3973,
          3973,
          3973,
          3973,
          3973,
          3624,
          3624,
          3624,
          3624,
          3624,
          3534,
          3534,
          3534,
          3534,
          2675,
          2675,
          2675,
          2675,
          2675,
          2624,
          2624,
          2624,
          2624,
          2624,
          1762,
          1762,
          1762,
          1762,
          1762,
          2101,
          2101,
          2101,
          2101,
          2101,
          1717,
          1717,
          1717,
          1717,
          1509,
          1509,
          1509,
          1509,
          1509,
          1931,
          1931,
          1931,
          1931,
          1931,
          2084,
          2084,
          2084,
          2084,
          2084,
          2927,
          2927,
          2927,
          2927,
          2927,
          4453,
          4453,
          4453,
          4453,
          4453,
          5637,
          5637,
          5637,
          5637,
          5637,
          8055,
          8055,
          8055,
          8055,
          8055,
          10183,
          10183,
          10183,
          10183,
          10183,
          11709,
          11709,
          11709,
          11709,
          12085,
          12085,
          12085,
          12085,
          12085,
          13590,
          13590,
          13590,
          13590,
          13590,
          13384,
          13384,
          13384,
          13384,
          13384,
          12992,
          12992,
          12992,
          12992,
          12992,
          11684,
          11684,
          11684,
          11684,
          11684,
          10462,
          10462,
          10462,
          10462,
          10462,
          11091,
          11091,
          11091,
          11091,
          11091,
          8915,
          8915,
          8915,
          8915,
          8915,
          7407,
          7407,
          7407,
          7407,
          7407,
          7529,
          7529,
          7529,
          7529,
          7529,
          10276,
          10276,
          10276,
          10276,
          5690,
          5690,
          5690,
          5690,
          5690,
          8304,
          8304,
          8304,
          8304,
          8304,
          8586,
          8586,
          8586,
          8586,
          8586,
          9065,
          9065,
          9065,
          9065,
          11001,
          11001,
          11001,
          11001,
          11001,
          9146,
          9146,
          9146,
          9146,
          9146,
          11716,
          11716,
          11716,
          11716,
          11716,
          14380,
          14380,
          14380,
          14380,
          16308,
          16308,
          16308,
          16308,
          16308,
          18403,
          18403,
          18403,
          18403,
          18403,
          18654,
          18654,
          18654,
          18654,
          18654,
          17550,
          17550,
          17550,
          17550,
          17550,
          15372,
          15372,
          15372,
          15372,
          13046,
          13046,
          13046,
          13046,
          13046,
          9678,
          9678,
          9678,
          9678,
          9678,
          8606,
          8606,
          8606,
          8606,
          8606,
          3245,
          3245,
          3245,
          3245,
          3245,
          4991,
          4991,
          4991,
          4991,
          4991,
          4172,
          4172,
          4172,
          4172,
          4172,
          3467,
          3467,
          3467,
          3467,
          3123,
          3123,
          3123,
          3123,
          3123,
          2443,
          2443,
          2443,
          2443,
          2443,
          2242,
          2242,
          2242,
          2242,
          2242,
          2641,
          2641,
          2641,
          2641,
          2641,
          1966,
          1966,
          1966,
          1966,
          1966,
          2081,
          2081,
          2081,
          2081,
          2081,
          2629,
          2629,
          2629,
          2629,
          1979,
          1979,
          1979,
          1979,
          1979,
          2284,
          2284,
          2284,
          2284,
          2284,
          2202,
          2202,
          2202,
          2202,
          2501,
          2501,
          2501,
          2501,
          2501,
          2642,
          2642,
          2642,
          2642,
          2454,
          2454,
          2454,
          2454,
          2454,
          2785,
          2785,
          2785,
          2785,
          2785,
          3187,
          3187,
          3187,
          3187,
          3187,
          3113,
          3113,
          3113,
          3113,
          3113,
          3261,
          3261,
          3261,
          3261,
          3261,
          3442,
          3442,
          3442,
          3442,
          3442,
          3231,
          3231,
          3231,
          3231,
          3231
         ],
         "yaxis": "y"
        }
       ],
       "layout": {
        "legend": {
         "tracegroupgap": 0
        },
        "plot_bgcolor": "black",
        "template": {
         "data": {
          "bar": [
           {
            "error_x": {
             "color": "#f2f5fa"
            },
            "error_y": {
             "color": "#f2f5fa"
            },
            "marker": {
             "line": {
              "color": "rgb(17,17,17)",
              "width": 0.5
             },
             "pattern": {
              "fillmode": "overlay",
              "size": 10,
              "solidity": 0.2
             }
            },
            "type": "bar"
           }
          ],
          "barpolar": [
           {
            "marker": {
             "line": {
              "color": "rgb(17,17,17)",
              "width": 0.5
             },
             "pattern": {
              "fillmode": "overlay",
              "size": 10,
              "solidity": 0.2
             }
            },
            "type": "barpolar"
           }
          ],
          "carpet": [
           {
            "aaxis": {
             "endlinecolor": "#A2B1C6",
             "gridcolor": "#506784",
             "linecolor": "#506784",
             "minorgridcolor": "#506784",
             "startlinecolor": "#A2B1C6"
            },
            "baxis": {
             "endlinecolor": "#A2B1C6",
             "gridcolor": "#506784",
             "linecolor": "#506784",
             "minorgridcolor": "#506784",
             "startlinecolor": "#A2B1C6"
            },
            "type": "carpet"
           }
          ],
          "choropleth": [
           {
            "colorbar": {
             "outlinewidth": 0,
             "ticks": ""
            },
            "type": "choropleth"
           }
          ],
          "contour": [
           {
            "colorbar": {
             "outlinewidth": 0,
             "ticks": ""
            },
            "colorscale": [
             [
              0,
              "#0d0887"
             ],
             [
              0.1111111111111111,
              "#46039f"
             ],
             [
              0.2222222222222222,
              "#7201a8"
             ],
             [
              0.3333333333333333,
              "#9c179e"
             ],
             [
              0.4444444444444444,
              "#bd3786"
             ],
             [
              0.5555555555555556,
              "#d8576b"
             ],
             [
              0.6666666666666666,
              "#ed7953"
             ],
             [
              0.7777777777777778,
              "#fb9f3a"
             ],
             [
              0.8888888888888888,
              "#fdca26"
             ],
             [
              1,
              "#f0f921"
             ]
            ],
            "type": "contour"
           }
          ],
          "contourcarpet": [
           {
            "colorbar": {
             "outlinewidth": 0,
             "ticks": ""
            },
            "type": "contourcarpet"
           }
          ],
          "heatmap": [
           {
            "colorbar": {
             "outlinewidth": 0,
             "ticks": ""
            },
            "colorscale": [
             [
              0,
              "#0d0887"
             ],
             [
              0.1111111111111111,
              "#46039f"
             ],
             [
              0.2222222222222222,
              "#7201a8"
             ],
             [
              0.3333333333333333,
              "#9c179e"
             ],
             [
              0.4444444444444444,
              "#bd3786"
             ],
             [
              0.5555555555555556,
              "#d8576b"
             ],
             [
              0.6666666666666666,
              "#ed7953"
             ],
             [
              0.7777777777777778,
              "#fb9f3a"
             ],
             [
              0.8888888888888888,
              "#fdca26"
             ],
             [
              1,
              "#f0f921"
             ]
            ],
            "type": "heatmap"
           }
          ],
          "heatmapgl": [
           {
            "colorbar": {
             "outlinewidth": 0,
             "ticks": ""
            },
            "colorscale": [
             [
              0,
              "#0d0887"
             ],
             [
              0.1111111111111111,
              "#46039f"
             ],
             [
              0.2222222222222222,
              "#7201a8"
             ],
             [
              0.3333333333333333,
              "#9c179e"
             ],
             [
              0.4444444444444444,
              "#bd3786"
             ],
             [
              0.5555555555555556,
              "#d8576b"
             ],
             [
              0.6666666666666666,
              "#ed7953"
             ],
             [
              0.7777777777777778,
              "#fb9f3a"
             ],
             [
              0.8888888888888888,
              "#fdca26"
             ],
             [
              1,
              "#f0f921"
             ]
            ],
            "type": "heatmapgl"
           }
          ],
          "histogram": [
           {
            "marker": {
             "pattern": {
              "fillmode": "overlay",
              "size": 10,
              "solidity": 0.2
             }
            },
            "type": "histogram"
           }
          ],
          "histogram2d": [
           {
            "colorbar": {
             "outlinewidth": 0,
             "ticks": ""
            },
            "colorscale": [
             [
              0,
              "#0d0887"
             ],
             [
              0.1111111111111111,
              "#46039f"
             ],
             [
              0.2222222222222222,
              "#7201a8"
             ],
             [
              0.3333333333333333,
              "#9c179e"
             ],
             [
              0.4444444444444444,
              "#bd3786"
             ],
             [
              0.5555555555555556,
              "#d8576b"
             ],
             [
              0.6666666666666666,
              "#ed7953"
             ],
             [
              0.7777777777777778,
              "#fb9f3a"
             ],
             [
              0.8888888888888888,
              "#fdca26"
             ],
             [
              1,
              "#f0f921"
             ]
            ],
            "type": "histogram2d"
           }
          ],
          "histogram2dcontour": [
           {
            "colorbar": {
             "outlinewidth": 0,
             "ticks": ""
            },
            "colorscale": [
             [
              0,
              "#0d0887"
             ],
             [
              0.1111111111111111,
              "#46039f"
             ],
             [
              0.2222222222222222,
              "#7201a8"
             ],
             [
              0.3333333333333333,
              "#9c179e"
             ],
             [
              0.4444444444444444,
              "#bd3786"
             ],
             [
              0.5555555555555556,
              "#d8576b"
             ],
             [
              0.6666666666666666,
              "#ed7953"
             ],
             [
              0.7777777777777778,
              "#fb9f3a"
             ],
             [
              0.8888888888888888,
              "#fdca26"
             ],
             [
              1,
              "#f0f921"
             ]
            ],
            "type": "histogram2dcontour"
           }
          ],
          "mesh3d": [
           {
            "colorbar": {
             "outlinewidth": 0,
             "ticks": ""
            },
            "type": "mesh3d"
           }
          ],
          "parcoords": [
           {
            "line": {
             "colorbar": {
              "outlinewidth": 0,
              "ticks": ""
             }
            },
            "type": "parcoords"
           }
          ],
          "pie": [
           {
            "automargin": true,
            "type": "pie"
           }
          ],
          "scatter": [
           {
            "marker": {
             "line": {
              "color": "#283442"
             }
            },
            "type": "scatter"
           }
          ],
          "scatter3d": [
           {
            "line": {
             "colorbar": {
              "outlinewidth": 0,
              "ticks": ""
             }
            },
            "marker": {
             "colorbar": {
              "outlinewidth": 0,
              "ticks": ""
             }
            },
            "type": "scatter3d"
           }
          ],
          "scattercarpet": [
           {
            "marker": {
             "colorbar": {
              "outlinewidth": 0,
              "ticks": ""
             }
            },
            "type": "scattercarpet"
           }
          ],
          "scattergeo": [
           {
            "marker": {
             "colorbar": {
              "outlinewidth": 0,
              "ticks": ""
             }
            },
            "type": "scattergeo"
           }
          ],
          "scattergl": [
           {
            "marker": {
             "line": {
              "color": "#283442"
             }
            },
            "type": "scattergl"
           }
          ],
          "scattermapbox": [
           {
            "marker": {
             "colorbar": {
              "outlinewidth": 0,
              "ticks": ""
             }
            },
            "type": "scattermapbox"
           }
          ],
          "scatterpolar": [
           {
            "marker": {
             "colorbar": {
              "outlinewidth": 0,
              "ticks": ""
             }
            },
            "type": "scatterpolar"
           }
          ],
          "scatterpolargl": [
           {
            "marker": {
             "colorbar": {
              "outlinewidth": 0,
              "ticks": ""
             }
            },
            "type": "scatterpolargl"
           }
          ],
          "scatterternary": [
           {
            "marker": {
             "colorbar": {
              "outlinewidth": 0,
              "ticks": ""
             }
            },
            "type": "scatterternary"
           }
          ],
          "surface": [
           {
            "colorbar": {
             "outlinewidth": 0,
             "ticks": ""
            },
            "colorscale": [
             [
              0,
              "#0d0887"
             ],
             [
              0.1111111111111111,
              "#46039f"
             ],
             [
              0.2222222222222222,
              "#7201a8"
             ],
             [
              0.3333333333333333,
              "#9c179e"
             ],
             [
              0.4444444444444444,
              "#bd3786"
             ],
             [
              0.5555555555555556,
              "#d8576b"
             ],
             [
              0.6666666666666666,
              "#ed7953"
             ],
             [
              0.7777777777777778,
              "#fb9f3a"
             ],
             [
              0.8888888888888888,
              "#fdca26"
             ],
             [
              1,
              "#f0f921"
             ]
            ],
            "type": "surface"
           }
          ],
          "table": [
           {
            "cells": {
             "fill": {
              "color": "#506784"
             },
             "line": {
              "color": "rgb(17,17,17)"
             }
            },
            "header": {
             "fill": {
              "color": "#2a3f5f"
             },
             "line": {
              "color": "rgb(17,17,17)"
             }
            },
            "type": "table"
           }
          ]
         },
         "layout": {
          "annotationdefaults": {
           "arrowcolor": "#f2f5fa",
           "arrowhead": 0,
           "arrowwidth": 1
          },
          "autotypenumbers": "strict",
          "coloraxis": {
           "colorbar": {
            "outlinewidth": 0,
            "ticks": ""
           }
          },
          "colorscale": {
           "diverging": [
            [
             0,
             "#8e0152"
            ],
            [
             0.1,
             "#c51b7d"
            ],
            [
             0.2,
             "#de77ae"
            ],
            [
             0.3,
             "#f1b6da"
            ],
            [
             0.4,
             "#fde0ef"
            ],
            [
             0.5,
             "#f7f7f7"
            ],
            [
             0.6,
             "#e6f5d0"
            ],
            [
             0.7,
             "#b8e186"
            ],
            [
             0.8,
             "#7fbc41"
            ],
            [
             0.9,
             "#4d9221"
            ],
            [
             1,
             "#276419"
            ]
           ],
           "sequential": [
            [
             0,
             "#0d0887"
            ],
            [
             0.1111111111111111,
             "#46039f"
            ],
            [
             0.2222222222222222,
             "#7201a8"
            ],
            [
             0.3333333333333333,
             "#9c179e"
            ],
            [
             0.4444444444444444,
             "#bd3786"
            ],
            [
             0.5555555555555556,
             "#d8576b"
            ],
            [
             0.6666666666666666,
             "#ed7953"
            ],
            [
             0.7777777777777778,
             "#fb9f3a"
            ],
            [
             0.8888888888888888,
             "#fdca26"
            ],
            [
             1,
             "#f0f921"
            ]
           ],
           "sequentialminus": [
            [
             0,
             "#0d0887"
            ],
            [
             0.1111111111111111,
             "#46039f"
            ],
            [
             0.2222222222222222,
             "#7201a8"
            ],
            [
             0.3333333333333333,
             "#9c179e"
            ],
            [
             0.4444444444444444,
             "#bd3786"
            ],
            [
             0.5555555555555556,
             "#d8576b"
            ],
            [
             0.6666666666666666,
             "#ed7953"
            ],
            [
             0.7777777777777778,
             "#fb9f3a"
            ],
            [
             0.8888888888888888,
             "#fdca26"
            ],
            [
             1,
             "#f0f921"
            ]
           ]
          },
          "colorway": [
           "#636efa",
           "#EF553B",
           "#00cc96",
           "#ab63fa",
           "#FFA15A",
           "#19d3f3",
           "#FF6692",
           "#B6E880",
           "#FF97FF",
           "#FECB52"
          ],
          "font": {
           "color": "#f2f5fa"
          },
          "geo": {
           "bgcolor": "rgb(17,17,17)",
           "lakecolor": "rgb(17,17,17)",
           "landcolor": "rgb(17,17,17)",
           "showlakes": true,
           "showland": true,
           "subunitcolor": "#506784"
          },
          "hoverlabel": {
           "align": "left"
          },
          "hovermode": "closest",
          "mapbox": {
           "style": "dark"
          },
          "paper_bgcolor": "rgb(17,17,17)",
          "plot_bgcolor": "rgb(17,17,17)",
          "polar": {
           "angularaxis": {
            "gridcolor": "#506784",
            "linecolor": "#506784",
            "ticks": ""
           },
           "bgcolor": "rgb(17,17,17)",
           "radialaxis": {
            "gridcolor": "#506784",
            "linecolor": "#506784",
            "ticks": ""
           }
          },
          "scene": {
           "xaxis": {
            "backgroundcolor": "rgb(17,17,17)",
            "gridcolor": "#506784",
            "gridwidth": 2,
            "linecolor": "#506784",
            "showbackground": true,
            "ticks": "",
            "zerolinecolor": "#C8D4E3"
           },
           "yaxis": {
            "backgroundcolor": "rgb(17,17,17)",
            "gridcolor": "#506784",
            "gridwidth": 2,
            "linecolor": "#506784",
            "showbackground": true,
            "ticks": "",
            "zerolinecolor": "#C8D4E3"
           },
           "zaxis": {
            "backgroundcolor": "rgb(17,17,17)",
            "gridcolor": "#506784",
            "gridwidth": 2,
            "linecolor": "#506784",
            "showbackground": true,
            "ticks": "",
            "zerolinecolor": "#C8D4E3"
           }
          },
          "shapedefaults": {
           "line": {
            "color": "#f2f5fa"
           }
          },
          "sliderdefaults": {
           "bgcolor": "#C8D4E3",
           "bordercolor": "rgb(17,17,17)",
           "borderwidth": 1,
           "tickwidth": 0
          },
          "ternary": {
           "aaxis": {
            "gridcolor": "#506784",
            "linecolor": "#506784",
            "ticks": ""
           },
           "baxis": {
            "gridcolor": "#506784",
            "linecolor": "#506784",
            "ticks": ""
           },
           "bgcolor": "rgb(17,17,17)",
           "caxis": {
            "gridcolor": "#506784",
            "linecolor": "#506784",
            "ticks": ""
           }
          },
          "title": {
           "x": 0.05
          },
          "updatemenudefaults": {
           "bgcolor": "#506784",
           "borderwidth": 0
          },
          "xaxis": {
           "automargin": true,
           "gridcolor": "#283442",
           "linecolor": "#506784",
           "ticks": "",
           "title": {
            "standoff": 15
           },
           "zerolinecolor": "#283442",
           "zerolinewidth": 2
          },
          "yaxis": {
           "automargin": true,
           "gridcolor": "#283442",
           "linecolor": "#506784",
           "ticks": "",
           "title": {
            "standoff": 15
           },
           "zerolinecolor": "#283442",
           "zerolinewidth": 2
          }
         }
        },
        "title": {
         "font": {
          "size": 24
         },
         "text": "USA Weekly Deaths"
        },
        "xaxis": {
         "anchor": "y",
         "domain": [
          0,
          1
         ],
         "gridcolor": "red",
         "gridwidth": 1,
         "showgrid": true,
         "title": {
          "text": "date"
         }
        },
        "yaxis": {
         "anchor": "x",
         "domain": [
          0,
          1
         ],
         "gridcolor": "red",
         "gridwidth": 1,
         "showgrid": true,
         "title": {
          "text": "Deaths in week"
         }
        }
       }
      },
      "text/html": [
       "<div>                            <div id=\"ba5dbf70-ff98-40e2-804c-48704d895d49\" class=\"plotly-graph-div\" style=\"height:525px; width:100%;\"></div>            <script type=\"text/javascript\">                require([\"plotly\"], function(Plotly) {                    window.PLOTLYENV=window.PLOTLYENV || {};                                    if (document.getElementById(\"ba5dbf70-ff98-40e2-804c-48704d895d49\")) {                    Plotly.newPlot(                        \"ba5dbf70-ff98-40e2-804c-48704d895d49\",                        [{\"fillpattern\":{\"shape\":\"\"},\"hovertemplate\":\"date=%{x}\\u003cbr\\u003eweekly_deaths=%{y}\\u003cextra\\u003e\\u003c\\u002fextra\\u003e\",\"legendgroup\":\"\",\"line\":{\"color\":\"cyan\",\"width\":2},\"marker\":{\"symbol\":\"circle\"},\"mode\":\"lines\",\"name\":\"\",\"orientation\":\"v\",\"showlegend\":false,\"stackgroup\":\"1\",\"x\":[\"2020-02-18\",\"2020-02-19\",\"2020-02-20\",\"2020-02-21\",\"2020-02-24\",\"2020-02-25\",\"2020-02-26\",\"2020-02-27\",\"2020-02-28\",\"2020-03-02\",\"2020-03-03\",\"2020-03-04\",\"2020-03-05\",\"2020-03-06\",\"2020-03-09\",\"2020-03-10\",\"2020-03-11\",\"2020-03-12\",\"2020-03-13\",\"2020-03-16\",\"2020-03-17\",\"2020-03-18\",\"2020-03-19\",\"2020-03-20\",\"2020-03-23\",\"2020-03-24\",\"2020-03-25\",\"2020-03-26\",\"2020-03-27\",\"2020-03-30\",\"2020-03-31\",\"2020-04-01\",\"2020-04-02\",\"2020-04-03\",\"2020-04-06\",\"2020-04-07\",\"2020-04-08\",\"2020-04-09\",\"2020-04-13\",\"2020-04-14\",\"2020-04-15\",\"2020-04-16\",\"2020-04-17\",\"2020-04-20\",\"2020-04-21\",\"2020-04-22\",\"2020-04-23\",\"2020-04-24\",\"2020-04-27\",\"2020-04-28\",\"2020-04-29\",\"2020-04-30\",\"2020-05-01\",\"2020-05-04\",\"2020-05-05\",\"2020-05-06\",\"2020-05-07\",\"2020-05-08\",\"2020-05-11\",\"2020-05-12\",\"2020-05-13\",\"2020-05-14\",\"2020-05-15\",\"2020-05-18\",\"2020-05-19\",\"2020-05-20\",\"2020-05-21\",\"2020-05-22\",\"2020-05-26\",\"2020-05-27\",\"2020-05-28\",\"2020-05-29\",\"2020-06-01\",\"2020-06-02\",\"2020-06-03\",\"2020-06-04\",\"2020-06-05\",\"2020-06-08\",\"2020-06-09\",\"2020-06-10\",\"2020-06-11\",\"2020-06-12\",\"2020-06-15\",\"2020-06-16\",\"2020-06-17\",\"2020-06-18\",\"2020-06-19\",\"2020-06-22\",\"2020-06-23\",\"2020-06-24\",\"2020-06-25\",\"2020-06-26\",\"2020-06-29\",\"2020-06-30\",\"2020-07-01\",\"2020-07-02\",\"2020-07-06\",\"2020-07-07\",\"2020-07-08\",\"2020-07-09\",\"2020-07-10\",\"2020-07-13\",\"2020-07-14\",\"2020-07-15\",\"2020-07-16\",\"2020-07-17\",\"2020-07-20\",\"2020-07-21\",\"2020-07-22\",\"2020-07-23\",\"2020-07-24\",\"2020-07-27\",\"2020-07-28\",\"2020-07-29\",\"2020-07-30\",\"2020-07-31\",\"2020-08-03\",\"2020-08-04\",\"2020-08-05\",\"2020-08-06\",\"2020-08-07\",\"2020-08-10\",\"2020-08-11\",\"2020-08-12\",\"2020-08-13\",\"2020-08-14\",\"2020-08-17\",\"2020-08-18\",\"2020-08-19\",\"2020-08-20\",\"2020-08-21\",\"2020-08-24\",\"2020-08-25\",\"2020-08-26\",\"2020-08-27\",\"2020-08-28\",\"2020-08-31\",\"2020-09-01\",\"2020-09-02\",\"2020-09-03\",\"2020-09-04\",\"2020-09-08\",\"2020-09-09\",\"2020-09-10\",\"2020-09-11\",\"2020-09-14\",\"2020-09-15\",\"2020-09-16\",\"2020-09-17\",\"2020-09-18\",\"2020-09-21\",\"2020-09-22\",\"2020-09-23\",\"2020-09-24\",\"2020-09-25\",\"2020-09-28\",\"2020-09-29\",\"2020-09-30\",\"2020-10-01\",\"2020-10-02\",\"2020-10-05\",\"2020-10-06\",\"2020-10-07\",\"2020-10-08\",\"2020-10-09\",\"2020-10-12\",\"2020-10-13\",\"2020-10-14\",\"2020-10-15\",\"2020-10-16\",\"2020-10-19\",\"2020-10-20\",\"2020-10-21\",\"2020-10-22\",\"2020-10-23\",\"2020-10-26\",\"2020-10-27\",\"2020-10-28\",\"2020-10-29\",\"2020-10-30\",\"2020-11-02\",\"2020-11-03\",\"2020-11-04\",\"2020-11-05\",\"2020-11-06\",\"2020-11-09\",\"2020-11-10\",\"2020-11-11\",\"2020-11-12\",\"2020-11-13\",\"2020-11-16\",\"2020-11-17\",\"2020-11-18\",\"2020-11-19\",\"2020-11-20\",\"2020-11-23\",\"2020-11-24\",\"2020-11-25\",\"2020-11-27\",\"2020-11-30\",\"2020-12-01\",\"2020-12-02\",\"2020-12-03\",\"2020-12-04\",\"2020-12-07\",\"2020-12-08\",\"2020-12-09\",\"2020-12-10\",\"2020-12-11\",\"2020-12-14\",\"2020-12-15\",\"2020-12-16\",\"2020-12-17\",\"2020-12-18\",\"2020-12-21\",\"2020-12-22\",\"2020-12-23\",\"2020-12-24\",\"2020-12-28\",\"2020-12-29\",\"2020-12-30\",\"2020-12-31\",\"2021-01-04\",\"2021-01-05\",\"2021-01-06\",\"2021-01-07\",\"2021-01-08\",\"2021-01-11\",\"2021-01-12\",\"2021-01-13\",\"2021-01-14\",\"2021-01-15\",\"2021-01-19\",\"2021-01-20\",\"2021-01-21\",\"2021-01-22\",\"2021-01-25\",\"2021-01-26\",\"2021-01-27\",\"2021-01-28\",\"2021-01-29\",\"2021-02-01\",\"2021-02-02\",\"2021-02-03\",\"2021-02-04\",\"2021-02-05\",\"2021-02-08\",\"2021-02-09\",\"2021-02-10\",\"2021-02-11\",\"2021-02-12\",\"2021-02-16\",\"2021-02-17\",\"2021-02-18\",\"2021-02-19\",\"2021-02-22\",\"2021-02-23\",\"2021-02-24\",\"2021-02-25\",\"2021-02-26\",\"2021-03-01\",\"2021-03-02\",\"2021-03-03\",\"2021-03-04\",\"2021-03-05\",\"2021-03-08\",\"2021-03-09\",\"2021-03-10\",\"2021-03-11\",\"2021-03-12\",\"2021-03-15\",\"2021-03-16\",\"2021-03-17\",\"2021-03-18\",\"2021-03-19\",\"2021-03-22\",\"2021-03-23\",\"2021-03-24\",\"2021-03-25\",\"2021-03-26\",\"2021-03-29\",\"2021-03-30\",\"2021-03-31\",\"2021-04-01\",\"2021-04-05\",\"2021-04-06\",\"2021-04-07\",\"2021-04-08\",\"2021-04-09\",\"2021-04-12\",\"2021-04-13\",\"2021-04-14\",\"2021-04-15\",\"2021-04-16\",\"2021-04-19\",\"2021-04-20\",\"2021-04-21\",\"2021-04-22\",\"2021-04-23\",\"2021-04-26\",\"2021-04-27\",\"2021-04-28\",\"2021-04-29\",\"2021-04-30\",\"2021-05-03\",\"2021-05-04\",\"2021-05-05\",\"2021-05-06\",\"2021-05-07\",\"2021-05-10\",\"2021-05-11\",\"2021-05-12\",\"2021-05-13\",\"2021-05-14\",\"2021-05-17\",\"2021-05-18\",\"2021-05-19\",\"2021-05-20\",\"2021-05-21\",\"2021-05-24\",\"2021-05-25\",\"2021-05-26\",\"2021-05-27\",\"2021-05-28\",\"2021-06-01\",\"2021-06-02\",\"2021-06-03\",\"2021-06-04\",\"2021-06-07\",\"2021-06-08\",\"2021-06-09\",\"2021-06-10\",\"2021-06-11\",\"2021-06-14\",\"2021-06-15\",\"2021-06-16\",\"2021-06-17\",\"2021-06-18\",\"2021-06-21\",\"2021-06-22\",\"2021-06-23\",\"2021-06-24\",\"2021-06-25\",\"2021-06-28\",\"2021-06-29\",\"2021-06-30\",\"2021-07-01\",\"2021-07-02\",\"2021-07-06\",\"2021-07-07\",\"2021-07-08\",\"2021-07-09\",\"2021-07-12\",\"2021-07-13\",\"2021-07-14\",\"2021-07-15\",\"2021-07-16\",\"2021-07-19\",\"2021-07-20\",\"2021-07-21\",\"2021-07-22\",\"2021-07-23\",\"2021-07-26\",\"2021-07-27\",\"2021-07-28\",\"2021-07-29\",\"2021-07-30\",\"2021-08-02\",\"2021-08-03\",\"2021-08-04\",\"2021-08-05\",\"2021-08-06\",\"2021-08-09\",\"2021-08-10\",\"2021-08-11\",\"2021-08-12\",\"2021-08-13\",\"2021-08-16\",\"2021-08-17\",\"2021-08-18\",\"2021-08-19\",\"2021-08-20\",\"2021-08-23\",\"2021-08-24\",\"2021-08-25\",\"2021-08-26\",\"2021-08-27\",\"2021-08-30\",\"2021-08-31\",\"2021-09-01\",\"2021-09-02\",\"2021-09-03\",\"2021-09-07\",\"2021-09-08\",\"2021-09-09\",\"2021-09-10\",\"2021-09-13\",\"2021-09-14\",\"2021-09-15\",\"2021-09-16\",\"2021-09-17\",\"2021-09-20\",\"2021-09-21\",\"2021-09-22\",\"2021-09-23\",\"2021-09-24\",\"2021-09-27\",\"2021-09-28\",\"2021-09-29\",\"2021-09-30\",\"2021-10-01\",\"2021-10-04\",\"2021-10-05\",\"2021-10-06\",\"2021-10-07\",\"2021-10-08\",\"2021-10-11\",\"2021-10-12\",\"2021-10-13\",\"2021-10-14\",\"2021-10-15\",\"2021-10-18\",\"2021-10-19\",\"2021-10-20\",\"2021-10-21\",\"2021-10-22\",\"2021-10-25\",\"2021-10-26\",\"2021-10-27\",\"2021-10-28\",\"2021-10-29\",\"2021-11-01\",\"2021-11-02\",\"2021-11-03\",\"2021-11-04\",\"2021-11-05\",\"2021-11-08\",\"2021-11-09\",\"2021-11-10\",\"2021-11-11\",\"2021-11-12\",\"2021-11-15\",\"2021-11-16\",\"2021-11-17\",\"2021-11-18\",\"2021-11-19\",\"2021-11-22\",\"2021-11-23\",\"2021-11-24\",\"2021-11-26\",\"2021-11-29\",\"2021-11-30\",\"2021-12-01\",\"2021-12-02\",\"2021-12-03\",\"2021-12-06\",\"2021-12-07\",\"2021-12-08\",\"2021-12-09\",\"2021-12-10\",\"2021-12-13\",\"2021-12-14\",\"2021-12-15\",\"2021-12-16\",\"2021-12-17\",\"2021-12-20\",\"2021-12-21\",\"2021-12-22\",\"2021-12-23\",\"2021-12-27\",\"2021-12-28\",\"2021-12-29\",\"2021-12-30\",\"2021-12-31\",\"2022-01-03\",\"2022-01-04\",\"2022-01-05\",\"2022-01-06\",\"2022-01-07\",\"2022-01-10\",\"2022-01-11\",\"2022-01-12\",\"2022-01-13\",\"2022-01-14\",\"2022-01-18\",\"2022-01-19\",\"2022-01-20\",\"2022-01-21\",\"2022-01-24\",\"2022-01-25\",\"2022-01-26\",\"2022-01-27\",\"2022-01-28\",\"2022-01-31\",\"2022-02-01\",\"2022-02-02\",\"2022-02-03\",\"2022-02-04\",\"2022-02-07\",\"2022-02-08\",\"2022-02-09\",\"2022-02-10\",\"2022-02-11\",\"2022-02-14\",\"2022-02-15\",\"2022-02-16\",\"2022-02-17\",\"2022-02-18\",\"2022-02-22\",\"2022-02-23\",\"2022-02-24\",\"2022-02-25\",\"2022-02-28\",\"2022-03-01\",\"2022-03-02\",\"2022-03-03\",\"2022-03-04\",\"2022-03-07\",\"2022-03-08\",\"2022-03-09\",\"2022-03-10\",\"2022-03-11\",\"2022-03-14\",\"2022-03-15\",\"2022-03-16\",\"2022-03-17\",\"2022-03-18\",\"2022-03-21\",\"2022-03-22\",\"2022-03-23\",\"2022-03-24\",\"2022-03-25\",\"2022-03-28\",\"2022-03-29\",\"2022-03-30\",\"2022-03-31\",\"2022-04-01\",\"2022-04-04\",\"2022-04-05\",\"2022-04-06\",\"2022-04-07\",\"2022-04-08\",\"2022-04-11\",\"2022-04-12\",\"2022-04-13\",\"2022-04-14\",\"2022-04-18\",\"2022-04-19\",\"2022-04-20\",\"2022-04-21\",\"2022-04-22\",\"2022-04-25\",\"2022-04-26\",\"2022-04-27\",\"2022-04-28\",\"2022-04-29\",\"2022-05-02\",\"2022-05-03\",\"2022-05-04\",\"2022-05-05\",\"2022-05-06\",\"2022-05-09\",\"2022-05-10\",\"2022-05-11\",\"2022-05-12\",\"2022-05-13\",\"2022-05-16\",\"2022-05-17\",\"2022-05-18\",\"2022-05-19\",\"2022-05-20\",\"2022-05-23\",\"2022-05-24\",\"2022-05-25\",\"2022-05-26\",\"2022-05-27\",\"2022-05-31\",\"2022-06-01\",\"2022-06-02\",\"2022-06-03\",\"2022-06-06\",\"2022-06-07\",\"2022-06-08\",\"2022-06-09\",\"2022-06-10\",\"2022-06-13\",\"2022-06-14\",\"2022-06-15\",\"2022-06-16\",\"2022-06-17\",\"2022-06-21\",\"2022-06-22\",\"2022-06-23\",\"2022-06-24\",\"2022-06-27\",\"2022-06-28\",\"2022-06-29\",\"2022-06-30\",\"2022-07-01\",\"2022-07-05\",\"2022-07-06\",\"2022-07-07\",\"2022-07-08\",\"2022-07-11\",\"2022-07-12\",\"2022-07-13\",\"2022-07-14\",\"2022-07-15\",\"2022-07-18\",\"2022-07-19\",\"2022-07-20\",\"2022-07-21\",\"2022-07-22\",\"2022-07-25\",\"2022-07-26\",\"2022-07-27\",\"2022-07-28\",\"2022-07-29\",\"2022-08-01\",\"2022-08-02\",\"2022-08-03\",\"2022-08-04\",\"2022-08-05\",\"2022-08-08\",\"2022-08-09\",\"2022-08-10\",\"2022-08-11\",\"2022-08-12\",\"2022-08-15\",\"2022-08-16\",\"2022-08-17\",\"2022-08-18\",\"2022-08-19\",\"2022-08-22\",\"2022-08-23\",\"2022-08-24\",\"2022-08-25\",\"2022-08-26\"],\"xaxis\":\"x\",\"y\":[0.0,0.0,0.0,0.0,0.0,0.0,0.0,0.0,0.0,1.0,1.0,1.0,1.0,1.0,18.0,18.0,18.0,18.0,18.0,50.0,50.0,50.0,50.0,50.0,305.0,305.0,305.0,305.0,305.0,1732.0,1732.0,1732.0,1732.0,1732.0,6642.0,6642.0,6642.0,6642.0,13889.0,13889.0,13889.0,13889.0,13889.0,15898.0,15898.0,15898.0,15898.0,15898.0,14899.0,14899.0,14899.0,14899.0,14899.0,13635.0,13635.0,13635.0,13635.0,13635.0,12758.0,12758.0,12758.0,12758.0,12758.0,10130.0,10130.0,10130.0,10130.0,10130.0,8558.0,8558.0,8558.0,8558.0,6810.0,6810.0,6810.0,6810.0,6810.0,5987.0,5987.0,5987.0,5987.0,5987.0,5370.0,5370.0,5370.0,5370.0,5370.0,4455.0,4455.0,4455.0,4455.0,4455.0,6081.0,6081.0,6081.0,6081.0,4451.0,4451.0,4451.0,4451.0,4451.0,5529.0,5529.0,5529.0,5529.0,5529.0,6666.0,6666.0,6666.0,6666.0,6666.0,7726.0,7726.0,7726.0,7726.0,7726.0,8146.0,8146.0,8146.0,8146.0,8146.0,7799.0,7799.0,7799.0,7799.0,7799.0,7404.0,7404.0,7404.0,7404.0,7404.0,6677.0,6677.0,6677.0,6677.0,6677.0,6343.0,6343.0,6343.0,6343.0,6343.0,5705.0,5705.0,5705.0,5705.0,4977.0,4977.0,4977.0,4977.0,4977.0,5176.0,5176.0,5176.0,5176.0,5176.0,4776.0,4776.0,4776.0,4776.0,4776.0,4687.0,4687.0,4687.0,4687.0,4687.0,4615.0,4615.0,4615.0,4615.0,4615.0,4801.0,4801.0,4801.0,4801.0,4801.0,5723.0,5723.0,5723.0,5723.0,5723.0,6096.0,6096.0,6096.0,6096.0,6096.0,7204.0,7204.0,7204.0,7204.0,7204.0,8717.0,8717.0,8717.0,8717.0,8717.0,10820.0,10820.0,10820.0,10820.0,11950.0,11950.0,11950.0,11950.0,11950.0,14801.0,14801.0,14801.0,14801.0,14801.0,17714.0,17714.0,17714.0,17714.0,17714.0,18866.0,18866.0,18866.0,18866.0,18333.0,18333.0,18333.0,18333.0,19650.0,19650.0,19650.0,19650.0,19650.0,21497.0,21497.0,21497.0,21497.0,21497.0,23312.0,23312.0,23312.0,23312.0,22495.0,22495.0,22495.0,22495.0,22495.0,22249.0,22249.0,22249.0,22249.0,22249.0,20100.0,20100.0,20100.0,20100.0,20100.0,19838.0,19838.0,19838.0,19838.0,14432.0,14432.0,14432.0,14432.0,14432.0,13360.0,13360.0,13360.0,13360.0,13360.0,10446.0,10446.0,10446.0,10446.0,10446.0,8559.0,8559.0,8559.0,8559.0,8559.0,6264.0,6264.0,6264.0,6264.0,6264.0,6111.0,6111.0,6111.0,6111.0,5352.0,5352.0,5352.0,5352.0,5352.0,4903.0,4903.0,4903.0,4903.0,4903.0,4875.0,4875.0,4875.0,4875.0,4875.0,4721.0,4721.0,4721.0,4721.0,4721.0,4493.0,4493.0,4493.0,4493.0,4493.0,4451.0,4451.0,4451.0,4451.0,4451.0,3973.0,3973.0,3973.0,3973.0,3973.0,3624.0,3624.0,3624.0,3624.0,3624.0,3534.0,3534.0,3534.0,3534.0,2675.0,2675.0,2675.0,2675.0,2675.0,2624.0,2624.0,2624.0,2624.0,2624.0,1762.0,1762.0,1762.0,1762.0,1762.0,2101.0,2101.0,2101.0,2101.0,2101.0,1717.0,1717.0,1717.0,1717.0,1509.0,1509.0,1509.0,1509.0,1509.0,1931.0,1931.0,1931.0,1931.0,1931.0,2084.0,2084.0,2084.0,2084.0,2084.0,2927.0,2927.0,2927.0,2927.0,2927.0,4453.0,4453.0,4453.0,4453.0,4453.0,5637.0,5637.0,5637.0,5637.0,5637.0,8055.0,8055.0,8055.0,8055.0,8055.0,10183.0,10183.0,10183.0,10183.0,10183.0,11709.0,11709.0,11709.0,11709.0,12085.0,12085.0,12085.0,12085.0,12085.0,13590.0,13590.0,13590.0,13590.0,13590.0,13384.0,13384.0,13384.0,13384.0,13384.0,12992.0,12992.0,12992.0,12992.0,12992.0,11684.0,11684.0,11684.0,11684.0,11684.0,10462.0,10462.0,10462.0,10462.0,10462.0,11091.0,11091.0,11091.0,11091.0,11091.0,8915.0,8915.0,8915.0,8915.0,8915.0,7407.0,7407.0,7407.0,7407.0,7407.0,7529.0,7529.0,7529.0,7529.0,7529.0,10276.0,10276.0,10276.0,10276.0,5690.0,5690.0,5690.0,5690.0,5690.0,8304.0,8304.0,8304.0,8304.0,8304.0,8586.0,8586.0,8586.0,8586.0,8586.0,9065.0,9065.0,9065.0,9065.0,11001.0,11001.0,11001.0,11001.0,11001.0,9146.0,9146.0,9146.0,9146.0,9146.0,11716.0,11716.0,11716.0,11716.0,11716.0,14380.0,14380.0,14380.0,14380.0,16308.0,16308.0,16308.0,16308.0,16308.0,18403.0,18403.0,18403.0,18403.0,18403.0,18654.0,18654.0,18654.0,18654.0,18654.0,17550.0,17550.0,17550.0,17550.0,17550.0,15372.0,15372.0,15372.0,15372.0,13046.0,13046.0,13046.0,13046.0,13046.0,9678.0,9678.0,9678.0,9678.0,9678.0,8606.0,8606.0,8606.0,8606.0,8606.0,3245.0,3245.0,3245.0,3245.0,3245.0,4991.0,4991.0,4991.0,4991.0,4991.0,4172.0,4172.0,4172.0,4172.0,4172.0,3467.0,3467.0,3467.0,3467.0,3123.0,3123.0,3123.0,3123.0,3123.0,2443.0,2443.0,2443.0,2443.0,2443.0,2242.0,2242.0,2242.0,2242.0,2242.0,2641.0,2641.0,2641.0,2641.0,2641.0,1966.0,1966.0,1966.0,1966.0,1966.0,2081.0,2081.0,2081.0,2081.0,2081.0,2629.0,2629.0,2629.0,2629.0,1979.0,1979.0,1979.0,1979.0,1979.0,2284.0,2284.0,2284.0,2284.0,2284.0,2202.0,2202.0,2202.0,2202.0,2501.0,2501.0,2501.0,2501.0,2501.0,2642.0,2642.0,2642.0,2642.0,2454.0,2454.0,2454.0,2454.0,2454.0,2785.0,2785.0,2785.0,2785.0,2785.0,3187.0,3187.0,3187.0,3187.0,3187.0,3113.0,3113.0,3113.0,3113.0,3113.0,3261.0,3261.0,3261.0,3261.0,3261.0,3442.0,3442.0,3442.0,3442.0,3442.0,3231.0,3231.0,3231.0,3231.0,3231.0],\"yaxis\":\"y\",\"type\":\"scatter\"}],                        {\"template\":{\"data\":{\"barpolar\":[{\"marker\":{\"line\":{\"color\":\"rgb(17,17,17)\",\"width\":0.5},\"pattern\":{\"fillmode\":\"overlay\",\"size\":10,\"solidity\":0.2}},\"type\":\"barpolar\"}],\"bar\":[{\"error_x\":{\"color\":\"#f2f5fa\"},\"error_y\":{\"color\":\"#f2f5fa\"},\"marker\":{\"line\":{\"color\":\"rgb(17,17,17)\",\"width\":0.5},\"pattern\":{\"fillmode\":\"overlay\",\"size\":10,\"solidity\":0.2}},\"type\":\"bar\"}],\"carpet\":[{\"aaxis\":{\"endlinecolor\":\"#A2B1C6\",\"gridcolor\":\"#506784\",\"linecolor\":\"#506784\",\"minorgridcolor\":\"#506784\",\"startlinecolor\":\"#A2B1C6\"},\"baxis\":{\"endlinecolor\":\"#A2B1C6\",\"gridcolor\":\"#506784\",\"linecolor\":\"#506784\",\"minorgridcolor\":\"#506784\",\"startlinecolor\":\"#A2B1C6\"},\"type\":\"carpet\"}],\"choropleth\":[{\"colorbar\":{\"outlinewidth\":0,\"ticks\":\"\"},\"type\":\"choropleth\"}],\"contourcarpet\":[{\"colorbar\":{\"outlinewidth\":0,\"ticks\":\"\"},\"type\":\"contourcarpet\"}],\"contour\":[{\"colorbar\":{\"outlinewidth\":0,\"ticks\":\"\"},\"colorscale\":[[0.0,\"#0d0887\"],[0.1111111111111111,\"#46039f\"],[0.2222222222222222,\"#7201a8\"],[0.3333333333333333,\"#9c179e\"],[0.4444444444444444,\"#bd3786\"],[0.5555555555555556,\"#d8576b\"],[0.6666666666666666,\"#ed7953\"],[0.7777777777777778,\"#fb9f3a\"],[0.8888888888888888,\"#fdca26\"],[1.0,\"#f0f921\"]],\"type\":\"contour\"}],\"heatmapgl\":[{\"colorbar\":{\"outlinewidth\":0,\"ticks\":\"\"},\"colorscale\":[[0.0,\"#0d0887\"],[0.1111111111111111,\"#46039f\"],[0.2222222222222222,\"#7201a8\"],[0.3333333333333333,\"#9c179e\"],[0.4444444444444444,\"#bd3786\"],[0.5555555555555556,\"#d8576b\"],[0.6666666666666666,\"#ed7953\"],[0.7777777777777778,\"#fb9f3a\"],[0.8888888888888888,\"#fdca26\"],[1.0,\"#f0f921\"]],\"type\":\"heatmapgl\"}],\"heatmap\":[{\"colorbar\":{\"outlinewidth\":0,\"ticks\":\"\"},\"colorscale\":[[0.0,\"#0d0887\"],[0.1111111111111111,\"#46039f\"],[0.2222222222222222,\"#7201a8\"],[0.3333333333333333,\"#9c179e\"],[0.4444444444444444,\"#bd3786\"],[0.5555555555555556,\"#d8576b\"],[0.6666666666666666,\"#ed7953\"],[0.7777777777777778,\"#fb9f3a\"],[0.8888888888888888,\"#fdca26\"],[1.0,\"#f0f921\"]],\"type\":\"heatmap\"}],\"histogram2dcontour\":[{\"colorbar\":{\"outlinewidth\":0,\"ticks\":\"\"},\"colorscale\":[[0.0,\"#0d0887\"],[0.1111111111111111,\"#46039f\"],[0.2222222222222222,\"#7201a8\"],[0.3333333333333333,\"#9c179e\"],[0.4444444444444444,\"#bd3786\"],[0.5555555555555556,\"#d8576b\"],[0.6666666666666666,\"#ed7953\"],[0.7777777777777778,\"#fb9f3a\"],[0.8888888888888888,\"#fdca26\"],[1.0,\"#f0f921\"]],\"type\":\"histogram2dcontour\"}],\"histogram2d\":[{\"colorbar\":{\"outlinewidth\":0,\"ticks\":\"\"},\"colorscale\":[[0.0,\"#0d0887\"],[0.1111111111111111,\"#46039f\"],[0.2222222222222222,\"#7201a8\"],[0.3333333333333333,\"#9c179e\"],[0.4444444444444444,\"#bd3786\"],[0.5555555555555556,\"#d8576b\"],[0.6666666666666666,\"#ed7953\"],[0.7777777777777778,\"#fb9f3a\"],[0.8888888888888888,\"#fdca26\"],[1.0,\"#f0f921\"]],\"type\":\"histogram2d\"}],\"histogram\":[{\"marker\":{\"pattern\":{\"fillmode\":\"overlay\",\"size\":10,\"solidity\":0.2}},\"type\":\"histogram\"}],\"mesh3d\":[{\"colorbar\":{\"outlinewidth\":0,\"ticks\":\"\"},\"type\":\"mesh3d\"}],\"parcoords\":[{\"line\":{\"colorbar\":{\"outlinewidth\":0,\"ticks\":\"\"}},\"type\":\"parcoords\"}],\"pie\":[{\"automargin\":true,\"type\":\"pie\"}],\"scatter3d\":[{\"line\":{\"colorbar\":{\"outlinewidth\":0,\"ticks\":\"\"}},\"marker\":{\"colorbar\":{\"outlinewidth\":0,\"ticks\":\"\"}},\"type\":\"scatter3d\"}],\"scattercarpet\":[{\"marker\":{\"colorbar\":{\"outlinewidth\":0,\"ticks\":\"\"}},\"type\":\"scattercarpet\"}],\"scattergeo\":[{\"marker\":{\"colorbar\":{\"outlinewidth\":0,\"ticks\":\"\"}},\"type\":\"scattergeo\"}],\"scattergl\":[{\"marker\":{\"line\":{\"color\":\"#283442\"}},\"type\":\"scattergl\"}],\"scattermapbox\":[{\"marker\":{\"colorbar\":{\"outlinewidth\":0,\"ticks\":\"\"}},\"type\":\"scattermapbox\"}],\"scatterpolargl\":[{\"marker\":{\"colorbar\":{\"outlinewidth\":0,\"ticks\":\"\"}},\"type\":\"scatterpolargl\"}],\"scatterpolar\":[{\"marker\":{\"colorbar\":{\"outlinewidth\":0,\"ticks\":\"\"}},\"type\":\"scatterpolar\"}],\"scatter\":[{\"marker\":{\"line\":{\"color\":\"#283442\"}},\"type\":\"scatter\"}],\"scatterternary\":[{\"marker\":{\"colorbar\":{\"outlinewidth\":0,\"ticks\":\"\"}},\"type\":\"scatterternary\"}],\"surface\":[{\"colorbar\":{\"outlinewidth\":0,\"ticks\":\"\"},\"colorscale\":[[0.0,\"#0d0887\"],[0.1111111111111111,\"#46039f\"],[0.2222222222222222,\"#7201a8\"],[0.3333333333333333,\"#9c179e\"],[0.4444444444444444,\"#bd3786\"],[0.5555555555555556,\"#d8576b\"],[0.6666666666666666,\"#ed7953\"],[0.7777777777777778,\"#fb9f3a\"],[0.8888888888888888,\"#fdca26\"],[1.0,\"#f0f921\"]],\"type\":\"surface\"}],\"table\":[{\"cells\":{\"fill\":{\"color\":\"#506784\"},\"line\":{\"color\":\"rgb(17,17,17)\"}},\"header\":{\"fill\":{\"color\":\"#2a3f5f\"},\"line\":{\"color\":\"rgb(17,17,17)\"}},\"type\":\"table\"}]},\"layout\":{\"annotationdefaults\":{\"arrowcolor\":\"#f2f5fa\",\"arrowhead\":0,\"arrowwidth\":1},\"autotypenumbers\":\"strict\",\"coloraxis\":{\"colorbar\":{\"outlinewidth\":0,\"ticks\":\"\"}},\"colorscale\":{\"diverging\":[[0,\"#8e0152\"],[0.1,\"#c51b7d\"],[0.2,\"#de77ae\"],[0.3,\"#f1b6da\"],[0.4,\"#fde0ef\"],[0.5,\"#f7f7f7\"],[0.6,\"#e6f5d0\"],[0.7,\"#b8e186\"],[0.8,\"#7fbc41\"],[0.9,\"#4d9221\"],[1,\"#276419\"]],\"sequential\":[[0.0,\"#0d0887\"],[0.1111111111111111,\"#46039f\"],[0.2222222222222222,\"#7201a8\"],[0.3333333333333333,\"#9c179e\"],[0.4444444444444444,\"#bd3786\"],[0.5555555555555556,\"#d8576b\"],[0.6666666666666666,\"#ed7953\"],[0.7777777777777778,\"#fb9f3a\"],[0.8888888888888888,\"#fdca26\"],[1.0,\"#f0f921\"]],\"sequentialminus\":[[0.0,\"#0d0887\"],[0.1111111111111111,\"#46039f\"],[0.2222222222222222,\"#7201a8\"],[0.3333333333333333,\"#9c179e\"],[0.4444444444444444,\"#bd3786\"],[0.5555555555555556,\"#d8576b\"],[0.6666666666666666,\"#ed7953\"],[0.7777777777777778,\"#fb9f3a\"],[0.8888888888888888,\"#fdca26\"],[1.0,\"#f0f921\"]]},\"colorway\":[\"#636efa\",\"#EF553B\",\"#00cc96\",\"#ab63fa\",\"#FFA15A\",\"#19d3f3\",\"#FF6692\",\"#B6E880\",\"#FF97FF\",\"#FECB52\"],\"font\":{\"color\":\"#f2f5fa\"},\"geo\":{\"bgcolor\":\"rgb(17,17,17)\",\"lakecolor\":\"rgb(17,17,17)\",\"landcolor\":\"rgb(17,17,17)\",\"showlakes\":true,\"showland\":true,\"subunitcolor\":\"#506784\"},\"hoverlabel\":{\"align\":\"left\"},\"hovermode\":\"closest\",\"mapbox\":{\"style\":\"dark\"},\"paper_bgcolor\":\"rgb(17,17,17)\",\"plot_bgcolor\":\"rgb(17,17,17)\",\"polar\":{\"angularaxis\":{\"gridcolor\":\"#506784\",\"linecolor\":\"#506784\",\"ticks\":\"\"},\"bgcolor\":\"rgb(17,17,17)\",\"radialaxis\":{\"gridcolor\":\"#506784\",\"linecolor\":\"#506784\",\"ticks\":\"\"}},\"scene\":{\"xaxis\":{\"backgroundcolor\":\"rgb(17,17,17)\",\"gridcolor\":\"#506784\",\"gridwidth\":2,\"linecolor\":\"#506784\",\"showbackground\":true,\"ticks\":\"\",\"zerolinecolor\":\"#C8D4E3\"},\"yaxis\":{\"backgroundcolor\":\"rgb(17,17,17)\",\"gridcolor\":\"#506784\",\"gridwidth\":2,\"linecolor\":\"#506784\",\"showbackground\":true,\"ticks\":\"\",\"zerolinecolor\":\"#C8D4E3\"},\"zaxis\":{\"backgroundcolor\":\"rgb(17,17,17)\",\"gridcolor\":\"#506784\",\"gridwidth\":2,\"linecolor\":\"#506784\",\"showbackground\":true,\"ticks\":\"\",\"zerolinecolor\":\"#C8D4E3\"}},\"shapedefaults\":{\"line\":{\"color\":\"#f2f5fa\"}},\"sliderdefaults\":{\"bgcolor\":\"#C8D4E3\",\"bordercolor\":\"rgb(17,17,17)\",\"borderwidth\":1,\"tickwidth\":0},\"ternary\":{\"aaxis\":{\"gridcolor\":\"#506784\",\"linecolor\":\"#506784\",\"ticks\":\"\"},\"baxis\":{\"gridcolor\":\"#506784\",\"linecolor\":\"#506784\",\"ticks\":\"\"},\"bgcolor\":\"rgb(17,17,17)\",\"caxis\":{\"gridcolor\":\"#506784\",\"linecolor\":\"#506784\",\"ticks\":\"\"}},\"title\":{\"x\":0.05},\"updatemenudefaults\":{\"bgcolor\":\"#506784\",\"borderwidth\":0},\"xaxis\":{\"automargin\":true,\"gridcolor\":\"#283442\",\"linecolor\":\"#506784\",\"ticks\":\"\",\"title\":{\"standoff\":15},\"zerolinecolor\":\"#283442\",\"zerolinewidth\":2},\"yaxis\":{\"automargin\":true,\"gridcolor\":\"#283442\",\"linecolor\":\"#506784\",\"ticks\":\"\",\"title\":{\"standoff\":15},\"zerolinecolor\":\"#283442\",\"zerolinewidth\":2}}},\"xaxis\":{\"anchor\":\"y\",\"domain\":[0.0,1.0],\"title\":{\"text\":\"date\"},\"showgrid\":true,\"gridwidth\":1,\"gridcolor\":\"red\"},\"yaxis\":{\"anchor\":\"x\",\"domain\":[0.0,1.0],\"title\":{\"text\":\"Deaths in week\"},\"showgrid\":true,\"gridwidth\":1,\"gridcolor\":\"red\"},\"legend\":{\"tracegroupgap\":0},\"title\":{\"text\":\"USA Weekly Deaths\",\"font\":{\"size\":24}},\"plot_bgcolor\":\"black\"},                        {\"responsive\": true}                    ).then(function(){\n",
       "                            \n",
       "var gd = document.getElementById('ba5dbf70-ff98-40e2-804c-48704d895d49');\n",
       "var x = new MutationObserver(function (mutations, observer) {{\n",
       "        var display = window.getComputedStyle(gd).display;\n",
       "        if (!display || display === 'none') {{\n",
       "            console.log([gd, 'removed!']);\n",
       "            Plotly.purge(gd);\n",
       "            observer.disconnect();\n",
       "        }}\n",
       "}});\n",
       "\n",
       "// Listen for the removal of the full notebook cells\n",
       "var notebookContainer = gd.closest('#notebook-container');\n",
       "if (notebookContainer) {{\n",
       "    x.observe(notebookContainer, {childList: true});\n",
       "}}\n",
       "\n",
       "// Listen for the clearing of the current output cell\n",
       "var outputEl = gd.closest('.output');\n",
       "if (outputEl) {{\n",
       "    x.observe(outputEl, {childList: true});\n",
       "}}\n",
       "\n",
       "                        })                };                });            </script>        </div>"
      ]
     },
     "metadata": {},
     "output_type": "display_data"
    }
   ],
   "source": [
    "# fig = px.line(sp, x='ts', y='prices', labels={'ts': 'Время', 'prices': 'Цена'}, title='График цены токена LIDO DAO')\n",
    "fig = px.area(cv,x='date', y='weekly_deaths',labels={'ts': 'Время', 'prices': 'Цена'}, title='USA Weekly Deaths',template = 'plotly_dark')\n",
    "fig.update_traces(line=dict(color='cyan', width=2))  # Изменить цвет и толщину линии\n",
    "fig.update_layout(plot_bgcolor='black', title_font=dict(size=24))  # Изменить цвет фона и размер заголовка\n",
    "fig.update_xaxes(showgrid=True, gridwidth=1, gridcolor='red')  # Добавить сетку на оси x\n",
    "fig.update_yaxes(showgrid=True, gridwidth=1, gridcolor='red',title = \"Deaths in week\")  # Добавить сетку на оси y\n",
    "fig.show()\n",
    "\n",
    "\n",
    "\n"
   ]
  },
  {
   "cell_type": "code",
   "execution_count": 334,
   "id": "624ede5c",
   "metadata": {},
   "outputs": [
    {
     "data": {
      "text/html": [
       "<div>\n",
       "<style scoped>\n",
       "    .dataframe tbody tr th:only-of-type {\n",
       "        vertical-align: middle;\n",
       "    }\n",
       "\n",
       "    .dataframe tbody tr th {\n",
       "        vertical-align: top;\n",
       "    }\n",
       "\n",
       "    .dataframe thead th {\n",
       "        text-align: right;\n",
       "    }\n",
       "</style>\n",
       "<table border=\"1\" class=\"dataframe\">\n",
       "  <thead>\n",
       "    <tr style=\"text-align: right;\">\n",
       "      <th></th>\n",
       "      <th>gtr</th>\n",
       "    </tr>\n",
       "    <tr>\n",
       "      <th>date</th>\n",
       "      <th></th>\n",
       "    </tr>\n",
       "  </thead>\n",
       "  <tbody>\n",
       "    <tr>\n",
       "      <th>2020-02-18</th>\n",
       "      <td>4.0</td>\n",
       "    </tr>\n",
       "    <tr>\n",
       "      <th>2020-02-19</th>\n",
       "      <td>4.0</td>\n",
       "    </tr>\n",
       "    <tr>\n",
       "      <th>2020-02-20</th>\n",
       "      <td>4.0</td>\n",
       "    </tr>\n",
       "    <tr>\n",
       "      <th>2020-02-21</th>\n",
       "      <td>4.0</td>\n",
       "    </tr>\n",
       "    <tr>\n",
       "      <th>2020-02-24</th>\n",
       "      <td>16.0</td>\n",
       "    </tr>\n",
       "    <tr>\n",
       "      <th>...</th>\n",
       "      <td>...</td>\n",
       "    </tr>\n",
       "    <tr>\n",
       "      <th>2022-08-22</th>\n",
       "      <td>0.0</td>\n",
       "    </tr>\n",
       "    <tr>\n",
       "      <th>2022-08-23</th>\n",
       "      <td>0.0</td>\n",
       "    </tr>\n",
       "    <tr>\n",
       "      <th>2022-08-24</th>\n",
       "      <td>0.0</td>\n",
       "    </tr>\n",
       "    <tr>\n",
       "      <th>2022-08-25</th>\n",
       "      <td>0.0</td>\n",
       "    </tr>\n",
       "    <tr>\n",
       "      <th>2022-08-26</th>\n",
       "      <td>0.0</td>\n",
       "    </tr>\n",
       "  </tbody>\n",
       "</table>\n",
       "<p>638 rows × 1 columns</p>\n",
       "</div>"
      ],
      "text/plain": [
       "             gtr\n",
       "date            \n",
       "2020-02-18   4.0\n",
       "2020-02-19   4.0\n",
       "2020-02-20   4.0\n",
       "2020-02-21   4.0\n",
       "2020-02-24  16.0\n",
       "...          ...\n",
       "2022-08-22   0.0\n",
       "2022-08-23   0.0\n",
       "2022-08-24   0.0\n",
       "2022-08-25   0.0\n",
       "2022-08-26   0.0\n",
       "\n",
       "[638 rows x 1 columns]"
      ]
     },
     "execution_count": 334,
     "metadata": {},
     "output_type": "execute_result"
    }
   ],
   "source": [
    "gt"
   ]
  },
  {
   "cell_type": "code",
   "execution_count": 337,
   "id": "0620f335",
   "metadata": {},
   "outputs": [
    {
     "data": {
      "application/vnd.plotly.v1+json": {
       "config": {
        "plotlyServerURL": "https://plot.ly"
       },
       "data": [
        {
         "fillpattern": {
          "shape": ""
         },
         "hovertemplate": "variable=gtr<br>date=%{x}<br>value=%{y}<extra></extra>",
         "legendgroup": "gtr",
         "line": {
          "color": "cyan",
          "width": 2
         },
         "marker": {
          "symbol": "circle"
         },
         "mode": "lines",
         "name": "gtr",
         "orientation": "v",
         "showlegend": true,
         "stackgroup": "1",
         "type": "scatter",
         "x": [
          "2020-02-18T00:00:00",
          "2020-02-19T00:00:00",
          "2020-02-20T00:00:00",
          "2020-02-21T00:00:00",
          "2020-02-24T00:00:00",
          "2020-02-25T00:00:00",
          "2020-02-26T00:00:00",
          "2020-02-27T00:00:00",
          "2020-02-28T00:00:00",
          "2020-03-02T00:00:00",
          "2020-03-03T00:00:00",
          "2020-03-04T00:00:00",
          "2020-03-05T00:00:00",
          "2020-03-06T00:00:00",
          "2020-03-09T00:00:00",
          "2020-03-10T00:00:00",
          "2020-03-11T00:00:00",
          "2020-03-12T00:00:00",
          "2020-03-13T00:00:00",
          "2020-03-16T00:00:00",
          "2020-03-17T00:00:00",
          "2020-03-18T00:00:00",
          "2020-03-19T00:00:00",
          "2020-03-20T00:00:00",
          "2020-03-23T00:00:00",
          "2020-03-24T00:00:00",
          "2020-03-25T00:00:00",
          "2020-03-26T00:00:00",
          "2020-03-27T00:00:00",
          "2020-03-30T00:00:00",
          "2020-03-31T00:00:00",
          "2020-04-01T00:00:00",
          "2020-04-02T00:00:00",
          "2020-04-03T00:00:00",
          "2020-04-06T00:00:00",
          "2020-04-07T00:00:00",
          "2020-04-08T00:00:00",
          "2020-04-09T00:00:00",
          "2020-04-13T00:00:00",
          "2020-04-14T00:00:00",
          "2020-04-15T00:00:00",
          "2020-04-16T00:00:00",
          "2020-04-17T00:00:00",
          "2020-04-20T00:00:00",
          "2020-04-21T00:00:00",
          "2020-04-22T00:00:00",
          "2020-04-23T00:00:00",
          "2020-04-24T00:00:00",
          "2020-04-27T00:00:00",
          "2020-04-28T00:00:00",
          "2020-04-29T00:00:00",
          "2020-04-30T00:00:00",
          "2020-05-01T00:00:00",
          "2020-05-04T00:00:00",
          "2020-05-05T00:00:00",
          "2020-05-06T00:00:00",
          "2020-05-07T00:00:00",
          "2020-05-08T00:00:00",
          "2020-05-11T00:00:00",
          "2020-05-12T00:00:00",
          "2020-05-13T00:00:00",
          "2020-05-14T00:00:00",
          "2020-05-15T00:00:00",
          "2020-05-18T00:00:00",
          "2020-05-19T00:00:00",
          "2020-05-20T00:00:00",
          "2020-05-21T00:00:00",
          "2020-05-22T00:00:00",
          "2020-05-26T00:00:00",
          "2020-05-27T00:00:00",
          "2020-05-28T00:00:00",
          "2020-05-29T00:00:00",
          "2020-06-01T00:00:00",
          "2020-06-02T00:00:00",
          "2020-06-03T00:00:00",
          "2020-06-04T00:00:00",
          "2020-06-05T00:00:00",
          "2020-06-08T00:00:00",
          "2020-06-09T00:00:00",
          "2020-06-10T00:00:00",
          "2020-06-11T00:00:00",
          "2020-06-12T00:00:00",
          "2020-06-15T00:00:00",
          "2020-06-16T00:00:00",
          "2020-06-17T00:00:00",
          "2020-06-18T00:00:00",
          "2020-06-19T00:00:00",
          "2020-06-22T00:00:00",
          "2020-06-23T00:00:00",
          "2020-06-24T00:00:00",
          "2020-06-25T00:00:00",
          "2020-06-26T00:00:00",
          "2020-06-29T00:00:00",
          "2020-06-30T00:00:00",
          "2020-07-01T00:00:00",
          "2020-07-02T00:00:00",
          "2020-07-06T00:00:00",
          "2020-07-07T00:00:00",
          "2020-07-08T00:00:00",
          "2020-07-09T00:00:00",
          "2020-07-10T00:00:00",
          "2020-07-13T00:00:00",
          "2020-07-14T00:00:00",
          "2020-07-15T00:00:00",
          "2020-07-16T00:00:00",
          "2020-07-17T00:00:00",
          "2020-07-20T00:00:00",
          "2020-07-21T00:00:00",
          "2020-07-22T00:00:00",
          "2020-07-23T00:00:00",
          "2020-07-24T00:00:00",
          "2020-07-27T00:00:00",
          "2020-07-28T00:00:00",
          "2020-07-29T00:00:00",
          "2020-07-30T00:00:00",
          "2020-07-31T00:00:00",
          "2020-08-03T00:00:00",
          "2020-08-04T00:00:00",
          "2020-08-05T00:00:00",
          "2020-08-06T00:00:00",
          "2020-08-07T00:00:00",
          "2020-08-10T00:00:00",
          "2020-08-11T00:00:00",
          "2020-08-12T00:00:00",
          "2020-08-13T00:00:00",
          "2020-08-14T00:00:00",
          "2020-08-17T00:00:00",
          "2020-08-18T00:00:00",
          "2020-08-19T00:00:00",
          "2020-08-20T00:00:00",
          "2020-08-21T00:00:00",
          "2020-08-24T00:00:00",
          "2020-08-25T00:00:00",
          "2020-08-26T00:00:00",
          "2020-08-27T00:00:00",
          "2020-08-28T00:00:00",
          "2020-08-31T00:00:00",
          "2020-09-01T00:00:00",
          "2020-09-02T00:00:00",
          "2020-09-03T00:00:00",
          "2020-09-04T00:00:00",
          "2020-09-08T00:00:00",
          "2020-09-09T00:00:00",
          "2020-09-10T00:00:00",
          "2020-09-11T00:00:00",
          "2020-09-14T00:00:00",
          "2020-09-15T00:00:00",
          "2020-09-16T00:00:00",
          "2020-09-17T00:00:00",
          "2020-09-18T00:00:00",
          "2020-09-21T00:00:00",
          "2020-09-22T00:00:00",
          "2020-09-23T00:00:00",
          "2020-09-24T00:00:00",
          "2020-09-25T00:00:00",
          "2020-09-28T00:00:00",
          "2020-09-29T00:00:00",
          "2020-09-30T00:00:00",
          "2020-10-01T00:00:00",
          "2020-10-02T00:00:00",
          "2020-10-05T00:00:00",
          "2020-10-06T00:00:00",
          "2020-10-07T00:00:00",
          "2020-10-08T00:00:00",
          "2020-10-09T00:00:00",
          "2020-10-12T00:00:00",
          "2020-10-13T00:00:00",
          "2020-10-14T00:00:00",
          "2020-10-15T00:00:00",
          "2020-10-16T00:00:00",
          "2020-10-19T00:00:00",
          "2020-10-20T00:00:00",
          "2020-10-21T00:00:00",
          "2020-10-22T00:00:00",
          "2020-10-23T00:00:00",
          "2020-10-26T00:00:00",
          "2020-10-27T00:00:00",
          "2020-10-28T00:00:00",
          "2020-10-29T00:00:00",
          "2020-10-30T00:00:00",
          "2020-11-02T00:00:00",
          "2020-11-03T00:00:00",
          "2020-11-04T00:00:00",
          "2020-11-05T00:00:00",
          "2020-11-06T00:00:00",
          "2020-11-09T00:00:00",
          "2020-11-10T00:00:00",
          "2020-11-11T00:00:00",
          "2020-11-12T00:00:00",
          "2020-11-13T00:00:00",
          "2020-11-16T00:00:00",
          "2020-11-17T00:00:00",
          "2020-11-18T00:00:00",
          "2020-11-19T00:00:00",
          "2020-11-20T00:00:00",
          "2020-11-23T00:00:00",
          "2020-11-24T00:00:00",
          "2020-11-25T00:00:00",
          "2020-11-27T00:00:00",
          "2020-11-30T00:00:00",
          "2020-12-01T00:00:00",
          "2020-12-02T00:00:00",
          "2020-12-03T00:00:00",
          "2020-12-04T00:00:00",
          "2020-12-07T00:00:00",
          "2020-12-08T00:00:00",
          "2020-12-09T00:00:00",
          "2020-12-10T00:00:00",
          "2020-12-11T00:00:00",
          "2020-12-14T00:00:00",
          "2020-12-15T00:00:00",
          "2020-12-16T00:00:00",
          "2020-12-17T00:00:00",
          "2020-12-18T00:00:00",
          "2020-12-21T00:00:00",
          "2020-12-22T00:00:00",
          "2020-12-23T00:00:00",
          "2020-12-24T00:00:00",
          "2020-12-28T00:00:00",
          "2020-12-29T00:00:00",
          "2020-12-30T00:00:00",
          "2020-12-31T00:00:00",
          "2021-01-04T00:00:00",
          "2021-01-05T00:00:00",
          "2021-01-06T00:00:00",
          "2021-01-07T00:00:00",
          "2021-01-08T00:00:00",
          "2021-01-11T00:00:00",
          "2021-01-12T00:00:00",
          "2021-01-13T00:00:00",
          "2021-01-14T00:00:00",
          "2021-01-15T00:00:00",
          "2021-01-19T00:00:00",
          "2021-01-20T00:00:00",
          "2021-01-21T00:00:00",
          "2021-01-22T00:00:00",
          "2021-01-25T00:00:00",
          "2021-01-26T00:00:00",
          "2021-01-27T00:00:00",
          "2021-01-28T00:00:00",
          "2021-01-29T00:00:00",
          "2021-02-01T00:00:00",
          "2021-02-02T00:00:00",
          "2021-02-03T00:00:00",
          "2021-02-04T00:00:00",
          "2021-02-05T00:00:00",
          "2021-02-08T00:00:00",
          "2021-02-09T00:00:00",
          "2021-02-10T00:00:00",
          "2021-02-11T00:00:00",
          "2021-02-12T00:00:00",
          "2021-02-16T00:00:00",
          "2021-02-17T00:00:00",
          "2021-02-18T00:00:00",
          "2021-02-19T00:00:00",
          "2021-02-22T00:00:00",
          "2021-02-23T00:00:00",
          "2021-02-24T00:00:00",
          "2021-02-25T00:00:00",
          "2021-02-26T00:00:00",
          "2021-03-01T00:00:00",
          "2021-03-02T00:00:00",
          "2021-03-03T00:00:00",
          "2021-03-04T00:00:00",
          "2021-03-05T00:00:00",
          "2021-03-08T00:00:00",
          "2021-03-09T00:00:00",
          "2021-03-10T00:00:00",
          "2021-03-11T00:00:00",
          "2021-03-12T00:00:00",
          "2021-03-15T00:00:00",
          "2021-03-16T00:00:00",
          "2021-03-17T00:00:00",
          "2021-03-18T00:00:00",
          "2021-03-19T00:00:00",
          "2021-03-22T00:00:00",
          "2021-03-23T00:00:00",
          "2021-03-24T00:00:00",
          "2021-03-25T00:00:00",
          "2021-03-26T00:00:00",
          "2021-03-29T00:00:00",
          "2021-03-30T00:00:00",
          "2021-03-31T00:00:00",
          "2021-04-01T00:00:00",
          "2021-04-05T00:00:00",
          "2021-04-06T00:00:00",
          "2021-04-07T00:00:00",
          "2021-04-08T00:00:00",
          "2021-04-09T00:00:00",
          "2021-04-12T00:00:00",
          "2021-04-13T00:00:00",
          "2021-04-14T00:00:00",
          "2021-04-15T00:00:00",
          "2021-04-16T00:00:00",
          "2021-04-19T00:00:00",
          "2021-04-20T00:00:00",
          "2021-04-21T00:00:00",
          "2021-04-22T00:00:00",
          "2021-04-23T00:00:00",
          "2021-04-26T00:00:00",
          "2021-04-27T00:00:00",
          "2021-04-28T00:00:00",
          "2021-04-29T00:00:00",
          "2021-04-30T00:00:00",
          "2021-05-03T00:00:00",
          "2021-05-04T00:00:00",
          "2021-05-05T00:00:00",
          "2021-05-06T00:00:00",
          "2021-05-07T00:00:00",
          "2021-05-10T00:00:00",
          "2021-05-11T00:00:00",
          "2021-05-12T00:00:00",
          "2021-05-13T00:00:00",
          "2021-05-14T00:00:00",
          "2021-05-17T00:00:00",
          "2021-05-18T00:00:00",
          "2021-05-19T00:00:00",
          "2021-05-20T00:00:00",
          "2021-05-21T00:00:00",
          "2021-05-24T00:00:00",
          "2021-05-25T00:00:00",
          "2021-05-26T00:00:00",
          "2021-05-27T00:00:00",
          "2021-05-28T00:00:00",
          "2021-06-01T00:00:00",
          "2021-06-02T00:00:00",
          "2021-06-03T00:00:00",
          "2021-06-04T00:00:00",
          "2021-06-07T00:00:00",
          "2021-06-08T00:00:00",
          "2021-06-09T00:00:00",
          "2021-06-10T00:00:00",
          "2021-06-11T00:00:00",
          "2021-06-14T00:00:00",
          "2021-06-15T00:00:00",
          "2021-06-16T00:00:00",
          "2021-06-17T00:00:00",
          "2021-06-18T00:00:00",
          "2021-06-21T00:00:00",
          "2021-06-22T00:00:00",
          "2021-06-23T00:00:00",
          "2021-06-24T00:00:00",
          "2021-06-25T00:00:00",
          "2021-06-28T00:00:00",
          "2021-06-29T00:00:00",
          "2021-06-30T00:00:00",
          "2021-07-01T00:00:00",
          "2021-07-02T00:00:00",
          "2021-07-06T00:00:00",
          "2021-07-07T00:00:00",
          "2021-07-08T00:00:00",
          "2021-07-09T00:00:00",
          "2021-07-12T00:00:00",
          "2021-07-13T00:00:00",
          "2021-07-14T00:00:00",
          "2021-07-15T00:00:00",
          "2021-07-16T00:00:00",
          "2021-07-19T00:00:00",
          "2021-07-20T00:00:00",
          "2021-07-21T00:00:00",
          "2021-07-22T00:00:00",
          "2021-07-23T00:00:00",
          "2021-07-26T00:00:00",
          "2021-07-27T00:00:00",
          "2021-07-28T00:00:00",
          "2021-07-29T00:00:00",
          "2021-07-30T00:00:00",
          "2021-08-02T00:00:00",
          "2021-08-03T00:00:00",
          "2021-08-04T00:00:00",
          "2021-08-05T00:00:00",
          "2021-08-06T00:00:00",
          "2021-08-09T00:00:00",
          "2021-08-10T00:00:00",
          "2021-08-11T00:00:00",
          "2021-08-12T00:00:00",
          "2021-08-13T00:00:00",
          "2021-08-16T00:00:00",
          "2021-08-17T00:00:00",
          "2021-08-18T00:00:00",
          "2021-08-19T00:00:00",
          "2021-08-20T00:00:00",
          "2021-08-23T00:00:00",
          "2021-08-24T00:00:00",
          "2021-08-25T00:00:00",
          "2021-08-26T00:00:00",
          "2021-08-27T00:00:00",
          "2021-08-30T00:00:00",
          "2021-08-31T00:00:00",
          "2021-09-01T00:00:00",
          "2021-09-02T00:00:00",
          "2021-09-03T00:00:00",
          "2021-09-07T00:00:00",
          "2021-09-08T00:00:00",
          "2021-09-09T00:00:00",
          "2021-09-10T00:00:00",
          "2021-09-13T00:00:00",
          "2021-09-14T00:00:00",
          "2021-09-15T00:00:00",
          "2021-09-16T00:00:00",
          "2021-09-17T00:00:00",
          "2021-09-20T00:00:00",
          "2021-09-21T00:00:00",
          "2021-09-22T00:00:00",
          "2021-09-23T00:00:00",
          "2021-09-24T00:00:00",
          "2021-09-27T00:00:00",
          "2021-09-28T00:00:00",
          "2021-09-29T00:00:00",
          "2021-09-30T00:00:00",
          "2021-10-01T00:00:00",
          "2021-10-04T00:00:00",
          "2021-10-05T00:00:00",
          "2021-10-06T00:00:00",
          "2021-10-07T00:00:00",
          "2021-10-08T00:00:00",
          "2021-10-11T00:00:00",
          "2021-10-12T00:00:00",
          "2021-10-13T00:00:00",
          "2021-10-14T00:00:00",
          "2021-10-15T00:00:00",
          "2021-10-18T00:00:00",
          "2021-10-19T00:00:00",
          "2021-10-20T00:00:00",
          "2021-10-21T00:00:00",
          "2021-10-22T00:00:00",
          "2021-10-25T00:00:00",
          "2021-10-26T00:00:00",
          "2021-10-27T00:00:00",
          "2021-10-28T00:00:00",
          "2021-10-29T00:00:00",
          "2021-11-01T00:00:00",
          "2021-11-02T00:00:00",
          "2021-11-03T00:00:00",
          "2021-11-04T00:00:00",
          "2021-11-05T00:00:00",
          "2021-11-08T00:00:00",
          "2021-11-09T00:00:00",
          "2021-11-10T00:00:00",
          "2021-11-11T00:00:00",
          "2021-11-12T00:00:00",
          "2021-11-15T00:00:00",
          "2021-11-16T00:00:00",
          "2021-11-17T00:00:00",
          "2021-11-18T00:00:00",
          "2021-11-19T00:00:00",
          "2021-11-22T00:00:00",
          "2021-11-23T00:00:00",
          "2021-11-24T00:00:00",
          "2021-11-26T00:00:00",
          "2021-11-29T00:00:00",
          "2021-11-30T00:00:00",
          "2021-12-01T00:00:00",
          "2021-12-02T00:00:00",
          "2021-12-03T00:00:00",
          "2021-12-06T00:00:00",
          "2021-12-07T00:00:00",
          "2021-12-08T00:00:00",
          "2021-12-09T00:00:00",
          "2021-12-10T00:00:00",
          "2021-12-13T00:00:00",
          "2021-12-14T00:00:00",
          "2021-12-15T00:00:00",
          "2021-12-16T00:00:00",
          "2021-12-17T00:00:00",
          "2021-12-20T00:00:00",
          "2021-12-21T00:00:00",
          "2021-12-22T00:00:00",
          "2021-12-23T00:00:00",
          "2021-12-27T00:00:00",
          "2021-12-28T00:00:00",
          "2021-12-29T00:00:00",
          "2021-12-30T00:00:00",
          "2021-12-31T00:00:00",
          "2022-01-03T00:00:00",
          "2022-01-04T00:00:00",
          "2022-01-05T00:00:00",
          "2022-01-06T00:00:00",
          "2022-01-07T00:00:00",
          "2022-01-10T00:00:00",
          "2022-01-11T00:00:00",
          "2022-01-12T00:00:00",
          "2022-01-13T00:00:00",
          "2022-01-14T00:00:00",
          "2022-01-18T00:00:00",
          "2022-01-19T00:00:00",
          "2022-01-20T00:00:00",
          "2022-01-21T00:00:00",
          "2022-01-24T00:00:00",
          "2022-01-25T00:00:00",
          "2022-01-26T00:00:00",
          "2022-01-27T00:00:00",
          "2022-01-28T00:00:00",
          "2022-01-31T00:00:00",
          "2022-02-01T00:00:00",
          "2022-02-02T00:00:00",
          "2022-02-03T00:00:00",
          "2022-02-04T00:00:00",
          "2022-02-07T00:00:00",
          "2022-02-08T00:00:00",
          "2022-02-09T00:00:00",
          "2022-02-10T00:00:00",
          "2022-02-11T00:00:00",
          "2022-02-14T00:00:00",
          "2022-02-15T00:00:00",
          "2022-02-16T00:00:00",
          "2022-02-17T00:00:00",
          "2022-02-18T00:00:00",
          "2022-02-22T00:00:00",
          "2022-02-23T00:00:00",
          "2022-02-24T00:00:00",
          "2022-02-25T00:00:00",
          "2022-02-28T00:00:00",
          "2022-03-01T00:00:00",
          "2022-03-02T00:00:00",
          "2022-03-03T00:00:00",
          "2022-03-04T00:00:00",
          "2022-03-07T00:00:00",
          "2022-03-08T00:00:00",
          "2022-03-09T00:00:00",
          "2022-03-10T00:00:00",
          "2022-03-11T00:00:00",
          "2022-03-14T00:00:00",
          "2022-03-15T00:00:00",
          "2022-03-16T00:00:00",
          "2022-03-17T00:00:00",
          "2022-03-18T00:00:00",
          "2022-03-21T00:00:00",
          "2022-03-22T00:00:00",
          "2022-03-23T00:00:00",
          "2022-03-24T00:00:00",
          "2022-03-25T00:00:00",
          "2022-03-28T00:00:00",
          "2022-03-29T00:00:00",
          "2022-03-30T00:00:00",
          "2022-03-31T00:00:00",
          "2022-04-01T00:00:00",
          "2022-04-04T00:00:00",
          "2022-04-05T00:00:00",
          "2022-04-06T00:00:00",
          "2022-04-07T00:00:00",
          "2022-04-08T00:00:00",
          "2022-04-11T00:00:00",
          "2022-04-12T00:00:00",
          "2022-04-13T00:00:00",
          "2022-04-14T00:00:00",
          "2022-04-18T00:00:00",
          "2022-04-19T00:00:00",
          "2022-04-20T00:00:00",
          "2022-04-21T00:00:00",
          "2022-04-22T00:00:00",
          "2022-04-25T00:00:00",
          "2022-04-26T00:00:00",
          "2022-04-27T00:00:00",
          "2022-04-28T00:00:00",
          "2022-04-29T00:00:00",
          "2022-05-02T00:00:00",
          "2022-05-03T00:00:00",
          "2022-05-04T00:00:00",
          "2022-05-05T00:00:00",
          "2022-05-06T00:00:00",
          "2022-05-09T00:00:00",
          "2022-05-10T00:00:00",
          "2022-05-11T00:00:00",
          "2022-05-12T00:00:00",
          "2022-05-13T00:00:00",
          "2022-05-16T00:00:00",
          "2022-05-17T00:00:00",
          "2022-05-18T00:00:00",
          "2022-05-19T00:00:00",
          "2022-05-20T00:00:00",
          "2022-05-23T00:00:00",
          "2022-05-24T00:00:00",
          "2022-05-25T00:00:00",
          "2022-05-26T00:00:00",
          "2022-05-27T00:00:00",
          "2022-05-31T00:00:00",
          "2022-06-01T00:00:00",
          "2022-06-02T00:00:00",
          "2022-06-03T00:00:00",
          "2022-06-06T00:00:00",
          "2022-06-07T00:00:00",
          "2022-06-08T00:00:00",
          "2022-06-09T00:00:00",
          "2022-06-10T00:00:00",
          "2022-06-13T00:00:00",
          "2022-06-14T00:00:00",
          "2022-06-15T00:00:00",
          "2022-06-16T00:00:00",
          "2022-06-17T00:00:00",
          "2022-06-21T00:00:00",
          "2022-06-22T00:00:00",
          "2022-06-23T00:00:00",
          "2022-06-24T00:00:00",
          "2022-06-27T00:00:00",
          "2022-06-28T00:00:00",
          "2022-06-29T00:00:00",
          "2022-06-30T00:00:00",
          "2022-07-01T00:00:00",
          "2022-07-05T00:00:00",
          "2022-07-06T00:00:00",
          "2022-07-07T00:00:00",
          "2022-07-08T00:00:00",
          "2022-07-11T00:00:00",
          "2022-07-12T00:00:00",
          "2022-07-13T00:00:00",
          "2022-07-14T00:00:00",
          "2022-07-15T00:00:00",
          "2022-07-18T00:00:00",
          "2022-07-19T00:00:00",
          "2022-07-20T00:00:00",
          "2022-07-21T00:00:00",
          "2022-07-22T00:00:00",
          "2022-07-25T00:00:00",
          "2022-07-26T00:00:00",
          "2022-07-27T00:00:00",
          "2022-07-28T00:00:00",
          "2022-07-29T00:00:00",
          "2022-08-01T00:00:00",
          "2022-08-02T00:00:00",
          "2022-08-03T00:00:00",
          "2022-08-04T00:00:00",
          "2022-08-05T00:00:00",
          "2022-08-08T00:00:00",
          "2022-08-09T00:00:00",
          "2022-08-10T00:00:00",
          "2022-08-11T00:00:00",
          "2022-08-12T00:00:00",
          "2022-08-15T00:00:00",
          "2022-08-16T00:00:00",
          "2022-08-17T00:00:00",
          "2022-08-18T00:00:00",
          "2022-08-19T00:00:00",
          "2022-08-22T00:00:00",
          "2022-08-23T00:00:00",
          "2022-08-24T00:00:00",
          "2022-08-25T00:00:00",
          "2022-08-26T00:00:00"
         ],
         "xaxis": "x",
         "y": [
          4,
          4,
          4,
          4,
          16,
          16,
          16,
          16,
          16,
          39,
          39,
          39,
          39,
          39,
          77,
          77,
          77,
          77,
          77,
          100,
          100,
          100,
          100,
          100,
          94,
          94,
          94,
          94,
          94,
          95,
          95,
          95,
          95,
          95,
          87,
          87,
          87,
          87,
          68,
          68,
          68,
          68,
          68,
          53,
          53,
          53,
          53,
          53,
          45,
          45,
          45,
          45,
          45,
          44,
          44,
          44,
          44,
          44,
          36,
          36,
          36,
          36,
          36,
          31,
          31,
          31,
          31,
          31,
          31,
          31,
          31,
          31,
          17,
          17,
          17,
          17,
          17,
          16,
          16,
          16,
          16,
          16,
          16,
          16,
          16,
          16,
          16,
          19,
          19,
          19,
          19,
          19,
          21,
          21,
          21,
          21,
          22,
          22,
          22,
          22,
          22,
          23,
          23,
          23,
          23,
          23,
          17,
          17,
          17,
          17,
          17,
          15,
          15,
          15,
          15,
          15,
          14,
          14,
          14,
          14,
          14,
          12,
          12,
          12,
          12,
          12,
          9,
          9,
          9,
          9,
          9,
          7,
          7,
          7,
          7,
          7,
          10,
          10,
          10,
          10,
          10,
          7,
          7,
          7,
          7,
          7,
          7,
          7,
          7,
          7,
          7,
          7,
          7,
          7,
          7,
          6,
          6,
          6,
          6,
          6,
          6,
          6,
          6,
          6,
          6,
          6,
          6,
          6,
          6,
          6,
          6,
          6,
          6,
          6,
          6,
          6,
          6,
          6,
          6,
          6,
          5,
          5,
          5,
          5,
          5,
          6,
          6,
          6,
          6,
          6,
          7,
          7,
          7,
          7,
          7,
          7,
          7,
          7,
          7,
          8,
          8,
          8,
          8,
          8,
          6,
          6,
          6,
          6,
          6,
          6,
          6,
          6,
          6,
          6,
          5,
          5,
          5,
          5,
          5,
          5,
          5,
          5,
          5,
          5,
          5,
          5,
          5,
          5,
          5,
          5,
          5,
          5,
          4,
          4,
          4,
          4,
          4,
          4,
          4,
          4,
          4,
          3,
          3,
          3,
          3,
          3,
          3,
          3,
          3,
          3,
          3,
          3,
          3,
          3,
          3,
          3,
          3,
          3,
          3,
          3,
          3,
          3,
          3,
          3,
          3,
          3,
          3,
          3,
          3,
          3,
          2,
          2,
          2,
          2,
          2,
          2,
          2,
          2,
          2,
          2,
          2,
          2,
          2,
          2,
          2,
          2,
          2,
          2,
          2,
          2,
          2,
          2,
          2,
          2,
          2,
          2,
          2,
          2,
          2,
          2,
          2,
          2,
          2,
          2,
          2,
          2,
          2,
          2,
          2,
          2,
          2,
          2,
          2,
          2,
          2,
          2,
          2,
          2,
          2,
          2,
          2,
          2,
          2,
          2,
          2,
          2,
          2,
          2,
          1,
          1,
          1,
          1,
          1,
          1,
          1,
          1,
          1,
          1,
          1,
          1,
          1,
          1,
          1,
          1,
          1,
          1,
          1,
          1,
          1,
          1,
          1,
          1,
          1,
          1,
          1,
          1,
          1,
          2,
          2,
          2,
          2,
          2,
          2,
          2,
          2,
          2,
          2,
          2,
          2,
          2,
          2,
          2,
          2,
          2,
          2,
          2,
          2,
          2,
          2,
          2,
          2,
          2,
          2,
          2,
          2,
          2,
          2,
          2,
          2,
          2,
          2,
          2,
          2,
          2,
          2,
          2,
          2,
          2,
          2,
          2,
          2,
          2,
          2,
          2,
          2,
          2,
          1,
          1,
          1,
          1,
          1,
          1,
          1,
          1,
          1,
          1,
          1,
          1,
          1,
          1,
          1,
          1,
          1,
          1,
          1,
          1,
          1,
          1,
          1,
          1,
          1,
          1,
          1,
          1,
          1,
          1,
          1,
          1,
          1,
          1,
          1,
          1,
          1,
          1,
          1,
          1,
          1,
          1,
          1,
          1,
          1,
          1,
          1,
          1,
          1,
          1,
          1,
          1,
          1,
          1,
          1,
          1,
          1,
          1,
          1,
          2,
          2,
          2,
          2,
          1,
          1,
          1,
          1,
          1,
          2,
          2,
          2,
          2,
          2,
          1,
          1,
          1,
          1,
          1,
          1,
          1,
          1,
          1,
          1,
          1,
          1,
          1,
          1,
          1,
          1,
          1,
          1,
          1,
          1,
          1,
          1,
          1,
          1,
          1,
          1,
          1,
          1,
          1,
          1,
          1,
          1,
          1,
          1,
          1,
          1,
          1,
          1,
          1,
          1,
          1,
          1,
          1,
          1,
          1,
          1,
          1,
          1,
          1,
          1,
          1,
          1,
          1,
          1,
          1,
          1,
          1,
          1,
          1,
          1,
          1,
          1,
          1,
          0,
          0,
          0,
          0,
          0,
          0,
          0,
          0,
          0,
          0,
          0,
          0,
          0,
          0,
          0,
          0,
          0,
          0,
          0,
          0,
          0,
          0,
          0,
          0,
          0,
          0,
          0,
          0,
          0,
          0,
          0,
          0,
          0,
          0,
          0,
          0,
          0,
          0,
          0,
          0,
          0,
          0,
          0,
          0,
          0,
          0,
          0,
          0,
          0,
          0,
          0,
          0,
          0,
          0,
          0,
          0,
          0,
          0,
          0,
          0,
          0,
          0,
          0,
          0,
          0,
          0,
          0,
          0,
          0,
          0,
          0,
          0,
          0,
          0,
          0,
          0,
          0,
          0,
          0,
          0,
          0,
          0,
          0,
          0,
          0,
          0,
          0,
          0,
          0,
          0,
          0,
          0,
          0,
          0,
          0,
          0
         ],
         "yaxis": "y"
        }
       ],
       "layout": {
        "legend": {
         "title": {
          "text": "variable"
         },
         "tracegroupgap": 0
        },
        "plot_bgcolor": "black",
        "template": {
         "data": {
          "bar": [
           {
            "error_x": {
             "color": "#f2f5fa"
            },
            "error_y": {
             "color": "#f2f5fa"
            },
            "marker": {
             "line": {
              "color": "rgb(17,17,17)",
              "width": 0.5
             },
             "pattern": {
              "fillmode": "overlay",
              "size": 10,
              "solidity": 0.2
             }
            },
            "type": "bar"
           }
          ],
          "barpolar": [
           {
            "marker": {
             "line": {
              "color": "rgb(17,17,17)",
              "width": 0.5
             },
             "pattern": {
              "fillmode": "overlay",
              "size": 10,
              "solidity": 0.2
             }
            },
            "type": "barpolar"
           }
          ],
          "carpet": [
           {
            "aaxis": {
             "endlinecolor": "#A2B1C6",
             "gridcolor": "#506784",
             "linecolor": "#506784",
             "minorgridcolor": "#506784",
             "startlinecolor": "#A2B1C6"
            },
            "baxis": {
             "endlinecolor": "#A2B1C6",
             "gridcolor": "#506784",
             "linecolor": "#506784",
             "minorgridcolor": "#506784",
             "startlinecolor": "#A2B1C6"
            },
            "type": "carpet"
           }
          ],
          "choropleth": [
           {
            "colorbar": {
             "outlinewidth": 0,
             "ticks": ""
            },
            "type": "choropleth"
           }
          ],
          "contour": [
           {
            "colorbar": {
             "outlinewidth": 0,
             "ticks": ""
            },
            "colorscale": [
             [
              0,
              "#0d0887"
             ],
             [
              0.1111111111111111,
              "#46039f"
             ],
             [
              0.2222222222222222,
              "#7201a8"
             ],
             [
              0.3333333333333333,
              "#9c179e"
             ],
             [
              0.4444444444444444,
              "#bd3786"
             ],
             [
              0.5555555555555556,
              "#d8576b"
             ],
             [
              0.6666666666666666,
              "#ed7953"
             ],
             [
              0.7777777777777778,
              "#fb9f3a"
             ],
             [
              0.8888888888888888,
              "#fdca26"
             ],
             [
              1,
              "#f0f921"
             ]
            ],
            "type": "contour"
           }
          ],
          "contourcarpet": [
           {
            "colorbar": {
             "outlinewidth": 0,
             "ticks": ""
            },
            "type": "contourcarpet"
           }
          ],
          "heatmap": [
           {
            "colorbar": {
             "outlinewidth": 0,
             "ticks": ""
            },
            "colorscale": [
             [
              0,
              "#0d0887"
             ],
             [
              0.1111111111111111,
              "#46039f"
             ],
             [
              0.2222222222222222,
              "#7201a8"
             ],
             [
              0.3333333333333333,
              "#9c179e"
             ],
             [
              0.4444444444444444,
              "#bd3786"
             ],
             [
              0.5555555555555556,
              "#d8576b"
             ],
             [
              0.6666666666666666,
              "#ed7953"
             ],
             [
              0.7777777777777778,
              "#fb9f3a"
             ],
             [
              0.8888888888888888,
              "#fdca26"
             ],
             [
              1,
              "#f0f921"
             ]
            ],
            "type": "heatmap"
           }
          ],
          "heatmapgl": [
           {
            "colorbar": {
             "outlinewidth": 0,
             "ticks": ""
            },
            "colorscale": [
             [
              0,
              "#0d0887"
             ],
             [
              0.1111111111111111,
              "#46039f"
             ],
             [
              0.2222222222222222,
              "#7201a8"
             ],
             [
              0.3333333333333333,
              "#9c179e"
             ],
             [
              0.4444444444444444,
              "#bd3786"
             ],
             [
              0.5555555555555556,
              "#d8576b"
             ],
             [
              0.6666666666666666,
              "#ed7953"
             ],
             [
              0.7777777777777778,
              "#fb9f3a"
             ],
             [
              0.8888888888888888,
              "#fdca26"
             ],
             [
              1,
              "#f0f921"
             ]
            ],
            "type": "heatmapgl"
           }
          ],
          "histogram": [
           {
            "marker": {
             "pattern": {
              "fillmode": "overlay",
              "size": 10,
              "solidity": 0.2
             }
            },
            "type": "histogram"
           }
          ],
          "histogram2d": [
           {
            "colorbar": {
             "outlinewidth": 0,
             "ticks": ""
            },
            "colorscale": [
             [
              0,
              "#0d0887"
             ],
             [
              0.1111111111111111,
              "#46039f"
             ],
             [
              0.2222222222222222,
              "#7201a8"
             ],
             [
              0.3333333333333333,
              "#9c179e"
             ],
             [
              0.4444444444444444,
              "#bd3786"
             ],
             [
              0.5555555555555556,
              "#d8576b"
             ],
             [
              0.6666666666666666,
              "#ed7953"
             ],
             [
              0.7777777777777778,
              "#fb9f3a"
             ],
             [
              0.8888888888888888,
              "#fdca26"
             ],
             [
              1,
              "#f0f921"
             ]
            ],
            "type": "histogram2d"
           }
          ],
          "histogram2dcontour": [
           {
            "colorbar": {
             "outlinewidth": 0,
             "ticks": ""
            },
            "colorscale": [
             [
              0,
              "#0d0887"
             ],
             [
              0.1111111111111111,
              "#46039f"
             ],
             [
              0.2222222222222222,
              "#7201a8"
             ],
             [
              0.3333333333333333,
              "#9c179e"
             ],
             [
              0.4444444444444444,
              "#bd3786"
             ],
             [
              0.5555555555555556,
              "#d8576b"
             ],
             [
              0.6666666666666666,
              "#ed7953"
             ],
             [
              0.7777777777777778,
              "#fb9f3a"
             ],
             [
              0.8888888888888888,
              "#fdca26"
             ],
             [
              1,
              "#f0f921"
             ]
            ],
            "type": "histogram2dcontour"
           }
          ],
          "mesh3d": [
           {
            "colorbar": {
             "outlinewidth": 0,
             "ticks": ""
            },
            "type": "mesh3d"
           }
          ],
          "parcoords": [
           {
            "line": {
             "colorbar": {
              "outlinewidth": 0,
              "ticks": ""
             }
            },
            "type": "parcoords"
           }
          ],
          "pie": [
           {
            "automargin": true,
            "type": "pie"
           }
          ],
          "scatter": [
           {
            "marker": {
             "line": {
              "color": "#283442"
             }
            },
            "type": "scatter"
           }
          ],
          "scatter3d": [
           {
            "line": {
             "colorbar": {
              "outlinewidth": 0,
              "ticks": ""
             }
            },
            "marker": {
             "colorbar": {
              "outlinewidth": 0,
              "ticks": ""
             }
            },
            "type": "scatter3d"
           }
          ],
          "scattercarpet": [
           {
            "marker": {
             "colorbar": {
              "outlinewidth": 0,
              "ticks": ""
             }
            },
            "type": "scattercarpet"
           }
          ],
          "scattergeo": [
           {
            "marker": {
             "colorbar": {
              "outlinewidth": 0,
              "ticks": ""
             }
            },
            "type": "scattergeo"
           }
          ],
          "scattergl": [
           {
            "marker": {
             "line": {
              "color": "#283442"
             }
            },
            "type": "scattergl"
           }
          ],
          "scattermapbox": [
           {
            "marker": {
             "colorbar": {
              "outlinewidth": 0,
              "ticks": ""
             }
            },
            "type": "scattermapbox"
           }
          ],
          "scatterpolar": [
           {
            "marker": {
             "colorbar": {
              "outlinewidth": 0,
              "ticks": ""
             }
            },
            "type": "scatterpolar"
           }
          ],
          "scatterpolargl": [
           {
            "marker": {
             "colorbar": {
              "outlinewidth": 0,
              "ticks": ""
             }
            },
            "type": "scatterpolargl"
           }
          ],
          "scatterternary": [
           {
            "marker": {
             "colorbar": {
              "outlinewidth": 0,
              "ticks": ""
             }
            },
            "type": "scatterternary"
           }
          ],
          "surface": [
           {
            "colorbar": {
             "outlinewidth": 0,
             "ticks": ""
            },
            "colorscale": [
             [
              0,
              "#0d0887"
             ],
             [
              0.1111111111111111,
              "#46039f"
             ],
             [
              0.2222222222222222,
              "#7201a8"
             ],
             [
              0.3333333333333333,
              "#9c179e"
             ],
             [
              0.4444444444444444,
              "#bd3786"
             ],
             [
              0.5555555555555556,
              "#d8576b"
             ],
             [
              0.6666666666666666,
              "#ed7953"
             ],
             [
              0.7777777777777778,
              "#fb9f3a"
             ],
             [
              0.8888888888888888,
              "#fdca26"
             ],
             [
              1,
              "#f0f921"
             ]
            ],
            "type": "surface"
           }
          ],
          "table": [
           {
            "cells": {
             "fill": {
              "color": "#506784"
             },
             "line": {
              "color": "rgb(17,17,17)"
             }
            },
            "header": {
             "fill": {
              "color": "#2a3f5f"
             },
             "line": {
              "color": "rgb(17,17,17)"
             }
            },
            "type": "table"
           }
          ]
         },
         "layout": {
          "annotationdefaults": {
           "arrowcolor": "#f2f5fa",
           "arrowhead": 0,
           "arrowwidth": 1
          },
          "autotypenumbers": "strict",
          "coloraxis": {
           "colorbar": {
            "outlinewidth": 0,
            "ticks": ""
           }
          },
          "colorscale": {
           "diverging": [
            [
             0,
             "#8e0152"
            ],
            [
             0.1,
             "#c51b7d"
            ],
            [
             0.2,
             "#de77ae"
            ],
            [
             0.3,
             "#f1b6da"
            ],
            [
             0.4,
             "#fde0ef"
            ],
            [
             0.5,
             "#f7f7f7"
            ],
            [
             0.6,
             "#e6f5d0"
            ],
            [
             0.7,
             "#b8e186"
            ],
            [
             0.8,
             "#7fbc41"
            ],
            [
             0.9,
             "#4d9221"
            ],
            [
             1,
             "#276419"
            ]
           ],
           "sequential": [
            [
             0,
             "#0d0887"
            ],
            [
             0.1111111111111111,
             "#46039f"
            ],
            [
             0.2222222222222222,
             "#7201a8"
            ],
            [
             0.3333333333333333,
             "#9c179e"
            ],
            [
             0.4444444444444444,
             "#bd3786"
            ],
            [
             0.5555555555555556,
             "#d8576b"
            ],
            [
             0.6666666666666666,
             "#ed7953"
            ],
            [
             0.7777777777777778,
             "#fb9f3a"
            ],
            [
             0.8888888888888888,
             "#fdca26"
            ],
            [
             1,
             "#f0f921"
            ]
           ],
           "sequentialminus": [
            [
             0,
             "#0d0887"
            ],
            [
             0.1111111111111111,
             "#46039f"
            ],
            [
             0.2222222222222222,
             "#7201a8"
            ],
            [
             0.3333333333333333,
             "#9c179e"
            ],
            [
             0.4444444444444444,
             "#bd3786"
            ],
            [
             0.5555555555555556,
             "#d8576b"
            ],
            [
             0.6666666666666666,
             "#ed7953"
            ],
            [
             0.7777777777777778,
             "#fb9f3a"
            ],
            [
             0.8888888888888888,
             "#fdca26"
            ],
            [
             1,
             "#f0f921"
            ]
           ]
          },
          "colorway": [
           "#636efa",
           "#EF553B",
           "#00cc96",
           "#ab63fa",
           "#FFA15A",
           "#19d3f3",
           "#FF6692",
           "#B6E880",
           "#FF97FF",
           "#FECB52"
          ],
          "font": {
           "color": "#f2f5fa"
          },
          "geo": {
           "bgcolor": "rgb(17,17,17)",
           "lakecolor": "rgb(17,17,17)",
           "landcolor": "rgb(17,17,17)",
           "showlakes": true,
           "showland": true,
           "subunitcolor": "#506784"
          },
          "hoverlabel": {
           "align": "left"
          },
          "hovermode": "closest",
          "mapbox": {
           "style": "dark"
          },
          "paper_bgcolor": "rgb(17,17,17)",
          "plot_bgcolor": "rgb(17,17,17)",
          "polar": {
           "angularaxis": {
            "gridcolor": "#506784",
            "linecolor": "#506784",
            "ticks": ""
           },
           "bgcolor": "rgb(17,17,17)",
           "radialaxis": {
            "gridcolor": "#506784",
            "linecolor": "#506784",
            "ticks": ""
           }
          },
          "scene": {
           "xaxis": {
            "backgroundcolor": "rgb(17,17,17)",
            "gridcolor": "#506784",
            "gridwidth": 2,
            "linecolor": "#506784",
            "showbackground": true,
            "ticks": "",
            "zerolinecolor": "#C8D4E3"
           },
           "yaxis": {
            "backgroundcolor": "rgb(17,17,17)",
            "gridcolor": "#506784",
            "gridwidth": 2,
            "linecolor": "#506784",
            "showbackground": true,
            "ticks": "",
            "zerolinecolor": "#C8D4E3"
           },
           "zaxis": {
            "backgroundcolor": "rgb(17,17,17)",
            "gridcolor": "#506784",
            "gridwidth": 2,
            "linecolor": "#506784",
            "showbackground": true,
            "ticks": "",
            "zerolinecolor": "#C8D4E3"
           }
          },
          "shapedefaults": {
           "line": {
            "color": "#f2f5fa"
           }
          },
          "sliderdefaults": {
           "bgcolor": "#C8D4E3",
           "bordercolor": "rgb(17,17,17)",
           "borderwidth": 1,
           "tickwidth": 0
          },
          "ternary": {
           "aaxis": {
            "gridcolor": "#506784",
            "linecolor": "#506784",
            "ticks": ""
           },
           "baxis": {
            "gridcolor": "#506784",
            "linecolor": "#506784",
            "ticks": ""
           },
           "bgcolor": "rgb(17,17,17)",
           "caxis": {
            "gridcolor": "#506784",
            "linecolor": "#506784",
            "ticks": ""
           }
          },
          "title": {
           "x": 0.05
          },
          "updatemenudefaults": {
           "bgcolor": "#506784",
           "borderwidth": 0
          },
          "xaxis": {
           "automargin": true,
           "gridcolor": "#283442",
           "linecolor": "#506784",
           "ticks": "",
           "title": {
            "standoff": 15
           },
           "zerolinecolor": "#283442",
           "zerolinewidth": 2
          },
          "yaxis": {
           "automargin": true,
           "gridcolor": "#283442",
           "linecolor": "#506784",
           "ticks": "",
           "title": {
            "standoff": 15
           },
           "zerolinecolor": "#283442",
           "zerolinewidth": 2
          }
         }
        },
        "title": {
         "font": {
          "size": 24
         },
         "text": "Coronavirus deaths google trend"
        },
        "xaxis": {
         "anchor": "y",
         "domain": [
          0,
          1
         ],
         "gridcolor": "red",
         "gridwidth": 1,
         "showgrid": true,
         "title": {
          "text": "date"
         }
        },
        "yaxis": {
         "anchor": "x",
         "domain": [
          0,
          1
         ],
         "gridcolor": "red",
         "gridwidth": 1,
         "showgrid": true,
         "title": {
          "text": "Value"
         }
        }
       }
      },
      "text/html": [
       "<div>                            <div id=\"46dc1c31-d2e5-4e9b-a00f-47bf994a3d4d\" class=\"plotly-graph-div\" style=\"height:525px; width:100%;\"></div>            <script type=\"text/javascript\">                require([\"plotly\"], function(Plotly) {                    window.PLOTLYENV=window.PLOTLYENV || {};                                    if (document.getElementById(\"46dc1c31-d2e5-4e9b-a00f-47bf994a3d4d\")) {                    Plotly.newPlot(                        \"46dc1c31-d2e5-4e9b-a00f-47bf994a3d4d\",                        [{\"fillpattern\":{\"shape\":\"\"},\"hovertemplate\":\"variable=gtr\\u003cbr\\u003edate=%{x}\\u003cbr\\u003evalue=%{y}\\u003cextra\\u003e\\u003c\\u002fextra\\u003e\",\"legendgroup\":\"gtr\",\"line\":{\"color\":\"cyan\",\"width\":2},\"marker\":{\"symbol\":\"circle\"},\"mode\":\"lines\",\"name\":\"gtr\",\"orientation\":\"v\",\"showlegend\":true,\"stackgroup\":\"1\",\"x\":[\"2020-02-18T00:00:00\",\"2020-02-19T00:00:00\",\"2020-02-20T00:00:00\",\"2020-02-21T00:00:00\",\"2020-02-24T00:00:00\",\"2020-02-25T00:00:00\",\"2020-02-26T00:00:00\",\"2020-02-27T00:00:00\",\"2020-02-28T00:00:00\",\"2020-03-02T00:00:00\",\"2020-03-03T00:00:00\",\"2020-03-04T00:00:00\",\"2020-03-05T00:00:00\",\"2020-03-06T00:00:00\",\"2020-03-09T00:00:00\",\"2020-03-10T00:00:00\",\"2020-03-11T00:00:00\",\"2020-03-12T00:00:00\",\"2020-03-13T00:00:00\",\"2020-03-16T00:00:00\",\"2020-03-17T00:00:00\",\"2020-03-18T00:00:00\",\"2020-03-19T00:00:00\",\"2020-03-20T00:00:00\",\"2020-03-23T00:00:00\",\"2020-03-24T00:00:00\",\"2020-03-25T00:00:00\",\"2020-03-26T00:00:00\",\"2020-03-27T00:00:00\",\"2020-03-30T00:00:00\",\"2020-03-31T00:00:00\",\"2020-04-01T00:00:00\",\"2020-04-02T00:00:00\",\"2020-04-03T00:00:00\",\"2020-04-06T00:00:00\",\"2020-04-07T00:00:00\",\"2020-04-08T00:00:00\",\"2020-04-09T00:00:00\",\"2020-04-13T00:00:00\",\"2020-04-14T00:00:00\",\"2020-04-15T00:00:00\",\"2020-04-16T00:00:00\",\"2020-04-17T00:00:00\",\"2020-04-20T00:00:00\",\"2020-04-21T00:00:00\",\"2020-04-22T00:00:00\",\"2020-04-23T00:00:00\",\"2020-04-24T00:00:00\",\"2020-04-27T00:00:00\",\"2020-04-28T00:00:00\",\"2020-04-29T00:00:00\",\"2020-04-30T00:00:00\",\"2020-05-01T00:00:00\",\"2020-05-04T00:00:00\",\"2020-05-05T00:00:00\",\"2020-05-06T00:00:00\",\"2020-05-07T00:00:00\",\"2020-05-08T00:00:00\",\"2020-05-11T00:00:00\",\"2020-05-12T00:00:00\",\"2020-05-13T00:00:00\",\"2020-05-14T00:00:00\",\"2020-05-15T00:00:00\",\"2020-05-18T00:00:00\",\"2020-05-19T00:00:00\",\"2020-05-20T00:00:00\",\"2020-05-21T00:00:00\",\"2020-05-22T00:00:00\",\"2020-05-26T00:00:00\",\"2020-05-27T00:00:00\",\"2020-05-28T00:00:00\",\"2020-05-29T00:00:00\",\"2020-06-01T00:00:00\",\"2020-06-02T00:00:00\",\"2020-06-03T00:00:00\",\"2020-06-04T00:00:00\",\"2020-06-05T00:00:00\",\"2020-06-08T00:00:00\",\"2020-06-09T00:00:00\",\"2020-06-10T00:00:00\",\"2020-06-11T00:00:00\",\"2020-06-12T00:00:00\",\"2020-06-15T00:00:00\",\"2020-06-16T00:00:00\",\"2020-06-17T00:00:00\",\"2020-06-18T00:00:00\",\"2020-06-19T00:00:00\",\"2020-06-22T00:00:00\",\"2020-06-23T00:00:00\",\"2020-06-24T00:00:00\",\"2020-06-25T00:00:00\",\"2020-06-26T00:00:00\",\"2020-06-29T00:00:00\",\"2020-06-30T00:00:00\",\"2020-07-01T00:00:00\",\"2020-07-02T00:00:00\",\"2020-07-06T00:00:00\",\"2020-07-07T00:00:00\",\"2020-07-08T00:00:00\",\"2020-07-09T00:00:00\",\"2020-07-10T00:00:00\",\"2020-07-13T00:00:00\",\"2020-07-14T00:00:00\",\"2020-07-15T00:00:00\",\"2020-07-16T00:00:00\",\"2020-07-17T00:00:00\",\"2020-07-20T00:00:00\",\"2020-07-21T00:00:00\",\"2020-07-22T00:00:00\",\"2020-07-23T00:00:00\",\"2020-07-24T00:00:00\",\"2020-07-27T00:00:00\",\"2020-07-28T00:00:00\",\"2020-07-29T00:00:00\",\"2020-07-30T00:00:00\",\"2020-07-31T00:00:00\",\"2020-08-03T00:00:00\",\"2020-08-04T00:00:00\",\"2020-08-05T00:00:00\",\"2020-08-06T00:00:00\",\"2020-08-07T00:00:00\",\"2020-08-10T00:00:00\",\"2020-08-11T00:00:00\",\"2020-08-12T00:00:00\",\"2020-08-13T00:00:00\",\"2020-08-14T00:00:00\",\"2020-08-17T00:00:00\",\"2020-08-18T00:00:00\",\"2020-08-19T00:00:00\",\"2020-08-20T00:00:00\",\"2020-08-21T00:00:00\",\"2020-08-24T00:00:00\",\"2020-08-25T00:00:00\",\"2020-08-26T00:00:00\",\"2020-08-27T00:00:00\",\"2020-08-28T00:00:00\",\"2020-08-31T00:00:00\",\"2020-09-01T00:00:00\",\"2020-09-02T00:00:00\",\"2020-09-03T00:00:00\",\"2020-09-04T00:00:00\",\"2020-09-08T00:00:00\",\"2020-09-09T00:00:00\",\"2020-09-10T00:00:00\",\"2020-09-11T00:00:00\",\"2020-09-14T00:00:00\",\"2020-09-15T00:00:00\",\"2020-09-16T00:00:00\",\"2020-09-17T00:00:00\",\"2020-09-18T00:00:00\",\"2020-09-21T00:00:00\",\"2020-09-22T00:00:00\",\"2020-09-23T00:00:00\",\"2020-09-24T00:00:00\",\"2020-09-25T00:00:00\",\"2020-09-28T00:00:00\",\"2020-09-29T00:00:00\",\"2020-09-30T00:00:00\",\"2020-10-01T00:00:00\",\"2020-10-02T00:00:00\",\"2020-10-05T00:00:00\",\"2020-10-06T00:00:00\",\"2020-10-07T00:00:00\",\"2020-10-08T00:00:00\",\"2020-10-09T00:00:00\",\"2020-10-12T00:00:00\",\"2020-10-13T00:00:00\",\"2020-10-14T00:00:00\",\"2020-10-15T00:00:00\",\"2020-10-16T00:00:00\",\"2020-10-19T00:00:00\",\"2020-10-20T00:00:00\",\"2020-10-21T00:00:00\",\"2020-10-22T00:00:00\",\"2020-10-23T00:00:00\",\"2020-10-26T00:00:00\",\"2020-10-27T00:00:00\",\"2020-10-28T00:00:00\",\"2020-10-29T00:00:00\",\"2020-10-30T00:00:00\",\"2020-11-02T00:00:00\",\"2020-11-03T00:00:00\",\"2020-11-04T00:00:00\",\"2020-11-05T00:00:00\",\"2020-11-06T00:00:00\",\"2020-11-09T00:00:00\",\"2020-11-10T00:00:00\",\"2020-11-11T00:00:00\",\"2020-11-12T00:00:00\",\"2020-11-13T00:00:00\",\"2020-11-16T00:00:00\",\"2020-11-17T00:00:00\",\"2020-11-18T00:00:00\",\"2020-11-19T00:00:00\",\"2020-11-20T00:00:00\",\"2020-11-23T00:00:00\",\"2020-11-24T00:00:00\",\"2020-11-25T00:00:00\",\"2020-11-27T00:00:00\",\"2020-11-30T00:00:00\",\"2020-12-01T00:00:00\",\"2020-12-02T00:00:00\",\"2020-12-03T00:00:00\",\"2020-12-04T00:00:00\",\"2020-12-07T00:00:00\",\"2020-12-08T00:00:00\",\"2020-12-09T00:00:00\",\"2020-12-10T00:00:00\",\"2020-12-11T00:00:00\",\"2020-12-14T00:00:00\",\"2020-12-15T00:00:00\",\"2020-12-16T00:00:00\",\"2020-12-17T00:00:00\",\"2020-12-18T00:00:00\",\"2020-12-21T00:00:00\",\"2020-12-22T00:00:00\",\"2020-12-23T00:00:00\",\"2020-12-24T00:00:00\",\"2020-12-28T00:00:00\",\"2020-12-29T00:00:00\",\"2020-12-30T00:00:00\",\"2020-12-31T00:00:00\",\"2021-01-04T00:00:00\",\"2021-01-05T00:00:00\",\"2021-01-06T00:00:00\",\"2021-01-07T00:00:00\",\"2021-01-08T00:00:00\",\"2021-01-11T00:00:00\",\"2021-01-12T00:00:00\",\"2021-01-13T00:00:00\",\"2021-01-14T00:00:00\",\"2021-01-15T00:00:00\",\"2021-01-19T00:00:00\",\"2021-01-20T00:00:00\",\"2021-01-21T00:00:00\",\"2021-01-22T00:00:00\",\"2021-01-25T00:00:00\",\"2021-01-26T00:00:00\",\"2021-01-27T00:00:00\",\"2021-01-28T00:00:00\",\"2021-01-29T00:00:00\",\"2021-02-01T00:00:00\",\"2021-02-02T00:00:00\",\"2021-02-03T00:00:00\",\"2021-02-04T00:00:00\",\"2021-02-05T00:00:00\",\"2021-02-08T00:00:00\",\"2021-02-09T00:00:00\",\"2021-02-10T00:00:00\",\"2021-02-11T00:00:00\",\"2021-02-12T00:00:00\",\"2021-02-16T00:00:00\",\"2021-02-17T00:00:00\",\"2021-02-18T00:00:00\",\"2021-02-19T00:00:00\",\"2021-02-22T00:00:00\",\"2021-02-23T00:00:00\",\"2021-02-24T00:00:00\",\"2021-02-25T00:00:00\",\"2021-02-26T00:00:00\",\"2021-03-01T00:00:00\",\"2021-03-02T00:00:00\",\"2021-03-03T00:00:00\",\"2021-03-04T00:00:00\",\"2021-03-05T00:00:00\",\"2021-03-08T00:00:00\",\"2021-03-09T00:00:00\",\"2021-03-10T00:00:00\",\"2021-03-11T00:00:00\",\"2021-03-12T00:00:00\",\"2021-03-15T00:00:00\",\"2021-03-16T00:00:00\",\"2021-03-17T00:00:00\",\"2021-03-18T00:00:00\",\"2021-03-19T00:00:00\",\"2021-03-22T00:00:00\",\"2021-03-23T00:00:00\",\"2021-03-24T00:00:00\",\"2021-03-25T00:00:00\",\"2021-03-26T00:00:00\",\"2021-03-29T00:00:00\",\"2021-03-30T00:00:00\",\"2021-03-31T00:00:00\",\"2021-04-01T00:00:00\",\"2021-04-05T00:00:00\",\"2021-04-06T00:00:00\",\"2021-04-07T00:00:00\",\"2021-04-08T00:00:00\",\"2021-04-09T00:00:00\",\"2021-04-12T00:00:00\",\"2021-04-13T00:00:00\",\"2021-04-14T00:00:00\",\"2021-04-15T00:00:00\",\"2021-04-16T00:00:00\",\"2021-04-19T00:00:00\",\"2021-04-20T00:00:00\",\"2021-04-21T00:00:00\",\"2021-04-22T00:00:00\",\"2021-04-23T00:00:00\",\"2021-04-26T00:00:00\",\"2021-04-27T00:00:00\",\"2021-04-28T00:00:00\",\"2021-04-29T00:00:00\",\"2021-04-30T00:00:00\",\"2021-05-03T00:00:00\",\"2021-05-04T00:00:00\",\"2021-05-05T00:00:00\",\"2021-05-06T00:00:00\",\"2021-05-07T00:00:00\",\"2021-05-10T00:00:00\",\"2021-05-11T00:00:00\",\"2021-05-12T00:00:00\",\"2021-05-13T00:00:00\",\"2021-05-14T00:00:00\",\"2021-05-17T00:00:00\",\"2021-05-18T00:00:00\",\"2021-05-19T00:00:00\",\"2021-05-20T00:00:00\",\"2021-05-21T00:00:00\",\"2021-05-24T00:00:00\",\"2021-05-25T00:00:00\",\"2021-05-26T00:00:00\",\"2021-05-27T00:00:00\",\"2021-05-28T00:00:00\",\"2021-06-01T00:00:00\",\"2021-06-02T00:00:00\",\"2021-06-03T00:00:00\",\"2021-06-04T00:00:00\",\"2021-06-07T00:00:00\",\"2021-06-08T00:00:00\",\"2021-06-09T00:00:00\",\"2021-06-10T00:00:00\",\"2021-06-11T00:00:00\",\"2021-06-14T00:00:00\",\"2021-06-15T00:00:00\",\"2021-06-16T00:00:00\",\"2021-06-17T00:00:00\",\"2021-06-18T00:00:00\",\"2021-06-21T00:00:00\",\"2021-06-22T00:00:00\",\"2021-06-23T00:00:00\",\"2021-06-24T00:00:00\",\"2021-06-25T00:00:00\",\"2021-06-28T00:00:00\",\"2021-06-29T00:00:00\",\"2021-06-30T00:00:00\",\"2021-07-01T00:00:00\",\"2021-07-02T00:00:00\",\"2021-07-06T00:00:00\",\"2021-07-07T00:00:00\",\"2021-07-08T00:00:00\",\"2021-07-09T00:00:00\",\"2021-07-12T00:00:00\",\"2021-07-13T00:00:00\",\"2021-07-14T00:00:00\",\"2021-07-15T00:00:00\",\"2021-07-16T00:00:00\",\"2021-07-19T00:00:00\",\"2021-07-20T00:00:00\",\"2021-07-21T00:00:00\",\"2021-07-22T00:00:00\",\"2021-07-23T00:00:00\",\"2021-07-26T00:00:00\",\"2021-07-27T00:00:00\",\"2021-07-28T00:00:00\",\"2021-07-29T00:00:00\",\"2021-07-30T00:00:00\",\"2021-08-02T00:00:00\",\"2021-08-03T00:00:00\",\"2021-08-04T00:00:00\",\"2021-08-05T00:00:00\",\"2021-08-06T00:00:00\",\"2021-08-09T00:00:00\",\"2021-08-10T00:00:00\",\"2021-08-11T00:00:00\",\"2021-08-12T00:00:00\",\"2021-08-13T00:00:00\",\"2021-08-16T00:00:00\",\"2021-08-17T00:00:00\",\"2021-08-18T00:00:00\",\"2021-08-19T00:00:00\",\"2021-08-20T00:00:00\",\"2021-08-23T00:00:00\",\"2021-08-24T00:00:00\",\"2021-08-25T00:00:00\",\"2021-08-26T00:00:00\",\"2021-08-27T00:00:00\",\"2021-08-30T00:00:00\",\"2021-08-31T00:00:00\",\"2021-09-01T00:00:00\",\"2021-09-02T00:00:00\",\"2021-09-03T00:00:00\",\"2021-09-07T00:00:00\",\"2021-09-08T00:00:00\",\"2021-09-09T00:00:00\",\"2021-09-10T00:00:00\",\"2021-09-13T00:00:00\",\"2021-09-14T00:00:00\",\"2021-09-15T00:00:00\",\"2021-09-16T00:00:00\",\"2021-09-17T00:00:00\",\"2021-09-20T00:00:00\",\"2021-09-21T00:00:00\",\"2021-09-22T00:00:00\",\"2021-09-23T00:00:00\",\"2021-09-24T00:00:00\",\"2021-09-27T00:00:00\",\"2021-09-28T00:00:00\",\"2021-09-29T00:00:00\",\"2021-09-30T00:00:00\",\"2021-10-01T00:00:00\",\"2021-10-04T00:00:00\",\"2021-10-05T00:00:00\",\"2021-10-06T00:00:00\",\"2021-10-07T00:00:00\",\"2021-10-08T00:00:00\",\"2021-10-11T00:00:00\",\"2021-10-12T00:00:00\",\"2021-10-13T00:00:00\",\"2021-10-14T00:00:00\",\"2021-10-15T00:00:00\",\"2021-10-18T00:00:00\",\"2021-10-19T00:00:00\",\"2021-10-20T00:00:00\",\"2021-10-21T00:00:00\",\"2021-10-22T00:00:00\",\"2021-10-25T00:00:00\",\"2021-10-26T00:00:00\",\"2021-10-27T00:00:00\",\"2021-10-28T00:00:00\",\"2021-10-29T00:00:00\",\"2021-11-01T00:00:00\",\"2021-11-02T00:00:00\",\"2021-11-03T00:00:00\",\"2021-11-04T00:00:00\",\"2021-11-05T00:00:00\",\"2021-11-08T00:00:00\",\"2021-11-09T00:00:00\",\"2021-11-10T00:00:00\",\"2021-11-11T00:00:00\",\"2021-11-12T00:00:00\",\"2021-11-15T00:00:00\",\"2021-11-16T00:00:00\",\"2021-11-17T00:00:00\",\"2021-11-18T00:00:00\",\"2021-11-19T00:00:00\",\"2021-11-22T00:00:00\",\"2021-11-23T00:00:00\",\"2021-11-24T00:00:00\",\"2021-11-26T00:00:00\",\"2021-11-29T00:00:00\",\"2021-11-30T00:00:00\",\"2021-12-01T00:00:00\",\"2021-12-02T00:00:00\",\"2021-12-03T00:00:00\",\"2021-12-06T00:00:00\",\"2021-12-07T00:00:00\",\"2021-12-08T00:00:00\",\"2021-12-09T00:00:00\",\"2021-12-10T00:00:00\",\"2021-12-13T00:00:00\",\"2021-12-14T00:00:00\",\"2021-12-15T00:00:00\",\"2021-12-16T00:00:00\",\"2021-12-17T00:00:00\",\"2021-12-20T00:00:00\",\"2021-12-21T00:00:00\",\"2021-12-22T00:00:00\",\"2021-12-23T00:00:00\",\"2021-12-27T00:00:00\",\"2021-12-28T00:00:00\",\"2021-12-29T00:00:00\",\"2021-12-30T00:00:00\",\"2021-12-31T00:00:00\",\"2022-01-03T00:00:00\",\"2022-01-04T00:00:00\",\"2022-01-05T00:00:00\",\"2022-01-06T00:00:00\",\"2022-01-07T00:00:00\",\"2022-01-10T00:00:00\",\"2022-01-11T00:00:00\",\"2022-01-12T00:00:00\",\"2022-01-13T00:00:00\",\"2022-01-14T00:00:00\",\"2022-01-18T00:00:00\",\"2022-01-19T00:00:00\",\"2022-01-20T00:00:00\",\"2022-01-21T00:00:00\",\"2022-01-24T00:00:00\",\"2022-01-25T00:00:00\",\"2022-01-26T00:00:00\",\"2022-01-27T00:00:00\",\"2022-01-28T00:00:00\",\"2022-01-31T00:00:00\",\"2022-02-01T00:00:00\",\"2022-02-02T00:00:00\",\"2022-02-03T00:00:00\",\"2022-02-04T00:00:00\",\"2022-02-07T00:00:00\",\"2022-02-08T00:00:00\",\"2022-02-09T00:00:00\",\"2022-02-10T00:00:00\",\"2022-02-11T00:00:00\",\"2022-02-14T00:00:00\",\"2022-02-15T00:00:00\",\"2022-02-16T00:00:00\",\"2022-02-17T00:00:00\",\"2022-02-18T00:00:00\",\"2022-02-22T00:00:00\",\"2022-02-23T00:00:00\",\"2022-02-24T00:00:00\",\"2022-02-25T00:00:00\",\"2022-02-28T00:00:00\",\"2022-03-01T00:00:00\",\"2022-03-02T00:00:00\",\"2022-03-03T00:00:00\",\"2022-03-04T00:00:00\",\"2022-03-07T00:00:00\",\"2022-03-08T00:00:00\",\"2022-03-09T00:00:00\",\"2022-03-10T00:00:00\",\"2022-03-11T00:00:00\",\"2022-03-14T00:00:00\",\"2022-03-15T00:00:00\",\"2022-03-16T00:00:00\",\"2022-03-17T00:00:00\",\"2022-03-18T00:00:00\",\"2022-03-21T00:00:00\",\"2022-03-22T00:00:00\",\"2022-03-23T00:00:00\",\"2022-03-24T00:00:00\",\"2022-03-25T00:00:00\",\"2022-03-28T00:00:00\",\"2022-03-29T00:00:00\",\"2022-03-30T00:00:00\",\"2022-03-31T00:00:00\",\"2022-04-01T00:00:00\",\"2022-04-04T00:00:00\",\"2022-04-05T00:00:00\",\"2022-04-06T00:00:00\",\"2022-04-07T00:00:00\",\"2022-04-08T00:00:00\",\"2022-04-11T00:00:00\",\"2022-04-12T00:00:00\",\"2022-04-13T00:00:00\",\"2022-04-14T00:00:00\",\"2022-04-18T00:00:00\",\"2022-04-19T00:00:00\",\"2022-04-20T00:00:00\",\"2022-04-21T00:00:00\",\"2022-04-22T00:00:00\",\"2022-04-25T00:00:00\",\"2022-04-26T00:00:00\",\"2022-04-27T00:00:00\",\"2022-04-28T00:00:00\",\"2022-04-29T00:00:00\",\"2022-05-02T00:00:00\",\"2022-05-03T00:00:00\",\"2022-05-04T00:00:00\",\"2022-05-05T00:00:00\",\"2022-05-06T00:00:00\",\"2022-05-09T00:00:00\",\"2022-05-10T00:00:00\",\"2022-05-11T00:00:00\",\"2022-05-12T00:00:00\",\"2022-05-13T00:00:00\",\"2022-05-16T00:00:00\",\"2022-05-17T00:00:00\",\"2022-05-18T00:00:00\",\"2022-05-19T00:00:00\",\"2022-05-20T00:00:00\",\"2022-05-23T00:00:00\",\"2022-05-24T00:00:00\",\"2022-05-25T00:00:00\",\"2022-05-26T00:00:00\",\"2022-05-27T00:00:00\",\"2022-05-31T00:00:00\",\"2022-06-01T00:00:00\",\"2022-06-02T00:00:00\",\"2022-06-03T00:00:00\",\"2022-06-06T00:00:00\",\"2022-06-07T00:00:00\",\"2022-06-08T00:00:00\",\"2022-06-09T00:00:00\",\"2022-06-10T00:00:00\",\"2022-06-13T00:00:00\",\"2022-06-14T00:00:00\",\"2022-06-15T00:00:00\",\"2022-06-16T00:00:00\",\"2022-06-17T00:00:00\",\"2022-06-21T00:00:00\",\"2022-06-22T00:00:00\",\"2022-06-23T00:00:00\",\"2022-06-24T00:00:00\",\"2022-06-27T00:00:00\",\"2022-06-28T00:00:00\",\"2022-06-29T00:00:00\",\"2022-06-30T00:00:00\",\"2022-07-01T00:00:00\",\"2022-07-05T00:00:00\",\"2022-07-06T00:00:00\",\"2022-07-07T00:00:00\",\"2022-07-08T00:00:00\",\"2022-07-11T00:00:00\",\"2022-07-12T00:00:00\",\"2022-07-13T00:00:00\",\"2022-07-14T00:00:00\",\"2022-07-15T00:00:00\",\"2022-07-18T00:00:00\",\"2022-07-19T00:00:00\",\"2022-07-20T00:00:00\",\"2022-07-21T00:00:00\",\"2022-07-22T00:00:00\",\"2022-07-25T00:00:00\",\"2022-07-26T00:00:00\",\"2022-07-27T00:00:00\",\"2022-07-28T00:00:00\",\"2022-07-29T00:00:00\",\"2022-08-01T00:00:00\",\"2022-08-02T00:00:00\",\"2022-08-03T00:00:00\",\"2022-08-04T00:00:00\",\"2022-08-05T00:00:00\",\"2022-08-08T00:00:00\",\"2022-08-09T00:00:00\",\"2022-08-10T00:00:00\",\"2022-08-11T00:00:00\",\"2022-08-12T00:00:00\",\"2022-08-15T00:00:00\",\"2022-08-16T00:00:00\",\"2022-08-17T00:00:00\",\"2022-08-18T00:00:00\",\"2022-08-19T00:00:00\",\"2022-08-22T00:00:00\",\"2022-08-23T00:00:00\",\"2022-08-24T00:00:00\",\"2022-08-25T00:00:00\",\"2022-08-26T00:00:00\"],\"xaxis\":\"x\",\"y\":[4.0,4.0,4.0,4.0,16.0,16.0,16.0,16.0,16.0,39.0,39.0,39.0,39.0,39.0,77.0,77.0,77.0,77.0,77.0,100.0,100.0,100.0,100.0,100.0,94.0,94.0,94.0,94.0,94.0,95.0,95.0,95.0,95.0,95.0,87.0,87.0,87.0,87.0,68.0,68.0,68.0,68.0,68.0,53.0,53.0,53.0,53.0,53.0,45.0,45.0,45.0,45.0,45.0,44.0,44.0,44.0,44.0,44.0,36.0,36.0,36.0,36.0,36.0,31.0,31.0,31.0,31.0,31.0,31.0,31.0,31.0,31.0,17.0,17.0,17.0,17.0,17.0,16.0,16.0,16.0,16.0,16.0,16.0,16.0,16.0,16.0,16.0,19.0,19.0,19.0,19.0,19.0,21.0,21.0,21.0,21.0,22.0,22.0,22.0,22.0,22.0,23.0,23.0,23.0,23.0,23.0,17.0,17.0,17.0,17.0,17.0,15.0,15.0,15.0,15.0,15.0,14.0,14.0,14.0,14.0,14.0,12.0,12.0,12.0,12.0,12.0,9.0,9.0,9.0,9.0,9.0,7.0,7.0,7.0,7.0,7.0,10.0,10.0,10.0,10.0,10.0,7.0,7.0,7.0,7.0,7.0,7.0,7.0,7.0,7.0,7.0,7.0,7.0,7.0,7.0,6.0,6.0,6.0,6.0,6.0,6.0,6.0,6.0,6.0,6.0,6.0,6.0,6.0,6.0,6.0,6.0,6.0,6.0,6.0,6.0,6.0,6.0,6.0,6.0,6.0,5.0,5.0,5.0,5.0,5.0,6.0,6.0,6.0,6.0,6.0,7.0,7.0,7.0,7.0,7.0,7.0,7.0,7.0,7.0,8.0,8.0,8.0,8.0,8.0,6.0,6.0,6.0,6.0,6.0,6.0,6.0,6.0,6.0,6.0,5.0,5.0,5.0,5.0,5.0,5.0,5.0,5.0,5.0,5.0,5.0,5.0,5.0,5.0,5.0,5.0,5.0,5.0,4.0,4.0,4.0,4.0,4.0,4.0,4.0,4.0,4.0,3.0,3.0,3.0,3.0,3.0,3.0,3.0,3.0,3.0,3.0,3.0,3.0,3.0,3.0,3.0,3.0,3.0,3.0,3.0,3.0,3.0,3.0,3.0,3.0,3.0,3.0,3.0,3.0,3.0,2.0,2.0,2.0,2.0,2.0,2.0,2.0,2.0,2.0,2.0,2.0,2.0,2.0,2.0,2.0,2.0,2.0,2.0,2.0,2.0,2.0,2.0,2.0,2.0,2.0,2.0,2.0,2.0,2.0,2.0,2.0,2.0,2.0,2.0,2.0,2.0,2.0,2.0,2.0,2.0,2.0,2.0,2.0,2.0,2.0,2.0,2.0,2.0,2.0,2.0,2.0,2.0,2.0,2.0,2.0,2.0,2.0,2.0,1.0,1.0,1.0,1.0,1.0,1.0,1.0,1.0,1.0,1.0,1.0,1.0,1.0,1.0,1.0,1.0,1.0,1.0,1.0,1.0,1.0,1.0,1.0,1.0,1.0,1.0,1.0,1.0,1.0,2.0,2.0,2.0,2.0,2.0,2.0,2.0,2.0,2.0,2.0,2.0,2.0,2.0,2.0,2.0,2.0,2.0,2.0,2.0,2.0,2.0,2.0,2.0,2.0,2.0,2.0,2.0,2.0,2.0,2.0,2.0,2.0,2.0,2.0,2.0,2.0,2.0,2.0,2.0,2.0,2.0,2.0,2.0,2.0,2.0,2.0,2.0,2.0,2.0,1.0,1.0,1.0,1.0,1.0,1.0,1.0,1.0,1.0,1.0,1.0,1.0,1.0,1.0,1.0,1.0,1.0,1.0,1.0,1.0,1.0,1.0,1.0,1.0,1.0,1.0,1.0,1.0,1.0,1.0,1.0,1.0,1.0,1.0,1.0,1.0,1.0,1.0,1.0,1.0,1.0,1.0,1.0,1.0,1.0,1.0,1.0,1.0,1.0,1.0,1.0,1.0,1.0,1.0,1.0,1.0,1.0,1.0,1.0,2.0,2.0,2.0,2.0,1.0,1.0,1.0,1.0,1.0,2.0,2.0,2.0,2.0,2.0,1.0,1.0,1.0,1.0,1.0,1.0,1.0,1.0,1.0,1.0,1.0,1.0,1.0,1.0,1.0,1.0,1.0,1.0,1.0,1.0,1.0,1.0,1.0,1.0,1.0,1.0,1.0,1.0,1.0,1.0,1.0,1.0,1.0,1.0,1.0,1.0,1.0,1.0,1.0,1.0,1.0,1.0,1.0,1.0,1.0,1.0,1.0,1.0,1.0,1.0,1.0,1.0,1.0,1.0,1.0,1.0,1.0,1.0,1.0,1.0,1.0,1.0,1.0,0.0,0.0,0.0,0.0,0.0,0.0,0.0,0.0,0.0,0.0,0.0,0.0,0.0,0.0,0.0,0.0,0.0,0.0,0.0,0.0,0.0,0.0,0.0,0.0,0.0,0.0,0.0,0.0,0.0,0.0,0.0,0.0,0.0,0.0,0.0,0.0,0.0,0.0,0.0,0.0,0.0,0.0,0.0,0.0,0.0,0.0,0.0,0.0,0.0,0.0,0.0,0.0,0.0,0.0,0.0,0.0,0.0,0.0,0.0,0.0,0.0,0.0,0.0,0.0,0.0,0.0,0.0,0.0,0.0,0.0,0.0,0.0,0.0,0.0,0.0,0.0,0.0,0.0,0.0,0.0,0.0,0.0,0.0,0.0,0.0,0.0,0.0,0.0,0.0,0.0,0.0,0.0,0.0,0.0,0.0,0.0],\"yaxis\":\"y\",\"type\":\"scatter\"}],                        {\"template\":{\"data\":{\"barpolar\":[{\"marker\":{\"line\":{\"color\":\"rgb(17,17,17)\",\"width\":0.5},\"pattern\":{\"fillmode\":\"overlay\",\"size\":10,\"solidity\":0.2}},\"type\":\"barpolar\"}],\"bar\":[{\"error_x\":{\"color\":\"#f2f5fa\"},\"error_y\":{\"color\":\"#f2f5fa\"},\"marker\":{\"line\":{\"color\":\"rgb(17,17,17)\",\"width\":0.5},\"pattern\":{\"fillmode\":\"overlay\",\"size\":10,\"solidity\":0.2}},\"type\":\"bar\"}],\"carpet\":[{\"aaxis\":{\"endlinecolor\":\"#A2B1C6\",\"gridcolor\":\"#506784\",\"linecolor\":\"#506784\",\"minorgridcolor\":\"#506784\",\"startlinecolor\":\"#A2B1C6\"},\"baxis\":{\"endlinecolor\":\"#A2B1C6\",\"gridcolor\":\"#506784\",\"linecolor\":\"#506784\",\"minorgridcolor\":\"#506784\",\"startlinecolor\":\"#A2B1C6\"},\"type\":\"carpet\"}],\"choropleth\":[{\"colorbar\":{\"outlinewidth\":0,\"ticks\":\"\"},\"type\":\"choropleth\"}],\"contourcarpet\":[{\"colorbar\":{\"outlinewidth\":0,\"ticks\":\"\"},\"type\":\"contourcarpet\"}],\"contour\":[{\"colorbar\":{\"outlinewidth\":0,\"ticks\":\"\"},\"colorscale\":[[0.0,\"#0d0887\"],[0.1111111111111111,\"#46039f\"],[0.2222222222222222,\"#7201a8\"],[0.3333333333333333,\"#9c179e\"],[0.4444444444444444,\"#bd3786\"],[0.5555555555555556,\"#d8576b\"],[0.6666666666666666,\"#ed7953\"],[0.7777777777777778,\"#fb9f3a\"],[0.8888888888888888,\"#fdca26\"],[1.0,\"#f0f921\"]],\"type\":\"contour\"}],\"heatmapgl\":[{\"colorbar\":{\"outlinewidth\":0,\"ticks\":\"\"},\"colorscale\":[[0.0,\"#0d0887\"],[0.1111111111111111,\"#46039f\"],[0.2222222222222222,\"#7201a8\"],[0.3333333333333333,\"#9c179e\"],[0.4444444444444444,\"#bd3786\"],[0.5555555555555556,\"#d8576b\"],[0.6666666666666666,\"#ed7953\"],[0.7777777777777778,\"#fb9f3a\"],[0.8888888888888888,\"#fdca26\"],[1.0,\"#f0f921\"]],\"type\":\"heatmapgl\"}],\"heatmap\":[{\"colorbar\":{\"outlinewidth\":0,\"ticks\":\"\"},\"colorscale\":[[0.0,\"#0d0887\"],[0.1111111111111111,\"#46039f\"],[0.2222222222222222,\"#7201a8\"],[0.3333333333333333,\"#9c179e\"],[0.4444444444444444,\"#bd3786\"],[0.5555555555555556,\"#d8576b\"],[0.6666666666666666,\"#ed7953\"],[0.7777777777777778,\"#fb9f3a\"],[0.8888888888888888,\"#fdca26\"],[1.0,\"#f0f921\"]],\"type\":\"heatmap\"}],\"histogram2dcontour\":[{\"colorbar\":{\"outlinewidth\":0,\"ticks\":\"\"},\"colorscale\":[[0.0,\"#0d0887\"],[0.1111111111111111,\"#46039f\"],[0.2222222222222222,\"#7201a8\"],[0.3333333333333333,\"#9c179e\"],[0.4444444444444444,\"#bd3786\"],[0.5555555555555556,\"#d8576b\"],[0.6666666666666666,\"#ed7953\"],[0.7777777777777778,\"#fb9f3a\"],[0.8888888888888888,\"#fdca26\"],[1.0,\"#f0f921\"]],\"type\":\"histogram2dcontour\"}],\"histogram2d\":[{\"colorbar\":{\"outlinewidth\":0,\"ticks\":\"\"},\"colorscale\":[[0.0,\"#0d0887\"],[0.1111111111111111,\"#46039f\"],[0.2222222222222222,\"#7201a8\"],[0.3333333333333333,\"#9c179e\"],[0.4444444444444444,\"#bd3786\"],[0.5555555555555556,\"#d8576b\"],[0.6666666666666666,\"#ed7953\"],[0.7777777777777778,\"#fb9f3a\"],[0.8888888888888888,\"#fdca26\"],[1.0,\"#f0f921\"]],\"type\":\"histogram2d\"}],\"histogram\":[{\"marker\":{\"pattern\":{\"fillmode\":\"overlay\",\"size\":10,\"solidity\":0.2}},\"type\":\"histogram\"}],\"mesh3d\":[{\"colorbar\":{\"outlinewidth\":0,\"ticks\":\"\"},\"type\":\"mesh3d\"}],\"parcoords\":[{\"line\":{\"colorbar\":{\"outlinewidth\":0,\"ticks\":\"\"}},\"type\":\"parcoords\"}],\"pie\":[{\"automargin\":true,\"type\":\"pie\"}],\"scatter3d\":[{\"line\":{\"colorbar\":{\"outlinewidth\":0,\"ticks\":\"\"}},\"marker\":{\"colorbar\":{\"outlinewidth\":0,\"ticks\":\"\"}},\"type\":\"scatter3d\"}],\"scattercarpet\":[{\"marker\":{\"colorbar\":{\"outlinewidth\":0,\"ticks\":\"\"}},\"type\":\"scattercarpet\"}],\"scattergeo\":[{\"marker\":{\"colorbar\":{\"outlinewidth\":0,\"ticks\":\"\"}},\"type\":\"scattergeo\"}],\"scattergl\":[{\"marker\":{\"line\":{\"color\":\"#283442\"}},\"type\":\"scattergl\"}],\"scattermapbox\":[{\"marker\":{\"colorbar\":{\"outlinewidth\":0,\"ticks\":\"\"}},\"type\":\"scattermapbox\"}],\"scatterpolargl\":[{\"marker\":{\"colorbar\":{\"outlinewidth\":0,\"ticks\":\"\"}},\"type\":\"scatterpolargl\"}],\"scatterpolar\":[{\"marker\":{\"colorbar\":{\"outlinewidth\":0,\"ticks\":\"\"}},\"type\":\"scatterpolar\"}],\"scatter\":[{\"marker\":{\"line\":{\"color\":\"#283442\"}},\"type\":\"scatter\"}],\"scatterternary\":[{\"marker\":{\"colorbar\":{\"outlinewidth\":0,\"ticks\":\"\"}},\"type\":\"scatterternary\"}],\"surface\":[{\"colorbar\":{\"outlinewidth\":0,\"ticks\":\"\"},\"colorscale\":[[0.0,\"#0d0887\"],[0.1111111111111111,\"#46039f\"],[0.2222222222222222,\"#7201a8\"],[0.3333333333333333,\"#9c179e\"],[0.4444444444444444,\"#bd3786\"],[0.5555555555555556,\"#d8576b\"],[0.6666666666666666,\"#ed7953\"],[0.7777777777777778,\"#fb9f3a\"],[0.8888888888888888,\"#fdca26\"],[1.0,\"#f0f921\"]],\"type\":\"surface\"}],\"table\":[{\"cells\":{\"fill\":{\"color\":\"#506784\"},\"line\":{\"color\":\"rgb(17,17,17)\"}},\"header\":{\"fill\":{\"color\":\"#2a3f5f\"},\"line\":{\"color\":\"rgb(17,17,17)\"}},\"type\":\"table\"}]},\"layout\":{\"annotationdefaults\":{\"arrowcolor\":\"#f2f5fa\",\"arrowhead\":0,\"arrowwidth\":1},\"autotypenumbers\":\"strict\",\"coloraxis\":{\"colorbar\":{\"outlinewidth\":0,\"ticks\":\"\"}},\"colorscale\":{\"diverging\":[[0,\"#8e0152\"],[0.1,\"#c51b7d\"],[0.2,\"#de77ae\"],[0.3,\"#f1b6da\"],[0.4,\"#fde0ef\"],[0.5,\"#f7f7f7\"],[0.6,\"#e6f5d0\"],[0.7,\"#b8e186\"],[0.8,\"#7fbc41\"],[0.9,\"#4d9221\"],[1,\"#276419\"]],\"sequential\":[[0.0,\"#0d0887\"],[0.1111111111111111,\"#46039f\"],[0.2222222222222222,\"#7201a8\"],[0.3333333333333333,\"#9c179e\"],[0.4444444444444444,\"#bd3786\"],[0.5555555555555556,\"#d8576b\"],[0.6666666666666666,\"#ed7953\"],[0.7777777777777778,\"#fb9f3a\"],[0.8888888888888888,\"#fdca26\"],[1.0,\"#f0f921\"]],\"sequentialminus\":[[0.0,\"#0d0887\"],[0.1111111111111111,\"#46039f\"],[0.2222222222222222,\"#7201a8\"],[0.3333333333333333,\"#9c179e\"],[0.4444444444444444,\"#bd3786\"],[0.5555555555555556,\"#d8576b\"],[0.6666666666666666,\"#ed7953\"],[0.7777777777777778,\"#fb9f3a\"],[0.8888888888888888,\"#fdca26\"],[1.0,\"#f0f921\"]]},\"colorway\":[\"#636efa\",\"#EF553B\",\"#00cc96\",\"#ab63fa\",\"#FFA15A\",\"#19d3f3\",\"#FF6692\",\"#B6E880\",\"#FF97FF\",\"#FECB52\"],\"font\":{\"color\":\"#f2f5fa\"},\"geo\":{\"bgcolor\":\"rgb(17,17,17)\",\"lakecolor\":\"rgb(17,17,17)\",\"landcolor\":\"rgb(17,17,17)\",\"showlakes\":true,\"showland\":true,\"subunitcolor\":\"#506784\"},\"hoverlabel\":{\"align\":\"left\"},\"hovermode\":\"closest\",\"mapbox\":{\"style\":\"dark\"},\"paper_bgcolor\":\"rgb(17,17,17)\",\"plot_bgcolor\":\"rgb(17,17,17)\",\"polar\":{\"angularaxis\":{\"gridcolor\":\"#506784\",\"linecolor\":\"#506784\",\"ticks\":\"\"},\"bgcolor\":\"rgb(17,17,17)\",\"radialaxis\":{\"gridcolor\":\"#506784\",\"linecolor\":\"#506784\",\"ticks\":\"\"}},\"scene\":{\"xaxis\":{\"backgroundcolor\":\"rgb(17,17,17)\",\"gridcolor\":\"#506784\",\"gridwidth\":2,\"linecolor\":\"#506784\",\"showbackground\":true,\"ticks\":\"\",\"zerolinecolor\":\"#C8D4E3\"},\"yaxis\":{\"backgroundcolor\":\"rgb(17,17,17)\",\"gridcolor\":\"#506784\",\"gridwidth\":2,\"linecolor\":\"#506784\",\"showbackground\":true,\"ticks\":\"\",\"zerolinecolor\":\"#C8D4E3\"},\"zaxis\":{\"backgroundcolor\":\"rgb(17,17,17)\",\"gridcolor\":\"#506784\",\"gridwidth\":2,\"linecolor\":\"#506784\",\"showbackground\":true,\"ticks\":\"\",\"zerolinecolor\":\"#C8D4E3\"}},\"shapedefaults\":{\"line\":{\"color\":\"#f2f5fa\"}},\"sliderdefaults\":{\"bgcolor\":\"#C8D4E3\",\"bordercolor\":\"rgb(17,17,17)\",\"borderwidth\":1,\"tickwidth\":0},\"ternary\":{\"aaxis\":{\"gridcolor\":\"#506784\",\"linecolor\":\"#506784\",\"ticks\":\"\"},\"baxis\":{\"gridcolor\":\"#506784\",\"linecolor\":\"#506784\",\"ticks\":\"\"},\"bgcolor\":\"rgb(17,17,17)\",\"caxis\":{\"gridcolor\":\"#506784\",\"linecolor\":\"#506784\",\"ticks\":\"\"}},\"title\":{\"x\":0.05},\"updatemenudefaults\":{\"bgcolor\":\"#506784\",\"borderwidth\":0},\"xaxis\":{\"automargin\":true,\"gridcolor\":\"#283442\",\"linecolor\":\"#506784\",\"ticks\":\"\",\"title\":{\"standoff\":15},\"zerolinecolor\":\"#283442\",\"zerolinewidth\":2},\"yaxis\":{\"automargin\":true,\"gridcolor\":\"#283442\",\"linecolor\":\"#506784\",\"ticks\":\"\",\"title\":{\"standoff\":15},\"zerolinecolor\":\"#283442\",\"zerolinewidth\":2}}},\"xaxis\":{\"anchor\":\"y\",\"domain\":[0.0,1.0],\"title\":{\"text\":\"date\"},\"showgrid\":true,\"gridwidth\":1,\"gridcolor\":\"red\"},\"yaxis\":{\"anchor\":\"x\",\"domain\":[0.0,1.0],\"title\":{\"text\":\"Value\"},\"showgrid\":true,\"gridwidth\":1,\"gridcolor\":\"red\"},\"legend\":{\"title\":{\"text\":\"variable\"},\"tracegroupgap\":0},\"title\":{\"text\":\"Coronavirus deaths google trend\",\"font\":{\"size\":24}},\"plot_bgcolor\":\"black\"},                        {\"responsive\": true}                    ).then(function(){\n",
       "                            \n",
       "var gd = document.getElementById('46dc1c31-d2e5-4e9b-a00f-47bf994a3d4d');\n",
       "var x = new MutationObserver(function (mutations, observer) {{\n",
       "        var display = window.getComputedStyle(gd).display;\n",
       "        if (!display || display === 'none') {{\n",
       "            console.log([gd, 'removed!']);\n",
       "            Plotly.purge(gd);\n",
       "            observer.disconnect();\n",
       "        }}\n",
       "}});\n",
       "\n",
       "// Listen for the removal of the full notebook cells\n",
       "var notebookContainer = gd.closest('#notebook-container');\n",
       "if (notebookContainer) {{\n",
       "    x.observe(notebookContainer, {childList: true});\n",
       "}}\n",
       "\n",
       "// Listen for the clearing of the current output cell\n",
       "var outputEl = gd.closest('.output');\n",
       "if (outputEl) {{\n",
       "    x.observe(outputEl, {childList: true});\n",
       "}}\n",
       "\n",
       "                        })                };                });            </script>        </div>"
      ]
     },
     "metadata": {},
     "output_type": "display_data"
    }
   ],
   "source": [
    "# fig = px.line(sp, x='ts', y='prices', labels={'ts': 'Время', 'prices': 'Цена'}, title='График цены токена LIDO DAO')\n",
    "fig = px.area(gt,labels={'ts': 'Время', 'prices': 'Цена'}, title='Coronavirus deaths google trend',template = 'plotly_dark')\n",
    "fig.update_traces(line=dict(color='cyan', width=2))  # Изменить цвет и толщину линии\n",
    "fig.update_layout(plot_bgcolor='black', title_font=dict(size=24))  # Изменить цвет фона и размер заголовка\n",
    "fig.update_xaxes(showgrid=True, gridwidth=1, gridcolor='red')  # Добавить сетку на оси x\n",
    "fig.update_yaxes(showgrid=True, gridwidth=1, gridcolor='red',title = \"Value\")  # Добавить сетку на оси y\n",
    "fig.show()\n",
    "\n",
    "\n",
    "\n"
   ]
  },
  {
   "cell_type": "code",
   "execution_count": 348,
   "id": "f12c18c5",
   "metadata": {},
   "outputs": [
    {
     "name": "stdout",
     "output_type": "stream",
     "text": [
      "[45.82162269  3.48397746 34.68333435 43.79833412 46.63499832 48.22999954\n",
      " 53.29000092]\n",
      "[2.47135669e+07 1.33828449e+07 8.77740000e+06 1.71027750e+07\n",
      " 2.07712500e+07 2.80941000e+07 1.32940200e+08]\n",
      "[0.01835735 0.01151538 0.00520868 0.01161204 0.01556757 0.02157848\n",
      " 0.1120802 ]\n",
      "[0.05961238 0.02643957 0.04276573 0.04543277 0.05065339 0.06409335\n",
      " 0.36891744]\n",
      "[3.96367571e-03 3.16131376e-03 2.02101383e-05 1.63186059e-03\n",
      " 3.34949698e-03 5.58522128e-03 3.68917443e-01]\n"
     ]
    },
    {
     "data": {
      "text/plain": [
       "array([  4.90076336,  14.65551245,   0.        ,   0.        ,\n",
       "         0.        ,   2.        , 100.        ])"
      ]
     },
     "execution_count": 348,
     "metadata": {},
     "output_type": "execute_result"
    }
   ],
   "source": [
    "price = np.array([\n",
    "                  wmt_df[\"Close\"].mean(),\n",
    "                  wmt_df[\"Close\"].std(),\n",
    "                  wmt_df[\"Close\"].min(),\n",
    "                  wmt_df[\"Close\"].quantile(0.25),\n",
    "                  wmt_df[\"Close\"].quantile(0.5),\n",
    "                  wmt_df[\"Close\"].quantile(0.75),\n",
    "                  wmt_df[\"Close\"].max()\n",
    " ])\n",
    "volume = np.array([\n",
    "                  wmt_df[\"Volume\"].mean(),\n",
    "                  wmt_df[\"Volume\"].std(),\n",
    "                  wmt_df[\"Volume\"].min(),\n",
    "                  wmt_df[\"Volume\"].quantile(0.25),\n",
    "                  wmt_df[\"Volume\"].quantile(0.5),\n",
    "                  wmt_df[\"Volume\"].quantile(0.75),\n",
    "                  wmt_df[\"Volume\"].max()\n",
    " ])\n",
    "Volt = np.array([\n",
    "                  wmt_df[\"Volt\"].mean(),\n",
    "                  wmt_df[\"Volt\"].std(),\n",
    "                  wmt_df[\"Volt\"].min(),\n",
    "                  wmt_df[\"Volt\"].quantile(0.25),\n",
    "                  wmt_df[\"Volt\"].quantile(0.5),\n",
    "                  wmt_df[\"Volt\"].quantile(0.75),\n",
    "                  wmt_df[\"Volt\"].max()\n",
    " ])\n",
    "vol = np.array([conditional_volatility])\n",
    "Gvolt= np.array([\n",
    "                  vol.mean(),\n",
    "                  vol.std(),\n",
    "                  vol.min(),\n",
    "                  np.quantile(vol,0.25),\n",
    "                  np.quantile(vol,0.5),\n",
    "                  np.quantile(vol,0.75),\n",
    "                  vol.max()\n",
    " ])\n",
    "illq= np.array([\n",
    "                  wmt_df[\"illq\"].mean(),\n",
    "                  wmt_df[\"illq\"].std(),\n",
    "                  wmt_df[\"illq\"].min(),\n",
    "                  wmt_df[\"illq\"].quantile(0.25),\n",
    "                  wmt_df[\"illq\"].quantile(0.5),\n",
    "                  wmt_df[\"illq\"].quantile(0.75),\n",
    "                  wmt_df['illq'].max()\n",
    " ])\n",
    "\n",
    "print(price,volume,Volt,Gvolt,illq,sep=\"\\n\")\n",
    "########################################\n",
    "price,volume,Volt,Gvolt,illq\n",
    "sp500\n",
    "cases,\n",
    "deaths\n",
    "string\n",
    "gtrends"
   ]
  },
  {
   "cell_type": "code",
   "execution_count": 344,
   "id": "352162ce",
   "metadata": {},
   "outputs": [],
   "source": [
    "gtrends= np.array([\n",
    "                  gtrend.mean(),\n",
    "                  gtrend.std(),\n",
    "                  gtrend.min(),\n",
    "                  np.quantile(gtrend,0.25),\n",
    "                  np.quantile(gtrend,0.5),\n",
    "                  np.quantile(gtrend,0.75),\n",
    "                  gtrend.max()\n",
    " ])"
   ]
  },
  {
   "cell_type": "code",
   "execution_count": 355,
   "id": "7ebd79fa",
   "metadata": {},
   "outputs": [
    {
     "data": {
      "text/plain": [
       "array([ -46.69749216,   42.80514457, -183.        ,  -73.        ,\n",
       "        -39.        ,  -15.        ,   45.        ])"
      ]
     },
     "execution_count": 355,
     "metadata": {},
     "output_type": "execute_result"
    }
   ],
   "source": [
    "mobilities= np.array([\n",
    "                  mobil['sum'].mean(),\n",
    "                  mobil['sum'].std(),\n",
    "                  mobil['sum'].min(),\n",
    "                  mobil['sum'].quantile(0.25),\n",
    "                  mobil['sum'].quantile(0.5),\n",
    "                  mobil['sum'].quantile(0.75),\n",
    "                  mobil['sum'].max()\n",
    " ])\n",
    "mobilities\n"
   ]
  },
  {
   "cell_type": "code",
   "execution_count": 372,
   "id": "bd04337f",
   "metadata": {},
   "outputs": [],
   "source": [
    "zoom= np.array([\n",
    "                  zm['Zoom'].mean(),\n",
    "                  zm['Zoom'].std(),\n",
    "                  zm['Zoom'].min(),\n",
    "                  zm['Zoom'].quantile(0.25),\n",
    "                  zm['Zoom'].quantile(0.5),\n",
    "                  zm['Zoom'].quantile(0.75),\n",
    "                  zm['Zoom'].max()\n",
    " ])\n",
    "names = np.array(['mean','std','min','25th percentile','mediana','75th percentile','max'])"
   ]
  },
  {
   "cell_type": "code",
   "execution_count": 386,
   "id": "915e0204",
   "metadata": {},
   "outputs": [
    {
     "data": {
      "text/html": [
       "<div>\n",
       "<style scoped>\n",
       "    .dataframe tbody tr th:only-of-type {\n",
       "        vertical-align: middle;\n",
       "    }\n",
       "\n",
       "    .dataframe tbody tr th {\n",
       "        vertical-align: top;\n",
       "    }\n",
       "\n",
       "    .dataframe thead th {\n",
       "        text-align: right;\n",
       "    }\n",
       "</style>\n",
       "<table border=\"1\" class=\"dataframe\">\n",
       "  <thead>\n",
       "    <tr style=\"text-align: right;\">\n",
       "      <th></th>\n",
       "      <th>mean</th>\n",
       "      <th>std</th>\n",
       "      <th>min</th>\n",
       "      <th>25th percentile</th>\n",
       "      <th>mediana</th>\n",
       "      <th>75th percentile</th>\n",
       "      <th>max</th>\n",
       "    </tr>\n",
       "  </thead>\n",
       "  <tbody>\n",
       "    <tr>\n",
       "      <th>Walmart</th>\n",
       "      <td>45.82</td>\n",
       "      <td>3.48</td>\n",
       "      <td>34.68</td>\n",
       "      <td>43.80</td>\n",
       "      <td>46.63</td>\n",
       "      <td>48.23</td>\n",
       "      <td>5.329000e+01</td>\n",
       "    </tr>\n",
       "    <tr>\n",
       "      <th>Volume</th>\n",
       "      <td>24713566.91</td>\n",
       "      <td>13382844.87</td>\n",
       "      <td>8777400.00</td>\n",
       "      <td>17102775.00</td>\n",
       "      <td>20771250.00</td>\n",
       "      <td>28094100.00</td>\n",
       "      <td>1.329402e+08</td>\n",
       "    </tr>\n",
       "    <tr>\n",
       "      <th>Volt</th>\n",
       "      <td>0.02</td>\n",
       "      <td>0.01</td>\n",
       "      <td>0.01</td>\n",
       "      <td>0.01</td>\n",
       "      <td>0.02</td>\n",
       "      <td>0.02</td>\n",
       "      <td>1.100000e-01</td>\n",
       "    </tr>\n",
       "    <tr>\n",
       "      <th>Gvolt</th>\n",
       "      <td>0.06</td>\n",
       "      <td>0.03</td>\n",
       "      <td>0.04</td>\n",
       "      <td>0.05</td>\n",
       "      <td>0.05</td>\n",
       "      <td>0.06</td>\n",
       "      <td>3.700000e-01</td>\n",
       "    </tr>\n",
       "    <tr>\n",
       "      <th>Illiq</th>\n",
       "      <td>0.00</td>\n",
       "      <td>0.00</td>\n",
       "      <td>0.00</td>\n",
       "      <td>0.00</td>\n",
       "      <td>0.00</td>\n",
       "      <td>0.01</td>\n",
       "      <td>3.700000e-01</td>\n",
       "    </tr>\n",
       "    <tr>\n",
       "      <th>S&amp;P 500</th>\n",
       "      <td>0.00</td>\n",
       "      <td>0.02</td>\n",
       "      <td>-0.12</td>\n",
       "      <td>-0.01</td>\n",
       "      <td>0.00</td>\n",
       "      <td>0.01</td>\n",
       "      <td>9.000000e-02</td>\n",
       "    </tr>\n",
       "    <tr>\n",
       "      <th>Cases</th>\n",
       "      <td>597831.55</td>\n",
       "      <td>776321.67</td>\n",
       "      <td>0.00</td>\n",
       "      <td>222579.00</td>\n",
       "      <td>387634.00</td>\n",
       "      <td>709637.00</td>\n",
       "      <td>5.650933e+06</td>\n",
       "    </tr>\n",
       "    <tr>\n",
       "      <th>Deaths</th>\n",
       "      <td>6507.36</td>\n",
       "      <td>5505.61</td>\n",
       "      <td>0.00</td>\n",
       "      <td>2560.00</td>\n",
       "      <td>4493.00</td>\n",
       "      <td>9065.00</td>\n",
       "      <td>2.331200e+04</td>\n",
       "    </tr>\n",
       "    <tr>\n",
       "      <th>Stringency</th>\n",
       "      <td>38.96</td>\n",
       "      <td>19.70</td>\n",
       "      <td>0.00</td>\n",
       "      <td>22.84</td>\n",
       "      <td>31.69</td>\n",
       "      <td>55.09</td>\n",
       "      <td>9.352000e+01</td>\n",
       "    </tr>\n",
       "    <tr>\n",
       "      <th>GTrends</th>\n",
       "      <td>4.90</td>\n",
       "      <td>14.66</td>\n",
       "      <td>0.00</td>\n",
       "      <td>0.00</td>\n",
       "      <td>0.00</td>\n",
       "      <td>2.00</td>\n",
       "      <td>1.000000e+02</td>\n",
       "    </tr>\n",
       "    <tr>\n",
       "      <th>Mobilities</th>\n",
       "      <td>-46.70</td>\n",
       "      <td>42.81</td>\n",
       "      <td>-183.00</td>\n",
       "      <td>-73.00</td>\n",
       "      <td>-39.00</td>\n",
       "      <td>-15.00</td>\n",
       "      <td>4.500000e+01</td>\n",
       "    </tr>\n",
       "  </tbody>\n",
       "</table>\n",
       "</div>"
      ],
      "text/plain": [
       "                   mean          std         min  25th percentile  \\\n",
       "Walmart           45.82         3.48       34.68            43.80   \n",
       "Volume      24713566.91  13382844.87  8777400.00      17102775.00   \n",
       "Volt               0.02         0.01        0.01             0.01   \n",
       "Gvolt              0.06         0.03        0.04             0.05   \n",
       "Illiq              0.00         0.00        0.00             0.00   \n",
       "S&P 500            0.00         0.02       -0.12            -0.01   \n",
       "Cases         597831.55    776321.67        0.00        222579.00   \n",
       "Deaths          6507.36      5505.61        0.00          2560.00   \n",
       "Stringency        38.96        19.70        0.00            22.84   \n",
       "GTrends            4.90        14.66        0.00             0.00   \n",
       "Mobilities       -46.70        42.81     -183.00           -73.00   \n",
       "\n",
       "                mediana  75th percentile           max  \n",
       "Walmart           46.63            48.23  5.329000e+01  \n",
       "Volume      20771250.00      28094100.00  1.329402e+08  \n",
       "Volt               0.02             0.02  1.100000e-01  \n",
       "Gvolt              0.05             0.06  3.700000e-01  \n",
       "Illiq              0.00             0.01  3.700000e-01  \n",
       "S&P 500            0.00             0.01  9.000000e-02  \n",
       "Cases         387634.00        709637.00  5.650933e+06  \n",
       "Deaths          4493.00          9065.00  2.331200e+04  \n",
       "Stringency        31.69            55.09  9.352000e+01  \n",
       "GTrends            0.00             2.00  1.000000e+02  \n",
       "Mobilities       -39.00           -15.00  4.500000e+01  "
      ]
     },
     "execution_count": 386,
     "metadata": {},
     "output_type": "execute_result"
    }
   ],
   "source": [
    "data3 = pd.DataFrame({\"Walmart\":price,\"Volume\":volume,\"Volt\":Volt,\"Gvolt\":Gvolt,\"Illiq\":illq,\n",
    "                    \"S&P 500\":sp500,\"Cases\":cases,\"Deaths\":deaths,\"Stringency\":string,\"GTrends\":gtrends,\n",
    "                    \"Mobilities\":mobilities},index = names)\n",
    "data3 = data3.round(2)\n",
    "data3.T"
   ]
  },
  {
   "cell_type": "code",
   "execution_count": null,
   "id": "b8b3657e",
   "metadata": {},
   "outputs": [],
   "source": []
  }
 ],
 "metadata": {
  "kernelspec": {
   "display_name": "Python 3 (ipykernel)",
   "language": "python",
   "name": "python3"
  },
  "language_info": {
   "codemirror_mode": {
    "name": "ipython",
    "version": 3
   },
   "file_extension": ".py",
   "mimetype": "text/x-python",
   "name": "python",
   "nbconvert_exporter": "python",
   "pygments_lexer": "ipython3",
   "version": "3.11.4"
  }
 },
 "nbformat": 4,
 "nbformat_minor": 5
}
